{
 "cells": [
  {
   "cell_type": "code",
   "execution_count": 1,
   "id": "cd4366a9",
   "metadata": {
    "_cell_guid": "b1076dfc-b9ad-4769-8c92-a6c4dae69d19",
    "_uuid": "8f2839f25d086af736a60e9eeb907d3b93b6e0e5",
    "execution": {
     "iopub.execute_input": "2024-09-11T09:10:33.479866Z",
     "iopub.status.busy": "2024-09-11T09:10:33.479399Z",
     "iopub.status.idle": "2024-09-11T09:10:35.690997Z",
     "shell.execute_reply": "2024-09-11T09:10:35.689774Z"
    },
    "papermill": {
     "duration": 2.266281,
     "end_time": "2024-09-11T09:10:35.693784",
     "exception": false,
     "start_time": "2024-09-11T09:10:33.427503",
     "status": "completed"
    },
    "tags": []
   },
   "outputs": [],
   "source": [
    "import numpy as np\n",
    "import pandas as pd\n",
    "import matplotlib.pyplot as plt\n",
    "import seaborn as sns"
   ]
  },
  {
   "cell_type": "code",
   "execution_count": 2,
   "id": "9dc0eed4",
   "metadata": {
    "execution": {
     "iopub.execute_input": "2024-09-11T09:10:35.787921Z",
     "iopub.status.busy": "2024-09-11T09:10:35.786727Z",
     "iopub.status.idle": "2024-09-11T09:10:37.331424Z",
     "shell.execute_reply": "2024-09-11T09:10:37.330071Z"
    },
    "papermill": {
     "duration": 1.595335,
     "end_time": "2024-09-11T09:10:37.334706",
     "exception": false,
     "start_time": "2024-09-11T09:10:35.739371",
     "status": "completed"
    },
    "tags": []
   },
   "outputs": [
    {
     "name": "stderr",
     "output_type": "stream",
     "text": [
      "/tmp/ipykernel_17/1788601659.py:3: DtypeWarning: Columns (13,15,19,30,32,37,41,42) have mixed types. Specify dtype option on import or set low_memory=False.\n",
      "  train = pd.read_csv(\"/kaggle/input/datathon-2024/train.csv\")\n"
     ]
    }
   ],
   "source": [
    "sub = pd.read_csv(\"/kaggle/input/datathon-2024/sample_submission.csv\")\n",
    "test = pd.read_csv(\"/kaggle/input/datathon-2024/test_x.csv\")\n",
    "train = pd.read_csv(\"/kaggle/input/datathon-2024/train.csv\")"
   ]
  },
  {
   "cell_type": "markdown",
   "id": "66745fdf",
   "metadata": {
    "papermill": {
     "duration": 0.045398,
     "end_time": "2024-09-11T09:10:37.426403",
     "exception": false,
     "start_time": "2024-09-11T09:10:37.381005",
     "status": "completed"
    },
    "tags": []
   },
   "source": [
    "## Veri keşfi"
   ]
  },
  {
   "cell_type": "code",
   "execution_count": 3,
   "id": "7ddecfe8",
   "metadata": {
    "execution": {
     "iopub.execute_input": "2024-09-11T09:10:37.520924Z",
     "iopub.status.busy": "2024-09-11T09:10:37.520497Z",
     "iopub.status.idle": "2024-09-11T09:10:37.628080Z",
     "shell.execute_reply": "2024-09-11T09:10:37.626840Z"
    },
    "papermill": {
     "duration": 0.158143,
     "end_time": "2024-09-11T09:10:37.630657",
     "exception": false,
     "start_time": "2024-09-11T09:10:37.472514",
     "status": "completed"
    },
    "tags": []
   },
   "outputs": [
    {
     "data": {
      "text/html": [
       "<div>\n",
       "<style scoped>\n",
       "    .dataframe tbody tr th:only-of-type {\n",
       "        vertical-align: middle;\n",
       "    }\n",
       "\n",
       "    .dataframe tbody tr th {\n",
       "        vertical-align: top;\n",
       "    }\n",
       "\n",
       "    .dataframe thead th {\n",
       "        text-align: right;\n",
       "    }\n",
       "</style>\n",
       "<table border=\"1\" class=\"dataframe\">\n",
       "  <thead>\n",
       "    <tr style=\"text-align: right;\">\n",
       "      <th></th>\n",
       "      <th>Basvuru Yili</th>\n",
       "      <th>Degerlendirme Puani</th>\n",
       "      <th>Cinsiyet</th>\n",
       "      <th>Dogum Tarihi</th>\n",
       "      <th>Dogum Yeri</th>\n",
       "      <th>Ikametgah Sehri</th>\n",
       "      <th>Universite Adi</th>\n",
       "      <th>Universite Turu</th>\n",
       "      <th>Burslu ise Burs Yuzdesi</th>\n",
       "      <th>Burs Aliyor mu?</th>\n",
       "      <th>...</th>\n",
       "      <th>Spor Dalindaki Rolunuz Nedir?</th>\n",
       "      <th>Aktif olarak bir STK üyesi misiniz?</th>\n",
       "      <th>Hangi STK'nin Uyesisiniz?</th>\n",
       "      <th>Stk Projesine Katildiniz Mi?</th>\n",
       "      <th>Girisimcilikle Ilgili Deneyiminiz Var Mi?</th>\n",
       "      <th>Girisimcilikle Ilgili Deneyiminizi Aciklayabilir misiniz?</th>\n",
       "      <th>Ingilizce Biliyor musunuz?</th>\n",
       "      <th>Ingilizce Seviyeniz?</th>\n",
       "      <th>Daha Önceden Mezun Olunduysa, Mezun Olunan Üniversite</th>\n",
       "      <th>id</th>\n",
       "    </tr>\n",
       "  </thead>\n",
       "  <tbody>\n",
       "    <tr>\n",
       "      <th>0</th>\n",
       "      <td>2014</td>\n",
       "      <td>52.0</td>\n",
       "      <td>Erkek</td>\n",
       "      <td>4/6/1994</td>\n",
       "      <td>Altindag, Ankara</td>\n",
       "      <td>Ankara</td>\n",
       "      <td>İHSAN DOĞRAMACI BİLKENT</td>\n",
       "      <td>Özel</td>\n",
       "      <td>100.0</td>\n",
       "      <td>Evet</td>\n",
       "      <td>...</td>\n",
       "      <td>Diğer</td>\n",
       "      <td>Hayır</td>\n",
       "      <td>NaN</td>\n",
       "      <td>Evet</td>\n",
       "      <td>Hayır</td>\n",
       "      <td>NaN</td>\n",
       "      <td>NaN</td>\n",
       "      <td>NaN</td>\n",
       "      <td>NaN</td>\n",
       "      <td>0</td>\n",
       "    </tr>\n",
       "    <tr>\n",
       "      <th>1</th>\n",
       "      <td>2014</td>\n",
       "      <td>30.0</td>\n",
       "      <td>Erkek</td>\n",
       "      <td>6/11/1993</td>\n",
       "      <td>Üsküdar</td>\n",
       "      <td>İstanbul</td>\n",
       "      <td>İHSAN DOĞRAMACI BİLKENT</td>\n",
       "      <td>Özel</td>\n",
       "      <td>100.0</td>\n",
       "      <td>Hayır</td>\n",
       "      <td>...</td>\n",
       "      <td>0</td>\n",
       "      <td>Hayır</td>\n",
       "      <td>NaN</td>\n",
       "      <td>Evet</td>\n",
       "      <td>Evet</td>\n",
       "      <td>Bilkent Cyberparkta bir şirkette Türkiye nin i...</td>\n",
       "      <td>NaN</td>\n",
       "      <td>NaN</td>\n",
       "      <td>NaN</td>\n",
       "      <td>1</td>\n",
       "    </tr>\n",
       "    <tr>\n",
       "      <th>2</th>\n",
       "      <td>2014</td>\n",
       "      <td>18.0</td>\n",
       "      <td>Erkek</td>\n",
       "      <td>1/15/1986</td>\n",
       "      <td>Samsun</td>\n",
       "      <td>İstanbul</td>\n",
       "      <td>ULUSLARARASI KIBRIS ÜNİVERSİTESİ</td>\n",
       "      <td>Özel</td>\n",
       "      <td>100.0</td>\n",
       "      <td>Hayır</td>\n",
       "      <td>...</td>\n",
       "      <td>0</td>\n",
       "      <td>Hayır</td>\n",
       "      <td>NaN</td>\n",
       "      <td>Hayır</td>\n",
       "      <td>Hayır</td>\n",
       "      <td>NaN</td>\n",
       "      <td>NaN</td>\n",
       "      <td>NaN</td>\n",
       "      <td>NaN</td>\n",
       "      <td>2</td>\n",
       "    </tr>\n",
       "    <tr>\n",
       "      <th>3</th>\n",
       "      <td>2014</td>\n",
       "      <td>40.0</td>\n",
       "      <td>Erkek</td>\n",
       "      <td>6/4/1991</td>\n",
       "      <td>Diyarbakır</td>\n",
       "      <td>İstanbul</td>\n",
       "      <td>İSTANBUL ŞEHİR ÜNİVERSİTESİ</td>\n",
       "      <td>Özel</td>\n",
       "      <td>100.0</td>\n",
       "      <td>Evet</td>\n",
       "      <td>...</td>\n",
       "      <td>0</td>\n",
       "      <td>Hayır</td>\n",
       "      <td>NaN</td>\n",
       "      <td>Evet</td>\n",
       "      <td>Hayır</td>\n",
       "      <td>NaN</td>\n",
       "      <td>NaN</td>\n",
       "      <td>NaN</td>\n",
       "      <td>NaN</td>\n",
       "      <td>3</td>\n",
       "    </tr>\n",
       "    <tr>\n",
       "      <th>4</th>\n",
       "      <td>2014</td>\n",
       "      <td>24.0</td>\n",
       "      <td>Erkek</td>\n",
       "      <td>2 Kasim 1992</td>\n",
       "      <td>Ankara/Altındağ</td>\n",
       "      <td>Ankara</td>\n",
       "      <td>TURGUT ÖZAL ÜNİVERSİTESİ</td>\n",
       "      <td>Özel</td>\n",
       "      <td>100.0</td>\n",
       "      <td>Evet</td>\n",
       "      <td>...</td>\n",
       "      <td>0</td>\n",
       "      <td>Hayır</td>\n",
       "      <td>NaN</td>\n",
       "      <td>Hayır</td>\n",
       "      <td>Hayır</td>\n",
       "      <td>NaN</td>\n",
       "      <td>NaN</td>\n",
       "      <td>NaN</td>\n",
       "      <td>NaN</td>\n",
       "      <td>4</td>\n",
       "    </tr>\n",
       "    <tr>\n",
       "      <th>...</th>\n",
       "      <td>...</td>\n",
       "      <td>...</td>\n",
       "      <td>...</td>\n",
       "      <td>...</td>\n",
       "      <td>...</td>\n",
       "      <td>...</td>\n",
       "      <td>...</td>\n",
       "      <td>...</td>\n",
       "      <td>...</td>\n",
       "      <td>...</td>\n",
       "      <td>...</td>\n",
       "      <td>...</td>\n",
       "      <td>...</td>\n",
       "      <td>...</td>\n",
       "      <td>...</td>\n",
       "      <td>...</td>\n",
       "      <td>...</td>\n",
       "      <td>...</td>\n",
       "      <td>...</td>\n",
       "      <td>...</td>\n",
       "      <td>...</td>\n",
       "    </tr>\n",
       "    <tr>\n",
       "      <th>65120</th>\n",
       "      <td>2022</td>\n",
       "      <td>0.0</td>\n",
       "      <td>Erkek</td>\n",
       "      <td>18.06.2003 00:00</td>\n",
       "      <td>İstanbul</td>\n",
       "      <td>İstanbul</td>\n",
       "      <td>İstanbul Aydın Üniversitesi</td>\n",
       "      <td>Özel</td>\n",
       "      <td>NaN</td>\n",
       "      <td>Evet</td>\n",
       "      <td>...</td>\n",
       "      <td>-</td>\n",
       "      <td>Hayır</td>\n",
       "      <td>-</td>\n",
       "      <td>NaN</td>\n",
       "      <td>Hayır</td>\n",
       "      <td>-</td>\n",
       "      <td>Hayır</td>\n",
       "      <td>NaN</td>\n",
       "      <td>NaN</td>\n",
       "      <td>65120</td>\n",
       "    </tr>\n",
       "    <tr>\n",
       "      <th>65121</th>\n",
       "      <td>2022</td>\n",
       "      <td>0.0</td>\n",
       "      <td>Erkek</td>\n",
       "      <td>18.04.2002 00:00</td>\n",
       "      <td>Hatay</td>\n",
       "      <td>Muğla</td>\n",
       "      <td>Muğla Sıtkı Koçman Üniversitesi</td>\n",
       "      <td>Devlet</td>\n",
       "      <td>NaN</td>\n",
       "      <td>Hayır</td>\n",
       "      <td>...</td>\n",
       "      <td>-</td>\n",
       "      <td>Hayır</td>\n",
       "      <td>-</td>\n",
       "      <td>NaN</td>\n",
       "      <td>Hayır</td>\n",
       "      <td>-</td>\n",
       "      <td>Hayır</td>\n",
       "      <td>NaN</td>\n",
       "      <td>NaN</td>\n",
       "      <td>65121</td>\n",
       "    </tr>\n",
       "    <tr>\n",
       "      <th>65122</th>\n",
       "      <td>2022</td>\n",
       "      <td>0.0</td>\n",
       "      <td>Erkek</td>\n",
       "      <td>23.10.1999 00:00</td>\n",
       "      <td>Mersin</td>\n",
       "      <td>Mersin</td>\n",
       "      <td>Süleyman Demirel Üniversitesi</td>\n",
       "      <td>Devlet</td>\n",
       "      <td>NaN</td>\n",
       "      <td>Hayır</td>\n",
       "      <td>...</td>\n",
       "      <td>-</td>\n",
       "      <td>Hayır</td>\n",
       "      <td>-</td>\n",
       "      <td>NaN</td>\n",
       "      <td>Hayır</td>\n",
       "      <td>-</td>\n",
       "      <td>Hayır</td>\n",
       "      <td>NaN</td>\n",
       "      <td>NaN</td>\n",
       "      <td>65122</td>\n",
       "    </tr>\n",
       "    <tr>\n",
       "      <th>65123</th>\n",
       "      <td>2022</td>\n",
       "      <td>0.0</td>\n",
       "      <td>Erkek</td>\n",
       "      <td>17.11.2000 00:00</td>\n",
       "      <td>Samsun</td>\n",
       "      <td>Samsun</td>\n",
       "      <td>Karabük Üniversitesi</td>\n",
       "      <td>Devlet</td>\n",
       "      <td>NaN</td>\n",
       "      <td>Hayır</td>\n",
       "      <td>...</td>\n",
       "      <td>-</td>\n",
       "      <td>Hayır</td>\n",
       "      <td>-</td>\n",
       "      <td>NaN</td>\n",
       "      <td>Hayır</td>\n",
       "      <td>-</td>\n",
       "      <td>Hayır</td>\n",
       "      <td>NaN</td>\n",
       "      <td>NaN</td>\n",
       "      <td>65123</td>\n",
       "    </tr>\n",
       "    <tr>\n",
       "      <th>65124</th>\n",
       "      <td>2022</td>\n",
       "      <td>NaN</td>\n",
       "      <td>Kadın</td>\n",
       "      <td>27.04.2000 00:00</td>\n",
       "      <td>Hatay</td>\n",
       "      <td>Hatay</td>\n",
       "      <td>Gaziantep Üniversitesi</td>\n",
       "      <td>Devlet</td>\n",
       "      <td>NaN</td>\n",
       "      <td>Hayır</td>\n",
       "      <td>...</td>\n",
       "      <td>Takım Oyuncusu</td>\n",
       "      <td>Evet</td>\n",
       "      <td>Genç Kızılay Topluluğu'nda 3 yıldır gönüllüyüm...</td>\n",
       "      <td>NaN</td>\n",
       "      <td>Evet</td>\n",
       "      <td>Aile desteğiyle yemek sektöründe küçük bir işl...</td>\n",
       "      <td>Evet</td>\n",
       "      <td>NaN</td>\n",
       "      <td>NaN</td>\n",
       "      <td>65124</td>\n",
       "    </tr>\n",
       "  </tbody>\n",
       "</table>\n",
       "<p>65125 rows × 44 columns</p>\n",
       "</div>"
      ],
      "text/plain": [
       "       Basvuru Yili  Degerlendirme Puani Cinsiyet      Dogum Tarihi  \\\n",
       "0              2014                 52.0    Erkek          4/6/1994   \n",
       "1              2014                 30.0    Erkek         6/11/1993   \n",
       "2              2014                 18.0    Erkek         1/15/1986   \n",
       "3              2014                 40.0    Erkek          6/4/1991   \n",
       "4              2014                 24.0    Erkek      2 Kasim 1992   \n",
       "...             ...                  ...      ...               ...   \n",
       "65120          2022                  0.0    Erkek  18.06.2003 00:00   \n",
       "65121          2022                  0.0    Erkek  18.04.2002 00:00   \n",
       "65122          2022                  0.0    Erkek  23.10.1999 00:00   \n",
       "65123          2022                  0.0    Erkek  17.11.2000 00:00   \n",
       "65124          2022                  NaN    Kadın  27.04.2000 00:00   \n",
       "\n",
       "             Dogum Yeri Ikametgah Sehri                    Universite Adi  \\\n",
       "0      Altindag, Ankara          Ankara           İHSAN DOĞRAMACI BİLKENT   \n",
       "1               Üsküdar        İstanbul           İHSAN DOĞRAMACI BİLKENT   \n",
       "2                Samsun        İstanbul  ULUSLARARASI KIBRIS ÜNİVERSİTESİ   \n",
       "3            Diyarbakır        İstanbul       İSTANBUL ŞEHİR ÜNİVERSİTESİ   \n",
       "4       Ankara/Altındağ          Ankara          TURGUT ÖZAL ÜNİVERSİTESİ   \n",
       "...                 ...             ...                               ...   \n",
       "65120          İstanbul        İstanbul       İstanbul Aydın Üniversitesi   \n",
       "65121             Hatay           Muğla   Muğla Sıtkı Koçman Üniversitesi   \n",
       "65122            Mersin          Mersin     Süleyman Demirel Üniversitesi   \n",
       "65123            Samsun          Samsun              Karabük Üniversitesi   \n",
       "65124             Hatay           Hatay            Gaziantep Üniversitesi   \n",
       "\n",
       "      Universite Turu  Burslu ise Burs Yuzdesi Burs Aliyor mu?  ...  \\\n",
       "0                Özel                    100.0            Evet  ...   \n",
       "1                Özel                    100.0           Hayır  ...   \n",
       "2                Özel                    100.0           Hayır  ...   \n",
       "3                Özel                    100.0            Evet  ...   \n",
       "4                Özel                    100.0            Evet  ...   \n",
       "...               ...                      ...             ...  ...   \n",
       "65120            Özel                      NaN            Evet  ...   \n",
       "65121          Devlet                      NaN           Hayır  ...   \n",
       "65122          Devlet                      NaN           Hayır  ...   \n",
       "65123          Devlet                      NaN           Hayır  ...   \n",
       "65124          Devlet                      NaN           Hayır  ...   \n",
       "\n",
       "      Spor Dalindaki Rolunuz Nedir? Aktif olarak bir STK üyesi misiniz?  \\\n",
       "0                             Diğer                               Hayır   \n",
       "1                                 0                               Hayır   \n",
       "2                                 0                               Hayır   \n",
       "3                                 0                               Hayır   \n",
       "4                                 0                               Hayır   \n",
       "...                             ...                                 ...   \n",
       "65120                             -                               Hayır   \n",
       "65121                             -                               Hayır   \n",
       "65122                             -                               Hayır   \n",
       "65123                             -                               Hayır   \n",
       "65124                Takım Oyuncusu                                Evet   \n",
       "\n",
       "                               Hangi STK'nin Uyesisiniz?  \\\n",
       "0                                                    NaN   \n",
       "1                                                    NaN   \n",
       "2                                                    NaN   \n",
       "3                                                    NaN   \n",
       "4                                                    NaN   \n",
       "...                                                  ...   \n",
       "65120                                                  -   \n",
       "65121                                                  -   \n",
       "65122                                                  -   \n",
       "65123                                                  -   \n",
       "65124  Genç Kızılay Topluluğu'nda 3 yıldır gönüllüyüm...   \n",
       "\n",
       "      Stk Projesine Katildiniz Mi? Girisimcilikle Ilgili Deneyiminiz Var Mi?  \\\n",
       "0                             Evet                                     Hayır   \n",
       "1                             Evet                                      Evet   \n",
       "2                            Hayır                                     Hayır   \n",
       "3                             Evet                                     Hayır   \n",
       "4                            Hayır                                     Hayır   \n",
       "...                            ...                                       ...   \n",
       "65120                          NaN                                     Hayır   \n",
       "65121                          NaN                                     Hayır   \n",
       "65122                          NaN                                     Hayır   \n",
       "65123                          NaN                                     Hayır   \n",
       "65124                          NaN                                      Evet   \n",
       "\n",
       "      Girisimcilikle Ilgili Deneyiminizi Aciklayabilir misiniz?  \\\n",
       "0                                                    NaN          \n",
       "1      Bilkent Cyberparkta bir şirkette Türkiye nin i...          \n",
       "2                                                    NaN          \n",
       "3                                                    NaN          \n",
       "4                                                    NaN          \n",
       "...                                                  ...          \n",
       "65120                                                  -          \n",
       "65121                                                  -          \n",
       "65122                                                  -          \n",
       "65123                                                  -          \n",
       "65124  Aile desteğiyle yemek sektöründe küçük bir işl...          \n",
       "\n",
       "      Ingilizce Biliyor musunuz? Ingilizce Seviyeniz?  \\\n",
       "0                            NaN                  NaN   \n",
       "1                            NaN                  NaN   \n",
       "2                            NaN                  NaN   \n",
       "3                            NaN                  NaN   \n",
       "4                            NaN                  NaN   \n",
       "...                          ...                  ...   \n",
       "65120                      Hayır                  NaN   \n",
       "65121                      Hayır                  NaN   \n",
       "65122                      Hayır                  NaN   \n",
       "65123                      Hayır                  NaN   \n",
       "65124                       Evet                  NaN   \n",
       "\n",
       "      Daha Önceden Mezun Olunduysa, Mezun Olunan Üniversite     id  \n",
       "0                                                    NaN         0  \n",
       "1                                                    NaN         1  \n",
       "2                                                    NaN         2  \n",
       "3                                                    NaN         3  \n",
       "4                                                    NaN         4  \n",
       "...                                                  ...       ...  \n",
       "65120                                                NaN     65120  \n",
       "65121                                                NaN     65121  \n",
       "65122                                                NaN     65122  \n",
       "65123                                                NaN     65123  \n",
       "65124                                                NaN     65124  \n",
       "\n",
       "[65125 rows x 44 columns]"
      ]
     },
     "execution_count": 3,
     "metadata": {},
     "output_type": "execute_result"
    }
   ],
   "source": [
    "train"
   ]
  },
  {
   "cell_type": "code",
   "execution_count": 4,
   "id": "220bff7e",
   "metadata": {
    "execution": {
     "iopub.execute_input": "2024-09-11T09:10:37.725993Z",
     "iopub.status.busy": "2024-09-11T09:10:37.725555Z",
     "iopub.status.idle": "2024-09-11T09:10:37.731438Z",
     "shell.execute_reply": "2024-09-11T09:10:37.730061Z"
    },
    "papermill": {
     "duration": 0.055681,
     "end_time": "2024-09-11T09:10:37.734381",
     "exception": false,
     "start_time": "2024-09-11T09:10:37.678700",
     "status": "completed"
    },
    "tags": []
   },
   "outputs": [],
   "source": [
    "# şuan korelasyona bakamıyoruz çünkü string falan filan\n",
    "#train.corr()"
   ]
  },
  {
   "cell_type": "code",
   "execution_count": 5,
   "id": "d89140cd",
   "metadata": {
    "execution": {
     "iopub.execute_input": "2024-09-11T09:10:37.834074Z",
     "iopub.status.busy": "2024-09-11T09:10:37.832703Z",
     "iopub.status.idle": "2024-09-11T09:10:37.848525Z",
     "shell.execute_reply": "2024-09-11T09:10:37.847290Z"
    },
    "papermill": {
     "duration": 0.066897,
     "end_time": "2024-09-11T09:10:37.851112",
     "exception": false,
     "start_time": "2024-09-11T09:10:37.784215",
     "status": "completed"
    },
    "tags": []
   },
   "outputs": [
    {
     "name": "stdout",
     "output_type": "stream",
     "text": [
      "9\n"
     ]
    },
    {
     "data": {
      "text/plain": [
       "array([2014, 2015, 2016, 2017, 2018, 2019, 2020, 2021, 2022])"
      ]
     },
     "execution_count": 5,
     "metadata": {},
     "output_type": "execute_result"
    }
   ],
   "source": [
    "print(train[\"Basvuru Yili\"].nunique())\n",
    "train[\"Basvuru Yili\"].unique()"
   ]
  },
  {
   "cell_type": "code",
   "execution_count": 6,
   "id": "9b088bf0",
   "metadata": {
    "execution": {
     "iopub.execute_input": "2024-09-11T09:10:38.007305Z",
     "iopub.status.busy": "2024-09-11T09:10:38.006885Z",
     "iopub.status.idle": "2024-09-11T09:10:38.140318Z",
     "shell.execute_reply": "2024-09-11T09:10:38.139171Z"
    },
    "papermill": {
     "duration": 0.242873,
     "end_time": "2024-09-11T09:10:38.143338",
     "exception": false,
     "start_time": "2024-09-11T09:10:37.900465",
     "status": "completed"
    },
    "tags": []
   },
   "outputs": [
    {
     "name": "stdout",
     "output_type": "stream",
     "text": [
      "<class 'pandas.core.frame.DataFrame'>\n",
      "RangeIndex: 65125 entries, 0 to 65124\n",
      "Data columns (total 44 columns):\n",
      " #   Column                                                     Non-Null Count  Dtype  \n",
      "---  ------                                                     --------------  -----  \n",
      " 0   Basvuru Yili                                               65125 non-null  int64  \n",
      " 1   Degerlendirme Puani                                        65124 non-null  float64\n",
      " 2   Cinsiyet                                                   64956 non-null  object \n",
      " 3   Dogum Tarihi                                               64948 non-null  object \n",
      " 4   Dogum Yeri                                                 64334 non-null  object \n",
      " 5   Ikametgah Sehri                                            63088 non-null  object \n",
      " 6   Universite Adi                                             64993 non-null  object \n",
      " 7   Universite Turu                                            64870 non-null  object \n",
      " 8   Burslu ise Burs Yuzdesi                                    22440 non-null  float64\n",
      " 9   Burs Aliyor mu?                                            65125 non-null  object \n",
      " 10  Bölüm                                                      64894 non-null  object \n",
      " 11  Universite Kacinci Sinif                                   64751 non-null  object \n",
      " 12  Universite Not Ortalamasi                                  62372 non-null  object \n",
      " 13  Daha Once Baska Bir Universiteden Mezun Olmus              27780 non-null  object \n",
      " 14  Lise Adi                                                   64741 non-null  object \n",
      " 15  Lise Adi Diger                                             4733 non-null   object \n",
      " 16  Lise Sehir                                                 64071 non-null  object \n",
      " 17  Lise Turu                                                  64278 non-null  object \n",
      " 18  Lise Bolumu                                                64116 non-null  object \n",
      " 19  Lise Bolum Diger                                           1526 non-null   object \n",
      " 20  Lise Mezuniyet Notu                                        59208 non-null  object \n",
      " 21  Baska Bir Kurumdan Burs Aliyor mu?                         64894 non-null  object \n",
      " 22  Burs Aldigi Baska Kurum                                    21148 non-null  object \n",
      " 23  Baska Kurumdan Aldigi Burs Miktari                         20963 non-null  object \n",
      " 24  Anne Egitim Durumu                                         64719 non-null  object \n",
      " 25  Anne Calisma Durumu                                        53229 non-null  object \n",
      " 26  Anne Sektor                                                30588 non-null  object \n",
      " 27  Baba Egitim Durumu                                         64118 non-null  object \n",
      " 28  Baba Calisma Durumu                                        52507 non-null  object \n",
      " 29  Baba Sektor                                                44747 non-null  object \n",
      " 30  Kardes Sayisi                                              63993 non-null  object \n",
      " 31  Girisimcilik Kulupleri Tarzi Bir Kulube Uye misiniz?       63296 non-null  object \n",
      " 32  Uye Oldugunuz Kulubun Ismi                                 16434 non-null  object \n",
      " 33  Profesyonel Bir Spor Daliyla Mesgul musunuz?               64010 non-null  object \n",
      " 34  Spor Dalindaki Rolunuz Nedir?                              32850 non-null  object \n",
      " 35  Aktif olarak bir STK üyesi misiniz?                        52283 non-null  object \n",
      " 36  Hangi STK'nin Uyesisiniz?                                  15607 non-null  object \n",
      " 37  Stk Projesine Katildiniz Mi?                               36817 non-null  object \n",
      " 38  Girisimcilikle Ilgili Deneyiminiz Var Mi?                  52285 non-null  object \n",
      " 39  Girisimcilikle Ilgili Deneyiminizi Aciklayabilir misiniz?  14599 non-null  object \n",
      " 40  Ingilizce Biliyor musunuz?                                 58671 non-null  object \n",
      " 41  Ingilizce Seviyeniz?                                       28592 non-null  object \n",
      " 42  Daha Önceden Mezun Olunduysa, Mezun Olunan Üniversite      419 non-null    object \n",
      " 43  id                                                         65125 non-null  int64  \n",
      "dtypes: float64(2), int64(2), object(40)\n",
      "memory usage: 21.9+ MB\n"
     ]
    }
   ],
   "source": [
    "# Kategorik, sayısal, metinsel veri\n",
    "\n",
    "train.info()"
   ]
  },
  {
   "cell_type": "markdown",
   "id": "beff53bf",
   "metadata": {
    "papermill": {
     "duration": 0.045625,
     "end_time": "2024-09-11T09:10:38.236354",
     "exception": false,
     "start_time": "2024-09-11T09:10:38.190729",
     "status": "completed"
    },
    "tags": []
   },
   "source": [
    "## Veri temizliği:\n",
    "> #### NaN değerlerle ilgilen\n",
    "> #### Cinsiyet kısmında Erkek ve ERKEK şeklinde iki değer var.\n",
    "> #### Doğum tarihlerinden saati çıkar + 25 Mayis şeklinde de yazılıyor.\n",
    "> #### Doğum yeri kısmında ilçe yazanlar var... Düzeltilsin. Aynı şekilde ikametgah adresinde de.\n",
    "> #### Üniversite türü - Devlet DEVLET var yine..\n",
    "> #### Burs yüzdesinde NaN değer vardı.\n",
    "> #### Burs yüzdesi olup, burs alıyor mu \"hayır\" seçeneği, sanırım ek olarak anlamında.\n",
    "> #### Bölüm'de \"Truzim ve otel\" yazıyor mesela. Ayrıca \"Diğer\" ne demek adam kendi bölümüne \"diğer\" mi yazmış?\n",
    "> #### Üniversite kaçıncı sınıf -> Hazırlık - hazırlık\n",
    "> #### Not ortalaması kategorik.\n",
    "> #### Daha önce mezun olmuş mu sütunu \"Null\"\n",
    "> #### Lise adı, bilmiyorum.. Null değeri var ama garipti.\n",
    "> #### lise adı diğer null ve yok çok var.\n",
    "> #### Lise şehir isimlendirmeleri ANKARA ankara düzeltilsin.\n",
    "> #### Lise türü \"diğer\" diğer ne demek abi? Devlet ve özel yazmış lise türüne.\n",
    "> #### lise bölümü EA eşit ağırlık Eşit Ağırlık...\n",
    "> #### lise bölüm diğer %98 null.\n",
    "> #### lise mezuniyet notu 3.00 da var, 75 de var.\n",
    "> #### başka bir kurumdan burs alıyor mu? sorusu var.. Eee?\n",
    "> #### Burs aldığı başka kurum: Kyk kyK kyk\n",
    "> #### Başka kurumdan aldığı burs miktarı 500 ve üzeri, 500₺..\n",
    "> #### Anne eğitim durumu ilkokul ilk okul EĞİTİM YOK\n",
    "> #### anne çalışma durumu null\n",
    "> #### anne sektör -> 0\n",
    "> #### baba eğitim\n",
    "> #### baba çalışma null\n",
    "> #### baba sektör tekrar eden..\n",
    "> #### kardeş sayısı 1.0 XD 18...?\n",
    "> #### g.klüp null\n",
    "> #### klüp ismi %97 null\n",
    "> #### spor dalıyla meşgul müsün, null %2\n",
    "> #### spor dalındaki rolün 0, null..\n",
    "> #### stk üyesi %22 diğer\n",
    "> #### hangi stk -> - ve null\n",
    "> #### stk projesi null\n",
    "> #### girişimcilik deneyimi evet hayır sorusunda diğer oranı.\n",
    "> #### girişim. deneyim. açıkla -> A B Ü -\n",
    "> #### İng. biliyon mu %75 evet.\n",
    "> #### İng. seviye 0 , %56 null.\n",
    "> #### tekrarlayan değer. mezun. üni.\n",
    "> #### id sorunsuz."
   ]
  },
  {
   "cell_type": "markdown",
   "id": "6097fee0",
   "metadata": {
    "papermill": {
     "duration": 0.047759,
     "end_time": "2024-09-11T09:10:38.330002",
     "exception": false,
     "start_time": "2024-09-11T09:10:38.282243",
     "status": "completed"
    },
    "tags": []
   },
   "source": [
    "# Genel Düzenleme -- Değiştirildi\n",
    "Toplam train verisi 65125 satır, 44 sütun\n",
    "> #### Cinsiyet\n",
    "- 115 Belirmek istemiyorum ve 169 null kaldırıldı.\n",
    "- 10012 ERKEK -> Erkek olarak değiştirildi."
   ]
  },
  {
   "cell_type": "markdown",
   "id": "bdacb927",
   "metadata": {
    "papermill": {
     "duration": 0.046571,
     "end_time": "2024-09-11T09:10:38.423473",
     "exception": false,
     "start_time": "2024-09-11T09:10:38.376902",
     "status": "completed"
    },
    "tags": []
   },
   "source": [
    "### Cinsiyet"
   ]
  },
  {
   "cell_type": "code",
   "execution_count": 7,
   "id": "99bdcf4e",
   "metadata": {
    "execution": {
     "iopub.execute_input": "2024-09-11T09:10:38.517799Z",
     "iopub.status.busy": "2024-09-11T09:10:38.517341Z",
     "iopub.status.idle": "2024-09-11T09:10:38.532920Z",
     "shell.execute_reply": "2024-09-11T09:10:38.531662Z"
    },
    "papermill": {
     "duration": 0.065518,
     "end_time": "2024-09-11T09:10:38.535148",
     "exception": false,
     "start_time": "2024-09-11T09:10:38.469630",
     "status": "completed"
    },
    "tags": []
   },
   "outputs": [
    {
     "name": "stdout",
     "output_type": "stream",
     "text": [
      "4\n"
     ]
    },
    {
     "data": {
      "text/plain": [
       "array(['Erkek', 'Kadın', 'ERKEK', 'Belirtmek istemiyorum', nan],\n",
       "      dtype=object)"
      ]
     },
     "execution_count": 7,
     "metadata": {},
     "output_type": "execute_result"
    }
   ],
   "source": [
    "print(train[\"Cinsiyet\"].nunique())\n",
    "train[\"Cinsiyet\"].unique()"
   ]
  },
  {
   "cell_type": "code",
   "execution_count": 8,
   "id": "4d891db0",
   "metadata": {
    "execution": {
     "iopub.execute_input": "2024-09-11T09:10:38.630404Z",
     "iopub.status.busy": "2024-09-11T09:10:38.629962Z",
     "iopub.status.idle": "2024-09-11T09:10:38.641698Z",
     "shell.execute_reply": "2024-09-11T09:10:38.640462Z"
    },
    "papermill": {
     "duration": 0.062159,
     "end_time": "2024-09-11T09:10:38.644014",
     "exception": false,
     "start_time": "2024-09-11T09:10:38.581855",
     "status": "completed"
    },
    "tags": []
   },
   "outputs": [
    {
     "data": {
      "text/plain": [
       "169"
      ]
     },
     "execution_count": 8,
     "metadata": {},
     "output_type": "execute_result"
    }
   ],
   "source": [
    "train[\"Cinsiyet\"].isna().sum()"
   ]
  },
  {
   "cell_type": "code",
   "execution_count": 9,
   "id": "f0fc51be",
   "metadata": {
    "execution": {
     "iopub.execute_input": "2024-09-11T09:10:38.739863Z",
     "iopub.status.busy": "2024-09-11T09:10:38.739444Z",
     "iopub.status.idle": "2024-09-11T09:10:38.755875Z",
     "shell.execute_reply": "2024-09-11T09:10:38.754479Z"
    },
    "papermill": {
     "duration": 0.067692,
     "end_time": "2024-09-11T09:10:38.758395",
     "exception": false,
     "start_time": "2024-09-11T09:10:38.690703",
     "status": "completed"
    },
    "tags": []
   },
   "outputs": [
    {
     "data": {
      "text/plain": [
       "115"
      ]
     },
     "execution_count": 9,
     "metadata": {},
     "output_type": "execute_result"
    }
   ],
   "source": [
    "len(train.loc[train[\"Cinsiyet\"] == \"Belirtmek istemiyorum\"])"
   ]
  },
  {
   "cell_type": "code",
   "execution_count": 10,
   "id": "662294e3",
   "metadata": {
    "execution": {
     "iopub.execute_input": "2024-09-11T09:10:38.858437Z",
     "iopub.status.busy": "2024-09-11T09:10:38.858007Z",
     "iopub.status.idle": "2024-09-11T09:10:38.871455Z",
     "shell.execute_reply": "2024-09-11T09:10:38.870183Z"
    },
    "papermill": {
     "duration": 0.06812,
     "end_time": "2024-09-11T09:10:38.874299",
     "exception": false,
     "start_time": "2024-09-11T09:10:38.806179",
     "status": "completed"
    },
    "tags": []
   },
   "outputs": [],
   "source": [
    "train['Cinsiyet'] = train['Cinsiyet'].replace('ERKEK', 'Erkek')"
   ]
  },
  {
   "cell_type": "code",
   "execution_count": 11,
   "id": "3e983615",
   "metadata": {
    "execution": {
     "iopub.execute_input": "2024-09-11T09:10:38.973285Z",
     "iopub.status.busy": "2024-09-11T09:10:38.972608Z",
     "iopub.status.idle": "2024-09-11T09:10:39.024258Z",
     "shell.execute_reply": "2024-09-11T09:10:39.023031Z"
    },
    "papermill": {
     "duration": 0.104853,
     "end_time": "2024-09-11T09:10:39.027664",
     "exception": false,
     "start_time": "2024-09-11T09:10:38.922811",
     "status": "completed"
    },
    "tags": []
   },
   "outputs": [],
   "source": [
    "train = train.dropna(subset=[\"Cinsiyet\"])"
   ]
  },
  {
   "cell_type": "code",
   "execution_count": 12,
   "id": "f5c5a7ae",
   "metadata": {
    "execution": {
     "iopub.execute_input": "2024-09-11T09:10:39.124766Z",
     "iopub.status.busy": "2024-09-11T09:10:39.124363Z",
     "iopub.status.idle": "2024-09-11T09:10:39.189254Z",
     "shell.execute_reply": "2024-09-11T09:10:39.187997Z"
    },
    "papermill": {
     "duration": 0.116483,
     "end_time": "2024-09-11T09:10:39.191984",
     "exception": false,
     "start_time": "2024-09-11T09:10:39.075501",
     "status": "completed"
    },
    "tags": []
   },
   "outputs": [],
   "source": [
    "train = train.loc[train['Cinsiyet'] != 'Belirtmek istemiyorum']"
   ]
  },
  {
   "cell_type": "markdown",
   "id": "5bca47b7",
   "metadata": {
    "papermill": {
     "duration": 0.046329,
     "end_time": "2024-09-11T09:10:39.285968",
     "exception": false,
     "start_time": "2024-09-11T09:10:39.239639",
     "status": "completed"
    },
    "tags": []
   },
   "source": [
    "### Dogum Tarihi"
   ]
  },
  {
   "cell_type": "code",
   "execution_count": 13,
   "id": "d8662b5a",
   "metadata": {
    "execution": {
     "iopub.execute_input": "2024-09-11T09:10:39.385094Z",
     "iopub.status.busy": "2024-09-11T09:10:39.384614Z",
     "iopub.status.idle": "2024-09-11T09:10:39.404888Z",
     "shell.execute_reply": "2024-09-11T09:10:39.403578Z"
    },
    "papermill": {
     "duration": 0.072524,
     "end_time": "2024-09-11T09:10:39.407305",
     "exception": false,
     "start_time": "2024-09-11T09:10:39.334781",
     "status": "completed"
    },
    "tags": []
   },
   "outputs": [
    {
     "name": "stdout",
     "output_type": "stream",
     "text": [
      "13488\n"
     ]
    },
    {
     "data": {
      "text/plain": [
       "array(['4/6/1994', '6/11/1993', '1/15/1986', ..., '10.04.2003 00:00',\n",
       "       '13.12.1997 00:00', '12.11.2003 00:00'], dtype=object)"
      ]
     },
     "execution_count": 13,
     "metadata": {},
     "output_type": "execute_result"
    }
   ],
   "source": [
    "print(train[\"Dogum Tarihi\"].nunique())\n",
    "train[\"Dogum Tarihi\"].unique()"
   ]
  },
  {
   "cell_type": "code",
   "execution_count": 14,
   "id": "728996c3",
   "metadata": {
    "execution": {
     "iopub.execute_input": "2024-09-11T09:10:39.504075Z",
     "iopub.status.busy": "2024-09-11T09:10:39.503633Z",
     "iopub.status.idle": "2024-09-11T09:10:39.605351Z",
     "shell.execute_reply": "2024-09-11T09:10:39.603879Z"
    },
    "papermill": {
     "duration": 0.153508,
     "end_time": "2024-09-11T09:10:39.608486",
     "exception": false,
     "start_time": "2024-09-11T09:10:39.454978",
     "status": "completed"
    },
    "tags": []
   },
   "outputs": [],
   "source": [
    "train['Dogum Tarihi'] = train['Dogum Tarihi'].str.extract(r'(\\d{1,2}[/\\.]\\d{1,2}[/\\.]\\d{2,4})')"
   ]
  },
  {
   "cell_type": "code",
   "execution_count": 15,
   "id": "41e4f7b7",
   "metadata": {
    "execution": {
     "iopub.execute_input": "2024-09-11T09:10:39.704638Z",
     "iopub.status.busy": "2024-09-11T09:10:39.703657Z",
     "iopub.status.idle": "2024-09-11T09:10:39.722085Z",
     "shell.execute_reply": "2024-09-11T09:10:39.721108Z"
    },
    "papermill": {
     "duration": 0.068948,
     "end_time": "2024-09-11T09:10:39.724539",
     "exception": false,
     "start_time": "2024-09-11T09:10:39.655591",
     "status": "completed"
    },
    "tags": []
   },
   "outputs": [
    {
     "name": "stdout",
     "output_type": "stream",
     "text": [
      "9239\n"
     ]
    },
    {
     "data": {
      "text/plain": [
       "array(['4/6/1994', '6/11/1993', '1/15/1986', ..., '10.04.2003',\n",
       "       '13.12.1997', '12.11.2003'], dtype=object)"
      ]
     },
     "execution_count": 15,
     "metadata": {},
     "output_type": "execute_result"
    }
   ],
   "source": [
    "print(train[\"Dogum Tarihi\"].nunique())\n",
    "train[\"Dogum Tarihi\"].unique()"
   ]
  },
  {
   "cell_type": "code",
   "execution_count": 16,
   "id": "65d819d6",
   "metadata": {
    "execution": {
     "iopub.execute_input": "2024-09-11T09:10:39.822663Z",
     "iopub.status.busy": "2024-09-11T09:10:39.822234Z",
     "iopub.status.idle": "2024-09-11T09:10:39.844879Z",
     "shell.execute_reply": "2024-09-11T09:10:39.843444Z"
    },
    "papermill": {
     "duration": 0.073521,
     "end_time": "2024-09-11T09:10:39.847364",
     "exception": false,
     "start_time": "2024-09-11T09:10:39.773843",
     "status": "completed"
    },
    "tags": []
   },
   "outputs": [
    {
     "data": {
      "text/html": [
       "<div>\n",
       "<style scoped>\n",
       "    .dataframe tbody tr th:only-of-type {\n",
       "        vertical-align: middle;\n",
       "    }\n",
       "\n",
       "    .dataframe tbody tr th {\n",
       "        vertical-align: top;\n",
       "    }\n",
       "\n",
       "    .dataframe thead th {\n",
       "        text-align: right;\n",
       "    }\n",
       "</style>\n",
       "<table border=\"1\" class=\"dataframe\">\n",
       "  <thead>\n",
       "    <tr style=\"text-align: right;\">\n",
       "      <th></th>\n",
       "      <th>Basvuru Yili</th>\n",
       "      <th>Degerlendirme Puani</th>\n",
       "      <th>Cinsiyet</th>\n",
       "      <th>Dogum Tarihi</th>\n",
       "      <th>Dogum Yeri</th>\n",
       "      <th>Ikametgah Sehri</th>\n",
       "      <th>Universite Adi</th>\n",
       "      <th>Universite Turu</th>\n",
       "      <th>Burslu ise Burs Yuzdesi</th>\n",
       "      <th>Burs Aliyor mu?</th>\n",
       "      <th>...</th>\n",
       "      <th>Spor Dalindaki Rolunuz Nedir?</th>\n",
       "      <th>Aktif olarak bir STK üyesi misiniz?</th>\n",
       "      <th>Hangi STK'nin Uyesisiniz?</th>\n",
       "      <th>Stk Projesine Katildiniz Mi?</th>\n",
       "      <th>Girisimcilikle Ilgili Deneyiminiz Var Mi?</th>\n",
       "      <th>Girisimcilikle Ilgili Deneyiminizi Aciklayabilir misiniz?</th>\n",
       "      <th>Ingilizce Biliyor musunuz?</th>\n",
       "      <th>Ingilizce Seviyeniz?</th>\n",
       "      <th>Daha Önceden Mezun Olunduysa, Mezun Olunan Üniversite</th>\n",
       "      <th>id</th>\n",
       "    </tr>\n",
       "  </thead>\n",
       "  <tbody>\n",
       "  </tbody>\n",
       "</table>\n",
       "<p>0 rows × 44 columns</p>\n",
       "</div>"
      ],
      "text/plain": [
       "Empty DataFrame\n",
       "Columns: [Basvuru Yili, Degerlendirme Puani, Cinsiyet, Dogum Tarihi, Dogum Yeri, Ikametgah Sehri, Universite Adi, Universite Turu, Burslu ise Burs Yuzdesi, Burs Aliyor mu?, Bölüm, Universite Kacinci Sinif, Universite Not Ortalamasi, Daha Once Baska Bir Universiteden Mezun Olmus, Lise Adi, Lise Adi Diger, Lise Sehir, Lise Turu, Lise Bolumu, Lise Bolum Diger, Lise Mezuniyet Notu, Baska Bir Kurumdan Burs Aliyor mu?, Burs Aldigi Baska Kurum, Baska Kurumdan Aldigi Burs Miktari, Anne Egitim Durumu, Anne Calisma Durumu, Anne Sektor, Baba Egitim Durumu, Baba Calisma Durumu, Baba Sektor, Kardes Sayisi, Girisimcilik Kulupleri Tarzi Bir Kulube Uye misiniz?, Uye Oldugunuz Kulubun Ismi, Profesyonel Bir Spor Daliyla Mesgul musunuz?, Spor Dalindaki Rolunuz Nedir?, Aktif olarak bir STK üyesi misiniz?, Hangi STK'nin Uyesisiniz?, Stk Projesine Katildiniz Mi?, Girisimcilikle Ilgili Deneyiminiz Var Mi?, Girisimcilikle Ilgili Deneyiminizi Aciklayabilir misiniz?, Ingilizce Biliyor musunuz?, Ingilizce Seviyeniz?, Daha Önceden Mezun Olunduysa, Mezun Olunan Üniversite, id]\n",
       "Index: []\n",
       "\n",
       "[0 rows x 44 columns]"
      ]
     },
     "execution_count": 16,
     "metadata": {},
     "output_type": "execute_result"
    }
   ],
   "source": [
    "train.loc[train[\"Dogum Tarihi\"] == \"1204\"]"
   ]
  },
  {
   "cell_type": "markdown",
   "id": "c18a7d80",
   "metadata": {
    "papermill": {
     "duration": 0.050254,
     "end_time": "2024-09-11T09:10:39.947926",
     "exception": false,
     "start_time": "2024-09-11T09:10:39.897672",
     "status": "completed"
    },
    "tags": []
   },
   "source": [
    "# Aşağıyı bi silme, Aralik Mayis yazan çok var. Onları /ile birleştirttireyim. 14471 veri boş çıkıyordu önceki kodda"
   ]
  },
  {
   "cell_type": "code",
   "execution_count": 17,
   "id": "ada32cce",
   "metadata": {
    "execution": {
     "iopub.execute_input": "2024-09-11T09:10:40.046420Z",
     "iopub.status.busy": "2024-09-11T09:10:40.045957Z",
     "iopub.status.idle": "2024-09-11T09:10:40.057999Z",
     "shell.execute_reply": "2024-09-11T09:10:40.056876Z"
    },
    "papermill": {
     "duration": 0.064143,
     "end_time": "2024-09-11T09:10:40.060482",
     "exception": false,
     "start_time": "2024-09-11T09:10:39.996339",
     "status": "completed"
    },
    "tags": []
   },
   "outputs": [
    {
     "data": {
      "text/plain": [
       "14357"
      ]
     },
     "execution_count": 17,
     "metadata": {},
     "output_type": "execute_result"
    }
   ],
   "source": [
    "train[\"Dogum Tarihi\"].isna().sum()"
   ]
  },
  {
   "cell_type": "code",
   "execution_count": 18,
   "id": "244abc00",
   "metadata": {
    "execution": {
     "iopub.execute_input": "2024-09-11T09:10:40.161790Z",
     "iopub.status.busy": "2024-09-11T09:10:40.161329Z",
     "iopub.status.idle": "2024-09-11T09:10:40.166900Z",
     "shell.execute_reply": "2024-09-11T09:10:40.165482Z"
    },
    "papermill": {
     "duration": 0.059705,
     "end_time": "2024-09-11T09:10:40.169806",
     "exception": false,
     "start_time": "2024-09-11T09:10:40.110101",
     "status": "completed"
    },
    "tags": []
   },
   "outputs": [],
   "source": [
    "#train.loc[train.index >= 52212]"
   ]
  },
  {
   "cell_type": "markdown",
   "id": "69aa7afc",
   "metadata": {
    "papermill": {
     "duration": 0.051496,
     "end_time": "2024-09-11T09:10:40.270906",
     "exception": false,
     "start_time": "2024-09-11T09:10:40.219410",
     "status": "completed"
    },
    "tags": []
   },
   "source": [
    "# Hızlı ilerleyiş submission için 10.09.2024\n",
    "- #### Veriler kodlanacak kategorize neydi ismi herneyse\n",
    "- #### Toplam train verisi 65125 satır, 44 sütun\n",
    "- #### Alınacak veriler (26 tane, gün bitmeden yollayabilmek için, belki azaltırım zaman yetmezse):\n",
    "> ##### id\n",
    "> ##### Başvuru yılı\n",
    "> ##### değerlendirme p.\n",
    "> ##### Cinsiyet\n",
    "> ##### Universite Turu\n",
    "> ##### Burslu ise burs yüzdesi\n",
    "> ##### Burs Alayi mi\n",
    "> ##### uni kac sinif\n",
    "> ##### uni not ort.\n",
    "> ##### onceden baska uni?\n",
    "> ##### lise mezuniyet notu\n",
    "> ##### baska kurumdan burs?\n",
    "> ##### anne eğitim durumu\n",
    "> ##### anne çalışma durumu\n",
    "> ##### anne sektor\n",
    "> ##### baba eğitim\n",
    "> ##### baba çalışma\n",
    "> ##### baba sektör\n",
    "> ##### kardes sayisi\n",
    "> ##### bir klübe üye misin?\n",
    "> ##### spor dalıyla meşgul mü?\n",
    "> ##### stk üyeliği?\n",
    "> ##### stk projesine katildiniz mi?\n",
    "> ##### girişimcilik deneyi?\n",
    "> ##### ing. biliyon mu?\n",
    "> ##### ing. seviyen?"
   ]
  },
  {
   "cell_type": "code",
   "execution_count": 19,
   "id": "f2da0078",
   "metadata": {
    "_cell_guid": "b1076dfc-b9ad-4769-8c92-a6c4dae69d19",
    "_uuid": "8f2839f25d086af736a60e9eeb907d3b93b6e0e5",
    "execution": {
     "iopub.execute_input": "2024-09-11T09:10:40.386985Z",
     "iopub.status.busy": "2024-09-11T09:10:40.385641Z",
     "iopub.status.idle": "2024-09-11T09:10:40.391539Z",
     "shell.execute_reply": "2024-09-11T09:10:40.390536Z"
    },
    "papermill": {
     "duration": 0.062972,
     "end_time": "2024-09-11T09:10:40.394638",
     "exception": false,
     "start_time": "2024-09-11T09:10:40.331666",
     "status": "completed"
    },
    "tags": []
   },
   "outputs": [],
   "source": [
    "import numpy as np\n",
    "import pandas as pd\n",
    "import matplotlib.pyplot as plt\n",
    "import seaborn as sns\n",
    "import re"
   ]
  },
  {
   "cell_type": "code",
   "execution_count": 20,
   "id": "58527e2f",
   "metadata": {
    "execution": {
     "iopub.execute_input": "2024-09-11T09:10:40.507167Z",
     "iopub.status.busy": "2024-09-11T09:10:40.506722Z",
     "iopub.status.idle": "2024-09-11T09:10:41.604281Z",
     "shell.execute_reply": "2024-09-11T09:10:41.603161Z"
    },
    "papermill": {
     "duration": 1.149568,
     "end_time": "2024-09-11T09:10:41.606818",
     "exception": false,
     "start_time": "2024-09-11T09:10:40.457250",
     "status": "completed"
    },
    "tags": []
   },
   "outputs": [
    {
     "name": "stderr",
     "output_type": "stream",
     "text": [
      "/tmp/ipykernel_17/1788601659.py:3: DtypeWarning: Columns (13,15,19,30,32,37,41,42) have mixed types. Specify dtype option on import or set low_memory=False.\n",
      "  train = pd.read_csv(\"/kaggle/input/datathon-2024/train.csv\")\n"
     ]
    }
   ],
   "source": [
    "sub = pd.read_csv(\"/kaggle/input/datathon-2024/sample_submission.csv\")\n",
    "test = pd.read_csv(\"/kaggle/input/datathon-2024/test_x.csv\")\n",
    "train = pd.read_csv(\"/kaggle/input/datathon-2024/train.csv\")"
   ]
  },
  {
   "cell_type": "code",
   "execution_count": 21,
   "id": "98a8e1e2",
   "metadata": {
    "execution": {
     "iopub.execute_input": "2024-09-11T09:10:41.705077Z",
     "iopub.status.busy": "2024-09-11T09:10:41.704563Z",
     "iopub.status.idle": "2024-09-11T09:10:41.711334Z",
     "shell.execute_reply": "2024-09-11T09:10:41.710071Z"
    },
    "papermill": {
     "duration": 0.05906,
     "end_time": "2024-09-11T09:10:41.713684",
     "exception": false,
     "start_time": "2024-09-11T09:10:41.654624",
     "status": "completed"
    },
    "tags": []
   },
   "outputs": [],
   "source": [
    "# SÜTUN ADLARINI DÜZELTME\n",
    "train.columns = [col.strip().lower().replace(' ', '_').replace('?', '').replace(\"'\", '').replace(\"ö\", 'o').replace(\"ü\", 'u').replace(\"Ö\", 'o').replace(\"Ü\", 'u').replace(\",\", '') for col in train.columns]"
   ]
  },
  {
   "cell_type": "code",
   "execution_count": 22,
   "id": "6368909b",
   "metadata": {
    "execution": {
     "iopub.execute_input": "2024-09-11T09:10:41.813699Z",
     "iopub.status.busy": "2024-09-11T09:10:41.813268Z",
     "iopub.status.idle": "2024-09-11T09:10:41.821270Z",
     "shell.execute_reply": "2024-09-11T09:10:41.820133Z"
    },
    "papermill": {
     "duration": 0.060932,
     "end_time": "2024-09-11T09:10:41.823648",
     "exception": false,
     "start_time": "2024-09-11T09:10:41.762716",
     "status": "completed"
    },
    "tags": []
   },
   "outputs": [
    {
     "data": {
      "text/plain": [
       "Index(['basvuru_yili', 'degerlendirme_puani', 'cinsiyet', 'dogum_tarihi',\n",
       "       'dogum_yeri', 'ikametgah_sehri', 'universite_adi', 'universite_turu',\n",
       "       'burslu_ise_burs_yuzdesi', 'burs_aliyor_mu', 'bolum',\n",
       "       'universite_kacinci_sinif', 'universite_not_ortalamasi',\n",
       "       'daha_once_baska_bir_universiteden_mezun_olmus', 'lise_adi',\n",
       "       'lise_adi_diger', 'lise_sehir', 'lise_turu', 'lise_bolumu',\n",
       "       'lise_bolum_diger', 'lise_mezuniyet_notu',\n",
       "       'baska_bir_kurumdan_burs_aliyor_mu', 'burs_aldigi_baska_kurum',\n",
       "       'baska_kurumdan_aldigi_burs_miktari', 'anne_egitim_durumu',\n",
       "       'anne_calisma_durumu', 'anne_sektor', 'baba_egitim_durumu',\n",
       "       'baba_calisma_durumu', 'baba_sektor', 'kardes_sayisi',\n",
       "       'girisimcilik_kulupleri_tarzi_bir_kulube_uye_misiniz',\n",
       "       'uye_oldugunuz_kulubun_ismi',\n",
       "       'profesyonel_bir_spor_daliyla_mesgul_musunuz',\n",
       "       'spor_dalindaki_rolunuz_nedir', 'aktif_olarak_bir_stk_uyesi_misiniz',\n",
       "       'hangi_stknin_uyesisiniz', 'stk_projesine_katildiniz_mi',\n",
       "       'girisimcilikle_ilgili_deneyiminiz_var_mi',\n",
       "       'girisimcilikle_ilgili_deneyiminizi_aciklayabilir_misiniz',\n",
       "       'ingilizce_biliyor_musunuz', 'ingilizce_seviyeniz',\n",
       "       'daha_onceden_mezun_olunduysa_mezun_olunan_universite', 'id'],\n",
       "      dtype='object')"
      ]
     },
     "execution_count": 22,
     "metadata": {},
     "output_type": "execute_result"
    }
   ],
   "source": [
    "train.columns"
   ]
  },
  {
   "cell_type": "code",
   "execution_count": 23,
   "id": "725d3cf7",
   "metadata": {
    "execution": {
     "iopub.execute_input": "2024-09-11T09:10:41.923539Z",
     "iopub.status.busy": "2024-09-11T09:10:41.922620Z",
     "iopub.status.idle": "2024-09-11T09:10:43.286870Z",
     "shell.execute_reply": "2024-09-11T09:10:43.285694Z"
    },
    "papermill": {
     "duration": 1.417049,
     "end_time": "2024-09-11T09:10:43.289804",
     "exception": false,
     "start_time": "2024-09-11T09:10:41.872755",
     "status": "completed"
    },
    "tags": []
   },
   "outputs": [
    {
     "name": "stderr",
     "output_type": "stream",
     "text": [
      "/tmp/ipykernel_17/195616094.py:1: FutureWarning: DataFrame.applymap has been deprecated. Use DataFrame.map instead.\n",
      "  train = train.applymap(lambda x: x.lower() if isinstance(x, str) else x)\n"
     ]
    }
   ],
   "source": [
    "train = train.applymap(lambda x: x.lower() if isinstance(x, str) else x)"
   ]
  },
  {
   "cell_type": "code",
   "execution_count": 24,
   "id": "57cfffb9",
   "metadata": {
    "execution": {
     "iopub.execute_input": "2024-09-11T09:10:43.393026Z",
     "iopub.status.busy": "2024-09-11T09:10:43.392559Z",
     "iopub.status.idle": "2024-09-11T09:10:43.520331Z",
     "shell.execute_reply": "2024-09-11T09:10:43.518784Z"
    },
    "papermill": {
     "duration": 0.181671,
     "end_time": "2024-09-11T09:10:43.523160",
     "exception": false,
     "start_time": "2024-09-11T09:10:43.341489",
     "status": "completed"
    },
    "tags": []
   },
   "outputs": [
    {
     "data": {
      "text/plain": [
       "basvuru_yili                                                    0\n",
       "degerlendirme_puani                                             1\n",
       "cinsiyet                                                      169\n",
       "dogum_tarihi                                                  177\n",
       "dogum_yeri                                                    791\n",
       "ikametgah_sehri                                              2037\n",
       "universite_adi                                                132\n",
       "universite_turu                                               255\n",
       "burslu_ise_burs_yuzdesi                                     42685\n",
       "burs_aliyor_mu                                                  0\n",
       "bolum                                                         231\n",
       "universite_kacinci_sinif                                      374\n",
       "universite_not_ortalamasi                                    2753\n",
       "daha_once_baska_bir_universiteden_mezun_olmus               37345\n",
       "lise_adi                                                      384\n",
       "lise_adi_diger                                              60392\n",
       "lise_sehir                                                   1054\n",
       "lise_turu                                                     847\n",
       "lise_bolumu                                                  1009\n",
       "lise_bolum_diger                                            63599\n",
       "lise_mezuniyet_notu                                          5917\n",
       "baska_bir_kurumdan_burs_aliyor_mu                             231\n",
       "burs_aldigi_baska_kurum                                     43977\n",
       "baska_kurumdan_aldigi_burs_miktari                          44162\n",
       "anne_egitim_durumu                                            406\n",
       "anne_calisma_durumu                                         11896\n",
       "anne_sektor                                                 34537\n",
       "baba_egitim_durumu                                           1007\n",
       "baba_calisma_durumu                                         12618\n",
       "baba_sektor                                                 20378\n",
       "kardes_sayisi                                                1132\n",
       "girisimcilik_kulupleri_tarzi_bir_kulube_uye_misiniz          1829\n",
       "uye_oldugunuz_kulubun_ismi                                  48691\n",
       "profesyonel_bir_spor_daliyla_mesgul_musunuz                  1115\n",
       "spor_dalindaki_rolunuz_nedir                                32275\n",
       "aktif_olarak_bir_stk_uyesi_misiniz                          12842\n",
       "hangi_stknin_uyesisiniz                                     49518\n",
       "stk_projesine_katildiniz_mi                                 28308\n",
       "girisimcilikle_ilgili_deneyiminiz_var_mi                    12840\n",
       "girisimcilikle_ilgili_deneyiminizi_aciklayabilir_misiniz    50526\n",
       "ingilizce_biliyor_musunuz                                    6454\n",
       "ingilizce_seviyeniz                                         36533\n",
       "daha_onceden_mezun_olunduysa_mezun_olunan_universite        64706\n",
       "id                                                              0\n",
       "dtype: int64"
      ]
     },
     "execution_count": 24,
     "metadata": {},
     "output_type": "execute_result"
    }
   ],
   "source": [
    "train.isnull().sum()"
   ]
  },
  {
   "cell_type": "markdown",
   "id": "95b1a91e",
   "metadata": {
    "papermill": {
     "duration": 0.049172,
     "end_time": "2024-09-11T09:10:43.621127",
     "exception": false,
     "start_time": "2024-09-11T09:10:43.571955",
     "status": "completed"
    },
    "tags": []
   },
   "source": [
    "### degerlendirme_puani ve basvuru_yili"
   ]
  },
  {
   "cell_type": "code",
   "execution_count": 25,
   "id": "399506e0",
   "metadata": {
    "execution": {
     "iopub.execute_input": "2024-09-11T09:10:43.720653Z",
     "iopub.status.busy": "2024-09-11T09:10:43.720243Z",
     "iopub.status.idle": "2024-09-11T09:10:43.729791Z",
     "shell.execute_reply": "2024-09-11T09:10:43.728614Z"
    },
    "papermill": {
     "duration": 0.062971,
     "end_time": "2024-09-11T09:10:43.732242",
     "exception": false,
     "start_time": "2024-09-11T09:10:43.669271",
     "status": "completed"
    },
    "tags": []
   },
   "outputs": [
    {
     "name": "stdout",
     "output_type": "stream",
     "text": [
      "1\n"
     ]
    },
    {
     "data": {
      "text/plain": [
       "0"
      ]
     },
     "execution_count": 25,
     "metadata": {},
     "output_type": "execute_result"
    }
   ],
   "source": [
    "print(train[\"degerlendirme_puani\"].isna().sum())\n",
    "train[\"basvuru_yili\"].isna().sum()"
   ]
  },
  {
   "cell_type": "code",
   "execution_count": 26,
   "id": "2dbbcb59",
   "metadata": {
    "execution": {
     "iopub.execute_input": "2024-09-11T09:10:43.832644Z",
     "iopub.status.busy": "2024-09-11T09:10:43.832200Z",
     "iopub.status.idle": "2024-09-11T09:10:43.855236Z",
     "shell.execute_reply": "2024-09-11T09:10:43.854114Z"
    },
    "papermill": {
     "duration": 0.076867,
     "end_time": "2024-09-11T09:10:43.857908",
     "exception": false,
     "start_time": "2024-09-11T09:10:43.781041",
     "status": "completed"
    },
    "tags": []
   },
   "outputs": [
    {
     "data": {
      "text/html": [
       "<div>\n",
       "<style scoped>\n",
       "    .dataframe tbody tr th:only-of-type {\n",
       "        vertical-align: middle;\n",
       "    }\n",
       "\n",
       "    .dataframe tbody tr th {\n",
       "        vertical-align: top;\n",
       "    }\n",
       "\n",
       "    .dataframe thead th {\n",
       "        text-align: right;\n",
       "    }\n",
       "</style>\n",
       "<table border=\"1\" class=\"dataframe\">\n",
       "  <thead>\n",
       "    <tr style=\"text-align: right;\">\n",
       "      <th></th>\n",
       "      <th>basvuru_yili</th>\n",
       "      <th>degerlendirme_puani</th>\n",
       "      <th>cinsiyet</th>\n",
       "      <th>dogum_tarihi</th>\n",
       "      <th>dogum_yeri</th>\n",
       "      <th>ikametgah_sehri</th>\n",
       "      <th>universite_adi</th>\n",
       "      <th>universite_turu</th>\n",
       "      <th>burslu_ise_burs_yuzdesi</th>\n",
       "      <th>burs_aliyor_mu</th>\n",
       "      <th>...</th>\n",
       "      <th>spor_dalindaki_rolunuz_nedir</th>\n",
       "      <th>aktif_olarak_bir_stk_uyesi_misiniz</th>\n",
       "      <th>hangi_stknin_uyesisiniz</th>\n",
       "      <th>stk_projesine_katildiniz_mi</th>\n",
       "      <th>girisimcilikle_ilgili_deneyiminiz_var_mi</th>\n",
       "      <th>girisimcilikle_ilgili_deneyiminizi_aciklayabilir_misiniz</th>\n",
       "      <th>ingilizce_biliyor_musunuz</th>\n",
       "      <th>ingilizce_seviyeniz</th>\n",
       "      <th>daha_onceden_mezun_olunduysa_mezun_olunan_universite</th>\n",
       "      <th>id</th>\n",
       "    </tr>\n",
       "  </thead>\n",
       "  <tbody>\n",
       "    <tr>\n",
       "      <th>65124</th>\n",
       "      <td>2022</td>\n",
       "      <td>NaN</td>\n",
       "      <td>kadın</td>\n",
       "      <td>27.04.2000 00:00</td>\n",
       "      <td>hatay</td>\n",
       "      <td>hatay</td>\n",
       "      <td>gaziantep üniversitesi</td>\n",
       "      <td>devlet</td>\n",
       "      <td>NaN</td>\n",
       "      <td>hayır</td>\n",
       "      <td>...</td>\n",
       "      <td>takım oyuncusu</td>\n",
       "      <td>evet</td>\n",
       "      <td>genç kızılay topluluğu'nda 3 yıldır gönüllüyüm...</td>\n",
       "      <td>NaN</td>\n",
       "      <td>evet</td>\n",
       "      <td>aile desteğiyle yemek sektöründe küçük bir işl...</td>\n",
       "      <td>evet</td>\n",
       "      <td>NaN</td>\n",
       "      <td>NaN</td>\n",
       "      <td>65124</td>\n",
       "    </tr>\n",
       "  </tbody>\n",
       "</table>\n",
       "<p>1 rows × 44 columns</p>\n",
       "</div>"
      ],
      "text/plain": [
       "       basvuru_yili  degerlendirme_puani cinsiyet      dogum_tarihi  \\\n",
       "65124          2022                  NaN    kadın  27.04.2000 00:00   \n",
       "\n",
       "      dogum_yeri ikametgah_sehri          universite_adi universite_turu  \\\n",
       "65124      hatay           hatay  gaziantep üniversitesi          devlet   \n",
       "\n",
       "       burslu_ise_burs_yuzdesi burs_aliyor_mu  ...  \\\n",
       "65124                      NaN          hayır  ...   \n",
       "\n",
       "      spor_dalindaki_rolunuz_nedir aktif_olarak_bir_stk_uyesi_misiniz  \\\n",
       "65124               takım oyuncusu                               evet   \n",
       "\n",
       "                                 hangi_stknin_uyesisiniz  \\\n",
       "65124  genç kızılay topluluğu'nda 3 yıldır gönüllüyüm...   \n",
       "\n",
       "      stk_projesine_katildiniz_mi girisimcilikle_ilgili_deneyiminiz_var_mi  \\\n",
       "65124                         NaN                                     evet   \n",
       "\n",
       "      girisimcilikle_ilgili_deneyiminizi_aciklayabilir_misiniz  \\\n",
       "65124  aile desteğiyle yemek sektöründe küçük bir işl...         \n",
       "\n",
       "      ingilizce_biliyor_musunuz ingilizce_seviyeniz  \\\n",
       "65124                      evet                 NaN   \n",
       "\n",
       "      daha_onceden_mezun_olunduysa_mezun_olunan_universite     id  \n",
       "65124                                                NaN    65124  \n",
       "\n",
       "[1 rows x 44 columns]"
      ]
     },
     "execution_count": 26,
     "metadata": {},
     "output_type": "execute_result"
    }
   ],
   "source": [
    "# NaN satırı görelim:\n",
    "train[train['degerlendirme_puani'].isna()]"
   ]
  },
  {
   "cell_type": "code",
   "execution_count": 27,
   "id": "1984d524",
   "metadata": {
    "execution": {
     "iopub.execute_input": "2024-09-11T09:10:43.956810Z",
     "iopub.status.busy": "2024-09-11T09:10:43.956364Z",
     "iopub.status.idle": "2024-09-11T09:10:44.024952Z",
     "shell.execute_reply": "2024-09-11T09:10:44.023578Z"
    },
    "papermill": {
     "duration": 0.121351,
     "end_time": "2024-09-11T09:10:44.027533",
     "exception": false,
     "start_time": "2024-09-11T09:10:43.906182",
     "status": "completed"
    },
    "tags": []
   },
   "outputs": [
    {
     "name": "stdout",
     "output_type": "stream",
     "text": [
      "degerlendirme_puani NaN veri sayısı  0\n"
     ]
    }
   ],
   "source": [
    "train = train.dropna(subset=[\"degerlendirme_puani\"])\n",
    "print(\"degerlendirme_puani NaN veri sayısı \",train[\"degerlendirme_puani\"].isna().sum())"
   ]
  },
  {
   "cell_type": "markdown",
   "id": "b366f77f",
   "metadata": {
    "papermill": {
     "duration": 0.048949,
     "end_time": "2024-09-11T09:10:44.125091",
     "exception": false,
     "start_time": "2024-09-11T09:10:44.076142",
     "status": "completed"
    },
    "tags": []
   },
   "source": [
    "### cinsiyet\n",
    "- 115 Belirmek istemiyorum ve 169 null kaldırıldı."
   ]
  },
  {
   "cell_type": "code",
   "execution_count": 28,
   "id": "ca1f1754",
   "metadata": {
    "execution": {
     "iopub.execute_input": "2024-09-11T09:10:44.226255Z",
     "iopub.status.busy": "2024-09-11T09:10:44.225536Z",
     "iopub.status.idle": "2024-09-11T09:10:44.244188Z",
     "shell.execute_reply": "2024-09-11T09:10:44.242667Z"
    },
    "papermill": {
     "duration": 0.072587,
     "end_time": "2024-09-11T09:10:44.247276",
     "exception": false,
     "start_time": "2024-09-11T09:10:44.174689",
     "status": "completed"
    },
    "tags": []
   },
   "outputs": [
    {
     "name": "stdout",
     "output_type": "stream",
     "text": [
      "3\n"
     ]
    },
    {
     "data": {
      "text/plain": [
       "array(['erkek', 'kadın', 'belirtmek istemiyorum', nan], dtype=object)"
      ]
     },
     "execution_count": 28,
     "metadata": {},
     "output_type": "execute_result"
    }
   ],
   "source": [
    "print(train[\"cinsiyet\"].nunique())\n",
    "train[\"cinsiyet\"].unique()"
   ]
  },
  {
   "cell_type": "code",
   "execution_count": 29,
   "id": "8a78775f",
   "metadata": {
    "execution": {
     "iopub.execute_input": "2024-09-11T09:10:44.350699Z",
     "iopub.status.busy": "2024-09-11T09:10:44.350277Z",
     "iopub.status.idle": "2024-09-11T09:10:44.361859Z",
     "shell.execute_reply": "2024-09-11T09:10:44.360753Z"
    },
    "papermill": {
     "duration": 0.065729,
     "end_time": "2024-09-11T09:10:44.364201",
     "exception": false,
     "start_time": "2024-09-11T09:10:44.298472",
     "status": "completed"
    },
    "tags": []
   },
   "outputs": [
    {
     "data": {
      "text/plain": [
       "169"
      ]
     },
     "execution_count": 29,
     "metadata": {},
     "output_type": "execute_result"
    }
   ],
   "source": [
    "train[\"cinsiyet\"].isna().sum()"
   ]
  },
  {
   "cell_type": "code",
   "execution_count": 30,
   "id": "0abfdac5",
   "metadata": {
    "execution": {
     "iopub.execute_input": "2024-09-11T09:10:44.467350Z",
     "iopub.status.busy": "2024-09-11T09:10:44.466924Z",
     "iopub.status.idle": "2024-09-11T09:10:44.484258Z",
     "shell.execute_reply": "2024-09-11T09:10:44.482888Z"
    },
    "papermill": {
     "duration": 0.071645,
     "end_time": "2024-09-11T09:10:44.486626",
     "exception": false,
     "start_time": "2024-09-11T09:10:44.414981",
     "status": "completed"
    },
    "tags": []
   },
   "outputs": [
    {
     "data": {
      "text/plain": [
       "115"
      ]
     },
     "execution_count": 30,
     "metadata": {},
     "output_type": "execute_result"
    }
   ],
   "source": [
    "len(train.loc[train[\"cinsiyet\"] == \"belirtmek istemiyorum\"])"
   ]
  },
  {
   "cell_type": "code",
   "execution_count": 31,
   "id": "f78d4218",
   "metadata": {
    "execution": {
     "iopub.execute_input": "2024-09-11T09:10:44.590773Z",
     "iopub.status.busy": "2024-09-11T09:10:44.590373Z",
     "iopub.status.idle": "2024-09-11T09:10:44.666162Z",
     "shell.execute_reply": "2024-09-11T09:10:44.665092Z"
    },
    "papermill": {
     "duration": 0.130809,
     "end_time": "2024-09-11T09:10:44.669030",
     "exception": false,
     "start_time": "2024-09-11T09:10:44.538221",
     "status": "completed"
    },
    "tags": []
   },
   "outputs": [],
   "source": [
    "train = train.dropna(subset=[\"cinsiyet\"])"
   ]
  },
  {
   "cell_type": "code",
   "execution_count": 32,
   "id": "f57d6aa5",
   "metadata": {
    "execution": {
     "iopub.execute_input": "2024-09-11T09:10:44.769417Z",
     "iopub.status.busy": "2024-09-11T09:10:44.769028Z",
     "iopub.status.idle": "2024-09-11T09:10:44.840200Z",
     "shell.execute_reply": "2024-09-11T09:10:44.838872Z"
    },
    "papermill": {
     "duration": 0.12479,
     "end_time": "2024-09-11T09:10:44.842931",
     "exception": false,
     "start_time": "2024-09-11T09:10:44.718141",
     "status": "completed"
    },
    "tags": []
   },
   "outputs": [],
   "source": [
    "train = train.loc[train['cinsiyet'] != 'belirtmek istemiyorum']"
   ]
  },
  {
   "cell_type": "code",
   "execution_count": 33,
   "id": "7f410e10",
   "metadata": {
    "execution": {
     "iopub.execute_input": "2024-09-11T09:10:44.943019Z",
     "iopub.status.busy": "2024-09-11T09:10:44.942584Z",
     "iopub.status.idle": "2024-09-11T09:10:44.963154Z",
     "shell.execute_reply": "2024-09-11T09:10:44.961511Z"
    },
    "papermill": {
     "duration": 0.073947,
     "end_time": "2024-09-11T09:10:44.965883",
     "exception": false,
     "start_time": "2024-09-11T09:10:44.891936",
     "status": "completed"
    },
    "tags": []
   },
   "outputs": [
    {
     "name": "stdout",
     "output_type": "stream",
     "text": [
      "cinsiyet kategorisi yeni değer sayısı: 2\n",
      "cinsiyet kategorisi yeni değerler: ['erkek' 'kadın']\n",
      "Eğitim seti yeni satır sayısı 64840\n"
     ]
    }
   ],
   "source": [
    "# GÜNCEL DURUM\n",
    "print(\"cinsiyet kategorisi yeni değer sayısı:\", train[\"cinsiyet\"].nunique())\n",
    "print(\"cinsiyet kategorisi yeni değerler:\",train[\"cinsiyet\"].unique())\n",
    "\n",
    "print(f\"Eğitim seti yeni satır sayısı {len(train)}\")"
   ]
  },
  {
   "cell_type": "markdown",
   "id": "6fdaacd2",
   "metadata": {
    "papermill": {
     "duration": 0.048977,
     "end_time": "2024-09-11T09:10:45.066348",
     "exception": false,
     "start_time": "2024-09-11T09:10:45.017371",
     "status": "completed"
    },
    "tags": []
   },
   "source": [
    "### universite_turu\n",
    "- 221 null kaldırıldı."
   ]
  },
  {
   "cell_type": "code",
   "execution_count": 34,
   "id": "6b784818",
   "metadata": {
    "execution": {
     "iopub.execute_input": "2024-09-11T09:10:45.167919Z",
     "iopub.status.busy": "2024-09-11T09:10:45.167488Z",
     "iopub.status.idle": "2024-09-11T09:10:45.184240Z",
     "shell.execute_reply": "2024-09-11T09:10:45.182920Z"
    },
    "papermill": {
     "duration": 0.071092,
     "end_time": "2024-09-11T09:10:45.187228",
     "exception": false,
     "start_time": "2024-09-11T09:10:45.116136",
     "status": "completed"
    },
    "tags": []
   },
   "outputs": [
    {
     "name": "stdout",
     "output_type": "stream",
     "text": [
      "2\n"
     ]
    },
    {
     "data": {
      "text/plain": [
       "array(['özel', 'devlet', nan], dtype=object)"
      ]
     },
     "execution_count": 34,
     "metadata": {},
     "output_type": "execute_result"
    }
   ],
   "source": [
    "print(train[\"universite_turu\"].nunique())\n",
    "train[\"universite_turu\"].unique()"
   ]
  },
  {
   "cell_type": "code",
   "execution_count": 35,
   "id": "e4017ed1",
   "metadata": {
    "execution": {
     "iopub.execute_input": "2024-09-11T09:10:45.288259Z",
     "iopub.status.busy": "2024-09-11T09:10:45.287849Z",
     "iopub.status.idle": "2024-09-11T09:10:45.299450Z",
     "shell.execute_reply": "2024-09-11T09:10:45.298166Z"
    },
    "papermill": {
     "duration": 0.065055,
     "end_time": "2024-09-11T09:10:45.301988",
     "exception": false,
     "start_time": "2024-09-11T09:10:45.236933",
     "status": "completed"
    },
    "tags": []
   },
   "outputs": [
    {
     "data": {
      "text/plain": [
       "221"
      ]
     },
     "execution_count": 35,
     "metadata": {},
     "output_type": "execute_result"
    }
   ],
   "source": [
    "train[\"universite_turu\"].isna().sum()"
   ]
  },
  {
   "cell_type": "code",
   "execution_count": 36,
   "id": "93e68308",
   "metadata": {
    "execution": {
     "iopub.execute_input": "2024-09-11T09:10:45.406954Z",
     "iopub.status.busy": "2024-09-11T09:10:45.405725Z",
     "iopub.status.idle": "2024-09-11T09:10:45.436978Z",
     "shell.execute_reply": "2024-09-11T09:10:45.435684Z"
    },
    "papermill": {
     "duration": 0.085678,
     "end_time": "2024-09-11T09:10:45.439654",
     "exception": false,
     "start_time": "2024-09-11T09:10:45.353976",
     "status": "completed"
    },
    "tags": []
   },
   "outputs": [
    {
     "data": {
      "text/html": [
       "<div>\n",
       "<style scoped>\n",
       "    .dataframe tbody tr th:only-of-type {\n",
       "        vertical-align: middle;\n",
       "    }\n",
       "\n",
       "    .dataframe tbody tr th {\n",
       "        vertical-align: top;\n",
       "    }\n",
       "\n",
       "    .dataframe thead th {\n",
       "        text-align: right;\n",
       "    }\n",
       "</style>\n",
       "<table border=\"1\" class=\"dataframe\">\n",
       "  <thead>\n",
       "    <tr style=\"text-align: right;\">\n",
       "      <th></th>\n",
       "      <th>basvuru_yili</th>\n",
       "      <th>degerlendirme_puani</th>\n",
       "      <th>cinsiyet</th>\n",
       "      <th>dogum_tarihi</th>\n",
       "      <th>dogum_yeri</th>\n",
       "      <th>ikametgah_sehri</th>\n",
       "      <th>universite_adi</th>\n",
       "      <th>universite_turu</th>\n",
       "      <th>burslu_ise_burs_yuzdesi</th>\n",
       "      <th>burs_aliyor_mu</th>\n",
       "      <th>...</th>\n",
       "      <th>spor_dalindaki_rolunuz_nedir</th>\n",
       "      <th>aktif_olarak_bir_stk_uyesi_misiniz</th>\n",
       "      <th>hangi_stknin_uyesisiniz</th>\n",
       "      <th>stk_projesine_katildiniz_mi</th>\n",
       "      <th>girisimcilikle_ilgili_deneyiminiz_var_mi</th>\n",
       "      <th>girisimcilikle_ilgili_deneyiminizi_aciklayabilir_misiniz</th>\n",
       "      <th>ingilizce_biliyor_musunuz</th>\n",
       "      <th>ingilizce_seviyeniz</th>\n",
       "      <th>daha_onceden_mezun_olunduysa_mezun_olunan_universite</th>\n",
       "      <th>id</th>\n",
       "    </tr>\n",
       "  </thead>\n",
       "  <tbody>\n",
       "    <tr>\n",
       "      <th>3432</th>\n",
       "      <td>2020</td>\n",
       "      <td>57.0</td>\n",
       "      <td>kadın</td>\n",
       "      <td>1/1/70 2:00</td>\n",
       "      <td>i̇stanbul</td>\n",
       "      <td>i̇stanbul</td>\n",
       "      <td>i̇stanbul okan üni̇versi̇tesi̇</td>\n",
       "      <td>NaN</td>\n",
       "      <td>100.0</td>\n",
       "      <td>evet</td>\n",
       "      <td>...</td>\n",
       "      <td>NaN</td>\n",
       "      <td>evet</td>\n",
       "      <td>aysit vakfı</td>\n",
       "      <td>NaN</td>\n",
       "      <td>evet</td>\n",
       "      <td>kanada -toronto’da bulunduğum süre içerisinde ...</td>\n",
       "      <td>evet</td>\n",
       "      <td>NaN</td>\n",
       "      <td>NaN</td>\n",
       "      <td>3432</td>\n",
       "    </tr>\n",
       "    <tr>\n",
       "      <th>3578</th>\n",
       "      <td>2020</td>\n",
       "      <td>30.0</td>\n",
       "      <td>kadın</td>\n",
       "      <td>1/1/70 2:00</td>\n",
       "      <td>trabzon</td>\n",
       "      <td>ankara</td>\n",
       "      <td>beykent üni̇versi̇tesi̇</td>\n",
       "      <td>NaN</td>\n",
       "      <td>100.0</td>\n",
       "      <td>evet</td>\n",
       "      <td>...</td>\n",
       "      <td>NaN</td>\n",
       "      <td>evet</td>\n",
       "      <td>kaçuv</td>\n",
       "      <td>NaN</td>\n",
       "      <td>hayır</td>\n",
       "      <td>NaN</td>\n",
       "      <td>evet</td>\n",
       "      <td>NaN</td>\n",
       "      <td>NaN</td>\n",
       "      <td>3578</td>\n",
       "    </tr>\n",
       "    <tr>\n",
       "      <th>3944</th>\n",
       "      <td>2020</td>\n",
       "      <td>47.0</td>\n",
       "      <td>erkek</td>\n",
       "      <td>4/3/97 0:00</td>\n",
       "      <td>i̇stanbul</td>\n",
       "      <td>yalova</td>\n",
       "      <td>doğuş üni̇versi̇tesi̇</td>\n",
       "      <td>NaN</td>\n",
       "      <td>100.0</td>\n",
       "      <td>evet</td>\n",
       "      <td>...</td>\n",
       "      <td>lider/kaptan</td>\n",
       "      <td>hayır</td>\n",
       "      <td>NaN</td>\n",
       "      <td>NaN</td>\n",
       "      <td>evet</td>\n",
       "      <td>meetzon, doğru mekanları kullanıcılarıyla bulu...</td>\n",
       "      <td>evet</td>\n",
       "      <td>NaN</td>\n",
       "      <td>NaN</td>\n",
       "      <td>3944</td>\n",
       "    </tr>\n",
       "    <tr>\n",
       "      <th>3987</th>\n",
       "      <td>2020</td>\n",
       "      <td>43.0</td>\n",
       "      <td>kadın</td>\n",
       "      <td>1/1/70 2:00</td>\n",
       "      <td>i̇stanbul</td>\n",
       "      <td>gaziantep</td>\n",
       "      <td>beykent üni̇versi̇tesi̇</td>\n",
       "      <td>NaN</td>\n",
       "      <td>100.0</td>\n",
       "      <td>evet</td>\n",
       "      <td>...</td>\n",
       "      <td>NaN</td>\n",
       "      <td>hayır</td>\n",
       "      <td>NaN</td>\n",
       "      <td>NaN</td>\n",
       "      <td>evet</td>\n",
       "      <td>i̇lk başta kullanmadığım kıyafetleri gardrops ...</td>\n",
       "      <td>hayır</td>\n",
       "      <td>NaN</td>\n",
       "      <td>NaN</td>\n",
       "      <td>3987</td>\n",
       "    </tr>\n",
       "    <tr>\n",
       "      <th>4053</th>\n",
       "      <td>2021</td>\n",
       "      <td>32.0</td>\n",
       "      <td>kadın</td>\n",
       "      <td>11/4/02 0:00</td>\n",
       "      <td>i̇stanbul</td>\n",
       "      <td>yalova</td>\n",
       "      <td>koç üni̇versi̇tesi̇</td>\n",
       "      <td>NaN</td>\n",
       "      <td>100.0</td>\n",
       "      <td>evet</td>\n",
       "      <td>...</td>\n",
       "      <td>NaN</td>\n",
       "      <td>NaN</td>\n",
       "      <td>NaN</td>\n",
       "      <td>NaN</td>\n",
       "      <td>NaN</td>\n",
       "      <td>NaN</td>\n",
       "      <td>evet</td>\n",
       "      <td>NaN</td>\n",
       "      <td>NaN</td>\n",
       "      <td>4053</td>\n",
       "    </tr>\n",
       "  </tbody>\n",
       "</table>\n",
       "<p>5 rows × 44 columns</p>\n",
       "</div>"
      ],
      "text/plain": [
       "      basvuru_yili  degerlendirme_puani cinsiyet  dogum_tarihi dogum_yeri  \\\n",
       "3432          2020                 57.0    kadın   1/1/70 2:00  i̇stanbul   \n",
       "3578          2020                 30.0    kadın   1/1/70 2:00    trabzon   \n",
       "3944          2020                 47.0    erkek   4/3/97 0:00  i̇stanbul   \n",
       "3987          2020                 43.0    kadın   1/1/70 2:00  i̇stanbul   \n",
       "4053          2021                 32.0    kadın  11/4/02 0:00  i̇stanbul   \n",
       "\n",
       "     ikametgah_sehri                  universite_adi universite_turu  \\\n",
       "3432       i̇stanbul  i̇stanbul okan üni̇versi̇tesi̇             NaN   \n",
       "3578          ankara         beykent üni̇versi̇tesi̇             NaN   \n",
       "3944          yalova           doğuş üni̇versi̇tesi̇             NaN   \n",
       "3987       gaziantep         beykent üni̇versi̇tesi̇             NaN   \n",
       "4053          yalova             koç üni̇versi̇tesi̇             NaN   \n",
       "\n",
       "      burslu_ise_burs_yuzdesi burs_aliyor_mu  ...  \\\n",
       "3432                    100.0           evet  ...   \n",
       "3578                    100.0           evet  ...   \n",
       "3944                    100.0           evet  ...   \n",
       "3987                    100.0           evet  ...   \n",
       "4053                    100.0           evet  ...   \n",
       "\n",
       "     spor_dalindaki_rolunuz_nedir aktif_olarak_bir_stk_uyesi_misiniz  \\\n",
       "3432                          NaN                               evet   \n",
       "3578                          NaN                               evet   \n",
       "3944                 lider/kaptan                              hayır   \n",
       "3987                          NaN                              hayır   \n",
       "4053                          NaN                                NaN   \n",
       "\n",
       "     hangi_stknin_uyesisiniz stk_projesine_katildiniz_mi  \\\n",
       "3432             aysit vakfı                         NaN   \n",
       "3578                   kaçuv                         NaN   \n",
       "3944                     NaN                         NaN   \n",
       "3987                     NaN                         NaN   \n",
       "4053                     NaN                         NaN   \n",
       "\n",
       "     girisimcilikle_ilgili_deneyiminiz_var_mi  \\\n",
       "3432                                     evet   \n",
       "3578                                    hayır   \n",
       "3944                                     evet   \n",
       "3987                                     evet   \n",
       "4053                                      NaN   \n",
       "\n",
       "     girisimcilikle_ilgili_deneyiminizi_aciklayabilir_misiniz  \\\n",
       "3432  kanada -toronto’da bulunduğum süre içerisinde ...         \n",
       "3578                                                NaN         \n",
       "3944  meetzon, doğru mekanları kullanıcılarıyla bulu...         \n",
       "3987  i̇lk başta kullanmadığım kıyafetleri gardrops ...         \n",
       "4053                                                NaN         \n",
       "\n",
       "     ingilizce_biliyor_musunuz ingilizce_seviyeniz  \\\n",
       "3432                      evet                 NaN   \n",
       "3578                      evet                 NaN   \n",
       "3944                      evet                 NaN   \n",
       "3987                     hayır                 NaN   \n",
       "4053                      evet                 NaN   \n",
       "\n",
       "     daha_onceden_mezun_olunduysa_mezun_olunan_universite    id  \n",
       "3432                                                NaN    3432  \n",
       "3578                                                NaN    3578  \n",
       "3944                                                NaN    3944  \n",
       "3987                                                NaN    3987  \n",
       "4053                                                NaN    4053  \n",
       "\n",
       "[5 rows x 44 columns]"
      ]
     },
     "execution_count": 36,
     "metadata": {},
     "output_type": "execute_result"
    }
   ],
   "source": [
    "train[train[\"universite_turu\"].isna()].head()"
   ]
  },
  {
   "cell_type": "code",
   "execution_count": 37,
   "id": "c71392a9",
   "metadata": {
    "execution": {
     "iopub.execute_input": "2024-09-11T09:10:45.542161Z",
     "iopub.status.busy": "2024-09-11T09:10:45.540852Z",
     "iopub.status.idle": "2024-09-11T09:10:45.607621Z",
     "shell.execute_reply": "2024-09-11T09:10:45.606171Z"
    },
    "papermill": {
     "duration": 0.120976,
     "end_time": "2024-09-11T09:10:45.610615",
     "exception": false,
     "start_time": "2024-09-11T09:10:45.489639",
     "status": "completed"
    },
    "tags": []
   },
   "outputs": [],
   "source": [
    "train = train.dropna(subset=[\"universite_turu\"])"
   ]
  },
  {
   "cell_type": "code",
   "execution_count": 38,
   "id": "4af5748c",
   "metadata": {
    "execution": {
     "iopub.execute_input": "2024-09-11T09:10:45.715129Z",
     "iopub.status.busy": "2024-09-11T09:10:45.714615Z",
     "iopub.status.idle": "2024-09-11T09:10:45.733039Z",
     "shell.execute_reply": "2024-09-11T09:10:45.731748Z"
    },
    "papermill": {
     "duration": 0.073118,
     "end_time": "2024-09-11T09:10:45.735551",
     "exception": false,
     "start_time": "2024-09-11T09:10:45.662433",
     "status": "completed"
    },
    "tags": []
   },
   "outputs": [
    {
     "name": "stdout",
     "output_type": "stream",
     "text": [
      "universite_turu kategorisi yeni değer sayısı: 2\n",
      "universite_turu kategorisi yeni değerler: ['özel' 'devlet']\n",
      "Eğitim seti yeni satır sayısı 64619\n"
     ]
    }
   ],
   "source": [
    "# GÜNCEL DURUM\n",
    "print(\"universite_turu kategorisi yeni değer sayısı:\", train[\"universite_turu\"].nunique())\n",
    "print(\"universite_turu kategorisi yeni değerler:\",train[\"universite_turu\"].unique())\n",
    "\n",
    "print(f\"Eğitim seti yeni satır sayısı {len(train)}\")"
   ]
  },
  {
   "cell_type": "markdown",
   "id": "84a06161",
   "metadata": {
    "papermill": {
     "duration": 0.05136,
     "end_time": "2024-09-11T09:10:45.840008",
     "exception": false,
     "start_time": "2024-09-11T09:10:45.788648",
     "status": "completed"
    },
    "tags": []
   },
   "source": [
    "### Burslu ise Burs Yuzdesi\n",
    "\n",
    "- 42269 NaN veri, 0 olarak değiştirildi."
   ]
  },
  {
   "cell_type": "code",
   "execution_count": 39,
   "id": "c9ba5f48",
   "metadata": {
    "execution": {
     "iopub.execute_input": "2024-09-11T09:10:45.943728Z",
     "iopub.status.busy": "2024-09-11T09:10:45.943301Z",
     "iopub.status.idle": "2024-09-11T09:10:45.954505Z",
     "shell.execute_reply": "2024-09-11T09:10:45.952843Z"
    },
    "papermill": {
     "duration": 0.066449,
     "end_time": "2024-09-11T09:10:45.957285",
     "exception": false,
     "start_time": "2024-09-11T09:10:45.890836",
     "status": "completed"
    },
    "tags": []
   },
   "outputs": [
    {
     "name": "stdout",
     "output_type": "stream",
     "text": [
      "50\n"
     ]
    },
    {
     "data": {
      "text/plain": [
       "array([100. ,  99. ,  98. ,  91.5,  90. ,  88. ,  87.5,  85. ,  82.5,\n",
       "        80. ,  75. ,  74. ,  72. ,  70. ,  69. ,  67. ,  65. ,  64. ,\n",
       "        63. ,  62.5,  62. ,  60. ,  57.5,  57. ,  55. ,  50. ,  49. ,\n",
       "        48. ,  46. ,  45. ,  41.5,  41. ,  40. ,  37. ,  35. ,  32. ,\n",
       "        30. ,  25. ,  20. ,  11. ,  10. ,   8. ,   7. ,   6. ,   5. ,\n",
       "         4. ,   3. ,   2. ,   1. ,   0. ,   nan])"
      ]
     },
     "execution_count": 39,
     "metadata": {},
     "output_type": "execute_result"
    }
   ],
   "source": [
    "print(train[\"burslu_ise_burs_yuzdesi\"].nunique())\n",
    "train[\"burslu_ise_burs_yuzdesi\"].unique()"
   ]
  },
  {
   "cell_type": "code",
   "execution_count": 40,
   "id": "1c0418bb",
   "metadata": {
    "execution": {
     "iopub.execute_input": "2024-09-11T09:10:46.060847Z",
     "iopub.status.busy": "2024-09-11T09:10:46.060372Z",
     "iopub.status.idle": "2024-09-11T09:10:46.070103Z",
     "shell.execute_reply": "2024-09-11T09:10:46.068686Z"
    },
    "papermill": {
     "duration": 0.064189,
     "end_time": "2024-09-11T09:10:46.072663",
     "exception": false,
     "start_time": "2024-09-11T09:10:46.008474",
     "status": "completed"
    },
    "tags": []
   },
   "outputs": [
    {
     "data": {
      "text/plain": [
       "42268"
      ]
     },
     "execution_count": 40,
     "metadata": {},
     "output_type": "execute_result"
    }
   ],
   "source": [
    "train[\"burslu_ise_burs_yuzdesi\"].isna().sum()"
   ]
  },
  {
   "cell_type": "code",
   "execution_count": 41,
   "id": "8f77e8fc",
   "metadata": {
    "execution": {
     "iopub.execute_input": "2024-09-11T09:10:46.175926Z",
     "iopub.status.busy": "2024-09-11T09:10:46.175492Z",
     "iopub.status.idle": "2024-09-11T09:10:46.182949Z",
     "shell.execute_reply": "2024-09-11T09:10:46.181705Z"
    },
    "papermill": {
     "duration": 0.062676,
     "end_time": "2024-09-11T09:10:46.185698",
     "exception": false,
     "start_time": "2024-09-11T09:10:46.123022",
     "status": "completed"
    },
    "tags": []
   },
   "outputs": [],
   "source": [
    "train[\"burslu_ise_burs_yuzdesi\"] = train[\"burslu_ise_burs_yuzdesi\"].fillna(0)"
   ]
  },
  {
   "cell_type": "code",
   "execution_count": 42,
   "id": "fb24fc64",
   "metadata": {
    "execution": {
     "iopub.execute_input": "2024-09-11T09:10:46.290430Z",
     "iopub.status.busy": "2024-09-11T09:10:46.290026Z",
     "iopub.status.idle": "2024-09-11T09:10:46.299394Z",
     "shell.execute_reply": "2024-09-11T09:10:46.298122Z"
    },
    "papermill": {
     "duration": 0.06471,
     "end_time": "2024-09-11T09:10:46.302096",
     "exception": false,
     "start_time": "2024-09-11T09:10:46.237386",
     "status": "completed"
    },
    "tags": []
   },
   "outputs": [
    {
     "name": "stdout",
     "output_type": "stream",
     "text": [
      "burslu_ise_burs_yuzdesi kategorisi yeni değer sayısı: 50\n",
      "burslu_ise_burs_yuzdesi kategorisi yeni değerler: [100.   99.   98.   91.5  90.   88.   87.5  85.   82.5  80.   75.   74.\n",
      "  72.   70.   69.   67.   65.   64.   63.   62.5  62.   60.   57.5  57.\n",
      "  55.   50.   49.   48.   46.   45.   41.5  41.   40.   37.   35.   32.\n",
      "  30.   25.   20.   11.   10.    8.    7.    6.    5.    4.    3.    2.\n",
      "   1.    0. ]\n",
      "Eğitim seti yeni satır sayısı 64619\n"
     ]
    }
   ],
   "source": [
    "# GÜNCEL DURUM\n",
    "print(\"burslu_ise_burs_yuzdesi kategorisi yeni değer sayısı:\", train[\"burslu_ise_burs_yuzdesi\"].nunique())\n",
    "print(\"burslu_ise_burs_yuzdesi kategorisi yeni değerler:\",train[\"burslu_ise_burs_yuzdesi\"].unique())\n",
    "\n",
    "print(f\"Eğitim seti yeni satır sayısı {len(train)}\")"
   ]
  },
  {
   "cell_type": "markdown",
   "id": "e3d40b7d",
   "metadata": {
    "papermill": {
     "duration": 0.051254,
     "end_time": "2024-09-11T09:10:46.406067",
     "exception": false,
     "start_time": "2024-09-11T09:10:46.354813",
     "status": "completed"
    },
    "tags": []
   },
   "source": [
    "### burs_aliyor_mu\n",
    "\n",
    "- Boş veri; ilginçtir ki, hiç yoktu."
   ]
  },
  {
   "cell_type": "code",
   "execution_count": 43,
   "id": "4877a210",
   "metadata": {
    "execution": {
     "iopub.execute_input": "2024-09-11T09:10:46.567877Z",
     "iopub.status.busy": "2024-09-11T09:10:46.567445Z",
     "iopub.status.idle": "2024-09-11T09:10:46.589171Z",
     "shell.execute_reply": "2024-09-11T09:10:46.587961Z"
    },
    "papermill": {
     "duration": 0.077492,
     "end_time": "2024-09-11T09:10:46.591426",
     "exception": false,
     "start_time": "2024-09-11T09:10:46.513934",
     "status": "completed"
    },
    "tags": []
   },
   "outputs": [
    {
     "name": "stdout",
     "output_type": "stream",
     "text": [
      "2\n"
     ]
    },
    {
     "data": {
      "text/plain": [
       "array(['evet', 'hayır'], dtype=object)"
      ]
     },
     "execution_count": 43,
     "metadata": {},
     "output_type": "execute_result"
    }
   ],
   "source": [
    "print(train[\"burs_aliyor_mu\"].nunique())\n",
    "train[\"burs_aliyor_mu\"].unique()"
   ]
  },
  {
   "cell_type": "code",
   "execution_count": 44,
   "id": "44374388",
   "metadata": {
    "execution": {
     "iopub.execute_input": "2024-09-11T09:10:46.694936Z",
     "iopub.status.busy": "2024-09-11T09:10:46.694511Z",
     "iopub.status.idle": "2024-09-11T09:10:46.706502Z",
     "shell.execute_reply": "2024-09-11T09:10:46.705283Z"
    },
    "papermill": {
     "duration": 0.067053,
     "end_time": "2024-09-11T09:10:46.708878",
     "exception": false,
     "start_time": "2024-09-11T09:10:46.641825",
     "status": "completed"
    },
    "tags": []
   },
   "outputs": [
    {
     "data": {
      "text/plain": [
       "0"
      ]
     },
     "execution_count": 44,
     "metadata": {},
     "output_type": "execute_result"
    }
   ],
   "source": [
    "train[\"burs_aliyor_mu\"].isna().sum()"
   ]
  },
  {
   "cell_type": "code",
   "execution_count": 45,
   "id": "9da7b4ea",
   "metadata": {
    "execution": {
     "iopub.execute_input": "2024-09-11T09:10:46.815588Z",
     "iopub.status.busy": "2024-09-11T09:10:46.815153Z",
     "iopub.status.idle": "2024-09-11T09:10:46.831719Z",
     "shell.execute_reply": "2024-09-11T09:10:46.830355Z"
    },
    "papermill": {
     "duration": 0.072238,
     "end_time": "2024-09-11T09:10:46.834306",
     "exception": false,
     "start_time": "2024-09-11T09:10:46.762068",
     "status": "completed"
    },
    "tags": []
   },
   "outputs": [
    {
     "name": "stdout",
     "output_type": "stream",
     "text": [
      "burs_aliyor_mu kategorisi yeni değer sayısı: 2\n",
      "burs_aliyor_mu kategorisi yeni değerler: ['evet' 'hayır']\n",
      "Eğitim seti yeni satır sayısı 64619\n"
     ]
    }
   ],
   "source": [
    "# GÜNCEL DURUM\n",
    "print(\"burs_aliyor_mu kategorisi yeni değer sayısı:\", train[\"burs_aliyor_mu\"].nunique())\n",
    "print(\"burs_aliyor_mu kategorisi yeni değerler:\",train[\"burs_aliyor_mu\"].unique())\n",
    "\n",
    "print(f\"Eğitim seti yeni satır sayısı {len(train)}\")"
   ]
  },
  {
   "cell_type": "markdown",
   "id": "b5c2b382",
   "metadata": {
    "papermill": {
     "duration": 0.05094,
     "end_time": "2024-09-11T09:10:46.937472",
     "exception": false,
     "start_time": "2024-09-11T09:10:46.886532",
     "status": "completed"
    },
    "tags": []
   },
   "source": [
    "### universite_kacinci_sinif ! ! !\n",
    "\n",
    "- 0 değerine sahip olanlar kaldırıldı. (3 kayıt vardı.) "
   ]
  },
  {
   "cell_type": "code",
   "execution_count": 46,
   "id": "a3ae9dfd",
   "metadata": {
    "execution": {
     "iopub.execute_input": "2024-09-11T09:10:47.045598Z",
     "iopub.status.busy": "2024-09-11T09:10:47.045198Z",
     "iopub.status.idle": "2024-09-11T09:10:47.062393Z",
     "shell.execute_reply": "2024-09-11T09:10:47.060903Z"
    },
    "papermill": {
     "duration": 0.076566,
     "end_time": "2024-09-11T09:10:47.065073",
     "exception": false,
     "start_time": "2024-09-11T09:10:46.988507",
     "status": "completed"
    },
    "tags": []
   },
   "outputs": [
    {
     "name": "stdout",
     "output_type": "stream",
     "text": [
      "11\n"
     ]
    },
    {
     "data": {
      "text/plain": [
       "array(['3', '1', nan, '2', '4', 'hazırlık', 'mezun', 'yüksek lisans', '5',\n",
       "       '6', 'tez', '0'], dtype=object)"
      ]
     },
     "execution_count": 46,
     "metadata": {},
     "output_type": "execute_result"
    }
   ],
   "source": [
    "print(train[\"universite_kacinci_sinif\"].nunique())\n",
    "train[\"universite_kacinci_sinif\"].unique()"
   ]
  },
  {
   "cell_type": "code",
   "execution_count": 47,
   "id": "28c36a3b",
   "metadata": {
    "execution": {
     "iopub.execute_input": "2024-09-11T09:10:47.170998Z",
     "iopub.status.busy": "2024-09-11T09:10:47.170066Z",
     "iopub.status.idle": "2024-09-11T09:10:47.207643Z",
     "shell.execute_reply": "2024-09-11T09:10:47.206233Z"
    },
    "papermill": {
     "duration": 0.093548,
     "end_time": "2024-09-11T09:10:47.210139",
     "exception": false,
     "start_time": "2024-09-11T09:10:47.116591",
     "status": "completed"
    },
    "tags": []
   },
   "outputs": [
    {
     "data": {
      "text/html": [
       "<div>\n",
       "<style scoped>\n",
       "    .dataframe tbody tr th:only-of-type {\n",
       "        vertical-align: middle;\n",
       "    }\n",
       "\n",
       "    .dataframe tbody tr th {\n",
       "        vertical-align: top;\n",
       "    }\n",
       "\n",
       "    .dataframe thead th {\n",
       "        text-align: right;\n",
       "    }\n",
       "</style>\n",
       "<table border=\"1\" class=\"dataframe\">\n",
       "  <thead>\n",
       "    <tr style=\"text-align: right;\">\n",
       "      <th></th>\n",
       "      <th>basvuru_yili</th>\n",
       "      <th>degerlendirme_puani</th>\n",
       "      <th>cinsiyet</th>\n",
       "      <th>dogum_tarihi</th>\n",
       "      <th>dogum_yeri</th>\n",
       "      <th>ikametgah_sehri</th>\n",
       "      <th>universite_adi</th>\n",
       "      <th>universite_turu</th>\n",
       "      <th>burslu_ise_burs_yuzdesi</th>\n",
       "      <th>burs_aliyor_mu</th>\n",
       "      <th>...</th>\n",
       "      <th>spor_dalindaki_rolunuz_nedir</th>\n",
       "      <th>aktif_olarak_bir_stk_uyesi_misiniz</th>\n",
       "      <th>hangi_stknin_uyesisiniz</th>\n",
       "      <th>stk_projesine_katildiniz_mi</th>\n",
       "      <th>girisimcilikle_ilgili_deneyiminiz_var_mi</th>\n",
       "      <th>girisimcilikle_ilgili_deneyiminizi_aciklayabilir_misiniz</th>\n",
       "      <th>ingilizce_biliyor_musunuz</th>\n",
       "      <th>ingilizce_seviyeniz</th>\n",
       "      <th>daha_onceden_mezun_olunduysa_mezun_olunan_universite</th>\n",
       "      <th>id</th>\n",
       "    </tr>\n",
       "  </thead>\n",
       "  <tbody>\n",
       "    <tr>\n",
       "      <th>12818</th>\n",
       "      <td>2014</td>\n",
       "      <td>10.0</td>\n",
       "      <td>erkek</td>\n",
       "      <td>8/15/1993</td>\n",
       "      <td>kahramanmaraş</td>\n",
       "      <td>NaN</td>\n",
       "      <td>gazi̇antep üni̇versi̇tesi̇</td>\n",
       "      <td>devlet</td>\n",
       "      <td>0.0</td>\n",
       "      <td>evet</td>\n",
       "      <td>...</td>\n",
       "      <td>0</td>\n",
       "      <td>hayır</td>\n",
       "      <td>NaN</td>\n",
       "      <td>hayır</td>\n",
       "      <td>hayır</td>\n",
       "      <td>NaN</td>\n",
       "      <td>NaN</td>\n",
       "      <td>NaN</td>\n",
       "      <td>NaN</td>\n",
       "      <td>12818</td>\n",
       "    </tr>\n",
       "    <tr>\n",
       "      <th>14605</th>\n",
       "      <td>2014</td>\n",
       "      <td>14.0</td>\n",
       "      <td>erkek</td>\n",
       "      <td>1/18/1994</td>\n",
       "      <td>balıkesir</td>\n",
       "      <td>i̇stanbul</td>\n",
       "      <td>boğazi̇çi̇ üni̇versi̇tesi̇</td>\n",
       "      <td>devlet</td>\n",
       "      <td>0.0</td>\n",
       "      <td>hayır</td>\n",
       "      <td>...</td>\n",
       "      <td>0</td>\n",
       "      <td>hayır</td>\n",
       "      <td>NaN</td>\n",
       "      <td>hayır</td>\n",
       "      <td>evet</td>\n",
       "      <td>3 şirket deneyimim var1 seo ajansı, 1 eticaret...</td>\n",
       "      <td>NaN</td>\n",
       "      <td>NaN</td>\n",
       "      <td>NaN</td>\n",
       "      <td>14605</td>\n",
       "    </tr>\n",
       "    <tr>\n",
       "      <th>15589</th>\n",
       "      <td>2014</td>\n",
       "      <td>44.0</td>\n",
       "      <td>kadın</td>\n",
       "      <td>1/1/1970</td>\n",
       "      <td>yerköy</td>\n",
       "      <td>kırşehir</td>\n",
       "      <td>orta doğu tekni̇k üni̇versi̇tesi̇</td>\n",
       "      <td>devlet</td>\n",
       "      <td>0.0</td>\n",
       "      <td>hayır</td>\n",
       "      <td>...</td>\n",
       "      <td>diğer</td>\n",
       "      <td>evet</td>\n",
       "      <td>sulak alanları koruma, yaban hayatını koruma, ...</td>\n",
       "      <td>hayır</td>\n",
       "      <td>evet</td>\n",
       "      <td>içinde benim üye olduğum sivil toplum kuruluşu...</td>\n",
       "      <td>NaN</td>\n",
       "      <td>NaN</td>\n",
       "      <td>NaN</td>\n",
       "      <td>15589</td>\n",
       "    </tr>\n",
       "  </tbody>\n",
       "</table>\n",
       "<p>3 rows × 44 columns</p>\n",
       "</div>"
      ],
      "text/plain": [
       "       basvuru_yili  degerlendirme_puani cinsiyet dogum_tarihi     dogum_yeri  \\\n",
       "12818          2014                 10.0    erkek    8/15/1993  kahramanmaraş   \n",
       "14605          2014                 14.0    erkek    1/18/1994      balıkesir   \n",
       "15589          2014                 44.0    kadın     1/1/1970         yerköy   \n",
       "\n",
       "      ikametgah_sehri                     universite_adi universite_turu  \\\n",
       "12818             NaN         gazi̇antep üni̇versi̇tesi̇          devlet   \n",
       "14605       i̇stanbul         boğazi̇çi̇ üni̇versi̇tesi̇          devlet   \n",
       "15589        kırşehir  orta doğu tekni̇k üni̇versi̇tesi̇          devlet   \n",
       "\n",
       "       burslu_ise_burs_yuzdesi burs_aliyor_mu  ...  \\\n",
       "12818                      0.0           evet  ...   \n",
       "14605                      0.0          hayır  ...   \n",
       "15589                      0.0          hayır  ...   \n",
       "\n",
       "      spor_dalindaki_rolunuz_nedir aktif_olarak_bir_stk_uyesi_misiniz  \\\n",
       "12818                            0                              hayır   \n",
       "14605                            0                              hayır   \n",
       "15589                        diğer                               evet   \n",
       "\n",
       "                                 hangi_stknin_uyesisiniz  \\\n",
       "12818                                                NaN   \n",
       "14605                                                NaN   \n",
       "15589  sulak alanları koruma, yaban hayatını koruma, ...   \n",
       "\n",
       "      stk_projesine_katildiniz_mi girisimcilikle_ilgili_deneyiminiz_var_mi  \\\n",
       "12818                       hayır                                    hayır   \n",
       "14605                       hayır                                     evet   \n",
       "15589                       hayır                                     evet   \n",
       "\n",
       "      girisimcilikle_ilgili_deneyiminizi_aciklayabilir_misiniz  \\\n",
       "12818                                                NaN         \n",
       "14605  3 şirket deneyimim var1 seo ajansı, 1 eticaret...         \n",
       "15589  içinde benim üye olduğum sivil toplum kuruluşu...         \n",
       "\n",
       "      ingilizce_biliyor_musunuz ingilizce_seviyeniz  \\\n",
       "12818                       NaN                 NaN   \n",
       "14605                       NaN                 NaN   \n",
       "15589                       NaN                 NaN   \n",
       "\n",
       "      daha_onceden_mezun_olunduysa_mezun_olunan_universite     id  \n",
       "12818                                                NaN    12818  \n",
       "14605                                                NaN    14605  \n",
       "15589                                                NaN    15589  \n",
       "\n",
       "[3 rows x 44 columns]"
      ]
     },
     "execution_count": 47,
     "metadata": {},
     "output_type": "execute_result"
    }
   ],
   "source": [
    "train.loc[train[\"universite_kacinci_sinif\"] == \"0\"]"
   ]
  },
  {
   "cell_type": "code",
   "execution_count": 48,
   "id": "f2b2454f",
   "metadata": {
    "execution": {
     "iopub.execute_input": "2024-09-11T09:10:47.314228Z",
     "iopub.status.busy": "2024-09-11T09:10:47.313815Z",
     "iopub.status.idle": "2024-09-11T09:10:47.366859Z",
     "shell.execute_reply": "2024-09-11T09:10:47.365499Z"
    },
    "papermill": {
     "duration": 0.108147,
     "end_time": "2024-09-11T09:10:47.369443",
     "exception": false,
     "start_time": "2024-09-11T09:10:47.261296",
     "status": "completed"
    },
    "tags": []
   },
   "outputs": [
    {
     "name": "stdout",
     "output_type": "stream",
     "text": [
      "3\n",
      "7\n",
      "15\n",
      "178\n",
      "1289\n"
     ]
    }
   ],
   "source": [
    "print(len(train.loc[train[\"universite_kacinci_sinif\"] == \"0\"]))\n",
    "print(len(train.loc[train[\"universite_kacinci_sinif\"] == \"tez\"]))\n",
    "print(len(train.loc[train[\"universite_kacinci_sinif\"] == \"yüksek lisans\"])) # yeni kategori açmak için iyi bir sayı değil. Sistemi yormaya değmez.\n",
    "print(len(train.loc[train[\"universite_kacinci_sinif\"] == \"mezun\"]))\n",
    "print(len(train.loc[train[\"universite_kacinci_sinif\"] == \"hazırlık\"]))"
   ]
  },
  {
   "cell_type": "code",
   "execution_count": 49,
   "id": "1c848bb0",
   "metadata": {
    "execution": {
     "iopub.execute_input": "2024-09-11T09:10:47.473821Z",
     "iopub.status.busy": "2024-09-11T09:10:47.473369Z",
     "iopub.status.idle": "2024-09-11T09:10:47.668941Z",
     "shell.execute_reply": "2024-09-11T09:10:47.667590Z"
    },
    "papermill": {
     "duration": 0.251341,
     "end_time": "2024-09-11T09:10:47.671974",
     "exception": false,
     "start_time": "2024-09-11T09:10:47.420633",
     "status": "completed"
    },
    "tags": []
   },
   "outputs": [],
   "source": [
    "train = train.loc[train['universite_kacinci_sinif'] != '0']\n",
    "train = train.loc[train['universite_kacinci_sinif'] != 'tez']\n",
    "train = train.loc[train['universite_kacinci_sinif'] != 'yüksek lisans']"
   ]
  },
  {
   "cell_type": "code",
   "execution_count": 50,
   "id": "98b70265",
   "metadata": {
    "execution": {
     "iopub.execute_input": "2024-09-11T09:10:47.779702Z",
     "iopub.status.busy": "2024-09-11T09:10:47.779267Z",
     "iopub.status.idle": "2024-09-11T09:10:47.847354Z",
     "shell.execute_reply": "2024-09-11T09:10:47.846063Z"
    },
    "papermill": {
     "duration": 0.126085,
     "end_time": "2024-09-11T09:10:47.850575",
     "exception": false,
     "start_time": "2024-09-11T09:10:47.724490",
     "status": "completed"
    },
    "tags": []
   },
   "outputs": [],
   "source": [
    "train = train.dropna(subset=[\"universite_kacinci_sinif\"])"
   ]
  },
  {
   "cell_type": "code",
   "execution_count": 51,
   "id": "c4da8a62",
   "metadata": {
    "execution": {
     "iopub.execute_input": "2024-09-11T09:10:47.955935Z",
     "iopub.status.busy": "2024-09-11T09:10:47.955470Z",
     "iopub.status.idle": "2024-09-11T09:10:47.966879Z",
     "shell.execute_reply": "2024-09-11T09:10:47.965804Z"
    },
    "papermill": {
     "duration": 0.066269,
     "end_time": "2024-09-11T09:10:47.969319",
     "exception": false,
     "start_time": "2024-09-11T09:10:47.903050",
     "status": "completed"
    },
    "tags": []
   },
   "outputs": [
    {
     "data": {
      "text/plain": [
       "0"
      ]
     },
     "execution_count": 51,
     "metadata": {},
     "output_type": "execute_result"
    }
   ],
   "source": [
    "train[\"universite_kacinci_sinif\"].isna().sum()"
   ]
  },
  {
   "cell_type": "code",
   "execution_count": 52,
   "id": "5cc8c340",
   "metadata": {
    "execution": {
     "iopub.execute_input": "2024-09-11T09:10:48.075857Z",
     "iopub.status.busy": "2024-09-11T09:10:48.075387Z",
     "iopub.status.idle": "2024-09-11T09:10:48.090618Z",
     "shell.execute_reply": "2024-09-11T09:10:48.089490Z"
    },
    "papermill": {
     "duration": 0.071016,
     "end_time": "2024-09-11T09:10:48.093272",
     "exception": false,
     "start_time": "2024-09-11T09:10:48.022256",
     "status": "completed"
    },
    "tags": []
   },
   "outputs": [
    {
     "name": "stdout",
     "output_type": "stream",
     "text": [
      "universite_kacinci_sinif kategorisi yeni değer sayısı: 8\n",
      "universite_kacinci_sinif kategorisi yeni değerler: ['3' '1' '2' '4' 'hazırlık' 'mezun' '5' '6']\n",
      "Eğitim seti yeni satır sayısı 64276\n"
     ]
    }
   ],
   "source": [
    "# GÜNCEL DURUM\n",
    "print(\"universite_kacinci_sinif kategorisi yeni değer sayısı:\", train[\"universite_kacinci_sinif\"].nunique())\n",
    "print(\"universite_kacinci_sinif kategorisi yeni değerler:\",train[\"universite_kacinci_sinif\"].unique())\n",
    "\n",
    "print(f\"Eğitim seti yeni satır sayısı {len(train)}\")"
   ]
  },
  {
   "cell_type": "markdown",
   "id": "d3c72744",
   "metadata": {
    "papermill": {
     "duration": 0.052022,
     "end_time": "2024-09-11T09:10:48.196630",
     "exception": false,
     "start_time": "2024-09-11T09:10:48.144608",
     "status": "completed"
    },
    "tags": []
   },
   "source": [
    "### universite_not_ortalamasi ! ! !\n",
    "\n",
    "-"
   ]
  },
  {
   "cell_type": "code",
   "execution_count": 53,
   "id": "f69aec70",
   "metadata": {
    "execution": {
     "iopub.execute_input": "2024-09-11T09:10:48.301803Z",
     "iopub.status.busy": "2024-09-11T09:10:48.301386Z",
     "iopub.status.idle": "2024-09-11T09:10:48.320943Z",
     "shell.execute_reply": "2024-09-11T09:10:48.319819Z"
    },
    "papermill": {
     "duration": 0.07583,
     "end_time": "2024-09-11T09:10:48.323553",
     "exception": false,
     "start_time": "2024-09-11T09:10:48.247723",
     "status": "completed"
    },
    "tags": []
   },
   "outputs": [
    {
     "name": "stdout",
     "output_type": "stream",
     "text": [
      "19\n"
     ]
    },
    {
     "data": {
      "text/plain": [
       "array(['3.50-3', '3.00-2.50', nan, '2.50 ve altı', '3.00 - 4.00',\n",
       "       '3.50 - 4.00', '3.00 - 3.50', '2.50 -3.00', 'ortalama bulunmuyor',\n",
       "       '4-3.5', '2.50 - 3.00', '2.00 - 2.50', '1.00 - 2.50',\n",
       "       'not ortalaması yok', '4.0-3.5', '3.00 - 3.49', '2.50 - 2.99',\n",
       "       '1.80 - 2.49', 'hazırlığım', '0 - 1.79'], dtype=object)"
      ]
     },
     "execution_count": 53,
     "metadata": {},
     "output_type": "execute_result"
    }
   ],
   "source": [
    "print(train[\"universite_not_ortalamasi\"].nunique())\n",
    "train[\"universite_not_ortalamasi\"].unique()"
   ]
  },
  {
   "cell_type": "code",
   "execution_count": 54,
   "id": "5c3b72ba",
   "metadata": {
    "execution": {
     "iopub.execute_input": "2024-09-11T09:10:48.432394Z",
     "iopub.status.busy": "2024-09-11T09:10:48.431983Z",
     "iopub.status.idle": "2024-09-11T09:10:48.448610Z",
     "shell.execute_reply": "2024-09-11T09:10:48.447478Z"
    },
    "papermill": {
     "duration": 0.07287,
     "end_time": "2024-09-11T09:10:48.451062",
     "exception": false,
     "start_time": "2024-09-11T09:10:48.378192",
     "status": "completed"
    },
    "tags": []
   },
   "outputs": [
    {
     "data": {
      "text/plain": [
       "universite_not_ortalamasi\n",
       "3.00-2.50              10675\n",
       "2.50 ve altı           10511\n",
       "3.00 - 3.50             7737\n",
       "3.50-3                  6135\n",
       "2.50 - 3.00             5621\n",
       "3.50 - 4.00             4367\n",
       "ortalama bulunmuyor     2798\n",
       "2.50 - 2.99             2445\n",
       "2.00 - 2.50             2439\n",
       "3.00 - 3.49             2376\n",
       "2.50 -3.00              1734\n",
       "3.00 - 4.00             1397\n",
       "1.80 - 2.49             1166\n",
       "hazırlığım               667\n",
       "not ortalaması yok       575\n",
       "4-3.5                    475\n",
       "1.00 - 2.50              320\n",
       "0 - 1.79                 185\n",
       "4.0-3.5                    1\n",
       "Name: count, dtype: int64"
      ]
     },
     "execution_count": 54,
     "metadata": {},
     "output_type": "execute_result"
    }
   ],
   "source": [
    "train[\"universite_not_ortalamasi\"].value_counts()"
   ]
  },
  {
   "cell_type": "code",
   "execution_count": 55,
   "id": "6481b953",
   "metadata": {
    "execution": {
     "iopub.execute_input": "2024-09-11T09:10:48.559942Z",
     "iopub.status.busy": "2024-09-11T09:10:48.558654Z",
     "iopub.status.idle": "2024-09-11T09:10:48.702506Z",
     "shell.execute_reply": "2024-09-11T09:10:48.701203Z"
    },
    "papermill": {
     "duration": 0.201523,
     "end_time": "2024-09-11T09:10:48.705204",
     "exception": false,
     "start_time": "2024-09-11T09:10:48.503681",
     "status": "completed"
    },
    "tags": []
   },
   "outputs": [],
   "source": [
    "train['universite_not_ortalamasi'] = train['universite_not_ortalamasi'].replace('3.00-2.50', '2.50 ve üstü')\n",
    "train['universite_not_ortalamasi'] = train['universite_not_ortalamasi'].replace('3.00 - 3.50', '2.50 ve üstü')\n",
    "train['universite_not_ortalamasi'] = train['universite_not_ortalamasi'].replace('3.50-3', '2.50 ve üstü')\n",
    "train['universite_not_ortalamasi'] = train['universite_not_ortalamasi'].replace('2.50 - 3.00', '2.50 ve üstü')\n",
    "train['universite_not_ortalamasi'] = train['universite_not_ortalamasi'].replace('3.50 - 4.00', '2.50 ve üstü')\n",
    "train['universite_not_ortalamasi'] = train['universite_not_ortalamasi'].replace('2.50 - 2.99', '2.50 ve üstü')\n",
    "train['universite_not_ortalamasi'] = train['universite_not_ortalamasi'].replace('2.00 - 2.50', '2.50 ve altı')\n",
    "train['universite_not_ortalamasi'] = train['universite_not_ortalamasi'].replace('3.00 - 3.49', '2.50 ve üstü')\n",
    "train['universite_not_ortalamasi'] = train['universite_not_ortalamasi'].replace('2.50 -3.00', '2.50 ve üstü')\n",
    "train['universite_not_ortalamasi'] = train['universite_not_ortalamasi'].replace('3.00 - 4.00', '2.50 ve üstü')\n",
    "train['universite_not_ortalamasi'] = train['universite_not_ortalamasi'].replace('1.80 - 2.49', '2.50 ve altı')\n",
    "train['universite_not_ortalamasi'] = train['universite_not_ortalamasi'].replace('4-3.5', '2.50 ve üstü')\n",
    "train['universite_not_ortalamasi'] = train['universite_not_ortalamasi'].replace('1.00 - 2.50', '2.50 ve altı')\n",
    "train['universite_not_ortalamasi'] = train['universite_not_ortalamasi'].replace('0 - 1.79', '2.50 ve altı')\n",
    "train['universite_not_ortalamasi'] = train['universite_not_ortalamasi'].replace('4.0-3.5', '2.50 ve üstü')\n",
    "train['universite_not_ortalamasi'] = train['universite_not_ortalamasi'].replace('not ortalaması yok', '0')\n",
    "train['universite_not_ortalamasi'] = train['universite_not_ortalamasi'].replace('ortalama bulunmuyor', '0')\n",
    "train['universite_not_ortalamasi'] = train['universite_not_ortalamasi'].replace('hazırlığım', '0')"
   ]
  },
  {
   "cell_type": "code",
   "execution_count": 56,
   "id": "e652517c",
   "metadata": {
    "execution": {
     "iopub.execute_input": "2024-09-11T09:10:48.811806Z",
     "iopub.status.busy": "2024-09-11T09:10:48.811251Z",
     "iopub.status.idle": "2024-09-11T09:10:48.824598Z",
     "shell.execute_reply": "2024-09-11T09:10:48.823294Z"
    },
    "papermill": {
     "duration": 0.069878,
     "end_time": "2024-09-11T09:10:48.827589",
     "exception": false,
     "start_time": "2024-09-11T09:10:48.757711",
     "status": "completed"
    },
    "tags": []
   },
   "outputs": [],
   "source": [
    "train[\"universite_not_ortalamasi\"] = train[\"universite_not_ortalamasi\"].fillna(\"0\")"
   ]
  },
  {
   "cell_type": "code",
   "execution_count": 57,
   "id": "1996561b",
   "metadata": {
    "execution": {
     "iopub.execute_input": "2024-09-11T09:10:48.935226Z",
     "iopub.status.busy": "2024-09-11T09:10:48.934687Z",
     "iopub.status.idle": "2024-09-11T09:10:48.951916Z",
     "shell.execute_reply": "2024-09-11T09:10:48.950576Z"
    },
    "papermill": {
     "duration": 0.074625,
     "end_time": "2024-09-11T09:10:48.954440",
     "exception": false,
     "start_time": "2024-09-11T09:10:48.879815",
     "status": "completed"
    },
    "tags": []
   },
   "outputs": [
    {
     "data": {
      "text/plain": [
       "universite_not_ortalamasi\n",
       "2.50 ve üstü    42963\n",
       "2.50 ve altı    14621\n",
       "0                6692\n",
       "Name: count, dtype: int64"
      ]
     },
     "execution_count": 57,
     "metadata": {},
     "output_type": "execute_result"
    }
   ],
   "source": [
    "train[\"universite_not_ortalamasi\"].value_counts()"
   ]
  },
  {
   "cell_type": "code",
   "execution_count": 58,
   "id": "21bbcf21",
   "metadata": {
    "execution": {
     "iopub.execute_input": "2024-09-11T09:10:49.062648Z",
     "iopub.status.busy": "2024-09-11T09:10:49.062240Z",
     "iopub.status.idle": "2024-09-11T09:10:49.074675Z",
     "shell.execute_reply": "2024-09-11T09:10:49.073422Z"
    },
    "papermill": {
     "duration": 0.068518,
     "end_time": "2024-09-11T09:10:49.077077",
     "exception": false,
     "start_time": "2024-09-11T09:10:49.008559",
     "status": "completed"
    },
    "tags": []
   },
   "outputs": [
    {
     "data": {
      "text/plain": [
       "0"
      ]
     },
     "execution_count": 58,
     "metadata": {},
     "output_type": "execute_result"
    }
   ],
   "source": [
    "train[\"universite_not_ortalamasi\"].isna().sum()"
   ]
  },
  {
   "cell_type": "code",
   "execution_count": 59,
   "id": "56547e71",
   "metadata": {
    "execution": {
     "iopub.execute_input": "2024-09-11T09:10:49.186851Z",
     "iopub.status.busy": "2024-09-11T09:10:49.185678Z",
     "iopub.status.idle": "2024-09-11T09:10:49.207306Z",
     "shell.execute_reply": "2024-09-11T09:10:49.205757Z"
    },
    "papermill": {
     "duration": 0.079994,
     "end_time": "2024-09-11T09:10:49.210496",
     "exception": false,
     "start_time": "2024-09-11T09:10:49.130502",
     "status": "completed"
    },
    "tags": []
   },
   "outputs": [
    {
     "data": {
      "text/html": [
       "<div>\n",
       "<style scoped>\n",
       "    .dataframe tbody tr th:only-of-type {\n",
       "        vertical-align: middle;\n",
       "    }\n",
       "\n",
       "    .dataframe tbody tr th {\n",
       "        vertical-align: top;\n",
       "    }\n",
       "\n",
       "    .dataframe thead th {\n",
       "        text-align: right;\n",
       "    }\n",
       "</style>\n",
       "<table border=\"1\" class=\"dataframe\">\n",
       "  <thead>\n",
       "    <tr style=\"text-align: right;\">\n",
       "      <th></th>\n",
       "      <th>basvuru_yili</th>\n",
       "      <th>degerlendirme_puani</th>\n",
       "      <th>cinsiyet</th>\n",
       "      <th>dogum_tarihi</th>\n",
       "      <th>dogum_yeri</th>\n",
       "      <th>ikametgah_sehri</th>\n",
       "      <th>universite_adi</th>\n",
       "      <th>universite_turu</th>\n",
       "      <th>burslu_ise_burs_yuzdesi</th>\n",
       "      <th>burs_aliyor_mu</th>\n",
       "      <th>...</th>\n",
       "      <th>spor_dalindaki_rolunuz_nedir</th>\n",
       "      <th>aktif_olarak_bir_stk_uyesi_misiniz</th>\n",
       "      <th>hangi_stknin_uyesisiniz</th>\n",
       "      <th>stk_projesine_katildiniz_mi</th>\n",
       "      <th>girisimcilikle_ilgili_deneyiminiz_var_mi</th>\n",
       "      <th>girisimcilikle_ilgili_deneyiminizi_aciklayabilir_misiniz</th>\n",
       "      <th>ingilizce_biliyor_musunuz</th>\n",
       "      <th>ingilizce_seviyeniz</th>\n",
       "      <th>daha_onceden_mezun_olunduysa_mezun_olunan_universite</th>\n",
       "      <th>id</th>\n",
       "    </tr>\n",
       "  </thead>\n",
       "  <tbody>\n",
       "  </tbody>\n",
       "</table>\n",
       "<p>0 rows × 44 columns</p>\n",
       "</div>"
      ],
      "text/plain": [
       "Empty DataFrame\n",
       "Columns: [basvuru_yili, degerlendirme_puani, cinsiyet, dogum_tarihi, dogum_yeri, ikametgah_sehri, universite_adi, universite_turu, burslu_ise_burs_yuzdesi, burs_aliyor_mu, bolum, universite_kacinci_sinif, universite_not_ortalamasi, daha_once_baska_bir_universiteden_mezun_olmus, lise_adi, lise_adi_diger, lise_sehir, lise_turu, lise_bolumu, lise_bolum_diger, lise_mezuniyet_notu, baska_bir_kurumdan_burs_aliyor_mu, burs_aldigi_baska_kurum, baska_kurumdan_aldigi_burs_miktari, anne_egitim_durumu, anne_calisma_durumu, anne_sektor, baba_egitim_durumu, baba_calisma_durumu, baba_sektor, kardes_sayisi, girisimcilik_kulupleri_tarzi_bir_kulube_uye_misiniz, uye_oldugunuz_kulubun_ismi, profesyonel_bir_spor_daliyla_mesgul_musunuz, spor_dalindaki_rolunuz_nedir, aktif_olarak_bir_stk_uyesi_misiniz, hangi_stknin_uyesisiniz, stk_projesine_katildiniz_mi, girisimcilikle_ilgili_deneyiminiz_var_mi, girisimcilikle_ilgili_deneyiminizi_aciklayabilir_misiniz, ingilizce_biliyor_musunuz, ingilizce_seviyeniz, daha_onceden_mezun_olunduysa_mezun_olunan_universite, id]\n",
       "Index: []\n",
       "\n",
       "[0 rows x 44 columns]"
      ]
     },
     "execution_count": 59,
     "metadata": {},
     "output_type": "execute_result"
    }
   ],
   "source": [
    "train[train['universite_not_ortalamasi'].isna()].head()"
   ]
  },
  {
   "cell_type": "code",
   "execution_count": 60,
   "id": "dd8a4997",
   "metadata": {
    "execution": {
     "iopub.execute_input": "2024-09-11T09:10:49.323616Z",
     "iopub.status.busy": "2024-09-11T09:10:49.323213Z",
     "iopub.status.idle": "2024-09-11T09:10:49.342796Z",
     "shell.execute_reply": "2024-09-11T09:10:49.340841Z"
    },
    "papermill": {
     "duration": 0.076404,
     "end_time": "2024-09-11T09:10:49.345563",
     "exception": false,
     "start_time": "2024-09-11T09:10:49.269159",
     "status": "completed"
    },
    "tags": []
   },
   "outputs": [
    {
     "name": "stdout",
     "output_type": "stream",
     "text": [
      "universite_not_ortalamasi kategorisi yeni değer sayısı: 3\n",
      "universite_not_ortalamasi kategorisi yeni değerler: ['2.50 ve üstü' '0' '2.50 ve altı']\n",
      "Eğitim seti yeni satır sayısı 64276\n"
     ]
    }
   ],
   "source": [
    "# GÜNCEL DURUM\n",
    "print(\"universite_not_ortalamasi kategorisi yeni değer sayısı:\", train[\"universite_not_ortalamasi\"].nunique())\n",
    "print(\"universite_not_ortalamasi kategorisi yeni değerler:\",train[\"universite_not_ortalamasi\"].unique())\n",
    "\n",
    "print(f\"Eğitim seti yeni satır sayısı {len(train)}\")"
   ]
  },
  {
   "cell_type": "markdown",
   "id": "4942a150",
   "metadata": {
    "papermill": {
     "duration": 0.05179,
     "end_time": "2024-09-11T09:10:49.449414",
     "exception": false,
     "start_time": "2024-09-11T09:10:49.397624",
     "status": "completed"
    },
    "tags": []
   },
   "source": [
    "### daha_once_baska_bir_universiteden_mezun_olmus\n",
    "\n",
    "- hayır yerine NaN'lar vardı doldurdum. (Öyle olduğunu varsayıyoruz %90 olasılıkla)"
   ]
  },
  {
   "cell_type": "code",
   "execution_count": 61,
   "id": "4089e617",
   "metadata": {
    "execution": {
     "iopub.execute_input": "2024-09-11T09:10:49.556784Z",
     "iopub.status.busy": "2024-09-11T09:10:49.556372Z",
     "iopub.status.idle": "2024-09-11T09:10:49.570707Z",
     "shell.execute_reply": "2024-09-11T09:10:49.569294Z"
    },
    "papermill": {
     "duration": 0.070903,
     "end_time": "2024-09-11T09:10:49.573222",
     "exception": false,
     "start_time": "2024-09-11T09:10:49.502319",
     "status": "completed"
    },
    "tags": []
   },
   "outputs": [
    {
     "name": "stdout",
     "output_type": "stream",
     "text": [
      "2\n"
     ]
    },
    {
     "data": {
      "text/plain": [
       "array(['hayır', 'evet', nan], dtype=object)"
      ]
     },
     "execution_count": 61,
     "metadata": {},
     "output_type": "execute_result"
    }
   ],
   "source": [
    "print(train[\"daha_once_baska_bir_universiteden_mezun_olmus\"].nunique())\n",
    "train[\"daha_once_baska_bir_universiteden_mezun_olmus\"].unique()"
   ]
  },
  {
   "cell_type": "code",
   "execution_count": 62,
   "id": "8df56983",
   "metadata": {
    "execution": {
     "iopub.execute_input": "2024-09-11T09:10:49.681663Z",
     "iopub.status.busy": "2024-09-11T09:10:49.681246Z",
     "iopub.status.idle": "2024-09-11T09:10:49.692232Z",
     "shell.execute_reply": "2024-09-11T09:10:49.690854Z"
    },
    "papermill": {
     "duration": 0.069527,
     "end_time": "2024-09-11T09:10:49.694592",
     "exception": false,
     "start_time": "2024-09-11T09:10:49.625065",
     "status": "completed"
    },
    "tags": []
   },
   "outputs": [
    {
     "data": {
      "text/plain": [
       "36712"
      ]
     },
     "execution_count": 62,
     "metadata": {},
     "output_type": "execute_result"
    }
   ],
   "source": [
    "train[\"daha_once_baska_bir_universiteden_mezun_olmus\"].isna().sum()"
   ]
  },
  {
   "cell_type": "code",
   "execution_count": 63,
   "id": "372212ba",
   "metadata": {
    "execution": {
     "iopub.execute_input": "2024-09-11T09:10:49.804693Z",
     "iopub.status.busy": "2024-09-11T09:10:49.804271Z",
     "iopub.status.idle": "2024-09-11T09:10:49.854537Z",
     "shell.execute_reply": "2024-09-11T09:10:49.853274Z"
    },
    "papermill": {
     "duration": 0.108282,
     "end_time": "2024-09-11T09:10:49.857233",
     "exception": false,
     "start_time": "2024-09-11T09:10:49.748951",
     "status": "completed"
    },
    "tags": []
   },
   "outputs": [
    {
     "data": {
      "text/html": [
       "<div>\n",
       "<style scoped>\n",
       "    .dataframe tbody tr th:only-of-type {\n",
       "        vertical-align: middle;\n",
       "    }\n",
       "\n",
       "    .dataframe tbody tr th {\n",
       "        vertical-align: top;\n",
       "    }\n",
       "\n",
       "    .dataframe thead th {\n",
       "        text-align: right;\n",
       "    }\n",
       "</style>\n",
       "<table border=\"1\" class=\"dataframe\">\n",
       "  <thead>\n",
       "    <tr style=\"text-align: right;\">\n",
       "      <th></th>\n",
       "      <th>basvuru_yili</th>\n",
       "      <th>degerlendirme_puani</th>\n",
       "      <th>cinsiyet</th>\n",
       "      <th>dogum_tarihi</th>\n",
       "      <th>dogum_yeri</th>\n",
       "      <th>ikametgah_sehri</th>\n",
       "      <th>universite_adi</th>\n",
       "      <th>universite_turu</th>\n",
       "      <th>burslu_ise_burs_yuzdesi</th>\n",
       "      <th>burs_aliyor_mu</th>\n",
       "      <th>...</th>\n",
       "      <th>spor_dalindaki_rolunuz_nedir</th>\n",
       "      <th>aktif_olarak_bir_stk_uyesi_misiniz</th>\n",
       "      <th>hangi_stknin_uyesisiniz</th>\n",
       "      <th>stk_projesine_katildiniz_mi</th>\n",
       "      <th>girisimcilikle_ilgili_deneyiminiz_var_mi</th>\n",
       "      <th>girisimcilikle_ilgili_deneyiminizi_aciklayabilir_misiniz</th>\n",
       "      <th>ingilizce_biliyor_musunuz</th>\n",
       "      <th>ingilizce_seviyeniz</th>\n",
       "      <th>daha_onceden_mezun_olunduysa_mezun_olunan_universite</th>\n",
       "      <th>id</th>\n",
       "    </tr>\n",
       "  </thead>\n",
       "  <tbody>\n",
       "    <tr>\n",
       "      <th>1757</th>\n",
       "      <td>2017</td>\n",
       "      <td>7.0</td>\n",
       "      <td>kadın</td>\n",
       "      <td>9/20/1998</td>\n",
       "      <td>erzurum</td>\n",
       "      <td>erzurum</td>\n",
       "      <td>kafkas üni̇versi̇tesi̇</td>\n",
       "      <td>devlet</td>\n",
       "      <td>100.0</td>\n",
       "      <td>evet</td>\n",
       "      <td>...</td>\n",
       "      <td>NaN</td>\n",
       "      <td>hayır</td>\n",
       "      <td>NaN</td>\n",
       "      <td>hayır</td>\n",
       "      <td>hayır</td>\n",
       "      <td>NaN</td>\n",
       "      <td>evet</td>\n",
       "      <td>başlangıç</td>\n",
       "      <td>NaN</td>\n",
       "      <td>1757</td>\n",
       "    </tr>\n",
       "    <tr>\n",
       "      <th>1758</th>\n",
       "      <td>2017</td>\n",
       "      <td>58.0</td>\n",
       "      <td>erkek</td>\n",
       "      <td>12/26/1995</td>\n",
       "      <td>istanbul</td>\n",
       "      <td>istanbul</td>\n",
       "      <td>sabanci üni̇versi̇tesi̇</td>\n",
       "      <td>özel</td>\n",
       "      <td>100.0</td>\n",
       "      <td>evet</td>\n",
       "      <td>...</td>\n",
       "      <td>NaN</td>\n",
       "      <td>evet</td>\n",
       "      <td>NaN</td>\n",
       "      <td>evet</td>\n",
       "      <td>evet</td>\n",
       "      <td>NaN</td>\n",
       "      <td>evet</td>\n",
       "      <td>i̇leri</td>\n",
       "      <td>NaN</td>\n",
       "      <td>1758</td>\n",
       "    </tr>\n",
       "    <tr>\n",
       "      <th>1759</th>\n",
       "      <td>2017</td>\n",
       "      <td>64.0</td>\n",
       "      <td>erkek</td>\n",
       "      <td>8/3/1995</td>\n",
       "      <td>diger</td>\n",
       "      <td>istanbul</td>\n",
       "      <td>i̇stanbul sabahatti̇n zai̇m</td>\n",
       "      <td>özel</td>\n",
       "      <td>100.0</td>\n",
       "      <td>evet</td>\n",
       "      <td>...</td>\n",
       "      <td>kaptan / li̇der</td>\n",
       "      <td>hayır</td>\n",
       "      <td>NaN</td>\n",
       "      <td>evet</td>\n",
       "      <td>evet</td>\n",
       "      <td>NaN</td>\n",
       "      <td>evet</td>\n",
       "      <td>i̇leri</td>\n",
       "      <td>NaN</td>\n",
       "      <td>1759</td>\n",
       "    </tr>\n",
       "    <tr>\n",
       "      <th>1760</th>\n",
       "      <td>2017</td>\n",
       "      <td>4.0</td>\n",
       "      <td>erkek</td>\n",
       "      <td>1/1/1997</td>\n",
       "      <td>mardin</td>\n",
       "      <td>istanbul</td>\n",
       "      <td>doğuş üni̇versi̇tesi̇</td>\n",
       "      <td>özel</td>\n",
       "      <td>100.0</td>\n",
       "      <td>evet</td>\n",
       "      <td>...</td>\n",
       "      <td>NaN</td>\n",
       "      <td>NaN</td>\n",
       "      <td>NaN</td>\n",
       "      <td>NaN</td>\n",
       "      <td>NaN</td>\n",
       "      <td>NaN</td>\n",
       "      <td>hayır</td>\n",
       "      <td>NaN</td>\n",
       "      <td>NaN</td>\n",
       "      <td>1760</td>\n",
       "    </tr>\n",
       "    <tr>\n",
       "      <th>1761</th>\n",
       "      <td>2017</td>\n",
       "      <td>38.0</td>\n",
       "      <td>erkek</td>\n",
       "      <td>11/11/1995</td>\n",
       "      <td>sanliurfa</td>\n",
       "      <td>istanbul</td>\n",
       "      <td>i̇stanbul kavram meslek</td>\n",
       "      <td>özel</td>\n",
       "      <td>100.0</td>\n",
       "      <td>evet</td>\n",
       "      <td>...</td>\n",
       "      <td>di̇ğer</td>\n",
       "      <td>hayır</td>\n",
       "      <td>NaN</td>\n",
       "      <td>evet</td>\n",
       "      <td>evet</td>\n",
       "      <td>NaN</td>\n",
       "      <td>evet</td>\n",
       "      <td>başlangıç</td>\n",
       "      <td>NaN</td>\n",
       "      <td>1761</td>\n",
       "    </tr>\n",
       "  </tbody>\n",
       "</table>\n",
       "<p>5 rows × 44 columns</p>\n",
       "</div>"
      ],
      "text/plain": [
       "      basvuru_yili  degerlendirme_puani cinsiyet dogum_tarihi dogum_yeri  \\\n",
       "1757          2017                  7.0    kadın    9/20/1998    erzurum   \n",
       "1758          2017                 58.0    erkek   12/26/1995   istanbul   \n",
       "1759          2017                 64.0    erkek     8/3/1995      diger   \n",
       "1760          2017                  4.0    erkek     1/1/1997     mardin   \n",
       "1761          2017                 38.0    erkek   11/11/1995  sanliurfa   \n",
       "\n",
       "     ikametgah_sehri               universite_adi universite_turu  \\\n",
       "1757         erzurum       kafkas üni̇versi̇tesi̇          devlet   \n",
       "1758        istanbul      sabanci üni̇versi̇tesi̇            özel   \n",
       "1759        istanbul  i̇stanbul sabahatti̇n zai̇m            özel   \n",
       "1760        istanbul        doğuş üni̇versi̇tesi̇            özel   \n",
       "1761        istanbul      i̇stanbul kavram meslek            özel   \n",
       "\n",
       "      burslu_ise_burs_yuzdesi burs_aliyor_mu  ...  \\\n",
       "1757                    100.0           evet  ...   \n",
       "1758                    100.0           evet  ...   \n",
       "1759                    100.0           evet  ...   \n",
       "1760                    100.0           evet  ...   \n",
       "1761                    100.0           evet  ...   \n",
       "\n",
       "     spor_dalindaki_rolunuz_nedir aktif_olarak_bir_stk_uyesi_misiniz  \\\n",
       "1757                          NaN                              hayır   \n",
       "1758                          NaN                               evet   \n",
       "1759              kaptan / li̇der                              hayır   \n",
       "1760                          NaN                                NaN   \n",
       "1761                       di̇ğer                              hayır   \n",
       "\n",
       "     hangi_stknin_uyesisiniz stk_projesine_katildiniz_mi  \\\n",
       "1757                     NaN                       hayır   \n",
       "1758                     NaN                        evet   \n",
       "1759                     NaN                        evet   \n",
       "1760                     NaN                         NaN   \n",
       "1761                     NaN                        evet   \n",
       "\n",
       "     girisimcilikle_ilgili_deneyiminiz_var_mi  \\\n",
       "1757                                    hayır   \n",
       "1758                                     evet   \n",
       "1759                                     evet   \n",
       "1760                                      NaN   \n",
       "1761                                     evet   \n",
       "\n",
       "     girisimcilikle_ilgili_deneyiminizi_aciklayabilir_misiniz  \\\n",
       "1757                                                NaN         \n",
       "1758                                                NaN         \n",
       "1759                                                NaN         \n",
       "1760                                                NaN         \n",
       "1761                                                NaN         \n",
       "\n",
       "     ingilizce_biliyor_musunuz ingilizce_seviyeniz  \\\n",
       "1757                      evet           başlangıç   \n",
       "1758                      evet              i̇leri   \n",
       "1759                      evet              i̇leri   \n",
       "1760                     hayır                 NaN   \n",
       "1761                      evet           başlangıç   \n",
       "\n",
       "     daha_onceden_mezun_olunduysa_mezun_olunan_universite    id  \n",
       "1757                                                NaN    1757  \n",
       "1758                                                NaN    1758  \n",
       "1759                                                NaN    1759  \n",
       "1760                                                NaN    1760  \n",
       "1761                                                NaN    1761  \n",
       "\n",
       "[5 rows x 44 columns]"
      ]
     },
     "execution_count": 63,
     "metadata": {},
     "output_type": "execute_result"
    }
   ],
   "source": [
    "train[train['daha_once_baska_bir_universiteden_mezun_olmus'].isna()].head()"
   ]
  },
  {
   "cell_type": "code",
   "execution_count": 64,
   "id": "b4cdd782",
   "metadata": {
    "execution": {
     "iopub.execute_input": "2024-09-11T09:10:49.968358Z",
     "iopub.status.busy": "2024-09-11T09:10:49.967940Z",
     "iopub.status.idle": "2024-09-11T09:10:49.979426Z",
     "shell.execute_reply": "2024-09-11T09:10:49.978274Z"
    },
    "papermill": {
     "duration": 0.069346,
     "end_time": "2024-09-11T09:10:49.982280",
     "exception": false,
     "start_time": "2024-09-11T09:10:49.912934",
     "status": "completed"
    },
    "tags": []
   },
   "outputs": [],
   "source": [
    "train[\"daha_once_baska_bir_universiteden_mezun_olmus\"] = train[\"daha_once_baska_bir_universiteden_mezun_olmus\"].fillna(\"hayır\")"
   ]
  },
  {
   "cell_type": "code",
   "execution_count": 65,
   "id": "51533d8f",
   "metadata": {
    "execution": {
     "iopub.execute_input": "2024-09-11T09:10:50.093161Z",
     "iopub.status.busy": "2024-09-11T09:10:50.092514Z",
     "iopub.status.idle": "2024-09-11T09:10:50.105014Z",
     "shell.execute_reply": "2024-09-11T09:10:50.103825Z"
    },
    "papermill": {
     "duration": 0.071029,
     "end_time": "2024-09-11T09:10:50.107564",
     "exception": false,
     "start_time": "2024-09-11T09:10:50.036535",
     "status": "completed"
    },
    "tags": []
   },
   "outputs": [
    {
     "data": {
      "text/plain": [
       "0"
      ]
     },
     "execution_count": 65,
     "metadata": {},
     "output_type": "execute_result"
    }
   ],
   "source": [
    "train[\"daha_once_baska_bir_universiteden_mezun_olmus\"].isna().sum()"
   ]
  },
  {
   "cell_type": "code",
   "execution_count": 66,
   "id": "0600e8be",
   "metadata": {
    "execution": {
     "iopub.execute_input": "2024-09-11T09:10:50.218452Z",
     "iopub.status.busy": "2024-09-11T09:10:50.218017Z",
     "iopub.status.idle": "2024-09-11T09:10:50.235255Z",
     "shell.execute_reply": "2024-09-11T09:10:50.233208Z"
    },
    "papermill": {
     "duration": 0.076826,
     "end_time": "2024-09-11T09:10:50.237916",
     "exception": false,
     "start_time": "2024-09-11T09:10:50.161090",
     "status": "completed"
    },
    "tags": []
   },
   "outputs": [
    {
     "name": "stdout",
     "output_type": "stream",
     "text": [
      "daha_once_baska_bir_universiteden_mezun_olmus kategorisi yeni değer sayısı: 2\n",
      "daha_once_baska_bir_universiteden_mezun_olmus kategorisi yeni değerler: ['hayır' 'evet']\n",
      "Eğitim seti yeni satır sayısı 64276\n"
     ]
    }
   ],
   "source": [
    "# GÜNCEL DURUM\n",
    "print(\"daha_once_baska_bir_universiteden_mezun_olmus kategorisi yeni değer sayısı:\", train[\"daha_once_baska_bir_universiteden_mezun_olmus\"].nunique())\n",
    "print(\"daha_once_baska_bir_universiteden_mezun_olmus kategorisi yeni değerler:\",train[\"daha_once_baska_bir_universiteden_mezun_olmus\"].unique())\n",
    "\n",
    "print(f\"Eğitim seti yeni satır sayısı {len(train)}\")"
   ]
  },
  {
   "cell_type": "markdown",
   "id": "b9e67372",
   "metadata": {
    "papermill": {
     "duration": 0.055098,
     "end_time": "2024-09-11T09:10:50.353126",
     "exception": false,
     "start_time": "2024-09-11T09:10:50.298028",
     "status": "completed"
    },
    "tags": []
   },
   "source": [
    "### lise_mezuniyet_notu ! ! !\n",
    "\n",
    "-"
   ]
  },
  {
   "cell_type": "code",
   "execution_count": 67,
   "id": "18cba9d7",
   "metadata": {
    "execution": {
     "iopub.execute_input": "2024-09-11T09:10:50.487212Z",
     "iopub.status.busy": "2024-09-11T09:10:50.486774Z",
     "iopub.status.idle": "2024-09-11T09:10:50.505656Z",
     "shell.execute_reply": "2024-09-11T09:10:50.504480Z"
    },
    "papermill": {
     "duration": 0.089299,
     "end_time": "2024-09-11T09:10:50.508357",
     "exception": false,
     "start_time": "2024-09-11T09:10:50.419058",
     "status": "completed"
    },
    "tags": []
   },
   "outputs": [
    {
     "name": "stdout",
     "output_type": "stream",
     "text": [
      "19\n"
     ]
    },
    {
     "data": {
      "text/plain": [
       "array(['3.50-3', '3.00 - 4.00', '3.00-2.50', '2.50 ve altı', '4.00-3.50',\n",
       "       '3.50-3.00', nan, '69-55', '100-85', '84-70', '54-45', '44-0',\n",
       "       '75 - 100', '50 - 75', 'not ortalaması yok', '25 - 50', '0 - 25',\n",
       "       '50 - 74', '25 - 49', '0 - 24'], dtype=object)"
      ]
     },
     "execution_count": 67,
     "metadata": {},
     "output_type": "execute_result"
    }
   ],
   "source": [
    "print(train[\"lise_mezuniyet_notu\"].nunique())\n",
    "train[\"lise_mezuniyet_notu\"].unique()"
   ]
  },
  {
   "cell_type": "code",
   "execution_count": 68,
   "id": "77015b07",
   "metadata": {
    "execution": {
     "iopub.execute_input": "2024-09-11T09:10:50.619242Z",
     "iopub.status.busy": "2024-09-11T09:10:50.618819Z",
     "iopub.status.idle": "2024-09-11T09:10:50.629998Z",
     "shell.execute_reply": "2024-09-11T09:10:50.628624Z"
    },
    "papermill": {
     "duration": 0.070322,
     "end_time": "2024-09-11T09:10:50.632556",
     "exception": false,
     "start_time": "2024-09-11T09:10:50.562234",
     "status": "completed"
    },
    "tags": []
   },
   "outputs": [
    {
     "data": {
      "text/plain": [
       "5797"
      ]
     },
     "execution_count": 68,
     "metadata": {},
     "output_type": "execute_result"
    }
   ],
   "source": [
    "train[\"lise_mezuniyet_notu\"].isna().sum()"
   ]
  },
  {
   "cell_type": "code",
   "execution_count": 69,
   "id": "a3d34a91",
   "metadata": {
    "execution": {
     "iopub.execute_input": "2024-09-11T09:10:50.742150Z",
     "iopub.status.busy": "2024-09-11T09:10:50.741699Z",
     "iopub.status.idle": "2024-09-11T09:10:50.777214Z",
     "shell.execute_reply": "2024-09-11T09:10:50.775932Z"
    },
    "papermill": {
     "duration": 0.09266,
     "end_time": "2024-09-11T09:10:50.779672",
     "exception": false,
     "start_time": "2024-09-11T09:10:50.687012",
     "status": "completed"
    },
    "tags": []
   },
   "outputs": [
    {
     "data": {
      "text/html": [
       "<div>\n",
       "<style scoped>\n",
       "    .dataframe tbody tr th:only-of-type {\n",
       "        vertical-align: middle;\n",
       "    }\n",
       "\n",
       "    .dataframe tbody tr th {\n",
       "        vertical-align: top;\n",
       "    }\n",
       "\n",
       "    .dataframe thead th {\n",
       "        text-align: right;\n",
       "    }\n",
       "</style>\n",
       "<table border=\"1\" class=\"dataframe\">\n",
       "  <thead>\n",
       "    <tr style=\"text-align: right;\">\n",
       "      <th></th>\n",
       "      <th>basvuru_yili</th>\n",
       "      <th>degerlendirme_puani</th>\n",
       "      <th>cinsiyet</th>\n",
       "      <th>dogum_tarihi</th>\n",
       "      <th>dogum_yeri</th>\n",
       "      <th>ikametgah_sehri</th>\n",
       "      <th>universite_adi</th>\n",
       "      <th>universite_turu</th>\n",
       "      <th>burslu_ise_burs_yuzdesi</th>\n",
       "      <th>burs_aliyor_mu</th>\n",
       "      <th>...</th>\n",
       "      <th>spor_dalindaki_rolunuz_nedir</th>\n",
       "      <th>aktif_olarak_bir_stk_uyesi_misiniz</th>\n",
       "      <th>hangi_stknin_uyesisiniz</th>\n",
       "      <th>stk_projesine_katildiniz_mi</th>\n",
       "      <th>girisimcilikle_ilgili_deneyiminiz_var_mi</th>\n",
       "      <th>girisimcilikle_ilgili_deneyiminizi_aciklayabilir_misiniz</th>\n",
       "      <th>ingilizce_biliyor_musunuz</th>\n",
       "      <th>ingilizce_seviyeniz</th>\n",
       "      <th>daha_onceden_mezun_olunduysa_mezun_olunan_universite</th>\n",
       "      <th>id</th>\n",
       "    </tr>\n",
       "  </thead>\n",
       "  <tbody>\n",
       "    <tr>\n",
       "      <th>1210</th>\n",
       "      <td>2016</td>\n",
       "      <td>56.0</td>\n",
       "      <td>erkek</td>\n",
       "      <td>1995-02-12</td>\n",
       "      <td>mersin</td>\n",
       "      <td>mersin</td>\n",
       "      <td>toros üniversitesi</td>\n",
       "      <td>özel</td>\n",
       "      <td>100.0</td>\n",
       "      <td>evet</td>\n",
       "      <td>...</td>\n",
       "      <td>NaN</td>\n",
       "      <td>hayır</td>\n",
       "      <td>NaN</td>\n",
       "      <td>evet</td>\n",
       "      <td>hayır</td>\n",
       "      <td>NaN</td>\n",
       "      <td>evet</td>\n",
       "      <td>i̇leri</td>\n",
       "      <td>NaN</td>\n",
       "      <td>1210</td>\n",
       "    </tr>\n",
       "    <tr>\n",
       "      <th>1211</th>\n",
       "      <td>2016</td>\n",
       "      <td>80.0</td>\n",
       "      <td>kadın</td>\n",
       "      <td>1996-09-23</td>\n",
       "      <td>mersin</td>\n",
       "      <td>i̇stanbul</td>\n",
       "      <td>özyeğin üniversitesi</td>\n",
       "      <td>özel</td>\n",
       "      <td>100.0</td>\n",
       "      <td>evet</td>\n",
       "      <td>...</td>\n",
       "      <td>diğer</td>\n",
       "      <td>hayır</td>\n",
       "      <td>NaN</td>\n",
       "      <td>evet</td>\n",
       "      <td>evet</td>\n",
       "      <td>NaN</td>\n",
       "      <td>evet</td>\n",
       "      <td>i̇leri</td>\n",
       "      <td>NaN</td>\n",
       "      <td>1211</td>\n",
       "    </tr>\n",
       "    <tr>\n",
       "      <th>1212</th>\n",
       "      <td>2016</td>\n",
       "      <td>64.0</td>\n",
       "      <td>kadın</td>\n",
       "      <td>1996-02-16</td>\n",
       "      <td>manisa</td>\n",
       "      <td>i̇stanbul</td>\n",
       "      <td>yeditepe üniversitesi</td>\n",
       "      <td>özel</td>\n",
       "      <td>100.0</td>\n",
       "      <td>evet</td>\n",
       "      <td>...</td>\n",
       "      <td>diğer</td>\n",
       "      <td>hayır</td>\n",
       "      <td>NaN</td>\n",
       "      <td>hayır</td>\n",
       "      <td>evet</td>\n",
       "      <td>NaN</td>\n",
       "      <td>evet</td>\n",
       "      <td>orta</td>\n",
       "      <td>NaN</td>\n",
       "      <td>1212</td>\n",
       "    </tr>\n",
       "    <tr>\n",
       "      <th>1213</th>\n",
       "      <td>2016</td>\n",
       "      <td>84.0</td>\n",
       "      <td>erkek</td>\n",
       "      <td>1996-09-20</td>\n",
       "      <td>erzincan</td>\n",
       "      <td>i̇stanbul</td>\n",
       "      <td>koç üniversitesi</td>\n",
       "      <td>özel</td>\n",
       "      <td>100.0</td>\n",
       "      <td>evet</td>\n",
       "      <td>...</td>\n",
       "      <td>diğer</td>\n",
       "      <td>evet</td>\n",
       "      <td>yeşilay</td>\n",
       "      <td>evet</td>\n",
       "      <td>evet</td>\n",
       "      <td>NaN</td>\n",
       "      <td>evet</td>\n",
       "      <td>i̇leri</td>\n",
       "      <td>NaN</td>\n",
       "      <td>1213</td>\n",
       "    </tr>\n",
       "    <tr>\n",
       "      <th>1214</th>\n",
       "      <td>2016</td>\n",
       "      <td>64.0</td>\n",
       "      <td>kadın</td>\n",
       "      <td>1994-09-17</td>\n",
       "      <td>kırklareli</td>\n",
       "      <td>i̇stanbul</td>\n",
       "      <td>i̇stanbul aydın üniversitesi</td>\n",
       "      <td>özel</td>\n",
       "      <td>100.0</td>\n",
       "      <td>evet</td>\n",
       "      <td>...</td>\n",
       "      <td>NaN</td>\n",
       "      <td>hayır</td>\n",
       "      <td>NaN</td>\n",
       "      <td>evet</td>\n",
       "      <td>hayır</td>\n",
       "      <td>NaN</td>\n",
       "      <td>hayır</td>\n",
       "      <td>NaN</td>\n",
       "      <td>NaN</td>\n",
       "      <td>1214</td>\n",
       "    </tr>\n",
       "  </tbody>\n",
       "</table>\n",
       "<p>5 rows × 44 columns</p>\n",
       "</div>"
      ],
      "text/plain": [
       "      basvuru_yili  degerlendirme_puani cinsiyet dogum_tarihi  dogum_yeri  \\\n",
       "1210          2016                 56.0    erkek   1995-02-12      mersin   \n",
       "1211          2016                 80.0    kadın   1996-09-23      mersin   \n",
       "1212          2016                 64.0    kadın   1996-02-16      manisa   \n",
       "1213          2016                 84.0    erkek   1996-09-20    erzincan   \n",
       "1214          2016                 64.0    kadın   1994-09-17  kırklareli   \n",
       "\n",
       "     ikametgah_sehri                universite_adi universite_turu  \\\n",
       "1210          mersin            toros üniversitesi            özel   \n",
       "1211       i̇stanbul          özyeğin üniversitesi            özel   \n",
       "1212       i̇stanbul         yeditepe üniversitesi            özel   \n",
       "1213       i̇stanbul              koç üniversitesi            özel   \n",
       "1214       i̇stanbul  i̇stanbul aydın üniversitesi            özel   \n",
       "\n",
       "      burslu_ise_burs_yuzdesi burs_aliyor_mu  ...  \\\n",
       "1210                    100.0           evet  ...   \n",
       "1211                    100.0           evet  ...   \n",
       "1212                    100.0           evet  ...   \n",
       "1213                    100.0           evet  ...   \n",
       "1214                    100.0           evet  ...   \n",
       "\n",
       "     spor_dalindaki_rolunuz_nedir aktif_olarak_bir_stk_uyesi_misiniz  \\\n",
       "1210                          NaN                              hayır   \n",
       "1211                        diğer                              hayır   \n",
       "1212                        diğer                              hayır   \n",
       "1213                        diğer                               evet   \n",
       "1214                          NaN                              hayır   \n",
       "\n",
       "     hangi_stknin_uyesisiniz stk_projesine_katildiniz_mi  \\\n",
       "1210                     NaN                        evet   \n",
       "1211                     NaN                        evet   \n",
       "1212                     NaN                       hayır   \n",
       "1213                 yeşilay                        evet   \n",
       "1214                     NaN                        evet   \n",
       "\n",
       "     girisimcilikle_ilgili_deneyiminiz_var_mi  \\\n",
       "1210                                    hayır   \n",
       "1211                                     evet   \n",
       "1212                                     evet   \n",
       "1213                                     evet   \n",
       "1214                                    hayır   \n",
       "\n",
       "     girisimcilikle_ilgili_deneyiminizi_aciklayabilir_misiniz  \\\n",
       "1210                                                NaN         \n",
       "1211                                                NaN         \n",
       "1212                                                NaN         \n",
       "1213                                                NaN         \n",
       "1214                                                NaN         \n",
       "\n",
       "     ingilizce_biliyor_musunuz ingilizce_seviyeniz  \\\n",
       "1210                      evet              i̇leri   \n",
       "1211                      evet              i̇leri   \n",
       "1212                      evet                orta   \n",
       "1213                      evet              i̇leri   \n",
       "1214                     hayır                 NaN   \n",
       "\n",
       "     daha_onceden_mezun_olunduysa_mezun_olunan_universite    id  \n",
       "1210                                                NaN    1210  \n",
       "1211                                                NaN    1211  \n",
       "1212                                                NaN    1212  \n",
       "1213                                                NaN    1213  \n",
       "1214                                                NaN    1214  \n",
       "\n",
       "[5 rows x 44 columns]"
      ]
     },
     "execution_count": 69,
     "metadata": {},
     "output_type": "execute_result"
    }
   ],
   "source": [
    "train[train['lise_mezuniyet_notu'].isna()].head()"
   ]
  },
  {
   "cell_type": "code",
   "execution_count": 70,
   "id": "06aca64c",
   "metadata": {
    "execution": {
     "iopub.execute_input": "2024-09-11T09:10:50.894750Z",
     "iopub.status.busy": "2024-09-11T09:10:50.894290Z",
     "iopub.status.idle": "2024-09-11T09:10:50.908197Z",
     "shell.execute_reply": "2024-09-11T09:10:50.906845Z"
    },
    "papermill": {
     "duration": 0.075564,
     "end_time": "2024-09-11T09:10:50.911100",
     "exception": false,
     "start_time": "2024-09-11T09:10:50.835536",
     "status": "completed"
    },
    "tags": []
   },
   "outputs": [],
   "source": [
    "train[\"lise_mezuniyet_notu\"] = train[\"lise_mezuniyet_notu\"].fillna(\"hayır\")"
   ]
  },
  {
   "cell_type": "code",
   "execution_count": 71,
   "id": "1b6c8825",
   "metadata": {
    "execution": {
     "iopub.execute_input": "2024-09-11T09:10:51.022110Z",
     "iopub.status.busy": "2024-09-11T09:10:51.021650Z",
     "iopub.status.idle": "2024-09-11T09:10:51.033577Z",
     "shell.execute_reply": "2024-09-11T09:10:51.032253Z"
    },
    "papermill": {
     "duration": 0.07077,
     "end_time": "2024-09-11T09:10:51.036491",
     "exception": false,
     "start_time": "2024-09-11T09:10:50.965721",
     "status": "completed"
    },
    "tags": []
   },
   "outputs": [
    {
     "data": {
      "text/plain": [
       "0"
      ]
     },
     "execution_count": 71,
     "metadata": {},
     "output_type": "execute_result"
    }
   ],
   "source": [
    "train[\"lise_mezuniyet_notu\"].isna().sum()"
   ]
  },
  {
   "cell_type": "code",
   "execution_count": 72,
   "id": "799b1a1c",
   "metadata": {
    "execution": {
     "iopub.execute_input": "2024-09-11T09:10:51.150543Z",
     "iopub.status.busy": "2024-09-11T09:10:51.150133Z",
     "iopub.status.idle": "2024-09-11T09:10:51.166458Z",
     "shell.execute_reply": "2024-09-11T09:10:51.165235Z"
    },
    "papermill": {
     "duration": 0.076092,
     "end_time": "2024-09-11T09:10:51.169239",
     "exception": false,
     "start_time": "2024-09-11T09:10:51.093147",
     "status": "completed"
    },
    "tags": []
   },
   "outputs": [
    {
     "name": "stdout",
     "output_type": "stream",
     "text": [
      "lise_mezuniyet_notu kategorisi yeni değer sayısı: 20\n",
      "lise_mezuniyet_notu kategorisi yeni değerler: ['3.50-3' '3.00 - 4.00' '3.00-2.50' '2.50 ve altı' '4.00-3.50' '3.50-3.00'\n",
      " 'hayır' '69-55' '100-85' '84-70' '54-45' '44-0' '75 - 100' '50 - 75'\n",
      " 'not ortalaması yok' '25 - 50' '0 - 25' '50 - 74' '25 - 49' '0 - 24']\n",
      "Eğitim seti yeni satır sayısı 64276\n"
     ]
    }
   ],
   "source": [
    "# GÜNCEL DURUM\n",
    "print(\"lise_mezuniyet_notu kategorisi yeni değer sayısı:\", train[\"lise_mezuniyet_notu\"].nunique())\n",
    "print(\"lise_mezuniyet_notu kategorisi yeni değerler:\",train[\"lise_mezuniyet_notu\"].unique())\n",
    "\n",
    "print(f\"Eğitim seti yeni satır sayısı {len(train)}\")"
   ]
  },
  {
   "cell_type": "markdown",
   "id": "7e8ec0c5",
   "metadata": {
    "papermill": {
     "duration": 0.054317,
     "end_time": "2024-09-11T09:10:51.280721",
     "exception": false,
     "start_time": "2024-09-11T09:10:51.226404",
     "status": "completed"
    },
    "tags": []
   },
   "source": [
    "### baska_bir_kurumdan_burs_aliyor_mu ! ! !\n",
    "\n",
    "-"
   ]
  },
  {
   "cell_type": "code",
   "execution_count": 73,
   "id": "4edab973",
   "metadata": {
    "execution": {
     "iopub.execute_input": "2024-09-11T09:10:51.393546Z",
     "iopub.status.busy": "2024-09-11T09:10:51.393117Z",
     "iopub.status.idle": "2024-09-11T09:10:51.412583Z",
     "shell.execute_reply": "2024-09-11T09:10:51.411289Z"
    },
    "papermill": {
     "duration": 0.080765,
     "end_time": "2024-09-11T09:10:51.415840",
     "exception": false,
     "start_time": "2024-09-11T09:10:51.335075",
     "status": "completed"
    },
    "tags": []
   },
   "outputs": [
    {
     "name": "stdout",
     "output_type": "stream",
     "text": [
      "2\n"
     ]
    },
    {
     "data": {
      "text/plain": [
       "array(['hayır', 'evet', nan], dtype=object)"
      ]
     },
     "execution_count": 73,
     "metadata": {},
     "output_type": "execute_result"
    }
   ],
   "source": [
    "print(train[\"baska_bir_kurumdan_burs_aliyor_mu\"].nunique())\n",
    "train[\"baska_bir_kurumdan_burs_aliyor_mu\"].unique()"
   ]
  },
  {
   "cell_type": "code",
   "execution_count": 74,
   "id": "e667a9e3",
   "metadata": {
    "execution": {
     "iopub.execute_input": "2024-09-11T09:10:51.529768Z",
     "iopub.status.busy": "2024-09-11T09:10:51.529321Z",
     "iopub.status.idle": "2024-09-11T09:10:51.541158Z",
     "shell.execute_reply": "2024-09-11T09:10:51.540100Z"
    },
    "papermill": {
     "duration": 0.071898,
     "end_time": "2024-09-11T09:10:51.543487",
     "exception": false,
     "start_time": "2024-09-11T09:10:51.471589",
     "status": "completed"
    },
    "tags": []
   },
   "outputs": [
    {
     "data": {
      "text/plain": [
       "204"
      ]
     },
     "execution_count": 74,
     "metadata": {},
     "output_type": "execute_result"
    }
   ],
   "source": [
    "train[\"baska_bir_kurumdan_burs_aliyor_mu\"].isna().sum()"
   ]
  },
  {
   "cell_type": "code",
   "execution_count": 75,
   "id": "6d8f373a",
   "metadata": {
    "execution": {
     "iopub.execute_input": "2024-09-11T09:10:51.654617Z",
     "iopub.status.busy": "2024-09-11T09:10:51.653384Z",
     "iopub.status.idle": "2024-09-11T09:10:51.685020Z",
     "shell.execute_reply": "2024-09-11T09:10:51.683891Z"
    },
    "papermill": {
     "duration": 0.089739,
     "end_time": "2024-09-11T09:10:51.687394",
     "exception": false,
     "start_time": "2024-09-11T09:10:51.597655",
     "status": "completed"
    },
    "tags": []
   },
   "outputs": [
    {
     "data": {
      "text/html": [
       "<div>\n",
       "<style scoped>\n",
       "    .dataframe tbody tr th:only-of-type {\n",
       "        vertical-align: middle;\n",
       "    }\n",
       "\n",
       "    .dataframe tbody tr th {\n",
       "        vertical-align: top;\n",
       "    }\n",
       "\n",
       "    .dataframe thead th {\n",
       "        text-align: right;\n",
       "    }\n",
       "</style>\n",
       "<table border=\"1\" class=\"dataframe\">\n",
       "  <thead>\n",
       "    <tr style=\"text-align: right;\">\n",
       "      <th></th>\n",
       "      <th>basvuru_yili</th>\n",
       "      <th>degerlendirme_puani</th>\n",
       "      <th>cinsiyet</th>\n",
       "      <th>dogum_tarihi</th>\n",
       "      <th>dogum_yeri</th>\n",
       "      <th>ikametgah_sehri</th>\n",
       "      <th>universite_adi</th>\n",
       "      <th>universite_turu</th>\n",
       "      <th>burslu_ise_burs_yuzdesi</th>\n",
       "      <th>burs_aliyor_mu</th>\n",
       "      <th>...</th>\n",
       "      <th>spor_dalindaki_rolunuz_nedir</th>\n",
       "      <th>aktif_olarak_bir_stk_uyesi_misiniz</th>\n",
       "      <th>hangi_stknin_uyesisiniz</th>\n",
       "      <th>stk_projesine_katildiniz_mi</th>\n",
       "      <th>girisimcilikle_ilgili_deneyiminiz_var_mi</th>\n",
       "      <th>girisimcilikle_ilgili_deneyiminizi_aciklayabilir_misiniz</th>\n",
       "      <th>ingilizce_biliyor_musunuz</th>\n",
       "      <th>ingilizce_seviyeniz</th>\n",
       "      <th>daha_onceden_mezun_olunduysa_mezun_olunan_universite</th>\n",
       "      <th>id</th>\n",
       "    </tr>\n",
       "  </thead>\n",
       "  <tbody>\n",
       "    <tr>\n",
       "      <th>1760</th>\n",
       "      <td>2017</td>\n",
       "      <td>4.0</td>\n",
       "      <td>erkek</td>\n",
       "      <td>1/1/1997</td>\n",
       "      <td>mardin</td>\n",
       "      <td>istanbul</td>\n",
       "      <td>doğuş üni̇versi̇tesi̇</td>\n",
       "      <td>özel</td>\n",
       "      <td>100.0</td>\n",
       "      <td>evet</td>\n",
       "      <td>...</td>\n",
       "      <td>NaN</td>\n",
       "      <td>NaN</td>\n",
       "      <td>NaN</td>\n",
       "      <td>NaN</td>\n",
       "      <td>NaN</td>\n",
       "      <td>NaN</td>\n",
       "      <td>hayır</td>\n",
       "      <td>NaN</td>\n",
       "      <td>NaN</td>\n",
       "      <td>1760</td>\n",
       "    </tr>\n",
       "    <tr>\n",
       "      <th>1840</th>\n",
       "      <td>2017</td>\n",
       "      <td>6.0</td>\n",
       "      <td>erkek</td>\n",
       "      <td>6/27/1996</td>\n",
       "      <td>istanbul</td>\n",
       "      <td>kocaeli</td>\n",
       "      <td>balikesi̇r üni̇versi̇tesi̇</td>\n",
       "      <td>devlet</td>\n",
       "      <td>100.0</td>\n",
       "      <td>evet</td>\n",
       "      <td>...</td>\n",
       "      <td>NaN</td>\n",
       "      <td>hayır</td>\n",
       "      <td>NaN</td>\n",
       "      <td>hayır</td>\n",
       "      <td>hayır</td>\n",
       "      <td>NaN</td>\n",
       "      <td>evet</td>\n",
       "      <td>orta</td>\n",
       "      <td>NaN</td>\n",
       "      <td>1840</td>\n",
       "    </tr>\n",
       "    <tr>\n",
       "      <th>1941</th>\n",
       "      <td>2017</td>\n",
       "      <td>9.0</td>\n",
       "      <td>kadın</td>\n",
       "      <td>5/29/1994</td>\n",
       "      <td>istanbul</td>\n",
       "      <td>istanbul</td>\n",
       "      <td>okan üni̇versi̇tesi̇</td>\n",
       "      <td>özel</td>\n",
       "      <td>100.0</td>\n",
       "      <td>evet</td>\n",
       "      <td>...</td>\n",
       "      <td>NaN</td>\n",
       "      <td>NaN</td>\n",
       "      <td>NaN</td>\n",
       "      <td>NaN</td>\n",
       "      <td>NaN</td>\n",
       "      <td>NaN</td>\n",
       "      <td>hayır</td>\n",
       "      <td>NaN</td>\n",
       "      <td>NaN</td>\n",
       "      <td>1941</td>\n",
       "    </tr>\n",
       "    <tr>\n",
       "      <th>2034</th>\n",
       "      <td>2017</td>\n",
       "      <td>11.0</td>\n",
       "      <td>kadın</td>\n",
       "      <td>7/10/1996</td>\n",
       "      <td>diger</td>\n",
       "      <td>diger</td>\n",
       "      <td>gi̇resun üni̇versi̇tesi̇</td>\n",
       "      <td>devlet</td>\n",
       "      <td>100.0</td>\n",
       "      <td>evet</td>\n",
       "      <td>...</td>\n",
       "      <td>NaN</td>\n",
       "      <td>hayır</td>\n",
       "      <td>NaN</td>\n",
       "      <td>hayır</td>\n",
       "      <td>hayır</td>\n",
       "      <td>NaN</td>\n",
       "      <td>evet</td>\n",
       "      <td>başlangıç</td>\n",
       "      <td>NaN</td>\n",
       "      <td>2034</td>\n",
       "    </tr>\n",
       "    <tr>\n",
       "      <th>2054</th>\n",
       "      <td>2017</td>\n",
       "      <td>10.0</td>\n",
       "      <td>kadın</td>\n",
       "      <td>1/1/1994</td>\n",
       "      <td>yozgat</td>\n",
       "      <td>ankara</td>\n",
       "      <td>çankaya üni̇versi̇tesi̇</td>\n",
       "      <td>özel</td>\n",
       "      <td>100.0</td>\n",
       "      <td>evet</td>\n",
       "      <td>...</td>\n",
       "      <td>NaN</td>\n",
       "      <td>NaN</td>\n",
       "      <td>NaN</td>\n",
       "      <td>NaN</td>\n",
       "      <td>NaN</td>\n",
       "      <td>NaN</td>\n",
       "      <td>hayır</td>\n",
       "      <td>NaN</td>\n",
       "      <td>NaN</td>\n",
       "      <td>2054</td>\n",
       "    </tr>\n",
       "  </tbody>\n",
       "</table>\n",
       "<p>5 rows × 44 columns</p>\n",
       "</div>"
      ],
      "text/plain": [
       "      basvuru_yili  degerlendirme_puani cinsiyet dogum_tarihi dogum_yeri  \\\n",
       "1760          2017                  4.0    erkek     1/1/1997     mardin   \n",
       "1840          2017                  6.0    erkek    6/27/1996   istanbul   \n",
       "1941          2017                  9.0    kadın    5/29/1994   istanbul   \n",
       "2034          2017                 11.0    kadın    7/10/1996      diger   \n",
       "2054          2017                 10.0    kadın     1/1/1994     yozgat   \n",
       "\n",
       "     ikametgah_sehri              universite_adi universite_turu  \\\n",
       "1760        istanbul       doğuş üni̇versi̇tesi̇            özel   \n",
       "1840         kocaeli  balikesi̇r üni̇versi̇tesi̇          devlet   \n",
       "1941        istanbul        okan üni̇versi̇tesi̇            özel   \n",
       "2034           diger    gi̇resun üni̇versi̇tesi̇          devlet   \n",
       "2054          ankara     çankaya üni̇versi̇tesi̇            özel   \n",
       "\n",
       "      burslu_ise_burs_yuzdesi burs_aliyor_mu  ...  \\\n",
       "1760                    100.0           evet  ...   \n",
       "1840                    100.0           evet  ...   \n",
       "1941                    100.0           evet  ...   \n",
       "2034                    100.0           evet  ...   \n",
       "2054                    100.0           evet  ...   \n",
       "\n",
       "     spor_dalindaki_rolunuz_nedir aktif_olarak_bir_stk_uyesi_misiniz  \\\n",
       "1760                          NaN                                NaN   \n",
       "1840                          NaN                              hayır   \n",
       "1941                          NaN                                NaN   \n",
       "2034                          NaN                              hayır   \n",
       "2054                          NaN                                NaN   \n",
       "\n",
       "     hangi_stknin_uyesisiniz stk_projesine_katildiniz_mi  \\\n",
       "1760                     NaN                         NaN   \n",
       "1840                     NaN                       hayır   \n",
       "1941                     NaN                         NaN   \n",
       "2034                     NaN                       hayır   \n",
       "2054                     NaN                         NaN   \n",
       "\n",
       "     girisimcilikle_ilgili_deneyiminiz_var_mi  \\\n",
       "1760                                      NaN   \n",
       "1840                                    hayır   \n",
       "1941                                      NaN   \n",
       "2034                                    hayır   \n",
       "2054                                      NaN   \n",
       "\n",
       "     girisimcilikle_ilgili_deneyiminizi_aciklayabilir_misiniz  \\\n",
       "1760                                                NaN         \n",
       "1840                                                NaN         \n",
       "1941                                                NaN         \n",
       "2034                                                NaN         \n",
       "2054                                                NaN         \n",
       "\n",
       "     ingilizce_biliyor_musunuz ingilizce_seviyeniz  \\\n",
       "1760                     hayır                 NaN   \n",
       "1840                      evet                orta   \n",
       "1941                     hayır                 NaN   \n",
       "2034                      evet           başlangıç   \n",
       "2054                     hayır                 NaN   \n",
       "\n",
       "     daha_onceden_mezun_olunduysa_mezun_olunan_universite    id  \n",
       "1760                                                NaN    1760  \n",
       "1840                                                NaN    1840  \n",
       "1941                                                NaN    1941  \n",
       "2034                                                NaN    2034  \n",
       "2054                                                NaN    2054  \n",
       "\n",
       "[5 rows x 44 columns]"
      ]
     },
     "execution_count": 75,
     "metadata": {},
     "output_type": "execute_result"
    }
   ],
   "source": [
    "train[train['baska_bir_kurumdan_burs_aliyor_mu'].isna()].head()"
   ]
  },
  {
   "cell_type": "code",
   "execution_count": 76,
   "id": "4f8364e7",
   "metadata": {
    "execution": {
     "iopub.execute_input": "2024-09-11T09:10:51.800979Z",
     "iopub.status.busy": "2024-09-11T09:10:51.800518Z",
     "iopub.status.idle": "2024-09-11T09:10:51.814361Z",
     "shell.execute_reply": "2024-09-11T09:10:51.813142Z"
    },
    "papermill": {
     "duration": 0.073634,
     "end_time": "2024-09-11T09:10:51.817203",
     "exception": false,
     "start_time": "2024-09-11T09:10:51.743569",
     "status": "completed"
    },
    "tags": []
   },
   "outputs": [],
   "source": [
    "train['baska_bir_kurumdan_burs_aliyor_mu'] = train['baska_bir_kurumdan_burs_aliyor_mu'].fillna(train['burs_aliyor_mu'])"
   ]
  },
  {
   "cell_type": "code",
   "execution_count": 77,
   "id": "2d907edb",
   "metadata": {
    "execution": {
     "iopub.execute_input": "2024-09-11T09:10:51.930251Z",
     "iopub.status.busy": "2024-09-11T09:10:51.929806Z",
     "iopub.status.idle": "2024-09-11T09:10:51.940904Z",
     "shell.execute_reply": "2024-09-11T09:10:51.939817Z"
    },
    "papermill": {
     "duration": 0.069852,
     "end_time": "2024-09-11T09:10:51.943178",
     "exception": false,
     "start_time": "2024-09-11T09:10:51.873326",
     "status": "completed"
    },
    "tags": []
   },
   "outputs": [
    {
     "data": {
      "text/plain": [
       "0"
      ]
     },
     "execution_count": 77,
     "metadata": {},
     "output_type": "execute_result"
    }
   ],
   "source": [
    "train[\"baska_bir_kurumdan_burs_aliyor_mu\"].isna().sum()"
   ]
  },
  {
   "cell_type": "code",
   "execution_count": 78,
   "id": "d09b6c10",
   "metadata": {
    "execution": {
     "iopub.execute_input": "2024-09-11T09:10:52.057043Z",
     "iopub.status.busy": "2024-09-11T09:10:52.056596Z",
     "iopub.status.idle": "2024-09-11T09:10:52.079773Z",
     "shell.execute_reply": "2024-09-11T09:10:52.078187Z"
    },
    "papermill": {
     "duration": 0.084533,
     "end_time": "2024-09-11T09:10:52.082471",
     "exception": false,
     "start_time": "2024-09-11T09:10:51.997938",
     "status": "completed"
    },
    "tags": []
   },
   "outputs": [
    {
     "name": "stdout",
     "output_type": "stream",
     "text": [
      "baska_bir_kurumdan_burs_aliyor_mu kategorisi yeni değer sayısı: 2\n",
      "baska_bir_kurumdan_burs_aliyor_mu kategorisi yeni değerler: ['hayır' 'evet']\n",
      "baska_bir_kurumdan_burs_aliyor_mu null değer sayısı: 0\n",
      "Eğitim seti yeni satır sayısı 64276\n"
     ]
    }
   ],
   "source": [
    "# GÜNCEL DURUM\n",
    "print(\"baska_bir_kurumdan_burs_aliyor_mu kategorisi yeni değer sayısı:\", train[\"baska_bir_kurumdan_burs_aliyor_mu\"].nunique())\n",
    "print(\"baska_bir_kurumdan_burs_aliyor_mu kategorisi yeni değerler:\",train[\"baska_bir_kurumdan_burs_aliyor_mu\"].unique())\n",
    "print(\"baska_bir_kurumdan_burs_aliyor_mu null değer sayısı:\", train[\"baska_bir_kurumdan_burs_aliyor_mu\"].isna().sum())\n",
    "\n",
    "print(f\"Eğitim seti yeni satır sayısı {len(train)}\")"
   ]
  },
  {
   "cell_type": "markdown",
   "id": "382c4c6f",
   "metadata": {
    "papermill": {
     "duration": 0.054531,
     "end_time": "2024-09-11T09:10:52.191639",
     "exception": false,
     "start_time": "2024-09-11T09:10:52.137108",
     "status": "completed"
    },
    "tags": []
   },
   "source": [
    "### anne_egitim_durumu ! ! !\n",
    "\n",
    "-"
   ]
  },
  {
   "cell_type": "code",
   "execution_count": 79,
   "id": "176632aa",
   "metadata": {
    "execution": {
     "iopub.execute_input": "2024-09-11T09:10:52.304804Z",
     "iopub.status.busy": "2024-09-11T09:10:52.303804Z",
     "iopub.status.idle": "2024-09-11T09:10:52.322753Z",
     "shell.execute_reply": "2024-09-11T09:10:52.321609Z"
    },
    "papermill": {
     "duration": 0.077403,
     "end_time": "2024-09-11T09:10:52.325121",
     "exception": false,
     "start_time": "2024-09-11T09:10:52.247718",
     "status": "completed"
    },
    "tags": []
   },
   "outputs": [
    {
     "name": "stdout",
     "output_type": "stream",
     "text": [
      "18\n"
     ]
    },
    {
     "data": {
      "text/plain": [
       "array(['üniversite', 'i̇lkokul mezunu', 'eğitim yok', 'lise',\n",
       "       'ortaokul mezunu', 'yüksek lisans / doktora', 'üniversite mezunu',\n",
       "       'lise mezunu', 'yüksek lisans / doktara', 'li̇se', 'eği̇ti̇m yok',\n",
       "       nan, 'üni̇versi̇te', 'doktora', 'yüksek li̇sans', 'ortaokul',\n",
       "       'i̇lkokul', 'yüksek lisans', 'eğitimi yok'], dtype=object)"
      ]
     },
     "execution_count": 79,
     "metadata": {},
     "output_type": "execute_result"
    }
   ],
   "source": [
    "print(train[\"anne_egitim_durumu\"].nunique())\n",
    "train[\"anne_egitim_durumu\"].unique()"
   ]
  },
  {
   "cell_type": "code",
   "execution_count": 80,
   "id": "40554f41",
   "metadata": {
    "execution": {
     "iopub.execute_input": "2024-09-11T09:10:52.437904Z",
     "iopub.status.busy": "2024-09-11T09:10:52.437450Z",
     "iopub.status.idle": "2024-09-11T09:10:52.448217Z",
     "shell.execute_reply": "2024-09-11T09:10:52.447221Z"
    },
    "papermill": {
     "duration": 0.06926,
     "end_time": "2024-09-11T09:10:52.450459",
     "exception": false,
     "start_time": "2024-09-11T09:10:52.381199",
     "status": "completed"
    },
    "tags": []
   },
   "outputs": [
    {
     "data": {
      "text/plain": [
       "322"
      ]
     },
     "execution_count": 80,
     "metadata": {},
     "output_type": "execute_result"
    }
   ],
   "source": [
    "train[\"anne_egitim_durumu\"].isna().sum()"
   ]
  },
  {
   "cell_type": "code",
   "execution_count": 81,
   "id": "41cb0f92",
   "metadata": {
    "execution": {
     "iopub.execute_input": "2024-09-11T09:10:52.562616Z",
     "iopub.status.busy": "2024-09-11T09:10:52.561893Z",
     "iopub.status.idle": "2024-09-11T09:10:52.593125Z",
     "shell.execute_reply": "2024-09-11T09:10:52.592041Z"
    },
    "papermill": {
     "duration": 0.090748,
     "end_time": "2024-09-11T09:10:52.595682",
     "exception": false,
     "start_time": "2024-09-11T09:10:52.504934",
     "status": "completed"
    },
    "tags": []
   },
   "outputs": [
    {
     "data": {
      "text/html": [
       "<div>\n",
       "<style scoped>\n",
       "    .dataframe tbody tr th:only-of-type {\n",
       "        vertical-align: middle;\n",
       "    }\n",
       "\n",
       "    .dataframe tbody tr th {\n",
       "        vertical-align: top;\n",
       "    }\n",
       "\n",
       "    .dataframe thead th {\n",
       "        text-align: right;\n",
       "    }\n",
       "</style>\n",
       "<table border=\"1\" class=\"dataframe\">\n",
       "  <thead>\n",
       "    <tr style=\"text-align: right;\">\n",
       "      <th></th>\n",
       "      <th>basvuru_yili</th>\n",
       "      <th>degerlendirme_puani</th>\n",
       "      <th>cinsiyet</th>\n",
       "      <th>dogum_tarihi</th>\n",
       "      <th>dogum_yeri</th>\n",
       "      <th>ikametgah_sehri</th>\n",
       "      <th>universite_adi</th>\n",
       "      <th>universite_turu</th>\n",
       "      <th>burslu_ise_burs_yuzdesi</th>\n",
       "      <th>burs_aliyor_mu</th>\n",
       "      <th>...</th>\n",
       "      <th>spor_dalindaki_rolunuz_nedir</th>\n",
       "      <th>aktif_olarak_bir_stk_uyesi_misiniz</th>\n",
       "      <th>hangi_stknin_uyesisiniz</th>\n",
       "      <th>stk_projesine_katildiniz_mi</th>\n",
       "      <th>girisimcilikle_ilgili_deneyiminiz_var_mi</th>\n",
       "      <th>girisimcilikle_ilgili_deneyiminizi_aciklayabilir_misiniz</th>\n",
       "      <th>ingilizce_biliyor_musunuz</th>\n",
       "      <th>ingilizce_seviyeniz</th>\n",
       "      <th>daha_onceden_mezun_olunduysa_mezun_olunan_universite</th>\n",
       "      <th>id</th>\n",
       "    </tr>\n",
       "  </thead>\n",
       "  <tbody>\n",
       "    <tr>\n",
       "      <th>54737</th>\n",
       "      <td>2021</td>\n",
       "      <td>33.0</td>\n",
       "      <td>kadın</td>\n",
       "      <td>3/24/99 0:00</td>\n",
       "      <td>adana</td>\n",
       "      <td>adana</td>\n",
       "      <td>i̇stanbul üni̇versi̇tesi̇-</td>\n",
       "      <td>devlet</td>\n",
       "      <td>0.0</td>\n",
       "      <td>hayır</td>\n",
       "      <td>...</td>\n",
       "      <td>NaN</td>\n",
       "      <td>NaN</td>\n",
       "      <td>NaN</td>\n",
       "      <td>NaN</td>\n",
       "      <td>NaN</td>\n",
       "      <td>NaN</td>\n",
       "      <td>evet</td>\n",
       "      <td>NaN</td>\n",
       "      <td>NaN</td>\n",
       "      <td>54737</td>\n",
       "    </tr>\n",
       "    <tr>\n",
       "      <th>54950</th>\n",
       "      <td>2021</td>\n",
       "      <td>23.0</td>\n",
       "      <td>erkek</td>\n",
       "      <td>7/30/99 0:00</td>\n",
       "      <td>kayseri</td>\n",
       "      <td>i̇stanbul</td>\n",
       "      <td>NaN</td>\n",
       "      <td>devlet</td>\n",
       "      <td>0.0</td>\n",
       "      <td>hayır</td>\n",
       "      <td>...</td>\n",
       "      <td>lider/kaptan</td>\n",
       "      <td>NaN</td>\n",
       "      <td>NaN</td>\n",
       "      <td>NaN</td>\n",
       "      <td>NaN</td>\n",
       "      <td>NaN</td>\n",
       "      <td>evet</td>\n",
       "      <td>NaN</td>\n",
       "      <td>NaN</td>\n",
       "      <td>54950</td>\n",
       "    </tr>\n",
       "    <tr>\n",
       "      <th>56248</th>\n",
       "      <td>2021</td>\n",
       "      <td>20.0</td>\n",
       "      <td>kadın</td>\n",
       "      <td>4/9/01 0:00</td>\n",
       "      <td>denizli</td>\n",
       "      <td>denizli</td>\n",
       "      <td>pamukkale üni̇versi̇tesi̇</td>\n",
       "      <td>devlet</td>\n",
       "      <td>0.0</td>\n",
       "      <td>hayır</td>\n",
       "      <td>...</td>\n",
       "      <td>NaN</td>\n",
       "      <td>NaN</td>\n",
       "      <td>NaN</td>\n",
       "      <td>NaN</td>\n",
       "      <td>NaN</td>\n",
       "      <td>NaN</td>\n",
       "      <td>evet</td>\n",
       "      <td>NaN</td>\n",
       "      <td>NaN</td>\n",
       "      <td>56248</td>\n",
       "    </tr>\n",
       "    <tr>\n",
       "      <th>56343</th>\n",
       "      <td>2021</td>\n",
       "      <td>5.0</td>\n",
       "      <td>erkek</td>\n",
       "      <td>3/13/01 0:00</td>\n",
       "      <td>diğer</td>\n",
       "      <td>edirne</td>\n",
       "      <td>trakya üni̇versi̇tesi̇</td>\n",
       "      <td>devlet</td>\n",
       "      <td>0.0</td>\n",
       "      <td>hayır</td>\n",
       "      <td>...</td>\n",
       "      <td>NaN</td>\n",
       "      <td>NaN</td>\n",
       "      <td>NaN</td>\n",
       "      <td>NaN</td>\n",
       "      <td>NaN</td>\n",
       "      <td>NaN</td>\n",
       "      <td>hayır</td>\n",
       "      <td>NaN</td>\n",
       "      <td>NaN</td>\n",
       "      <td>56343</td>\n",
       "    </tr>\n",
       "    <tr>\n",
       "      <th>56530</th>\n",
       "      <td>2021</td>\n",
       "      <td>14.0</td>\n",
       "      <td>kadın</td>\n",
       "      <td>NaN</td>\n",
       "      <td>NaN</td>\n",
       "      <td>NaN</td>\n",
       "      <td>uşak üni̇versi̇tesi̇</td>\n",
       "      <td>devlet</td>\n",
       "      <td>0.0</td>\n",
       "      <td>hayır</td>\n",
       "      <td>...</td>\n",
       "      <td>NaN</td>\n",
       "      <td>NaN</td>\n",
       "      <td>NaN</td>\n",
       "      <td>NaN</td>\n",
       "      <td>NaN</td>\n",
       "      <td>NaN</td>\n",
       "      <td>evet</td>\n",
       "      <td>NaN</td>\n",
       "      <td>NaN</td>\n",
       "      <td>56530</td>\n",
       "    </tr>\n",
       "  </tbody>\n",
       "</table>\n",
       "<p>5 rows × 44 columns</p>\n",
       "</div>"
      ],
      "text/plain": [
       "       basvuru_yili  degerlendirme_puani cinsiyet  dogum_tarihi dogum_yeri  \\\n",
       "54737          2021                 33.0    kadın  3/24/99 0:00      adana   \n",
       "54950          2021                 23.0    erkek  7/30/99 0:00    kayseri   \n",
       "56248          2021                 20.0    kadın   4/9/01 0:00    denizli   \n",
       "56343          2021                  5.0    erkek  3/13/01 0:00      diğer   \n",
       "56530          2021                 14.0    kadın           NaN        NaN   \n",
       "\n",
       "      ikametgah_sehri              universite_adi universite_turu  \\\n",
       "54737           adana  i̇stanbul üni̇versi̇tesi̇-          devlet   \n",
       "54950       i̇stanbul                         NaN          devlet   \n",
       "56248         denizli   pamukkale üni̇versi̇tesi̇          devlet   \n",
       "56343          edirne      trakya üni̇versi̇tesi̇          devlet   \n",
       "56530             NaN        uşak üni̇versi̇tesi̇          devlet   \n",
       "\n",
       "       burslu_ise_burs_yuzdesi burs_aliyor_mu  ...  \\\n",
       "54737                      0.0          hayır  ...   \n",
       "54950                      0.0          hayır  ...   \n",
       "56248                      0.0          hayır  ...   \n",
       "56343                      0.0          hayır  ...   \n",
       "56530                      0.0          hayır  ...   \n",
       "\n",
       "      spor_dalindaki_rolunuz_nedir aktif_olarak_bir_stk_uyesi_misiniz  \\\n",
       "54737                          NaN                                NaN   \n",
       "54950                 lider/kaptan                                NaN   \n",
       "56248                          NaN                                NaN   \n",
       "56343                          NaN                                NaN   \n",
       "56530                          NaN                                NaN   \n",
       "\n",
       "      hangi_stknin_uyesisiniz stk_projesine_katildiniz_mi  \\\n",
       "54737                     NaN                         NaN   \n",
       "54950                     NaN                         NaN   \n",
       "56248                     NaN                         NaN   \n",
       "56343                     NaN                         NaN   \n",
       "56530                     NaN                         NaN   \n",
       "\n",
       "      girisimcilikle_ilgili_deneyiminiz_var_mi  \\\n",
       "54737                                      NaN   \n",
       "54950                                      NaN   \n",
       "56248                                      NaN   \n",
       "56343                                      NaN   \n",
       "56530                                      NaN   \n",
       "\n",
       "      girisimcilikle_ilgili_deneyiminizi_aciklayabilir_misiniz  \\\n",
       "54737                                                NaN         \n",
       "54950                                                NaN         \n",
       "56248                                                NaN         \n",
       "56343                                                NaN         \n",
       "56530                                                NaN         \n",
       "\n",
       "      ingilizce_biliyor_musunuz ingilizce_seviyeniz  \\\n",
       "54737                      evet                 NaN   \n",
       "54950                      evet                 NaN   \n",
       "56248                      evet                 NaN   \n",
       "56343                     hayır                 NaN   \n",
       "56530                      evet                 NaN   \n",
       "\n",
       "      daha_onceden_mezun_olunduysa_mezun_olunan_universite     id  \n",
       "54737                                                NaN    54737  \n",
       "54950                                                NaN    54950  \n",
       "56248                                                NaN    56248  \n",
       "56343                                                NaN    56343  \n",
       "56530                                                NaN    56530  \n",
       "\n",
       "[5 rows x 44 columns]"
      ]
     },
     "execution_count": 81,
     "metadata": {},
     "output_type": "execute_result"
    }
   ],
   "source": [
    "train[train['anne_egitim_durumu'].isna()].tail()"
   ]
  },
  {
   "cell_type": "code",
   "execution_count": 82,
   "id": "298f6d7e",
   "metadata": {
    "execution": {
     "iopub.execute_input": "2024-09-11T09:10:52.709427Z",
     "iopub.status.busy": "2024-09-11T09:10:52.709036Z",
     "iopub.status.idle": "2024-09-11T09:10:52.721788Z",
     "shell.execute_reply": "2024-09-11T09:10:52.720819Z"
    },
    "papermill": {
     "duration": 0.071956,
     "end_time": "2024-09-11T09:10:52.724176",
     "exception": false,
     "start_time": "2024-09-11T09:10:52.652220",
     "status": "completed"
    },
    "tags": []
   },
   "outputs": [],
   "source": [
    "train['anne_egitim_durumu'] = train['anne_egitim_durumu'].fillna(\"eğitim yok\")"
   ]
  },
  {
   "cell_type": "code",
   "execution_count": 83,
   "id": "add1c2ad",
   "metadata": {
    "execution": {
     "iopub.execute_input": "2024-09-11T09:10:52.836627Z",
     "iopub.status.busy": "2024-09-11T09:10:52.835646Z",
     "iopub.status.idle": "2024-09-11T09:10:52.847360Z",
     "shell.execute_reply": "2024-09-11T09:10:52.846111Z"
    },
    "papermill": {
     "duration": 0.070473,
     "end_time": "2024-09-11T09:10:52.849713",
     "exception": false,
     "start_time": "2024-09-11T09:10:52.779240",
     "status": "completed"
    },
    "tags": []
   },
   "outputs": [
    {
     "data": {
      "text/plain": [
       "0"
      ]
     },
     "execution_count": 83,
     "metadata": {},
     "output_type": "execute_result"
    }
   ],
   "source": [
    "train[\"anne_egitim_durumu\"].isna().sum()"
   ]
  },
  {
   "cell_type": "code",
   "execution_count": 84,
   "id": "f4200bc0",
   "metadata": {
    "execution": {
     "iopub.execute_input": "2024-09-11T09:10:52.962687Z",
     "iopub.status.busy": "2024-09-11T09:10:52.962256Z",
     "iopub.status.idle": "2024-09-11T09:10:52.988266Z",
     "shell.execute_reply": "2024-09-11T09:10:52.987067Z"
    },
    "papermill": {
     "duration": 0.08545,
     "end_time": "2024-09-11T09:10:52.991086",
     "exception": false,
     "start_time": "2024-09-11T09:10:52.905636",
     "status": "completed"
    },
    "tags": []
   },
   "outputs": [
    {
     "name": "stdout",
     "output_type": "stream",
     "text": [
      "anne_egitim_durumu kategorisi yeni değer sayısı: 18\n",
      "anne_egitim_durumu kategorisi yeni değerler: ['üniversite' 'i̇lkokul mezunu' 'eğitim yok' 'lise' 'ortaokul mezunu'\n",
      " 'yüksek lisans / doktora' 'üniversite mezunu' 'lise mezunu'\n",
      " 'yüksek lisans / doktara' 'li̇se' 'eği̇ti̇m yok' 'üni̇versi̇te' 'doktora'\n",
      " 'yüksek li̇sans' 'ortaokul' 'i̇lkokul' 'yüksek lisans' 'eğitimi yok']\n",
      "anne_egitim_durumu null değer sayısı: 0\n",
      "Eğitim seti yeni satır sayısı 64276\n"
     ]
    }
   ],
   "source": [
    "# GÜNCEL DURUM\n",
    "print(\"anne_egitim_durumu kategorisi yeni değer sayısı:\", train[\"anne_egitim_durumu\"].nunique())\n",
    "print(\"anne_egitim_durumu kategorisi yeni değerler:\",train[\"anne_egitim_durumu\"].unique())\n",
    "print(\"anne_egitim_durumu null değer sayısı:\", train[\"anne_egitim_durumu\"].isna().sum())\n",
    "\n",
    "print(f\"Eğitim seti yeni satır sayısı {len(train)}\")"
   ]
  },
  {
   "cell_type": "markdown",
   "id": "ea5b66c8",
   "metadata": {
    "papermill": {
     "duration": 0.054784,
     "end_time": "2024-09-11T09:10:53.101475",
     "exception": false,
     "start_time": "2024-09-11T09:10:53.046691",
     "status": "completed"
    },
    "tags": []
   },
   "source": [
    "### anne_calisma_durumu ! ! !\n",
    "\n",
    "-"
   ]
  },
  {
   "cell_type": "code",
   "execution_count": 85,
   "id": "7635c603",
   "metadata": {
    "execution": {
     "iopub.execute_input": "2024-09-11T09:10:53.213824Z",
     "iopub.status.busy": "2024-09-11T09:10:53.213384Z",
     "iopub.status.idle": "2024-09-11T09:10:53.230462Z",
     "shell.execute_reply": "2024-09-11T09:10:53.229090Z"
    },
    "papermill": {
     "duration": 0.076629,
     "end_time": "2024-09-11T09:10:53.233200",
     "exception": false,
     "start_time": "2024-09-11T09:10:53.156571",
     "status": "completed"
    },
    "tags": []
   },
   "outputs": [
    {
     "name": "stdout",
     "output_type": "stream",
     "text": [
      "3\n"
     ]
    },
    {
     "data": {
      "text/plain": [
       "array(['hayır', 'evet', 'emekli', nan], dtype=object)"
      ]
     },
     "execution_count": 85,
     "metadata": {},
     "output_type": "execute_result"
    }
   ],
   "source": [
    "print(train[\"anne_calisma_durumu\"].nunique())\n",
    "train[\"anne_calisma_durumu\"].unique()"
   ]
  },
  {
   "cell_type": "code",
   "execution_count": 86,
   "id": "3b699f8d",
   "metadata": {
    "execution": {
     "iopub.execute_input": "2024-09-11T09:10:53.352164Z",
     "iopub.status.busy": "2024-09-11T09:10:53.350849Z",
     "iopub.status.idle": "2024-09-11T09:10:53.364287Z",
     "shell.execute_reply": "2024-09-11T09:10:53.363284Z"
    },
    "papermill": {
     "duration": 0.076507,
     "end_time": "2024-09-11T09:10:53.366935",
     "exception": false,
     "start_time": "2024-09-11T09:10:53.290428",
     "status": "completed"
    },
    "tags": []
   },
   "outputs": [
    {
     "data": {
      "text/plain": [
       "11581"
      ]
     },
     "execution_count": 86,
     "metadata": {},
     "output_type": "execute_result"
    }
   ],
   "source": [
    "train[\"anne_calisma_durumu\"].isna().sum()"
   ]
  },
  {
   "cell_type": "code",
   "execution_count": 87,
   "id": "90d8d96c",
   "metadata": {
    "execution": {
     "iopub.execute_input": "2024-09-11T09:10:53.483601Z",
     "iopub.status.busy": "2024-09-11T09:10:53.483190Z",
     "iopub.status.idle": "2024-09-11T09:10:53.520853Z",
     "shell.execute_reply": "2024-09-11T09:10:53.519670Z"
    },
    "papermill": {
     "duration": 0.099507,
     "end_time": "2024-09-11T09:10:53.523350",
     "exception": false,
     "start_time": "2024-09-11T09:10:53.423843",
     "status": "completed"
    },
    "tags": []
   },
   "outputs": [
    {
     "data": {
      "text/html": [
       "<div>\n",
       "<style scoped>\n",
       "    .dataframe tbody tr th:only-of-type {\n",
       "        vertical-align: middle;\n",
       "    }\n",
       "\n",
       "    .dataframe tbody tr th {\n",
       "        vertical-align: top;\n",
       "    }\n",
       "\n",
       "    .dataframe thead th {\n",
       "        text-align: right;\n",
       "    }\n",
       "</style>\n",
       "<table border=\"1\" class=\"dataframe\">\n",
       "  <thead>\n",
       "    <tr style=\"text-align: right;\">\n",
       "      <th></th>\n",
       "      <th>basvuru_yili</th>\n",
       "      <th>degerlendirme_puani</th>\n",
       "      <th>cinsiyet</th>\n",
       "      <th>dogum_tarihi</th>\n",
       "      <th>dogum_yeri</th>\n",
       "      <th>ikametgah_sehri</th>\n",
       "      <th>universite_adi</th>\n",
       "      <th>universite_turu</th>\n",
       "      <th>burslu_ise_burs_yuzdesi</th>\n",
       "      <th>burs_aliyor_mu</th>\n",
       "      <th>...</th>\n",
       "      <th>spor_dalindaki_rolunuz_nedir</th>\n",
       "      <th>aktif_olarak_bir_stk_uyesi_misiniz</th>\n",
       "      <th>hangi_stknin_uyesisiniz</th>\n",
       "      <th>stk_projesine_katildiniz_mi</th>\n",
       "      <th>girisimcilikle_ilgili_deneyiminiz_var_mi</th>\n",
       "      <th>girisimcilikle_ilgili_deneyiminizi_aciklayabilir_misiniz</th>\n",
       "      <th>ingilizce_biliyor_musunuz</th>\n",
       "      <th>ingilizce_seviyeniz</th>\n",
       "      <th>daha_onceden_mezun_olunduysa_mezun_olunan_universite</th>\n",
       "      <th>id</th>\n",
       "    </tr>\n",
       "  </thead>\n",
       "  <tbody>\n",
       "    <tr>\n",
       "      <th>57498</th>\n",
       "      <td>2021</td>\n",
       "      <td>56.0</td>\n",
       "      <td>kadın</td>\n",
       "      <td>11/13/98 0:00</td>\n",
       "      <td>kocaeli</td>\n",
       "      <td>kocaeli</td>\n",
       "      <td>gebze tekni̇k üni̇versi̇tesi̇</td>\n",
       "      <td>devlet</td>\n",
       "      <td>0.0</td>\n",
       "      <td>hayır</td>\n",
       "      <td>...</td>\n",
       "      <td>lider/kaptan</td>\n",
       "      <td>NaN</td>\n",
       "      <td>NaN</td>\n",
       "      <td>NaN</td>\n",
       "      <td>NaN</td>\n",
       "      <td>NaN</td>\n",
       "      <td>evet</td>\n",
       "      <td>NaN</td>\n",
       "      <td>NaN</td>\n",
       "      <td>57498</td>\n",
       "    </tr>\n",
       "    <tr>\n",
       "      <th>57499</th>\n",
       "      <td>2021</td>\n",
       "      <td>5.0</td>\n",
       "      <td>erkek</td>\n",
       "      <td>2/24/99 0:00</td>\n",
       "      <td>sivas</td>\n",
       "      <td>sivas</td>\n",
       "      <td>si̇vas cumhuri̇yet üni̇versi̇tesi̇</td>\n",
       "      <td>devlet</td>\n",
       "      <td>0.0</td>\n",
       "      <td>hayır</td>\n",
       "      <td>...</td>\n",
       "      <td>NaN</td>\n",
       "      <td>NaN</td>\n",
       "      <td>NaN</td>\n",
       "      <td>NaN</td>\n",
       "      <td>NaN</td>\n",
       "      <td>NaN</td>\n",
       "      <td>evet</td>\n",
       "      <td>NaN</td>\n",
       "      <td>NaN</td>\n",
       "      <td>57499</td>\n",
       "    </tr>\n",
       "    <tr>\n",
       "      <th>57500</th>\n",
       "      <td>2021</td>\n",
       "      <td>43.0</td>\n",
       "      <td>erkek</td>\n",
       "      <td>3/23/00 0:00</td>\n",
       "      <td>bursa</td>\n",
       "      <td>ankara</td>\n",
       "      <td>i̇hsan doğramaci bi̇lkent üni̇versi̇tesi̇</td>\n",
       "      <td>özel</td>\n",
       "      <td>0.0</td>\n",
       "      <td>hayır</td>\n",
       "      <td>...</td>\n",
       "      <td>diğer</td>\n",
       "      <td>NaN</td>\n",
       "      <td>NaN</td>\n",
       "      <td>NaN</td>\n",
       "      <td>NaN</td>\n",
       "      <td>NaN</td>\n",
       "      <td>evet</td>\n",
       "      <td>NaN</td>\n",
       "      <td>NaN</td>\n",
       "      <td>57500</td>\n",
       "    </tr>\n",
       "    <tr>\n",
       "      <th>57501</th>\n",
       "      <td>2021</td>\n",
       "      <td>29.0</td>\n",
       "      <td>kadın</td>\n",
       "      <td>2/1/99 0:00</td>\n",
       "      <td>mardin</td>\n",
       "      <td>mardin</td>\n",
       "      <td>i̇zmi̇r bakirçay üni̇versi̇tesi̇</td>\n",
       "      <td>devlet</td>\n",
       "      <td>0.0</td>\n",
       "      <td>hayır</td>\n",
       "      <td>...</td>\n",
       "      <td>NaN</td>\n",
       "      <td>NaN</td>\n",
       "      <td>NaN</td>\n",
       "      <td>NaN</td>\n",
       "      <td>NaN</td>\n",
       "      <td>NaN</td>\n",
       "      <td>evet</td>\n",
       "      <td>NaN</td>\n",
       "      <td>NaN</td>\n",
       "      <td>57501</td>\n",
       "    </tr>\n",
       "    <tr>\n",
       "      <th>57502</th>\n",
       "      <td>2021</td>\n",
       "      <td>66.0</td>\n",
       "      <td>erkek</td>\n",
       "      <td>4/25/00 0:00</td>\n",
       "      <td>ankara</td>\n",
       "      <td>ankara</td>\n",
       "      <td>i̇hsan doğramaci bi̇lkent üni̇versi̇tesi̇</td>\n",
       "      <td>özel</td>\n",
       "      <td>0.0</td>\n",
       "      <td>hayır</td>\n",
       "      <td>...</td>\n",
       "      <td>diğer</td>\n",
       "      <td>NaN</td>\n",
       "      <td>NaN</td>\n",
       "      <td>NaN</td>\n",
       "      <td>NaN</td>\n",
       "      <td>NaN</td>\n",
       "      <td>evet</td>\n",
       "      <td>NaN</td>\n",
       "      <td>NaN</td>\n",
       "      <td>57502</td>\n",
       "    </tr>\n",
       "  </tbody>\n",
       "</table>\n",
       "<p>5 rows × 44 columns</p>\n",
       "</div>"
      ],
      "text/plain": [
       "       basvuru_yili  degerlendirme_puani cinsiyet   dogum_tarihi dogum_yeri  \\\n",
       "57498          2021                 56.0    kadın  11/13/98 0:00    kocaeli   \n",
       "57499          2021                  5.0    erkek   2/24/99 0:00      sivas   \n",
       "57500          2021                 43.0    erkek   3/23/00 0:00      bursa   \n",
       "57501          2021                 29.0    kadın    2/1/99 0:00     mardin   \n",
       "57502          2021                 66.0    erkek   4/25/00 0:00     ankara   \n",
       "\n",
       "      ikametgah_sehri                             universite_adi  \\\n",
       "57498         kocaeli              gebze tekni̇k üni̇versi̇tesi̇   \n",
       "57499           sivas         si̇vas cumhuri̇yet üni̇versi̇tesi̇   \n",
       "57500          ankara  i̇hsan doğramaci bi̇lkent üni̇versi̇tesi̇   \n",
       "57501          mardin           i̇zmi̇r bakirçay üni̇versi̇tesi̇   \n",
       "57502          ankara  i̇hsan doğramaci bi̇lkent üni̇versi̇tesi̇   \n",
       "\n",
       "      universite_turu  burslu_ise_burs_yuzdesi burs_aliyor_mu  ...  \\\n",
       "57498          devlet                      0.0          hayır  ...   \n",
       "57499          devlet                      0.0          hayır  ...   \n",
       "57500            özel                      0.0          hayır  ...   \n",
       "57501          devlet                      0.0          hayır  ...   \n",
       "57502            özel                      0.0          hayır  ...   \n",
       "\n",
       "      spor_dalindaki_rolunuz_nedir aktif_olarak_bir_stk_uyesi_misiniz  \\\n",
       "57498                 lider/kaptan                                NaN   \n",
       "57499                          NaN                                NaN   \n",
       "57500                        diğer                                NaN   \n",
       "57501                          NaN                                NaN   \n",
       "57502                        diğer                                NaN   \n",
       "\n",
       "      hangi_stknin_uyesisiniz stk_projesine_katildiniz_mi  \\\n",
       "57498                     NaN                         NaN   \n",
       "57499                     NaN                         NaN   \n",
       "57500                     NaN                         NaN   \n",
       "57501                     NaN                         NaN   \n",
       "57502                     NaN                         NaN   \n",
       "\n",
       "      girisimcilikle_ilgili_deneyiminiz_var_mi  \\\n",
       "57498                                      NaN   \n",
       "57499                                      NaN   \n",
       "57500                                      NaN   \n",
       "57501                                      NaN   \n",
       "57502                                      NaN   \n",
       "\n",
       "      girisimcilikle_ilgili_deneyiminizi_aciklayabilir_misiniz  \\\n",
       "57498                                                NaN         \n",
       "57499                                                NaN         \n",
       "57500                                                NaN         \n",
       "57501                                                NaN         \n",
       "57502                                                NaN         \n",
       "\n",
       "      ingilizce_biliyor_musunuz ingilizce_seviyeniz  \\\n",
       "57498                      evet                 NaN   \n",
       "57499                      evet                 NaN   \n",
       "57500                      evet                 NaN   \n",
       "57501                      evet                 NaN   \n",
       "57502                      evet                 NaN   \n",
       "\n",
       "      daha_onceden_mezun_olunduysa_mezun_olunan_universite     id  \n",
       "57498                                                NaN    57498  \n",
       "57499                                                NaN    57499  \n",
       "57500                                                NaN    57500  \n",
       "57501                                                NaN    57501  \n",
       "57502                                                NaN    57502  \n",
       "\n",
       "[5 rows x 44 columns]"
      ]
     },
     "execution_count": 87,
     "metadata": {},
     "output_type": "execute_result"
    }
   ],
   "source": [
    "train[train['anne_calisma_durumu'].isna()].tail()"
   ]
  },
  {
   "cell_type": "code",
   "execution_count": 88,
   "id": "68e0856c",
   "metadata": {
    "execution": {
     "iopub.execute_input": "2024-09-11T09:10:53.641600Z",
     "iopub.status.busy": "2024-09-11T09:10:53.641176Z",
     "iopub.status.idle": "2024-09-11T09:10:53.654968Z",
     "shell.execute_reply": "2024-09-11T09:10:53.653552Z"
    },
    "papermill": {
     "duration": 0.076312,
     "end_time": "2024-09-11T09:10:53.658013",
     "exception": false,
     "start_time": "2024-09-11T09:10:53.581701",
     "status": "completed"
    },
    "tags": []
   },
   "outputs": [],
   "source": [
    "train['anne_calisma_durumu'] = train['anne_calisma_durumu'].fillna(\"hayır\")"
   ]
  },
  {
   "cell_type": "code",
   "execution_count": 89,
   "id": "43a698d0",
   "metadata": {
    "execution": {
     "iopub.execute_input": "2024-09-11T09:10:53.776623Z",
     "iopub.status.busy": "2024-09-11T09:10:53.776208Z",
     "iopub.status.idle": "2024-09-11T09:10:53.788456Z",
     "shell.execute_reply": "2024-09-11T09:10:53.787210Z"
    },
    "papermill": {
     "duration": 0.074755,
     "end_time": "2024-09-11T09:10:53.791043",
     "exception": false,
     "start_time": "2024-09-11T09:10:53.716288",
     "status": "completed"
    },
    "tags": []
   },
   "outputs": [
    {
     "data": {
      "text/plain": [
       "0"
      ]
     },
     "execution_count": 89,
     "metadata": {},
     "output_type": "execute_result"
    }
   ],
   "source": [
    "train[\"anne_calisma_durumu\"].isna().sum()"
   ]
  },
  {
   "cell_type": "code",
   "execution_count": 90,
   "id": "018ca00e",
   "metadata": {
    "execution": {
     "iopub.execute_input": "2024-09-11T09:10:53.910722Z",
     "iopub.status.busy": "2024-09-11T09:10:53.910319Z",
     "iopub.status.idle": "2024-09-11T09:10:53.931372Z",
     "shell.execute_reply": "2024-09-11T09:10:53.930075Z"
    },
    "papermill": {
     "duration": 0.082493,
     "end_time": "2024-09-11T09:10:53.933714",
     "exception": false,
     "start_time": "2024-09-11T09:10:53.851221",
     "status": "completed"
    },
    "tags": []
   },
   "outputs": [
    {
     "name": "stdout",
     "output_type": "stream",
     "text": [
      "anne_calisma_durumu kategorisi yeni değer sayısı: 3\n",
      "anne_calisma_durumu kategorisi yeni değerler: ['hayır' 'evet' 'emekli']\n",
      "anne_calisma_durumu null değer sayısı: 0\n",
      "Eğitim seti yeni satır sayısı 64276\n"
     ]
    }
   ],
   "source": [
    "# GÜNCEL DURUM\n",
    "print(\"anne_calisma_durumu kategorisi yeni değer sayısı:\", train[\"anne_calisma_durumu\"].nunique())\n",
    "print(\"anne_calisma_durumu kategorisi yeni değerler:\",train[\"anne_calisma_durumu\"].unique())\n",
    "print(\"anne_calisma_durumu null değer sayısı:\", train[\"anne_calisma_durumu\"].isna().sum())\n",
    "\n",
    "print(f\"Eğitim seti yeni satır sayısı {len(train)}\")"
   ]
  },
  {
   "cell_type": "markdown",
   "id": "192a5283",
   "metadata": {
    "papermill": {
     "duration": 0.057258,
     "end_time": "2024-09-11T09:10:54.050719",
     "exception": false,
     "start_time": "2024-09-11T09:10:53.993461",
     "status": "completed"
    },
    "tags": []
   },
   "source": [
    "### anne_sektor ! ! !\n",
    "\n",
    "-"
   ]
  },
  {
   "cell_type": "code",
   "execution_count": 91,
   "id": "bc52546b",
   "metadata": {
    "execution": {
     "iopub.execute_input": "2024-09-11T09:10:54.170460Z",
     "iopub.status.busy": "2024-09-11T09:10:54.170052Z",
     "iopub.status.idle": "2024-09-11T09:10:54.240694Z",
     "shell.execute_reply": "2024-09-11T09:10:54.239504Z"
    },
    "papermill": {
     "duration": 0.132887,
     "end_time": "2024-09-11T09:10:54.243348",
     "exception": false,
     "start_time": "2024-09-11T09:10:54.110461",
     "status": "completed"
    },
    "tags": []
   },
   "outputs": [],
   "source": [
    "# 2 tane \"diğer\" algıladığı için, bunu düzeltme vakti\n",
    "train[\"anne_sektor\"] = train[\"anne_sektor\"].str.lower()\n",
    "train[\"anne_sektor\"] = train[\"anne_sektor\"].str.normalize('NFKD').str.encode('ascii', errors='ignore').str.decode('utf-8')"
   ]
  },
  {
   "cell_type": "code",
   "execution_count": 92,
   "id": "99320d95",
   "metadata": {
    "execution": {
     "iopub.execute_input": "2024-09-11T09:10:54.360080Z",
     "iopub.status.busy": "2024-09-11T09:10:54.359546Z",
     "iopub.status.idle": "2024-09-11T09:10:54.373878Z",
     "shell.execute_reply": "2024-09-11T09:10:54.372773Z"
    },
    "papermill": {
     "duration": 0.074704,
     "end_time": "2024-09-11T09:10:54.376128",
     "exception": false,
     "start_time": "2024-09-11T09:10:54.301424",
     "status": "completed"
    },
    "tags": []
   },
   "outputs": [
    {
     "name": "stdout",
     "output_type": "stream",
     "text": [
      "5\n"
     ]
    },
    {
     "data": {
      "text/plain": [
       "array(['0', 'kamu', 'ozel sektor', 'diger', nan, '-'], dtype=object)"
      ]
     },
     "execution_count": 92,
     "metadata": {},
     "output_type": "execute_result"
    }
   ],
   "source": [
    "print(train[\"anne_sektor\"].nunique())\n",
    "train[\"anne_sektor\"].unique()"
   ]
  },
  {
   "cell_type": "code",
   "execution_count": 93,
   "id": "74704447",
   "metadata": {
    "execution": {
     "iopub.execute_input": "2024-09-11T09:10:54.494172Z",
     "iopub.status.busy": "2024-09-11T09:10:54.493701Z",
     "iopub.status.idle": "2024-09-11T09:10:54.504895Z",
     "shell.execute_reply": "2024-09-11T09:10:54.503922Z"
    },
    "papermill": {
     "duration": 0.072605,
     "end_time": "2024-09-11T09:10:54.507106",
     "exception": false,
     "start_time": "2024-09-11T09:10:54.434501",
     "status": "completed"
    },
    "tags": []
   },
   "outputs": [
    {
     "data": {
      "text/plain": [
       "33989"
      ]
     },
     "execution_count": 93,
     "metadata": {},
     "output_type": "execute_result"
    }
   ],
   "source": [
    "train[\"anne_sektor\"].isna().sum()"
   ]
  },
  {
   "cell_type": "code",
   "execution_count": 94,
   "id": "1d551e3b",
   "metadata": {
    "execution": {
     "iopub.execute_input": "2024-09-11T09:10:54.623795Z",
     "iopub.status.busy": "2024-09-11T09:10:54.623376Z",
     "iopub.status.idle": "2024-09-11T09:10:54.636119Z",
     "shell.execute_reply": "2024-09-11T09:10:54.634892Z"
    },
    "papermill": {
     "duration": 0.073825,
     "end_time": "2024-09-11T09:10:54.638479",
     "exception": false,
     "start_time": "2024-09-11T09:10:54.564654",
     "status": "completed"
    },
    "tags": []
   },
   "outputs": [
    {
     "data": {
      "text/plain": [
       "anne_sektor\n",
       "0              11640\n",
       "ozel sektor     5967\n",
       "-               5818\n",
       "kamu            5094\n",
       "diger           1768\n",
       "Name: count, dtype: int64"
      ]
     },
     "execution_count": 94,
     "metadata": {},
     "output_type": "execute_result"
    }
   ],
   "source": [
    "train[\"anne_sektor\"].value_counts()"
   ]
  },
  {
   "cell_type": "code",
   "execution_count": 95,
   "id": "c96a97b7",
   "metadata": {
    "execution": {
     "iopub.execute_input": "2024-09-11T09:10:54.754687Z",
     "iopub.status.busy": "2024-09-11T09:10:54.754291Z",
     "iopub.status.idle": "2024-09-11T09:10:54.767292Z",
     "shell.execute_reply": "2024-09-11T09:10:54.766059Z"
    },
    "papermill": {
     "duration": 0.07427,
     "end_time": "2024-09-11T09:10:54.769980",
     "exception": false,
     "start_time": "2024-09-11T09:10:54.695710",
     "status": "completed"
    },
    "tags": []
   },
   "outputs": [],
   "source": [
    "train['anne_sektor'] = train['anne_sektor'].replace('-', '0')"
   ]
  },
  {
   "cell_type": "code",
   "execution_count": 96,
   "id": "0e1b500f",
   "metadata": {
    "execution": {
     "iopub.execute_input": "2024-09-11T09:10:54.887643Z",
     "iopub.status.busy": "2024-09-11T09:10:54.887246Z",
     "iopub.status.idle": "2024-09-11T09:10:54.941714Z",
     "shell.execute_reply": "2024-09-11T09:10:54.940463Z"
    },
    "papermill": {
     "duration": 0.115536,
     "end_time": "2024-09-11T09:10:54.944511",
     "exception": false,
     "start_time": "2024-09-11T09:10:54.828975",
     "status": "completed"
    },
    "tags": []
   },
   "outputs": [
    {
     "data": {
      "text/html": [
       "<div>\n",
       "<style scoped>\n",
       "    .dataframe tbody tr th:only-of-type {\n",
       "        vertical-align: middle;\n",
       "    }\n",
       "\n",
       "    .dataframe tbody tr th {\n",
       "        vertical-align: top;\n",
       "    }\n",
       "\n",
       "    .dataframe thead th {\n",
       "        text-align: right;\n",
       "    }\n",
       "</style>\n",
       "<table border=\"1\" class=\"dataframe\">\n",
       "  <thead>\n",
       "    <tr style=\"text-align: right;\">\n",
       "      <th></th>\n",
       "      <th>basvuru_yili</th>\n",
       "      <th>degerlendirme_puani</th>\n",
       "      <th>cinsiyet</th>\n",
       "      <th>dogum_tarihi</th>\n",
       "      <th>dogum_yeri</th>\n",
       "      <th>ikametgah_sehri</th>\n",
       "      <th>universite_adi</th>\n",
       "      <th>universite_turu</th>\n",
       "      <th>burslu_ise_burs_yuzdesi</th>\n",
       "      <th>burs_aliyor_mu</th>\n",
       "      <th>...</th>\n",
       "      <th>spor_dalindaki_rolunuz_nedir</th>\n",
       "      <th>aktif_olarak_bir_stk_uyesi_misiniz</th>\n",
       "      <th>hangi_stknin_uyesisiniz</th>\n",
       "      <th>stk_projesine_katildiniz_mi</th>\n",
       "      <th>girisimcilikle_ilgili_deneyiminiz_var_mi</th>\n",
       "      <th>girisimcilikle_ilgili_deneyiminizi_aciklayabilir_misiniz</th>\n",
       "      <th>ingilizce_biliyor_musunuz</th>\n",
       "      <th>ingilizce_seviyeniz</th>\n",
       "      <th>daha_onceden_mezun_olunduysa_mezun_olunan_universite</th>\n",
       "      <th>id</th>\n",
       "    </tr>\n",
       "  </thead>\n",
       "  <tbody>\n",
       "    <tr>\n",
       "      <th>57497</th>\n",
       "      <td>2021</td>\n",
       "      <td>46.0</td>\n",
       "      <td>kadın</td>\n",
       "      <td>12/10/99 0:00</td>\n",
       "      <td>i̇stanbul</td>\n",
       "      <td>i̇stanbul</td>\n",
       "      <td>gebze tekni̇k üni̇versi̇tesi̇</td>\n",
       "      <td>devlet</td>\n",
       "      <td>0.0</td>\n",
       "      <td>hayır</td>\n",
       "      <td>...</td>\n",
       "      <td>lider/kaptan</td>\n",
       "      <td>NaN</td>\n",
       "      <td>NaN</td>\n",
       "      <td>NaN</td>\n",
       "      <td>NaN</td>\n",
       "      <td>NaN</td>\n",
       "      <td>evet</td>\n",
       "      <td>NaN</td>\n",
       "      <td>NaN</td>\n",
       "      <td>57497</td>\n",
       "    </tr>\n",
       "    <tr>\n",
       "      <th>57498</th>\n",
       "      <td>2021</td>\n",
       "      <td>56.0</td>\n",
       "      <td>kadın</td>\n",
       "      <td>11/13/98 0:00</td>\n",
       "      <td>kocaeli</td>\n",
       "      <td>kocaeli</td>\n",
       "      <td>gebze tekni̇k üni̇versi̇tesi̇</td>\n",
       "      <td>devlet</td>\n",
       "      <td>0.0</td>\n",
       "      <td>hayır</td>\n",
       "      <td>...</td>\n",
       "      <td>lider/kaptan</td>\n",
       "      <td>NaN</td>\n",
       "      <td>NaN</td>\n",
       "      <td>NaN</td>\n",
       "      <td>NaN</td>\n",
       "      <td>NaN</td>\n",
       "      <td>evet</td>\n",
       "      <td>NaN</td>\n",
       "      <td>NaN</td>\n",
       "      <td>57498</td>\n",
       "    </tr>\n",
       "    <tr>\n",
       "      <th>57499</th>\n",
       "      <td>2021</td>\n",
       "      <td>5.0</td>\n",
       "      <td>erkek</td>\n",
       "      <td>2/24/99 0:00</td>\n",
       "      <td>sivas</td>\n",
       "      <td>sivas</td>\n",
       "      <td>si̇vas cumhuri̇yet üni̇versi̇tesi̇</td>\n",
       "      <td>devlet</td>\n",
       "      <td>0.0</td>\n",
       "      <td>hayır</td>\n",
       "      <td>...</td>\n",
       "      <td>NaN</td>\n",
       "      <td>NaN</td>\n",
       "      <td>NaN</td>\n",
       "      <td>NaN</td>\n",
       "      <td>NaN</td>\n",
       "      <td>NaN</td>\n",
       "      <td>evet</td>\n",
       "      <td>NaN</td>\n",
       "      <td>NaN</td>\n",
       "      <td>57499</td>\n",
       "    </tr>\n",
       "    <tr>\n",
       "      <th>57501</th>\n",
       "      <td>2021</td>\n",
       "      <td>29.0</td>\n",
       "      <td>kadın</td>\n",
       "      <td>2/1/99 0:00</td>\n",
       "      <td>mardin</td>\n",
       "      <td>mardin</td>\n",
       "      <td>i̇zmi̇r bakirçay üni̇versi̇tesi̇</td>\n",
       "      <td>devlet</td>\n",
       "      <td>0.0</td>\n",
       "      <td>hayır</td>\n",
       "      <td>...</td>\n",
       "      <td>NaN</td>\n",
       "      <td>NaN</td>\n",
       "      <td>NaN</td>\n",
       "      <td>NaN</td>\n",
       "      <td>NaN</td>\n",
       "      <td>NaN</td>\n",
       "      <td>evet</td>\n",
       "      <td>NaN</td>\n",
       "      <td>NaN</td>\n",
       "      <td>57501</td>\n",
       "    </tr>\n",
       "    <tr>\n",
       "      <th>57502</th>\n",
       "      <td>2021</td>\n",
       "      <td>66.0</td>\n",
       "      <td>erkek</td>\n",
       "      <td>4/25/00 0:00</td>\n",
       "      <td>ankara</td>\n",
       "      <td>ankara</td>\n",
       "      <td>i̇hsan doğramaci bi̇lkent üni̇versi̇tesi̇</td>\n",
       "      <td>özel</td>\n",
       "      <td>0.0</td>\n",
       "      <td>hayır</td>\n",
       "      <td>...</td>\n",
       "      <td>diğer</td>\n",
       "      <td>NaN</td>\n",
       "      <td>NaN</td>\n",
       "      <td>NaN</td>\n",
       "      <td>NaN</td>\n",
       "      <td>NaN</td>\n",
       "      <td>evet</td>\n",
       "      <td>NaN</td>\n",
       "      <td>NaN</td>\n",
       "      <td>57502</td>\n",
       "    </tr>\n",
       "  </tbody>\n",
       "</table>\n",
       "<p>5 rows × 44 columns</p>\n",
       "</div>"
      ],
      "text/plain": [
       "       basvuru_yili  degerlendirme_puani cinsiyet   dogum_tarihi dogum_yeri  \\\n",
       "57497          2021                 46.0    kadın  12/10/99 0:00  i̇stanbul   \n",
       "57498          2021                 56.0    kadın  11/13/98 0:00    kocaeli   \n",
       "57499          2021                  5.0    erkek   2/24/99 0:00      sivas   \n",
       "57501          2021                 29.0    kadın    2/1/99 0:00     mardin   \n",
       "57502          2021                 66.0    erkek   4/25/00 0:00     ankara   \n",
       "\n",
       "      ikametgah_sehri                             universite_adi  \\\n",
       "57497       i̇stanbul              gebze tekni̇k üni̇versi̇tesi̇   \n",
       "57498         kocaeli              gebze tekni̇k üni̇versi̇tesi̇   \n",
       "57499           sivas         si̇vas cumhuri̇yet üni̇versi̇tesi̇   \n",
       "57501          mardin           i̇zmi̇r bakirçay üni̇versi̇tesi̇   \n",
       "57502          ankara  i̇hsan doğramaci bi̇lkent üni̇versi̇tesi̇   \n",
       "\n",
       "      universite_turu  burslu_ise_burs_yuzdesi burs_aliyor_mu  ...  \\\n",
       "57497          devlet                      0.0          hayır  ...   \n",
       "57498          devlet                      0.0          hayır  ...   \n",
       "57499          devlet                      0.0          hayır  ...   \n",
       "57501          devlet                      0.0          hayır  ...   \n",
       "57502            özel                      0.0          hayır  ...   \n",
       "\n",
       "      spor_dalindaki_rolunuz_nedir aktif_olarak_bir_stk_uyesi_misiniz  \\\n",
       "57497                 lider/kaptan                                NaN   \n",
       "57498                 lider/kaptan                                NaN   \n",
       "57499                          NaN                                NaN   \n",
       "57501                          NaN                                NaN   \n",
       "57502                        diğer                                NaN   \n",
       "\n",
       "      hangi_stknin_uyesisiniz stk_projesine_katildiniz_mi  \\\n",
       "57497                     NaN                         NaN   \n",
       "57498                     NaN                         NaN   \n",
       "57499                     NaN                         NaN   \n",
       "57501                     NaN                         NaN   \n",
       "57502                     NaN                         NaN   \n",
       "\n",
       "      girisimcilikle_ilgili_deneyiminiz_var_mi  \\\n",
       "57497                                      NaN   \n",
       "57498                                      NaN   \n",
       "57499                                      NaN   \n",
       "57501                                      NaN   \n",
       "57502                                      NaN   \n",
       "\n",
       "      girisimcilikle_ilgili_deneyiminizi_aciklayabilir_misiniz  \\\n",
       "57497                                                NaN         \n",
       "57498                                                NaN         \n",
       "57499                                                NaN         \n",
       "57501                                                NaN         \n",
       "57502                                                NaN         \n",
       "\n",
       "      ingilizce_biliyor_musunuz ingilizce_seviyeniz  \\\n",
       "57497                      evet                 NaN   \n",
       "57498                      evet                 NaN   \n",
       "57499                      evet                 NaN   \n",
       "57501                      evet                 NaN   \n",
       "57502                      evet                 NaN   \n",
       "\n",
       "      daha_onceden_mezun_olunduysa_mezun_olunan_universite     id  \n",
       "57497                                                NaN    57497  \n",
       "57498                                                NaN    57498  \n",
       "57499                                                NaN    57499  \n",
       "57501                                                NaN    57501  \n",
       "57502                                                NaN    57502  \n",
       "\n",
       "[5 rows x 44 columns]"
      ]
     },
     "execution_count": 96,
     "metadata": {},
     "output_type": "execute_result"
    }
   ],
   "source": [
    "train[train['anne_sektor'].isna()].tail()"
   ]
  },
  {
   "cell_type": "code",
   "execution_count": 97,
   "id": "74258f7f",
   "metadata": {
    "execution": {
     "iopub.execute_input": "2024-09-11T09:10:55.062593Z",
     "iopub.status.busy": "2024-09-11T09:10:55.062175Z",
     "iopub.status.idle": "2024-09-11T09:10:55.074850Z",
     "shell.execute_reply": "2024-09-11T09:10:55.073617Z"
    },
    "papermill": {
     "duration": 0.073984,
     "end_time": "2024-09-11T09:10:55.077509",
     "exception": false,
     "start_time": "2024-09-11T09:10:55.003525",
     "status": "completed"
    },
    "tags": []
   },
   "outputs": [],
   "source": [
    "train['anne_sektor'] = train['anne_sektor'].fillna(\"0\")"
   ]
  },
  {
   "cell_type": "code",
   "execution_count": 98,
   "id": "b31482d9",
   "metadata": {
    "execution": {
     "iopub.execute_input": "2024-09-11T09:10:55.199639Z",
     "iopub.status.busy": "2024-09-11T09:10:55.198942Z",
     "iopub.status.idle": "2024-09-11T09:10:55.213129Z",
     "shell.execute_reply": "2024-09-11T09:10:55.211930Z"
    },
    "papermill": {
     "duration": 0.078744,
     "end_time": "2024-09-11T09:10:55.215895",
     "exception": false,
     "start_time": "2024-09-11T09:10:55.137151",
     "status": "completed"
    },
    "tags": []
   },
   "outputs": [
    {
     "data": {
      "text/plain": [
       "0"
      ]
     },
     "execution_count": 98,
     "metadata": {},
     "output_type": "execute_result"
    }
   ],
   "source": [
    "train[\"anne_sektor\"].isna().sum()"
   ]
  },
  {
   "cell_type": "code",
   "execution_count": 99,
   "id": "dc22dea3",
   "metadata": {
    "execution": {
     "iopub.execute_input": "2024-09-11T09:10:55.353691Z",
     "iopub.status.busy": "2024-09-11T09:10:55.353170Z",
     "iopub.status.idle": "2024-09-11T09:10:55.372384Z",
     "shell.execute_reply": "2024-09-11T09:10:55.371129Z"
    },
    "papermill": {
     "duration": 0.086791,
     "end_time": "2024-09-11T09:10:55.374726",
     "exception": false,
     "start_time": "2024-09-11T09:10:55.287935",
     "status": "completed"
    },
    "tags": []
   },
   "outputs": [
    {
     "data": {
      "text/plain": [
       "anne_sektor\n",
       "0              51447\n",
       "ozel sektor     5967\n",
       "kamu            5094\n",
       "diger           1768\n",
       "Name: count, dtype: int64"
      ]
     },
     "execution_count": 99,
     "metadata": {},
     "output_type": "execute_result"
    }
   ],
   "source": [
    "train[\"anne_sektor\"].value_counts()"
   ]
  },
  {
   "cell_type": "code",
   "execution_count": 100,
   "id": "99d962c7",
   "metadata": {
    "execution": {
     "iopub.execute_input": "2024-09-11T09:10:55.498431Z",
     "iopub.status.busy": "2024-09-11T09:10:55.498037Z",
     "iopub.status.idle": "2024-09-11T09:10:55.519258Z",
     "shell.execute_reply": "2024-09-11T09:10:55.517608Z"
    },
    "papermill": {
     "duration": 0.083959,
     "end_time": "2024-09-11T09:10:55.521975",
     "exception": false,
     "start_time": "2024-09-11T09:10:55.438016",
     "status": "completed"
    },
    "tags": []
   },
   "outputs": [
    {
     "name": "stdout",
     "output_type": "stream",
     "text": [
      "anne_sektor kategorisi yeni değer sayısı: 4\n",
      "anne_sektor kategorisi yeni değerler: ['0' 'kamu' 'ozel sektor' 'diger']\n",
      "anne_sektor null değer sayısı: 0\n",
      "Eğitim seti yeni satır sayısı 64276\n"
     ]
    }
   ],
   "source": [
    "# GÜNCEL DURUM\n",
    "print(\"anne_sektor kategorisi yeni değer sayısı:\", train[\"anne_sektor\"].nunique())\n",
    "print(\"anne_sektor kategorisi yeni değerler:\",train[\"anne_sektor\"].unique())\n",
    "print(\"anne_sektor null değer sayısı:\", train[\"anne_sektor\"].isna().sum())\n",
    "\n",
    "print(f\"Eğitim seti yeni satır sayısı {len(train)}\")"
   ]
  },
  {
   "cell_type": "markdown",
   "id": "eb1c4a84",
   "metadata": {
    "papermill": {
     "duration": 0.059802,
     "end_time": "2024-09-11T09:10:55.649061",
     "exception": false,
     "start_time": "2024-09-11T09:10:55.589259",
     "status": "completed"
    },
    "tags": []
   },
   "source": [
    "### baba_egitim_durumu ! ! !\n",
    "\n",
    "-"
   ]
  },
  {
   "cell_type": "code",
   "execution_count": 101,
   "id": "209431fa",
   "metadata": {
    "execution": {
     "iopub.execute_input": "2024-09-11T09:10:55.783059Z",
     "iopub.status.busy": "2024-09-11T09:10:55.781641Z",
     "iopub.status.idle": "2024-09-11T09:10:55.898197Z",
     "shell.execute_reply": "2024-09-11T09:10:55.897132Z"
    },
    "papermill": {
     "duration": 0.182043,
     "end_time": "2024-09-11T09:10:55.900867",
     "exception": false,
     "start_time": "2024-09-11T09:10:55.718824",
     "status": "completed"
    },
    "tags": []
   },
   "outputs": [],
   "source": [
    "train[\"baba_egitim_durumu\"] = train[\"baba_egitim_durumu\"].str.lower()\n",
    "train[\"baba_egitim_durumu\"] = train[\"baba_egitim_durumu\"].str.normalize('NFKD').str.encode('ascii', errors='ignore').str.decode('utf-8')"
   ]
  },
  {
   "cell_type": "code",
   "execution_count": 102,
   "id": "e19aafc4",
   "metadata": {
    "execution": {
     "iopub.execute_input": "2024-09-11T09:10:56.020915Z",
     "iopub.status.busy": "2024-09-11T09:10:56.020463Z",
     "iopub.status.idle": "2024-09-11T09:10:56.039564Z",
     "shell.execute_reply": "2024-09-11T09:10:56.038481Z"
    },
    "papermill": {
     "duration": 0.081257,
     "end_time": "2024-09-11T09:10:56.042018",
     "exception": false,
     "start_time": "2024-09-11T09:10:55.960761",
     "status": "completed"
    },
    "tags": []
   },
   "outputs": [
    {
     "name": "stdout",
     "output_type": "stream",
     "text": [
      "15\n"
     ]
    },
    {
     "data": {
      "text/plain": [
       "array(['universite', 'yuksek lisans / doktora', 'ilkokul mezunu', nan,\n",
       "       'ortaokul mezunu', 'lise', 'egitim yok', '0', 'universite mezunu',\n",
       "       'lise mezunu', 'yuksek lisans / doktara', 'yuksek lisans',\n",
       "       'doktora', 'ilkokul', 'ortaokul', 'egitimi yok'], dtype=object)"
      ]
     },
     "execution_count": 102,
     "metadata": {},
     "output_type": "execute_result"
    }
   ],
   "source": [
    "print(train[\"baba_egitim_durumu\"].nunique())\n",
    "train[\"baba_egitim_durumu\"].unique()"
   ]
  },
  {
   "cell_type": "code",
   "execution_count": 103,
   "id": "506259e5",
   "metadata": {
    "execution": {
     "iopub.execute_input": "2024-09-11T09:10:56.161309Z",
     "iopub.status.busy": "2024-09-11T09:10:56.160463Z",
     "iopub.status.idle": "2024-09-11T09:10:56.172202Z",
     "shell.execute_reply": "2024-09-11T09:10:56.171109Z"
    },
    "papermill": {
     "duration": 0.075118,
     "end_time": "2024-09-11T09:10:56.174993",
     "exception": false,
     "start_time": "2024-09-11T09:10:56.099875",
     "status": "completed"
    },
    "tags": []
   },
   "outputs": [
    {
     "data": {
      "text/plain": [
       "904"
      ]
     },
     "execution_count": 103,
     "metadata": {},
     "output_type": "execute_result"
    }
   ],
   "source": [
    "train[\"baba_egitim_durumu\"].isna().sum()"
   ]
  },
  {
   "cell_type": "code",
   "execution_count": 104,
   "id": "1eee7310",
   "metadata": {
    "execution": {
     "iopub.execute_input": "2024-09-11T09:10:56.302825Z",
     "iopub.status.busy": "2024-09-11T09:10:56.302259Z",
     "iopub.status.idle": "2024-09-11T09:10:56.325494Z",
     "shell.execute_reply": "2024-09-11T09:10:56.324193Z"
    },
    "papermill": {
     "duration": 0.087056,
     "end_time": "2024-09-11T09:10:56.328406",
     "exception": false,
     "start_time": "2024-09-11T09:10:56.241350",
     "status": "completed"
    },
    "tags": []
   },
   "outputs": [
    {
     "data": {
      "text/plain": [
       "baba_egitim_durumu\n",
       "lise                       14298\n",
       "universite                 13255\n",
       "ilkokul mezunu             11094\n",
       "ilkokul                     8106\n",
       "ortaokul mezunu             5038\n",
       "ortaokul                    4026\n",
       "universite mezunu           1731\n",
       "lise mezunu                 1405\n",
       "egitim yok                  1386\n",
       "egitimi yok                 1085\n",
       "yuksek lisans                945\n",
       "doktora                      393\n",
       "yuksek lisans / doktora      286\n",
       "yuksek lisans / doktara      215\n",
       "0                            109\n",
       "Name: count, dtype: int64"
      ]
     },
     "execution_count": 104,
     "metadata": {},
     "output_type": "execute_result"
    }
   ],
   "source": [
    "train[\"baba_egitim_durumu\"].value_counts()"
   ]
  },
  {
   "cell_type": "code",
   "execution_count": 105,
   "id": "9a0e38b1",
   "metadata": {
    "execution": {
     "iopub.execute_input": "2024-09-11T09:10:56.457925Z",
     "iopub.status.busy": "2024-09-11T09:10:56.457372Z",
     "iopub.status.idle": "2024-09-11T09:10:56.531187Z",
     "shell.execute_reply": "2024-09-11T09:10:56.530160Z"
    },
    "papermill": {
     "duration": 0.138646,
     "end_time": "2024-09-11T09:10:56.533727",
     "exception": false,
     "start_time": "2024-09-11T09:10:56.395081",
     "status": "completed"
    },
    "tags": []
   },
   "outputs": [],
   "source": [
    "# \"yüksek lisans / doktara\"ları YÜKSEK LİSANSA YAZIYORUM, FARKETMEZ ŞİMDİLİK\n",
    "\n",
    "train['baba_egitim_durumu'] = train['baba_egitim_durumu'].replace('universite mezunu', 'universite')\n",
    "train['baba_egitim_durumu'] = train['baba_egitim_durumu'].replace('ilkokul mezunu', 'ilkokul')\n",
    "train['baba_egitim_durumu'] = train['baba_egitim_durumu'].replace('ortaokul mezunu', 'ortaokul')\n",
    "train['baba_egitim_durumu'] = train['baba_egitim_durumu'].replace('lise mezunu', 'lise')\n",
    "train['baba_egitim_durumu'] = train['baba_egitim_durumu'].replace('egitim yok', '0')\n",
    "train['baba_egitim_durumu'] = train['baba_egitim_durumu'].replace('egitimi yok', '0')\n",
    "train['baba_egitim_durumu'] = train['baba_egitim_durumu'].replace('yuksek lisans / doktora', 'yuksek lisans')\n",
    "train['baba_egitim_durumu'] = train['baba_egitim_durumu'].replace('yuksek lisans / doktara', 'yuksek lisans')"
   ]
  },
  {
   "cell_type": "code",
   "execution_count": 106,
   "id": "a2a358ba",
   "metadata": {
    "execution": {
     "iopub.execute_input": "2024-09-11T09:10:56.652129Z",
     "iopub.status.busy": "2024-09-11T09:10:56.651399Z",
     "iopub.status.idle": "2024-09-11T09:10:56.684350Z",
     "shell.execute_reply": "2024-09-11T09:10:56.683035Z"
    },
    "papermill": {
     "duration": 0.09544,
     "end_time": "2024-09-11T09:10:56.687414",
     "exception": false,
     "start_time": "2024-09-11T09:10:56.591974",
     "status": "completed"
    },
    "tags": []
   },
   "outputs": [
    {
     "data": {
      "text/html": [
       "<div>\n",
       "<style scoped>\n",
       "    .dataframe tbody tr th:only-of-type {\n",
       "        vertical-align: middle;\n",
       "    }\n",
       "\n",
       "    .dataframe tbody tr th {\n",
       "        vertical-align: top;\n",
       "    }\n",
       "\n",
       "    .dataframe thead th {\n",
       "        text-align: right;\n",
       "    }\n",
       "</style>\n",
       "<table border=\"1\" class=\"dataframe\">\n",
       "  <thead>\n",
       "    <tr style=\"text-align: right;\">\n",
       "      <th></th>\n",
       "      <th>basvuru_yili</th>\n",
       "      <th>degerlendirme_puani</th>\n",
       "      <th>cinsiyet</th>\n",
       "      <th>dogum_tarihi</th>\n",
       "      <th>dogum_yeri</th>\n",
       "      <th>ikametgah_sehri</th>\n",
       "      <th>universite_adi</th>\n",
       "      <th>universite_turu</th>\n",
       "      <th>burslu_ise_burs_yuzdesi</th>\n",
       "      <th>burs_aliyor_mu</th>\n",
       "      <th>...</th>\n",
       "      <th>spor_dalindaki_rolunuz_nedir</th>\n",
       "      <th>aktif_olarak_bir_stk_uyesi_misiniz</th>\n",
       "      <th>hangi_stknin_uyesisiniz</th>\n",
       "      <th>stk_projesine_katildiniz_mi</th>\n",
       "      <th>girisimcilikle_ilgili_deneyiminiz_var_mi</th>\n",
       "      <th>girisimcilikle_ilgili_deneyiminizi_aciklayabilir_misiniz</th>\n",
       "      <th>ingilizce_biliyor_musunuz</th>\n",
       "      <th>ingilizce_seviyeniz</th>\n",
       "      <th>daha_onceden_mezun_olunduysa_mezun_olunan_universite</th>\n",
       "      <th>id</th>\n",
       "    </tr>\n",
       "  </thead>\n",
       "  <tbody>\n",
       "    <tr>\n",
       "      <th>6</th>\n",
       "      <td>2014</td>\n",
       "      <td>18.0</td>\n",
       "      <td>erkek</td>\n",
       "      <td>10/13/1994</td>\n",
       "      <td>i̇stanbul</td>\n",
       "      <td>i̇stanbul</td>\n",
       "      <td>i̇stanbul medi̇pol üni̇versi̇tesi̇</td>\n",
       "      <td>özel</td>\n",
       "      <td>100.0</td>\n",
       "      <td>hayır</td>\n",
       "      <td>...</td>\n",
       "      <td>NaN</td>\n",
       "      <td>NaN</td>\n",
       "      <td>NaN</td>\n",
       "      <td>NaN</td>\n",
       "      <td>NaN</td>\n",
       "      <td>NaN</td>\n",
       "      <td>NaN</td>\n",
       "      <td>NaN</td>\n",
       "      <td>NaN</td>\n",
       "      <td>6</td>\n",
       "    </tr>\n",
       "    <tr>\n",
       "      <th>25</th>\n",
       "      <td>2014</td>\n",
       "      <td>60.0</td>\n",
       "      <td>kadın</td>\n",
       "      <td>6/9/1993</td>\n",
       "      <td>i̇stanbul</td>\n",
       "      <td>i̇stanbul</td>\n",
       "      <td>i̇stanbul bi̇lgi̇ üni̇versi̇tesi̇</td>\n",
       "      <td>özel</td>\n",
       "      <td>100.0</td>\n",
       "      <td>evet</td>\n",
       "      <td>...</td>\n",
       "      <td>NaN</td>\n",
       "      <td>NaN</td>\n",
       "      <td>NaN</td>\n",
       "      <td>NaN</td>\n",
       "      <td>NaN</td>\n",
       "      <td>NaN</td>\n",
       "      <td>NaN</td>\n",
       "      <td>NaN</td>\n",
       "      <td>NaN</td>\n",
       "      <td>25</td>\n",
       "    </tr>\n",
       "    <tr>\n",
       "      <th>52</th>\n",
       "      <td>2014</td>\n",
       "      <td>28.0</td>\n",
       "      <td>kadın</td>\n",
       "      <td>2/17/1993</td>\n",
       "      <td>gross-umstadtalmanya</td>\n",
       "      <td>ankara</td>\n",
       "      <td>i̇hsan doğramaci bi̇lkent</td>\n",
       "      <td>özel</td>\n",
       "      <td>100.0</td>\n",
       "      <td>evet</td>\n",
       "      <td>...</td>\n",
       "      <td>NaN</td>\n",
       "      <td>NaN</td>\n",
       "      <td>NaN</td>\n",
       "      <td>NaN</td>\n",
       "      <td>NaN</td>\n",
       "      <td>NaN</td>\n",
       "      <td>NaN</td>\n",
       "      <td>NaN</td>\n",
       "      <td>NaN</td>\n",
       "      <td>52</td>\n",
       "    </tr>\n",
       "    <tr>\n",
       "      <th>54</th>\n",
       "      <td>2014</td>\n",
       "      <td>34.0</td>\n",
       "      <td>kadın</td>\n",
       "      <td>2/26/1992</td>\n",
       "      <td>sultanbeyli̇</td>\n",
       "      <td>gaziosmanpaşa/i̇stanbul</td>\n",
       "      <td>i̇stanbul 29 mayis üni̇versi̇tesi̇</td>\n",
       "      <td>özel</td>\n",
       "      <td>100.0</td>\n",
       "      <td>evet</td>\n",
       "      <td>...</td>\n",
       "      <td>NaN</td>\n",
       "      <td>NaN</td>\n",
       "      <td>NaN</td>\n",
       "      <td>NaN</td>\n",
       "      <td>NaN</td>\n",
       "      <td>NaN</td>\n",
       "      <td>NaN</td>\n",
       "      <td>NaN</td>\n",
       "      <td>NaN</td>\n",
       "      <td>54</td>\n",
       "    </tr>\n",
       "    <tr>\n",
       "      <th>58</th>\n",
       "      <td>2014</td>\n",
       "      <td>38.0</td>\n",
       "      <td>kadın</td>\n",
       "      <td>2/27/1991</td>\n",
       "      <td>gemlik</td>\n",
       "      <td>i̇stanbul</td>\n",
       "      <td>okan üni̇versi̇tesi̇</td>\n",
       "      <td>özel</td>\n",
       "      <td>100.0</td>\n",
       "      <td>evet</td>\n",
       "      <td>...</td>\n",
       "      <td>NaN</td>\n",
       "      <td>NaN</td>\n",
       "      <td>NaN</td>\n",
       "      <td>NaN</td>\n",
       "      <td>NaN</td>\n",
       "      <td>NaN</td>\n",
       "      <td>NaN</td>\n",
       "      <td>NaN</td>\n",
       "      <td>NaN</td>\n",
       "      <td>58</td>\n",
       "    </tr>\n",
       "  </tbody>\n",
       "</table>\n",
       "<p>5 rows × 44 columns</p>\n",
       "</div>"
      ],
      "text/plain": [
       "    basvuru_yili  degerlendirme_puani cinsiyet dogum_tarihi  \\\n",
       "6           2014                 18.0    erkek   10/13/1994   \n",
       "25          2014                 60.0    kadın     6/9/1993   \n",
       "52          2014                 28.0    kadın    2/17/1993   \n",
       "54          2014                 34.0    kadın    2/26/1992   \n",
       "58          2014                 38.0    kadın    2/27/1991   \n",
       "\n",
       "              dogum_yeri          ikametgah_sehri  \\\n",
       "6              i̇stanbul                i̇stanbul   \n",
       "25             i̇stanbul                i̇stanbul   \n",
       "52  gross-umstadtalmanya                   ankara   \n",
       "54          sultanbeyli̇  gaziosmanpaşa/i̇stanbul   \n",
       "58                gemlik                i̇stanbul   \n",
       "\n",
       "                        universite_adi universite_turu  \\\n",
       "6   i̇stanbul medi̇pol üni̇versi̇tesi̇            özel   \n",
       "25   i̇stanbul bi̇lgi̇ üni̇versi̇tesi̇            özel   \n",
       "52           i̇hsan doğramaci bi̇lkent            özel   \n",
       "54  i̇stanbul 29 mayis üni̇versi̇tesi̇            özel   \n",
       "58                okan üni̇versi̇tesi̇            özel   \n",
       "\n",
       "    burslu_ise_burs_yuzdesi burs_aliyor_mu  ... spor_dalindaki_rolunuz_nedir  \\\n",
       "6                     100.0          hayır  ...                          NaN   \n",
       "25                    100.0           evet  ...                          NaN   \n",
       "52                    100.0           evet  ...                          NaN   \n",
       "54                    100.0           evet  ...                          NaN   \n",
       "58                    100.0           evet  ...                          NaN   \n",
       "\n",
       "   aktif_olarak_bir_stk_uyesi_misiniz hangi_stknin_uyesisiniz  \\\n",
       "6                                 NaN                     NaN   \n",
       "25                                NaN                     NaN   \n",
       "52                                NaN                     NaN   \n",
       "54                                NaN                     NaN   \n",
       "58                                NaN                     NaN   \n",
       "\n",
       "   stk_projesine_katildiniz_mi girisimcilikle_ilgili_deneyiminiz_var_mi  \\\n",
       "6                          NaN                                      NaN   \n",
       "25                         NaN                                      NaN   \n",
       "52                         NaN                                      NaN   \n",
       "54                         NaN                                      NaN   \n",
       "58                         NaN                                      NaN   \n",
       "\n",
       "   girisimcilikle_ilgili_deneyiminizi_aciklayabilir_misiniz  \\\n",
       "6                                                 NaN         \n",
       "25                                                NaN         \n",
       "52                                                NaN         \n",
       "54                                                NaN         \n",
       "58                                                NaN         \n",
       "\n",
       "   ingilizce_biliyor_musunuz ingilizce_seviyeniz  \\\n",
       "6                        NaN                 NaN   \n",
       "25                       NaN                 NaN   \n",
       "52                       NaN                 NaN   \n",
       "54                       NaN                 NaN   \n",
       "58                       NaN                 NaN   \n",
       "\n",
       "   daha_onceden_mezun_olunduysa_mezun_olunan_universite  id  \n",
       "6                                                 NaN     6  \n",
       "25                                                NaN    25  \n",
       "52                                                NaN    52  \n",
       "54                                                NaN    54  \n",
       "58                                                NaN    58  \n",
       "\n",
       "[5 rows x 44 columns]"
      ]
     },
     "execution_count": 106,
     "metadata": {},
     "output_type": "execute_result"
    }
   ],
   "source": [
    "train[train['baba_egitim_durumu'].isna()].head()"
   ]
  },
  {
   "cell_type": "code",
   "execution_count": 107,
   "id": "6a6e7120",
   "metadata": {
    "execution": {
     "iopub.execute_input": "2024-09-11T09:10:56.813510Z",
     "iopub.status.busy": "2024-09-11T09:10:56.812608Z",
     "iopub.status.idle": "2024-09-11T09:10:56.825769Z",
     "shell.execute_reply": "2024-09-11T09:10:56.824730Z"
    },
    "papermill": {
     "duration": 0.076351,
     "end_time": "2024-09-11T09:10:56.828295",
     "exception": false,
     "start_time": "2024-09-11T09:10:56.751944",
     "status": "completed"
    },
    "tags": []
   },
   "outputs": [],
   "source": [
    "train['baba_egitim_durumu'] = train['baba_egitim_durumu'].fillna(\"0\")"
   ]
  },
  {
   "cell_type": "code",
   "execution_count": 108,
   "id": "61bf991d",
   "metadata": {
    "execution": {
     "iopub.execute_input": "2024-09-11T09:10:56.949275Z",
     "iopub.status.busy": "2024-09-11T09:10:56.948829Z",
     "iopub.status.idle": "2024-09-11T09:10:56.965336Z",
     "shell.execute_reply": "2024-09-11T09:10:56.964061Z"
    },
    "papermill": {
     "duration": 0.080512,
     "end_time": "2024-09-11T09:10:56.967884",
     "exception": false,
     "start_time": "2024-09-11T09:10:56.887372",
     "status": "completed"
    },
    "tags": []
   },
   "outputs": [
    {
     "data": {
      "text/plain": [
       "baba_egitim_durumu\n",
       "ilkokul          19200\n",
       "lise             15703\n",
       "universite       14986\n",
       "ortaokul          9064\n",
       "0                 3484\n",
       "yuksek lisans     1446\n",
       "doktora            393\n",
       "Name: count, dtype: int64"
      ]
     },
     "execution_count": 108,
     "metadata": {},
     "output_type": "execute_result"
    }
   ],
   "source": [
    "train[\"baba_egitim_durumu\"].value_counts()"
   ]
  },
  {
   "cell_type": "code",
   "execution_count": 109,
   "id": "0be225cc",
   "metadata": {
    "execution": {
     "iopub.execute_input": "2024-09-11T09:10:57.090272Z",
     "iopub.status.busy": "2024-09-11T09:10:57.089864Z",
     "iopub.status.idle": "2024-09-11T09:10:57.111632Z",
     "shell.execute_reply": "2024-09-11T09:10:57.110143Z"
    },
    "papermill": {
     "duration": 0.086195,
     "end_time": "2024-09-11T09:10:57.114685",
     "exception": false,
     "start_time": "2024-09-11T09:10:57.028490",
     "status": "completed"
    },
    "tags": []
   },
   "outputs": [
    {
     "name": "stdout",
     "output_type": "stream",
     "text": [
      "baba_egitim_durumu kategorisi yeni değer sayısı: 7\n",
      "baba_egitim_durumu kategorisi yeni değerler: ['universite' 'yuksek lisans' 'ilkokul' '0' 'ortaokul' 'lise' 'doktora']\n",
      "baba_egitim_durumu null değer sayısı: 0\n",
      "Eğitim seti yeni satır sayısı 64276\n"
     ]
    }
   ],
   "source": [
    "# GÜNCEL DURUM\n",
    "print(\"baba_egitim_durumu kategorisi yeni değer sayısı:\", train[\"baba_egitim_durumu\"].nunique())\n",
    "print(\"baba_egitim_durumu kategorisi yeni değerler:\",train[\"baba_egitim_durumu\"].unique())\n",
    "print(\"baba_egitim_durumu null değer sayısı:\", train[\"baba_egitim_durumu\"].isna().sum())\n",
    "\n",
    "print(f\"Eğitim seti yeni satır sayısı {len(train)}\")"
   ]
  },
  {
   "cell_type": "markdown",
   "id": "d41c4f2a",
   "metadata": {
    "papermill": {
     "duration": 0.060977,
     "end_time": "2024-09-11T09:10:57.236194",
     "exception": false,
     "start_time": "2024-09-11T09:10:57.175217",
     "status": "completed"
    },
    "tags": []
   },
   "source": [
    "### baba_calisma_durumu ! ! !\n",
    "\n",
    "-"
   ]
  },
  {
   "cell_type": "code",
   "execution_count": 110,
   "id": "66a5e4dd",
   "metadata": {
    "execution": {
     "iopub.execute_input": "2024-09-11T09:10:57.362544Z",
     "iopub.status.busy": "2024-09-11T09:10:57.362121Z",
     "iopub.status.idle": "2024-09-11T09:10:57.380319Z",
     "shell.execute_reply": "2024-09-11T09:10:57.379056Z"
    },
    "papermill": {
     "duration": 0.085284,
     "end_time": "2024-09-11T09:10:57.382626",
     "exception": false,
     "start_time": "2024-09-11T09:10:57.297342",
     "status": "completed"
    },
    "tags": []
   },
   "outputs": [
    {
     "name": "stdout",
     "output_type": "stream",
     "text": [
      "3\n"
     ]
    },
    {
     "data": {
      "text/plain": [
       "array(['emekli', 'evet', nan, 'hayır'], dtype=object)"
      ]
     },
     "execution_count": 110,
     "metadata": {},
     "output_type": "execute_result"
    }
   ],
   "source": [
    "print(train[\"baba_calisma_durumu\"].nunique())\n",
    "train[\"baba_calisma_durumu\"].unique()"
   ]
  },
  {
   "cell_type": "code",
   "execution_count": 111,
   "id": "d481aeac",
   "metadata": {
    "execution": {
     "iopub.execute_input": "2024-09-11T09:10:57.503657Z",
     "iopub.status.busy": "2024-09-11T09:10:57.503228Z",
     "iopub.status.idle": "2024-09-11T09:10:57.514433Z",
     "shell.execute_reply": "2024-09-11T09:10:57.513008Z"
    },
    "papermill": {
     "duration": 0.074803,
     "end_time": "2024-09-11T09:10:57.517358",
     "exception": false,
     "start_time": "2024-09-11T09:10:57.442555",
     "status": "completed"
    },
    "tags": []
   },
   "outputs": [
    {
     "data": {
      "text/plain": [
       "12294"
      ]
     },
     "execution_count": 111,
     "metadata": {},
     "output_type": "execute_result"
    }
   ],
   "source": [
    "train[\"baba_calisma_durumu\"].isna().sum()"
   ]
  },
  {
   "cell_type": "code",
   "execution_count": 112,
   "id": "944950b1",
   "metadata": {
    "execution": {
     "iopub.execute_input": "2024-09-11T09:10:57.639941Z",
     "iopub.status.busy": "2024-09-11T09:10:57.639534Z",
     "iopub.status.idle": "2024-09-11T09:10:57.654910Z",
     "shell.execute_reply": "2024-09-11T09:10:57.653683Z"
    },
    "papermill": {
     "duration": 0.079542,
     "end_time": "2024-09-11T09:10:57.657439",
     "exception": false,
     "start_time": "2024-09-11T09:10:57.577897",
     "status": "completed"
    },
    "tags": []
   },
   "outputs": [
    {
     "data": {
      "text/plain": [
       "baba_calisma_durumu\n",
       "evet      28284\n",
       "hayır     12314\n",
       "emekli    11384\n",
       "Name: count, dtype: int64"
      ]
     },
     "execution_count": 112,
     "metadata": {},
     "output_type": "execute_result"
    }
   ],
   "source": [
    "train[\"baba_calisma_durumu\"].value_counts()"
   ]
  },
  {
   "cell_type": "code",
   "execution_count": 113,
   "id": "9802b724",
   "metadata": {
    "execution": {
     "iopub.execute_input": "2024-09-11T09:10:57.778646Z",
     "iopub.status.busy": "2024-09-11T09:10:57.778263Z",
     "iopub.status.idle": "2024-09-11T09:10:57.823432Z",
     "shell.execute_reply": "2024-09-11T09:10:57.822301Z"
    },
    "papermill": {
     "duration": 0.109216,
     "end_time": "2024-09-11T09:10:57.826076",
     "exception": false,
     "start_time": "2024-09-11T09:10:57.716860",
     "status": "completed"
    },
    "tags": []
   },
   "outputs": [
    {
     "data": {
      "text/html": [
       "<div>\n",
       "<style scoped>\n",
       "    .dataframe tbody tr th:only-of-type {\n",
       "        vertical-align: middle;\n",
       "    }\n",
       "\n",
       "    .dataframe tbody tr th {\n",
       "        vertical-align: top;\n",
       "    }\n",
       "\n",
       "    .dataframe thead th {\n",
       "        text-align: right;\n",
       "    }\n",
       "</style>\n",
       "<table border=\"1\" class=\"dataframe\">\n",
       "  <thead>\n",
       "    <tr style=\"text-align: right;\">\n",
       "      <th></th>\n",
       "      <th>basvuru_yili</th>\n",
       "      <th>degerlendirme_puani</th>\n",
       "      <th>cinsiyet</th>\n",
       "      <th>dogum_tarihi</th>\n",
       "      <th>dogum_yeri</th>\n",
       "      <th>ikametgah_sehri</th>\n",
       "      <th>universite_adi</th>\n",
       "      <th>universite_turu</th>\n",
       "      <th>burslu_ise_burs_yuzdesi</th>\n",
       "      <th>burs_aliyor_mu</th>\n",
       "      <th>...</th>\n",
       "      <th>spor_dalindaki_rolunuz_nedir</th>\n",
       "      <th>aktif_olarak_bir_stk_uyesi_misiniz</th>\n",
       "      <th>hangi_stknin_uyesisiniz</th>\n",
       "      <th>stk_projesine_katildiniz_mi</th>\n",
       "      <th>girisimcilikle_ilgili_deneyiminiz_var_mi</th>\n",
       "      <th>girisimcilikle_ilgili_deneyiminizi_aciklayabilir_misiniz</th>\n",
       "      <th>ingilizce_biliyor_musunuz</th>\n",
       "      <th>ingilizce_seviyeniz</th>\n",
       "      <th>daha_onceden_mezun_olunduysa_mezun_olunan_universite</th>\n",
       "      <th>id</th>\n",
       "    </tr>\n",
       "  </thead>\n",
       "  <tbody>\n",
       "    <tr>\n",
       "      <th>6</th>\n",
       "      <td>2014</td>\n",
       "      <td>18.0</td>\n",
       "      <td>erkek</td>\n",
       "      <td>10/13/1994</td>\n",
       "      <td>i̇stanbul</td>\n",
       "      <td>i̇stanbul</td>\n",
       "      <td>i̇stanbul medi̇pol üni̇versi̇tesi̇</td>\n",
       "      <td>özel</td>\n",
       "      <td>100.0</td>\n",
       "      <td>hayır</td>\n",
       "      <td>...</td>\n",
       "      <td>NaN</td>\n",
       "      <td>NaN</td>\n",
       "      <td>NaN</td>\n",
       "      <td>NaN</td>\n",
       "      <td>NaN</td>\n",
       "      <td>NaN</td>\n",
       "      <td>NaN</td>\n",
       "      <td>NaN</td>\n",
       "      <td>NaN</td>\n",
       "      <td>6</td>\n",
       "    </tr>\n",
       "    <tr>\n",
       "      <th>25</th>\n",
       "      <td>2014</td>\n",
       "      <td>60.0</td>\n",
       "      <td>kadın</td>\n",
       "      <td>6/9/1993</td>\n",
       "      <td>i̇stanbul</td>\n",
       "      <td>i̇stanbul</td>\n",
       "      <td>i̇stanbul bi̇lgi̇ üni̇versi̇tesi̇</td>\n",
       "      <td>özel</td>\n",
       "      <td>100.0</td>\n",
       "      <td>evet</td>\n",
       "      <td>...</td>\n",
       "      <td>NaN</td>\n",
       "      <td>NaN</td>\n",
       "      <td>NaN</td>\n",
       "      <td>NaN</td>\n",
       "      <td>NaN</td>\n",
       "      <td>NaN</td>\n",
       "      <td>NaN</td>\n",
       "      <td>NaN</td>\n",
       "      <td>NaN</td>\n",
       "      <td>25</td>\n",
       "    </tr>\n",
       "    <tr>\n",
       "      <th>52</th>\n",
       "      <td>2014</td>\n",
       "      <td>28.0</td>\n",
       "      <td>kadın</td>\n",
       "      <td>2/17/1993</td>\n",
       "      <td>gross-umstadtalmanya</td>\n",
       "      <td>ankara</td>\n",
       "      <td>i̇hsan doğramaci bi̇lkent</td>\n",
       "      <td>özel</td>\n",
       "      <td>100.0</td>\n",
       "      <td>evet</td>\n",
       "      <td>...</td>\n",
       "      <td>NaN</td>\n",
       "      <td>NaN</td>\n",
       "      <td>NaN</td>\n",
       "      <td>NaN</td>\n",
       "      <td>NaN</td>\n",
       "      <td>NaN</td>\n",
       "      <td>NaN</td>\n",
       "      <td>NaN</td>\n",
       "      <td>NaN</td>\n",
       "      <td>52</td>\n",
       "    </tr>\n",
       "    <tr>\n",
       "      <th>54</th>\n",
       "      <td>2014</td>\n",
       "      <td>34.0</td>\n",
       "      <td>kadın</td>\n",
       "      <td>2/26/1992</td>\n",
       "      <td>sultanbeyli̇</td>\n",
       "      <td>gaziosmanpaşa/i̇stanbul</td>\n",
       "      <td>i̇stanbul 29 mayis üni̇versi̇tesi̇</td>\n",
       "      <td>özel</td>\n",
       "      <td>100.0</td>\n",
       "      <td>evet</td>\n",
       "      <td>...</td>\n",
       "      <td>NaN</td>\n",
       "      <td>NaN</td>\n",
       "      <td>NaN</td>\n",
       "      <td>NaN</td>\n",
       "      <td>NaN</td>\n",
       "      <td>NaN</td>\n",
       "      <td>NaN</td>\n",
       "      <td>NaN</td>\n",
       "      <td>NaN</td>\n",
       "      <td>54</td>\n",
       "    </tr>\n",
       "    <tr>\n",
       "      <th>58</th>\n",
       "      <td>2014</td>\n",
       "      <td>38.0</td>\n",
       "      <td>kadın</td>\n",
       "      <td>2/27/1991</td>\n",
       "      <td>gemlik</td>\n",
       "      <td>i̇stanbul</td>\n",
       "      <td>okan üni̇versi̇tesi̇</td>\n",
       "      <td>özel</td>\n",
       "      <td>100.0</td>\n",
       "      <td>evet</td>\n",
       "      <td>...</td>\n",
       "      <td>NaN</td>\n",
       "      <td>NaN</td>\n",
       "      <td>NaN</td>\n",
       "      <td>NaN</td>\n",
       "      <td>NaN</td>\n",
       "      <td>NaN</td>\n",
       "      <td>NaN</td>\n",
       "      <td>NaN</td>\n",
       "      <td>NaN</td>\n",
       "      <td>58</td>\n",
       "    </tr>\n",
       "  </tbody>\n",
       "</table>\n",
       "<p>5 rows × 44 columns</p>\n",
       "</div>"
      ],
      "text/plain": [
       "    basvuru_yili  degerlendirme_puani cinsiyet dogum_tarihi  \\\n",
       "6           2014                 18.0    erkek   10/13/1994   \n",
       "25          2014                 60.0    kadın     6/9/1993   \n",
       "52          2014                 28.0    kadın    2/17/1993   \n",
       "54          2014                 34.0    kadın    2/26/1992   \n",
       "58          2014                 38.0    kadın    2/27/1991   \n",
       "\n",
       "              dogum_yeri          ikametgah_sehri  \\\n",
       "6              i̇stanbul                i̇stanbul   \n",
       "25             i̇stanbul                i̇stanbul   \n",
       "52  gross-umstadtalmanya                   ankara   \n",
       "54          sultanbeyli̇  gaziosmanpaşa/i̇stanbul   \n",
       "58                gemlik                i̇stanbul   \n",
       "\n",
       "                        universite_adi universite_turu  \\\n",
       "6   i̇stanbul medi̇pol üni̇versi̇tesi̇            özel   \n",
       "25   i̇stanbul bi̇lgi̇ üni̇versi̇tesi̇            özel   \n",
       "52           i̇hsan doğramaci bi̇lkent            özel   \n",
       "54  i̇stanbul 29 mayis üni̇versi̇tesi̇            özel   \n",
       "58                okan üni̇versi̇tesi̇            özel   \n",
       "\n",
       "    burslu_ise_burs_yuzdesi burs_aliyor_mu  ... spor_dalindaki_rolunuz_nedir  \\\n",
       "6                     100.0          hayır  ...                          NaN   \n",
       "25                    100.0           evet  ...                          NaN   \n",
       "52                    100.0           evet  ...                          NaN   \n",
       "54                    100.0           evet  ...                          NaN   \n",
       "58                    100.0           evet  ...                          NaN   \n",
       "\n",
       "   aktif_olarak_bir_stk_uyesi_misiniz hangi_stknin_uyesisiniz  \\\n",
       "6                                 NaN                     NaN   \n",
       "25                                NaN                     NaN   \n",
       "52                                NaN                     NaN   \n",
       "54                                NaN                     NaN   \n",
       "58                                NaN                     NaN   \n",
       "\n",
       "   stk_projesine_katildiniz_mi girisimcilikle_ilgili_deneyiminiz_var_mi  \\\n",
       "6                          NaN                                      NaN   \n",
       "25                         NaN                                      NaN   \n",
       "52                         NaN                                      NaN   \n",
       "54                         NaN                                      NaN   \n",
       "58                         NaN                                      NaN   \n",
       "\n",
       "   girisimcilikle_ilgili_deneyiminizi_aciklayabilir_misiniz  \\\n",
       "6                                                 NaN         \n",
       "25                                                NaN         \n",
       "52                                                NaN         \n",
       "54                                                NaN         \n",
       "58                                                NaN         \n",
       "\n",
       "   ingilizce_biliyor_musunuz ingilizce_seviyeniz  \\\n",
       "6                        NaN                 NaN   \n",
       "25                       NaN                 NaN   \n",
       "52                       NaN                 NaN   \n",
       "54                       NaN                 NaN   \n",
       "58                       NaN                 NaN   \n",
       "\n",
       "   daha_onceden_mezun_olunduysa_mezun_olunan_universite  id  \n",
       "6                                                 NaN     6  \n",
       "25                                                NaN    25  \n",
       "52                                                NaN    52  \n",
       "54                                                NaN    54  \n",
       "58                                                NaN    58  \n",
       "\n",
       "[5 rows x 44 columns]"
      ]
     },
     "execution_count": 113,
     "metadata": {},
     "output_type": "execute_result"
    }
   ],
   "source": [
    "train[train['baba_calisma_durumu'].isna()].head()"
   ]
  },
  {
   "cell_type": "code",
   "execution_count": 114,
   "id": "e401f6ce",
   "metadata": {
    "execution": {
     "iopub.execute_input": "2024-09-11T09:10:57.953326Z",
     "iopub.status.busy": "2024-09-11T09:10:57.952914Z",
     "iopub.status.idle": "2024-09-11T09:10:57.965997Z",
     "shell.execute_reply": "2024-09-11T09:10:57.964713Z"
    },
    "papermill": {
     "duration": 0.080315,
     "end_time": "2024-09-11T09:10:57.968646",
     "exception": false,
     "start_time": "2024-09-11T09:10:57.888331",
     "status": "completed"
    },
    "tags": []
   },
   "outputs": [],
   "source": [
    "# NaN verileri babası çalışmıyor'a yazdım. \n",
    "\n",
    "train['baba_calisma_durumu'] = train['baba_calisma_durumu'].fillna(\"hayır\")"
   ]
  },
  {
   "cell_type": "code",
   "execution_count": 115,
   "id": "9f2db7d7",
   "metadata": {
    "execution": {
     "iopub.execute_input": "2024-09-11T09:10:58.094872Z",
     "iopub.status.busy": "2024-09-11T09:10:58.094464Z",
     "iopub.status.idle": "2024-09-11T09:10:58.109820Z",
     "shell.execute_reply": "2024-09-11T09:10:58.108784Z"
    },
    "papermill": {
     "duration": 0.081277,
     "end_time": "2024-09-11T09:10:58.112167",
     "exception": false,
     "start_time": "2024-09-11T09:10:58.030890",
     "status": "completed"
    },
    "tags": []
   },
   "outputs": [
    {
     "data": {
      "text/plain": [
       "baba_calisma_durumu\n",
       "evet      28284\n",
       "hayır     24608\n",
       "emekli    11384\n",
       "Name: count, dtype: int64"
      ]
     },
     "execution_count": 115,
     "metadata": {},
     "output_type": "execute_result"
    }
   ],
   "source": [
    "train[\"baba_calisma_durumu\"].value_counts()"
   ]
  },
  {
   "cell_type": "code",
   "execution_count": 116,
   "id": "d7c1d590",
   "metadata": {
    "execution": {
     "iopub.execute_input": "2024-09-11T09:10:58.238711Z",
     "iopub.status.busy": "2024-09-11T09:10:58.238292Z",
     "iopub.status.idle": "2024-09-11T09:10:58.258293Z",
     "shell.execute_reply": "2024-09-11T09:10:58.257177Z"
    },
    "papermill": {
     "duration": 0.086537,
     "end_time": "2024-09-11T09:10:58.260612",
     "exception": false,
     "start_time": "2024-09-11T09:10:58.174075",
     "status": "completed"
    },
    "tags": []
   },
   "outputs": [
    {
     "name": "stdout",
     "output_type": "stream",
     "text": [
      "baba_calisma_durumu kategorisi yeni değer sayısı: 3\n",
      "baba_calisma_durumu kategorisi yeni değerler: ['emekli' 'evet' 'hayır']\n",
      "baba_calisma_durumu null değer sayısı: 0\n",
      "Eğitim seti yeni satır sayısı 64276\n"
     ]
    }
   ],
   "source": [
    "# GÜNCEL DURUM\n",
    "print(\"baba_calisma_durumu kategorisi yeni değer sayısı:\", train[\"baba_calisma_durumu\"].nunique())\n",
    "print(\"baba_calisma_durumu kategorisi yeni değerler:\",train[\"baba_calisma_durumu\"].unique())\n",
    "print(\"baba_calisma_durumu null değer sayısı:\", train[\"baba_calisma_durumu\"].isna().sum())\n",
    "\n",
    "print(f\"Eğitim seti yeni satır sayısı {len(train)}\")"
   ]
  },
  {
   "cell_type": "markdown",
   "id": "e141e292",
   "metadata": {
    "papermill": {
     "duration": 0.062517,
     "end_time": "2024-09-11T09:10:58.383410",
     "exception": false,
     "start_time": "2024-09-11T09:10:58.320893",
     "status": "completed"
    },
    "tags": []
   },
   "source": [
    "### baba_sektor ! ! !\n",
    "\n",
    "-"
   ]
  },
  {
   "cell_type": "code",
   "execution_count": 117,
   "id": "e6017d11",
   "metadata": {
    "execution": {
     "iopub.execute_input": "2024-09-11T09:10:58.505914Z",
     "iopub.status.busy": "2024-09-11T09:10:58.505472Z",
     "iopub.status.idle": "2024-09-11T09:10:58.596086Z",
     "shell.execute_reply": "2024-09-11T09:10:58.594987Z"
    },
    "papermill": {
     "duration": 0.154815,
     "end_time": "2024-09-11T09:10:58.598770",
     "exception": false,
     "start_time": "2024-09-11T09:10:58.443955",
     "status": "completed"
    },
    "tags": []
   },
   "outputs": [],
   "source": [
    "train[\"baba_sektor\"] = train[\"baba_sektor\"].str.lower()\n",
    "train[\"baba_sektor\"] = train[\"baba_sektor\"].str.normalize('NFKD').str.encode('ascii', errors='ignore').str.decode('utf-8')"
   ]
  },
  {
   "cell_type": "code",
   "execution_count": 118,
   "id": "19055afd",
   "metadata": {
    "execution": {
     "iopub.execute_input": "2024-09-11T09:10:58.725353Z",
     "iopub.status.busy": "2024-09-11T09:10:58.724943Z",
     "iopub.status.idle": "2024-09-11T09:10:58.743495Z",
     "shell.execute_reply": "2024-09-11T09:10:58.742205Z"
    },
    "papermill": {
     "duration": 0.086875,
     "end_time": "2024-09-11T09:10:58.746802",
     "exception": false,
     "start_time": "2024-09-11T09:10:58.659927",
     "status": "completed"
    },
    "tags": []
   },
   "outputs": [
    {
     "name": "stdout",
     "output_type": "stream",
     "text": [
      "5\n"
     ]
    },
    {
     "data": {
      "text/plain": [
       "array(['0', 'ozel sektor', 'kamu', nan, 'diger', '-'], dtype=object)"
      ]
     },
     "execution_count": 118,
     "metadata": {},
     "output_type": "execute_result"
    }
   ],
   "source": [
    "print(train[\"baba_sektor\"].nunique())\n",
    "train[\"baba_sektor\"].unique()"
   ]
  },
  {
   "cell_type": "code",
   "execution_count": 119,
   "id": "533586dd",
   "metadata": {
    "execution": {
     "iopub.execute_input": "2024-09-11T09:10:58.871838Z",
     "iopub.status.busy": "2024-09-11T09:10:58.871404Z",
     "iopub.status.idle": "2024-09-11T09:10:58.883876Z",
     "shell.execute_reply": "2024-09-11T09:10:58.882769Z"
    },
    "papermill": {
     "duration": 0.078735,
     "end_time": "2024-09-11T09:10:58.886249",
     "exception": false,
     "start_time": "2024-09-11T09:10:58.807514",
     "status": "completed"
    },
    "tags": []
   },
   "outputs": [
    {
     "data": {
      "text/plain": [
       "20018"
      ]
     },
     "execution_count": 119,
     "metadata": {},
     "output_type": "execute_result"
    }
   ],
   "source": [
    "train[\"baba_sektor\"].isna().sum()"
   ]
  },
  {
   "cell_type": "code",
   "execution_count": 120,
   "id": "de6259e0",
   "metadata": {
    "execution": {
     "iopub.execute_input": "2024-09-11T09:10:59.010130Z",
     "iopub.status.busy": "2024-09-11T09:10:59.009640Z",
     "iopub.status.idle": "2024-09-11T09:10:59.024846Z",
     "shell.execute_reply": "2024-09-11T09:10:59.023817Z"
    },
    "papermill": {
     "duration": 0.079373,
     "end_time": "2024-09-11T09:10:59.027168",
     "exception": false,
     "start_time": "2024-09-11T09:10:58.947795",
     "status": "completed"
    },
    "tags": []
   },
   "outputs": [
    {
     "data": {
      "text/plain": [
       "baba_sektor\n",
       "ozel sektor    15408\n",
       "kamu           10233\n",
       "diger           9006\n",
       "0               6548\n",
       "-               3063\n",
       "Name: count, dtype: int64"
      ]
     },
     "execution_count": 120,
     "metadata": {},
     "output_type": "execute_result"
    }
   ],
   "source": [
    "train[\"baba_sektor\"].value_counts()"
   ]
  },
  {
   "cell_type": "code",
   "execution_count": 121,
   "id": "8a11aeb8",
   "metadata": {
    "execution": {
     "iopub.execute_input": "2024-09-11T09:10:59.149693Z",
     "iopub.status.busy": "2024-09-11T09:10:59.149293Z",
     "iopub.status.idle": "2024-09-11T09:10:59.163818Z",
     "shell.execute_reply": "2024-09-11T09:10:59.162832Z"
    },
    "papermill": {
     "duration": 0.078568,
     "end_time": "2024-09-11T09:10:59.166421",
     "exception": false,
     "start_time": "2024-09-11T09:10:59.087853",
     "status": "completed"
    },
    "tags": []
   },
   "outputs": [],
   "source": [
    "train['baba_sektor'] = train['baba_sektor'].replace('-', '0')"
   ]
  },
  {
   "cell_type": "code",
   "execution_count": 122,
   "id": "87026992",
   "metadata": {
    "execution": {
     "iopub.execute_input": "2024-09-11T09:10:59.290421Z",
     "iopub.status.busy": "2024-09-11T09:10:59.289996Z",
     "iopub.status.idle": "2024-09-11T09:10:59.303540Z",
     "shell.execute_reply": "2024-09-11T09:10:59.302563Z"
    },
    "papermill": {
     "duration": 0.079323,
     "end_time": "2024-09-11T09:10:59.306084",
     "exception": false,
     "start_time": "2024-09-11T09:10:59.226761",
     "status": "completed"
    },
    "tags": []
   },
   "outputs": [],
   "source": [
    "# NaN verileri babası çalışmıyor'a yazdım. \n",
    "\n",
    "train['baba_sektor'] = train['baba_sektor'].fillna(\"0\")"
   ]
  },
  {
   "cell_type": "code",
   "execution_count": 123,
   "id": "6556d43f",
   "metadata": {
    "execution": {
     "iopub.execute_input": "2024-09-11T09:10:59.434783Z",
     "iopub.status.busy": "2024-09-11T09:10:59.434316Z",
     "iopub.status.idle": "2024-09-11T09:10:59.450885Z",
     "shell.execute_reply": "2024-09-11T09:10:59.449775Z"
    },
    "papermill": {
     "duration": 0.085886,
     "end_time": "2024-09-11T09:10:59.453268",
     "exception": false,
     "start_time": "2024-09-11T09:10:59.367382",
     "status": "completed"
    },
    "tags": []
   },
   "outputs": [
    {
     "data": {
      "text/plain": [
       "baba_sektor\n",
       "0              29629\n",
       "ozel sektor    15408\n",
       "kamu           10233\n",
       "diger           9006\n",
       "Name: count, dtype: int64"
      ]
     },
     "execution_count": 123,
     "metadata": {},
     "output_type": "execute_result"
    }
   ],
   "source": [
    "train[\"baba_sektor\"].value_counts()"
   ]
  },
  {
   "cell_type": "code",
   "execution_count": 124,
   "id": "b1fe3259",
   "metadata": {
    "execution": {
     "iopub.execute_input": "2024-09-11T09:10:59.576873Z",
     "iopub.status.busy": "2024-09-11T09:10:59.576388Z",
     "iopub.status.idle": "2024-09-11T09:10:59.599568Z",
     "shell.execute_reply": "2024-09-11T09:10:59.598381Z"
    },
    "papermill": {
     "duration": 0.088189,
     "end_time": "2024-09-11T09:10:59.602082",
     "exception": false,
     "start_time": "2024-09-11T09:10:59.513893",
     "status": "completed"
    },
    "tags": []
   },
   "outputs": [
    {
     "name": "stdout",
     "output_type": "stream",
     "text": [
      "baba_sektor kategorisi yeni değer sayısı: 4\n",
      "baba_sektor kategorisi yeni değerler: ['0' 'ozel sektor' 'kamu' 'diger']\n",
      "baba_sektor null değer sayısı: 0\n",
      "Eğitim seti yeni satır sayısı 64276\n"
     ]
    }
   ],
   "source": [
    "# GÜNCEL DURUM\n",
    "print(\"baba_sektor kategorisi yeni değer sayısı:\", train[\"baba_sektor\"].nunique())\n",
    "print(\"baba_sektor kategorisi yeni değerler:\",train[\"baba_sektor\"].unique())\n",
    "print(\"baba_sektor null değer sayısı:\", train[\"baba_sektor\"].isna().sum())\n",
    "\n",
    "print(f\"Eğitim seti yeni satır sayısı {len(train)}\")"
   ]
  },
  {
   "cell_type": "markdown",
   "id": "ab185586",
   "metadata": {
    "papermill": {
     "duration": 0.061063,
     "end_time": "2024-09-11T09:10:59.724769",
     "exception": false,
     "start_time": "2024-09-11T09:10:59.663706",
     "status": "completed"
    },
    "tags": []
   },
   "source": [
    "### kardes_sayisi ! ! !\n",
    "\n",
    "-"
   ]
  },
  {
   "cell_type": "code",
   "execution_count": 125,
   "id": "7d4e696b",
   "metadata": {
    "execution": {
     "iopub.execute_input": "2024-09-11T09:10:59.849133Z",
     "iopub.status.busy": "2024-09-11T09:10:59.848680Z",
     "iopub.status.idle": "2024-09-11T09:10:59.869104Z",
     "shell.execute_reply": "2024-09-11T09:10:59.867513Z"
    },
    "papermill": {
     "duration": 0.085107,
     "end_time": "2024-09-11T09:10:59.871659",
     "exception": false,
     "start_time": "2024-09-11T09:10:59.786552",
     "status": "completed"
    },
    "tags": []
   },
   "outputs": [],
   "source": [
    "train[\"kardes_sayisi\"] = pd.to_numeric(train[\"kardes_sayisi\"], errors='coerce')"
   ]
  },
  {
   "cell_type": "code",
   "execution_count": 126,
   "id": "b45eccd0",
   "metadata": {
    "execution": {
     "iopub.execute_input": "2024-09-11T09:10:59.996844Z",
     "iopub.status.busy": "2024-09-11T09:10:59.996324Z",
     "iopub.status.idle": "2024-09-11T09:11:00.007360Z",
     "shell.execute_reply": "2024-09-11T09:11:00.006219Z"
    },
    "papermill": {
     "duration": 0.076255,
     "end_time": "2024-09-11T09:11:00.009627",
     "exception": false,
     "start_time": "2024-09-11T09:10:59.933372",
     "status": "completed"
    },
    "tags": []
   },
   "outputs": [
    {
     "name": "stdout",
     "output_type": "stream",
     "text": [
      "15\n"
     ]
    },
    {
     "data": {
      "text/plain": [
       "array([ 1.,  6., 10.,  3., nan,  4.,  2.,  5.,  0.,  7.,  8., 11.,  9.,\n",
       "       12., 13., 14.])"
      ]
     },
     "execution_count": 126,
     "metadata": {},
     "output_type": "execute_result"
    }
   ],
   "source": [
    "print(train[\"kardes_sayisi\"].nunique())\n",
    "train[\"kardes_sayisi\"].unique()"
   ]
  },
  {
   "cell_type": "code",
   "execution_count": 127,
   "id": "e2db4ab0",
   "metadata": {
    "execution": {
     "iopub.execute_input": "2024-09-11T09:11:00.135913Z",
     "iopub.status.busy": "2024-09-11T09:11:00.135453Z",
     "iopub.status.idle": "2024-09-11T09:11:00.148440Z",
     "shell.execute_reply": "2024-09-11T09:11:00.147153Z"
    },
    "papermill": {
     "duration": 0.078685,
     "end_time": "2024-09-11T09:11:00.151301",
     "exception": false,
     "start_time": "2024-09-11T09:11:00.072616",
     "status": "completed"
    },
    "tags": []
   },
   "outputs": [
    {
     "data": {
      "text/plain": [
       "kardes_sayisi\n",
       "1.0     21980\n",
       "2.0     16814\n",
       "3.0      8716\n",
       "4.0      5548\n",
       "0.0      5006\n",
       "5.0      4090\n",
       "6.0       339\n",
       "7.0       272\n",
       "8.0       171\n",
       "10.0      168\n",
       "9.0       122\n",
       "11.0       11\n",
       "12.0        5\n",
       "13.0        2\n",
       "14.0        1\n",
       "Name: count, dtype: int64"
      ]
     },
     "execution_count": 127,
     "metadata": {},
     "output_type": "execute_result"
    }
   ],
   "source": [
    "train[\"kardes_sayisi\"].value_counts()"
   ]
  },
  {
   "cell_type": "code",
   "execution_count": 128,
   "id": "9fb80cb3",
   "metadata": {
    "execution": {
     "iopub.execute_input": "2024-09-11T09:11:00.284253Z",
     "iopub.status.busy": "2024-09-11T09:11:00.283035Z",
     "iopub.status.idle": "2024-09-11T09:11:00.300798Z",
     "shell.execute_reply": "2024-09-11T09:11:00.299552Z"
    },
    "papermill": {
     "duration": 0.089311,
     "end_time": "2024-09-11T09:11:00.303222",
     "exception": false,
     "start_time": "2024-09-11T09:11:00.213911",
     "status": "completed"
    },
    "tags": []
   },
   "outputs": [
    {
     "data": {
      "text/html": [
       "<div>\n",
       "<style scoped>\n",
       "    .dataframe tbody tr th:only-of-type {\n",
       "        vertical-align: middle;\n",
       "    }\n",
       "\n",
       "    .dataframe tbody tr th {\n",
       "        vertical-align: top;\n",
       "    }\n",
       "\n",
       "    .dataframe thead th {\n",
       "        text-align: right;\n",
       "    }\n",
       "</style>\n",
       "<table border=\"1\" class=\"dataframe\">\n",
       "  <thead>\n",
       "    <tr style=\"text-align: right;\">\n",
       "      <th></th>\n",
       "      <th>basvuru_yili</th>\n",
       "      <th>degerlendirme_puani</th>\n",
       "      <th>cinsiyet</th>\n",
       "      <th>dogum_tarihi</th>\n",
       "      <th>dogum_yeri</th>\n",
       "      <th>ikametgah_sehri</th>\n",
       "      <th>universite_adi</th>\n",
       "      <th>universite_turu</th>\n",
       "      <th>burslu_ise_burs_yuzdesi</th>\n",
       "      <th>burs_aliyor_mu</th>\n",
       "      <th>...</th>\n",
       "      <th>spor_dalindaki_rolunuz_nedir</th>\n",
       "      <th>aktif_olarak_bir_stk_uyesi_misiniz</th>\n",
       "      <th>hangi_stknin_uyesisiniz</th>\n",
       "      <th>stk_projesine_katildiniz_mi</th>\n",
       "      <th>girisimcilikle_ilgili_deneyiminiz_var_mi</th>\n",
       "      <th>girisimcilikle_ilgili_deneyiminizi_aciklayabilir_misiniz</th>\n",
       "      <th>ingilizce_biliyor_musunuz</th>\n",
       "      <th>ingilizce_seviyeniz</th>\n",
       "      <th>daha_onceden_mezun_olunduysa_mezun_olunan_universite</th>\n",
       "      <th>id</th>\n",
       "    </tr>\n",
       "  </thead>\n",
       "  <tbody>\n",
       "  </tbody>\n",
       "</table>\n",
       "<p>0 rows × 44 columns</p>\n",
       "</div>"
      ],
      "text/plain": [
       "Empty DataFrame\n",
       "Columns: [basvuru_yili, degerlendirme_puani, cinsiyet, dogum_tarihi, dogum_yeri, ikametgah_sehri, universite_adi, universite_turu, burslu_ise_burs_yuzdesi, burs_aliyor_mu, bolum, universite_kacinci_sinif, universite_not_ortalamasi, daha_once_baska_bir_universiteden_mezun_olmus, lise_adi, lise_adi_diger, lise_sehir, lise_turu, lise_bolumu, lise_bolum_diger, lise_mezuniyet_notu, baska_bir_kurumdan_burs_aliyor_mu, burs_aldigi_baska_kurum, baska_kurumdan_aldigi_burs_miktari, anne_egitim_durumu, anne_calisma_durumu, anne_sektor, baba_egitim_durumu, baba_calisma_durumu, baba_sektor, kardes_sayisi, girisimcilik_kulupleri_tarzi_bir_kulube_uye_misiniz, uye_oldugunuz_kulubun_ismi, profesyonel_bir_spor_daliyla_mesgul_musunuz, spor_dalindaki_rolunuz_nedir, aktif_olarak_bir_stk_uyesi_misiniz, hangi_stknin_uyesisiniz, stk_projesine_katildiniz_mi, girisimcilikle_ilgili_deneyiminiz_var_mi, girisimcilikle_ilgili_deneyiminizi_aciklayabilir_misiniz, ingilizce_biliyor_musunuz, ingilizce_seviyeniz, daha_onceden_mezun_olunduysa_mezun_olunan_universite, id]\n",
       "Index: []\n",
       "\n",
       "[0 rows x 44 columns]"
      ]
     },
     "execution_count": 128,
     "metadata": {},
     "output_type": "execute_result"
    }
   ],
   "source": [
    "train.loc[train[\"kardes_sayisi\"] == \"kardeş sayısı 1 ek bilgi aile hk. anne vefat\"]"
   ]
  },
  {
   "cell_type": "code",
   "execution_count": 129,
   "id": "114d98d0",
   "metadata": {
    "execution": {
     "iopub.execute_input": "2024-09-11T09:11:00.446365Z",
     "iopub.status.busy": "2024-09-11T09:11:00.444969Z",
     "iopub.status.idle": "2024-09-11T09:11:00.619331Z",
     "shell.execute_reply": "2024-09-11T09:11:00.617825Z"
    },
    "papermill": {
     "duration": 0.257358,
     "end_time": "2024-09-11T09:11:00.622193",
     "exception": false,
     "start_time": "2024-09-11T09:11:00.364835",
     "status": "completed"
    },
    "tags": []
   },
   "outputs": [],
   "source": [
    "train = train[train['kardes_sayisi'] != 'kardeş sayısı 1 ek bilgi aile hk. anne vefat']"
   ]
  },
  {
   "cell_type": "code",
   "execution_count": 130,
   "id": "5d6446cc",
   "metadata": {
    "execution": {
     "iopub.execute_input": "2024-09-11T09:11:00.748997Z",
     "iopub.status.busy": "2024-09-11T09:11:00.748561Z",
     "iopub.status.idle": "2024-09-11T09:11:00.757666Z",
     "shell.execute_reply": "2024-09-11T09:11:00.756496Z"
    },
    "papermill": {
     "duration": 0.074796,
     "end_time": "2024-09-11T09:11:00.760064",
     "exception": false,
     "start_time": "2024-09-11T09:11:00.685268",
     "status": "completed"
    },
    "tags": []
   },
   "outputs": [
    {
     "data": {
      "text/plain": [
       "1031"
      ]
     },
     "execution_count": 130,
     "metadata": {},
     "output_type": "execute_result"
    }
   ],
   "source": [
    "train[\"kardes_sayisi\"].isna().sum()"
   ]
  },
  {
   "cell_type": "code",
   "execution_count": 131,
   "id": "30fd11ce",
   "metadata": {
    "execution": {
     "iopub.execute_input": "2024-09-11T09:11:00.885475Z",
     "iopub.status.busy": "2024-09-11T09:11:00.885044Z",
     "iopub.status.idle": "2024-09-11T09:11:00.896381Z",
     "shell.execute_reply": "2024-09-11T09:11:00.895135Z"
    },
    "papermill": {
     "duration": 0.077779,
     "end_time": "2024-09-11T09:11:00.899348",
     "exception": false,
     "start_time": "2024-09-11T09:11:00.821569",
     "status": "completed"
    },
    "tags": []
   },
   "outputs": [],
   "source": [
    "# NaN verileri babası çalışmıyor'a yazdım. \n",
    "\n",
    "train['kardes_sayisi'] = train['kardes_sayisi'].fillna(\"0\")"
   ]
  },
  {
   "cell_type": "code",
   "execution_count": 132,
   "id": "7ad07410",
   "metadata": {
    "execution": {
     "iopub.execute_input": "2024-09-11T09:11:01.028411Z",
     "iopub.status.busy": "2024-09-11T09:11:01.028003Z",
     "iopub.status.idle": "2024-09-11T09:11:01.042049Z",
     "shell.execute_reply": "2024-09-11T09:11:01.040830Z"
    },
    "papermill": {
     "duration": 0.081906,
     "end_time": "2024-09-11T09:11:01.044720",
     "exception": false,
     "start_time": "2024-09-11T09:11:00.962814",
     "status": "completed"
    },
    "tags": []
   },
   "outputs": [
    {
     "data": {
      "text/plain": [
       "kardes_sayisi\n",
       "1.0     21980\n",
       "2.0     16814\n",
       "3.0      8716\n",
       "4.0      5548\n",
       "0.0      5006\n",
       "5.0      4090\n",
       "0        1031\n",
       "6.0       339\n",
       "7.0       272\n",
       "8.0       171\n",
       "10.0      168\n",
       "9.0       122\n",
       "11.0       11\n",
       "12.0        5\n",
       "13.0        2\n",
       "14.0        1\n",
       "Name: count, dtype: int64"
      ]
     },
     "execution_count": 132,
     "metadata": {},
     "output_type": "execute_result"
    }
   ],
   "source": [
    "train[\"kardes_sayisi\"].value_counts()"
   ]
  },
  {
   "cell_type": "code",
   "execution_count": 133,
   "id": "97026acb",
   "metadata": {
    "execution": {
     "iopub.execute_input": "2024-09-11T09:11:01.170513Z",
     "iopub.status.busy": "2024-09-11T09:11:01.170075Z",
     "iopub.status.idle": "2024-09-11T09:11:01.188623Z",
     "shell.execute_reply": "2024-09-11T09:11:01.187230Z"
    },
    "papermill": {
     "duration": 0.084635,
     "end_time": "2024-09-11T09:11:01.191115",
     "exception": false,
     "start_time": "2024-09-11T09:11:01.106480",
     "status": "completed"
    },
    "tags": []
   },
   "outputs": [
    {
     "name": "stdout",
     "output_type": "stream",
     "text": [
      "kardes_sayisi kategorisi yeni değer sayısı: 16\n",
      "kardes_sayisi kategorisi yeni değerler: [1.0 6.0 10.0 3.0 '0' 4.0 2.0 5.0 0.0 7.0 8.0 11.0 9.0 12.0 13.0 14.0]\n",
      "kardes_sayisi null değer sayısı: 0\n",
      "Eğitim seti yeni satır sayısı 64276\n"
     ]
    }
   ],
   "source": [
    "# GÜNCEL DURUM\n",
    "print(\"kardes_sayisi kategorisi yeni değer sayısı:\", train[\"kardes_sayisi\"].nunique())\n",
    "print(\"kardes_sayisi kategorisi yeni değerler:\",train[\"kardes_sayisi\"].unique())\n",
    "print(\"kardes_sayisi null değer sayısı:\", train[\"kardes_sayisi\"].isna().sum())\n",
    "\n",
    "print(f\"Eğitim seti yeni satır sayısı {len(train)}\")"
   ]
  },
  {
   "cell_type": "markdown",
   "id": "e4297dc7",
   "metadata": {
    "papermill": {
     "duration": 0.063718,
     "end_time": "2024-09-11T09:11:01.316145",
     "exception": false,
     "start_time": "2024-09-11T09:11:01.252427",
     "status": "completed"
    },
    "tags": []
   },
   "source": [
    "### girisimcilik_kulupleri_tarzi_bir_kulube_uye_misiniz ! ! !\n",
    "\n",
    "-"
   ]
  },
  {
   "cell_type": "code",
   "execution_count": 134,
   "id": "6ff61dce",
   "metadata": {
    "execution": {
     "iopub.execute_input": "2024-09-11T09:11:01.446607Z",
     "iopub.status.busy": "2024-09-11T09:11:01.445608Z",
     "iopub.status.idle": "2024-09-11T09:11:01.463024Z",
     "shell.execute_reply": "2024-09-11T09:11:01.461783Z"
    },
    "papermill": {
     "duration": 0.086005,
     "end_time": "2024-09-11T09:11:01.466109",
     "exception": false,
     "start_time": "2024-09-11T09:11:01.380104",
     "status": "completed"
    },
    "tags": []
   },
   "outputs": [
    {
     "name": "stdout",
     "output_type": "stream",
     "text": [
      "2\n"
     ]
    },
    {
     "data": {
      "text/plain": [
       "array(['evet', 'hayır', nan], dtype=object)"
      ]
     },
     "execution_count": 134,
     "metadata": {},
     "output_type": "execute_result"
    }
   ],
   "source": [
    "print(train[\"girisimcilik_kulupleri_tarzi_bir_kulube_uye_misiniz\"].nunique())\n",
    "train[\"girisimcilik_kulupleri_tarzi_bir_kulube_uye_misiniz\"].unique()"
   ]
  },
  {
   "cell_type": "code",
   "execution_count": 135,
   "id": "317ef9b1",
   "metadata": {
    "execution": {
     "iopub.execute_input": "2024-09-11T09:11:01.592498Z",
     "iopub.status.busy": "2024-09-11T09:11:01.592091Z",
     "iopub.status.idle": "2024-09-11T09:11:01.608161Z",
     "shell.execute_reply": "2024-09-11T09:11:01.607016Z"
    },
    "papermill": {
     "duration": 0.08248,
     "end_time": "2024-09-11T09:11:01.610534",
     "exception": false,
     "start_time": "2024-09-11T09:11:01.528054",
     "status": "completed"
    },
    "tags": []
   },
   "outputs": [
    {
     "data": {
      "text/plain": [
       "girisimcilik_kulupleri_tarzi_bir_kulube_uye_misiniz\n",
       "hayır    33265\n",
       "evet     29341\n",
       "Name: count, dtype: int64"
      ]
     },
     "execution_count": 135,
     "metadata": {},
     "output_type": "execute_result"
    }
   ],
   "source": [
    "train[\"girisimcilik_kulupleri_tarzi_bir_kulube_uye_misiniz\"].value_counts()"
   ]
  },
  {
   "cell_type": "code",
   "execution_count": 136,
   "id": "d5a795cb",
   "metadata": {
    "execution": {
     "iopub.execute_input": "2024-09-11T09:11:01.739960Z",
     "iopub.status.busy": "2024-09-11T09:11:01.738662Z",
     "iopub.status.idle": "2024-09-11T09:11:01.750346Z",
     "shell.execute_reply": "2024-09-11T09:11:01.749265Z"
    },
    "papermill": {
     "duration": 0.080059,
     "end_time": "2024-09-11T09:11:01.753063",
     "exception": false,
     "start_time": "2024-09-11T09:11:01.673004",
     "status": "completed"
    },
    "tags": []
   },
   "outputs": [
    {
     "data": {
      "text/plain": [
       "1670"
      ]
     },
     "execution_count": 136,
     "metadata": {},
     "output_type": "execute_result"
    }
   ],
   "source": [
    "train[\"girisimcilik_kulupleri_tarzi_bir_kulube_uye_misiniz\"].isna().sum()"
   ]
  },
  {
   "cell_type": "code",
   "execution_count": 137,
   "id": "26c27179",
   "metadata": {
    "execution": {
     "iopub.execute_input": "2024-09-11T09:11:01.881965Z",
     "iopub.status.busy": "2024-09-11T09:11:01.881483Z",
     "iopub.status.idle": "2024-09-11T09:11:01.895127Z",
     "shell.execute_reply": "2024-09-11T09:11:01.893796Z"
    },
    "papermill": {
     "duration": 0.080169,
     "end_time": "2024-09-11T09:11:01.897607",
     "exception": false,
     "start_time": "2024-09-11T09:11:01.817438",
     "status": "completed"
    },
    "tags": []
   },
   "outputs": [],
   "source": [
    "# NaN verileri babası çalışmıyor'a yazdım. \n",
    "\n",
    "train['girisimcilik_kulupleri_tarzi_bir_kulube_uye_misiniz'] = train['girisimcilik_kulupleri_tarzi_bir_kulube_uye_misiniz'].fillna(\"hayır\")"
   ]
  },
  {
   "cell_type": "code",
   "execution_count": 138,
   "id": "4a136edf",
   "metadata": {
    "execution": {
     "iopub.execute_input": "2024-09-11T09:11:02.024430Z",
     "iopub.status.busy": "2024-09-11T09:11:02.024030Z",
     "iopub.status.idle": "2024-09-11T09:11:02.043167Z",
     "shell.execute_reply": "2024-09-11T09:11:02.041949Z"
    },
    "papermill": {
     "duration": 0.085938,
     "end_time": "2024-09-11T09:11:02.045874",
     "exception": false,
     "start_time": "2024-09-11T09:11:01.959936",
     "status": "completed"
    },
    "tags": []
   },
   "outputs": [
    {
     "data": {
      "text/plain": [
       "girisimcilik_kulupleri_tarzi_bir_kulube_uye_misiniz\n",
       "hayır    34935\n",
       "evet     29341\n",
       "Name: count, dtype: int64"
      ]
     },
     "execution_count": 138,
     "metadata": {},
     "output_type": "execute_result"
    }
   ],
   "source": [
    "train[\"girisimcilik_kulupleri_tarzi_bir_kulube_uye_misiniz\"].value_counts()"
   ]
  },
  {
   "cell_type": "code",
   "execution_count": 139,
   "id": "950368a1",
   "metadata": {
    "execution": {
     "iopub.execute_input": "2024-09-11T09:11:02.175570Z",
     "iopub.status.busy": "2024-09-11T09:11:02.174536Z",
     "iopub.status.idle": "2024-09-11T09:11:02.198324Z",
     "shell.execute_reply": "2024-09-11T09:11:02.197178Z"
    },
    "papermill": {
     "duration": 0.092053,
     "end_time": "2024-09-11T09:11:02.201160",
     "exception": false,
     "start_time": "2024-09-11T09:11:02.109107",
     "status": "completed"
    },
    "tags": []
   },
   "outputs": [
    {
     "name": "stdout",
     "output_type": "stream",
     "text": [
      "girisimcilik_kulupleri_tarzi_bir_kulube_uye_misiniz kategorisi yeni değer sayısı: 2\n",
      "girisimcilik_kulupleri_tarzi_bir_kulube_uye_misiniz kategorisi yeni değerler: ['evet' 'hayır']\n",
      "girisimcilik_kulupleri_tarzi_bir_kulube_uye_misiniz null değer sayısı: 0\n",
      "Eğitim seti yeni satır sayısı 64276\n"
     ]
    }
   ],
   "source": [
    "# GÜNCEL DURUM\n",
    "print(\"girisimcilik_kulupleri_tarzi_bir_kulube_uye_misiniz kategorisi yeni değer sayısı:\", train[\"girisimcilik_kulupleri_tarzi_bir_kulube_uye_misiniz\"].nunique())\n",
    "print(\"girisimcilik_kulupleri_tarzi_bir_kulube_uye_misiniz kategorisi yeni değerler:\",train[\"girisimcilik_kulupleri_tarzi_bir_kulube_uye_misiniz\"].unique())\n",
    "print(\"girisimcilik_kulupleri_tarzi_bir_kulube_uye_misiniz null değer sayısı:\", train[\"girisimcilik_kulupleri_tarzi_bir_kulube_uye_misiniz\"].isna().sum())\n",
    "\n",
    "print(f\"Eğitim seti yeni satır sayısı {len(train)}\")"
   ]
  },
  {
   "cell_type": "markdown",
   "id": "30a77552",
   "metadata": {
    "papermill": {
     "duration": 0.062896,
     "end_time": "2024-09-11T09:11:02.327860",
     "exception": false,
     "start_time": "2024-09-11T09:11:02.264964",
     "status": "completed"
    },
    "tags": []
   },
   "source": [
    "### profesyonel_bir_spor_daliyla_mesgul_musunuz ! ! !\n",
    "\n",
    "-"
   ]
  },
  {
   "cell_type": "code",
   "execution_count": 140,
   "id": "1b486ae8",
   "metadata": {
    "execution": {
     "iopub.execute_input": "2024-09-11T09:11:02.479233Z",
     "iopub.status.busy": "2024-09-11T09:11:02.478329Z",
     "iopub.status.idle": "2024-09-11T09:11:02.495997Z",
     "shell.execute_reply": "2024-09-11T09:11:02.494442Z"
    },
    "papermill": {
     "duration": 0.085636,
     "end_time": "2024-09-11T09:11:02.498983",
     "exception": false,
     "start_time": "2024-09-11T09:11:02.413347",
     "status": "completed"
    },
    "tags": []
   },
   "outputs": [
    {
     "name": "stdout",
     "output_type": "stream",
     "text": [
      "2\n"
     ]
    },
    {
     "data": {
      "text/plain": [
       "array(['evet', 'hayır', nan], dtype=object)"
      ]
     },
     "execution_count": 140,
     "metadata": {},
     "output_type": "execute_result"
    }
   ],
   "source": [
    "print(train[\"profesyonel_bir_spor_daliyla_mesgul_musunuz\"].nunique())\n",
    "train[\"profesyonel_bir_spor_daliyla_mesgul_musunuz\"].unique()"
   ]
  },
  {
   "cell_type": "code",
   "execution_count": 141,
   "id": "abf6e263",
   "metadata": {
    "execution": {
     "iopub.execute_input": "2024-09-11T09:11:02.627807Z",
     "iopub.status.busy": "2024-09-11T09:11:02.626692Z",
     "iopub.status.idle": "2024-09-11T09:11:02.643421Z",
     "shell.execute_reply": "2024-09-11T09:11:02.642325Z"
    },
    "papermill": {
     "duration": 0.083823,
     "end_time": "2024-09-11T09:11:02.645826",
     "exception": false,
     "start_time": "2024-09-11T09:11:02.562003",
     "status": "completed"
    },
    "tags": []
   },
   "outputs": [
    {
     "data": {
      "text/plain": [
       "profesyonel_bir_spor_daliyla_mesgul_musunuz\n",
       "hayır    41904\n",
       "evet     21305\n",
       "Name: count, dtype: int64"
      ]
     },
     "execution_count": 141,
     "metadata": {},
     "output_type": "execute_result"
    }
   ],
   "source": [
    "train[\"profesyonel_bir_spor_daliyla_mesgul_musunuz\"].value_counts()"
   ]
  },
  {
   "cell_type": "code",
   "execution_count": 142,
   "id": "c0c5b903",
   "metadata": {
    "execution": {
     "iopub.execute_input": "2024-09-11T09:11:02.773344Z",
     "iopub.status.busy": "2024-09-11T09:11:02.772900Z",
     "iopub.status.idle": "2024-09-11T09:11:02.784938Z",
     "shell.execute_reply": "2024-09-11T09:11:02.783822Z"
    },
    "papermill": {
     "duration": 0.079045,
     "end_time": "2024-09-11T09:11:02.787438",
     "exception": false,
     "start_time": "2024-09-11T09:11:02.708393",
     "status": "completed"
    },
    "tags": []
   },
   "outputs": [
    {
     "data": {
      "text/plain": [
       "1067"
      ]
     },
     "execution_count": 142,
     "metadata": {},
     "output_type": "execute_result"
    }
   ],
   "source": [
    "train[\"profesyonel_bir_spor_daliyla_mesgul_musunuz\"].isna().sum()"
   ]
  },
  {
   "cell_type": "code",
   "execution_count": 143,
   "id": "59289302",
   "metadata": {
    "execution": {
     "iopub.execute_input": "2024-09-11T09:11:02.918895Z",
     "iopub.status.busy": "2024-09-11T09:11:02.917671Z",
     "iopub.status.idle": "2024-09-11T09:11:02.931826Z",
     "shell.execute_reply": "2024-09-11T09:11:02.930429Z"
    },
    "papermill": {
     "duration": 0.082639,
     "end_time": "2024-09-11T09:11:02.934729",
     "exception": false,
     "start_time": "2024-09-11T09:11:02.852090",
     "status": "completed"
    },
    "tags": []
   },
   "outputs": [],
   "source": [
    "# NaN verileri babası çalışmıyor'a yazdım. \n",
    "\n",
    "train['profesyonel_bir_spor_daliyla_mesgul_musunuz'] = train['profesyonel_bir_spor_daliyla_mesgul_musunuz'].fillna(\"hayır\")"
   ]
  },
  {
   "cell_type": "code",
   "execution_count": 144,
   "id": "5f1208ee",
   "metadata": {
    "execution": {
     "iopub.execute_input": "2024-09-11T09:11:03.064192Z",
     "iopub.status.busy": "2024-09-11T09:11:03.063623Z",
     "iopub.status.idle": "2024-09-11T09:11:03.081575Z",
     "shell.execute_reply": "2024-09-11T09:11:03.080152Z"
    },
    "papermill": {
     "duration": 0.085722,
     "end_time": "2024-09-11T09:11:03.084105",
     "exception": false,
     "start_time": "2024-09-11T09:11:02.998383",
     "status": "completed"
    },
    "tags": []
   },
   "outputs": [
    {
     "data": {
      "text/plain": [
       "profesyonel_bir_spor_daliyla_mesgul_musunuz\n",
       "hayır    42971\n",
       "evet     21305\n",
       "Name: count, dtype: int64"
      ]
     },
     "execution_count": 144,
     "metadata": {},
     "output_type": "execute_result"
    }
   ],
   "source": [
    "train[\"profesyonel_bir_spor_daliyla_mesgul_musunuz\"].value_counts()"
   ]
  },
  {
   "cell_type": "code",
   "execution_count": 145,
   "id": "045ca51b",
   "metadata": {
    "execution": {
     "iopub.execute_input": "2024-09-11T09:11:03.210265Z",
     "iopub.status.busy": "2024-09-11T09:11:03.209867Z",
     "iopub.status.idle": "2024-09-11T09:11:03.232449Z",
     "shell.execute_reply": "2024-09-11T09:11:03.230949Z"
    },
    "papermill": {
     "duration": 0.088924,
     "end_time": "2024-09-11T09:11:03.235294",
     "exception": false,
     "start_time": "2024-09-11T09:11:03.146370",
     "status": "completed"
    },
    "tags": []
   },
   "outputs": [
    {
     "name": "stdout",
     "output_type": "stream",
     "text": [
      "profesyonel_bir_spor_daliyla_mesgul_musunuz kategorisi yeni değer sayısı: 2\n",
      "profesyonel_bir_spor_daliyla_mesgul_musunuz kategorisi yeni değerler: ['evet' 'hayır']\n",
      "profesyonel_bir_spor_daliyla_mesgul_musunuz null değer sayısı: 0\n",
      "Eğitim seti yeni satır sayısı 64276\n"
     ]
    }
   ],
   "source": [
    "# GÜNCEL DURUM\n",
    "print(\"profesyonel_bir_spor_daliyla_mesgul_musunuz kategorisi yeni değer sayısı:\", train[\"profesyonel_bir_spor_daliyla_mesgul_musunuz\"].nunique())\n",
    "print(\"profesyonel_bir_spor_daliyla_mesgul_musunuz kategorisi yeni değerler:\",train[\"profesyonel_bir_spor_daliyla_mesgul_musunuz\"].unique())\n",
    "print(\"profesyonel_bir_spor_daliyla_mesgul_musunuz null değer sayısı:\", train[\"profesyonel_bir_spor_daliyla_mesgul_musunuz\"].isna().sum())\n",
    "\n",
    "print(f\"Eğitim seti yeni satır sayısı {len(train)}\")"
   ]
  },
  {
   "cell_type": "markdown",
   "id": "347afc1f",
   "metadata": {
    "papermill": {
     "duration": 0.062487,
     "end_time": "2024-09-11T09:11:03.361236",
     "exception": false,
     "start_time": "2024-09-11T09:11:03.298749",
     "status": "completed"
    },
    "tags": []
   },
   "source": [
    "### aktif_olarak_bir_stk_uyesi_misiniz ! ! !\n",
    "\n",
    "-"
   ]
  },
  {
   "cell_type": "code",
   "execution_count": 146,
   "id": "a06dd76e",
   "metadata": {
    "execution": {
     "iopub.execute_input": "2024-09-11T09:11:03.490814Z",
     "iopub.status.busy": "2024-09-11T09:11:03.490334Z",
     "iopub.status.idle": "2024-09-11T09:11:03.507667Z",
     "shell.execute_reply": "2024-09-11T09:11:03.506608Z"
    },
    "papermill": {
     "duration": 0.084475,
     "end_time": "2024-09-11T09:11:03.510045",
     "exception": false,
     "start_time": "2024-09-11T09:11:03.425570",
     "status": "completed"
    },
    "tags": []
   },
   "outputs": [
    {
     "name": "stdout",
     "output_type": "stream",
     "text": [
      "2\n"
     ]
    },
    {
     "data": {
      "text/plain": [
       "array(['hayır', nan, 'evet'], dtype=object)"
      ]
     },
     "execution_count": 146,
     "metadata": {},
     "output_type": "execute_result"
    }
   ],
   "source": [
    "print(train[\"aktif_olarak_bir_stk_uyesi_misiniz\"].nunique())\n",
    "train[\"aktif_olarak_bir_stk_uyesi_misiniz\"].unique()"
   ]
  },
  {
   "cell_type": "code",
   "execution_count": 147,
   "id": "38f54058",
   "metadata": {
    "execution": {
     "iopub.execute_input": "2024-09-11T09:11:03.639984Z",
     "iopub.status.busy": "2024-09-11T09:11:03.639557Z",
     "iopub.status.idle": "2024-09-11T09:11:03.655230Z",
     "shell.execute_reply": "2024-09-11T09:11:03.654023Z"
    },
    "papermill": {
     "duration": 0.08277,
     "end_time": "2024-09-11T09:11:03.657890",
     "exception": false,
     "start_time": "2024-09-11T09:11:03.575120",
     "status": "completed"
    },
    "tags": []
   },
   "outputs": [
    {
     "data": {
      "text/plain": [
       "aktif_olarak_bir_stk_uyesi_misiniz\n",
       "hayır    37282\n",
       "evet     14487\n",
       "Name: count, dtype: int64"
      ]
     },
     "execution_count": 147,
     "metadata": {},
     "output_type": "execute_result"
    }
   ],
   "source": [
    "train[\"aktif_olarak_bir_stk_uyesi_misiniz\"].value_counts()"
   ]
  },
  {
   "cell_type": "code",
   "execution_count": 148,
   "id": "3e9a4382",
   "metadata": {
    "execution": {
     "iopub.execute_input": "2024-09-11T09:11:03.789092Z",
     "iopub.status.busy": "2024-09-11T09:11:03.788661Z",
     "iopub.status.idle": "2024-09-11T09:11:03.800244Z",
     "shell.execute_reply": "2024-09-11T09:11:03.798929Z"
    },
    "papermill": {
     "duration": 0.080007,
     "end_time": "2024-09-11T09:11:03.802851",
     "exception": false,
     "start_time": "2024-09-11T09:11:03.722844",
     "status": "completed"
    },
    "tags": []
   },
   "outputs": [
    {
     "data": {
      "text/plain": [
       "12507"
      ]
     },
     "execution_count": 148,
     "metadata": {},
     "output_type": "execute_result"
    }
   ],
   "source": [
    "train[\"aktif_olarak_bir_stk_uyesi_misiniz\"].isna().sum()"
   ]
  },
  {
   "cell_type": "code",
   "execution_count": 149,
   "id": "665fddf1",
   "metadata": {
    "execution": {
     "iopub.execute_input": "2024-09-11T09:11:03.938279Z",
     "iopub.status.busy": "2024-09-11T09:11:03.937835Z",
     "iopub.status.idle": "2024-09-11T09:11:03.953569Z",
     "shell.execute_reply": "2024-09-11T09:11:03.951903Z"
    },
    "papermill": {
     "duration": 0.087725,
     "end_time": "2024-09-11T09:11:03.956620",
     "exception": false,
     "start_time": "2024-09-11T09:11:03.868895",
     "status": "completed"
    },
    "tags": []
   },
   "outputs": [],
   "source": [
    "train['aktif_olarak_bir_stk_uyesi_misiniz'] = train['aktif_olarak_bir_stk_uyesi_misiniz'].fillna(\"hayır\")"
   ]
  },
  {
   "cell_type": "code",
   "execution_count": 150,
   "id": "bc706546",
   "metadata": {
    "execution": {
     "iopub.execute_input": "2024-09-11T09:11:04.087664Z",
     "iopub.status.busy": "2024-09-11T09:11:04.087220Z",
     "iopub.status.idle": "2024-09-11T09:11:04.104455Z",
     "shell.execute_reply": "2024-09-11T09:11:04.103073Z"
    },
    "papermill": {
     "duration": 0.087176,
     "end_time": "2024-09-11T09:11:04.107084",
     "exception": false,
     "start_time": "2024-09-11T09:11:04.019908",
     "status": "completed"
    },
    "tags": []
   },
   "outputs": [
    {
     "data": {
      "text/plain": [
       "aktif_olarak_bir_stk_uyesi_misiniz\n",
       "hayır    49789\n",
       "evet     14487\n",
       "Name: count, dtype: int64"
      ]
     },
     "execution_count": 150,
     "metadata": {},
     "output_type": "execute_result"
    }
   ],
   "source": [
    "train[\"aktif_olarak_bir_stk_uyesi_misiniz\"].value_counts()"
   ]
  },
  {
   "cell_type": "code",
   "execution_count": 151,
   "id": "c930424c",
   "metadata": {
    "execution": {
     "iopub.execute_input": "2024-09-11T09:11:04.239399Z",
     "iopub.status.busy": "2024-09-11T09:11:04.238981Z",
     "iopub.status.idle": "2024-09-11T09:11:04.259985Z",
     "shell.execute_reply": "2024-09-11T09:11:04.258577Z"
    },
    "papermill": {
     "duration": 0.08941,
     "end_time": "2024-09-11T09:11:04.262612",
     "exception": false,
     "start_time": "2024-09-11T09:11:04.173202",
     "status": "completed"
    },
    "tags": []
   },
   "outputs": [
    {
     "name": "stdout",
     "output_type": "stream",
     "text": [
      "aktif_olarak_bir_stk_uyesi_misiniz kategorisi yeni değer sayısı: 2\n",
      "aktif_olarak_bir_stk_uyesi_misiniz kategorisi yeni değerler: ['hayır' 'evet']\n",
      "aktif_olarak_bir_stk_uyesi_misiniz null değer sayısı: 0\n",
      "Eğitim seti yeni satır sayısı 64276\n"
     ]
    }
   ],
   "source": [
    "# GÜNCEL DURUM\n",
    "print(\"aktif_olarak_bir_stk_uyesi_misiniz kategorisi yeni değer sayısı:\", train[\"aktif_olarak_bir_stk_uyesi_misiniz\"].nunique())\n",
    "print(\"aktif_olarak_bir_stk_uyesi_misiniz kategorisi yeni değerler:\",train[\"aktif_olarak_bir_stk_uyesi_misiniz\"].unique())\n",
    "print(\"aktif_olarak_bir_stk_uyesi_misiniz null değer sayısı:\", train[\"aktif_olarak_bir_stk_uyesi_misiniz\"].isna().sum())\n",
    "\n",
    "print(f\"Eğitim seti yeni satır sayısı {len(train)}\")"
   ]
  },
  {
   "cell_type": "markdown",
   "id": "d509e38a",
   "metadata": {
    "papermill": {
     "duration": 0.063064,
     "end_time": "2024-09-11T09:11:04.389666",
     "exception": false,
     "start_time": "2024-09-11T09:11:04.326602",
     "status": "completed"
    },
    "tags": []
   },
   "source": [
    "### stk_projesine_katildiniz_mi ! ! !\n",
    "\n",
    "-"
   ]
  },
  {
   "cell_type": "code",
   "execution_count": 152,
   "id": "29d4dafe",
   "metadata": {
    "execution": {
     "iopub.execute_input": "2024-09-11T09:11:04.524765Z",
     "iopub.status.busy": "2024-09-11T09:11:04.523689Z",
     "iopub.status.idle": "2024-09-11T09:11:04.539955Z",
     "shell.execute_reply": "2024-09-11T09:11:04.538630Z"
    },
    "papermill": {
     "duration": 0.083958,
     "end_time": "2024-09-11T09:11:04.542175",
     "exception": false,
     "start_time": "2024-09-11T09:11:04.458217",
     "status": "completed"
    },
    "tags": []
   },
   "outputs": [
    {
     "name": "stdout",
     "output_type": "stream",
     "text": [
      "2\n"
     ]
    },
    {
     "data": {
      "text/plain": [
       "array(['evet', 'hayır', nan], dtype=object)"
      ]
     },
     "execution_count": 152,
     "metadata": {},
     "output_type": "execute_result"
    }
   ],
   "source": [
    "print(train[\"stk_projesine_katildiniz_mi\"].nunique())\n",
    "train[\"stk_projesine_katildiniz_mi\"].unique()"
   ]
  },
  {
   "cell_type": "code",
   "execution_count": 153,
   "id": "4b34951c",
   "metadata": {
    "execution": {
     "iopub.execute_input": "2024-09-11T09:11:04.670932Z",
     "iopub.status.busy": "2024-09-11T09:11:04.670494Z",
     "iopub.status.idle": "2024-09-11T09:11:04.709628Z",
     "shell.execute_reply": "2024-09-11T09:11:04.708235Z"
    },
    "papermill": {
     "duration": 0.106951,
     "end_time": "2024-09-11T09:11:04.712232",
     "exception": false,
     "start_time": "2024-09-11T09:11:04.605281",
     "status": "completed"
    },
    "tags": []
   },
   "outputs": [
    {
     "data": {
      "text/plain": [
       "stk_projesine_katildiniz_mi\n",
       "hayır    19507\n",
       "evet     17087\n",
       "Name: count, dtype: int64"
      ]
     },
     "execution_count": 153,
     "metadata": {},
     "output_type": "execute_result"
    }
   ],
   "source": [
    "train[\"stk_projesine_katildiniz_mi\"].value_counts()"
   ]
  },
  {
   "cell_type": "code",
   "execution_count": 154,
   "id": "68d94427",
   "metadata": {
    "execution": {
     "iopub.execute_input": "2024-09-11T09:11:04.846475Z",
     "iopub.status.busy": "2024-09-11T09:11:04.845475Z",
     "iopub.status.idle": "2024-09-11T09:11:04.857210Z",
     "shell.execute_reply": "2024-09-11T09:11:04.855988Z"
    },
    "papermill": {
     "duration": 0.082581,
     "end_time": "2024-09-11T09:11:04.859627",
     "exception": false,
     "start_time": "2024-09-11T09:11:04.777046",
     "status": "completed"
    },
    "tags": []
   },
   "outputs": [
    {
     "data": {
      "text/plain": [
       "27682"
      ]
     },
     "execution_count": 154,
     "metadata": {},
     "output_type": "execute_result"
    }
   ],
   "source": [
    "train[\"stk_projesine_katildiniz_mi\"].isna().sum()"
   ]
  },
  {
   "cell_type": "code",
   "execution_count": 155,
   "id": "0e37aa0e",
   "metadata": {
    "execution": {
     "iopub.execute_input": "2024-09-11T09:11:05.046958Z",
     "iopub.status.busy": "2024-09-11T09:11:05.046500Z",
     "iopub.status.idle": "2024-09-11T09:11:05.058787Z",
     "shell.execute_reply": "2024-09-11T09:11:05.057790Z"
    },
    "papermill": {
     "duration": 0.080458,
     "end_time": "2024-09-11T09:11:05.061310",
     "exception": false,
     "start_time": "2024-09-11T09:11:04.980852",
     "status": "completed"
    },
    "tags": []
   },
   "outputs": [],
   "source": [
    "train['stk_projesine_katildiniz_mi'] = train['stk_projesine_katildiniz_mi'].fillna(\"hayır\")"
   ]
  },
  {
   "cell_type": "code",
   "execution_count": 156,
   "id": "5a65b911",
   "metadata": {
    "execution": {
     "iopub.execute_input": "2024-09-11T09:11:05.191752Z",
     "iopub.status.busy": "2024-09-11T09:11:05.190879Z",
     "iopub.status.idle": "2024-09-11T09:11:05.207247Z",
     "shell.execute_reply": "2024-09-11T09:11:05.205953Z"
    },
    "papermill": {
     "duration": 0.084182,
     "end_time": "2024-09-11T09:11:05.209638",
     "exception": false,
     "start_time": "2024-09-11T09:11:05.125456",
     "status": "completed"
    },
    "tags": []
   },
   "outputs": [
    {
     "data": {
      "text/plain": [
       "stk_projesine_katildiniz_mi\n",
       "hayır    47189\n",
       "evet     17087\n",
       "Name: count, dtype: int64"
      ]
     },
     "execution_count": 156,
     "metadata": {},
     "output_type": "execute_result"
    }
   ],
   "source": [
    "train[\"stk_projesine_katildiniz_mi\"].value_counts()"
   ]
  },
  {
   "cell_type": "code",
   "execution_count": 157,
   "id": "fabd0595",
   "metadata": {
    "execution": {
     "iopub.execute_input": "2024-09-11T09:11:05.341321Z",
     "iopub.status.busy": "2024-09-11T09:11:05.340914Z",
     "iopub.status.idle": "2024-09-11T09:11:05.361290Z",
     "shell.execute_reply": "2024-09-11T09:11:05.359993Z"
    },
    "papermill": {
     "duration": 0.088977,
     "end_time": "2024-09-11T09:11:05.363661",
     "exception": false,
     "start_time": "2024-09-11T09:11:05.274684",
     "status": "completed"
    },
    "tags": []
   },
   "outputs": [
    {
     "name": "stdout",
     "output_type": "stream",
     "text": [
      "stk_projesine_katildiniz_mi kategorisi yeni değer sayısı: 2\n",
      "stk_projesine_katildiniz_mi kategorisi yeni değerler: ['evet' 'hayır']\n",
      "stk_projesine_katildiniz_mi null değer sayısı: 0\n",
      "Eğitim seti yeni satır sayısı 64276\n"
     ]
    }
   ],
   "source": [
    "# GÜNCEL DURUM\n",
    "print(\"stk_projesine_katildiniz_mi kategorisi yeni değer sayısı:\", train[\"stk_projesine_katildiniz_mi\"].nunique())\n",
    "print(\"stk_projesine_katildiniz_mi kategorisi yeni değerler:\",train[\"stk_projesine_katildiniz_mi\"].unique())\n",
    "print(\"stk_projesine_katildiniz_mi null değer sayısı:\", train[\"stk_projesine_katildiniz_mi\"].isna().sum())\n",
    "\n",
    "print(f\"Eğitim seti yeni satır sayısı {len(train)}\")"
   ]
  },
  {
   "cell_type": "markdown",
   "id": "cf695b9e",
   "metadata": {
    "papermill": {
     "duration": 0.065078,
     "end_time": "2024-09-11T09:11:05.495560",
     "exception": false,
     "start_time": "2024-09-11T09:11:05.430482",
     "status": "completed"
    },
    "tags": []
   },
   "source": [
    "### girisimcilikle_ilgili_deneyiminiz_var_mi ! ! !\n",
    "\n",
    "-"
   ]
  },
  {
   "cell_type": "code",
   "execution_count": 158,
   "id": "350c6313",
   "metadata": {
    "execution": {
     "iopub.execute_input": "2024-09-11T09:11:05.629062Z",
     "iopub.status.busy": "2024-09-11T09:11:05.628616Z",
     "iopub.status.idle": "2024-09-11T09:11:05.645380Z",
     "shell.execute_reply": "2024-09-11T09:11:05.644203Z"
    },
    "papermill": {
     "duration": 0.085794,
     "end_time": "2024-09-11T09:11:05.647796",
     "exception": false,
     "start_time": "2024-09-11T09:11:05.562002",
     "status": "completed"
    },
    "tags": []
   },
   "outputs": [
    {
     "name": "stdout",
     "output_type": "stream",
     "text": [
      "2\n"
     ]
    },
    {
     "data": {
      "text/plain": [
       "array(['hayır', 'evet', nan], dtype=object)"
      ]
     },
     "execution_count": 158,
     "metadata": {},
     "output_type": "execute_result"
    }
   ],
   "source": [
    "print(train[\"girisimcilikle_ilgili_deneyiminiz_var_mi\"].nunique())\n",
    "train[\"girisimcilikle_ilgili_deneyiminiz_var_mi\"].unique()"
   ]
  },
  {
   "cell_type": "code",
   "execution_count": 159,
   "id": "6e85f725",
   "metadata": {
    "execution": {
     "iopub.execute_input": "2024-09-11T09:11:05.779712Z",
     "iopub.status.busy": "2024-09-11T09:11:05.779320Z",
     "iopub.status.idle": "2024-09-11T09:11:05.795371Z",
     "shell.execute_reply": "2024-09-11T09:11:05.794130Z"
    },
    "papermill": {
     "duration": 0.08559,
     "end_time": "2024-09-11T09:11:05.797861",
     "exception": false,
     "start_time": "2024-09-11T09:11:05.712271",
     "status": "completed"
    },
    "tags": []
   },
   "outputs": [
    {
     "data": {
      "text/plain": [
       "girisimcilikle_ilgili_deneyiminiz_var_mi\n",
       "hayır    33532\n",
       "evet     18233\n",
       "Name: count, dtype: int64"
      ]
     },
     "execution_count": 159,
     "metadata": {},
     "output_type": "execute_result"
    }
   ],
   "source": [
    "train[\"girisimcilikle_ilgili_deneyiminiz_var_mi\"].value_counts()"
   ]
  },
  {
   "cell_type": "code",
   "execution_count": 160,
   "id": "7b8a7b84",
   "metadata": {
    "execution": {
     "iopub.execute_input": "2024-09-11T09:11:05.931112Z",
     "iopub.status.busy": "2024-09-11T09:11:05.930136Z",
     "iopub.status.idle": "2024-09-11T09:11:05.941218Z",
     "shell.execute_reply": "2024-09-11T09:11:05.940067Z"
    },
    "papermill": {
     "duration": 0.079797,
     "end_time": "2024-09-11T09:11:05.943652",
     "exception": false,
     "start_time": "2024-09-11T09:11:05.863855",
     "status": "completed"
    },
    "tags": []
   },
   "outputs": [
    {
     "data": {
      "text/plain": [
       "12511"
      ]
     },
     "execution_count": 160,
     "metadata": {},
     "output_type": "execute_result"
    }
   ],
   "source": [
    "train[\"girisimcilikle_ilgili_deneyiminiz_var_mi\"].isna().sum()"
   ]
  },
  {
   "cell_type": "code",
   "execution_count": 161,
   "id": "43270c0f",
   "metadata": {
    "execution": {
     "iopub.execute_input": "2024-09-11T09:11:06.074845Z",
     "iopub.status.busy": "2024-09-11T09:11:06.074392Z",
     "iopub.status.idle": "2024-09-11T09:11:06.087515Z",
     "shell.execute_reply": "2024-09-11T09:11:06.086252Z"
    },
    "papermill": {
     "duration": 0.082131,
     "end_time": "2024-09-11T09:11:06.090196",
     "exception": false,
     "start_time": "2024-09-11T09:11:06.008065",
     "status": "completed"
    },
    "tags": []
   },
   "outputs": [],
   "source": [
    "train['girisimcilikle_ilgili_deneyiminiz_var_mi'] = train['girisimcilikle_ilgili_deneyiminiz_var_mi'].fillna(\"hayır\")"
   ]
  },
  {
   "cell_type": "code",
   "execution_count": 162,
   "id": "5a09eb63",
   "metadata": {
    "execution": {
     "iopub.execute_input": "2024-09-11T09:11:06.226614Z",
     "iopub.status.busy": "2024-09-11T09:11:06.226192Z",
     "iopub.status.idle": "2024-09-11T09:11:06.243334Z",
     "shell.execute_reply": "2024-09-11T09:11:06.242146Z"
    },
    "papermill": {
     "duration": 0.089363,
     "end_time": "2024-09-11T09:11:06.246035",
     "exception": false,
     "start_time": "2024-09-11T09:11:06.156672",
     "status": "completed"
    },
    "tags": []
   },
   "outputs": [
    {
     "data": {
      "text/plain": [
       "girisimcilikle_ilgili_deneyiminiz_var_mi\n",
       "hayır    46043\n",
       "evet     18233\n",
       "Name: count, dtype: int64"
      ]
     },
     "execution_count": 162,
     "metadata": {},
     "output_type": "execute_result"
    }
   ],
   "source": [
    "train[\"girisimcilikle_ilgili_deneyiminiz_var_mi\"].value_counts()"
   ]
  },
  {
   "cell_type": "code",
   "execution_count": 163,
   "id": "97a90c19",
   "metadata": {
    "execution": {
     "iopub.execute_input": "2024-09-11T09:11:06.379354Z",
     "iopub.status.busy": "2024-09-11T09:11:06.378900Z",
     "iopub.status.idle": "2024-09-11T09:11:06.399685Z",
     "shell.execute_reply": "2024-09-11T09:11:06.398379Z"
    },
    "papermill": {
     "duration": 0.092278,
     "end_time": "2024-09-11T09:11:06.402713",
     "exception": false,
     "start_time": "2024-09-11T09:11:06.310435",
     "status": "completed"
    },
    "tags": []
   },
   "outputs": [
    {
     "name": "stdout",
     "output_type": "stream",
     "text": [
      "girisimcilikle_ilgili_deneyiminiz_var_mi kategorisi yeni değer sayısı: 2\n",
      "girisimcilikle_ilgili_deneyiminiz_var_mi kategorisi yeni değerler: ['hayır' 'evet']\n",
      "girisimcilikle_ilgili_deneyiminiz_var_mi null değer sayısı: 0\n",
      "Eğitim seti yeni satır sayısı 64276\n"
     ]
    }
   ],
   "source": [
    "# GÜNCEL DURUM\n",
    "print(\"girisimcilikle_ilgili_deneyiminiz_var_mi kategorisi yeni değer sayısı:\", train[\"girisimcilikle_ilgili_deneyiminiz_var_mi\"].nunique())\n",
    "print(\"girisimcilikle_ilgili_deneyiminiz_var_mi kategorisi yeni değerler:\",train[\"girisimcilikle_ilgili_deneyiminiz_var_mi\"].unique())\n",
    "print(\"girisimcilikle_ilgili_deneyiminiz_var_mi null değer sayısı:\", train[\"girisimcilikle_ilgili_deneyiminiz_var_mi\"].isna().sum())\n",
    "\n",
    "print(f\"Eğitim seti yeni satır sayısı {len(train)}\")"
   ]
  },
  {
   "cell_type": "markdown",
   "id": "675db810",
   "metadata": {
    "papermill": {
     "duration": 0.065543,
     "end_time": "2024-09-11T09:11:06.537229",
     "exception": false,
     "start_time": "2024-09-11T09:11:06.471686",
     "status": "completed"
    },
    "tags": []
   },
   "source": [
    "### ingilizce_biliyor_musunuz ! ! !\n",
    "\n",
    "-"
   ]
  },
  {
   "cell_type": "code",
   "execution_count": 164,
   "id": "89657949",
   "metadata": {
    "execution": {
     "iopub.execute_input": "2024-09-11T09:11:06.673142Z",
     "iopub.status.busy": "2024-09-11T09:11:06.672119Z",
     "iopub.status.idle": "2024-09-11T09:11:06.688771Z",
     "shell.execute_reply": "2024-09-11T09:11:06.687223Z"
    },
    "papermill": {
     "duration": 0.088454,
     "end_time": "2024-09-11T09:11:06.691368",
     "exception": false,
     "start_time": "2024-09-11T09:11:06.602914",
     "status": "completed"
    },
    "tags": []
   },
   "outputs": [
    {
     "name": "stdout",
     "output_type": "stream",
     "text": [
      "2\n"
     ]
    },
    {
     "data": {
      "text/plain": [
       "array([nan, 'evet', 'hayır'], dtype=object)"
      ]
     },
     "execution_count": 164,
     "metadata": {},
     "output_type": "execute_result"
    }
   ],
   "source": [
    "print(train[\"ingilizce_biliyor_musunuz\"].nunique())\n",
    "train[\"ingilizce_biliyor_musunuz\"].unique()"
   ]
  },
  {
   "cell_type": "code",
   "execution_count": 165,
   "id": "b860cc7a",
   "metadata": {
    "execution": {
     "iopub.execute_input": "2024-09-11T09:11:06.827678Z",
     "iopub.status.busy": "2024-09-11T09:11:06.827247Z",
     "iopub.status.idle": "2024-09-11T09:11:06.844807Z",
     "shell.execute_reply": "2024-09-11T09:11:06.843142Z"
    },
    "papermill": {
     "duration": 0.088141,
     "end_time": "2024-09-11T09:11:06.847634",
     "exception": false,
     "start_time": "2024-09-11T09:11:06.759493",
     "status": "completed"
    },
    "tags": []
   },
   "outputs": [
    {
     "data": {
      "text/plain": [
       "ingilizce_biliyor_musunuz\n",
       "evet     48394\n",
       "hayır     9524\n",
       "Name: count, dtype: int64"
      ]
     },
     "execution_count": 165,
     "metadata": {},
     "output_type": "execute_result"
    }
   ],
   "source": [
    "train[\"ingilizce_biliyor_musunuz\"].value_counts()"
   ]
  },
  {
   "cell_type": "code",
   "execution_count": 166,
   "id": "4c9bbc36",
   "metadata": {
    "execution": {
     "iopub.execute_input": "2024-09-11T09:11:06.985542Z",
     "iopub.status.busy": "2024-09-11T09:11:06.984355Z",
     "iopub.status.idle": "2024-09-11T09:11:06.995924Z",
     "shell.execute_reply": "2024-09-11T09:11:06.994637Z"
    },
    "papermill": {
     "duration": 0.082158,
     "end_time": "2024-09-11T09:11:06.998459",
     "exception": false,
     "start_time": "2024-09-11T09:11:06.916301",
     "status": "completed"
    },
    "tags": []
   },
   "outputs": [
    {
     "data": {
      "text/plain": [
       "6358"
      ]
     },
     "execution_count": 166,
     "metadata": {},
     "output_type": "execute_result"
    }
   ],
   "source": [
    "train[\"ingilizce_biliyor_musunuz\"].isna().sum()"
   ]
  },
  {
   "cell_type": "code",
   "execution_count": 167,
   "id": "1cd37aa0",
   "metadata": {
    "execution": {
     "iopub.execute_input": "2024-09-11T09:11:07.137133Z",
     "iopub.status.busy": "2024-09-11T09:11:07.136657Z",
     "iopub.status.idle": "2024-09-11T09:11:07.150347Z",
     "shell.execute_reply": "2024-09-11T09:11:07.148955Z"
    },
    "papermill": {
     "duration": 0.086031,
     "end_time": "2024-09-11T09:11:07.152998",
     "exception": false,
     "start_time": "2024-09-11T09:11:07.066967",
     "status": "completed"
    },
    "tags": []
   },
   "outputs": [],
   "source": [
    "train['ingilizce_biliyor_musunuz'] = train['ingilizce_biliyor_musunuz'].fillna(\"hayır\")"
   ]
  },
  {
   "cell_type": "code",
   "execution_count": 168,
   "id": "51e7b553",
   "metadata": {
    "execution": {
     "iopub.execute_input": "2024-09-11T09:11:07.288498Z",
     "iopub.status.busy": "2024-09-11T09:11:07.288075Z",
     "iopub.status.idle": "2024-09-11T09:11:07.304880Z",
     "shell.execute_reply": "2024-09-11T09:11:07.303287Z"
    },
    "papermill": {
     "duration": 0.087448,
     "end_time": "2024-09-11T09:11:07.307350",
     "exception": false,
     "start_time": "2024-09-11T09:11:07.219902",
     "status": "completed"
    },
    "tags": []
   },
   "outputs": [
    {
     "data": {
      "text/plain": [
       "ingilizce_biliyor_musunuz\n",
       "evet     48394\n",
       "hayır    15882\n",
       "Name: count, dtype: int64"
      ]
     },
     "execution_count": 168,
     "metadata": {},
     "output_type": "execute_result"
    }
   ],
   "source": [
    "train[\"ingilizce_biliyor_musunuz\"].value_counts()"
   ]
  },
  {
   "cell_type": "code",
   "execution_count": 169,
   "id": "23bb7d00",
   "metadata": {
    "execution": {
     "iopub.execute_input": "2024-09-11T09:11:07.445347Z",
     "iopub.status.busy": "2024-09-11T09:11:07.444934Z",
     "iopub.status.idle": "2024-09-11T09:11:07.464208Z",
     "shell.execute_reply": "2024-09-11T09:11:07.463009Z"
    },
    "papermill": {
     "duration": 0.090189,
     "end_time": "2024-09-11T09:11:07.466717",
     "exception": false,
     "start_time": "2024-09-11T09:11:07.376528",
     "status": "completed"
    },
    "tags": []
   },
   "outputs": [
    {
     "name": "stdout",
     "output_type": "stream",
     "text": [
      "ingilizce_biliyor_musunuz kategorisi yeni değer sayısı: 2\n",
      "ingilizce_biliyor_musunuz kategorisi yeni değerler: ['hayır' 'evet']\n",
      "ingilizce_biliyor_musunuz null değer sayısı: 0\n",
      "Eğitim seti yeni satır sayısı 64276\n"
     ]
    }
   ],
   "source": [
    "# GÜNCEL DURUM\n",
    "print(\"ingilizce_biliyor_musunuz kategorisi yeni değer sayısı:\", train[\"ingilizce_biliyor_musunuz\"].nunique())\n",
    "print(\"ingilizce_biliyor_musunuz kategorisi yeni değerler:\",train[\"ingilizce_biliyor_musunuz\"].unique())\n",
    "print(\"ingilizce_biliyor_musunuz null değer sayısı:\", train[\"ingilizce_biliyor_musunuz\"].isna().sum())\n",
    "\n",
    "print(f\"Eğitim seti yeni satır sayısı {len(train)}\")"
   ]
  },
  {
   "cell_type": "markdown",
   "id": "3efb3d3a",
   "metadata": {
    "papermill": {
     "duration": 0.066299,
     "end_time": "2024-09-11T09:11:07.600656",
     "exception": false,
     "start_time": "2024-09-11T09:11:07.534357",
     "status": "completed"
    },
    "tags": []
   },
   "source": [
    "### ingilizce_seviyeniz ! ! !\n",
    "\n",
    "-"
   ]
  },
  {
   "cell_type": "code",
   "execution_count": 170,
   "id": "8da8e2c8",
   "metadata": {
    "execution": {
     "iopub.execute_input": "2024-09-11T09:11:07.736492Z",
     "iopub.status.busy": "2024-09-11T09:11:07.736082Z",
     "iopub.status.idle": "2024-09-11T09:11:07.799081Z",
     "shell.execute_reply": "2024-09-11T09:11:07.797932Z"
    },
    "papermill": {
     "duration": 0.134086,
     "end_time": "2024-09-11T09:11:07.801648",
     "exception": false,
     "start_time": "2024-09-11T09:11:07.667562",
     "status": "completed"
    },
    "tags": []
   },
   "outputs": [],
   "source": [
    "train[\"ingilizce_seviyeniz\"] = train[\"ingilizce_seviyeniz\"].str.lower()\n",
    "train[\"ingilizce_seviyeniz\"] = train[\"ingilizce_seviyeniz\"].str.normalize('NFKD').str.encode('ascii', errors='ignore').str.decode('utf-8')"
   ]
  },
  {
   "cell_type": "code",
   "execution_count": 171,
   "id": "f4442559",
   "metadata": {
    "execution": {
     "iopub.execute_input": "2024-09-11T09:11:07.937941Z",
     "iopub.status.busy": "2024-09-11T09:11:07.937490Z",
     "iopub.status.idle": "2024-09-11T09:11:07.953334Z",
     "shell.execute_reply": "2024-09-11T09:11:07.952193Z"
    },
    "papermill": {
     "duration": 0.088043,
     "end_time": "2024-09-11T09:11:07.955719",
     "exception": false,
     "start_time": "2024-09-11T09:11:07.867676",
     "status": "completed"
    },
    "tags": []
   },
   "outputs": [
    {
     "name": "stdout",
     "output_type": "stream",
     "text": [
      "4\n"
     ]
    },
    {
     "data": {
      "text/plain": [
       "array([nan, 'ileri', 'orta', '0', 'baslangc'], dtype=object)"
      ]
     },
     "execution_count": 171,
     "metadata": {},
     "output_type": "execute_result"
    }
   ],
   "source": [
    "print(train[\"ingilizce_seviyeniz\"].nunique())\n",
    "train[\"ingilizce_seviyeniz\"].unique()"
   ]
  },
  {
   "cell_type": "code",
   "execution_count": 172,
   "id": "be61858e",
   "metadata": {
    "execution": {
     "iopub.execute_input": "2024-09-11T09:11:08.092444Z",
     "iopub.status.busy": "2024-09-11T09:11:08.092022Z",
     "iopub.status.idle": "2024-09-11T09:11:08.107097Z",
     "shell.execute_reply": "2024-09-11T09:11:08.105661Z"
    },
    "papermill": {
     "duration": 0.086693,
     "end_time": "2024-09-11T09:11:08.110009",
     "exception": false,
     "start_time": "2024-09-11T09:11:08.023316",
     "status": "completed"
    },
    "tags": []
   },
   "outputs": [
    {
     "data": {
      "text/plain": [
       "ingilizce_seviyeniz\n",
       "orta        12998\n",
       "ileri        8296\n",
       "baslangc     5161\n",
       "0            2010\n",
       "Name: count, dtype: int64"
      ]
     },
     "execution_count": 172,
     "metadata": {},
     "output_type": "execute_result"
    }
   ],
   "source": [
    "train[\"ingilizce_seviyeniz\"].value_counts()"
   ]
  },
  {
   "cell_type": "code",
   "execution_count": 173,
   "id": "57ce8bf8",
   "metadata": {
    "execution": {
     "iopub.execute_input": "2024-09-11T09:11:08.247069Z",
     "iopub.status.busy": "2024-09-11T09:11:08.245752Z",
     "iopub.status.idle": "2024-09-11T09:11:08.257392Z",
     "shell.execute_reply": "2024-09-11T09:11:08.256111Z"
    },
    "papermill": {
     "duration": 0.082062,
     "end_time": "2024-09-11T09:11:08.259667",
     "exception": false,
     "start_time": "2024-09-11T09:11:08.177605",
     "status": "completed"
    },
    "tags": []
   },
   "outputs": [
    {
     "data": {
      "text/plain": [
       "35811"
      ]
     },
     "execution_count": 173,
     "metadata": {},
     "output_type": "execute_result"
    }
   ],
   "source": [
    "train[\"ingilizce_seviyeniz\"].isna().sum()"
   ]
  },
  {
   "cell_type": "code",
   "execution_count": 174,
   "id": "db7a1be3",
   "metadata": {
    "execution": {
     "iopub.execute_input": "2024-09-11T09:11:08.400495Z",
     "iopub.status.busy": "2024-09-11T09:11:08.400048Z",
     "iopub.status.idle": "2024-09-11T09:11:08.413817Z",
     "shell.execute_reply": "2024-09-11T09:11:08.412549Z"
    },
    "papermill": {
     "duration": 0.086919,
     "end_time": "2024-09-11T09:11:08.416637",
     "exception": false,
     "start_time": "2024-09-11T09:11:08.329718",
     "status": "completed"
    },
    "tags": []
   },
   "outputs": [],
   "source": [
    "train['ingilizce_seviyeniz'] = train['ingilizce_seviyeniz'].fillna(\"0\")"
   ]
  },
  {
   "cell_type": "code",
   "execution_count": 175,
   "id": "8f16c360",
   "metadata": {
    "execution": {
     "iopub.execute_input": "2024-09-11T09:11:08.556614Z",
     "iopub.status.busy": "2024-09-11T09:11:08.556221Z",
     "iopub.status.idle": "2024-09-11T09:11:08.571850Z",
     "shell.execute_reply": "2024-09-11T09:11:08.570527Z"
    },
    "papermill": {
     "duration": 0.087211,
     "end_time": "2024-09-11T09:11:08.574268",
     "exception": false,
     "start_time": "2024-09-11T09:11:08.487057",
     "status": "completed"
    },
    "tags": []
   },
   "outputs": [
    {
     "data": {
      "text/plain": [
       "ingilizce_seviyeniz\n",
       "0           37821\n",
       "orta        12998\n",
       "ileri        8296\n",
       "baslangc     5161\n",
       "Name: count, dtype: int64"
      ]
     },
     "execution_count": 175,
     "metadata": {},
     "output_type": "execute_result"
    }
   ],
   "source": [
    "train[\"ingilizce_seviyeniz\"].value_counts()"
   ]
  },
  {
   "cell_type": "code",
   "execution_count": 176,
   "id": "e27dda86",
   "metadata": {
    "execution": {
     "iopub.execute_input": "2024-09-11T09:11:08.713366Z",
     "iopub.status.busy": "2024-09-11T09:11:08.712907Z",
     "iopub.status.idle": "2024-09-11T09:11:08.735000Z",
     "shell.execute_reply": "2024-09-11T09:11:08.733277Z"
    },
    "papermill": {
     "duration": 0.094581,
     "end_time": "2024-09-11T09:11:08.737768",
     "exception": false,
     "start_time": "2024-09-11T09:11:08.643187",
     "status": "completed"
    },
    "tags": []
   },
   "outputs": [
    {
     "name": "stdout",
     "output_type": "stream",
     "text": [
      "ingilizce_seviyeniz kategorisi yeni değer sayısı: 4\n",
      "ingilizce_seviyeniz kategorisi yeni değerler: ['0' 'ileri' 'orta' 'baslangc']\n",
      "ingilizce_seviyeniz null değer sayısı: 0\n",
      "Eğitim seti yeni satır sayısı 64276\n"
     ]
    }
   ],
   "source": [
    "# GÜNCEL DURUM\n",
    "print(\"ingilizce_seviyeniz kategorisi yeni değer sayısı:\", train[\"ingilizce_seviyeniz\"].nunique())\n",
    "print(\"ingilizce_seviyeniz kategorisi yeni değerler:\",train[\"ingilizce_seviyeniz\"].unique())\n",
    "print(\"ingilizce_seviyeniz null değer sayısı:\", train[\"ingilizce_seviyeniz\"].isna().sum())\n",
    "\n",
    "print(f\"Eğitim seti yeni satır sayısı {len(train)}\")"
   ]
  },
  {
   "cell_type": "markdown",
   "id": "8879194a",
   "metadata": {
    "papermill": {
     "duration": 0.066713,
     "end_time": "2024-09-11T09:11:08.870143",
     "exception": false,
     "start_time": "2024-09-11T09:11:08.803430",
     "status": "completed"
    },
    "tags": []
   },
   "source": [
    "# Mapping & Feature Selection"
   ]
  },
  {
   "cell_type": "code",
   "execution_count": 177,
   "id": "3ea03fff",
   "metadata": {
    "execution": {
     "iopub.execute_input": "2024-09-11T09:11:09.009508Z",
     "iopub.status.busy": "2024-09-11T09:11:09.009089Z",
     "iopub.status.idle": "2024-09-11T09:11:09.036470Z",
     "shell.execute_reply": "2024-09-11T09:11:09.035161Z"
    },
    "papermill": {
     "duration": 0.097698,
     "end_time": "2024-09-11T09:11:09.039222",
     "exception": false,
     "start_time": "2024-09-11T09:11:08.941524",
     "status": "completed"
    },
    "tags": []
   },
   "outputs": [],
   "source": [
    "# 'selected_columns' listesinde tutmak istediğin sütunlar olacak.\n",
    "# Normalde olmasına rağmen hızlanmam gerektiği için (submission zamanını kaçırmamak adına), lise_mezuniyet_notu ve anne_egitim_durumu'nu almıyorum.\n",
    "selected_columns = ['basvuru_yili', 'degerlendirme_puani', 'cinsiyet',\n",
    "       'universite_turu',\n",
    "       'burslu_ise_burs_yuzdesi', 'burs_aliyor_mu',\n",
    "       'universite_kacinci_sinif', 'universite_not_ortalamasi',\n",
    "       'daha_once_baska_bir_universiteden_mezun_olmus',\n",
    "       'baska_bir_kurumdan_burs_aliyor_mu',\n",
    "       'anne_calisma_durumu', 'anne_sektor', 'baba_egitim_durumu',\n",
    "       'baba_calisma_durumu', 'baba_sektor', 'kardes_sayisi',\n",
    "       'girisimcilik_kulupleri_tarzi_bir_kulube_uye_misiniz',\n",
    "       'profesyonel_bir_spor_daliyla_mesgul_musunuz','aktif_olarak_bir_stk_uyesi_misiniz',\n",
    "       'stk_projesine_katildiniz_mi',\n",
    "       'girisimcilikle_ilgili_deneyiminiz_var_mi',\n",
    "       'ingilizce_biliyor_musunuz', 'ingilizce_seviyeniz',\n",
    "       'id']  # Bu sütunları sakla\n",
    "\n",
    "train_set = train[selected_columns]  # Geri kalan sütunlar drop edilmiş olur."
   ]
  },
  {
   "cell_type": "code",
   "execution_count": 178,
   "id": "569dbc1b",
   "metadata": {
    "execution": {
     "iopub.execute_input": "2024-09-11T09:11:09.177440Z",
     "iopub.status.busy": "2024-09-11T09:11:09.177022Z",
     "iopub.status.idle": "2024-09-11T09:11:09.326717Z",
     "shell.execute_reply": "2024-09-11T09:11:09.325511Z"
    },
    "papermill": {
     "duration": 0.22311,
     "end_time": "2024-09-11T09:11:09.329601",
     "exception": false,
     "start_time": "2024-09-11T09:11:09.106491",
     "status": "completed"
    },
    "tags": []
   },
   "outputs": [
    {
     "data": {
      "text/html": [
       "<div>\n",
       "<style scoped>\n",
       "    .dataframe tbody tr th:only-of-type {\n",
       "        vertical-align: middle;\n",
       "    }\n",
       "\n",
       "    .dataframe tbody tr th {\n",
       "        vertical-align: top;\n",
       "    }\n",
       "\n",
       "    .dataframe thead th {\n",
       "        text-align: right;\n",
       "    }\n",
       "</style>\n",
       "<table border=\"1\" class=\"dataframe\">\n",
       "  <thead>\n",
       "    <tr style=\"text-align: right;\">\n",
       "      <th></th>\n",
       "      <th>basvuru_yili</th>\n",
       "      <th>degerlendirme_puani</th>\n",
       "      <th>cinsiyet</th>\n",
       "      <th>universite_turu</th>\n",
       "      <th>burslu_ise_burs_yuzdesi</th>\n",
       "      <th>burs_aliyor_mu</th>\n",
       "      <th>universite_kacinci_sinif</th>\n",
       "      <th>universite_not_ortalamasi</th>\n",
       "      <th>daha_once_baska_bir_universiteden_mezun_olmus</th>\n",
       "      <th>baska_bir_kurumdan_burs_aliyor_mu</th>\n",
       "      <th>...</th>\n",
       "      <th>baba_sektor</th>\n",
       "      <th>kardes_sayisi</th>\n",
       "      <th>girisimcilik_kulupleri_tarzi_bir_kulube_uye_misiniz</th>\n",
       "      <th>profesyonel_bir_spor_daliyla_mesgul_musunuz</th>\n",
       "      <th>aktif_olarak_bir_stk_uyesi_misiniz</th>\n",
       "      <th>stk_projesine_katildiniz_mi</th>\n",
       "      <th>girisimcilikle_ilgili_deneyiminiz_var_mi</th>\n",
       "      <th>ingilizce_biliyor_musunuz</th>\n",
       "      <th>ingilizce_seviyeniz</th>\n",
       "      <th>id</th>\n",
       "    </tr>\n",
       "  </thead>\n",
       "  <tbody>\n",
       "    <tr>\n",
       "      <th>0</th>\n",
       "      <td>2014</td>\n",
       "      <td>52.0</td>\n",
       "      <td>erkek</td>\n",
       "      <td>özel</td>\n",
       "      <td>100.0</td>\n",
       "      <td>evet</td>\n",
       "      <td>3</td>\n",
       "      <td>2.50 ve üstü</td>\n",
       "      <td>hayır</td>\n",
       "      <td>hayır</td>\n",
       "      <td>...</td>\n",
       "      <td>0</td>\n",
       "      <td>1.0</td>\n",
       "      <td>evet</td>\n",
       "      <td>evet</td>\n",
       "      <td>hayır</td>\n",
       "      <td>evet</td>\n",
       "      <td>hayır</td>\n",
       "      <td>hayır</td>\n",
       "      <td>0</td>\n",
       "      <td>0</td>\n",
       "    </tr>\n",
       "    <tr>\n",
       "      <th>1</th>\n",
       "      <td>2014</td>\n",
       "      <td>30.0</td>\n",
       "      <td>erkek</td>\n",
       "      <td>özel</td>\n",
       "      <td>100.0</td>\n",
       "      <td>hayır</td>\n",
       "      <td>3</td>\n",
       "      <td>2.50 ve üstü</td>\n",
       "      <td>hayır</td>\n",
       "      <td>hayır</td>\n",
       "      <td>...</td>\n",
       "      <td>0</td>\n",
       "      <td>1.0</td>\n",
       "      <td>hayır</td>\n",
       "      <td>hayır</td>\n",
       "      <td>hayır</td>\n",
       "      <td>evet</td>\n",
       "      <td>evet</td>\n",
       "      <td>hayır</td>\n",
       "      <td>0</td>\n",
       "      <td>1</td>\n",
       "    </tr>\n",
       "    <tr>\n",
       "      <th>2</th>\n",
       "      <td>2014</td>\n",
       "      <td>18.0</td>\n",
       "      <td>erkek</td>\n",
       "      <td>özel</td>\n",
       "      <td>100.0</td>\n",
       "      <td>hayır</td>\n",
       "      <td>1</td>\n",
       "      <td>0</td>\n",
       "      <td>hayır</td>\n",
       "      <td>hayır</td>\n",
       "      <td>...</td>\n",
       "      <td>ozel sektor</td>\n",
       "      <td>6.0</td>\n",
       "      <td>evet</td>\n",
       "      <td>hayır</td>\n",
       "      <td>hayır</td>\n",
       "      <td>hayır</td>\n",
       "      <td>hayır</td>\n",
       "      <td>hayır</td>\n",
       "      <td>0</td>\n",
       "      <td>2</td>\n",
       "    </tr>\n",
       "    <tr>\n",
       "      <th>3</th>\n",
       "      <td>2014</td>\n",
       "      <td>40.0</td>\n",
       "      <td>erkek</td>\n",
       "      <td>özel</td>\n",
       "      <td>100.0</td>\n",
       "      <td>evet</td>\n",
       "      <td>3</td>\n",
       "      <td>2.50 ve üstü</td>\n",
       "      <td>hayır</td>\n",
       "      <td>hayır</td>\n",
       "      <td>...</td>\n",
       "      <td>0</td>\n",
       "      <td>10.0</td>\n",
       "      <td>evet</td>\n",
       "      <td>hayır</td>\n",
       "      <td>hayır</td>\n",
       "      <td>evet</td>\n",
       "      <td>hayır</td>\n",
       "      <td>hayır</td>\n",
       "      <td>0</td>\n",
       "      <td>3</td>\n",
       "    </tr>\n",
       "    <tr>\n",
       "      <th>5</th>\n",
       "      <td>2014</td>\n",
       "      <td>37.0</td>\n",
       "      <td>erkek</td>\n",
       "      <td>özel</td>\n",
       "      <td>100.0</td>\n",
       "      <td>evet</td>\n",
       "      <td>3</td>\n",
       "      <td>2.50 ve üstü</td>\n",
       "      <td>hayır</td>\n",
       "      <td>hayır</td>\n",
       "      <td>...</td>\n",
       "      <td>kamu</td>\n",
       "      <td>3.0</td>\n",
       "      <td>evet</td>\n",
       "      <td>hayır</td>\n",
       "      <td>hayır</td>\n",
       "      <td>hayır</td>\n",
       "      <td>hayır</td>\n",
       "      <td>hayır</td>\n",
       "      <td>0</td>\n",
       "      <td>5</td>\n",
       "    </tr>\n",
       "    <tr>\n",
       "      <th>...</th>\n",
       "      <td>...</td>\n",
       "      <td>...</td>\n",
       "      <td>...</td>\n",
       "      <td>...</td>\n",
       "      <td>...</td>\n",
       "      <td>...</td>\n",
       "      <td>...</td>\n",
       "      <td>...</td>\n",
       "      <td>...</td>\n",
       "      <td>...</td>\n",
       "      <td>...</td>\n",
       "      <td>...</td>\n",
       "      <td>...</td>\n",
       "      <td>...</td>\n",
       "      <td>...</td>\n",
       "      <td>...</td>\n",
       "      <td>...</td>\n",
       "      <td>...</td>\n",
       "      <td>...</td>\n",
       "      <td>...</td>\n",
       "      <td>...</td>\n",
       "    </tr>\n",
       "    <tr>\n",
       "      <th>65119</th>\n",
       "      <td>2022</td>\n",
       "      <td>0.0</td>\n",
       "      <td>erkek</td>\n",
       "      <td>devlet</td>\n",
       "      <td>0.0</td>\n",
       "      <td>hayır</td>\n",
       "      <td>2</td>\n",
       "      <td>2.50 ve altı</td>\n",
       "      <td>hayır</td>\n",
       "      <td>hayır</td>\n",
       "      <td>...</td>\n",
       "      <td>ozel sektor</td>\n",
       "      <td>1.0</td>\n",
       "      <td>hayır</td>\n",
       "      <td>hayır</td>\n",
       "      <td>hayır</td>\n",
       "      <td>hayır</td>\n",
       "      <td>hayır</td>\n",
       "      <td>hayır</td>\n",
       "      <td>0</td>\n",
       "      <td>65119</td>\n",
       "    </tr>\n",
       "    <tr>\n",
       "      <th>65120</th>\n",
       "      <td>2022</td>\n",
       "      <td>0.0</td>\n",
       "      <td>erkek</td>\n",
       "      <td>özel</td>\n",
       "      <td>0.0</td>\n",
       "      <td>evet</td>\n",
       "      <td>2</td>\n",
       "      <td>2.50 ve altı</td>\n",
       "      <td>hayır</td>\n",
       "      <td>hayır</td>\n",
       "      <td>...</td>\n",
       "      <td>ozel sektor</td>\n",
       "      <td>4.0</td>\n",
       "      <td>hayır</td>\n",
       "      <td>hayır</td>\n",
       "      <td>hayır</td>\n",
       "      <td>hayır</td>\n",
       "      <td>hayır</td>\n",
       "      <td>hayır</td>\n",
       "      <td>0</td>\n",
       "      <td>65120</td>\n",
       "    </tr>\n",
       "    <tr>\n",
       "      <th>65121</th>\n",
       "      <td>2022</td>\n",
       "      <td>0.0</td>\n",
       "      <td>erkek</td>\n",
       "      <td>devlet</td>\n",
       "      <td>0.0</td>\n",
       "      <td>hayır</td>\n",
       "      <td>1</td>\n",
       "      <td>0</td>\n",
       "      <td>hayır</td>\n",
       "      <td>hayır</td>\n",
       "      <td>...</td>\n",
       "      <td>ozel sektor</td>\n",
       "      <td>4.0</td>\n",
       "      <td>hayır</td>\n",
       "      <td>hayır</td>\n",
       "      <td>hayır</td>\n",
       "      <td>hayır</td>\n",
       "      <td>hayır</td>\n",
       "      <td>hayır</td>\n",
       "      <td>0</td>\n",
       "      <td>65121</td>\n",
       "    </tr>\n",
       "    <tr>\n",
       "      <th>65122</th>\n",
       "      <td>2022</td>\n",
       "      <td>0.0</td>\n",
       "      <td>erkek</td>\n",
       "      <td>devlet</td>\n",
       "      <td>0.0</td>\n",
       "      <td>hayır</td>\n",
       "      <td>4</td>\n",
       "      <td>2.50 ve altı</td>\n",
       "      <td>hayır</td>\n",
       "      <td>evet</td>\n",
       "      <td>...</td>\n",
       "      <td>0</td>\n",
       "      <td>3.0</td>\n",
       "      <td>hayır</td>\n",
       "      <td>hayır</td>\n",
       "      <td>hayır</td>\n",
       "      <td>hayır</td>\n",
       "      <td>hayır</td>\n",
       "      <td>hayır</td>\n",
       "      <td>0</td>\n",
       "      <td>65122</td>\n",
       "    </tr>\n",
       "    <tr>\n",
       "      <th>65123</th>\n",
       "      <td>2022</td>\n",
       "      <td>0.0</td>\n",
       "      <td>erkek</td>\n",
       "      <td>devlet</td>\n",
       "      <td>0.0</td>\n",
       "      <td>hayır</td>\n",
       "      <td>3</td>\n",
       "      <td>2.50 ve altı</td>\n",
       "      <td>hayır</td>\n",
       "      <td>hayır</td>\n",
       "      <td>...</td>\n",
       "      <td>kamu</td>\n",
       "      <td>2.0</td>\n",
       "      <td>hayır</td>\n",
       "      <td>hayır</td>\n",
       "      <td>hayır</td>\n",
       "      <td>hayır</td>\n",
       "      <td>hayır</td>\n",
       "      <td>hayır</td>\n",
       "      <td>0</td>\n",
       "      <td>65123</td>\n",
       "    </tr>\n",
       "  </tbody>\n",
       "</table>\n",
       "<p>64276 rows × 24 columns</p>\n",
       "</div>"
      ],
      "text/plain": [
       "       basvuru_yili  degerlendirme_puani cinsiyet universite_turu  \\\n",
       "0              2014                 52.0    erkek            özel   \n",
       "1              2014                 30.0    erkek            özel   \n",
       "2              2014                 18.0    erkek            özel   \n",
       "3              2014                 40.0    erkek            özel   \n",
       "5              2014                 37.0    erkek            özel   \n",
       "...             ...                  ...      ...             ...   \n",
       "65119          2022                  0.0    erkek          devlet   \n",
       "65120          2022                  0.0    erkek            özel   \n",
       "65121          2022                  0.0    erkek          devlet   \n",
       "65122          2022                  0.0    erkek          devlet   \n",
       "65123          2022                  0.0    erkek          devlet   \n",
       "\n",
       "       burslu_ise_burs_yuzdesi burs_aliyor_mu universite_kacinci_sinif  \\\n",
       "0                        100.0           evet                        3   \n",
       "1                        100.0          hayır                        3   \n",
       "2                        100.0          hayır                        1   \n",
       "3                        100.0           evet                        3   \n",
       "5                        100.0           evet                        3   \n",
       "...                        ...            ...                      ...   \n",
       "65119                      0.0          hayır                        2   \n",
       "65120                      0.0           evet                        2   \n",
       "65121                      0.0          hayır                        1   \n",
       "65122                      0.0          hayır                        4   \n",
       "65123                      0.0          hayır                        3   \n",
       "\n",
       "      universite_not_ortalamasi daha_once_baska_bir_universiteden_mezun_olmus  \\\n",
       "0                  2.50 ve üstü                                         hayır   \n",
       "1                  2.50 ve üstü                                         hayır   \n",
       "2                             0                                         hayır   \n",
       "3                  2.50 ve üstü                                         hayır   \n",
       "5                  2.50 ve üstü                                         hayır   \n",
       "...                         ...                                           ...   \n",
       "65119              2.50 ve altı                                         hayır   \n",
       "65120              2.50 ve altı                                         hayır   \n",
       "65121                         0                                         hayır   \n",
       "65122              2.50 ve altı                                         hayır   \n",
       "65123              2.50 ve altı                                         hayır   \n",
       "\n",
       "      baska_bir_kurumdan_burs_aliyor_mu  ...  baba_sektor kardes_sayisi  \\\n",
       "0                                 hayır  ...            0           1.0   \n",
       "1                                 hayır  ...            0           1.0   \n",
       "2                                 hayır  ...  ozel sektor           6.0   \n",
       "3                                 hayır  ...            0          10.0   \n",
       "5                                 hayır  ...         kamu           3.0   \n",
       "...                                 ...  ...          ...           ...   \n",
       "65119                             hayır  ...  ozel sektor           1.0   \n",
       "65120                             hayır  ...  ozel sektor           4.0   \n",
       "65121                             hayır  ...  ozel sektor           4.0   \n",
       "65122                              evet  ...            0           3.0   \n",
       "65123                             hayır  ...         kamu           2.0   \n",
       "\n",
       "      girisimcilik_kulupleri_tarzi_bir_kulube_uye_misiniz  \\\n",
       "0                                                   evet    \n",
       "1                                                  hayır    \n",
       "2                                                   evet    \n",
       "3                                                   evet    \n",
       "5                                                   evet    \n",
       "...                                                  ...    \n",
       "65119                                              hayır    \n",
       "65120                                              hayır    \n",
       "65121                                              hayır    \n",
       "65122                                              hayır    \n",
       "65123                                              hayır    \n",
       "\n",
       "      profesyonel_bir_spor_daliyla_mesgul_musunuz  \\\n",
       "0                                            evet   \n",
       "1                                           hayır   \n",
       "2                                           hayır   \n",
       "3                                           hayır   \n",
       "5                                           hayır   \n",
       "...                                           ...   \n",
       "65119                                       hayır   \n",
       "65120                                       hayır   \n",
       "65121                                       hayır   \n",
       "65122                                       hayır   \n",
       "65123                                       hayır   \n",
       "\n",
       "      aktif_olarak_bir_stk_uyesi_misiniz stk_projesine_katildiniz_mi  \\\n",
       "0                                  hayır                        evet   \n",
       "1                                  hayır                        evet   \n",
       "2                                  hayır                       hayır   \n",
       "3                                  hayır                        evet   \n",
       "5                                  hayır                       hayır   \n",
       "...                                  ...                         ...   \n",
       "65119                              hayır                       hayır   \n",
       "65120                              hayır                       hayır   \n",
       "65121                              hayır                       hayır   \n",
       "65122                              hayır                       hayır   \n",
       "65123                              hayır                       hayır   \n",
       "\n",
       "      girisimcilikle_ilgili_deneyiminiz_var_mi ingilizce_biliyor_musunuz  \\\n",
       "0                                        hayır                     hayır   \n",
       "1                                         evet                     hayır   \n",
       "2                                        hayır                     hayır   \n",
       "3                                        hayır                     hayır   \n",
       "5                                        hayır                     hayır   \n",
       "...                                        ...                       ...   \n",
       "65119                                    hayır                     hayır   \n",
       "65120                                    hayır                     hayır   \n",
       "65121                                    hayır                     hayır   \n",
       "65122                                    hayır                     hayır   \n",
       "65123                                    hayır                     hayır   \n",
       "\n",
       "      ingilizce_seviyeniz     id  \n",
       "0                       0      0  \n",
       "1                       0      1  \n",
       "2                       0      2  \n",
       "3                       0      3  \n",
       "5                       0      5  \n",
       "...                   ...    ...  \n",
       "65119                   0  65119  \n",
       "65120                   0  65120  \n",
       "65121                   0  65121  \n",
       "65122                   0  65122  \n",
       "65123                   0  65123  \n",
       "\n",
       "[64276 rows x 24 columns]"
      ]
     },
     "execution_count": 178,
     "metadata": {},
     "output_type": "execute_result"
    }
   ],
   "source": [
    "train_set"
   ]
  },
  {
   "cell_type": "code",
   "execution_count": 179,
   "id": "ae42ae9c",
   "metadata": {
    "execution": {
     "iopub.execute_input": "2024-09-11T09:11:09.525875Z",
     "iopub.status.busy": "2024-09-11T09:11:09.524622Z",
     "iopub.status.idle": "2024-09-11T09:11:09.634624Z",
     "shell.execute_reply": "2024-09-11T09:11:09.633351Z"
    },
    "papermill": {
     "duration": 0.182339,
     "end_time": "2024-09-11T09:11:09.638579",
     "exception": false,
     "start_time": "2024-09-11T09:11:09.456240",
     "status": "completed"
    },
    "tags": []
   },
   "outputs": [
    {
     "name": "stderr",
     "output_type": "stream",
     "text": [
      "/tmp/ipykernel_17/3621309780.py:1: SettingWithCopyWarning: \n",
      "A value is trying to be set on a copy of a slice from a DataFrame.\n",
      "Try using .loc[row_indexer,col_indexer] = value instead\n",
      "\n",
      "See the caveats in the documentation: https://pandas.pydata.org/pandas-docs/stable/user_guide/indexing.html#returning-a-view-versus-a-copy\n",
      "  train_set['cinsiyet'] = train_set['cinsiyet'].map({'erkek': 1, 'kadın': 0})\n",
      "/tmp/ipykernel_17/3621309780.py:2: SettingWithCopyWarning: \n",
      "A value is trying to be set on a copy of a slice from a DataFrame.\n",
      "Try using .loc[row_indexer,col_indexer] = value instead\n",
      "\n",
      "See the caveats in the documentation: https://pandas.pydata.org/pandas-docs/stable/user_guide/indexing.html#returning-a-view-versus-a-copy\n",
      "  train_set['universite_turu'] = train_set['universite_turu'].map({'özel': 1, 'devlet': 0})\n",
      "/tmp/ipykernel_17/3621309780.py:3: SettingWithCopyWarning: \n",
      "A value is trying to be set on a copy of a slice from a DataFrame.\n",
      "Try using .loc[row_indexer,col_indexer] = value instead\n",
      "\n",
      "See the caveats in the documentation: https://pandas.pydata.org/pandas-docs/stable/user_guide/indexing.html#returning-a-view-versus-a-copy\n",
      "  train_set['burs_aliyor_mu'] = train_set['burs_aliyor_mu'].map({'evet': 1, 'hayır': 0})\n",
      "/tmp/ipykernel_17/3621309780.py:4: SettingWithCopyWarning: \n",
      "A value is trying to be set on a copy of a slice from a DataFrame.\n",
      "Try using .loc[row_indexer,col_indexer] = value instead\n",
      "\n",
      "See the caveats in the documentation: https://pandas.pydata.org/pandas-docs/stable/user_guide/indexing.html#returning-a-view-versus-a-copy\n",
      "  train_set['daha_once_baska_bir_universiteden_mezun_olmus'] = train_set['daha_once_baska_bir_universiteden_mezun_olmus'].map({'evet': 1, 'hayır': 0})\n",
      "/tmp/ipykernel_17/3621309780.py:5: SettingWithCopyWarning: \n",
      "A value is trying to be set on a copy of a slice from a DataFrame.\n",
      "Try using .loc[row_indexer,col_indexer] = value instead\n",
      "\n",
      "See the caveats in the documentation: https://pandas.pydata.org/pandas-docs/stable/user_guide/indexing.html#returning-a-view-versus-a-copy\n",
      "  train_set['baska_bir_kurumdan_burs_aliyor_mu'] = train_set['baska_bir_kurumdan_burs_aliyor_mu'].map({'evet': 1, 'hayır': 0})\n",
      "/tmp/ipykernel_17/3621309780.py:6: SettingWithCopyWarning: \n",
      "A value is trying to be set on a copy of a slice from a DataFrame.\n",
      "Try using .loc[row_indexer,col_indexer] = value instead\n",
      "\n",
      "See the caveats in the documentation: https://pandas.pydata.org/pandas-docs/stable/user_guide/indexing.html#returning-a-view-versus-a-copy\n",
      "  train_set['anne_calisma_durumu'] = train_set['anne_calisma_durumu'].map({'evet': 1, 'hayır': 0, 'emekli':2})\n",
      "/tmp/ipykernel_17/3621309780.py:7: SettingWithCopyWarning: \n",
      "A value is trying to be set on a copy of a slice from a DataFrame.\n",
      "Try using .loc[row_indexer,col_indexer] = value instead\n",
      "\n",
      "See the caveats in the documentation: https://pandas.pydata.org/pandas-docs/stable/user_guide/indexing.html#returning-a-view-versus-a-copy\n",
      "  train_set['anne_sektor'] = train_set['anne_sektor'].map({'0': 0, 'kamu': 1, 'ozel sektor':2, 'diger':3})\n",
      "/tmp/ipykernel_17/3621309780.py:8: SettingWithCopyWarning: \n",
      "A value is trying to be set on a copy of a slice from a DataFrame.\n",
      "Try using .loc[row_indexer,col_indexer] = value instead\n",
      "\n",
      "See the caveats in the documentation: https://pandas.pydata.org/pandas-docs/stable/user_guide/indexing.html#returning-a-view-versus-a-copy\n",
      "  train_set['baba_calisma_durumu'] = train_set['baba_calisma_durumu'].map({'evet': 1, 'hayır': 0, 'emekli':2})\n",
      "/tmp/ipykernel_17/3621309780.py:9: SettingWithCopyWarning: \n",
      "A value is trying to be set on a copy of a slice from a DataFrame.\n",
      "Try using .loc[row_indexer,col_indexer] = value instead\n",
      "\n",
      "See the caveats in the documentation: https://pandas.pydata.org/pandas-docs/stable/user_guide/indexing.html#returning-a-view-versus-a-copy\n",
      "  train_set['baba_sektor'] = train_set['baba_sektor'].map({'0': 0, 'kamu': 1, 'ozel sektor':2, 'diger':3})\n",
      "/tmp/ipykernel_17/3621309780.py:10: SettingWithCopyWarning: \n",
      "A value is trying to be set on a copy of a slice from a DataFrame.\n",
      "Try using .loc[row_indexer,col_indexer] = value instead\n",
      "\n",
      "See the caveats in the documentation: https://pandas.pydata.org/pandas-docs/stable/user_guide/indexing.html#returning-a-view-versus-a-copy\n",
      "  train_set['ingilizce_seviyeniz'] = train_set['ingilizce_seviyeniz'].map({'0': 0, 'baslangc': 1, 'orta':2, 'ileri':3})\n",
      "/tmp/ipykernel_17/3621309780.py:11: SettingWithCopyWarning: \n",
      "A value is trying to be set on a copy of a slice from a DataFrame.\n",
      "Try using .loc[row_indexer,col_indexer] = value instead\n",
      "\n",
      "See the caveats in the documentation: https://pandas.pydata.org/pandas-docs/stable/user_guide/indexing.html#returning-a-view-versus-a-copy\n",
      "  train_set['girisimcilik_kulupleri_tarzi_bir_kulube_uye_misiniz'] = train_set['girisimcilik_kulupleri_tarzi_bir_kulube_uye_misiniz'].map({'evet': 1, 'hayır': 0})\n",
      "/tmp/ipykernel_17/3621309780.py:12: SettingWithCopyWarning: \n",
      "A value is trying to be set on a copy of a slice from a DataFrame.\n",
      "Try using .loc[row_indexer,col_indexer] = value instead\n",
      "\n",
      "See the caveats in the documentation: https://pandas.pydata.org/pandas-docs/stable/user_guide/indexing.html#returning-a-view-versus-a-copy\n",
      "  train_set['profesyonel_bir_spor_daliyla_mesgul_musunuz'] = train_set['profesyonel_bir_spor_daliyla_mesgul_musunuz'].map({'evet': 1, 'hayır': 0})\n",
      "/tmp/ipykernel_17/3621309780.py:13: SettingWithCopyWarning: \n",
      "A value is trying to be set on a copy of a slice from a DataFrame.\n",
      "Try using .loc[row_indexer,col_indexer] = value instead\n",
      "\n",
      "See the caveats in the documentation: https://pandas.pydata.org/pandas-docs/stable/user_guide/indexing.html#returning-a-view-versus-a-copy\n",
      "  train_set['aktif_olarak_bir_stk_uyesi_misiniz'] = train_set['aktif_olarak_bir_stk_uyesi_misiniz'].map({'evet': 1, 'hayır': 0})\n",
      "/tmp/ipykernel_17/3621309780.py:14: SettingWithCopyWarning: \n",
      "A value is trying to be set on a copy of a slice from a DataFrame.\n",
      "Try using .loc[row_indexer,col_indexer] = value instead\n",
      "\n",
      "See the caveats in the documentation: https://pandas.pydata.org/pandas-docs/stable/user_guide/indexing.html#returning-a-view-versus-a-copy\n",
      "  train_set['stk_projesine_katildiniz_mi'] = train_set['stk_projesine_katildiniz_mi'].map({'evet': 1, 'hayır': 0})\n",
      "/tmp/ipykernel_17/3621309780.py:15: SettingWithCopyWarning: \n",
      "A value is trying to be set on a copy of a slice from a DataFrame.\n",
      "Try using .loc[row_indexer,col_indexer] = value instead\n",
      "\n",
      "See the caveats in the documentation: https://pandas.pydata.org/pandas-docs/stable/user_guide/indexing.html#returning-a-view-versus-a-copy\n",
      "  train_set['girisimcilikle_ilgili_deneyiminiz_var_mi'] = train_set['girisimcilikle_ilgili_deneyiminiz_var_mi'].map({'evet': 1, 'hayır': 0})\n",
      "/tmp/ipykernel_17/3621309780.py:16: SettingWithCopyWarning: \n",
      "A value is trying to be set on a copy of a slice from a DataFrame.\n",
      "Try using .loc[row_indexer,col_indexer] = value instead\n",
      "\n",
      "See the caveats in the documentation: https://pandas.pydata.org/pandas-docs/stable/user_guide/indexing.html#returning-a-view-versus-a-copy\n",
      "  train_set['ingilizce_biliyor_musunuz'] = train_set['ingilizce_biliyor_musunuz'].map({'evet': 1, 'hayır': 0})\n"
     ]
    }
   ],
   "source": [
    "train_set['cinsiyet'] = train_set['cinsiyet'].map({'erkek': 1, 'kadın': 0})\n",
    "train_set['universite_turu'] = train_set['universite_turu'].map({'özel': 1, 'devlet': 0})\n",
    "train_set['burs_aliyor_mu'] = train_set['burs_aliyor_mu'].map({'evet': 1, 'hayır': 0})\n",
    "train_set['daha_once_baska_bir_universiteden_mezun_olmus'] = train_set['daha_once_baska_bir_universiteden_mezun_olmus'].map({'evet': 1, 'hayır': 0})\n",
    "train_set['baska_bir_kurumdan_burs_aliyor_mu'] = train_set['baska_bir_kurumdan_burs_aliyor_mu'].map({'evet': 1, 'hayır': 0})\n",
    "train_set['anne_calisma_durumu'] = train_set['anne_calisma_durumu'].map({'evet': 1, 'hayır': 0, 'emekli':2})\n",
    "train_set['anne_sektor'] = train_set['anne_sektor'].map({'0': 0, 'kamu': 1, 'ozel sektor':2, 'diger':3})\n",
    "train_set['baba_calisma_durumu'] = train_set['baba_calisma_durumu'].map({'evet': 1, 'hayır': 0, 'emekli':2})\n",
    "train_set['baba_sektor'] = train_set['baba_sektor'].map({'0': 0, 'kamu': 1, 'ozel sektor':2, 'diger':3})\n",
    "train_set['ingilizce_seviyeniz'] = train_set['ingilizce_seviyeniz'].map({'0': 0, 'baslangc': 1, 'orta':2, 'ileri':3})\n",
    "train_set['girisimcilik_kulupleri_tarzi_bir_kulube_uye_misiniz'] = train_set['girisimcilik_kulupleri_tarzi_bir_kulube_uye_misiniz'].map({'evet': 1, 'hayır': 0})\n",
    "train_set['profesyonel_bir_spor_daliyla_mesgul_musunuz'] = train_set['profesyonel_bir_spor_daliyla_mesgul_musunuz'].map({'evet': 1, 'hayır': 0})\n",
    "train_set['aktif_olarak_bir_stk_uyesi_misiniz'] = train_set['aktif_olarak_bir_stk_uyesi_misiniz'].map({'evet': 1, 'hayır': 0})\n",
    "train_set['stk_projesine_katildiniz_mi'] = train_set['stk_projesine_katildiniz_mi'].map({'evet': 1, 'hayır': 0})\n",
    "train_set['girisimcilikle_ilgili_deneyiminiz_var_mi'] = train_set['girisimcilikle_ilgili_deneyiminiz_var_mi'].map({'evet': 1, 'hayır': 0})\n",
    "train_set['ingilizce_biliyor_musunuz'] = train_set['ingilizce_biliyor_musunuz'].map({'evet': 1, 'hayır': 0})"
   ]
  },
  {
   "cell_type": "code",
   "execution_count": 180,
   "id": "ba541692",
   "metadata": {
    "execution": {
     "iopub.execute_input": "2024-09-11T09:11:09.778663Z",
     "iopub.status.busy": "2024-09-11T09:11:09.778246Z",
     "iopub.status.idle": "2024-09-11T09:11:09.792230Z",
     "shell.execute_reply": "2024-09-11T09:11:09.791061Z"
    },
    "papermill": {
     "duration": 0.087879,
     "end_time": "2024-09-11T09:11:09.794812",
     "exception": false,
     "start_time": "2024-09-11T09:11:09.706933",
     "status": "completed"
    },
    "tags": []
   },
   "outputs": [
    {
     "name": "stderr",
     "output_type": "stream",
     "text": [
      "/tmp/ipykernel_17/3743997769.py:14: SettingWithCopyWarning: \n",
      "A value is trying to be set on a copy of a slice from a DataFrame.\n",
      "Try using .loc[row_indexer,col_indexer] = value instead\n",
      "\n",
      "See the caveats in the documentation: https://pandas.pydata.org/pandas-docs/stable/user_guide/indexing.html#returning-a-view-versus-a-copy\n",
      "  train_set['universite_kacinci_sinif'] = train_set['universite_kacinci_sinif'].map(kategori_mapping)\n"
     ]
    }
   ],
   "source": [
    "# Kategorize etmek için mapping sözlüğü oluşturma\n",
    "kategori_mapping = {\n",
    "    'hazırlık': 0,      # Hazırlık sınıfı\n",
    "    '1': 1,             # 1. sınıf\n",
    "    '2': 2,             # 2. sınıf\n",
    "    '3': 3,             # 3. sınıf\n",
    "    '4': 4,             # 4. sınıf\n",
    "    '5': 5,             # Mezun\n",
    "    '6': 6,             # Yüksek lisans\n",
    "    'mezun': 7,         # Mezun\n",
    "}\n",
    "\n",
    "# Mapping işlemi\n",
    "train_set['universite_kacinci_sinif'] = train_set['universite_kacinci_sinif'].map(kategori_mapping)"
   ]
  },
  {
   "cell_type": "code",
   "execution_count": 181,
   "id": "5ed323d6",
   "metadata": {
    "execution": {
     "iopub.execute_input": "2024-09-11T09:11:09.934935Z",
     "iopub.status.busy": "2024-09-11T09:11:09.934113Z",
     "iopub.status.idle": "2024-09-11T09:11:09.947397Z",
     "shell.execute_reply": "2024-09-11T09:11:09.945943Z"
    },
    "papermill": {
     "duration": 0.087405,
     "end_time": "2024-09-11T09:11:09.950059",
     "exception": false,
     "start_time": "2024-09-11T09:11:09.862654",
     "status": "completed"
    },
    "tags": []
   },
   "outputs": [
    {
     "name": "stderr",
     "output_type": "stream",
     "text": [
      "/tmp/ipykernel_17/476770626.py:13: SettingWithCopyWarning: \n",
      "A value is trying to be set on a copy of a slice from a DataFrame.\n",
      "Try using .loc[row_indexer,col_indexer] = value instead\n",
      "\n",
      "See the caveats in the documentation: https://pandas.pydata.org/pandas-docs/stable/user_guide/indexing.html#returning-a-view-versus-a-copy\n",
      "  train_set['baba_egitim_durumu'] = train_set['baba_egitim_durumu'].map(kategori_mapping)\n"
     ]
    }
   ],
   "source": [
    "# Kategorize etmek için mapping sözlüğü oluşturma\n",
    "kategori_mapping = {\n",
    "    '0': 0,     \n",
    "    'ilkokul': 1,             \n",
    "    'ortaokul': 2,            \n",
    "    'lise': 3,            \n",
    "    'universite': 4,            \n",
    "    'yuksek lisans': 5,            \n",
    "    'doktora': 6\n",
    "}\n",
    "\n",
    "# Mapping işlemi\n",
    "train_set['baba_egitim_durumu'] = train_set['baba_egitim_durumu'].map(kategori_mapping)"
   ]
  },
  {
   "cell_type": "code",
   "execution_count": 182,
   "id": "16a1933d",
   "metadata": {
    "execution": {
     "iopub.execute_input": "2024-09-11T09:11:10.088234Z",
     "iopub.status.busy": "2024-09-11T09:11:10.087826Z",
     "iopub.status.idle": "2024-09-11T09:11:10.106631Z",
     "shell.execute_reply": "2024-09-11T09:11:10.105356Z"
    },
    "papermill": {
     "duration": 0.090829,
     "end_time": "2024-09-11T09:11:10.109249",
     "exception": false,
     "start_time": "2024-09-11T09:11:10.018420",
     "status": "completed"
    },
    "tags": []
   },
   "outputs": [
    {
     "name": "stderr",
     "output_type": "stream",
     "text": [
      "/tmp/ipykernel_17/654149944.py:8: SettingWithCopyWarning: \n",
      "A value is trying to be set on a copy of a slice from a DataFrame.\n",
      "Try using .loc[row_indexer,col_indexer] = value instead\n",
      "\n",
      "See the caveats in the documentation: https://pandas.pydata.org/pandas-docs/stable/user_guide/indexing.html#returning-a-view-versus-a-copy\n",
      "  train_set['universite_not_ortalamasi'] = train_set['universite_not_ortalamasi'].map(kategori_mapping)\n"
     ]
    }
   ],
   "source": [
    "# Kategorize etmek için mapping sözlüğü oluşturma\n",
    "kategori_mapping = {\n",
    "    '2.50 ve üstü': 2,      \n",
    "    '2.50 ve altı': 1,             \n",
    "    '0': 0             }\n",
    "\n",
    "# Mapping işlemi\n",
    "train_set['universite_not_ortalamasi'] = train_set['universite_not_ortalamasi'].map(kategori_mapping)"
   ]
  },
  {
   "cell_type": "code",
   "execution_count": 183,
   "id": "ca70d60c",
   "metadata": {
    "execution": {
     "iopub.execute_input": "2024-09-11T09:11:10.248923Z",
     "iopub.status.busy": "2024-09-11T09:11:10.248483Z",
     "iopub.status.idle": "2024-09-11T09:11:10.261007Z",
     "shell.execute_reply": "2024-09-11T09:11:10.259539Z"
    },
    "papermill": {
     "duration": 0.088663,
     "end_time": "2024-09-11T09:11:10.266784",
     "exception": false,
     "start_time": "2024-09-11T09:11:10.178121",
     "status": "completed"
    },
    "tags": []
   },
   "outputs": [
    {
     "name": "stderr",
     "output_type": "stream",
     "text": [
      "/tmp/ipykernel_17/2449349108.py:7: SettingWithCopyWarning: \n",
      "A value is trying to be set on a copy of a slice from a DataFrame.\n",
      "Try using .loc[row_indexer,col_indexer] = value instead\n",
      "\n",
      "See the caveats in the documentation: https://pandas.pydata.org/pandas-docs/stable/user_guide/indexing.html#returning-a-view-versus-a-copy\n",
      "  train_set['burslu_ise_burs_yuzdesi'] = pd.cut(train_set['burslu_ise_burs_yuzdesi'], bins=bins, labels=labels, right=True)\n"
     ]
    }
   ],
   "source": [
    "# Kategorilere ayırma (0-25, 25-50, 50-75, 75-100) ve numaralandırma (0, 1, 2, 3)\n",
    "bins = [-1, 25, 50, 75, 100]\n",
    "labels = [0, 1, 2, 3]  # Her aralığa karşılık gelen numaralar\n",
    "\n",
    "\n",
    "# Verileri sınıflandırma\n",
    "train_set['burslu_ise_burs_yuzdesi'] = pd.cut(train_set['burslu_ise_burs_yuzdesi'], bins=bins, labels=labels, right=True)"
   ]
  },
  {
   "cell_type": "code",
   "execution_count": 184,
   "id": "e51efa5d",
   "metadata": {
    "execution": {
     "iopub.execute_input": "2024-09-11T09:11:10.420852Z",
     "iopub.status.busy": "2024-09-11T09:11:10.420394Z",
     "iopub.status.idle": "2024-09-11T09:11:10.425893Z",
     "shell.execute_reply": "2024-09-11T09:11:10.424688Z"
    },
    "papermill": {
     "duration": 0.092185,
     "end_time": "2024-09-11T09:11:10.428761",
     "exception": false,
     "start_time": "2024-09-11T09:11:10.336576",
     "status": "completed"
    },
    "tags": []
   },
   "outputs": [],
   "source": [
    "pd.set_option('display.max_columns', None)\n",
    "#pd.set_option('display.max_rows', None) # Satır sayısı görüntüleme.\n",
    "pd.reset_option(\"display.max_rows\")"
   ]
  },
  {
   "cell_type": "code",
   "execution_count": 185,
   "id": "c10f4a89",
   "metadata": {
    "execution": {
     "iopub.execute_input": "2024-09-11T09:11:10.576758Z",
     "iopub.status.busy": "2024-09-11T09:11:10.575770Z",
     "iopub.status.idle": "2024-09-11T09:11:10.580716Z",
     "shell.execute_reply": "2024-09-11T09:11:10.579615Z"
    },
    "papermill": {
     "duration": 0.078088,
     "end_time": "2024-09-11T09:11:10.583212",
     "exception": false,
     "start_time": "2024-09-11T09:11:10.505124",
     "status": "completed"
    },
    "tags": []
   },
   "outputs": [],
   "source": [
    "# Pandas'ın get_dummies fonksiyonu ile dummy variable oluşturma.\n",
    "#df_dummies = pd.get_dummies(train_set['cinsiyet'], drop_first=True)\n",
    "#yeni = pd.concat([train_set, df_dummies], axis=1)  # Eski dataframe ile dummy variable'ları birleştir"
   ]
  },
  {
   "cell_type": "code",
   "execution_count": 186,
   "id": "87c001d4",
   "metadata": {
    "execution": {
     "iopub.execute_input": "2024-09-11T09:11:10.722801Z",
     "iopub.status.busy": "2024-09-11T09:11:10.721806Z",
     "iopub.status.idle": "2024-09-11T09:11:10.749497Z",
     "shell.execute_reply": "2024-09-11T09:11:10.748045Z"
    },
    "papermill": {
     "duration": 0.10031,
     "end_time": "2024-09-11T09:11:10.752283",
     "exception": false,
     "start_time": "2024-09-11T09:11:10.651973",
     "status": "completed"
    },
    "tags": []
   },
   "outputs": [
    {
     "data": {
      "text/html": [
       "<div>\n",
       "<style scoped>\n",
       "    .dataframe tbody tr th:only-of-type {\n",
       "        vertical-align: middle;\n",
       "    }\n",
       "\n",
       "    .dataframe tbody tr th {\n",
       "        vertical-align: top;\n",
       "    }\n",
       "\n",
       "    .dataframe thead th {\n",
       "        text-align: right;\n",
       "    }\n",
       "</style>\n",
       "<table border=\"1\" class=\"dataframe\">\n",
       "  <thead>\n",
       "    <tr style=\"text-align: right;\">\n",
       "      <th></th>\n",
       "      <th>basvuru_yili</th>\n",
       "      <th>degerlendirme_puani</th>\n",
       "      <th>cinsiyet</th>\n",
       "      <th>universite_turu</th>\n",
       "      <th>burslu_ise_burs_yuzdesi</th>\n",
       "      <th>burs_aliyor_mu</th>\n",
       "      <th>universite_kacinci_sinif</th>\n",
       "      <th>universite_not_ortalamasi</th>\n",
       "      <th>daha_once_baska_bir_universiteden_mezun_olmus</th>\n",
       "      <th>baska_bir_kurumdan_burs_aliyor_mu</th>\n",
       "      <th>anne_calisma_durumu</th>\n",
       "      <th>anne_sektor</th>\n",
       "      <th>baba_egitim_durumu</th>\n",
       "      <th>baba_calisma_durumu</th>\n",
       "      <th>baba_sektor</th>\n",
       "      <th>kardes_sayisi</th>\n",
       "      <th>girisimcilik_kulupleri_tarzi_bir_kulube_uye_misiniz</th>\n",
       "      <th>profesyonel_bir_spor_daliyla_mesgul_musunuz</th>\n",
       "      <th>aktif_olarak_bir_stk_uyesi_misiniz</th>\n",
       "      <th>stk_projesine_katildiniz_mi</th>\n",
       "      <th>girisimcilikle_ilgili_deneyiminiz_var_mi</th>\n",
       "      <th>ingilizce_biliyor_musunuz</th>\n",
       "      <th>ingilizce_seviyeniz</th>\n",
       "      <th>id</th>\n",
       "    </tr>\n",
       "  </thead>\n",
       "  <tbody>\n",
       "    <tr>\n",
       "      <th>0</th>\n",
       "      <td>2014</td>\n",
       "      <td>52.0</td>\n",
       "      <td>1</td>\n",
       "      <td>1</td>\n",
       "      <td>3</td>\n",
       "      <td>1</td>\n",
       "      <td>3</td>\n",
       "      <td>2</td>\n",
       "      <td>0</td>\n",
       "      <td>0</td>\n",
       "      <td>0</td>\n",
       "      <td>0</td>\n",
       "      <td>4</td>\n",
       "      <td>2</td>\n",
       "      <td>0</td>\n",
       "      <td>1.0</td>\n",
       "      <td>1</td>\n",
       "      <td>1</td>\n",
       "      <td>0</td>\n",
       "      <td>1</td>\n",
       "      <td>0</td>\n",
       "      <td>0</td>\n",
       "      <td>0</td>\n",
       "      <td>0</td>\n",
       "    </tr>\n",
       "    <tr>\n",
       "      <th>1</th>\n",
       "      <td>2014</td>\n",
       "      <td>30.0</td>\n",
       "      <td>1</td>\n",
       "      <td>1</td>\n",
       "      <td>3</td>\n",
       "      <td>0</td>\n",
       "      <td>3</td>\n",
       "      <td>2</td>\n",
       "      <td>0</td>\n",
       "      <td>0</td>\n",
       "      <td>1</td>\n",
       "      <td>1</td>\n",
       "      <td>5</td>\n",
       "      <td>2</td>\n",
       "      <td>0</td>\n",
       "      <td>1.0</td>\n",
       "      <td>0</td>\n",
       "      <td>0</td>\n",
       "      <td>0</td>\n",
       "      <td>1</td>\n",
       "      <td>1</td>\n",
       "      <td>0</td>\n",
       "      <td>0</td>\n",
       "      <td>1</td>\n",
       "    </tr>\n",
       "    <tr>\n",
       "      <th>2</th>\n",
       "      <td>2014</td>\n",
       "      <td>18.0</td>\n",
       "      <td>1</td>\n",
       "      <td>1</td>\n",
       "      <td>3</td>\n",
       "      <td>0</td>\n",
       "      <td>1</td>\n",
       "      <td>0</td>\n",
       "      <td>0</td>\n",
       "      <td>0</td>\n",
       "      <td>0</td>\n",
       "      <td>0</td>\n",
       "      <td>1</td>\n",
       "      <td>1</td>\n",
       "      <td>2</td>\n",
       "      <td>6.0</td>\n",
       "      <td>1</td>\n",
       "      <td>0</td>\n",
       "      <td>0</td>\n",
       "      <td>0</td>\n",
       "      <td>0</td>\n",
       "      <td>0</td>\n",
       "      <td>0</td>\n",
       "      <td>2</td>\n",
       "    </tr>\n",
       "    <tr>\n",
       "      <th>3</th>\n",
       "      <td>2014</td>\n",
       "      <td>40.0</td>\n",
       "      <td>1</td>\n",
       "      <td>1</td>\n",
       "      <td>3</td>\n",
       "      <td>1</td>\n",
       "      <td>3</td>\n",
       "      <td>2</td>\n",
       "      <td>0</td>\n",
       "      <td>0</td>\n",
       "      <td>0</td>\n",
       "      <td>0</td>\n",
       "      <td>4</td>\n",
       "      <td>2</td>\n",
       "      <td>0</td>\n",
       "      <td>10.0</td>\n",
       "      <td>1</td>\n",
       "      <td>0</td>\n",
       "      <td>0</td>\n",
       "      <td>1</td>\n",
       "      <td>0</td>\n",
       "      <td>0</td>\n",
       "      <td>0</td>\n",
       "      <td>3</td>\n",
       "    </tr>\n",
       "    <tr>\n",
       "      <th>5</th>\n",
       "      <td>2014</td>\n",
       "      <td>37.0</td>\n",
       "      <td>1</td>\n",
       "      <td>1</td>\n",
       "      <td>3</td>\n",
       "      <td>1</td>\n",
       "      <td>3</td>\n",
       "      <td>2</td>\n",
       "      <td>0</td>\n",
       "      <td>0</td>\n",
       "      <td>0</td>\n",
       "      <td>0</td>\n",
       "      <td>5</td>\n",
       "      <td>1</td>\n",
       "      <td>1</td>\n",
       "      <td>3.0</td>\n",
       "      <td>1</td>\n",
       "      <td>0</td>\n",
       "      <td>0</td>\n",
       "      <td>0</td>\n",
       "      <td>0</td>\n",
       "      <td>0</td>\n",
       "      <td>0</td>\n",
       "      <td>5</td>\n",
       "    </tr>\n",
       "    <tr>\n",
       "      <th>...</th>\n",
       "      <td>...</td>\n",
       "      <td>...</td>\n",
       "      <td>...</td>\n",
       "      <td>...</td>\n",
       "      <td>...</td>\n",
       "      <td>...</td>\n",
       "      <td>...</td>\n",
       "      <td>...</td>\n",
       "      <td>...</td>\n",
       "      <td>...</td>\n",
       "      <td>...</td>\n",
       "      <td>...</td>\n",
       "      <td>...</td>\n",
       "      <td>...</td>\n",
       "      <td>...</td>\n",
       "      <td>...</td>\n",
       "      <td>...</td>\n",
       "      <td>...</td>\n",
       "      <td>...</td>\n",
       "      <td>...</td>\n",
       "      <td>...</td>\n",
       "      <td>...</td>\n",
       "      <td>...</td>\n",
       "      <td>...</td>\n",
       "    </tr>\n",
       "    <tr>\n",
       "      <th>65119</th>\n",
       "      <td>2022</td>\n",
       "      <td>0.0</td>\n",
       "      <td>1</td>\n",
       "      <td>0</td>\n",
       "      <td>0</td>\n",
       "      <td>0</td>\n",
       "      <td>2</td>\n",
       "      <td>1</td>\n",
       "      <td>0</td>\n",
       "      <td>0</td>\n",
       "      <td>0</td>\n",
       "      <td>0</td>\n",
       "      <td>1</td>\n",
       "      <td>1</td>\n",
       "      <td>2</td>\n",
       "      <td>1.0</td>\n",
       "      <td>0</td>\n",
       "      <td>0</td>\n",
       "      <td>0</td>\n",
       "      <td>0</td>\n",
       "      <td>0</td>\n",
       "      <td>0</td>\n",
       "      <td>0</td>\n",
       "      <td>65119</td>\n",
       "    </tr>\n",
       "    <tr>\n",
       "      <th>65120</th>\n",
       "      <td>2022</td>\n",
       "      <td>0.0</td>\n",
       "      <td>1</td>\n",
       "      <td>1</td>\n",
       "      <td>0</td>\n",
       "      <td>1</td>\n",
       "      <td>2</td>\n",
       "      <td>1</td>\n",
       "      <td>0</td>\n",
       "      <td>0</td>\n",
       "      <td>0</td>\n",
       "      <td>0</td>\n",
       "      <td>2</td>\n",
       "      <td>1</td>\n",
       "      <td>2</td>\n",
       "      <td>4.0</td>\n",
       "      <td>0</td>\n",
       "      <td>0</td>\n",
       "      <td>0</td>\n",
       "      <td>0</td>\n",
       "      <td>0</td>\n",
       "      <td>0</td>\n",
       "      <td>0</td>\n",
       "      <td>65120</td>\n",
       "    </tr>\n",
       "    <tr>\n",
       "      <th>65121</th>\n",
       "      <td>2022</td>\n",
       "      <td>0.0</td>\n",
       "      <td>1</td>\n",
       "      <td>0</td>\n",
       "      <td>0</td>\n",
       "      <td>0</td>\n",
       "      <td>1</td>\n",
       "      <td>0</td>\n",
       "      <td>0</td>\n",
       "      <td>0</td>\n",
       "      <td>0</td>\n",
       "      <td>0</td>\n",
       "      <td>3</td>\n",
       "      <td>1</td>\n",
       "      <td>2</td>\n",
       "      <td>4.0</td>\n",
       "      <td>0</td>\n",
       "      <td>0</td>\n",
       "      <td>0</td>\n",
       "      <td>0</td>\n",
       "      <td>0</td>\n",
       "      <td>0</td>\n",
       "      <td>0</td>\n",
       "      <td>65121</td>\n",
       "    </tr>\n",
       "    <tr>\n",
       "      <th>65122</th>\n",
       "      <td>2022</td>\n",
       "      <td>0.0</td>\n",
       "      <td>1</td>\n",
       "      <td>0</td>\n",
       "      <td>0</td>\n",
       "      <td>0</td>\n",
       "      <td>4</td>\n",
       "      <td>1</td>\n",
       "      <td>0</td>\n",
       "      <td>1</td>\n",
       "      <td>0</td>\n",
       "      <td>0</td>\n",
       "      <td>3</td>\n",
       "      <td>0</td>\n",
       "      <td>0</td>\n",
       "      <td>3.0</td>\n",
       "      <td>0</td>\n",
       "      <td>0</td>\n",
       "      <td>0</td>\n",
       "      <td>0</td>\n",
       "      <td>0</td>\n",
       "      <td>0</td>\n",
       "      <td>0</td>\n",
       "      <td>65122</td>\n",
       "    </tr>\n",
       "    <tr>\n",
       "      <th>65123</th>\n",
       "      <td>2022</td>\n",
       "      <td>0.0</td>\n",
       "      <td>1</td>\n",
       "      <td>0</td>\n",
       "      <td>0</td>\n",
       "      <td>0</td>\n",
       "      <td>3</td>\n",
       "      <td>1</td>\n",
       "      <td>0</td>\n",
       "      <td>0</td>\n",
       "      <td>1</td>\n",
       "      <td>2</td>\n",
       "      <td>3</td>\n",
       "      <td>1</td>\n",
       "      <td>1</td>\n",
       "      <td>2.0</td>\n",
       "      <td>0</td>\n",
       "      <td>0</td>\n",
       "      <td>0</td>\n",
       "      <td>0</td>\n",
       "      <td>0</td>\n",
       "      <td>0</td>\n",
       "      <td>0</td>\n",
       "      <td>65123</td>\n",
       "    </tr>\n",
       "  </tbody>\n",
       "</table>\n",
       "<p>64276 rows × 24 columns</p>\n",
       "</div>"
      ],
      "text/plain": [
       "       basvuru_yili  degerlendirme_puani  cinsiyet  universite_turu  \\\n",
       "0              2014                 52.0         1                1   \n",
       "1              2014                 30.0         1                1   \n",
       "2              2014                 18.0         1                1   \n",
       "3              2014                 40.0         1                1   \n",
       "5              2014                 37.0         1                1   \n",
       "...             ...                  ...       ...              ...   \n",
       "65119          2022                  0.0         1                0   \n",
       "65120          2022                  0.0         1                1   \n",
       "65121          2022                  0.0         1                0   \n",
       "65122          2022                  0.0         1                0   \n",
       "65123          2022                  0.0         1                0   \n",
       "\n",
       "      burslu_ise_burs_yuzdesi  burs_aliyor_mu  universite_kacinci_sinif  \\\n",
       "0                           3               1                         3   \n",
       "1                           3               0                         3   \n",
       "2                           3               0                         1   \n",
       "3                           3               1                         3   \n",
       "5                           3               1                         3   \n",
       "...                       ...             ...                       ...   \n",
       "65119                       0               0                         2   \n",
       "65120                       0               1                         2   \n",
       "65121                       0               0                         1   \n",
       "65122                       0               0                         4   \n",
       "65123                       0               0                         3   \n",
       "\n",
       "       universite_not_ortalamasi  \\\n",
       "0                              2   \n",
       "1                              2   \n",
       "2                              0   \n",
       "3                              2   \n",
       "5                              2   \n",
       "...                          ...   \n",
       "65119                          1   \n",
       "65120                          1   \n",
       "65121                          0   \n",
       "65122                          1   \n",
       "65123                          1   \n",
       "\n",
       "       daha_once_baska_bir_universiteden_mezun_olmus  \\\n",
       "0                                                  0   \n",
       "1                                                  0   \n",
       "2                                                  0   \n",
       "3                                                  0   \n",
       "5                                                  0   \n",
       "...                                              ...   \n",
       "65119                                              0   \n",
       "65120                                              0   \n",
       "65121                                              0   \n",
       "65122                                              0   \n",
       "65123                                              0   \n",
       "\n",
       "       baska_bir_kurumdan_burs_aliyor_mu  anne_calisma_durumu  anne_sektor  \\\n",
       "0                                      0                    0            0   \n",
       "1                                      0                    1            1   \n",
       "2                                      0                    0            0   \n",
       "3                                      0                    0            0   \n",
       "5                                      0                    0            0   \n",
       "...                                  ...                  ...          ...   \n",
       "65119                                  0                    0            0   \n",
       "65120                                  0                    0            0   \n",
       "65121                                  0                    0            0   \n",
       "65122                                  1                    0            0   \n",
       "65123                                  0                    1            2   \n",
       "\n",
       "       baba_egitim_durumu  baba_calisma_durumu  baba_sektor kardes_sayisi  \\\n",
       "0                       4                    2            0           1.0   \n",
       "1                       5                    2            0           1.0   \n",
       "2                       1                    1            2           6.0   \n",
       "3                       4                    2            0          10.0   \n",
       "5                       5                    1            1           3.0   \n",
       "...                   ...                  ...          ...           ...   \n",
       "65119                   1                    1            2           1.0   \n",
       "65120                   2                    1            2           4.0   \n",
       "65121                   3                    1            2           4.0   \n",
       "65122                   3                    0            0           3.0   \n",
       "65123                   3                    1            1           2.0   \n",
       "\n",
       "       girisimcilik_kulupleri_tarzi_bir_kulube_uye_misiniz  \\\n",
       "0                                                      1     \n",
       "1                                                      0     \n",
       "2                                                      1     \n",
       "3                                                      1     \n",
       "5                                                      1     \n",
       "...                                                  ...     \n",
       "65119                                                  0     \n",
       "65120                                                  0     \n",
       "65121                                                  0     \n",
       "65122                                                  0     \n",
       "65123                                                  0     \n",
       "\n",
       "       profesyonel_bir_spor_daliyla_mesgul_musunuz  \\\n",
       "0                                                1   \n",
       "1                                                0   \n",
       "2                                                0   \n",
       "3                                                0   \n",
       "5                                                0   \n",
       "...                                            ...   \n",
       "65119                                            0   \n",
       "65120                                            0   \n",
       "65121                                            0   \n",
       "65122                                            0   \n",
       "65123                                            0   \n",
       "\n",
       "       aktif_olarak_bir_stk_uyesi_misiniz  stk_projesine_katildiniz_mi  \\\n",
       "0                                       0                            1   \n",
       "1                                       0                            1   \n",
       "2                                       0                            0   \n",
       "3                                       0                            1   \n",
       "5                                       0                            0   \n",
       "...                                   ...                          ...   \n",
       "65119                                   0                            0   \n",
       "65120                                   0                            0   \n",
       "65121                                   0                            0   \n",
       "65122                                   0                            0   \n",
       "65123                                   0                            0   \n",
       "\n",
       "       girisimcilikle_ilgili_deneyiminiz_var_mi  ingilizce_biliyor_musunuz  \\\n",
       "0                                             0                          0   \n",
       "1                                             1                          0   \n",
       "2                                             0                          0   \n",
       "3                                             0                          0   \n",
       "5                                             0                          0   \n",
       "...                                         ...                        ...   \n",
       "65119                                         0                          0   \n",
       "65120                                         0                          0   \n",
       "65121                                         0                          0   \n",
       "65122                                         0                          0   \n",
       "65123                                         0                          0   \n",
       "\n",
       "       ingilizce_seviyeniz     id  \n",
       "0                        0      0  \n",
       "1                        0      1  \n",
       "2                        0      2  \n",
       "3                        0      3  \n",
       "5                        0      5  \n",
       "...                    ...    ...  \n",
       "65119                    0  65119  \n",
       "65120                    0  65120  \n",
       "65121                    0  65121  \n",
       "65122                    0  65122  \n",
       "65123                    0  65123  \n",
       "\n",
       "[64276 rows x 24 columns]"
      ]
     },
     "execution_count": 186,
     "metadata": {},
     "output_type": "execute_result"
    }
   ],
   "source": [
    "train_set"
   ]
  },
  {
   "cell_type": "code",
   "execution_count": 187,
   "id": "5869980e",
   "metadata": {
    "execution": {
     "iopub.execute_input": "2024-09-11T09:11:10.893472Z",
     "iopub.status.busy": "2024-09-11T09:11:10.893055Z",
     "iopub.status.idle": "2024-09-11T09:11:10.907965Z",
     "shell.execute_reply": "2024-09-11T09:11:10.906830Z"
    },
    "papermill": {
     "duration": 0.090105,
     "end_time": "2024-09-11T09:11:10.910460",
     "exception": false,
     "start_time": "2024-09-11T09:11:10.820355",
     "status": "completed"
    },
    "tags": []
   },
   "outputs": [
    {
     "data": {
      "text/plain": [
       "basvuru_yili                                           0\n",
       "degerlendirme_puani                                    0\n",
       "cinsiyet                                               0\n",
       "universite_turu                                        0\n",
       "burslu_ise_burs_yuzdesi                                0\n",
       "burs_aliyor_mu                                         0\n",
       "universite_kacinci_sinif                               0\n",
       "universite_not_ortalamasi                              0\n",
       "daha_once_baska_bir_universiteden_mezun_olmus          0\n",
       "baska_bir_kurumdan_burs_aliyor_mu                      0\n",
       "anne_calisma_durumu                                    0\n",
       "anne_sektor                                            0\n",
       "baba_egitim_durumu                                     0\n",
       "baba_calisma_durumu                                    0\n",
       "baba_sektor                                            0\n",
       "kardes_sayisi                                          0\n",
       "girisimcilik_kulupleri_tarzi_bir_kulube_uye_misiniz    0\n",
       "profesyonel_bir_spor_daliyla_mesgul_musunuz            0\n",
       "aktif_olarak_bir_stk_uyesi_misiniz                     0\n",
       "stk_projesine_katildiniz_mi                            0\n",
       "girisimcilikle_ilgili_deneyiminiz_var_mi               0\n",
       "ingilizce_biliyor_musunuz                              0\n",
       "ingilizce_seviyeniz                                    0\n",
       "id                                                     0\n",
       "dtype: int64"
      ]
     },
     "execution_count": 187,
     "metadata": {},
     "output_type": "execute_result"
    }
   ],
   "source": [
    "train_set.isna().sum()"
   ]
  },
  {
   "cell_type": "code",
   "execution_count": 188,
   "id": "0ff57949",
   "metadata": {
    "execution": {
     "iopub.execute_input": "2024-09-11T09:11:11.049376Z",
     "iopub.status.busy": "2024-09-11T09:11:11.048982Z",
     "iopub.status.idle": "2024-09-11T09:11:11.061343Z",
     "shell.execute_reply": "2024-09-11T09:11:11.059976Z"
    },
    "papermill": {
     "duration": 0.085344,
     "end_time": "2024-09-11T09:11:11.063895",
     "exception": false,
     "start_time": "2024-09-11T09:11:10.978551",
     "status": "completed"
    },
    "tags": []
   },
   "outputs": [
    {
     "name": "stderr",
     "output_type": "stream",
     "text": [
      "/tmp/ipykernel_17/2582981688.py:1: SettingWithCopyWarning: \n",
      "A value is trying to be set on a copy of a slice from a DataFrame.\n",
      "Try using .loc[row_indexer,col_indexer] = value instead\n",
      "\n",
      "See the caveats in the documentation: https://pandas.pydata.org/pandas-docs/stable/user_guide/indexing.html#returning-a-view-versus-a-copy\n",
      "  train_set['kardes_sayisi'] = train_set['kardes_sayisi'].astype('int64')\n",
      "/tmp/ipykernel_17/2582981688.py:2: SettingWithCopyWarning: \n",
      "A value is trying to be set on a copy of a slice from a DataFrame.\n",
      "Try using .loc[row_indexer,col_indexer] = value instead\n",
      "\n",
      "See the caveats in the documentation: https://pandas.pydata.org/pandas-docs/stable/user_guide/indexing.html#returning-a-view-versus-a-copy\n",
      "  train_set['burslu_ise_burs_yuzdesi'] = train_set['burslu_ise_burs_yuzdesi'].astype('int64')\n"
     ]
    }
   ],
   "source": [
    "train_set['kardes_sayisi'] = train_set['kardes_sayisi'].astype('int64')\n",
    "train_set['burslu_ise_burs_yuzdesi'] = train_set['burslu_ise_burs_yuzdesi'].astype('int64')"
   ]
  },
  {
   "cell_type": "markdown",
   "id": "f195eace",
   "metadata": {
    "papermill": {
     "duration": 0.067448,
     "end_time": "2024-09-11T09:11:11.200833",
     "exception": false,
     "start_time": "2024-09-11T09:11:11.133385",
     "status": "completed"
    },
    "tags": []
   },
   "source": [
    "# MODELLER"
   ]
  },
  {
   "cell_type": "code",
   "execution_count": 189,
   "id": "3d374240",
   "metadata": {
    "execution": {
     "iopub.execute_input": "2024-09-11T09:11:11.338916Z",
     "iopub.status.busy": "2024-09-11T09:11:11.338469Z",
     "iopub.status.idle": "2024-09-11T09:11:11.490542Z",
     "shell.execute_reply": "2024-09-11T09:11:11.489287Z"
    },
    "papermill": {
     "duration": 0.226829,
     "end_time": "2024-09-11T09:11:11.495324",
     "exception": false,
     "start_time": "2024-09-11T09:11:11.268495",
     "status": "completed"
    },
    "tags": []
   },
   "outputs": [
    {
     "data": {
      "text/html": [
       "<div>\n",
       "<style scoped>\n",
       "    .dataframe tbody tr th:only-of-type {\n",
       "        vertical-align: middle;\n",
       "    }\n",
       "\n",
       "    .dataframe tbody tr th {\n",
       "        vertical-align: top;\n",
       "    }\n",
       "\n",
       "    .dataframe thead th {\n",
       "        text-align: right;\n",
       "    }\n",
       "</style>\n",
       "<table border=\"1\" class=\"dataframe\">\n",
       "  <thead>\n",
       "    <tr style=\"text-align: right;\">\n",
       "      <th></th>\n",
       "      <th>basvuru_yili</th>\n",
       "      <th>degerlendirme_puani</th>\n",
       "      <th>cinsiyet</th>\n",
       "      <th>universite_turu</th>\n",
       "      <th>burslu_ise_burs_yuzdesi</th>\n",
       "      <th>burs_aliyor_mu</th>\n",
       "      <th>universite_kacinci_sinif</th>\n",
       "      <th>universite_not_ortalamasi</th>\n",
       "      <th>daha_once_baska_bir_universiteden_mezun_olmus</th>\n",
       "      <th>baska_bir_kurumdan_burs_aliyor_mu</th>\n",
       "      <th>anne_calisma_durumu</th>\n",
       "      <th>anne_sektor</th>\n",
       "      <th>baba_egitim_durumu</th>\n",
       "      <th>baba_calisma_durumu</th>\n",
       "      <th>baba_sektor</th>\n",
       "      <th>kardes_sayisi</th>\n",
       "      <th>girisimcilik_kulupleri_tarzi_bir_kulube_uye_misiniz</th>\n",
       "      <th>profesyonel_bir_spor_daliyla_mesgul_musunuz</th>\n",
       "      <th>aktif_olarak_bir_stk_uyesi_misiniz</th>\n",
       "      <th>stk_projesine_katildiniz_mi</th>\n",
       "      <th>girisimcilikle_ilgili_deneyiminiz_var_mi</th>\n",
       "      <th>ingilizce_biliyor_musunuz</th>\n",
       "      <th>ingilizce_seviyeniz</th>\n",
       "      <th>id</th>\n",
       "    </tr>\n",
       "  </thead>\n",
       "  <tbody>\n",
       "    <tr>\n",
       "      <th>basvuru_yili</th>\n",
       "      <td>1.000000</td>\n",
       "      <td>-0.145772</td>\n",
       "      <td>-0.130612</td>\n",
       "      <td>0.007290</td>\n",
       "      <td>-0.056918</td>\n",
       "      <td>-0.055901</td>\n",
       "      <td>-0.026479</td>\n",
       "      <td>0.202747</td>\n",
       "      <td>-0.118814</td>\n",
       "      <td>0.199505</td>\n",
       "      <td>-0.189641</td>\n",
       "      <td>0.032508</td>\n",
       "      <td>0.005529</td>\n",
       "      <td>-0.463981</td>\n",
       "      <td>0.078822</td>\n",
       "      <td>-0.080814</td>\n",
       "      <td>-0.098618</td>\n",
       "      <td>0.309614</td>\n",
       "      <td>0.099181</td>\n",
       "      <td>-0.411315</td>\n",
       "      <td>-0.149586</td>\n",
       "      <td>0.299986</td>\n",
       "      <td>-0.413204</td>\n",
       "      <td>0.759494</td>\n",
       "    </tr>\n",
       "    <tr>\n",
       "      <th>degerlendirme_puani</th>\n",
       "      <td>-0.145772</td>\n",
       "      <td>1.000000</td>\n",
       "      <td>-0.017320</td>\n",
       "      <td>0.128444</td>\n",
       "      <td>0.102847</td>\n",
       "      <td>0.096041</td>\n",
       "      <td>0.154849</td>\n",
       "      <td>0.145234</td>\n",
       "      <td>-0.005523</td>\n",
       "      <td>-0.018997</td>\n",
       "      <td>0.165408</td>\n",
       "      <td>0.079245</td>\n",
       "      <td>0.243107</td>\n",
       "      <td>0.125600</td>\n",
       "      <td>0.003584</td>\n",
       "      <td>-0.141835</td>\n",
       "      <td>0.592193</td>\n",
       "      <td>0.350226</td>\n",
       "      <td>0.453276</td>\n",
       "      <td>0.459472</td>\n",
       "      <td>0.362835</td>\n",
       "      <td>0.188715</td>\n",
       "      <td>0.221139</td>\n",
       "      <td>-0.172374</td>\n",
       "    </tr>\n",
       "    <tr>\n",
       "      <th>cinsiyet</th>\n",
       "      <td>-0.130612</td>\n",
       "      <td>-0.017320</td>\n",
       "      <td>1.000000</td>\n",
       "      <td>-0.024907</td>\n",
       "      <td>0.001796</td>\n",
       "      <td>-0.011958</td>\n",
       "      <td>-0.036638</td>\n",
       "      <td>-0.100672</td>\n",
       "      <td>0.024824</td>\n",
       "      <td>-0.041851</td>\n",
       "      <td>-0.022374</td>\n",
       "      <td>-0.059572</td>\n",
       "      <td>-0.004054</td>\n",
       "      <td>0.061399</td>\n",
       "      <td>-0.045063</td>\n",
       "      <td>0.045799</td>\n",
       "      <td>0.051548</td>\n",
       "      <td>0.055190</td>\n",
       "      <td>-0.018216</td>\n",
       "      <td>0.060432</td>\n",
       "      <td>0.162304</td>\n",
       "      <td>-0.034746</td>\n",
       "      <td>0.075231</td>\n",
       "      <td>-0.088750</td>\n",
       "    </tr>\n",
       "    <tr>\n",
       "      <th>universite_turu</th>\n",
       "      <td>0.007290</td>\n",
       "      <td>0.128444</td>\n",
       "      <td>-0.024907</td>\n",
       "      <td>1.000000</td>\n",
       "      <td>0.677488</td>\n",
       "      <td>0.790323</td>\n",
       "      <td>-0.040013</td>\n",
       "      <td>0.000306</td>\n",
       "      <td>-0.001897</td>\n",
       "      <td>-0.012843</td>\n",
       "      <td>0.115833</td>\n",
       "      <td>0.089548</td>\n",
       "      <td>0.165338</td>\n",
       "      <td>0.033781</td>\n",
       "      <td>0.061061</td>\n",
       "      <td>-0.131142</td>\n",
       "      <td>0.118232</td>\n",
       "      <td>0.049490</td>\n",
       "      <td>0.037155</td>\n",
       "      <td>0.049120</td>\n",
       "      <td>0.061612</td>\n",
       "      <td>0.080540</td>\n",
       "      <td>0.089161</td>\n",
       "      <td>-0.439905</td>\n",
       "    </tr>\n",
       "    <tr>\n",
       "      <th>burslu_ise_burs_yuzdesi</th>\n",
       "      <td>-0.056918</td>\n",
       "      <td>0.102847</td>\n",
       "      <td>0.001796</td>\n",
       "      <td>0.677488</td>\n",
       "      <td>1.000000</td>\n",
       "      <td>0.722551</td>\n",
       "      <td>-0.051216</td>\n",
       "      <td>0.017267</td>\n",
       "      <td>-0.008155</td>\n",
       "      <td>0.066590</td>\n",
       "      <td>0.065976</td>\n",
       "      <td>0.044232</td>\n",
       "      <td>0.080603</td>\n",
       "      <td>0.013558</td>\n",
       "      <td>0.008812</td>\n",
       "      <td>-0.066523</td>\n",
       "      <td>0.083819</td>\n",
       "      <td>0.015325</td>\n",
       "      <td>-0.020917</td>\n",
       "      <td>0.065996</td>\n",
       "      <td>0.034763</td>\n",
       "      <td>0.047672</td>\n",
       "      <td>0.109782</td>\n",
       "      <td>-0.574259</td>\n",
       "    </tr>\n",
       "    <tr>\n",
       "      <th>burs_aliyor_mu</th>\n",
       "      <td>-0.055901</td>\n",
       "      <td>0.096041</td>\n",
       "      <td>-0.011958</td>\n",
       "      <td>0.790323</td>\n",
       "      <td>0.722551</td>\n",
       "      <td>1.000000</td>\n",
       "      <td>-0.033929</td>\n",
       "      <td>0.003492</td>\n",
       "      <td>-0.003845</td>\n",
       "      <td>0.032544</td>\n",
       "      <td>0.080307</td>\n",
       "      <td>0.059388</td>\n",
       "      <td>0.090933</td>\n",
       "      <td>0.015955</td>\n",
       "      <td>0.027312</td>\n",
       "      <td>-0.052742</td>\n",
       "      <td>0.087731</td>\n",
       "      <td>0.017845</td>\n",
       "      <td>0.013731</td>\n",
       "      <td>0.045269</td>\n",
       "      <td>0.049832</td>\n",
       "      <td>0.035415</td>\n",
       "      <td>0.075803</td>\n",
       "      <td>-0.536721</td>\n",
       "    </tr>\n",
       "    <tr>\n",
       "      <th>universite_kacinci_sinif</th>\n",
       "      <td>-0.026479</td>\n",
       "      <td>0.154849</td>\n",
       "      <td>-0.036638</td>\n",
       "      <td>-0.040013</td>\n",
       "      <td>-0.051216</td>\n",
       "      <td>-0.033929</td>\n",
       "      <td>1.000000</td>\n",
       "      <td>0.307002</td>\n",
       "      <td>0.064056</td>\n",
       "      <td>-0.048454</td>\n",
       "      <td>0.036282</td>\n",
       "      <td>0.009963</td>\n",
       "      <td>0.045921</td>\n",
       "      <td>0.042426</td>\n",
       "      <td>-0.024924</td>\n",
       "      <td>-0.015014</td>\n",
       "      <td>0.061531</td>\n",
       "      <td>-0.016310</td>\n",
       "      <td>0.098910</td>\n",
       "      <td>0.064182</td>\n",
       "      <td>0.050773</td>\n",
       "      <td>-0.009583</td>\n",
       "      <td>-0.011283</td>\n",
       "      <td>0.019603</td>\n",
       "    </tr>\n",
       "    <tr>\n",
       "      <th>universite_not_ortalamasi</th>\n",
       "      <td>0.202747</td>\n",
       "      <td>0.145234</td>\n",
       "      <td>-0.100672</td>\n",
       "      <td>0.000306</td>\n",
       "      <td>0.017267</td>\n",
       "      <td>0.003492</td>\n",
       "      <td>0.307002</td>\n",
       "      <td>1.000000</td>\n",
       "      <td>-0.027544</td>\n",
       "      <td>0.075822</td>\n",
       "      <td>-0.045489</td>\n",
       "      <td>-0.006288</td>\n",
       "      <td>-0.017767</td>\n",
       "      <td>-0.133163</td>\n",
       "      <td>0.009382</td>\n",
       "      <td>0.001292</td>\n",
       "      <td>0.000225</td>\n",
       "      <td>0.098560</td>\n",
       "      <td>0.031328</td>\n",
       "      <td>-0.066904</td>\n",
       "      <td>-0.036308</td>\n",
       "      <td>0.038070</td>\n",
       "      <td>-0.130543</td>\n",
       "      <td>0.130602</td>\n",
       "    </tr>\n",
       "    <tr>\n",
       "      <th>daha_once_baska_bir_universiteden_mezun_olmus</th>\n",
       "      <td>-0.118814</td>\n",
       "      <td>-0.005523</td>\n",
       "      <td>0.024824</td>\n",
       "      <td>-0.001897</td>\n",
       "      <td>-0.008155</td>\n",
       "      <td>-0.003845</td>\n",
       "      <td>0.064056</td>\n",
       "      <td>-0.027544</td>\n",
       "      <td>1.000000</td>\n",
       "      <td>-0.046977</td>\n",
       "      <td>0.021730</td>\n",
       "      <td>-0.006659</td>\n",
       "      <td>-0.026112</td>\n",
       "      <td>0.073747</td>\n",
       "      <td>-0.027156</td>\n",
       "      <td>0.033318</td>\n",
       "      <td>-0.012073</td>\n",
       "      <td>-0.043476</td>\n",
       "      <td>-0.004859</td>\n",
       "      <td>0.051205</td>\n",
       "      <td>0.027401</td>\n",
       "      <td>-0.064301</td>\n",
       "      <td>0.020999</td>\n",
       "      <td>-0.086153</td>\n",
       "    </tr>\n",
       "    <tr>\n",
       "      <th>baska_bir_kurumdan_burs_aliyor_mu</th>\n",
       "      <td>0.199505</td>\n",
       "      <td>-0.018997</td>\n",
       "      <td>-0.041851</td>\n",
       "      <td>-0.012843</td>\n",
       "      <td>0.066590</td>\n",
       "      <td>0.032544</td>\n",
       "      <td>-0.048454</td>\n",
       "      <td>0.075822</td>\n",
       "      <td>-0.046977</td>\n",
       "      <td>1.000000</td>\n",
       "      <td>-0.086384</td>\n",
       "      <td>-0.044210</td>\n",
       "      <td>-0.132055</td>\n",
       "      <td>-0.145710</td>\n",
       "      <td>-0.041804</td>\n",
       "      <td>0.039300</td>\n",
       "      <td>-0.022169</td>\n",
       "      <td>0.038251</td>\n",
       "      <td>0.036717</td>\n",
       "      <td>-0.062299</td>\n",
       "      <td>-0.039370</td>\n",
       "      <td>0.045904</td>\n",
       "      <td>-0.057562</td>\n",
       "      <td>0.121467</td>\n",
       "    </tr>\n",
       "    <tr>\n",
       "      <th>anne_calisma_durumu</th>\n",
       "      <td>-0.189641</td>\n",
       "      <td>0.165408</td>\n",
       "      <td>-0.022374</td>\n",
       "      <td>0.115833</td>\n",
       "      <td>0.065976</td>\n",
       "      <td>0.080307</td>\n",
       "      <td>0.036282</td>\n",
       "      <td>-0.045489</td>\n",
       "      <td>0.021730</td>\n",
       "      <td>-0.086384</td>\n",
       "      <td>1.000000</td>\n",
       "      <td>0.450453</td>\n",
       "      <td>0.231037</td>\n",
       "      <td>0.213116</td>\n",
       "      <td>-0.060914</td>\n",
       "      <td>-0.228490</td>\n",
       "      <td>0.145297</td>\n",
       "      <td>0.001347</td>\n",
       "      <td>0.077556</td>\n",
       "      <td>0.166851</td>\n",
       "      <td>0.118979</td>\n",
       "      <td>0.034134</td>\n",
       "      <td>0.243204</td>\n",
       "      <td>-0.175780</td>\n",
       "    </tr>\n",
       "    <tr>\n",
       "      <th>anne_sektor</th>\n",
       "      <td>0.032508</td>\n",
       "      <td>0.079245</td>\n",
       "      <td>-0.059572</td>\n",
       "      <td>0.089548</td>\n",
       "      <td>0.044232</td>\n",
       "      <td>0.059388</td>\n",
       "      <td>0.009963</td>\n",
       "      <td>-0.006288</td>\n",
       "      <td>-0.006659</td>\n",
       "      <td>-0.044210</td>\n",
       "      <td>0.450453</td>\n",
       "      <td>1.000000</td>\n",
       "      <td>0.123937</td>\n",
       "      <td>-0.032426</td>\n",
       "      <td>0.066670</td>\n",
       "      <td>-0.195508</td>\n",
       "      <td>0.059386</td>\n",
       "      <td>0.053488</td>\n",
       "      <td>0.033303</td>\n",
       "      <td>0.008495</td>\n",
       "      <td>0.027122</td>\n",
       "      <td>0.067976</td>\n",
       "      <td>0.026435</td>\n",
       "      <td>-0.010667</td>\n",
       "    </tr>\n",
       "    <tr>\n",
       "      <th>baba_egitim_durumu</th>\n",
       "      <td>0.005529</td>\n",
       "      <td>0.243107</td>\n",
       "      <td>-0.004054</td>\n",
       "      <td>0.165338</td>\n",
       "      <td>0.080603</td>\n",
       "      <td>0.090933</td>\n",
       "      <td>0.045921</td>\n",
       "      <td>-0.017767</td>\n",
       "      <td>-0.026112</td>\n",
       "      <td>-0.132055</td>\n",
       "      <td>0.231037</td>\n",
       "      <td>0.123937</td>\n",
       "      <td>1.000000</td>\n",
       "      <td>0.163184</td>\n",
       "      <td>0.024968</td>\n",
       "      <td>-0.251717</td>\n",
       "      <td>0.199916</td>\n",
       "      <td>0.112439</td>\n",
       "      <td>0.103102</td>\n",
       "      <td>0.103618</td>\n",
       "      <td>0.122353</td>\n",
       "      <td>0.184203</td>\n",
       "      <td>0.169157</td>\n",
       "      <td>-0.057761</td>\n",
       "    </tr>\n",
       "    <tr>\n",
       "      <th>baba_calisma_durumu</th>\n",
       "      <td>-0.463981</td>\n",
       "      <td>0.125600</td>\n",
       "      <td>0.061399</td>\n",
       "      <td>0.033781</td>\n",
       "      <td>0.013558</td>\n",
       "      <td>0.015955</td>\n",
       "      <td>0.042426</td>\n",
       "      <td>-0.133163</td>\n",
       "      <td>0.073747</td>\n",
       "      <td>-0.145710</td>\n",
       "      <td>0.213116</td>\n",
       "      <td>-0.032426</td>\n",
       "      <td>0.163184</td>\n",
       "      <td>1.000000</td>\n",
       "      <td>0.017777</td>\n",
       "      <td>-0.011193</td>\n",
       "      <td>0.160609</td>\n",
       "      <td>-0.144230</td>\n",
       "      <td>0.095718</td>\n",
       "      <td>0.318282</td>\n",
       "      <td>0.193765</td>\n",
       "      <td>-0.018225</td>\n",
       "      <td>0.402341</td>\n",
       "      <td>-0.338310</td>\n",
       "    </tr>\n",
       "    <tr>\n",
       "      <th>baba_sektor</th>\n",
       "      <td>0.078822</td>\n",
       "      <td>0.003584</td>\n",
       "      <td>-0.045063</td>\n",
       "      <td>0.061061</td>\n",
       "      <td>0.008812</td>\n",
       "      <td>0.027312</td>\n",
       "      <td>-0.024924</td>\n",
       "      <td>0.009382</td>\n",
       "      <td>-0.027156</td>\n",
       "      <td>-0.041804</td>\n",
       "      <td>-0.060914</td>\n",
       "      <td>0.066670</td>\n",
       "      <td>0.024968</td>\n",
       "      <td>0.017777</td>\n",
       "      <td>1.000000</td>\n",
       "      <td>-0.034554</td>\n",
       "      <td>0.009761</td>\n",
       "      <td>0.035024</td>\n",
       "      <td>0.016752</td>\n",
       "      <td>-0.028915</td>\n",
       "      <td>-0.004166</td>\n",
       "      <td>0.048719</td>\n",
       "      <td>-0.032173</td>\n",
       "      <td>0.045161</td>\n",
       "    </tr>\n",
       "    <tr>\n",
       "      <th>kardes_sayisi</th>\n",
       "      <td>-0.080814</td>\n",
       "      <td>-0.141835</td>\n",
       "      <td>0.045799</td>\n",
       "      <td>-0.131142</td>\n",
       "      <td>-0.066523</td>\n",
       "      <td>-0.052742</td>\n",
       "      <td>-0.015014</td>\n",
       "      <td>0.001292</td>\n",
       "      <td>0.033318</td>\n",
       "      <td>0.039300</td>\n",
       "      <td>-0.228490</td>\n",
       "      <td>-0.195508</td>\n",
       "      <td>-0.251717</td>\n",
       "      <td>-0.011193</td>\n",
       "      <td>-0.034554</td>\n",
       "      <td>1.000000</td>\n",
       "      <td>-0.109807</td>\n",
       "      <td>-0.099817</td>\n",
       "      <td>-0.045450</td>\n",
       "      <td>-0.004684</td>\n",
       "      <td>-0.024103</td>\n",
       "      <td>-0.109751</td>\n",
       "      <td>-0.054847</td>\n",
       "      <td>-0.004609</td>\n",
       "    </tr>\n",
       "    <tr>\n",
       "      <th>girisimcilik_kulupleri_tarzi_bir_kulube_uye_misiniz</th>\n",
       "      <td>-0.098618</td>\n",
       "      <td>0.592193</td>\n",
       "      <td>0.051548</td>\n",
       "      <td>0.118232</td>\n",
       "      <td>0.083819</td>\n",
       "      <td>0.087731</td>\n",
       "      <td>0.061531</td>\n",
       "      <td>0.000225</td>\n",
       "      <td>-0.012073</td>\n",
       "      <td>-0.022169</td>\n",
       "      <td>0.145297</td>\n",
       "      <td>0.059386</td>\n",
       "      <td>0.199916</td>\n",
       "      <td>0.160609</td>\n",
       "      <td>0.009761</td>\n",
       "      <td>-0.109807</td>\n",
       "      <td>1.000000</td>\n",
       "      <td>0.073955</td>\n",
       "      <td>0.232996</td>\n",
       "      <td>0.309251</td>\n",
       "      <td>0.250962</td>\n",
       "      <td>0.177555</td>\n",
       "      <td>0.258433</td>\n",
       "      <td>-0.128664</td>\n",
       "    </tr>\n",
       "    <tr>\n",
       "      <th>profesyonel_bir_spor_daliyla_mesgul_musunuz</th>\n",
       "      <td>0.309614</td>\n",
       "      <td>0.350226</td>\n",
       "      <td>0.055190</td>\n",
       "      <td>0.049490</td>\n",
       "      <td>0.015325</td>\n",
       "      <td>0.017845</td>\n",
       "      <td>-0.016310</td>\n",
       "      <td>0.098560</td>\n",
       "      <td>-0.043476</td>\n",
       "      <td>0.038251</td>\n",
       "      <td>0.001347</td>\n",
       "      <td>0.053488</td>\n",
       "      <td>0.112439</td>\n",
       "      <td>-0.144230</td>\n",
       "      <td>0.035024</td>\n",
       "      <td>-0.099817</td>\n",
       "      <td>0.073955</td>\n",
       "      <td>1.000000</td>\n",
       "      <td>0.113199</td>\n",
       "      <td>-0.130447</td>\n",
       "      <td>0.087356</td>\n",
       "      <td>0.124766</td>\n",
       "      <td>-0.193404</td>\n",
       "      <td>0.179886</td>\n",
       "    </tr>\n",
       "    <tr>\n",
       "      <th>aktif_olarak_bir_stk_uyesi_misiniz</th>\n",
       "      <td>0.099181</td>\n",
       "      <td>0.453276</td>\n",
       "      <td>-0.018216</td>\n",
       "      <td>0.037155</td>\n",
       "      <td>-0.020917</td>\n",
       "      <td>0.013731</td>\n",
       "      <td>0.098910</td>\n",
       "      <td>0.031328</td>\n",
       "      <td>-0.004859</td>\n",
       "      <td>0.036717</td>\n",
       "      <td>0.077556</td>\n",
       "      <td>0.033303</td>\n",
       "      <td>0.103102</td>\n",
       "      <td>0.095718</td>\n",
       "      <td>0.016752</td>\n",
       "      <td>-0.045450</td>\n",
       "      <td>0.232996</td>\n",
       "      <td>0.113199</td>\n",
       "      <td>1.000000</td>\n",
       "      <td>0.185743</td>\n",
       "      <td>0.242392</td>\n",
       "      <td>0.116161</td>\n",
       "      <td>0.055988</td>\n",
       "      <td>0.108261</td>\n",
       "    </tr>\n",
       "    <tr>\n",
       "      <th>stk_projesine_katildiniz_mi</th>\n",
       "      <td>-0.411315</td>\n",
       "      <td>0.459472</td>\n",
       "      <td>0.060432</td>\n",
       "      <td>0.049120</td>\n",
       "      <td>0.065996</td>\n",
       "      <td>0.045269</td>\n",
       "      <td>0.064182</td>\n",
       "      <td>-0.066904</td>\n",
       "      <td>0.051205</td>\n",
       "      <td>-0.062299</td>\n",
       "      <td>0.166851</td>\n",
       "      <td>0.008495</td>\n",
       "      <td>0.103618</td>\n",
       "      <td>0.318282</td>\n",
       "      <td>-0.028915</td>\n",
       "      <td>-0.004684</td>\n",
       "      <td>0.309251</td>\n",
       "      <td>-0.130447</td>\n",
       "      <td>0.185743</td>\n",
       "      <td>1.000000</td>\n",
       "      <td>0.282885</td>\n",
       "      <td>0.051523</td>\n",
       "      <td>0.462652</td>\n",
       "      <td>-0.340162</td>\n",
       "    </tr>\n",
       "    <tr>\n",
       "      <th>girisimcilikle_ilgili_deneyiminiz_var_mi</th>\n",
       "      <td>-0.149586</td>\n",
       "      <td>0.362835</td>\n",
       "      <td>0.162304</td>\n",
       "      <td>0.061612</td>\n",
       "      <td>0.034763</td>\n",
       "      <td>0.049832</td>\n",
       "      <td>0.050773</td>\n",
       "      <td>-0.036308</td>\n",
       "      <td>0.027401</td>\n",
       "      <td>-0.039370</td>\n",
       "      <td>0.118979</td>\n",
       "      <td>0.027122</td>\n",
       "      <td>0.122353</td>\n",
       "      <td>0.193765</td>\n",
       "      <td>-0.004166</td>\n",
       "      <td>-0.024103</td>\n",
       "      <td>0.250962</td>\n",
       "      <td>0.087356</td>\n",
       "      <td>0.242392</td>\n",
       "      <td>0.282885</td>\n",
       "      <td>1.000000</td>\n",
       "      <td>0.093078</td>\n",
       "      <td>0.221932</td>\n",
       "      <td>-0.129277</td>\n",
       "    </tr>\n",
       "    <tr>\n",
       "      <th>ingilizce_biliyor_musunuz</th>\n",
       "      <td>0.299986</td>\n",
       "      <td>0.188715</td>\n",
       "      <td>-0.034746</td>\n",
       "      <td>0.080540</td>\n",
       "      <td>0.047672</td>\n",
       "      <td>0.035415</td>\n",
       "      <td>-0.009583</td>\n",
       "      <td>0.038070</td>\n",
       "      <td>-0.064301</td>\n",
       "      <td>0.045904</td>\n",
       "      <td>0.034134</td>\n",
       "      <td>0.067976</td>\n",
       "      <td>0.184203</td>\n",
       "      <td>-0.018225</td>\n",
       "      <td>0.048719</td>\n",
       "      <td>-0.109751</td>\n",
       "      <td>0.177555</td>\n",
       "      <td>0.124766</td>\n",
       "      <td>0.116161</td>\n",
       "      <td>0.051523</td>\n",
       "      <td>0.093078</td>\n",
       "      <td>1.000000</td>\n",
       "      <td>0.439707</td>\n",
       "      <td>0.171152</td>\n",
       "    </tr>\n",
       "    <tr>\n",
       "      <th>ingilizce_seviyeniz</th>\n",
       "      <td>-0.413204</td>\n",
       "      <td>0.221139</td>\n",
       "      <td>0.075231</td>\n",
       "      <td>0.089161</td>\n",
       "      <td>0.109782</td>\n",
       "      <td>0.075803</td>\n",
       "      <td>-0.011283</td>\n",
       "      <td>-0.130543</td>\n",
       "      <td>0.020999</td>\n",
       "      <td>-0.057562</td>\n",
       "      <td>0.243204</td>\n",
       "      <td>0.026435</td>\n",
       "      <td>0.169157</td>\n",
       "      <td>0.402341</td>\n",
       "      <td>-0.032173</td>\n",
       "      <td>-0.054847</td>\n",
       "      <td>0.258433</td>\n",
       "      <td>-0.193404</td>\n",
       "      <td>0.055988</td>\n",
       "      <td>0.462652</td>\n",
       "      <td>0.221932</td>\n",
       "      <td>0.439707</td>\n",
       "      <td>1.000000</td>\n",
       "      <td>-0.370443</td>\n",
       "    </tr>\n",
       "    <tr>\n",
       "      <th>id</th>\n",
       "      <td>0.759494</td>\n",
       "      <td>-0.172374</td>\n",
       "      <td>-0.088750</td>\n",
       "      <td>-0.439905</td>\n",
       "      <td>-0.574259</td>\n",
       "      <td>-0.536721</td>\n",
       "      <td>0.019603</td>\n",
       "      <td>0.130602</td>\n",
       "      <td>-0.086153</td>\n",
       "      <td>0.121467</td>\n",
       "      <td>-0.175780</td>\n",
       "      <td>-0.010667</td>\n",
       "      <td>-0.057761</td>\n",
       "      <td>-0.338310</td>\n",
       "      <td>0.045161</td>\n",
       "      <td>-0.004609</td>\n",
       "      <td>-0.128664</td>\n",
       "      <td>0.179886</td>\n",
       "      <td>0.108261</td>\n",
       "      <td>-0.340162</td>\n",
       "      <td>-0.129277</td>\n",
       "      <td>0.171152</td>\n",
       "      <td>-0.370443</td>\n",
       "      <td>1.000000</td>\n",
       "    </tr>\n",
       "  </tbody>\n",
       "</table>\n",
       "</div>"
      ],
      "text/plain": [
       "                                                    basvuru_yili  \\\n",
       "basvuru_yili                                            1.000000   \n",
       "degerlendirme_puani                                    -0.145772   \n",
       "cinsiyet                                               -0.130612   \n",
       "universite_turu                                         0.007290   \n",
       "burslu_ise_burs_yuzdesi                                -0.056918   \n",
       "burs_aliyor_mu                                         -0.055901   \n",
       "universite_kacinci_sinif                               -0.026479   \n",
       "universite_not_ortalamasi                               0.202747   \n",
       "daha_once_baska_bir_universiteden_mezun_olmus          -0.118814   \n",
       "baska_bir_kurumdan_burs_aliyor_mu                       0.199505   \n",
       "anne_calisma_durumu                                    -0.189641   \n",
       "anne_sektor                                             0.032508   \n",
       "baba_egitim_durumu                                      0.005529   \n",
       "baba_calisma_durumu                                    -0.463981   \n",
       "baba_sektor                                             0.078822   \n",
       "kardes_sayisi                                          -0.080814   \n",
       "girisimcilik_kulupleri_tarzi_bir_kulube_uye_mis...     -0.098618   \n",
       "profesyonel_bir_spor_daliyla_mesgul_musunuz             0.309614   \n",
       "aktif_olarak_bir_stk_uyesi_misiniz                      0.099181   \n",
       "stk_projesine_katildiniz_mi                            -0.411315   \n",
       "girisimcilikle_ilgili_deneyiminiz_var_mi               -0.149586   \n",
       "ingilizce_biliyor_musunuz                               0.299986   \n",
       "ingilizce_seviyeniz                                    -0.413204   \n",
       "id                                                      0.759494   \n",
       "\n",
       "                                                    degerlendirme_puani  \\\n",
       "basvuru_yili                                                  -0.145772   \n",
       "degerlendirme_puani                                            1.000000   \n",
       "cinsiyet                                                      -0.017320   \n",
       "universite_turu                                                0.128444   \n",
       "burslu_ise_burs_yuzdesi                                        0.102847   \n",
       "burs_aliyor_mu                                                 0.096041   \n",
       "universite_kacinci_sinif                                       0.154849   \n",
       "universite_not_ortalamasi                                      0.145234   \n",
       "daha_once_baska_bir_universiteden_mezun_olmus                 -0.005523   \n",
       "baska_bir_kurumdan_burs_aliyor_mu                             -0.018997   \n",
       "anne_calisma_durumu                                            0.165408   \n",
       "anne_sektor                                                    0.079245   \n",
       "baba_egitim_durumu                                             0.243107   \n",
       "baba_calisma_durumu                                            0.125600   \n",
       "baba_sektor                                                    0.003584   \n",
       "kardes_sayisi                                                 -0.141835   \n",
       "girisimcilik_kulupleri_tarzi_bir_kulube_uye_mis...             0.592193   \n",
       "profesyonel_bir_spor_daliyla_mesgul_musunuz                    0.350226   \n",
       "aktif_olarak_bir_stk_uyesi_misiniz                             0.453276   \n",
       "stk_projesine_katildiniz_mi                                    0.459472   \n",
       "girisimcilikle_ilgili_deneyiminiz_var_mi                       0.362835   \n",
       "ingilizce_biliyor_musunuz                                      0.188715   \n",
       "ingilizce_seviyeniz                                            0.221139   \n",
       "id                                                            -0.172374   \n",
       "\n",
       "                                                    cinsiyet  universite_turu  \\\n",
       "basvuru_yili                                       -0.130612         0.007290   \n",
       "degerlendirme_puani                                -0.017320         0.128444   \n",
       "cinsiyet                                            1.000000        -0.024907   \n",
       "universite_turu                                    -0.024907         1.000000   \n",
       "burslu_ise_burs_yuzdesi                             0.001796         0.677488   \n",
       "burs_aliyor_mu                                     -0.011958         0.790323   \n",
       "universite_kacinci_sinif                           -0.036638        -0.040013   \n",
       "universite_not_ortalamasi                          -0.100672         0.000306   \n",
       "daha_once_baska_bir_universiteden_mezun_olmus       0.024824        -0.001897   \n",
       "baska_bir_kurumdan_burs_aliyor_mu                  -0.041851        -0.012843   \n",
       "anne_calisma_durumu                                -0.022374         0.115833   \n",
       "anne_sektor                                        -0.059572         0.089548   \n",
       "baba_egitim_durumu                                 -0.004054         0.165338   \n",
       "baba_calisma_durumu                                 0.061399         0.033781   \n",
       "baba_sektor                                        -0.045063         0.061061   \n",
       "kardes_sayisi                                       0.045799        -0.131142   \n",
       "girisimcilik_kulupleri_tarzi_bir_kulube_uye_mis...  0.051548         0.118232   \n",
       "profesyonel_bir_spor_daliyla_mesgul_musunuz         0.055190         0.049490   \n",
       "aktif_olarak_bir_stk_uyesi_misiniz                 -0.018216         0.037155   \n",
       "stk_projesine_katildiniz_mi                         0.060432         0.049120   \n",
       "girisimcilikle_ilgili_deneyiminiz_var_mi            0.162304         0.061612   \n",
       "ingilizce_biliyor_musunuz                          -0.034746         0.080540   \n",
       "ingilizce_seviyeniz                                 0.075231         0.089161   \n",
       "id                                                 -0.088750        -0.439905   \n",
       "\n",
       "                                                    burslu_ise_burs_yuzdesi  \\\n",
       "basvuru_yili                                                      -0.056918   \n",
       "degerlendirme_puani                                                0.102847   \n",
       "cinsiyet                                                           0.001796   \n",
       "universite_turu                                                    0.677488   \n",
       "burslu_ise_burs_yuzdesi                                            1.000000   \n",
       "burs_aliyor_mu                                                     0.722551   \n",
       "universite_kacinci_sinif                                          -0.051216   \n",
       "universite_not_ortalamasi                                          0.017267   \n",
       "daha_once_baska_bir_universiteden_mezun_olmus                     -0.008155   \n",
       "baska_bir_kurumdan_burs_aliyor_mu                                  0.066590   \n",
       "anne_calisma_durumu                                                0.065976   \n",
       "anne_sektor                                                        0.044232   \n",
       "baba_egitim_durumu                                                 0.080603   \n",
       "baba_calisma_durumu                                                0.013558   \n",
       "baba_sektor                                                        0.008812   \n",
       "kardes_sayisi                                                     -0.066523   \n",
       "girisimcilik_kulupleri_tarzi_bir_kulube_uye_mis...                 0.083819   \n",
       "profesyonel_bir_spor_daliyla_mesgul_musunuz                        0.015325   \n",
       "aktif_olarak_bir_stk_uyesi_misiniz                                -0.020917   \n",
       "stk_projesine_katildiniz_mi                                        0.065996   \n",
       "girisimcilikle_ilgili_deneyiminiz_var_mi                           0.034763   \n",
       "ingilizce_biliyor_musunuz                                          0.047672   \n",
       "ingilizce_seviyeniz                                                0.109782   \n",
       "id                                                                -0.574259   \n",
       "\n",
       "                                                    burs_aliyor_mu  \\\n",
       "basvuru_yili                                             -0.055901   \n",
       "degerlendirme_puani                                       0.096041   \n",
       "cinsiyet                                                 -0.011958   \n",
       "universite_turu                                           0.790323   \n",
       "burslu_ise_burs_yuzdesi                                   0.722551   \n",
       "burs_aliyor_mu                                            1.000000   \n",
       "universite_kacinci_sinif                                 -0.033929   \n",
       "universite_not_ortalamasi                                 0.003492   \n",
       "daha_once_baska_bir_universiteden_mezun_olmus            -0.003845   \n",
       "baska_bir_kurumdan_burs_aliyor_mu                         0.032544   \n",
       "anne_calisma_durumu                                       0.080307   \n",
       "anne_sektor                                               0.059388   \n",
       "baba_egitim_durumu                                        0.090933   \n",
       "baba_calisma_durumu                                       0.015955   \n",
       "baba_sektor                                               0.027312   \n",
       "kardes_sayisi                                            -0.052742   \n",
       "girisimcilik_kulupleri_tarzi_bir_kulube_uye_mis...        0.087731   \n",
       "profesyonel_bir_spor_daliyla_mesgul_musunuz               0.017845   \n",
       "aktif_olarak_bir_stk_uyesi_misiniz                        0.013731   \n",
       "stk_projesine_katildiniz_mi                               0.045269   \n",
       "girisimcilikle_ilgili_deneyiminiz_var_mi                  0.049832   \n",
       "ingilizce_biliyor_musunuz                                 0.035415   \n",
       "ingilizce_seviyeniz                                       0.075803   \n",
       "id                                                       -0.536721   \n",
       "\n",
       "                                                    universite_kacinci_sinif  \\\n",
       "basvuru_yili                                                       -0.026479   \n",
       "degerlendirme_puani                                                 0.154849   \n",
       "cinsiyet                                                           -0.036638   \n",
       "universite_turu                                                    -0.040013   \n",
       "burslu_ise_burs_yuzdesi                                            -0.051216   \n",
       "burs_aliyor_mu                                                     -0.033929   \n",
       "universite_kacinci_sinif                                            1.000000   \n",
       "universite_not_ortalamasi                                           0.307002   \n",
       "daha_once_baska_bir_universiteden_mezun_olmus                       0.064056   \n",
       "baska_bir_kurumdan_burs_aliyor_mu                                  -0.048454   \n",
       "anne_calisma_durumu                                                 0.036282   \n",
       "anne_sektor                                                         0.009963   \n",
       "baba_egitim_durumu                                                  0.045921   \n",
       "baba_calisma_durumu                                                 0.042426   \n",
       "baba_sektor                                                        -0.024924   \n",
       "kardes_sayisi                                                      -0.015014   \n",
       "girisimcilik_kulupleri_tarzi_bir_kulube_uye_mis...                  0.061531   \n",
       "profesyonel_bir_spor_daliyla_mesgul_musunuz                        -0.016310   \n",
       "aktif_olarak_bir_stk_uyesi_misiniz                                  0.098910   \n",
       "stk_projesine_katildiniz_mi                                         0.064182   \n",
       "girisimcilikle_ilgili_deneyiminiz_var_mi                            0.050773   \n",
       "ingilizce_biliyor_musunuz                                          -0.009583   \n",
       "ingilizce_seviyeniz                                                -0.011283   \n",
       "id                                                                  0.019603   \n",
       "\n",
       "                                                    universite_not_ortalamasi  \\\n",
       "basvuru_yili                                                         0.202747   \n",
       "degerlendirme_puani                                                  0.145234   \n",
       "cinsiyet                                                            -0.100672   \n",
       "universite_turu                                                      0.000306   \n",
       "burslu_ise_burs_yuzdesi                                              0.017267   \n",
       "burs_aliyor_mu                                                       0.003492   \n",
       "universite_kacinci_sinif                                             0.307002   \n",
       "universite_not_ortalamasi                                            1.000000   \n",
       "daha_once_baska_bir_universiteden_mezun_olmus                       -0.027544   \n",
       "baska_bir_kurumdan_burs_aliyor_mu                                    0.075822   \n",
       "anne_calisma_durumu                                                 -0.045489   \n",
       "anne_sektor                                                         -0.006288   \n",
       "baba_egitim_durumu                                                  -0.017767   \n",
       "baba_calisma_durumu                                                 -0.133163   \n",
       "baba_sektor                                                          0.009382   \n",
       "kardes_sayisi                                                        0.001292   \n",
       "girisimcilik_kulupleri_tarzi_bir_kulube_uye_mis...                   0.000225   \n",
       "profesyonel_bir_spor_daliyla_mesgul_musunuz                          0.098560   \n",
       "aktif_olarak_bir_stk_uyesi_misiniz                                   0.031328   \n",
       "stk_projesine_katildiniz_mi                                         -0.066904   \n",
       "girisimcilikle_ilgili_deneyiminiz_var_mi                            -0.036308   \n",
       "ingilizce_biliyor_musunuz                                            0.038070   \n",
       "ingilizce_seviyeniz                                                 -0.130543   \n",
       "id                                                                   0.130602   \n",
       "\n",
       "                                                    daha_once_baska_bir_universiteden_mezun_olmus  \\\n",
       "basvuru_yili                                                                            -0.118814   \n",
       "degerlendirme_puani                                                                     -0.005523   \n",
       "cinsiyet                                                                                 0.024824   \n",
       "universite_turu                                                                         -0.001897   \n",
       "burslu_ise_burs_yuzdesi                                                                 -0.008155   \n",
       "burs_aliyor_mu                                                                          -0.003845   \n",
       "universite_kacinci_sinif                                                                 0.064056   \n",
       "universite_not_ortalamasi                                                               -0.027544   \n",
       "daha_once_baska_bir_universiteden_mezun_olmus                                            1.000000   \n",
       "baska_bir_kurumdan_burs_aliyor_mu                                                       -0.046977   \n",
       "anne_calisma_durumu                                                                      0.021730   \n",
       "anne_sektor                                                                             -0.006659   \n",
       "baba_egitim_durumu                                                                      -0.026112   \n",
       "baba_calisma_durumu                                                                      0.073747   \n",
       "baba_sektor                                                                             -0.027156   \n",
       "kardes_sayisi                                                                            0.033318   \n",
       "girisimcilik_kulupleri_tarzi_bir_kulube_uye_mis...                                      -0.012073   \n",
       "profesyonel_bir_spor_daliyla_mesgul_musunuz                                             -0.043476   \n",
       "aktif_olarak_bir_stk_uyesi_misiniz                                                      -0.004859   \n",
       "stk_projesine_katildiniz_mi                                                              0.051205   \n",
       "girisimcilikle_ilgili_deneyiminiz_var_mi                                                 0.027401   \n",
       "ingilizce_biliyor_musunuz                                                               -0.064301   \n",
       "ingilizce_seviyeniz                                                                      0.020999   \n",
       "id                                                                                      -0.086153   \n",
       "\n",
       "                                                    baska_bir_kurumdan_burs_aliyor_mu  \\\n",
       "basvuru_yili                                                                 0.199505   \n",
       "degerlendirme_puani                                                         -0.018997   \n",
       "cinsiyet                                                                    -0.041851   \n",
       "universite_turu                                                             -0.012843   \n",
       "burslu_ise_burs_yuzdesi                                                      0.066590   \n",
       "burs_aliyor_mu                                                               0.032544   \n",
       "universite_kacinci_sinif                                                    -0.048454   \n",
       "universite_not_ortalamasi                                                    0.075822   \n",
       "daha_once_baska_bir_universiteden_mezun_olmus                               -0.046977   \n",
       "baska_bir_kurumdan_burs_aliyor_mu                                            1.000000   \n",
       "anne_calisma_durumu                                                         -0.086384   \n",
       "anne_sektor                                                                 -0.044210   \n",
       "baba_egitim_durumu                                                          -0.132055   \n",
       "baba_calisma_durumu                                                         -0.145710   \n",
       "baba_sektor                                                                 -0.041804   \n",
       "kardes_sayisi                                                                0.039300   \n",
       "girisimcilik_kulupleri_tarzi_bir_kulube_uye_mis...                          -0.022169   \n",
       "profesyonel_bir_spor_daliyla_mesgul_musunuz                                  0.038251   \n",
       "aktif_olarak_bir_stk_uyesi_misiniz                                           0.036717   \n",
       "stk_projesine_katildiniz_mi                                                 -0.062299   \n",
       "girisimcilikle_ilgili_deneyiminiz_var_mi                                    -0.039370   \n",
       "ingilizce_biliyor_musunuz                                                    0.045904   \n",
       "ingilizce_seviyeniz                                                         -0.057562   \n",
       "id                                                                           0.121467   \n",
       "\n",
       "                                                    anne_calisma_durumu  \\\n",
       "basvuru_yili                                                  -0.189641   \n",
       "degerlendirme_puani                                            0.165408   \n",
       "cinsiyet                                                      -0.022374   \n",
       "universite_turu                                                0.115833   \n",
       "burslu_ise_burs_yuzdesi                                        0.065976   \n",
       "burs_aliyor_mu                                                 0.080307   \n",
       "universite_kacinci_sinif                                       0.036282   \n",
       "universite_not_ortalamasi                                     -0.045489   \n",
       "daha_once_baska_bir_universiteden_mezun_olmus                  0.021730   \n",
       "baska_bir_kurumdan_burs_aliyor_mu                             -0.086384   \n",
       "anne_calisma_durumu                                            1.000000   \n",
       "anne_sektor                                                    0.450453   \n",
       "baba_egitim_durumu                                             0.231037   \n",
       "baba_calisma_durumu                                            0.213116   \n",
       "baba_sektor                                                   -0.060914   \n",
       "kardes_sayisi                                                 -0.228490   \n",
       "girisimcilik_kulupleri_tarzi_bir_kulube_uye_mis...             0.145297   \n",
       "profesyonel_bir_spor_daliyla_mesgul_musunuz                    0.001347   \n",
       "aktif_olarak_bir_stk_uyesi_misiniz                             0.077556   \n",
       "stk_projesine_katildiniz_mi                                    0.166851   \n",
       "girisimcilikle_ilgili_deneyiminiz_var_mi                       0.118979   \n",
       "ingilizce_biliyor_musunuz                                      0.034134   \n",
       "ingilizce_seviyeniz                                            0.243204   \n",
       "id                                                            -0.175780   \n",
       "\n",
       "                                                    anne_sektor  \\\n",
       "basvuru_yili                                           0.032508   \n",
       "degerlendirme_puani                                    0.079245   \n",
       "cinsiyet                                              -0.059572   \n",
       "universite_turu                                        0.089548   \n",
       "burslu_ise_burs_yuzdesi                                0.044232   \n",
       "burs_aliyor_mu                                         0.059388   \n",
       "universite_kacinci_sinif                               0.009963   \n",
       "universite_not_ortalamasi                             -0.006288   \n",
       "daha_once_baska_bir_universiteden_mezun_olmus         -0.006659   \n",
       "baska_bir_kurumdan_burs_aliyor_mu                     -0.044210   \n",
       "anne_calisma_durumu                                    0.450453   \n",
       "anne_sektor                                            1.000000   \n",
       "baba_egitim_durumu                                     0.123937   \n",
       "baba_calisma_durumu                                   -0.032426   \n",
       "baba_sektor                                            0.066670   \n",
       "kardes_sayisi                                         -0.195508   \n",
       "girisimcilik_kulupleri_tarzi_bir_kulube_uye_mis...     0.059386   \n",
       "profesyonel_bir_spor_daliyla_mesgul_musunuz            0.053488   \n",
       "aktif_olarak_bir_stk_uyesi_misiniz                     0.033303   \n",
       "stk_projesine_katildiniz_mi                            0.008495   \n",
       "girisimcilikle_ilgili_deneyiminiz_var_mi               0.027122   \n",
       "ingilizce_biliyor_musunuz                              0.067976   \n",
       "ingilizce_seviyeniz                                    0.026435   \n",
       "id                                                    -0.010667   \n",
       "\n",
       "                                                    baba_egitim_durumu  \\\n",
       "basvuru_yili                                                  0.005529   \n",
       "degerlendirme_puani                                           0.243107   \n",
       "cinsiyet                                                     -0.004054   \n",
       "universite_turu                                               0.165338   \n",
       "burslu_ise_burs_yuzdesi                                       0.080603   \n",
       "burs_aliyor_mu                                                0.090933   \n",
       "universite_kacinci_sinif                                      0.045921   \n",
       "universite_not_ortalamasi                                    -0.017767   \n",
       "daha_once_baska_bir_universiteden_mezun_olmus                -0.026112   \n",
       "baska_bir_kurumdan_burs_aliyor_mu                            -0.132055   \n",
       "anne_calisma_durumu                                           0.231037   \n",
       "anne_sektor                                                   0.123937   \n",
       "baba_egitim_durumu                                            1.000000   \n",
       "baba_calisma_durumu                                           0.163184   \n",
       "baba_sektor                                                   0.024968   \n",
       "kardes_sayisi                                                -0.251717   \n",
       "girisimcilik_kulupleri_tarzi_bir_kulube_uye_mis...            0.199916   \n",
       "profesyonel_bir_spor_daliyla_mesgul_musunuz                   0.112439   \n",
       "aktif_olarak_bir_stk_uyesi_misiniz                            0.103102   \n",
       "stk_projesine_katildiniz_mi                                   0.103618   \n",
       "girisimcilikle_ilgili_deneyiminiz_var_mi                      0.122353   \n",
       "ingilizce_biliyor_musunuz                                     0.184203   \n",
       "ingilizce_seviyeniz                                           0.169157   \n",
       "id                                                           -0.057761   \n",
       "\n",
       "                                                    baba_calisma_durumu  \\\n",
       "basvuru_yili                                                  -0.463981   \n",
       "degerlendirme_puani                                            0.125600   \n",
       "cinsiyet                                                       0.061399   \n",
       "universite_turu                                                0.033781   \n",
       "burslu_ise_burs_yuzdesi                                        0.013558   \n",
       "burs_aliyor_mu                                                 0.015955   \n",
       "universite_kacinci_sinif                                       0.042426   \n",
       "universite_not_ortalamasi                                     -0.133163   \n",
       "daha_once_baska_bir_universiteden_mezun_olmus                  0.073747   \n",
       "baska_bir_kurumdan_burs_aliyor_mu                             -0.145710   \n",
       "anne_calisma_durumu                                            0.213116   \n",
       "anne_sektor                                                   -0.032426   \n",
       "baba_egitim_durumu                                             0.163184   \n",
       "baba_calisma_durumu                                            1.000000   \n",
       "baba_sektor                                                    0.017777   \n",
       "kardes_sayisi                                                 -0.011193   \n",
       "girisimcilik_kulupleri_tarzi_bir_kulube_uye_mis...             0.160609   \n",
       "profesyonel_bir_spor_daliyla_mesgul_musunuz                   -0.144230   \n",
       "aktif_olarak_bir_stk_uyesi_misiniz                             0.095718   \n",
       "stk_projesine_katildiniz_mi                                    0.318282   \n",
       "girisimcilikle_ilgili_deneyiminiz_var_mi                       0.193765   \n",
       "ingilizce_biliyor_musunuz                                     -0.018225   \n",
       "ingilizce_seviyeniz                                            0.402341   \n",
       "id                                                            -0.338310   \n",
       "\n",
       "                                                    baba_sektor  \\\n",
       "basvuru_yili                                           0.078822   \n",
       "degerlendirme_puani                                    0.003584   \n",
       "cinsiyet                                              -0.045063   \n",
       "universite_turu                                        0.061061   \n",
       "burslu_ise_burs_yuzdesi                                0.008812   \n",
       "burs_aliyor_mu                                         0.027312   \n",
       "universite_kacinci_sinif                              -0.024924   \n",
       "universite_not_ortalamasi                              0.009382   \n",
       "daha_once_baska_bir_universiteden_mezun_olmus         -0.027156   \n",
       "baska_bir_kurumdan_burs_aliyor_mu                     -0.041804   \n",
       "anne_calisma_durumu                                   -0.060914   \n",
       "anne_sektor                                            0.066670   \n",
       "baba_egitim_durumu                                     0.024968   \n",
       "baba_calisma_durumu                                    0.017777   \n",
       "baba_sektor                                            1.000000   \n",
       "kardes_sayisi                                         -0.034554   \n",
       "girisimcilik_kulupleri_tarzi_bir_kulube_uye_mis...     0.009761   \n",
       "profesyonel_bir_spor_daliyla_mesgul_musunuz            0.035024   \n",
       "aktif_olarak_bir_stk_uyesi_misiniz                     0.016752   \n",
       "stk_projesine_katildiniz_mi                           -0.028915   \n",
       "girisimcilikle_ilgili_deneyiminiz_var_mi              -0.004166   \n",
       "ingilizce_biliyor_musunuz                              0.048719   \n",
       "ingilizce_seviyeniz                                   -0.032173   \n",
       "id                                                     0.045161   \n",
       "\n",
       "                                                    kardes_sayisi  \\\n",
       "basvuru_yili                                            -0.080814   \n",
       "degerlendirme_puani                                     -0.141835   \n",
       "cinsiyet                                                 0.045799   \n",
       "universite_turu                                         -0.131142   \n",
       "burslu_ise_burs_yuzdesi                                 -0.066523   \n",
       "burs_aliyor_mu                                          -0.052742   \n",
       "universite_kacinci_sinif                                -0.015014   \n",
       "universite_not_ortalamasi                                0.001292   \n",
       "daha_once_baska_bir_universiteden_mezun_olmus            0.033318   \n",
       "baska_bir_kurumdan_burs_aliyor_mu                        0.039300   \n",
       "anne_calisma_durumu                                     -0.228490   \n",
       "anne_sektor                                             -0.195508   \n",
       "baba_egitim_durumu                                      -0.251717   \n",
       "baba_calisma_durumu                                     -0.011193   \n",
       "baba_sektor                                             -0.034554   \n",
       "kardes_sayisi                                            1.000000   \n",
       "girisimcilik_kulupleri_tarzi_bir_kulube_uye_mis...      -0.109807   \n",
       "profesyonel_bir_spor_daliyla_mesgul_musunuz             -0.099817   \n",
       "aktif_olarak_bir_stk_uyesi_misiniz                      -0.045450   \n",
       "stk_projesine_katildiniz_mi                             -0.004684   \n",
       "girisimcilikle_ilgili_deneyiminiz_var_mi                -0.024103   \n",
       "ingilizce_biliyor_musunuz                               -0.109751   \n",
       "ingilizce_seviyeniz                                     -0.054847   \n",
       "id                                                      -0.004609   \n",
       "\n",
       "                                                    girisimcilik_kulupleri_tarzi_bir_kulube_uye_misiniz  \\\n",
       "basvuru_yili                                                                                -0.098618     \n",
       "degerlendirme_puani                                                                          0.592193     \n",
       "cinsiyet                                                                                     0.051548     \n",
       "universite_turu                                                                              0.118232     \n",
       "burslu_ise_burs_yuzdesi                                                                      0.083819     \n",
       "burs_aliyor_mu                                                                               0.087731     \n",
       "universite_kacinci_sinif                                                                     0.061531     \n",
       "universite_not_ortalamasi                                                                    0.000225     \n",
       "daha_once_baska_bir_universiteden_mezun_olmus                                               -0.012073     \n",
       "baska_bir_kurumdan_burs_aliyor_mu                                                           -0.022169     \n",
       "anne_calisma_durumu                                                                          0.145297     \n",
       "anne_sektor                                                                                  0.059386     \n",
       "baba_egitim_durumu                                                                           0.199916     \n",
       "baba_calisma_durumu                                                                          0.160609     \n",
       "baba_sektor                                                                                  0.009761     \n",
       "kardes_sayisi                                                                               -0.109807     \n",
       "girisimcilik_kulupleri_tarzi_bir_kulube_uye_mis...                                           1.000000     \n",
       "profesyonel_bir_spor_daliyla_mesgul_musunuz                                                  0.073955     \n",
       "aktif_olarak_bir_stk_uyesi_misiniz                                                           0.232996     \n",
       "stk_projesine_katildiniz_mi                                                                  0.309251     \n",
       "girisimcilikle_ilgili_deneyiminiz_var_mi                                                     0.250962     \n",
       "ingilizce_biliyor_musunuz                                                                    0.177555     \n",
       "ingilizce_seviyeniz                                                                          0.258433     \n",
       "id                                                                                          -0.128664     \n",
       "\n",
       "                                                    profesyonel_bir_spor_daliyla_mesgul_musunuz  \\\n",
       "basvuru_yili                                                                           0.309614   \n",
       "degerlendirme_puani                                                                    0.350226   \n",
       "cinsiyet                                                                               0.055190   \n",
       "universite_turu                                                                        0.049490   \n",
       "burslu_ise_burs_yuzdesi                                                                0.015325   \n",
       "burs_aliyor_mu                                                                         0.017845   \n",
       "universite_kacinci_sinif                                                              -0.016310   \n",
       "universite_not_ortalamasi                                                              0.098560   \n",
       "daha_once_baska_bir_universiteden_mezun_olmus                                         -0.043476   \n",
       "baska_bir_kurumdan_burs_aliyor_mu                                                      0.038251   \n",
       "anne_calisma_durumu                                                                    0.001347   \n",
       "anne_sektor                                                                            0.053488   \n",
       "baba_egitim_durumu                                                                     0.112439   \n",
       "baba_calisma_durumu                                                                   -0.144230   \n",
       "baba_sektor                                                                            0.035024   \n",
       "kardes_sayisi                                                                         -0.099817   \n",
       "girisimcilik_kulupleri_tarzi_bir_kulube_uye_mis...                                     0.073955   \n",
       "profesyonel_bir_spor_daliyla_mesgul_musunuz                                            1.000000   \n",
       "aktif_olarak_bir_stk_uyesi_misiniz                                                     0.113199   \n",
       "stk_projesine_katildiniz_mi                                                           -0.130447   \n",
       "girisimcilikle_ilgili_deneyiminiz_var_mi                                               0.087356   \n",
       "ingilizce_biliyor_musunuz                                                              0.124766   \n",
       "ingilizce_seviyeniz                                                                   -0.193404   \n",
       "id                                                                                     0.179886   \n",
       "\n",
       "                                                    aktif_olarak_bir_stk_uyesi_misiniz  \\\n",
       "basvuru_yili                                                                  0.099181   \n",
       "degerlendirme_puani                                                           0.453276   \n",
       "cinsiyet                                                                     -0.018216   \n",
       "universite_turu                                                               0.037155   \n",
       "burslu_ise_burs_yuzdesi                                                      -0.020917   \n",
       "burs_aliyor_mu                                                                0.013731   \n",
       "universite_kacinci_sinif                                                      0.098910   \n",
       "universite_not_ortalamasi                                                     0.031328   \n",
       "daha_once_baska_bir_universiteden_mezun_olmus                                -0.004859   \n",
       "baska_bir_kurumdan_burs_aliyor_mu                                             0.036717   \n",
       "anne_calisma_durumu                                                           0.077556   \n",
       "anne_sektor                                                                   0.033303   \n",
       "baba_egitim_durumu                                                            0.103102   \n",
       "baba_calisma_durumu                                                           0.095718   \n",
       "baba_sektor                                                                   0.016752   \n",
       "kardes_sayisi                                                                -0.045450   \n",
       "girisimcilik_kulupleri_tarzi_bir_kulube_uye_mis...                            0.232996   \n",
       "profesyonel_bir_spor_daliyla_mesgul_musunuz                                   0.113199   \n",
       "aktif_olarak_bir_stk_uyesi_misiniz                                            1.000000   \n",
       "stk_projesine_katildiniz_mi                                                   0.185743   \n",
       "girisimcilikle_ilgili_deneyiminiz_var_mi                                      0.242392   \n",
       "ingilizce_biliyor_musunuz                                                     0.116161   \n",
       "ingilizce_seviyeniz                                                           0.055988   \n",
       "id                                                                            0.108261   \n",
       "\n",
       "                                                    stk_projesine_katildiniz_mi  \\\n",
       "basvuru_yili                                                          -0.411315   \n",
       "degerlendirme_puani                                                    0.459472   \n",
       "cinsiyet                                                               0.060432   \n",
       "universite_turu                                                        0.049120   \n",
       "burslu_ise_burs_yuzdesi                                                0.065996   \n",
       "burs_aliyor_mu                                                         0.045269   \n",
       "universite_kacinci_sinif                                               0.064182   \n",
       "universite_not_ortalamasi                                             -0.066904   \n",
       "daha_once_baska_bir_universiteden_mezun_olmus                          0.051205   \n",
       "baska_bir_kurumdan_burs_aliyor_mu                                     -0.062299   \n",
       "anne_calisma_durumu                                                    0.166851   \n",
       "anne_sektor                                                            0.008495   \n",
       "baba_egitim_durumu                                                     0.103618   \n",
       "baba_calisma_durumu                                                    0.318282   \n",
       "baba_sektor                                                           -0.028915   \n",
       "kardes_sayisi                                                         -0.004684   \n",
       "girisimcilik_kulupleri_tarzi_bir_kulube_uye_mis...                     0.309251   \n",
       "profesyonel_bir_spor_daliyla_mesgul_musunuz                           -0.130447   \n",
       "aktif_olarak_bir_stk_uyesi_misiniz                                     0.185743   \n",
       "stk_projesine_katildiniz_mi                                            1.000000   \n",
       "girisimcilikle_ilgili_deneyiminiz_var_mi                               0.282885   \n",
       "ingilizce_biliyor_musunuz                                              0.051523   \n",
       "ingilizce_seviyeniz                                                    0.462652   \n",
       "id                                                                    -0.340162   \n",
       "\n",
       "                                                    girisimcilikle_ilgili_deneyiminiz_var_mi  \\\n",
       "basvuru_yili                                                                       -0.149586   \n",
       "degerlendirme_puani                                                                 0.362835   \n",
       "cinsiyet                                                                            0.162304   \n",
       "universite_turu                                                                     0.061612   \n",
       "burslu_ise_burs_yuzdesi                                                             0.034763   \n",
       "burs_aliyor_mu                                                                      0.049832   \n",
       "universite_kacinci_sinif                                                            0.050773   \n",
       "universite_not_ortalamasi                                                          -0.036308   \n",
       "daha_once_baska_bir_universiteden_mezun_olmus                                       0.027401   \n",
       "baska_bir_kurumdan_burs_aliyor_mu                                                  -0.039370   \n",
       "anne_calisma_durumu                                                                 0.118979   \n",
       "anne_sektor                                                                         0.027122   \n",
       "baba_egitim_durumu                                                                  0.122353   \n",
       "baba_calisma_durumu                                                                 0.193765   \n",
       "baba_sektor                                                                        -0.004166   \n",
       "kardes_sayisi                                                                      -0.024103   \n",
       "girisimcilik_kulupleri_tarzi_bir_kulube_uye_mis...                                  0.250962   \n",
       "profesyonel_bir_spor_daliyla_mesgul_musunuz                                         0.087356   \n",
       "aktif_olarak_bir_stk_uyesi_misiniz                                                  0.242392   \n",
       "stk_projesine_katildiniz_mi                                                         0.282885   \n",
       "girisimcilikle_ilgili_deneyiminiz_var_mi                                            1.000000   \n",
       "ingilizce_biliyor_musunuz                                                           0.093078   \n",
       "ingilizce_seviyeniz                                                                 0.221932   \n",
       "id                                                                                 -0.129277   \n",
       "\n",
       "                                                    ingilizce_biliyor_musunuz  \\\n",
       "basvuru_yili                                                         0.299986   \n",
       "degerlendirme_puani                                                  0.188715   \n",
       "cinsiyet                                                            -0.034746   \n",
       "universite_turu                                                      0.080540   \n",
       "burslu_ise_burs_yuzdesi                                              0.047672   \n",
       "burs_aliyor_mu                                                       0.035415   \n",
       "universite_kacinci_sinif                                            -0.009583   \n",
       "universite_not_ortalamasi                                            0.038070   \n",
       "daha_once_baska_bir_universiteden_mezun_olmus                       -0.064301   \n",
       "baska_bir_kurumdan_burs_aliyor_mu                                    0.045904   \n",
       "anne_calisma_durumu                                                  0.034134   \n",
       "anne_sektor                                                          0.067976   \n",
       "baba_egitim_durumu                                                   0.184203   \n",
       "baba_calisma_durumu                                                 -0.018225   \n",
       "baba_sektor                                                          0.048719   \n",
       "kardes_sayisi                                                       -0.109751   \n",
       "girisimcilik_kulupleri_tarzi_bir_kulube_uye_mis...                   0.177555   \n",
       "profesyonel_bir_spor_daliyla_mesgul_musunuz                          0.124766   \n",
       "aktif_olarak_bir_stk_uyesi_misiniz                                   0.116161   \n",
       "stk_projesine_katildiniz_mi                                          0.051523   \n",
       "girisimcilikle_ilgili_deneyiminiz_var_mi                             0.093078   \n",
       "ingilizce_biliyor_musunuz                                            1.000000   \n",
       "ingilizce_seviyeniz                                                  0.439707   \n",
       "id                                                                   0.171152   \n",
       "\n",
       "                                                    ingilizce_seviyeniz  \\\n",
       "basvuru_yili                                                  -0.413204   \n",
       "degerlendirme_puani                                            0.221139   \n",
       "cinsiyet                                                       0.075231   \n",
       "universite_turu                                                0.089161   \n",
       "burslu_ise_burs_yuzdesi                                        0.109782   \n",
       "burs_aliyor_mu                                                 0.075803   \n",
       "universite_kacinci_sinif                                      -0.011283   \n",
       "universite_not_ortalamasi                                     -0.130543   \n",
       "daha_once_baska_bir_universiteden_mezun_olmus                  0.020999   \n",
       "baska_bir_kurumdan_burs_aliyor_mu                             -0.057562   \n",
       "anne_calisma_durumu                                            0.243204   \n",
       "anne_sektor                                                    0.026435   \n",
       "baba_egitim_durumu                                             0.169157   \n",
       "baba_calisma_durumu                                            0.402341   \n",
       "baba_sektor                                                   -0.032173   \n",
       "kardes_sayisi                                                 -0.054847   \n",
       "girisimcilik_kulupleri_tarzi_bir_kulube_uye_mis...             0.258433   \n",
       "profesyonel_bir_spor_daliyla_mesgul_musunuz                   -0.193404   \n",
       "aktif_olarak_bir_stk_uyesi_misiniz                             0.055988   \n",
       "stk_projesine_katildiniz_mi                                    0.462652   \n",
       "girisimcilikle_ilgili_deneyiminiz_var_mi                       0.221932   \n",
       "ingilizce_biliyor_musunuz                                      0.439707   \n",
       "ingilizce_seviyeniz                                            1.000000   \n",
       "id                                                            -0.370443   \n",
       "\n",
       "                                                          id  \n",
       "basvuru_yili                                        0.759494  \n",
       "degerlendirme_puani                                -0.172374  \n",
       "cinsiyet                                           -0.088750  \n",
       "universite_turu                                    -0.439905  \n",
       "burslu_ise_burs_yuzdesi                            -0.574259  \n",
       "burs_aliyor_mu                                     -0.536721  \n",
       "universite_kacinci_sinif                            0.019603  \n",
       "universite_not_ortalamasi                           0.130602  \n",
       "daha_once_baska_bir_universiteden_mezun_olmus      -0.086153  \n",
       "baska_bir_kurumdan_burs_aliyor_mu                   0.121467  \n",
       "anne_calisma_durumu                                -0.175780  \n",
       "anne_sektor                                        -0.010667  \n",
       "baba_egitim_durumu                                 -0.057761  \n",
       "baba_calisma_durumu                                -0.338310  \n",
       "baba_sektor                                         0.045161  \n",
       "kardes_sayisi                                      -0.004609  \n",
       "girisimcilik_kulupleri_tarzi_bir_kulube_uye_mis... -0.128664  \n",
       "profesyonel_bir_spor_daliyla_mesgul_musunuz         0.179886  \n",
       "aktif_olarak_bir_stk_uyesi_misiniz                  0.108261  \n",
       "stk_projesine_katildiniz_mi                        -0.340162  \n",
       "girisimcilikle_ilgili_deneyiminiz_var_mi           -0.129277  \n",
       "ingilizce_biliyor_musunuz                           0.171152  \n",
       "ingilizce_seviyeniz                                -0.370443  \n",
       "id                                                  1.000000  "
      ]
     },
     "execution_count": 189,
     "metadata": {},
     "output_type": "execute_result"
    }
   ],
   "source": [
    "train_set.corr()"
   ]
  },
  {
   "cell_type": "code",
   "execution_count": 190,
   "id": "456cc27d",
   "metadata": {
    "execution": {
     "iopub.execute_input": "2024-09-11T09:11:11.638950Z",
     "iopub.status.busy": "2024-09-11T09:11:11.638452Z",
     "iopub.status.idle": "2024-09-11T09:11:11.643690Z",
     "shell.execute_reply": "2024-09-11T09:11:11.642511Z"
    },
    "papermill": {
     "duration": 0.080154,
     "end_time": "2024-09-11T09:11:11.645986",
     "exception": false,
     "start_time": "2024-09-11T09:11:11.565832",
     "status": "completed"
    },
    "tags": []
   },
   "outputs": [],
   "source": [
    "import warnings\n",
    "\n",
    "# Global olarak tüm uyarıları kapatmak için\n",
    "warnings.filterwarnings(\"ignore\")\n",
    "\n",
    "# Kodunuz burada yer alacak"
   ]
  },
  {
   "cell_type": "code",
   "execution_count": 191,
   "id": "1ca0ada8",
   "metadata": {
    "execution": {
     "iopub.execute_input": "2024-09-11T09:11:11.791962Z",
     "iopub.status.busy": "2024-09-11T09:11:11.791530Z",
     "iopub.status.idle": "2024-09-11T09:11:12.634044Z",
     "shell.execute_reply": "2024-09-11T09:11:12.632638Z"
    },
    "papermill": {
     "duration": 0.918312,
     "end_time": "2024-09-11T09:11:12.636641",
     "exception": false,
     "start_time": "2024-09-11T09:11:11.718329",
     "status": "completed"
    },
    "tags": []
   },
   "outputs": [],
   "source": [
    "# Gerekli kütüphaneler\n",
    "from catboost import CatBoostClassifier, CatBoostRegressor\n",
    "from sklearn.model_selection import train_test_split\n",
    "from sklearn.metrics import accuracy_score, mean_squared_error\n",
    "\n",
    "# Hedef ve özellik sütunları seçelim\n",
    "X = train_set.drop(\"degerlendirme_puani\", axis=1)  # Tahmin etmek istediğiniz sütun dışındaki veriler\n",
    "y = train_set[\"degerlendirme_puani\"]  # Hedef sütun\n",
    "\n",
    "# Veriyi eğitim ve test setlerine bölelim\n",
    "X_train, X_test, y_train, y_test = train_test_split(X, y, test_size=0.2, random_state=42)"
   ]
  },
  {
   "cell_type": "code",
   "execution_count": 192,
   "id": "2729f1aa",
   "metadata": {
    "execution": {
     "iopub.execute_input": "2024-09-11T09:11:12.782155Z",
     "iopub.status.busy": "2024-09-11T09:11:12.780701Z",
     "iopub.status.idle": "2024-09-11T09:11:12.953111Z",
     "shell.execute_reply": "2024-09-11T09:11:12.951956Z"
    },
    "papermill": {
     "duration": 0.248804,
     "end_time": "2024-09-11T09:11:12.956772",
     "exception": false,
     "start_time": "2024-09-11T09:11:12.707968",
     "status": "completed"
    },
    "tags": []
   },
   "outputs": [],
   "source": [
    "# ELASTIC NET\n",
    "from sklearn.linear_model import ElasticNet\n",
    "alpha = 0.7  # Modelin ceza gücü (daha yüksek alpha = daha fazla ceza)\n",
    "l1_ratio = 0.5  # L1 (Lasso) ve L2 (Ridge) arasında denge (0 ile 1 arasında değer alır)\n",
    "\n",
    "elastic_net_model = ElasticNet(alpha=alpha, l1_ratio=l1_ratio, random_state=42)\n",
    "\n",
    "elastic_net_model.fit(X_train, y_train)\n",
    "\n",
    "test_predictions = elastic_net_model.predict(X_test)"
   ]
  },
  {
   "cell_type": "code",
   "execution_count": 193,
   "id": "abba13c9",
   "metadata": {
    "execution": {
     "iopub.execute_input": "2024-09-11T09:11:13.177390Z",
     "iopub.status.busy": "2024-09-11T09:11:13.176900Z",
     "iopub.status.idle": "2024-09-11T09:11:13.186866Z",
     "shell.execute_reply": "2024-09-11T09:11:13.185549Z"
    },
    "papermill": {
     "duration": 0.086022,
     "end_time": "2024-09-11T09:11:13.189373",
     "exception": false,
     "start_time": "2024-09-11T09:11:13.103351",
     "status": "completed"
    },
    "tags": []
   },
   "outputs": [
    {
     "name": "stdout",
     "output_type": "stream",
     "text": [
      "RMSE: 12.976687408557813\n",
      "R²: 0.4982538160221598\n"
     ]
    }
   ],
   "source": [
    "from sklearn.metrics import mean_squared_error, r2_score\n",
    "\n",
    "# RMSE (Root Mean Squared Error)\n",
    "rmse = np.sqrt(mean_squared_error(y_test, test_predictions))\n",
    "print(f\"RMSE: {rmse}\")\n",
    "\n",
    "# R² (R-squared)\n",
    "r2 = r2_score(y_test, test_predictions)\n",
    "print(f\"R²: {r2}\")"
   ]
  },
  {
   "cell_type": "markdown",
   "id": "9b8a7082",
   "metadata": {
    "papermill": {
     "duration": 0.072135,
     "end_time": "2024-09-11T09:11:13.332070",
     "exception": false,
     "start_time": "2024-09-11T09:11:13.259935",
     "status": "completed"
    },
    "tags": []
   },
   "source": [
    "# TEST SETİNİN DÜZENLENMESİ"
   ]
  },
  {
   "cell_type": "code",
   "execution_count": 194,
   "id": "7d820c3c",
   "metadata": {
    "execution": {
     "iopub.execute_input": "2024-09-11T09:11:13.478587Z",
     "iopub.status.busy": "2024-09-11T09:11:13.478171Z",
     "iopub.status.idle": "2024-09-11T09:11:13.647289Z",
     "shell.execute_reply": "2024-09-11T09:11:13.646017Z"
    },
    "papermill": {
     "duration": 0.246024,
     "end_time": "2024-09-11T09:11:13.650331",
     "exception": false,
     "start_time": "2024-09-11T09:11:13.404307",
     "status": "completed"
    },
    "tags": []
   },
   "outputs": [],
   "source": [
    "test = pd.read_csv(\"/kaggle/input/datathon-2024/test_x.csv\")"
   ]
  },
  {
   "cell_type": "code",
   "execution_count": 195,
   "id": "03ac57ae",
   "metadata": {
    "execution": {
     "iopub.execute_input": "2024-09-11T09:11:13.797960Z",
     "iopub.status.busy": "2024-09-11T09:11:13.797494Z",
     "iopub.status.idle": "2024-09-11T09:11:13.803210Z",
     "shell.execute_reply": "2024-09-11T09:11:13.801895Z"
    },
    "papermill": {
     "duration": 0.0832,
     "end_time": "2024-09-11T09:11:13.805571",
     "exception": false,
     "start_time": "2024-09-11T09:11:13.722371",
     "status": "completed"
    },
    "tags": []
   },
   "outputs": [],
   "source": [
    "ids = test['id']"
   ]
  },
  {
   "cell_type": "code",
   "execution_count": 196,
   "id": "940d9844",
   "metadata": {
    "execution": {
     "iopub.execute_input": "2024-09-11T09:11:13.960609Z",
     "iopub.status.busy": "2024-09-11T09:11:13.959896Z",
     "iopub.status.idle": "2024-09-11T09:11:14.371854Z",
     "shell.execute_reply": "2024-09-11T09:11:14.370649Z"
    },
    "papermill": {
     "duration": 0.496462,
     "end_time": "2024-09-11T09:11:14.374553",
     "exception": false,
     "start_time": "2024-09-11T09:11:13.878091",
     "status": "completed"
    },
    "tags": []
   },
   "outputs": [],
   "source": [
    "test['Cinsiyet'] = test['Cinsiyet'].replace('ERKEK', 'Erkek')\n",
    "test[\"Cinsiyet\"] = test[\"Cinsiyet\"].fillna(0)\n",
    "test[\"Cinsiyet\"] = test[\"Cinsiyet\"].replace('Belirtmek istemiyorum', '0')\n",
    "\n",
    "# SÜTUN ADLARINI DÜZELTME\n",
    "test.columns = [col.strip().lower().replace(' ', '_').replace('?', '').replace(\"'\", '').replace(\"ö\", 'o').replace(\"ü\", 'u').replace(\"Ö\", 'o').replace(\"Ü\", 'u').replace(\",\", '') for col in test.columns]\n",
    "\n",
    "test = test.applymap(lambda x: x.lower() if isinstance(x, str) else x)\n",
    "test['cinsiyet'] = test['cinsiyet'].replace('belirtmek istemiyorum', '0')\n",
    "test[\"universite_turu\"] = test[\"universite_turu\"].fillna(0)\n",
    "test[\"cinsiyet\"] = test[\"cinsiyet\"].fillna(0)\n",
    "test[\"burslu_ise_burs_yuzdesi\"] = test[\"burslu_ise_burs_yuzdesi\"].fillna(0)\n",
    "#test = test.loc[test['universite_kacinci_sinif'] != '0']\n",
    "#test = test.loc[test['universite_kacinci_sinif'] != 'tez']\n",
    "#test = test.loc[test['universite_kacinci_sinif'] != 'yüksek lisans']\n",
    "test[\"universite_kacinci_sinif\"] = test[\"universite_kacinci_sinif\"].fillna(0)\n",
    "test['universite_not_ortalamasi'] = test['universite_not_ortalamasi'].replace('3.00-2.50', '2.50 ve üstü')\n",
    "test['universite_not_ortalamasi'] = test['universite_not_ortalamasi'].replace('3.00 - 3.50', '2.50 ve üstü')\n",
    "test['universite_not_ortalamasi'] = test['universite_not_ortalamasi'].replace('3.50-3', '2.50 ve üstü')\n",
    "test['universite_not_ortalamasi'] = test['universite_not_ortalamasi'].replace('2.50 - 3.00', '2.50 ve üstü')\n",
    "test['universite_not_ortalamasi'] = test['universite_not_ortalamasi'].replace('3.50 - 4.00', '2.50 ve üstü')\n",
    "test['universite_not_ortalamasi'] = test['universite_not_ortalamasi'].replace('2.50 - 2.99', '2.50 ve üstü')\n",
    "test['universite_not_ortalamasi'] = test['universite_not_ortalamasi'].replace('2.00 - 2.50', '2.50 ve altı')\n",
    "test['universite_not_ortalamasi'] = test['universite_not_ortalamasi'].replace('3.00 - 3.49', '2.50 ve üstü')\n",
    "test['universite_not_ortalamasi'] = test['universite_not_ortalamasi'].replace('2.50 -3.00', '2.50 ve üstü')\n",
    "test['universite_not_ortalamasi'] = test['universite_not_ortalamasi'].replace('3.00 - 4.00', '2.50 ve üstü')\n",
    "test['universite_not_ortalamasi'] = test['universite_not_ortalamasi'].replace('1.80 - 2.49', '2.50 ve altı')\n",
    "test['universite_not_ortalamasi'] = test['universite_not_ortalamasi'].replace('4-3.5', '2.50 ve üstü')\n",
    "test['universite_not_ortalamasi'] = test['universite_not_ortalamasi'].replace('1.00 - 2.50', '2.50 ve altı')\n",
    "test['universite_not_ortalamasi'] = test['universite_not_ortalamasi'].replace('0 - 1.79', '2.50 ve altı')\n",
    "test['universite_not_ortalamasi'] = test['universite_not_ortalamasi'].replace('4.0-3.5', '2.50 ve üstü')\n",
    "test['universite_not_ortalamasi'] = test['universite_not_ortalamasi'].replace('not ortalaması yok', '0')\n",
    "test['universite_not_ortalamasi'] = test['universite_not_ortalamasi'].replace('ortalama bulunmuyor', '0')\n",
    "test['universite_not_ortalamasi'] = test['universite_not_ortalamasi'].replace('hazırlığım', '0')\n",
    "test[\"universite_not_ortalamasi\"] = test[\"universite_not_ortalamasi\"].fillna(\"0\")\n",
    "test[\"daha_once_baska_bir_universiteden_mezun_olmus\"] = test[\"daha_once_baska_bir_universiteden_mezun_olmus\"].fillna(\"hayır\")\n",
    "test[\"lise_mezuniyet_notu\"] = test[\"lise_mezuniyet_notu\"].fillna(\"hayır\")\n",
    "test['baska_bir_kurumdan_burs_aliyor_mu'] = test['baska_bir_kurumdan_burs_aliyor_mu'].fillna(test['burs_aliyor_mu'])\n",
    "test['anne_egitim_durumu'] = test['anne_egitim_durumu'].fillna(\"eğitim yok\")\n",
    "test['anne_calisma_durumu'] = test['anne_calisma_durumu'].fillna(\"hayır\")\n",
    "# 2 tane \"diğer\" algıladığı için, bunu düzeltme vakti\n",
    "test[\"anne_sektor\"] = test[\"anne_sektor\"].str.lower()\n",
    "test[\"anne_sektor\"] = test[\"anne_sektor\"].str.normalize('NFKD').str.encode('ascii', errors='ignore').str.decode('utf-8')\n",
    "test['anne_sektor'] = test['anne_sektor'].replace('-', '0')\n",
    "test['anne_sektor'] = test['anne_sektor'].fillna(\"0\")\n",
    "test[\"baba_egitim_durumu\"] = test[\"baba_egitim_durumu\"].str.lower()\n",
    "test[\"baba_egitim_durumu\"] = test[\"baba_egitim_durumu\"].str.normalize('NFKD').str.encode('ascii', errors='ignore').str.decode('utf-8')\n",
    "# \"yüksek lisans / doktara\"ları YÜKSEK LİSANSA YAZIYORUM, FARKETMEZ ŞİMDİLİK\n",
    "\n",
    "test['baba_egitim_durumu'] = test['baba_egitim_durumu'].replace('universite mezunu', 'universite')\n",
    "test['baba_egitim_durumu'] = test['baba_egitim_durumu'].replace('ilkokul mezunu', 'ilkokul')\n",
    "test['baba_egitim_durumu'] = test['baba_egitim_durumu'].replace('ortaokul mezunu', 'ortaokul')\n",
    "test['baba_egitim_durumu'] = test['baba_egitim_durumu'].replace('lise mezunu', 'lise')\n",
    "test['baba_egitim_durumu'] = test['baba_egitim_durumu'].replace('egitim yok', '0')\n",
    "test['baba_egitim_durumu'] = test['baba_egitim_durumu'].replace('egitimi yok', '0')\n",
    "test['baba_egitim_durumu'] = test['baba_egitim_durumu'].replace('yuksek lisans / doktora', 'yuksek lisans')\n",
    "test['baba_egitim_durumu'] = test['baba_egitim_durumu'].replace('yuksek lisans / doktara', 'yuksek lisans')\n",
    "test['baba_egitim_durumu'] = test['baba_egitim_durumu'].fillna(\"0\")\n",
    "# NaN verileri babası çalışmıyor'a yazdım. \n",
    "\n",
    "test['baba_calisma_durumu'] = test['baba_calisma_durumu'].fillna(\"hayır\")\n",
    "\n",
    "test[\"baba_sektor\"] = test[\"baba_sektor\"].str.lower()\n",
    "test[\"baba_sektor\"] = test[\"baba_sektor\"].str.normalize('NFKD').str.encode('ascii', errors='ignore').str.decode('utf-8')\n",
    "test['baba_sektor'] = test['baba_sektor'].replace('-', '0')\n",
    "# NaN verileri babası çalışmıyor'a yazdım. \n",
    "\n",
    "test['baba_sektor'] = test['baba_sektor'].fillna(\"0\")\n",
    "test[\"kardes_sayisi\"] = pd.to_numeric(test[\"kardes_sayisi\"], errors='coerce')\n",
    "# NaN verileri babası çalışmıyor'a yazdım. \n",
    "\n",
    "test['kardes_sayisi'] = test['kardes_sayisi'].fillna(\"0\")\n",
    "# NaN verileri babası çalışmıyor'a yazdım. \n",
    "\n",
    "test['girisimcilik_kulupleri_tarzi_bir_kulube_uye_misiniz'] = test['girisimcilik_kulupleri_tarzi_bir_kulube_uye_misiniz'].fillna(\"hayır\")\n",
    "\n",
    "# NaN verileri babası çalışmıyor'a yazdım. \n",
    "\n",
    "test['profesyonel_bir_spor_daliyla_mesgul_musunuz'] = test['profesyonel_bir_spor_daliyla_mesgul_musunuz'].fillna(\"hayır\")\n",
    "test['aktif_olarak_bir_stk_uyesi_misiniz'] = test['aktif_olarak_bir_stk_uyesi_misiniz'].fillna(\"hayır\")\n",
    "test['stk_projesine_katildiniz_mi'] = test['stk_projesine_katildiniz_mi'].fillna(\"hayır\")\n",
    "test['girisimcilikle_ilgili_deneyiminiz_var_mi'] = test['girisimcilikle_ilgili_deneyiminiz_var_mi'].fillna(\"hayır\")\n",
    "test['ingilizce_biliyor_musunuz'] = test['ingilizce_biliyor_musunuz'].fillna(\"hayır\")\n",
    "#test[\"ingilizce_seviyeniz\"] = test[\"ingilizce_seviyeniz\"].str.lower()\n",
    "#test[\"ingilizce_seviyeniz\"] = test[\"ingilizce_seviyeniz\"].str.normalize('NFKD').str.encode('ascii', errors='ignore').str.decode('utf-8')\n",
    "test['ingilizce_seviyeniz'] = test['ingilizce_seviyeniz'].fillna(\"0\")"
   ]
  },
  {
   "cell_type": "code",
   "execution_count": 197,
   "id": "fe0cbdff",
   "metadata": {
    "execution": {
     "iopub.execute_input": "2024-09-11T09:11:14.523178Z",
     "iopub.status.busy": "2024-09-11T09:11:14.522543Z",
     "iopub.status.idle": "2024-09-11T09:11:14.586410Z",
     "shell.execute_reply": "2024-09-11T09:11:14.585189Z"
    },
    "papermill": {
     "duration": 0.142454,
     "end_time": "2024-09-11T09:11:14.589315",
     "exception": false,
     "start_time": "2024-09-11T09:11:14.446861",
     "status": "completed"
    },
    "tags": []
   },
   "outputs": [],
   "source": [
    "# 'selected_columns' listesinde tutmak istediğin sütunlar olacak.\n",
    "# Normalde olmasına rağmen hızlanmam gerektiği için (submission zamanını kaçırmamak adına), lise_mezuniyet_notu ve anne_egitim_durumu'nu almıyorum.\n",
    "selected_columns = ['basvuru_yili', 'cinsiyet',\n",
    "       'universite_turu',\n",
    "       'burslu_ise_burs_yuzdesi', 'burs_aliyor_mu',\n",
    "       'universite_kacinci_sinif', 'universite_not_ortalamasi',\n",
    "       'daha_once_baska_bir_universiteden_mezun_olmus',\n",
    "       'baska_bir_kurumdan_burs_aliyor_mu',\n",
    "       'anne_calisma_durumu', 'anne_sektor', 'baba_egitim_durumu',\n",
    "       'baba_calisma_durumu', 'baba_sektor', 'kardes_sayisi',\n",
    "       'girisimcilik_kulupleri_tarzi_bir_kulube_uye_misiniz',\n",
    "       'profesyonel_bir_spor_daliyla_mesgul_musunuz','aktif_olarak_bir_stk_uyesi_misiniz',\n",
    "       'stk_projesine_katildiniz_mi',\n",
    "       'girisimcilikle_ilgili_deneyiminiz_var_mi',\n",
    "       'ingilizce_biliyor_musunuz', 'ingilizce_seviyeniz',\n",
    "       'id']  # Bu sütunları sakla\n",
    "\n",
    "test_set = test[selected_columns]  # Geri kalan sütunlar drop edilmiş olur.\n",
    "\n",
    "\n",
    "test_set['cinsiyet'] = test_set['cinsiyet'].map({'erkek': 1, 'kadın': 0})\n",
    "test_set['universite_turu'] = test_set['universite_turu'].map({'özel': 1, 'devlet': 0})\n",
    "test_set['burs_aliyor_mu'] = test_set['burs_aliyor_mu'].map({'evet': 1, 'hayır': 0})\n",
    "test_set['daha_once_baska_bir_universiteden_mezun_olmus'] = test_set['daha_once_baska_bir_universiteden_mezun_olmus'].map({'evet': 1, 'hayır': 0})\n",
    "test_set['baska_bir_kurumdan_burs_aliyor_mu'] = test_set['baska_bir_kurumdan_burs_aliyor_mu'].map({'evet': 1, 'hayır': 0})\n",
    "test_set['anne_calisma_durumu'] = test_set['anne_calisma_durumu'].map({'evet': 1, 'hayır': 0, 'emekli':2})\n",
    "test_set['anne_sektor'] = test_set['anne_sektor'].map({'0': 0, 'kamu': 1, 'ozel sektor':2, 'diger':3})\n",
    "test_set['baba_calisma_durumu'] = test_set['baba_calisma_durumu'].map({'evet': 1, 'hayır': 0, 'emekli':2})\n",
    "test_set['baba_sektor'] = test_set['baba_sektor'].map({'0': 0, 'kamu': 1, 'ozel sektor':2, 'diger':3})\n",
    "test_set['ingilizce_seviyeniz'] = test_set['ingilizce_seviyeniz'].map({'0': 0, 'baslangc': 1, 'orta':2, 'ileri':3})\n",
    "test_set['girisimcilik_kulupleri_tarzi_bir_kulube_uye_misiniz'] = test_set['girisimcilik_kulupleri_tarzi_bir_kulube_uye_misiniz'].map({'evet': 1, 'hayır': 0})\n",
    "test_set['profesyonel_bir_spor_daliyla_mesgul_musunuz'] = test_set['profesyonel_bir_spor_daliyla_mesgul_musunuz'].map({'evet': 1, 'hayır': 0})\n",
    "test_set['aktif_olarak_bir_stk_uyesi_misiniz'] = test_set['aktif_olarak_bir_stk_uyesi_misiniz'].map({'evet': 1, 'hayır': 0})\n",
    "test_set['stk_projesine_katildiniz_mi'] = test_set['stk_projesine_katildiniz_mi'].map({'evet': 1, 'hayır': 0})\n",
    "test_set['girisimcilikle_ilgili_deneyiminiz_var_mi'] = test_set['girisimcilikle_ilgili_deneyiminiz_var_mi'].map({'evet': 1, 'hayır': 0})\n",
    "test_set['ingilizce_biliyor_musunuz'] = test_set['ingilizce_biliyor_musunuz'].map({'evet': 1, 'hayır': 0})\n",
    "\n",
    "\n",
    "# Kategorize etmek için mapping sözlüğü oluşturma\n",
    "kategori_mapping = {\n",
    "    'hazırlık': 0,      # Hazırlık sınıfı\n",
    "    '1': 1,             # 1. sınıf\n",
    "    '2': 2,             # 2. sınıf\n",
    "    '3': 3,             # 3. sınıf\n",
    "    '4': 4,             # 4. sınıf\n",
    "    '5': 5,             # Mezun\n",
    "    '6': 6,             # Yüksek lisans\n",
    "    'mezun': 7,         # Mezun\n",
    "}\n",
    "\n",
    "# Mapping işlemi\n",
    "test_set['universite_kacinci_sinif'] = test_set['universite_kacinci_sinif'].map(kategori_mapping)\n",
    "\n",
    "\n",
    "# Kategorize etmek için mapping sözlüğü oluşturma\n",
    "kategori_mapping = {\n",
    "    '0': 0,     \n",
    "    'ilkokul': 1,             \n",
    "    'ortaokul': 2,            \n",
    "    'lise': 3,            \n",
    "    'universite': 4,            \n",
    "    'yuksek lisans': 5,            \n",
    "    'doktora': 6\n",
    "}\n",
    "\n",
    "# Mapping işlemi\n",
    "test_set['baba_egitim_durumu'] = test_set['baba_egitim_durumu'].map(kategori_mapping)\n",
    "\n",
    "\n",
    "# Kategorize etmek için mapping sözlüğü oluşturma\n",
    "kategori_mapping = {\n",
    "    '2.50 ve üstü': 2,      \n",
    "    '2.50 ve altı': 1,             \n",
    "    '0': 0             }\n",
    "\n",
    "# Mapping işlemi\n",
    "test_set['universite_not_ortalamasi'] = test_set['universite_not_ortalamasi'].map(kategori_mapping)\n",
    "\n",
    "# Kategorilere ayırma (0-25, 25-50, 50-75, 75-100) ve numaralandırma (0, 1, 2, 3)\n",
    "bins = [-1, 25, 50, 75, 100]\n",
    "labels = [0, 1, 2, 3]  # Her aralığa karşılık gelen numaralar\n",
    "\n",
    "\n",
    "# Verileri sınıflandırma\n",
    "test_set['burslu_ise_burs_yuzdesi'] = pd.cut(test_set['burslu_ise_burs_yuzdesi'], bins=bins, labels=labels, right=True)\n",
    "\n",
    "test_set['kardes_sayisi'] = test_set['kardes_sayisi'].astype('int64')\n",
    "test_set['burslu_ise_burs_yuzdesi'] = test_set['burslu_ise_burs_yuzdesi'].astype('int64')\n",
    "\n",
    "\n",
    "test_set[\"cinsiyet\"] = test_set[\"cinsiyet\"].fillna(0)"
   ]
  },
  {
   "cell_type": "code",
   "execution_count": 198,
   "id": "dbbddb25",
   "metadata": {
    "execution": {
     "iopub.execute_input": "2024-09-11T09:11:14.733258Z",
     "iopub.status.busy": "2024-09-11T09:11:14.732816Z",
     "iopub.status.idle": "2024-09-11T09:11:14.744532Z",
     "shell.execute_reply": "2024-09-11T09:11:14.743216Z"
    },
    "papermill": {
     "duration": 0.087662,
     "end_time": "2024-09-11T09:11:14.747485",
     "exception": false,
     "start_time": "2024-09-11T09:11:14.659823",
     "status": "completed"
    },
    "tags": []
   },
   "outputs": [
    {
     "data": {
      "text/plain": [
       "basvuru_yili                                           0\n",
       "cinsiyet                                               0\n",
       "universite_turu                                        0\n",
       "burslu_ise_burs_yuzdesi                                0\n",
       "burs_aliyor_mu                                         0\n",
       "universite_kacinci_sinif                               0\n",
       "universite_not_ortalamasi                              0\n",
       "daha_once_baska_bir_universiteden_mezun_olmus          0\n",
       "baska_bir_kurumdan_burs_aliyor_mu                      0\n",
       "anne_calisma_durumu                                    0\n",
       "anne_sektor                                            0\n",
       "baba_egitim_durumu                                     0\n",
       "baba_calisma_durumu                                    0\n",
       "baba_sektor                                            0\n",
       "kardes_sayisi                                          0\n",
       "girisimcilik_kulupleri_tarzi_bir_kulube_uye_misiniz    0\n",
       "profesyonel_bir_spor_daliyla_mesgul_musunuz            0\n",
       "aktif_olarak_bir_stk_uyesi_misiniz                     0\n",
       "stk_projesine_katildiniz_mi                            0\n",
       "girisimcilikle_ilgili_deneyiminiz_var_mi               0\n",
       "ingilizce_biliyor_musunuz                              0\n",
       "ingilizce_seviyeniz                                    0\n",
       "id                                                     0\n",
       "dtype: int64"
      ]
     },
     "execution_count": 198,
     "metadata": {},
     "output_type": "execute_result"
    }
   ],
   "source": [
    "test_set.isna().sum()"
   ]
  },
  {
   "cell_type": "code",
   "execution_count": 199,
   "id": "6462f576",
   "metadata": {
    "execution": {
     "iopub.execute_input": "2024-09-11T09:11:14.891787Z",
     "iopub.status.busy": "2024-09-11T09:11:14.891360Z",
     "iopub.status.idle": "2024-09-11T09:11:14.916416Z",
     "shell.execute_reply": "2024-09-11T09:11:14.915336Z"
    },
    "papermill": {
     "duration": 0.100956,
     "end_time": "2024-09-11T09:11:14.918906",
     "exception": false,
     "start_time": "2024-09-11T09:11:14.817950",
     "status": "completed"
    },
    "tags": []
   },
   "outputs": [
    {
     "data": {
      "text/html": [
       "<div>\n",
       "<style scoped>\n",
       "    .dataframe tbody tr th:only-of-type {\n",
       "        vertical-align: middle;\n",
       "    }\n",
       "\n",
       "    .dataframe tbody tr th {\n",
       "        vertical-align: top;\n",
       "    }\n",
       "\n",
       "    .dataframe thead th {\n",
       "        text-align: right;\n",
       "    }\n",
       "</style>\n",
       "<table border=\"1\" class=\"dataframe\">\n",
       "  <thead>\n",
       "    <tr style=\"text-align: right;\">\n",
       "      <th></th>\n",
       "      <th>basvuru_yili</th>\n",
       "      <th>cinsiyet</th>\n",
       "      <th>universite_turu</th>\n",
       "      <th>burslu_ise_burs_yuzdesi</th>\n",
       "      <th>burs_aliyor_mu</th>\n",
       "      <th>universite_kacinci_sinif</th>\n",
       "      <th>universite_not_ortalamasi</th>\n",
       "      <th>daha_once_baska_bir_universiteden_mezun_olmus</th>\n",
       "      <th>baska_bir_kurumdan_burs_aliyor_mu</th>\n",
       "      <th>anne_calisma_durumu</th>\n",
       "      <th>anne_sektor</th>\n",
       "      <th>baba_egitim_durumu</th>\n",
       "      <th>baba_calisma_durumu</th>\n",
       "      <th>baba_sektor</th>\n",
       "      <th>kardes_sayisi</th>\n",
       "      <th>girisimcilik_kulupleri_tarzi_bir_kulube_uye_misiniz</th>\n",
       "      <th>profesyonel_bir_spor_daliyla_mesgul_musunuz</th>\n",
       "      <th>aktif_olarak_bir_stk_uyesi_misiniz</th>\n",
       "      <th>stk_projesine_katildiniz_mi</th>\n",
       "      <th>girisimcilikle_ilgili_deneyiminiz_var_mi</th>\n",
       "      <th>ingilizce_biliyor_musunuz</th>\n",
       "      <th>ingilizce_seviyeniz</th>\n",
       "      <th>id</th>\n",
       "    </tr>\n",
       "  </thead>\n",
       "  <tbody>\n",
       "    <tr>\n",
       "      <th>0</th>\n",
       "      <td>2023</td>\n",
       "      <td>0.0</td>\n",
       "      <td>0</td>\n",
       "      <td>0</td>\n",
       "      <td>0</td>\n",
       "      <td>1</td>\n",
       "      <td>2</td>\n",
       "      <td>0</td>\n",
       "      <td>0</td>\n",
       "      <td>1</td>\n",
       "      <td>2</td>\n",
       "      <td>2</td>\n",
       "      <td>1</td>\n",
       "      <td>3</td>\n",
       "      <td>2</td>\n",
       "      <td>0</td>\n",
       "      <td>1</td>\n",
       "      <td>1</td>\n",
       "      <td>0</td>\n",
       "      <td>0</td>\n",
       "      <td>1</td>\n",
       "      <td>0</td>\n",
       "      <td>0</td>\n",
       "    </tr>\n",
       "    <tr>\n",
       "      <th>1</th>\n",
       "      <td>2023</td>\n",
       "      <td>0.0</td>\n",
       "      <td>0</td>\n",
       "      <td>0</td>\n",
       "      <td>0</td>\n",
       "      <td>1</td>\n",
       "      <td>0</td>\n",
       "      <td>0</td>\n",
       "      <td>0</td>\n",
       "      <td>0</td>\n",
       "      <td>0</td>\n",
       "      <td>1</td>\n",
       "      <td>1</td>\n",
       "      <td>2</td>\n",
       "      <td>3</td>\n",
       "      <td>0</td>\n",
       "      <td>1</td>\n",
       "      <td>0</td>\n",
       "      <td>0</td>\n",
       "      <td>0</td>\n",
       "      <td>1</td>\n",
       "      <td>0</td>\n",
       "      <td>1</td>\n",
       "    </tr>\n",
       "    <tr>\n",
       "      <th>2</th>\n",
       "      <td>2023</td>\n",
       "      <td>1.0</td>\n",
       "      <td>1</td>\n",
       "      <td>0</td>\n",
       "      <td>1</td>\n",
       "      <td>1</td>\n",
       "      <td>0</td>\n",
       "      <td>0</td>\n",
       "      <td>1</td>\n",
       "      <td>0</td>\n",
       "      <td>0</td>\n",
       "      <td>4</td>\n",
       "      <td>0</td>\n",
       "      <td>0</td>\n",
       "      <td>0</td>\n",
       "      <td>0</td>\n",
       "      <td>0</td>\n",
       "      <td>0</td>\n",
       "      <td>0</td>\n",
       "      <td>0</td>\n",
       "      <td>1</td>\n",
       "      <td>0</td>\n",
       "      <td>2</td>\n",
       "    </tr>\n",
       "    <tr>\n",
       "      <th>3</th>\n",
       "      <td>2023</td>\n",
       "      <td>1.0</td>\n",
       "      <td>0</td>\n",
       "      <td>0</td>\n",
       "      <td>0</td>\n",
       "      <td>1</td>\n",
       "      <td>0</td>\n",
       "      <td>0</td>\n",
       "      <td>0</td>\n",
       "      <td>0</td>\n",
       "      <td>0</td>\n",
       "      <td>3</td>\n",
       "      <td>1</td>\n",
       "      <td>2</td>\n",
       "      <td>4</td>\n",
       "      <td>0</td>\n",
       "      <td>0</td>\n",
       "      <td>1</td>\n",
       "      <td>0</td>\n",
       "      <td>0</td>\n",
       "      <td>0</td>\n",
       "      <td>0</td>\n",
       "      <td>3</td>\n",
       "    </tr>\n",
       "    <tr>\n",
       "      <th>4</th>\n",
       "      <td>2023</td>\n",
       "      <td>1.0</td>\n",
       "      <td>0</td>\n",
       "      <td>0</td>\n",
       "      <td>0</td>\n",
       "      <td>3</td>\n",
       "      <td>2</td>\n",
       "      <td>0</td>\n",
       "      <td>1</td>\n",
       "      <td>1</td>\n",
       "      <td>1</td>\n",
       "      <td>4</td>\n",
       "      <td>1</td>\n",
       "      <td>1</td>\n",
       "      <td>1</td>\n",
       "      <td>0</td>\n",
       "      <td>0</td>\n",
       "      <td>1</td>\n",
       "      <td>0</td>\n",
       "      <td>1</td>\n",
       "      <td>1</td>\n",
       "      <td>0</td>\n",
       "      <td>4</td>\n",
       "    </tr>\n",
       "    <tr>\n",
       "      <th>...</th>\n",
       "      <td>...</td>\n",
       "      <td>...</td>\n",
       "      <td>...</td>\n",
       "      <td>...</td>\n",
       "      <td>...</td>\n",
       "      <td>...</td>\n",
       "      <td>...</td>\n",
       "      <td>...</td>\n",
       "      <td>...</td>\n",
       "      <td>...</td>\n",
       "      <td>...</td>\n",
       "      <td>...</td>\n",
       "      <td>...</td>\n",
       "      <td>...</td>\n",
       "      <td>...</td>\n",
       "      <td>...</td>\n",
       "      <td>...</td>\n",
       "      <td>...</td>\n",
       "      <td>...</td>\n",
       "      <td>...</td>\n",
       "      <td>...</td>\n",
       "      <td>...</td>\n",
       "      <td>...</td>\n",
       "    </tr>\n",
       "    <tr>\n",
       "      <th>11044</th>\n",
       "      <td>2023</td>\n",
       "      <td>0.0</td>\n",
       "      <td>0</td>\n",
       "      <td>0</td>\n",
       "      <td>0</td>\n",
       "      <td>2</td>\n",
       "      <td>1</td>\n",
       "      <td>0</td>\n",
       "      <td>1</td>\n",
       "      <td>0</td>\n",
       "      <td>0</td>\n",
       "      <td>2</td>\n",
       "      <td>0</td>\n",
       "      <td>0</td>\n",
       "      <td>0</td>\n",
       "      <td>1</td>\n",
       "      <td>0</td>\n",
       "      <td>1</td>\n",
       "      <td>0</td>\n",
       "      <td>0</td>\n",
       "      <td>1</td>\n",
       "      <td>0</td>\n",
       "      <td>11044</td>\n",
       "    </tr>\n",
       "    <tr>\n",
       "      <th>11045</th>\n",
       "      <td>2023</td>\n",
       "      <td>0.0</td>\n",
       "      <td>0</td>\n",
       "      <td>0</td>\n",
       "      <td>0</td>\n",
       "      <td>3</td>\n",
       "      <td>2</td>\n",
       "      <td>0</td>\n",
       "      <td>0</td>\n",
       "      <td>0</td>\n",
       "      <td>0</td>\n",
       "      <td>1</td>\n",
       "      <td>1</td>\n",
       "      <td>1</td>\n",
       "      <td>3</td>\n",
       "      <td>1</td>\n",
       "      <td>0</td>\n",
       "      <td>1</td>\n",
       "      <td>0</td>\n",
       "      <td>0</td>\n",
       "      <td>0</td>\n",
       "      <td>0</td>\n",
       "      <td>11045</td>\n",
       "    </tr>\n",
       "    <tr>\n",
       "      <th>11046</th>\n",
       "      <td>2023</td>\n",
       "      <td>1.0</td>\n",
       "      <td>0</td>\n",
       "      <td>0</td>\n",
       "      <td>0</td>\n",
       "      <td>1</td>\n",
       "      <td>0</td>\n",
       "      <td>0</td>\n",
       "      <td>0</td>\n",
       "      <td>0</td>\n",
       "      <td>0</td>\n",
       "      <td>4</td>\n",
       "      <td>1</td>\n",
       "      <td>3</td>\n",
       "      <td>2</td>\n",
       "      <td>1</td>\n",
       "      <td>1</td>\n",
       "      <td>1</td>\n",
       "      <td>0</td>\n",
       "      <td>0</td>\n",
       "      <td>1</td>\n",
       "      <td>0</td>\n",
       "      <td>11046</td>\n",
       "    </tr>\n",
       "    <tr>\n",
       "      <th>11047</th>\n",
       "      <td>2023</td>\n",
       "      <td>0.0</td>\n",
       "      <td>0</td>\n",
       "      <td>0</td>\n",
       "      <td>0</td>\n",
       "      <td>4</td>\n",
       "      <td>1</td>\n",
       "      <td>0</td>\n",
       "      <td>0</td>\n",
       "      <td>0</td>\n",
       "      <td>0</td>\n",
       "      <td>2</td>\n",
       "      <td>1</td>\n",
       "      <td>3</td>\n",
       "      <td>2</td>\n",
       "      <td>1</td>\n",
       "      <td>1</td>\n",
       "      <td>1</td>\n",
       "      <td>0</td>\n",
       "      <td>1</td>\n",
       "      <td>1</td>\n",
       "      <td>0</td>\n",
       "      <td>11047</td>\n",
       "    </tr>\n",
       "    <tr>\n",
       "      <th>11048</th>\n",
       "      <td>2023</td>\n",
       "      <td>0.0</td>\n",
       "      <td>0</td>\n",
       "      <td>0</td>\n",
       "      <td>0</td>\n",
       "      <td>4</td>\n",
       "      <td>2</td>\n",
       "      <td>0</td>\n",
       "      <td>0</td>\n",
       "      <td>0</td>\n",
       "      <td>0</td>\n",
       "      <td>4</td>\n",
       "      <td>1</td>\n",
       "      <td>2</td>\n",
       "      <td>3</td>\n",
       "      <td>0</td>\n",
       "      <td>0</td>\n",
       "      <td>1</td>\n",
       "      <td>0</td>\n",
       "      <td>0</td>\n",
       "      <td>1</td>\n",
       "      <td>0</td>\n",
       "      <td>11048</td>\n",
       "    </tr>\n",
       "  </tbody>\n",
       "</table>\n",
       "<p>11049 rows × 23 columns</p>\n",
       "</div>"
      ],
      "text/plain": [
       "       basvuru_yili  cinsiyet  universite_turu  burslu_ise_burs_yuzdesi  \\\n",
       "0              2023       0.0                0                        0   \n",
       "1              2023       0.0                0                        0   \n",
       "2              2023       1.0                1                        0   \n",
       "3              2023       1.0                0                        0   \n",
       "4              2023       1.0                0                        0   \n",
       "...             ...       ...              ...                      ...   \n",
       "11044          2023       0.0                0                        0   \n",
       "11045          2023       0.0                0                        0   \n",
       "11046          2023       1.0                0                        0   \n",
       "11047          2023       0.0                0                        0   \n",
       "11048          2023       0.0                0                        0   \n",
       "\n",
       "       burs_aliyor_mu  universite_kacinci_sinif  universite_not_ortalamasi  \\\n",
       "0                   0                         1                          2   \n",
       "1                   0                         1                          0   \n",
       "2                   1                         1                          0   \n",
       "3                   0                         1                          0   \n",
       "4                   0                         3                          2   \n",
       "...               ...                       ...                        ...   \n",
       "11044               0                         2                          1   \n",
       "11045               0                         3                          2   \n",
       "11046               0                         1                          0   \n",
       "11047               0                         4                          1   \n",
       "11048               0                         4                          2   \n",
       "\n",
       "       daha_once_baska_bir_universiteden_mezun_olmus  \\\n",
       "0                                                  0   \n",
       "1                                                  0   \n",
       "2                                                  0   \n",
       "3                                                  0   \n",
       "4                                                  0   \n",
       "...                                              ...   \n",
       "11044                                              0   \n",
       "11045                                              0   \n",
       "11046                                              0   \n",
       "11047                                              0   \n",
       "11048                                              0   \n",
       "\n",
       "       baska_bir_kurumdan_burs_aliyor_mu  anne_calisma_durumu  anne_sektor  \\\n",
       "0                                      0                    1            2   \n",
       "1                                      0                    0            0   \n",
       "2                                      1                    0            0   \n",
       "3                                      0                    0            0   \n",
       "4                                      1                    1            1   \n",
       "...                                  ...                  ...          ...   \n",
       "11044                                  1                    0            0   \n",
       "11045                                  0                    0            0   \n",
       "11046                                  0                    0            0   \n",
       "11047                                  0                    0            0   \n",
       "11048                                  0                    0            0   \n",
       "\n",
       "       baba_egitim_durumu  baba_calisma_durumu  baba_sektor  kardes_sayisi  \\\n",
       "0                       2                    1            3              2   \n",
       "1                       1                    1            2              3   \n",
       "2                       4                    0            0              0   \n",
       "3                       3                    1            2              4   \n",
       "4                       4                    1            1              1   \n",
       "...                   ...                  ...          ...            ...   \n",
       "11044                   2                    0            0              0   \n",
       "11045                   1                    1            1              3   \n",
       "11046                   4                    1            3              2   \n",
       "11047                   2                    1            3              2   \n",
       "11048                   4                    1            2              3   \n",
       "\n",
       "       girisimcilik_kulupleri_tarzi_bir_kulube_uye_misiniz  \\\n",
       "0                                                      0     \n",
       "1                                                      0     \n",
       "2                                                      0     \n",
       "3                                                      0     \n",
       "4                                                      0     \n",
       "...                                                  ...     \n",
       "11044                                                  1     \n",
       "11045                                                  1     \n",
       "11046                                                  1     \n",
       "11047                                                  1     \n",
       "11048                                                  0     \n",
       "\n",
       "       profesyonel_bir_spor_daliyla_mesgul_musunuz  \\\n",
       "0                                                1   \n",
       "1                                                1   \n",
       "2                                                0   \n",
       "3                                                0   \n",
       "4                                                0   \n",
       "...                                            ...   \n",
       "11044                                            0   \n",
       "11045                                            0   \n",
       "11046                                            1   \n",
       "11047                                            1   \n",
       "11048                                            0   \n",
       "\n",
       "       aktif_olarak_bir_stk_uyesi_misiniz  stk_projesine_katildiniz_mi  \\\n",
       "0                                       1                            0   \n",
       "1                                       0                            0   \n",
       "2                                       0                            0   \n",
       "3                                       1                            0   \n",
       "4                                       1                            0   \n",
       "...                                   ...                          ...   \n",
       "11044                                   1                            0   \n",
       "11045                                   1                            0   \n",
       "11046                                   1                            0   \n",
       "11047                                   1                            0   \n",
       "11048                                   1                            0   \n",
       "\n",
       "       girisimcilikle_ilgili_deneyiminiz_var_mi  ingilizce_biliyor_musunuz  \\\n",
       "0                                             0                          1   \n",
       "1                                             0                          1   \n",
       "2                                             0                          1   \n",
       "3                                             0                          0   \n",
       "4                                             1                          1   \n",
       "...                                         ...                        ...   \n",
       "11044                                         0                          1   \n",
       "11045                                         0                          0   \n",
       "11046                                         0                          1   \n",
       "11047                                         1                          1   \n",
       "11048                                         0                          1   \n",
       "\n",
       "       ingilizce_seviyeniz     id  \n",
       "0                        0      0  \n",
       "1                        0      1  \n",
       "2                        0      2  \n",
       "3                        0      3  \n",
       "4                        0      4  \n",
       "...                    ...    ...  \n",
       "11044                    0  11044  \n",
       "11045                    0  11045  \n",
       "11046                    0  11046  \n",
       "11047                    0  11047  \n",
       "11048                    0  11048  \n",
       "\n",
       "[11049 rows x 23 columns]"
      ]
     },
     "execution_count": 199,
     "metadata": {},
     "output_type": "execute_result"
    }
   ],
   "source": [
    "test_set"
   ]
  },
  {
   "cell_type": "markdown",
   "id": "8554ee66",
   "metadata": {
    "papermill": {
     "duration": 0.072672,
     "end_time": "2024-09-11T09:11:15.064547",
     "exception": false,
     "start_time": "2024-09-11T09:11:14.991875",
     "status": "completed"
    },
    "tags": []
   },
   "source": [
    "# TEST MODELİ VE SUBMISSION"
   ]
  },
  {
   "cell_type": "code",
   "execution_count": 200,
   "id": "cfe514c6",
   "metadata": {
    "execution": {
     "iopub.execute_input": "2024-09-11T09:11:15.212336Z",
     "iopub.status.busy": "2024-09-11T09:11:15.211936Z",
     "iopub.status.idle": "2024-09-11T09:11:15.219823Z",
     "shell.execute_reply": "2024-09-11T09:11:15.218627Z"
    },
    "papermill": {
     "duration": 0.083961,
     "end_time": "2024-09-11T09:11:15.222445",
     "exception": false,
     "start_time": "2024-09-11T09:11:15.138484",
     "status": "completed"
    },
    "tags": []
   },
   "outputs": [],
   "source": [
    "sub = pd.read_csv(\"/kaggle/input/datathon-2024/sample_submission.csv\")"
   ]
  },
  {
   "cell_type": "code",
   "execution_count": 201,
   "id": "8dc530f5",
   "metadata": {
    "execution": {
     "iopub.execute_input": "2024-09-11T09:11:15.368986Z",
     "iopub.status.busy": "2024-09-11T09:11:15.368553Z",
     "iopub.status.idle": "2024-09-11T09:11:15.378188Z",
     "shell.execute_reply": "2024-09-11T09:11:15.377035Z"
    },
    "papermill": {
     "duration": 0.085542,
     "end_time": "2024-09-11T09:11:15.380531",
     "exception": false,
     "start_time": "2024-09-11T09:11:15.294989",
     "status": "completed"
    },
    "tags": []
   },
   "outputs": [],
   "source": [
    "predictions = elastic_net_model.predict(test_set)"
   ]
  },
  {
   "cell_type": "code",
   "execution_count": 202,
   "id": "668685ed",
   "metadata": {
    "execution": {
     "iopub.execute_input": "2024-09-11T09:11:15.633706Z",
     "iopub.status.busy": "2024-09-11T09:11:15.633292Z",
     "iopub.status.idle": "2024-09-11T09:11:15.640955Z",
     "shell.execute_reply": "2024-09-11T09:11:15.639826Z"
    },
    "papermill": {
     "duration": 0.141683,
     "end_time": "2024-09-11T09:11:15.643430",
     "exception": false,
     "start_time": "2024-09-11T09:11:15.501747",
     "status": "completed"
    },
    "tags": []
   },
   "outputs": [
    {
     "data": {
      "text/plain": [
       "array([34.13981831, 23.85106515, 25.04668644, ..., 38.00118046,\n",
       "       43.02146685, 33.47578275])"
      ]
     },
     "execution_count": 202,
     "metadata": {},
     "output_type": "execute_result"
    }
   ],
   "source": [
    "predictions"
   ]
  },
  {
   "cell_type": "code",
   "execution_count": 203,
   "id": "15529b05",
   "metadata": {
    "execution": {
     "iopub.execute_input": "2024-09-11T09:11:15.789408Z",
     "iopub.status.busy": "2024-09-11T09:11:15.788512Z",
     "iopub.status.idle": "2024-09-11T09:11:15.799753Z",
     "shell.execute_reply": "2024-09-11T09:11:15.798441Z"
    },
    "papermill": {
     "duration": 0.08681,
     "end_time": "2024-09-11T09:11:15.802316",
     "exception": false,
     "start_time": "2024-09-11T09:11:15.715506",
     "status": "completed"
    },
    "tags": []
   },
   "outputs": [
    {
     "data": {
      "text/html": [
       "<div>\n",
       "<style scoped>\n",
       "    .dataframe tbody tr th:only-of-type {\n",
       "        vertical-align: middle;\n",
       "    }\n",
       "\n",
       "    .dataframe tbody tr th {\n",
       "        vertical-align: top;\n",
       "    }\n",
       "\n",
       "    .dataframe thead th {\n",
       "        text-align: right;\n",
       "    }\n",
       "</style>\n",
       "<table border=\"1\" class=\"dataframe\">\n",
       "  <thead>\n",
       "    <tr style=\"text-align: right;\">\n",
       "      <th></th>\n",
       "      <th>id</th>\n",
       "      <th>Degerlendirme Puani</th>\n",
       "    </tr>\n",
       "  </thead>\n",
       "  <tbody>\n",
       "    <tr>\n",
       "      <th>0</th>\n",
       "      <td>0</td>\n",
       "      <td>1.0</td>\n",
       "    </tr>\n",
       "    <tr>\n",
       "      <th>1</th>\n",
       "      <td>1</td>\n",
       "      <td>27.0</td>\n",
       "    </tr>\n",
       "    <tr>\n",
       "      <th>2</th>\n",
       "      <td>2</td>\n",
       "      <td>17.0</td>\n",
       "    </tr>\n",
       "  </tbody>\n",
       "</table>\n",
       "</div>"
      ],
      "text/plain": [
       "   id  Degerlendirme Puani\n",
       "0   0                  1.0\n",
       "1   1                 27.0\n",
       "2   2                 17.0"
      ]
     },
     "execution_count": 203,
     "metadata": {},
     "output_type": "execute_result"
    }
   ],
   "source": [
    "sub"
   ]
  },
  {
   "cell_type": "code",
   "execution_count": 204,
   "id": "317a7b55",
   "metadata": {
    "execution": {
     "iopub.execute_input": "2024-09-11T09:11:15.948172Z",
     "iopub.status.busy": "2024-09-11T09:11:15.947690Z",
     "iopub.status.idle": "2024-09-11T09:11:15.954409Z",
     "shell.execute_reply": "2024-09-11T09:11:15.952889Z"
    },
    "papermill": {
     "duration": 0.082859,
     "end_time": "2024-09-11T09:11:15.957161",
     "exception": false,
     "start_time": "2024-09-11T09:11:15.874302",
     "status": "completed"
    },
    "tags": []
   },
   "outputs": [
    {
     "name": "stdout",
     "output_type": "stream",
     "text": [
      "test id length: 11049\n",
      "predictions length: 11049\n"
     ]
    }
   ],
   "source": [
    "print(\"test id length:\", len(ids))\n",
    "print(\"predictions length:\", len(predictions))"
   ]
  },
  {
   "cell_type": "code",
   "execution_count": 205,
   "id": "a69a5351",
   "metadata": {
    "execution": {
     "iopub.execute_input": "2024-09-11T09:11:16.106980Z",
     "iopub.status.busy": "2024-09-11T09:11:16.106324Z",
     "iopub.status.idle": "2024-09-11T09:11:16.112662Z",
     "shell.execute_reply": "2024-09-11T09:11:16.111437Z"
    },
    "papermill": {
     "duration": 0.084603,
     "end_time": "2024-09-11T09:11:16.115267",
     "exception": false,
     "start_time": "2024-09-11T09:11:16.030664",
     "status": "completed"
    },
    "tags": []
   },
   "outputs": [],
   "source": [
    "submission = pd.DataFrame({\n",
    "    'id': ids,  # 'id' sütununu test dosyasından alın\n",
    "    'Degerlendirme Puani': predictions  # Tahminleri 'Degerlendirme Puani'na aktar\n",
    "})"
   ]
  },
  {
   "cell_type": "code",
   "execution_count": 206,
   "id": "1db4825c",
   "metadata": {
    "execution": {
     "iopub.execute_input": "2024-09-11T09:11:16.268539Z",
     "iopub.status.busy": "2024-09-11T09:11:16.268099Z",
     "iopub.status.idle": "2024-09-11T09:11:16.280582Z",
     "shell.execute_reply": "2024-09-11T09:11:16.279454Z"
    },
    "papermill": {
     "duration": 0.094878,
     "end_time": "2024-09-11T09:11:16.282901",
     "exception": false,
     "start_time": "2024-09-11T09:11:16.188023",
     "status": "completed"
    },
    "tags": []
   },
   "outputs": [
    {
     "data": {
      "text/html": [
       "<div>\n",
       "<style scoped>\n",
       "    .dataframe tbody tr th:only-of-type {\n",
       "        vertical-align: middle;\n",
       "    }\n",
       "\n",
       "    .dataframe tbody tr th {\n",
       "        vertical-align: top;\n",
       "    }\n",
       "\n",
       "    .dataframe thead th {\n",
       "        text-align: right;\n",
       "    }\n",
       "</style>\n",
       "<table border=\"1\" class=\"dataframe\">\n",
       "  <thead>\n",
       "    <tr style=\"text-align: right;\">\n",
       "      <th></th>\n",
       "      <th>id</th>\n",
       "      <th>Degerlendirme Puani</th>\n",
       "    </tr>\n",
       "  </thead>\n",
       "  <tbody>\n",
       "    <tr>\n",
       "      <th>0</th>\n",
       "      <td>0</td>\n",
       "      <td>34.139818</td>\n",
       "    </tr>\n",
       "    <tr>\n",
       "      <th>1</th>\n",
       "      <td>1</td>\n",
       "      <td>23.851065</td>\n",
       "    </tr>\n",
       "    <tr>\n",
       "      <th>2</th>\n",
       "      <td>2</td>\n",
       "      <td>25.046686</td>\n",
       "    </tr>\n",
       "    <tr>\n",
       "      <th>3</th>\n",
       "      <td>3</td>\n",
       "      <td>24.557027</td>\n",
       "    </tr>\n",
       "    <tr>\n",
       "      <th>4</th>\n",
       "      <td>4</td>\n",
       "      <td>37.188058</td>\n",
       "    </tr>\n",
       "    <tr>\n",
       "      <th>...</th>\n",
       "      <td>...</td>\n",
       "      <td>...</td>\n",
       "    </tr>\n",
       "    <tr>\n",
       "      <th>11044</th>\n",
       "      <td>11044</td>\n",
       "      <td>35.148911</td>\n",
       "    </tr>\n",
       "    <tr>\n",
       "      <th>11045</th>\n",
       "      <td>11045</td>\n",
       "      <td>33.680581</td>\n",
       "    </tr>\n",
       "    <tr>\n",
       "      <th>11046</th>\n",
       "      <td>11046</td>\n",
       "      <td>38.001180</td>\n",
       "    </tr>\n",
       "    <tr>\n",
       "      <th>11047</th>\n",
       "      <td>11047</td>\n",
       "      <td>43.021467</td>\n",
       "    </tr>\n",
       "    <tr>\n",
       "      <th>11048</th>\n",
       "      <td>11048</td>\n",
       "      <td>33.475783</td>\n",
       "    </tr>\n",
       "  </tbody>\n",
       "</table>\n",
       "<p>11049 rows × 2 columns</p>\n",
       "</div>"
      ],
      "text/plain": [
       "          id  Degerlendirme Puani\n",
       "0          0            34.139818\n",
       "1          1            23.851065\n",
       "2          2            25.046686\n",
       "3          3            24.557027\n",
       "4          4            37.188058\n",
       "...      ...                  ...\n",
       "11044  11044            35.148911\n",
       "11045  11045            33.680581\n",
       "11046  11046            38.001180\n",
       "11047  11047            43.021467\n",
       "11048  11048            33.475783\n",
       "\n",
       "[11049 rows x 2 columns]"
      ]
     },
     "execution_count": 206,
     "metadata": {},
     "output_type": "execute_result"
    }
   ],
   "source": [
    "submission"
   ]
  },
  {
   "cell_type": "code",
   "execution_count": 207,
   "id": "e16f57af",
   "metadata": {
    "execution": {
     "iopub.execute_input": "2024-09-11T09:11:16.431963Z",
     "iopub.status.busy": "2024-09-11T09:11:16.431408Z",
     "iopub.status.idle": "2024-09-11T09:11:16.467471Z",
     "shell.execute_reply": "2024-09-11T09:11:16.465379Z"
    },
    "papermill": {
     "duration": 0.116151,
     "end_time": "2024-09-11T09:11:16.471469",
     "exception": false,
     "start_time": "2024-09-11T09:11:16.355318",
     "status": "completed"
    },
    "tags": []
   },
   "outputs": [],
   "source": [
    "submission.to_csv('submission.csv', index=False)"
   ]
  },
  {
   "cell_type": "code",
   "execution_count": 208,
   "id": "b2dbe178",
   "metadata": {
    "execution": {
     "iopub.execute_input": "2024-09-11T09:11:16.626589Z",
     "iopub.status.busy": "2024-09-11T09:11:16.625561Z",
     "iopub.status.idle": "2024-09-11T09:11:16.637516Z",
     "shell.execute_reply": "2024-09-11T09:11:16.636280Z"
    },
    "papermill": {
     "duration": 0.091602,
     "end_time": "2024-09-11T09:11:16.640322",
     "exception": false,
     "start_time": "2024-09-11T09:11:16.548720",
     "status": "completed"
    },
    "tags": []
   },
   "outputs": [],
   "source": [
    "output = pd.read_csv(\"/kaggle/working/submission.csv\")"
   ]
  },
  {
   "cell_type": "code",
   "execution_count": 209,
   "id": "02bb44bd",
   "metadata": {
    "execution": {
     "iopub.execute_input": "2024-09-11T09:11:16.788641Z",
     "iopub.status.busy": "2024-09-11T09:11:16.788255Z",
     "iopub.status.idle": "2024-09-11T09:11:16.800943Z",
     "shell.execute_reply": "2024-09-11T09:11:16.799622Z"
    },
    "papermill": {
     "duration": 0.091631,
     "end_time": "2024-09-11T09:11:16.803455",
     "exception": false,
     "start_time": "2024-09-11T09:11:16.711824",
     "status": "completed"
    },
    "tags": []
   },
   "outputs": [
    {
     "data": {
      "text/html": [
       "<div>\n",
       "<style scoped>\n",
       "    .dataframe tbody tr th:only-of-type {\n",
       "        vertical-align: middle;\n",
       "    }\n",
       "\n",
       "    .dataframe tbody tr th {\n",
       "        vertical-align: top;\n",
       "    }\n",
       "\n",
       "    .dataframe thead th {\n",
       "        text-align: right;\n",
       "    }\n",
       "</style>\n",
       "<table border=\"1\" class=\"dataframe\">\n",
       "  <thead>\n",
       "    <tr style=\"text-align: right;\">\n",
       "      <th></th>\n",
       "      <th>id</th>\n",
       "      <th>Degerlendirme Puani</th>\n",
       "    </tr>\n",
       "  </thead>\n",
       "  <tbody>\n",
       "    <tr>\n",
       "      <th>0</th>\n",
       "      <td>0</td>\n",
       "      <td>34.139818</td>\n",
       "    </tr>\n",
       "    <tr>\n",
       "      <th>1</th>\n",
       "      <td>1</td>\n",
       "      <td>23.851065</td>\n",
       "    </tr>\n",
       "    <tr>\n",
       "      <th>2</th>\n",
       "      <td>2</td>\n",
       "      <td>25.046686</td>\n",
       "    </tr>\n",
       "    <tr>\n",
       "      <th>3</th>\n",
       "      <td>3</td>\n",
       "      <td>24.557027</td>\n",
       "    </tr>\n",
       "    <tr>\n",
       "      <th>4</th>\n",
       "      <td>4</td>\n",
       "      <td>37.188058</td>\n",
       "    </tr>\n",
       "    <tr>\n",
       "      <th>...</th>\n",
       "      <td>...</td>\n",
       "      <td>...</td>\n",
       "    </tr>\n",
       "    <tr>\n",
       "      <th>11044</th>\n",
       "      <td>11044</td>\n",
       "      <td>35.148911</td>\n",
       "    </tr>\n",
       "    <tr>\n",
       "      <th>11045</th>\n",
       "      <td>11045</td>\n",
       "      <td>33.680581</td>\n",
       "    </tr>\n",
       "    <tr>\n",
       "      <th>11046</th>\n",
       "      <td>11046</td>\n",
       "      <td>38.001180</td>\n",
       "    </tr>\n",
       "    <tr>\n",
       "      <th>11047</th>\n",
       "      <td>11047</td>\n",
       "      <td>43.021467</td>\n",
       "    </tr>\n",
       "    <tr>\n",
       "      <th>11048</th>\n",
       "      <td>11048</td>\n",
       "      <td>33.475783</td>\n",
       "    </tr>\n",
       "  </tbody>\n",
       "</table>\n",
       "<p>11049 rows × 2 columns</p>\n",
       "</div>"
      ],
      "text/plain": [
       "          id  Degerlendirme Puani\n",
       "0          0            34.139818\n",
       "1          1            23.851065\n",
       "2          2            25.046686\n",
       "3          3            24.557027\n",
       "4          4            37.188058\n",
       "...      ...                  ...\n",
       "11044  11044            35.148911\n",
       "11045  11045            33.680581\n",
       "11046  11046            38.001180\n",
       "11047  11047            43.021467\n",
       "11048  11048            33.475783\n",
       "\n",
       "[11049 rows x 2 columns]"
      ]
     },
     "execution_count": 209,
     "metadata": {},
     "output_type": "execute_result"
    }
   ],
   "source": [
    "output"
   ]
  },
  {
   "cell_type": "code",
   "execution_count": null,
   "id": "65a9ee70",
   "metadata": {
    "papermill": {
     "duration": 0.072676,
     "end_time": "2024-09-11T09:11:16.948123",
     "exception": false,
     "start_time": "2024-09-11T09:11:16.875447",
     "status": "completed"
    },
    "tags": []
   },
   "outputs": [],
   "source": []
  }
 ],
 "metadata": {
  "kaggle": {
   "accelerator": "none",
   "dataSources": [
    {
     "databundleVersionId": 9495861,
     "sourceId": 84622,
     "sourceType": "competition"
    }
   ],
   "dockerImageVersionId": 30761,
   "isGpuEnabled": false,
   "isInternetEnabled": true,
   "language": "python",
   "sourceType": "notebook"
  },
  "kernelspec": {
   "display_name": "Python 3",
   "language": "python",
   "name": "python3"
  },
  "language_info": {
   "codemirror_mode": {
    "name": "ipython",
    "version": 3
   },
   "file_extension": ".py",
   "mimetype": "text/x-python",
   "name": "python",
   "nbconvert_exporter": "python",
   "pygments_lexer": "ipython3",
   "version": "3.10.14"
  },
  "papermill": {
   "default_parameters": {},
   "duration": 47.286528,
   "end_time": "2024-09-11T09:11:17.850107",
   "environment_variables": {},
   "exception": null,
   "input_path": "__notebook__.ipynb",
   "output_path": "__notebook__.ipynb",
   "parameters": {},
   "start_time": "2024-09-11T09:10:30.563579",
   "version": "2.6.0"
  }
 },
 "nbformat": 4,
 "nbformat_minor": 5
}
