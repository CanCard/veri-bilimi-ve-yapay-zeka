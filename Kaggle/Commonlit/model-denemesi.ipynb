{
 "cells": [
  {
   "cell_type": "code",
   "execution_count": 1,
   "id": "c54385bf",
   "metadata": {
    "_cell_guid": "b1076dfc-b9ad-4769-8c92-a6c4dae69d19",
    "_uuid": "8f2839f25d086af736a60e9eeb907d3b93b6e0e5",
    "execution": {
     "iopub.execute_input": "2023-10-05T10:51:46.249200Z",
     "iopub.status.busy": "2023-10-05T10:51:46.248291Z",
     "iopub.status.idle": "2023-10-05T10:51:46.631146Z",
     "shell.execute_reply": "2023-10-05T10:51:46.630002Z"
    },
    "papermill": {
     "duration": 0.393128,
     "end_time": "2023-10-05T10:51:46.633820",
     "exception": false,
     "start_time": "2023-10-05T10:51:46.240692",
     "status": "completed"
    },
    "tags": []
   },
   "outputs": [
    {
     "name": "stdout",
     "output_type": "stream",
     "text": [
      "UYARI ENGELLEYİCİ\n"
     ]
    }
   ],
   "source": [
    "import numpy as np\n",
    "import pandas as pd\n",
    "import os\n",
    "\n",
    "# Suppress warnings\n",
    "import warnings\n",
    "warnings.filterwarnings(\"ignore\", category=UserWarning)\n",
    "warnings.filterwarnings(\"ignore\", category=FutureWarning)\n",
    "print(\"UYARI ENGELLEYİCİ\")"
   ]
  },
  {
   "cell_type": "markdown",
   "id": "792fc073",
   "metadata": {
    "papermill": {
     "duration": 0.004917,
     "end_time": "2023-10-05T10:51:46.644100",
     "exception": false,
     "start_time": "2023-10-05T10:51:46.639183",
     "status": "completed"
    },
    "tags": []
   },
   "source": [
    "# VERİ"
   ]
  },
  {
   "cell_type": "code",
   "execution_count": 2,
   "id": "360149e3",
   "metadata": {
    "execution": {
     "iopub.execute_input": "2023-10-05T10:51:46.657130Z",
     "iopub.status.busy": "2023-10-05T10:51:46.656612Z",
     "iopub.status.idle": "2023-10-05T10:51:46.805330Z",
     "shell.execute_reply": "2023-10-05T10:51:46.803932Z"
    },
    "papermill": {
     "duration": 0.1591,
     "end_time": "2023-10-05T10:51:46.808358",
     "exception": false,
     "start_time": "2023-10-05T10:51:46.649258",
     "status": "completed"
    },
    "tags": []
   },
   "outputs": [
    {
     "name": "stdout",
     "output_type": "stream",
     "text": [
      "DOSYA YOL KODLARI\n"
     ]
    }
   ],
   "source": [
    "filepath = '/kaggle/input/commonlit-evaluate-student-summaries'\n",
    "\n",
    "prompts_test = pd.read_csv(os.path.join(filepath, 'prompts_test.csv'))\n",
    "prompts_train = pd.read_csv(os.path.join(filepath, 'prompts_train.csv'))\n",
    "sub = pd.read_csv(os.path.join(filepath, 'sample_submission.csv'))\n",
    "summaries_test = pd.read_csv(os.path.join(filepath, 'summaries_test.csv'))\n",
    "filtered_summaries_train = pd.read_csv(os.path.join(filepath, 'summaries_train.csv'))\n",
    "print(\"DOSYA YOL KODLARI\")"
   ]
  },
  {
   "cell_type": "code",
   "execution_count": 3,
   "id": "2599dd82",
   "metadata": {
    "execution": {
     "iopub.execute_input": "2023-10-05T10:51:46.821709Z",
     "iopub.status.busy": "2023-10-05T10:51:46.821318Z",
     "iopub.status.idle": "2023-10-05T10:51:46.848464Z",
     "shell.execute_reply": "2023-10-05T10:51:46.847170Z"
    },
    "papermill": {
     "duration": 0.036799,
     "end_time": "2023-10-05T10:51:46.851492",
     "exception": false,
     "start_time": "2023-10-05T10:51:46.814693",
     "status": "completed"
    },
    "tags": []
   },
   "outputs": [],
   "source": [
    "desired_length = 20\n",
    "filtered_summaries_train = pd.concat([group.sample(desired_length) for _, group in filtered_summaries_train.groupby('prompt_id')])"
   ]
  },
  {
   "cell_type": "code",
   "execution_count": 4,
   "id": "056feffb",
   "metadata": {
    "execution": {
     "iopub.execute_input": "2023-10-05T10:51:46.863815Z",
     "iopub.status.busy": "2023-10-05T10:51:46.863453Z",
     "iopub.status.idle": "2023-10-05T10:52:13.022850Z",
     "shell.execute_reply": "2023-10-05T10:52:13.020933Z"
    },
    "papermill": {
     "duration": 26.168341,
     "end_time": "2023-10-05T10:52:13.025198",
     "exception": false,
     "start_time": "2023-10-05T10:51:46.856857",
     "status": "completed"
    },
    "tags": []
   },
   "outputs": [
    {
     "name": "stdout",
     "output_type": "stream",
     "text": [
      "[nltk_data] Error loading punkt: <urlopen error [Errno -3] Temporary\n",
      "[nltk_data]     failure in name resolution>\n"
     ]
    }
   ],
   "source": [
    "import nltk\n",
    "# NLTK'den tokenizer'ı yükle\n",
    "nltk.download('punkt')\n",
    "from nltk.tokenize import word_tokenize\n",
    "\n",
    "# Tokenizasyon işlemi\n",
    "filtered_summaries_train['tokenized_text'] = filtered_summaries_train['text'].apply(lambda x: word_tokenize(x))\n",
    "prompts_test['prompt_text'] = prompts_test['prompt_text'].apply(lambda x: word_tokenize(x))\n",
    "summaries_test['text'] = summaries_test['text'].apply(lambda x: word_tokenize(x))\n"
   ]
  },
  {
   "cell_type": "markdown",
   "id": "9cf58e73",
   "metadata": {
    "papermill": {
     "duration": 0.005166,
     "end_time": "2023-10-05T10:52:13.036199",
     "exception": false,
     "start_time": "2023-10-05T10:52:13.031033",
     "status": "completed"
    },
    "tags": []
   },
   "source": [
    "# Metin Temizliği"
   ]
  },
  {
   "cell_type": "code",
   "execution_count": 5,
   "id": "f76ce72d",
   "metadata": {
    "execution": {
     "iopub.execute_input": "2023-10-05T10:52:13.049191Z",
     "iopub.status.busy": "2023-10-05T10:52:13.048751Z",
     "iopub.status.idle": "2023-10-05T10:52:37.119102Z",
     "shell.execute_reply": "2023-10-05T10:52:37.117995Z"
    },
    "papermill": {
     "duration": 24.080136,
     "end_time": "2023-10-05T10:52:37.121745",
     "exception": false,
     "start_time": "2023-10-05T10:52:13.041609",
     "status": "completed"
    },
    "tags": []
   },
   "outputs": [
    {
     "name": "stdout",
     "output_type": "stream",
     "text": [
      "[nltk_data] Error loading stopwords: <urlopen error [Errno -3]\n",
      "[nltk_data]     Temporary failure in name resolution>\n",
      "3392    aristotle stated good tragedy simple plot one ...\n",
      "5766    second rank comes kind tragedy place first  li...\n",
      "3729    effect produced  aristotle argued catastrophe ...\n",
      "2496    three elements ideal tragedy one issue  fortun...\n",
      "4270    follow complex plan  imitate actions excite pi...\n",
      "                              ...                        \n",
      "3740    meat factory covered used spoiled meat using v...\n",
      "5263    meat became sour rotten  companies found vario...\n",
      "1899    factory would take meat  pickle would often fo...\n",
      "6722    meat canning sausage piled floor workers carri...\n",
      "225     overall  ways factory workers cover meat diffe...\n",
      "Name: cleaned_text, Length: 80, dtype: object\n"
     ]
    }
   ],
   "source": [
    "import pandas as pd\n",
    "import nltk\n",
    "from nltk.corpus import stopwords\n",
    "import re\n",
    "\n",
    "# NLTK stopwords verilerini indirin\n",
    "nltk.download('stopwords')\n",
    "stop_words = set(stopwords.words('english'))\n",
    "\n",
    "# Temizleme işlemlerini uygulama fonksiyonu\n",
    "def preprocess_text(tokenized_text):\n",
    "    # Her bir kelimeyi temizle\n",
    "    cleaned_words = []\n",
    "    for word in tokenized_text:\n",
    "        # Küçük harfe dönüştürme\n",
    "        word = word.lower()\n",
    "        # Noktalama işaretlerini boşlukla değiştirme\n",
    "        word = re.sub(r'[^\\w\\s]', ' ', word)\n",
    "        # Gereksiz boşlukları kaldırma\n",
    "        word = re.sub(r'\\s+', ' ', word)\n",
    "        # Stopwords'leri kaldırma\n",
    "        if word not in stop_words:\n",
    "            cleaned_words.append(word)\n",
    "    return ' '.join(cleaned_words)\n",
    "\n",
    "# Tokenleştirilmiş metinleri temizleme\n",
    "filtered_summaries_train['cleaned_text'] = filtered_summaries_train['tokenized_text'].apply(preprocess_text)\n",
    "prompts_test['prompt_text'] = prompts_test['prompt_text'].apply(preprocess_text)\n",
    "summaries_test['text'] = summaries_test['text'].apply(preprocess_text)\n",
    "\n",
    "# Noktalama işaretlerini boşlukla değiştirme\n",
    "filtered_summaries_train['cleaned_text'] = filtered_summaries_train['cleaned_text'].str.replace('[^\\w\\s]', '')\n",
    "prompts_test['prompt_text'] = prompts_test['prompt_text'].str.replace('[^\\w\\s]', '')\n",
    "summaries_test['text'] = summaries_test['text'].str.replace('[^\\w\\s]', '')\n",
    "\n",
    "# ŞİMDİ BOŞLUKLARI KALDIRRRR HAYDİİİİİİİİİİİ\n",
    "filtered_summaries_train['cleaned_text'] = filtered_summaries_train['cleaned_text'].str.replace('\\s+', '')\n",
    "prompts_test['prompt_text'] = prompts_test['prompt_text'].str.replace('\\s+', '')\n",
    "summaries_test['text'] = summaries_test['text'].str.replace('\\s+', '')\n",
    "\n",
    "#Bişey deniyorum\n",
    "filtered_summaries_train['cleaned_text'] = filtered_summaries_train['cleaned_text'].str.replace('  ', ' ')\n",
    "prompts_test['prompt_text'] = prompts_test['prompt_text'].str.replace('  ', ' ')\n",
    "summaries_test['text'] = summaries_test['text'].str.replace('  ', ' ')\n",
    "\n",
    "filtered_summaries_train['cleaned_text'] = filtered_summaries_train['cleaned_text'].str.replace('   ', ' ')\n",
    "prompts_test['prompt_text'] = prompts_test['prompt_text'].str.replace('   ', ' ')\n",
    "summaries_test['text'] = summaries_test['text'].str.replace('   ', ' ')\n",
    "\n",
    "filtered_summaries_train['cleaned_text'] = filtered_summaries_train['cleaned_text'].str.replace('    ', ' ')\n",
    "prompts_test['prompt_text'] = prompts_test['prompt_text'].str.replace('    ', ' ')\n",
    "summaries_test['text'] = summaries_test['text'].str.replace('    ', ' ')\n",
    "\n",
    "# Temizlenmiş verileri gösterme\n",
    "print(filtered_summaries_train['cleaned_text'])"
   ]
  },
  {
   "cell_type": "markdown",
   "id": "8372b738",
   "metadata": {
    "papermill": {
     "duration": 0.005132,
     "end_time": "2023-10-05T10:52:37.134436",
     "exception": false,
     "start_time": "2023-10-05T10:52:37.129304",
     "status": "completed"
    },
    "tags": []
   },
   "source": [
    "# YANLIŞ KELİME DÜZELTME"
   ]
  },
  {
   "cell_type": "code",
   "execution_count": 6,
   "id": "1ab3bec5",
   "metadata": {
    "execution": {
     "iopub.execute_input": "2023-10-05T10:52:37.146711Z",
     "iopub.status.busy": "2023-10-05T10:52:37.146316Z",
     "iopub.status.idle": "2023-10-05T10:52:37.153053Z",
     "shell.execute_reply": "2023-10-05T10:52:37.151882Z"
    },
    "papermill": {
     "duration": 0.016183,
     "end_time": "2023-10-05T10:52:37.155938",
     "exception": false,
     "start_time": "2023-10-05T10:52:37.139755",
     "status": "completed"
    },
    "tags": []
   },
   "outputs": [
    {
     "name": "stdout",
     "output_type": "stream",
     "text": [
      "1255\n"
     ]
    }
   ],
   "source": [
    "# \"text\" sütunundaki tüm satırları birleştirip tek bir metin oluşturun\n",
    "all_text = ' '.join(filtered_summaries_train['cleaned_text'])\n",
    "\n",
    "# Metni boşluklardan bölerek kelimeleri ayırın ve bir liste oluşturun\n",
    "words = all_text.split()\n",
    "\n",
    "# Kelimelerin benzersiz (unique) olmasını sağlamak için bir küme (set) oluşturun\n",
    "unique_words_list = list(set(words))\n",
    "\n",
    "# Benzersiz kelimeleri görüntüleyin\n",
    "print(len(unique_words_list))"
   ]
  },
  {
   "cell_type": "code",
   "execution_count": 7,
   "id": "27e7e974",
   "metadata": {
    "execution": {
     "iopub.execute_input": "2023-10-05T10:52:37.168460Z",
     "iopub.status.busy": "2023-10-05T10:52:37.168075Z",
     "iopub.status.idle": "2023-10-05T10:52:37.173552Z",
     "shell.execute_reply": "2023-10-05T10:52:37.172371Z"
    },
    "papermill": {
     "duration": 0.014074,
     "end_time": "2023-10-05T10:52:37.175490",
     "exception": false,
     "start_time": "2023-10-05T10:52:37.161416",
     "status": "completed"
    },
    "tags": []
   },
   "outputs": [
    {
     "name": "stdout",
     "output_type": "stream",
     "text": [
      "['papyrus', 'billions', 'salesmen', 'suffer', 'sense', 'renowned', 'especially', 'close', 'hide', 'orestes', 'sometimes', 'stuffed', 'collected', 'hole', 'nobles', 'fo', 'enhance', 'pharaoh', 'principles', 'governemnt']\n"
     ]
    }
   ],
   "source": [
    "# 11. kelime ile 20. kelime arasındaki benzersiz kelimeleri görüntülemek için\n",
    "print(unique_words_list[150:170])"
   ]
  },
  {
   "cell_type": "code",
   "execution_count": 8,
   "id": "5feb0764",
   "metadata": {
    "execution": {
     "iopub.execute_input": "2023-10-05T10:52:37.188023Z",
     "iopub.status.busy": "2023-10-05T10:52:37.187687Z",
     "iopub.status.idle": "2023-10-05T10:52:37.235217Z",
     "shell.execute_reply": "2023-10-05T10:52:37.234127Z"
    },
    "papermill": {
     "duration": 0.056431,
     "end_time": "2023-10-05T10:52:37.237424",
     "exception": false,
     "start_time": "2023-10-05T10:52:37.180993",
     "status": "completed"
    },
    "tags": []
   },
   "outputs": [
    {
     "name": "stdout",
     "output_type": "stream",
     "text": [
      "Başarılı\n"
     ]
    }
   ],
   "source": [
    "# Birden fazla kelimeyi düzeltmek için her bir düzeltmeyi ayrı satırlarda tanımlayın\n",
    "\n",
    "corrections = {\n",
    "    \"structuree\": \"structure\",\n",
    "    \"emploees\": \"employees\",\n",
    "    \"governemtn\": \"government\",\n",
    "    \"bellieved\": \"believed\",\n",
    "    \"nuaseating\":\"nauseating\",\n",
    "    \"extact\":\"extract\",\n",
    "    \"valubule\":\"valuable\",\n",
    "    \"reaso\":\"reason\",\n",
    "    \"figting\":\"fighting\",\n",
    "    \"complx\":\"complex\",\n",
    "    \"sonstructed\":\"constructed\",\n",
    "    \"differeny\":\"different\",\n",
    "    \"instert\":\"insert\",\n",
    "    \"experiemnt\":\"experiment\",\n",
    "    \"folloeing\":\"following\",\n",
    "    \"behaivior\":\"behavior\",\n",
    "    \"beggng\":\"begging\",\n",
    "    \"middl\":\"middle\",\n",
    "    \"expirament\":\"experiment\",\n",
    "    \"shoild\":\"should\",\n",
    "    \"supposted\":\"supposed\",\n",
    "    \"desissions\":\"decisions\",\n",
    "    \"movemnet\":\"movement\",\n",
    "    \"controllled\":\"controlled\",\n",
    "    \"gorvernemt\":\"government\",\n",
    "    \"afer\":\"after\",\n",
    "    \"succesfull\":\"successful\",\n",
    "    \"pharoaohs\":\"pharaohs\",\n",
    "    \"pharoras\":\"pharaohs\",\n",
    "    \"quaility\":\"quality\",\n",
    "    \"tradedy\":\"tragedy\",\n",
    "    \"wokers\":\"workers\",\n",
    "    \"exampl\":\"example\",\n",
    "    \"classś\":\"class\",\n",
    "    \"includs\":\"includes\",\n",
    "    \"susage\":\"sausage\",\n",
    "    \"mobilty\":\"mobility\",\n",
    "    \"saddness\":\"sadness\",\n",
    "    \"sinckair\":\"sinclair\",\n",
    "    \"artile\":\"article\",\n",
    "    \"craftsmem\":\"craftsmen\",\n",
    "    \"charactor\":\"character\",\n",
    "    \"thorught\":\"through\",\n",
    "    \"aviod\":\"avoid\",\n",
    "    \"betweem\":\"between\",\n",
    "    \"endof\":\"end of\",\n",
    "    \"perceft\":\"perfect\",\n",
    "    \"glycerince\":\"glycerine\",\n",
    "    \"ful\":\"full\"\n",
    "}\n",
    "\n",
    "# Her düzeltmeyi sırayla uygulayın\n",
    "for old_word, new_word in corrections.items():\n",
    "    filtered_summaries_train['cleaned_text'] = filtered_summaries_train['cleaned_text'].str.replace(old_word, new_word)\n",
    "\n",
    "for old_word, new_word in corrections.items():\n",
    "    filtered_summaries_train['text'] = filtered_summaries_train['text'].str.replace(old_word, new_word)\n",
    "\n",
    "# Sütunun güncellendiğini kontrol etmek için ilk 10 satırı görüntüleyebilirsiniz\n",
    "print(\"Başarılı\")"
   ]
  },
  {
   "cell_type": "code",
   "execution_count": 9,
   "id": "fe4461bb",
   "metadata": {
    "execution": {
     "iopub.execute_input": "2023-10-05T10:52:37.250179Z",
     "iopub.status.busy": "2023-10-05T10:52:37.249796Z",
     "iopub.status.idle": "2023-10-05T10:52:42.701271Z",
     "shell.execute_reply": "2023-10-05T10:52:42.700235Z"
    },
    "papermill": {
     "duration": 5.460651,
     "end_time": "2023-10-05T10:52:42.703684",
     "exception": false,
     "start_time": "2023-10-05T10:52:37.243033",
     "status": "completed"
    },
    "tags": []
   },
   "outputs": [],
   "source": [
    "import torch\n",
    "from transformers import AutoTokenizer, AutoModelForSequenceClassification"
   ]
  },
  {
   "cell_type": "code",
   "execution_count": 10,
   "id": "36472ced",
   "metadata": {
    "execution": {
     "iopub.execute_input": "2023-10-05T10:52:42.718122Z",
     "iopub.status.busy": "2023-10-05T10:52:42.717617Z",
     "iopub.status.idle": "2023-10-05T10:52:55.126776Z",
     "shell.execute_reply": "2023-10-05T10:52:55.125482Z"
    },
    "papermill": {
     "duration": 12.41928,
     "end_time": "2023-10-05T10:52:55.129481",
     "exception": false,
     "start_time": "2023-10-05T10:52:42.710201",
     "status": "completed"
    },
    "tags": []
   },
   "outputs": [
    {
     "name": "stderr",
     "output_type": "stream",
     "text": [
      "Special tokens have been added in the vocabulary, make sure the associated word embeddings are fine-tuned or trained.\n",
      "Special tokens have been added in the vocabulary, make sure the associated word embeddings are fine-tuned or trained.\n",
      "Some weights of DebertaV2ForSequenceClassification were not initialized from the model checkpoint at /kaggle/input/debertav3xsmall/deberta-v3-xsmall and are newly initialized: ['classifier.weight', 'classifier.bias', 'pooler.dense.bias', 'pooler.dense.weight']\n",
      "You should probably TRAIN this model on a down-stream task to be able to use it for predictions and inference.\n"
     ]
    }
   ],
   "source": [
    "# Model ve Tokenizer'ı yükleyin\n",
    "model_name = '/kaggle/input/debertav3xsmall/deberta-v3-xsmall'\n",
    "tokenizer = AutoTokenizer.from_pretrained(model_name)\n",
    "model = AutoModelForSequenceClassification.from_pretrained(model_name, num_labels=2)  # İki etiket olduğunu varsayalım"
   ]
  },
  {
   "cell_type": "code",
   "execution_count": 11,
   "id": "2dc1758b",
   "metadata": {
    "execution": {
     "iopub.execute_input": "2023-10-05T10:52:55.143115Z",
     "iopub.status.busy": "2023-10-05T10:52:55.142491Z",
     "iopub.status.idle": "2023-10-05T10:52:55.231537Z",
     "shell.execute_reply": "2023-10-05T10:52:55.230197Z"
    },
    "papermill": {
     "duration": 0.098361,
     "end_time": "2023-10-05T10:52:55.233811",
     "exception": false,
     "start_time": "2023-10-05T10:52:55.135450",
     "status": "completed"
    },
    "tags": []
   },
   "outputs": [],
   "source": [
    "# Eğitim verilerini yükleyin\n",
    "X = filtered_summaries_train['cleaned_text'].values\n",
    "y = filtered_summaries_train[['content', 'wording']].values\n",
    "\n",
    "# Veriyi tokenize edin ve tensörlere çevirin\n",
    "def tokenize_data(texts, labels):\n",
    "    input_ids = []\n",
    "    attention_masks = []\n",
    "\n",
    "    for text in texts:\n",
    "        encoded = tokenizer(\n",
    "            text,\n",
    "            padding=\"max_length\",\n",
    "            truncation=True,\n",
    "            max_length=300,\n",
    "            return_tensors=\"pt\"\n",
    "        )\n",
    "        \n",
    "        input_ids.append(encoded[\"input_ids\"])\n",
    "        attention_masks.append(encoded[\"attention_mask\"])\n",
    "    \n",
    "    return torch.cat(input_ids, dim=0), torch.cat(attention_masks, dim=0), torch.tensor(labels)\n",
    "\n",
    "input_ids, attention_masks, labels = tokenize_data(X, y)"
   ]
  },
  {
   "cell_type": "code",
   "execution_count": 12,
   "id": "be3ea8df",
   "metadata": {
    "execution": {
     "iopub.execute_input": "2023-10-05T10:52:55.246989Z",
     "iopub.status.busy": "2023-10-05T10:52:55.246645Z",
     "iopub.status.idle": "2023-10-05T10:52:56.905944Z",
     "shell.execute_reply": "2023-10-05T10:52:56.904812Z"
    },
    "papermill": {
     "duration": 1.668341,
     "end_time": "2023-10-05T10:52:56.908107",
     "exception": false,
     "start_time": "2023-10-05T10:52:55.239766",
     "status": "completed"
    },
    "tags": []
   },
   "outputs": [
    {
     "data": {
      "text/plain": [
       "<All keys matched successfully>"
      ]
     },
     "execution_count": 12,
     "metadata": {},
     "output_type": "execute_result"
    }
   ],
   "source": [
    "# Eğitilmiş modelin ağırlıklarını yükleyin\n",
    "model.load_state_dict(torch.load('/kaggle/input/kaydedilecekmi/my_model.pth'))"
   ]
  },
  {
   "cell_type": "code",
   "execution_count": 13,
   "id": "0e47cdc2",
   "metadata": {
    "execution": {
     "iopub.execute_input": "2023-10-05T10:52:56.921757Z",
     "iopub.status.busy": "2023-10-05T10:52:56.921355Z",
     "iopub.status.idle": "2023-10-05T10:52:56.927351Z",
     "shell.execute_reply": "2023-10-05T10:52:56.925964Z"
    },
    "papermill": {
     "duration": 0.015308,
     "end_time": "2023-10-05T10:52:56.929610",
     "exception": false,
     "start_time": "2023-10-05T10:52:56.914302",
     "status": "completed"
    },
    "tags": []
   },
   "outputs": [],
   "source": [
    "from torch.utils.data import TensorDataset, DataLoader\n",
    "\n",
    "# Yukarıda verilen örneğe benzer şekilde eğitim verilerinizi ve etiketlerinizi tensörlere çevirdiyseniz,\n",
    "# TensorDataset ve DataLoader kullanarak bir veri yükleyici oluşturabilirsiniz.\n",
    "\n",
    "dataset = TensorDataset(input_ids, attention_masks, labels)\n",
    "batch_size = 16\n",
    "dataloader = DataLoader(dataset, batch_size=batch_size, shuffle=False)"
   ]
  },
  {
   "cell_type": "code",
   "execution_count": 14,
   "id": "972d00d4",
   "metadata": {
    "execution": {
     "iopub.execute_input": "2023-10-05T10:52:56.943614Z",
     "iopub.status.busy": "2023-10-05T10:52:56.942927Z",
     "iopub.status.idle": "2023-10-05T10:53:27.327522Z",
     "shell.execute_reply": "2023-10-05T10:53:27.326696Z"
    },
    "papermill": {
     "duration": 30.394063,
     "end_time": "2023-10-05T10:53:27.329986",
     "exception": false,
     "start_time": "2023-10-05T10:52:56.935923",
     "status": "completed"
    },
    "tags": []
   },
   "outputs": [],
   "source": [
    "# İlk olarak content'i tahmin et\n",
    "model.eval()\n",
    "predictions_content = []\n",
    "true_labels_content = []\n",
    "\n",
    "for batch in dataloader:\n",
    "    input_ids, attention_mask, labels = batch\n",
    "    with torch.no_grad():\n",
    "        outputs = model(input_ids, attention_mask=attention_mask)\n",
    "    \n",
    "    logits = outputs.logits\n",
    "    predicted_labels = torch.argmax(logits, dim=1).tolist()\n",
    "    true_labels_content.extend(labels[:, 0].tolist())  # Sadece sol taraftaki (y1) değeri alıyoruz\n",
    "    predictions_content.extend(predicted_labels)\n",
    "# Tahminlerinizi kullanarak işlem yapabilirsiniz\n",
    "# Örneğin, predictions_content ve predictions_wording'i kullanarak sonuçları değerlendirebilirsiniz"
   ]
  },
  {
   "cell_type": "code",
   "execution_count": 15,
   "id": "9f0fa2be",
   "metadata": {
    "execution": {
     "iopub.execute_input": "2023-10-05T10:53:27.345245Z",
     "iopub.status.busy": "2023-10-05T10:53:27.344705Z",
     "iopub.status.idle": "2023-10-05T10:53:54.926134Z",
     "shell.execute_reply": "2023-10-05T10:53:54.925310Z"
    },
    "papermill": {
     "duration": 27.591505,
     "end_time": "2023-10-05T10:53:54.928681",
     "exception": false,
     "start_time": "2023-10-05T10:53:27.337176",
     "status": "completed"
    },
    "tags": []
   },
   "outputs": [],
   "source": [
    "# Şimdi wording'i tahmin et\n",
    "model.eval()\n",
    "predictions_wording = []\n",
    "true_labels_wording = []\n",
    "\n",
    "for batch in dataloader:\n",
    "    input_ids, attention_mask, labels = batch\n",
    "    with torch.no_grad():\n",
    "        outputs = model(input_ids, attention_mask=attention_mask)\n",
    "    logits = outputs.logits\n",
    "    predicted_labels = torch.argmax(logits, dim=1).tolist()\n",
    "    true_labels_wording.extend(labels[:, 1].tolist())  # Sağ taraftaki (y2) değeri alıyoruz\n",
    "    predictions_wording.extend(predicted_labels)"
   ]
  },
  {
   "cell_type": "code",
   "execution_count": 16,
   "id": "94dc28e2",
   "metadata": {
    "execution": {
     "iopub.execute_input": "2023-10-05T10:53:54.945442Z",
     "iopub.status.busy": "2023-10-05T10:53:54.944841Z",
     "iopub.status.idle": "2023-10-05T10:53:54.951999Z",
     "shell.execute_reply": "2023-10-05T10:53:54.950646Z"
    },
    "papermill": {
     "duration": 0.017848,
     "end_time": "2023-10-05T10:53:54.954283",
     "exception": false,
     "start_time": "2023-10-05T10:53:54.936435",
     "status": "completed"
    },
    "tags": []
   },
   "outputs": [
    {
     "name": "stdout",
     "output_type": "stream",
     "text": [
      "Mean Squared Error (MSE) for content: 1.2099\n"
     ]
    }
   ],
   "source": [
    "# Mean Squared Error (MSE) hesaplamak için true_labels_wording ve predictions_wording kullanabilirsiniz\n",
    "from sklearn.metrics import mean_squared_error\n",
    "mse_y2 = mean_squared_error(true_labels_content, predictions_content)\n",
    "print(f\"Mean Squared Error (MSE) for content: {mse_y2:.4f}\")"
   ]
  },
  {
   "cell_type": "code",
   "execution_count": 17,
   "id": "38392287",
   "metadata": {
    "execution": {
     "iopub.execute_input": "2023-10-05T10:53:54.968021Z",
     "iopub.status.busy": "2023-10-05T10:53:54.967459Z",
     "iopub.status.idle": "2023-10-05T10:53:54.973358Z",
     "shell.execute_reply": "2023-10-05T10:53:54.972430Z"
    },
    "papermill": {
     "duration": 0.014864,
     "end_time": "2023-10-05T10:53:54.975185",
     "exception": false,
     "start_time": "2023-10-05T10:53:54.960321",
     "status": "completed"
    },
    "tags": []
   },
   "outputs": [
    {
     "name": "stdout",
     "output_type": "stream",
     "text": [
      "Mean Squared Error (MSE) for wording: 1.2969\n"
     ]
    }
   ],
   "source": [
    "# Mean Squared Error (MSE) hesaplamak için true_labels_wording ve predictions_wording kullanabilirsiniz\n",
    "mse_y2 = mean_squared_error(true_labels_wording, predictions_wording)\n",
    "print(f\"Mean Squared Error (MSE) for wording: {mse_y2:.4f}\")"
   ]
  },
  {
   "cell_type": "code",
   "execution_count": 18,
   "id": "be5f5b24",
   "metadata": {
    "execution": {
     "iopub.execute_input": "2023-10-05T10:53:54.988989Z",
     "iopub.status.busy": "2023-10-05T10:53:54.988191Z",
     "iopub.status.idle": "2023-10-05T10:53:54.997220Z",
     "shell.execute_reply": "2023-10-05T10:53:54.996099Z"
    },
    "papermill": {
     "duration": 0.018267,
     "end_time": "2023-10-05T10:53:54.999382",
     "exception": false,
     "start_time": "2023-10-05T10:53:54.981115",
     "status": "completed"
    },
    "tags": []
   },
   "outputs": [
    {
     "name": "stdout",
     "output_type": "stream",
     "text": [
      "RMSE for y1: 1.0999663975680807\n",
      "RMSE for y2: 1.1387934048143502\n",
      "MCRMSE: 1.1193799011912153\n"
     ]
    }
   ],
   "source": [
    "from sklearn.metrics import mean_squared_error\n",
    "\n",
    "# Verileriniz\n",
    "y1_true = true_labels_content  # y1 gerçek değerler\n",
    "y2_true = true_labels_wording   # y2 gerçek değerler\n",
    "y1_pred = predictions_content   # y1 tahmin değerler\n",
    "y2_pred = predictions_wording   # y2 tahmin değerler\n",
    "\n",
    "def compute_mcrmse(y1_true, y1_pred, y2_true, y2_pred):\n",
    "    # Her iki sütun için RMSE hesaplamaları yapın\n",
    "    y1_rmse = np.sqrt(mean_squared_error(y1_true, y1_pred))\n",
    "    y2_rmse = np.sqrt(mean_squared_error(y2_true, y2_pred))\n",
    "    \n",
    "    # Ortalama RMSE hesaplayın\n",
    "    mcrmse = (y1_rmse + y2_rmse) / 2.0\n",
    "    \n",
    "    return {\n",
    "        \"y1_rmse\": y1_rmse,\n",
    "        \"y2_rmse\": y2_rmse,\n",
    "        \"mcrmse\": mcrmse,\n",
    "    }\n",
    "\n",
    "# MCRMSE sonuçlarını hesaplayın\n",
    "mcrmse_result = compute_mcrmse(y1_true, y1_pred, y2_true, y2_pred)\n",
    "\n",
    "# MCRMSE sonuçlarını yazdırın\n",
    "print(\"RMSE for y1:\", mcrmse_result[\"y1_rmse\"])\n",
    "print(\"RMSE for y2:\", mcrmse_result[\"y2_rmse\"])\n",
    "print(\"MCRMSE:\", mcrmse_result[\"mcrmse\"])"
   ]
  },
  {
   "cell_type": "code",
   "execution_count": 19,
   "id": "dc986b1e",
   "metadata": {
    "execution": {
     "iopub.execute_input": "2023-10-05T10:53:55.013183Z",
     "iopub.status.busy": "2023-10-05T10:53:55.012795Z",
     "iopub.status.idle": "2023-10-05T10:53:55.021556Z",
     "shell.execute_reply": "2023-10-05T10:53:55.020774Z"
    },
    "papermill": {
     "duration": 0.018076,
     "end_time": "2023-10-05T10:53:55.023693",
     "exception": false,
     "start_time": "2023-10-05T10:53:55.005617",
     "status": "completed"
    },
    "tags": []
   },
   "outputs": [],
   "source": [
    "# Content ve wording tahminlerinin ortalamasını alın\n",
    "average_content = np.mean(predictions_content)\n",
    "average_wording = np.mean(predictions_wording)\n",
    "\n",
    "# Mevcut \"sub\" dosyasına tahminleri ekleyin\n",
    "sub['content'] = average_content\n",
    "sub['wording'] = average_wording\n",
    "\n",
    "# Güncellenmiş gönderim dosyasını kaydedin\n",
    "sub.to_csv('submission.csv', index=False)"
   ]
  },
  {
   "cell_type": "code",
   "execution_count": 20,
   "id": "1cb453b1",
   "metadata": {
    "execution": {
     "iopub.execute_input": "2023-10-05T10:53:55.037975Z",
     "iopub.status.busy": "2023-10-05T10:53:55.037068Z",
     "iopub.status.idle": "2023-10-05T10:53:55.050310Z",
     "shell.execute_reply": "2023-10-05T10:53:55.049497Z"
    },
    "papermill": {
     "duration": 0.022505,
     "end_time": "2023-10-05T10:53:55.052563",
     "exception": false,
     "start_time": "2023-10-05T10:53:55.030058",
     "status": "completed"
    },
    "tags": []
   },
   "outputs": [
    {
     "data": {
      "text/html": [
       "<div>\n",
       "<style scoped>\n",
       "    .dataframe tbody tr th:only-of-type {\n",
       "        vertical-align: middle;\n",
       "    }\n",
       "\n",
       "    .dataframe tbody tr th {\n",
       "        vertical-align: top;\n",
       "    }\n",
       "\n",
       "    .dataframe thead th {\n",
       "        text-align: right;\n",
       "    }\n",
       "</style>\n",
       "<table border=\"1\" class=\"dataframe\">\n",
       "  <thead>\n",
       "    <tr style=\"text-align: right;\">\n",
       "      <th></th>\n",
       "      <th>student_id</th>\n",
       "      <th>content</th>\n",
       "      <th>wording</th>\n",
       "    </tr>\n",
       "  </thead>\n",
       "  <tbody>\n",
       "    <tr>\n",
       "      <th>0</th>\n",
       "      <td>000000ffffff</td>\n",
       "      <td>0.0</td>\n",
       "      <td>0.0</td>\n",
       "    </tr>\n",
       "    <tr>\n",
       "      <th>1</th>\n",
       "      <td>111111eeeeee</td>\n",
       "      <td>0.0</td>\n",
       "      <td>0.0</td>\n",
       "    </tr>\n",
       "    <tr>\n",
       "      <th>2</th>\n",
       "      <td>222222cccccc</td>\n",
       "      <td>0.0</td>\n",
       "      <td>0.0</td>\n",
       "    </tr>\n",
       "    <tr>\n",
       "      <th>3</th>\n",
       "      <td>333333dddddd</td>\n",
       "      <td>0.0</td>\n",
       "      <td>0.0</td>\n",
       "    </tr>\n",
       "  </tbody>\n",
       "</table>\n",
       "</div>"
      ],
      "text/plain": [
       "     student_id  content  wording\n",
       "0  000000ffffff      0.0      0.0\n",
       "1  111111eeeeee      0.0      0.0\n",
       "2  222222cccccc      0.0      0.0\n",
       "3  333333dddddd      0.0      0.0"
      ]
     },
     "execution_count": 20,
     "metadata": {},
     "output_type": "execute_result"
    }
   ],
   "source": [
    "sub"
   ]
  },
  {
   "cell_type": "code",
   "execution_count": null,
   "id": "a62fd96a",
   "metadata": {
    "papermill": {
     "duration": 0.005918,
     "end_time": "2023-10-05T10:53:55.065017",
     "exception": false,
     "start_time": "2023-10-05T10:53:55.059099",
     "status": "completed"
    },
    "tags": []
   },
   "outputs": [],
   "source": []
  }
 ],
 "metadata": {
  "kernelspec": {
   "display_name": "Python 3 (ipykernel)",
   "language": "python",
   "name": "python3"
  },
  "language_info": {
   "codemirror_mode": {
    "name": "ipython",
    "version": 3
   },
   "file_extension": ".py",
   "mimetype": "text/x-python",
   "name": "python",
   "nbconvert_exporter": "python",
   "pygments_lexer": "ipython3",
   "version": "3.9.16"
  },
  "papermill": {
   "default_parameters": {},
   "duration": 135.387204,
   "end_time": "2023-10-05T10:53:58.360990",
   "environment_variables": {},
   "exception": null,
   "input_path": "__notebook__.ipynb",
   "output_path": "__notebook__.ipynb",
   "parameters": {},
   "start_time": "2023-10-05T10:51:42.973786",
   "version": "2.4.0"
  }
 },
 "nbformat": 4,
 "nbformat_minor": 5
}
