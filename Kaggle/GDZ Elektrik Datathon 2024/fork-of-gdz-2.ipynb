{
 "cells": [
  {
   "cell_type": "code",
   "execution_count": 1,
   "id": "2b10a9f3",
   "metadata": {
    "execution": {
     "iopub.execute_input": "2024-05-08T16:55:37.268555Z",
     "iopub.status.busy": "2024-05-08T16:55:37.267850Z",
     "iopub.status.idle": "2024-05-08T16:55:38.667066Z",
     "shell.execute_reply": "2024-05-08T16:55:38.665908Z"
    },
    "papermill": {
     "duration": 1.429544,
     "end_time": "2024-05-08T16:55:38.669863",
     "exception": false,
     "start_time": "2024-05-08T16:55:37.240319",
     "status": "completed"
    },
    "tags": []
   },
   "outputs": [],
   "source": [
    "from sklearn.preprocessing import StandardScaler"
   ]
  },
  {
   "cell_type": "code",
   "execution_count": 2,
   "id": "cd5498f2",
   "metadata": {
    "_cell_guid": "b1076dfc-b9ad-4769-8c92-a6c4dae69d19",
    "_uuid": "8f2839f25d086af736a60e9eeb907d3b93b6e0e5",
    "execution": {
     "iopub.execute_input": "2024-05-08T16:55:38.721757Z",
     "iopub.status.busy": "2024-05-08T16:55:38.721256Z",
     "iopub.status.idle": "2024-05-08T16:55:40.108666Z",
     "shell.execute_reply": "2024-05-08T16:55:40.107175Z"
    },
    "papermill": {
     "duration": 1.417662,
     "end_time": "2024-05-08T16:55:40.111702",
     "exception": false,
     "start_time": "2024-05-08T16:55:38.694040",
     "status": "completed"
    },
    "tags": []
   },
   "outputs": [],
   "source": [
    "import numpy as np \n",
    "import pandas as pd\n",
    "import seaborn as sns\n",
    "import matplotlib.pyplot as plt"
   ]
  },
  {
   "cell_type": "code",
   "execution_count": 3,
   "id": "18d97e1b",
   "metadata": {
    "execution": {
     "iopub.execute_input": "2024-05-08T16:55:40.162031Z",
     "iopub.status.busy": "2024-05-08T16:55:40.161489Z",
     "iopub.status.idle": "2024-05-08T16:55:40.167276Z",
     "shell.execute_reply": "2024-05-08T16:55:40.165881Z"
    },
    "papermill": {
     "duration": 0.03382,
     "end_time": "2024-05-08T16:55:40.170052",
     "exception": false,
     "start_time": "2024-05-08T16:55:40.136232",
     "status": "completed"
    },
    "tags": []
   },
   "outputs": [],
   "source": [
    "from warnings import simplefilter\n",
    "simplefilter(action=\"ignore\", category=pd.errors.PerformanceWarning)"
   ]
  },
  {
   "cell_type": "code",
   "execution_count": 4,
   "id": "7452de5c",
   "metadata": {
    "execution": {
     "iopub.execute_input": "2024-05-08T16:55:40.221576Z",
     "iopub.status.busy": "2024-05-08T16:55:40.221198Z",
     "iopub.status.idle": "2024-05-08T16:55:44.354602Z",
     "shell.execute_reply": "2024-05-08T16:55:44.353353Z"
    },
    "papermill": {
     "duration": 4.162846,
     "end_time": "2024-05-08T16:55:44.357485",
     "exception": false,
     "start_time": "2024-05-08T16:55:40.194639",
     "status": "completed"
    },
    "tags": []
   },
   "outputs": [],
   "source": [
    "holidays = pd.read_csv(\"/kaggle/input/gdz-elektrik-datathon-2024/holidays.csv\")\n",
    "sub = pd.read_csv(\"/kaggle/input/gdz-elektrik-datathon-2024/sample_submission.csv\")\n",
    "test = pd.read_csv(\"/kaggle/input/gdz-elektrik-datathon-2024/test.csv\")\n",
    "train = pd.read_csv(\"/kaggle/input/gdz-elektrik-datathon-2024/train.csv\")\n",
    "weather = pd.read_csv(\"/kaggle/input/gdz-elektrik-datathon-2024/weather.csv\")"
   ]
  },
  {
   "cell_type": "code",
   "execution_count": 5,
   "id": "d3e782c9",
   "metadata": {
    "execution": {
     "iopub.execute_input": "2024-05-08T16:55:44.408264Z",
     "iopub.status.busy": "2024-05-08T16:55:44.407858Z",
     "iopub.status.idle": "2024-05-08T16:55:44.452602Z",
     "shell.execute_reply": "2024-05-08T16:55:44.451426Z"
    },
    "papermill": {
     "duration": 0.073205,
     "end_time": "2024-05-08T16:55:44.455320",
     "exception": false,
     "start_time": "2024-05-08T16:55:44.382115",
     "status": "completed"
    },
    "tags": []
   },
   "outputs": [
    {
     "data": {
      "text/html": [
       "<div>\n",
       "<style scoped>\n",
       "    .dataframe tbody tr th:only-of-type {\n",
       "        vertical-align: middle;\n",
       "    }\n",
       "\n",
       "    .dataframe tbody tr th {\n",
       "        vertical-align: top;\n",
       "    }\n",
       "\n",
       "    .dataframe thead th {\n",
       "        text-align: right;\n",
       "    }\n",
       "</style>\n",
       "<table border=\"1\" class=\"dataframe\">\n",
       "  <thead>\n",
       "    <tr style=\"text-align: right;\">\n",
       "      <th></th>\n",
       "      <th>date</th>\n",
       "      <th>lat</th>\n",
       "      <th>lon</th>\n",
       "      <th>t_2m:C</th>\n",
       "      <th>effective_cloud_cover:p</th>\n",
       "      <th>global_rad:W</th>\n",
       "      <th>relative_humidity_2m:p</th>\n",
       "      <th>wind_dir_10m:d</th>\n",
       "      <th>wind_speed_10m:ms</th>\n",
       "      <th>prob_precip_1h:p</th>\n",
       "      <th>t_apparent:C</th>\n",
       "      <th>name</th>\n",
       "    </tr>\n",
       "  </thead>\n",
       "  <tbody>\n",
       "    <tr>\n",
       "      <th>0</th>\n",
       "      <td>2021-01-01 00:00:00</td>\n",
       "      <td>38.6184</td>\n",
       "      <td>28.6712</td>\n",
       "      <td>7.6</td>\n",
       "      <td>10.5</td>\n",
       "      <td>0.0</td>\n",
       "      <td>86.1</td>\n",
       "      <td>173.3</td>\n",
       "      <td>2.6</td>\n",
       "      <td>1.0</td>\n",
       "      <td>5.9</td>\n",
       "      <td>Manisa-Ahmetli</td>\n",
       "    </tr>\n",
       "    <tr>\n",
       "      <th>1</th>\n",
       "      <td>2021-01-01 01:00:00</td>\n",
       "      <td>38.6184</td>\n",
       "      <td>28.6712</td>\n",
       "      <td>7.4</td>\n",
       "      <td>6.8</td>\n",
       "      <td>0.0</td>\n",
       "      <td>88.0</td>\n",
       "      <td>174.5</td>\n",
       "      <td>2.7</td>\n",
       "      <td>1.0</td>\n",
       "      <td>5.7</td>\n",
       "      <td>Manisa-Ahmetli</td>\n",
       "    </tr>\n",
       "    <tr>\n",
       "      <th>2</th>\n",
       "      <td>2021-01-01 02:00:00</td>\n",
       "      <td>38.6184</td>\n",
       "      <td>28.6712</td>\n",
       "      <td>7.3</td>\n",
       "      <td>4.3</td>\n",
       "      <td>0.0</td>\n",
       "      <td>90.0</td>\n",
       "      <td>177.5</td>\n",
       "      <td>2.8</td>\n",
       "      <td>1.0</td>\n",
       "      <td>5.4</td>\n",
       "      <td>Manisa-Ahmetli</td>\n",
       "    </tr>\n",
       "    <tr>\n",
       "      <th>3</th>\n",
       "      <td>2021-01-01 03:00:00</td>\n",
       "      <td>38.6184</td>\n",
       "      <td>28.6712</td>\n",
       "      <td>7.2</td>\n",
       "      <td>8.9</td>\n",
       "      <td>0.0</td>\n",
       "      <td>90.8</td>\n",
       "      <td>175.3</td>\n",
       "      <td>2.7</td>\n",
       "      <td>1.0</td>\n",
       "      <td>5.3</td>\n",
       "      <td>Manisa-Ahmetli</td>\n",
       "    </tr>\n",
       "    <tr>\n",
       "      <th>4</th>\n",
       "      <td>2021-01-01 04:00:00</td>\n",
       "      <td>38.6184</td>\n",
       "      <td>28.6712</td>\n",
       "      <td>8.0</td>\n",
       "      <td>22.1</td>\n",
       "      <td>0.0</td>\n",
       "      <td>89.7</td>\n",
       "      <td>172.1</td>\n",
       "      <td>2.5</td>\n",
       "      <td>1.0</td>\n",
       "      <td>6.5</td>\n",
       "      <td>Manisa-Ahmetli</td>\n",
       "    </tr>\n",
       "    <tr>\n",
       "      <th>...</th>\n",
       "      <td>...</td>\n",
       "      <td>...</td>\n",
       "      <td>...</td>\n",
       "      <td>...</td>\n",
       "      <td>...</td>\n",
       "      <td>...</td>\n",
       "      <td>...</td>\n",
       "      <td>...</td>\n",
       "      <td>...</td>\n",
       "      <td>...</td>\n",
       "      <td>...</td>\n",
       "      <td>...</td>\n",
       "    </tr>\n",
       "    <tr>\n",
       "      <th>1302835</th>\n",
       "      <td>2024-02-29 19:00:00</td>\n",
       "      <td>38.2283</td>\n",
       "      <td>27.9748</td>\n",
       "      <td>16.8</td>\n",
       "      <td>50.0</td>\n",
       "      <td>0.0</td>\n",
       "      <td>61.6</td>\n",
       "      <td>278.2</td>\n",
       "      <td>1.7</td>\n",
       "      <td>16.0</td>\n",
       "      <td>16.3</td>\n",
       "      <td>Izmir-Odemis</td>\n",
       "    </tr>\n",
       "    <tr>\n",
       "      <th>1302836</th>\n",
       "      <td>2024-02-29 20:00:00</td>\n",
       "      <td>38.2283</td>\n",
       "      <td>27.9748</td>\n",
       "      <td>15.4</td>\n",
       "      <td>52.4</td>\n",
       "      <td>0.0</td>\n",
       "      <td>69.4</td>\n",
       "      <td>264.7</td>\n",
       "      <td>1.4</td>\n",
       "      <td>9.2</td>\n",
       "      <td>15.4</td>\n",
       "      <td>Izmir-Odemis</td>\n",
       "    </tr>\n",
       "    <tr>\n",
       "      <th>1302837</th>\n",
       "      <td>2024-02-29 21:00:00</td>\n",
       "      <td>38.2283</td>\n",
       "      <td>27.9748</td>\n",
       "      <td>16.5</td>\n",
       "      <td>63.7</td>\n",
       "      <td>0.0</td>\n",
       "      <td>62.9</td>\n",
       "      <td>278.4</td>\n",
       "      <td>0.5</td>\n",
       "      <td>43.9</td>\n",
       "      <td>16.9</td>\n",
       "      <td>Izmir-Odemis</td>\n",
       "    </tr>\n",
       "    <tr>\n",
       "      <th>1302838</th>\n",
       "      <td>2024-02-29 22:00:00</td>\n",
       "      <td>38.2283</td>\n",
       "      <td>27.9748</td>\n",
       "      <td>15.9</td>\n",
       "      <td>61.7</td>\n",
       "      <td>0.0</td>\n",
       "      <td>64.3</td>\n",
       "      <td>242.1</td>\n",
       "      <td>0.7</td>\n",
       "      <td>58.5</td>\n",
       "      <td>16.1</td>\n",
       "      <td>Izmir-Odemis</td>\n",
       "    </tr>\n",
       "    <tr>\n",
       "      <th>1302839</th>\n",
       "      <td>2024-02-29 23:00:00</td>\n",
       "      <td>38.2283</td>\n",
       "      <td>27.9748</td>\n",
       "      <td>16.0</td>\n",
       "      <td>57.9</td>\n",
       "      <td>0.0</td>\n",
       "      <td>62.6</td>\n",
       "      <td>275.4</td>\n",
       "      <td>0.5</td>\n",
       "      <td>39.8</td>\n",
       "      <td>16.2</td>\n",
       "      <td>Izmir-Odemis</td>\n",
       "    </tr>\n",
       "  </tbody>\n",
       "</table>\n",
       "<p>1302840 rows × 12 columns</p>\n",
       "</div>"
      ],
      "text/plain": [
       "                        date      lat      lon  t_2m:C  \\\n",
       "0        2021-01-01 00:00:00  38.6184  28.6712     7.6   \n",
       "1        2021-01-01 01:00:00  38.6184  28.6712     7.4   \n",
       "2        2021-01-01 02:00:00  38.6184  28.6712     7.3   \n",
       "3        2021-01-01 03:00:00  38.6184  28.6712     7.2   \n",
       "4        2021-01-01 04:00:00  38.6184  28.6712     8.0   \n",
       "...                      ...      ...      ...     ...   \n",
       "1302835  2024-02-29 19:00:00  38.2283  27.9748    16.8   \n",
       "1302836  2024-02-29 20:00:00  38.2283  27.9748    15.4   \n",
       "1302837  2024-02-29 21:00:00  38.2283  27.9748    16.5   \n",
       "1302838  2024-02-29 22:00:00  38.2283  27.9748    15.9   \n",
       "1302839  2024-02-29 23:00:00  38.2283  27.9748    16.0   \n",
       "\n",
       "         effective_cloud_cover:p  global_rad:W  relative_humidity_2m:p  \\\n",
       "0                           10.5           0.0                    86.1   \n",
       "1                            6.8           0.0                    88.0   \n",
       "2                            4.3           0.0                    90.0   \n",
       "3                            8.9           0.0                    90.8   \n",
       "4                           22.1           0.0                    89.7   \n",
       "...                          ...           ...                     ...   \n",
       "1302835                     50.0           0.0                    61.6   \n",
       "1302836                     52.4           0.0                    69.4   \n",
       "1302837                     63.7           0.0                    62.9   \n",
       "1302838                     61.7           0.0                    64.3   \n",
       "1302839                     57.9           0.0                    62.6   \n",
       "\n",
       "         wind_dir_10m:d  wind_speed_10m:ms  prob_precip_1h:p  t_apparent:C  \\\n",
       "0                 173.3                2.6               1.0           5.9   \n",
       "1                 174.5                2.7               1.0           5.7   \n",
       "2                 177.5                2.8               1.0           5.4   \n",
       "3                 175.3                2.7               1.0           5.3   \n",
       "4                 172.1                2.5               1.0           6.5   \n",
       "...                 ...                ...               ...           ...   \n",
       "1302835           278.2                1.7              16.0          16.3   \n",
       "1302836           264.7                1.4               9.2          15.4   \n",
       "1302837           278.4                0.5              43.9          16.9   \n",
       "1302838           242.1                0.7              58.5          16.1   \n",
       "1302839           275.4                0.5              39.8          16.2   \n",
       "\n",
       "                   name  \n",
       "0        Manisa-Ahmetli  \n",
       "1        Manisa-Ahmetli  \n",
       "2        Manisa-Ahmetli  \n",
       "3        Manisa-Ahmetli  \n",
       "4        Manisa-Ahmetli  \n",
       "...                 ...  \n",
       "1302835    Izmir-Odemis  \n",
       "1302836    Izmir-Odemis  \n",
       "1302837    Izmir-Odemis  \n",
       "1302838    Izmir-Odemis  \n",
       "1302839    Izmir-Odemis  \n",
       "\n",
       "[1302840 rows x 12 columns]"
      ]
     },
     "execution_count": 5,
     "metadata": {},
     "output_type": "execute_result"
    }
   ],
   "source": [
    "weather"
   ]
  },
  {
   "cell_type": "markdown",
   "id": "32cb6e1c",
   "metadata": {
    "papermill": {
     "duration": 0.024178,
     "end_time": "2024-05-08T16:55:44.504042",
     "exception": false,
     "start_time": "2024-05-08T16:55:44.479864",
     "status": "completed"
    },
    "tags": []
   },
   "source": [
    "### Yeni veri setinde mart ayındaki 10 günlük veri silinmiş.. Yani mart ayından bilgi yok. Farklı bir veri seti kullanacağız diyorlar ama bence öyle olmayacak"
   ]
  },
  {
   "cell_type": "code",
   "execution_count": 6,
   "id": "f94993b7",
   "metadata": {
    "execution": {
     "iopub.execute_input": "2024-05-08T16:55:44.556341Z",
     "iopub.status.busy": "2024-05-08T16:55:44.555526Z",
     "iopub.status.idle": "2024-05-08T16:55:45.046450Z",
     "shell.execute_reply": "2024-05-08T16:55:45.045252Z"
    },
    "papermill": {
     "duration": 0.520393,
     "end_time": "2024-05-08T16:55:45.049398",
     "exception": false,
     "start_time": "2024-05-08T16:55:44.529005",
     "status": "completed"
    },
    "tags": []
   },
   "outputs": [],
   "source": [
    "# Tarih sütununu datetime tipine dönüştürelim\n",
    "weather['date'] = pd.to_datetime(weather['date'])"
   ]
  },
  {
   "cell_type": "code",
   "execution_count": 7,
   "id": "96c4ae51",
   "metadata": {
    "execution": {
     "iopub.execute_input": "2024-05-08T16:55:45.104250Z",
     "iopub.status.busy": "2024-05-08T16:55:45.103838Z",
     "iopub.status.idle": "2024-05-08T16:55:45.450935Z",
     "shell.execute_reply": "2024-05-08T16:55:45.449678Z"
    },
    "papermill": {
     "duration": 0.378828,
     "end_time": "2024-05-08T16:55:45.453911",
     "exception": false,
     "start_time": "2024-05-08T16:55:45.075083",
     "status": "completed"
    },
    "tags": []
   },
   "outputs": [],
   "source": [
    "weather['name'] = weather['name'].str.lower()"
   ]
  },
  {
   "cell_type": "code",
   "execution_count": 8,
   "id": "cfc086de",
   "metadata": {
    "execution": {
     "iopub.execute_input": "2024-05-08T16:55:45.505227Z",
     "iopub.status.busy": "2024-05-08T16:55:45.504834Z",
     "iopub.status.idle": "2024-05-08T16:55:45.511293Z",
     "shell.execute_reply": "2024-05-08T16:55:45.509953Z"
    },
    "papermill": {
     "duration": 0.035403,
     "end_time": "2024-05-08T16:55:45.513936",
     "exception": false,
     "start_time": "2024-05-08T16:55:45.478533",
     "status": "completed"
    },
    "tags": []
   },
   "outputs": [],
   "source": [
    "weather.rename(columns={'name': 'ilce'}, inplace=True)"
   ]
  },
  {
   "cell_type": "markdown",
   "id": "8156656a",
   "metadata": {
    "papermill": {
     "duration": 0.024148,
     "end_time": "2024-05-08T16:55:45.562782",
     "exception": false,
     "start_time": "2024-05-08T16:55:45.538634",
     "status": "completed"
    },
    "tags": []
   },
   "source": [
    "# Weather'deki global_rad:W sütunu, bize gün ışığının olduğu saatleri verecek."
   ]
  },
  {
   "cell_type": "code",
   "execution_count": 9,
   "id": "a15d6421",
   "metadata": {
    "execution": {
     "iopub.execute_input": "2024-05-08T16:55:45.614478Z",
     "iopub.status.busy": "2024-05-08T16:55:45.614067Z",
     "iopub.status.idle": "2024-05-08T16:55:48.671282Z",
     "shell.execute_reply": "2024-05-08T16:55:48.669690Z"
    },
    "papermill": {
     "duration": 3.086128,
     "end_time": "2024-05-08T16:55:48.674083",
     "exception": false,
     "start_time": "2024-05-08T16:55:45.587955",
     "status": "completed"
    },
    "tags": []
   },
   "outputs": [],
   "source": [
    "# 'global_rad:W' sütununa göre gündüz ve gece gruplamalarını yapalım\n",
    "weather['gece'] = weather['global_rad:W'] == 0\n",
    "weather['gündüz'] = weather['global_rad:W'] != 0\n",
    "\n",
    "# Tarih ve ilçe sütunlarına göre gruplayıp, her bir grup için gündüz ve gece verilerinin ortalamasını alalım\n",
    "grouped = weather.groupby(['date', 'ilce', 'gece', 'gündüz'])\n",
    "gece_ortalama = grouped.mean().loc[(slice(None), slice(None), True, False), :].reset_index(level=[2, 3], drop=True).add_prefix('gece_')\n",
    "gündüz_ortalama = grouped.mean().loc[(slice(None), slice(None), False, True), :].reset_index(level=[2, 3], drop=True).add_prefix('gündüz_')\n",
    "\n",
    "# Her bir gün için sadeleştirilmiş veriyi elde edelim\n",
    "sadelesmis_df = pd.concat([gece_ortalama, gündüz_ortalama], axis=1).reset_index()"
   ]
  },
  {
   "cell_type": "code",
   "execution_count": 10,
   "id": "efd18059",
   "metadata": {
    "execution": {
     "iopub.execute_input": "2024-05-08T16:55:48.725748Z",
     "iopub.status.busy": "2024-05-08T16:55:48.725099Z",
     "iopub.status.idle": "2024-05-08T16:55:49.367989Z",
     "shell.execute_reply": "2024-05-08T16:55:49.366281Z"
    },
    "papermill": {
     "duration": 0.671934,
     "end_time": "2024-05-08T16:55:49.371111",
     "exception": false,
     "start_time": "2024-05-08T16:55:48.699177",
     "status": "completed"
    },
    "tags": []
   },
   "outputs": [],
   "source": [
    "sadelesmis_df = sadelesmis_df.groupby([pd.Grouper(key='date', freq='D'), 'ilce']).mean().reset_index()"
   ]
  },
  {
   "cell_type": "code",
   "execution_count": 11,
   "id": "daa4d670",
   "metadata": {
    "execution": {
     "iopub.execute_input": "2024-05-08T16:55:49.424739Z",
     "iopub.status.busy": "2024-05-08T16:55:49.424040Z",
     "iopub.status.idle": "2024-05-08T16:55:49.430881Z",
     "shell.execute_reply": "2024-05-08T16:55:49.429770Z"
    },
    "papermill": {
     "duration": 0.036548,
     "end_time": "2024-05-08T16:55:49.433086",
     "exception": false,
     "start_time": "2024-05-08T16:55:49.396538",
     "status": "completed"
    },
    "tags": []
   },
   "outputs": [
    {
     "data": {
      "text/plain": [
       "54285"
      ]
     },
     "execution_count": 11,
     "metadata": {},
     "output_type": "execute_result"
    }
   ],
   "source": [
    "len(sadelesmis_df)"
   ]
  },
  {
   "cell_type": "code",
   "execution_count": 12,
   "id": "fac13afe",
   "metadata": {
    "execution": {
     "iopub.execute_input": "2024-05-08T16:55:49.487315Z",
     "iopub.status.busy": "2024-05-08T16:55:49.486604Z",
     "iopub.status.idle": "2024-05-08T16:55:49.526437Z",
     "shell.execute_reply": "2024-05-08T16:55:49.524956Z"
    },
    "papermill": {
     "duration": 0.071899,
     "end_time": "2024-05-08T16:55:49.530548",
     "exception": false,
     "start_time": "2024-05-08T16:55:49.458649",
     "status": "completed"
    },
    "tags": []
   },
   "outputs": [
    {
     "data": {
      "text/html": [
       "<div>\n",
       "<style scoped>\n",
       "    .dataframe tbody tr th:only-of-type {\n",
       "        vertical-align: middle;\n",
       "    }\n",
       "\n",
       "    .dataframe tbody tr th {\n",
       "        vertical-align: top;\n",
       "    }\n",
       "\n",
       "    .dataframe thead th {\n",
       "        text-align: right;\n",
       "    }\n",
       "</style>\n",
       "<table border=\"1\" class=\"dataframe\">\n",
       "  <thead>\n",
       "    <tr style=\"text-align: right;\">\n",
       "      <th></th>\n",
       "      <th>date</th>\n",
       "      <th>ilce</th>\n",
       "      <th>gece_lat</th>\n",
       "      <th>gece_lon</th>\n",
       "      <th>gece_t_2m:C</th>\n",
       "      <th>gece_effective_cloud_cover:p</th>\n",
       "      <th>gece_global_rad:W</th>\n",
       "      <th>gece_relative_humidity_2m:p</th>\n",
       "      <th>gece_wind_dir_10m:d</th>\n",
       "      <th>gece_wind_speed_10m:ms</th>\n",
       "      <th>...</th>\n",
       "      <th>gündüz_lat</th>\n",
       "      <th>gündüz_lon</th>\n",
       "      <th>gündüz_t_2m:C</th>\n",
       "      <th>gündüz_effective_cloud_cover:p</th>\n",
       "      <th>gündüz_global_rad:W</th>\n",
       "      <th>gündüz_relative_humidity_2m:p</th>\n",
       "      <th>gündüz_wind_dir_10m:d</th>\n",
       "      <th>gündüz_wind_speed_10m:ms</th>\n",
       "      <th>gündüz_prob_precip_1h:p</th>\n",
       "      <th>gündüz_t_apparent:C</th>\n",
       "    </tr>\n",
       "  </thead>\n",
       "  <tbody>\n",
       "    <tr>\n",
       "      <th>31</th>\n",
       "      <td>2021-01-01</td>\n",
       "      <td>manisa-akhisar</td>\n",
       "      <td>38.9177</td>\n",
       "      <td>27.8366</td>\n",
       "      <td>9.886667</td>\n",
       "      <td>51.96</td>\n",
       "      <td>0.0</td>\n",
       "      <td>88.493333</td>\n",
       "      <td>104.1</td>\n",
       "      <td>1.413333</td>\n",
       "      <td>...</td>\n",
       "      <td>38.9177</td>\n",
       "      <td>27.8366</td>\n",
       "      <td>13.211111</td>\n",
       "      <td>55.377778</td>\n",
       "      <td>190.822222</td>\n",
       "      <td>82.866667</td>\n",
       "      <td>182.711111</td>\n",
       "      <td>1.2</td>\n",
       "      <td>1.0</td>\n",
       "      <td>15.5</td>\n",
       "    </tr>\n",
       "  </tbody>\n",
       "</table>\n",
       "<p>1 rows × 22 columns</p>\n",
       "</div>"
      ],
      "text/plain": [
       "         date            ilce  gece_lat  gece_lon  gece_t_2m:C  \\\n",
       "31 2021-01-01  manisa-akhisar   38.9177   27.8366     9.886667   \n",
       "\n",
       "    gece_effective_cloud_cover:p  gece_global_rad:W  \\\n",
       "31                         51.96                0.0   \n",
       "\n",
       "    gece_relative_humidity_2m:p  gece_wind_dir_10m:d  gece_wind_speed_10m:ms  \\\n",
       "31                    88.493333                104.1                1.413333   \n",
       "\n",
       "    ...  gündüz_lat  gündüz_lon  gündüz_t_2m:C  \\\n",
       "31  ...     38.9177     27.8366      13.211111   \n",
       "\n",
       "    gündüz_effective_cloud_cover:p  gündüz_global_rad:W  \\\n",
       "31                       55.377778           190.822222   \n",
       "\n",
       "    gündüz_relative_humidity_2m:p  gündüz_wind_dir_10m:d  \\\n",
       "31                      82.866667             182.711111   \n",
       "\n",
       "    gündüz_wind_speed_10m:ms  gündüz_prob_precip_1h:p  gündüz_t_apparent:C  \n",
       "31                       1.2                      1.0                 15.5  \n",
       "\n",
       "[1 rows x 22 columns]"
      ]
     },
     "execution_count": 12,
     "metadata": {},
     "output_type": "execute_result"
    }
   ],
   "source": [
    "sadelesmis_df[sadelesmis_df['ilce'] == \"manisa-akhisar\"].sort_values(by='date').head(1)"
   ]
  },
  {
   "cell_type": "code",
   "execution_count": 13,
   "id": "e2fc3da6",
   "metadata": {
    "execution": {
     "iopub.execute_input": "2024-05-08T16:55:49.582898Z",
     "iopub.status.busy": "2024-05-08T16:55:49.582495Z",
     "iopub.status.idle": "2024-05-08T16:55:49.599202Z",
     "shell.execute_reply": "2024-05-08T16:55:49.597872Z"
    },
    "papermill": {
     "duration": 0.046225,
     "end_time": "2024-05-08T16:55:49.601867",
     "exception": false,
     "start_time": "2024-05-08T16:55:49.555642",
     "status": "completed"
    },
    "tags": []
   },
   "outputs": [
    {
     "data": {
      "text/plain": [
       "date                              0\n",
       "ilce                              0\n",
       "gece_lat                          0\n",
       "gece_lon                          0\n",
       "gece_t_2m:C                       0\n",
       "gece_effective_cloud_cover:p      0\n",
       "gece_global_rad:W                 0\n",
       "gece_relative_humidity_2m:p       0\n",
       "gece_wind_dir_10m:d               0\n",
       "gece_wind_speed_10m:ms            0\n",
       "gece_prob_precip_1h:p             0\n",
       "gece_t_apparent:C                 0\n",
       "gündüz_lat                        0\n",
       "gündüz_lon                        0\n",
       "gündüz_t_2m:C                     0\n",
       "gündüz_effective_cloud_cover:p    0\n",
       "gündüz_global_rad:W               0\n",
       "gündüz_relative_humidity_2m:p     0\n",
       "gündüz_wind_dir_10m:d             0\n",
       "gündüz_wind_speed_10m:ms          0\n",
       "gündüz_prob_precip_1h:p           0\n",
       "gündüz_t_apparent:C               0\n",
       "dtype: int64"
      ]
     },
     "execution_count": 13,
     "metadata": {},
     "output_type": "execute_result"
    }
   ],
   "source": [
    "sadelesmis_df.isna().sum()"
   ]
  },
  {
   "cell_type": "markdown",
   "id": "a69ba03a",
   "metadata": {
    "papermill": {
     "duration": 0.025395,
     "end_time": "2024-05-08T16:55:49.653079",
     "exception": false,
     "start_time": "2024-05-08T16:55:49.627684",
     "status": "completed"
    },
    "tags": []
   },
   "source": [
    "# Tüm günleri ekleyelim. haftaiçi veya sonu olarak da ekleyelim."
   ]
  },
  {
   "cell_type": "code",
   "execution_count": 14,
   "id": "eda83448",
   "metadata": {
    "execution": {
     "iopub.execute_input": "2024-05-08T16:55:49.708084Z",
     "iopub.status.busy": "2024-05-08T16:55:49.707651Z",
     "iopub.status.idle": "2024-05-08T16:55:49.720426Z",
     "shell.execute_reply": "2024-05-08T16:55:49.718997Z"
    },
    "papermill": {
     "duration": 0.044159,
     "end_time": "2024-05-08T16:55:49.723340",
     "exception": false,
     "start_time": "2024-05-08T16:55:49.679181",
     "status": "completed"
    },
    "tags": []
   },
   "outputs": [],
   "source": [
    "# Hafta içi ve hafta sonu sütunlarını ekleyelim\n",
    "sadelesmis_df['hafta_ici'] = (sadelesmis_df['date'].dt.dayofweek < 5).astype(int)\n",
    "sadelesmis_df['hafta_sonu'] = (sadelesmis_df['date'].dt.dayofweek >= 5).astype(int)"
   ]
  },
  {
   "cell_type": "code",
   "execution_count": 15,
   "id": "d658fb0f",
   "metadata": {
    "execution": {
     "iopub.execute_input": "2024-05-08T16:55:49.776988Z",
     "iopub.status.busy": "2024-05-08T16:55:49.776494Z",
     "iopub.status.idle": "2024-05-08T16:55:52.918190Z",
     "shell.execute_reply": "2024-05-08T16:55:52.916920Z"
    },
    "papermill": {
     "duration": 3.171461,
     "end_time": "2024-05-08T16:55:52.920874",
     "exception": false,
     "start_time": "2024-05-08T16:55:49.749413",
     "status": "completed"
    },
    "tags": []
   },
   "outputs": [],
   "source": [
    "günler = ['Monday', 'Tuesday', 'Wednesday', 'Thursday', 'Friday', 'Saturday', 'Sunday']\n",
    "for gün in günler:\n",
    "    sadelesmis_df[gün] = (sadelesmis_df['date'].dt.strftime('%A') == gün).astype(int)"
   ]
  },
  {
   "cell_type": "code",
   "execution_count": 16,
   "id": "9607292a",
   "metadata": {
    "execution": {
     "iopub.execute_input": "2024-05-08T16:55:53.034791Z",
     "iopub.status.busy": "2024-05-08T16:55:53.033466Z",
     "iopub.status.idle": "2024-05-08T16:55:53.405225Z",
     "shell.execute_reply": "2024-05-08T16:55:53.403348Z"
    },
    "papermill": {
     "duration": 0.402063,
     "end_time": "2024-05-08T16:55:53.408699",
     "exception": false,
     "start_time": "2024-05-08T16:55:53.006636",
     "status": "completed"
    },
    "tags": []
   },
   "outputs": [
    {
     "name": "stderr",
     "output_type": "stream",
     "text": [
      "/tmp/ipykernel_18/947199136.py:12: FutureWarning: A value is trying to be set on a copy of a DataFrame or Series through chained assignment using an inplace method.\n",
      "The behavior will change in pandas 3.0. This inplace method will never work because the intermediate object on which we are setting values always behaves as a copy.\n",
      "\n",
      "For example, when doing 'df[col].method(value, inplace=True)', try using 'df.method({col: value}, inplace=True)' or df[col] = df[col].method(value) instead, to perform the operation inplace on the original object.\n",
      "\n",
      "\n",
      "  train['bildirimsiz_sum'].fillna(0, inplace=True)\n",
      "/tmp/ipykernel_18/947199136.py:13: FutureWarning: A value is trying to be set on a copy of a DataFrame or Series through chained assignment using an inplace method.\n",
      "The behavior will change in pandas 3.0. This inplace method will never work because the intermediate object on which we are setting values always behaves as a copy.\n",
      "\n",
      "For example, when doing 'df[col].method(value, inplace=True)', try using 'df.method({col: value}, inplace=True)' or df[col] = df[col].method(value) instead, to perform the operation inplace on the original object.\n",
      "\n",
      "\n",
      "  train['bildirimli_sum'].fillna(0, inplace=True)\n"
     ]
    }
   ],
   "source": [
    "# 'ilce' ve 'tarih' sütunlarını oluşturarak eksik satırları doldurmak için kullanacağımız bir DataFrame oluşturalım\n",
    "ilceler = train['ilce'].unique()\n",
    "tarihler = pd.date_range(start='2021-01-01', end='2024-02-29', freq='D')\n",
    "takvim = pd.DataFrame([(ilce, tarih) for ilce in ilceler for tarih in tarihler], columns=['ilce', 'tarih'])\n",
    "\n",
    "# 'takvim' DataFrame'ini 'train' DataFrame'ine ekleyelim ve eksik olan satırları dolduralım\n",
    "train['tarih'] = pd.to_datetime(train['tarih'])  # 'train' DataFrame'indeki 'tarih' sütununu datetime64[ns] veri türüne dönüştürme\n",
    "takvim['tarih'] = pd.to_datetime(takvim['tarih'])  # 'takvim' DataFrame'indeki 'tarih' sütununu datetime64[ns] veri türüne dönüştürme\n",
    "train = pd.merge(takvim, train, on=['ilce', 'tarih'], how='left')\n",
    "\n",
    "# Eksik olan satırları dolduralım\n",
    "train['bildirimsiz_sum'].fillna(0, inplace=True)\n",
    "train['bildirimli_sum'].fillna(0, inplace=True)"
   ]
  },
  {
   "cell_type": "code",
   "execution_count": 17,
   "id": "172d950a",
   "metadata": {
    "execution": {
     "iopub.execute_input": "2024-05-08T16:55:53.462413Z",
     "iopub.status.busy": "2024-05-08T16:55:53.461183Z",
     "iopub.status.idle": "2024-05-08T16:55:53.473520Z",
     "shell.execute_reply": "2024-05-08T16:55:53.472180Z"
    },
    "papermill": {
     "duration": 0.04226,
     "end_time": "2024-05-08T16:55:53.476463",
     "exception": false,
     "start_time": "2024-05-08T16:55:53.434203",
     "status": "completed"
    },
    "tags": []
   },
   "outputs": [],
   "source": [
    "sadelesmis_df = sadelesmis_df.rename(columns={'date': 'tarih'})"
   ]
  },
  {
   "cell_type": "code",
   "execution_count": 18,
   "id": "dc273e11",
   "metadata": {
    "execution": {
     "iopub.execute_input": "2024-05-08T16:55:53.530104Z",
     "iopub.status.busy": "2024-05-08T16:55:53.529674Z",
     "iopub.status.idle": "2024-05-08T16:55:53.563208Z",
     "shell.execute_reply": "2024-05-08T16:55:53.562269Z"
    },
    "papermill": {
     "duration": 0.063357,
     "end_time": "2024-05-08T16:55:53.565773",
     "exception": false,
     "start_time": "2024-05-08T16:55:53.502416",
     "status": "completed"
    },
    "tags": []
   },
   "outputs": [],
   "source": [
    "train['tarih'] = pd.to_datetime(train['tarih'])\n",
    "sadelesmis_df['tarih'] = pd.to_datetime(sadelesmis_df['tarih'])"
   ]
  },
  {
   "cell_type": "code",
   "execution_count": 19,
   "id": "9c4966d8",
   "metadata": {
    "execution": {
     "iopub.execute_input": "2024-05-08T16:55:53.621567Z",
     "iopub.status.busy": "2024-05-08T16:55:53.620245Z",
     "iopub.status.idle": "2024-05-08T16:55:53.626140Z",
     "shell.execute_reply": "2024-05-08T16:55:53.624976Z"
    },
    "papermill": {
     "duration": 0.036216,
     "end_time": "2024-05-08T16:55:53.628527",
     "exception": false,
     "start_time": "2024-05-08T16:55:53.592311",
     "status": "completed"
    },
    "tags": []
   },
   "outputs": [],
   "source": [
    "from warnings import simplefilter\n",
    "simplefilter(action=\"ignore\", category=pd.errors.PerformanceWarning)"
   ]
  },
  {
   "cell_type": "code",
   "execution_count": 20,
   "id": "8f2df1c4",
   "metadata": {
    "execution": {
     "iopub.execute_input": "2024-05-08T16:55:53.682657Z",
     "iopub.status.busy": "2024-05-08T16:55:53.682222Z",
     "iopub.status.idle": "2024-05-08T16:55:53.738302Z",
     "shell.execute_reply": "2024-05-08T16:55:53.737073Z"
    },
    "papermill": {
     "duration": 0.08716,
     "end_time": "2024-05-08T16:55:53.741201",
     "exception": false,
     "start_time": "2024-05-08T16:55:53.654041",
     "status": "completed"
    },
    "tags": []
   },
   "outputs": [],
   "source": [
    "merged_df = pd.merge(train, sadelesmis_df, on=['tarih','ilce'], how='left')"
   ]
  },
  {
   "cell_type": "code",
   "execution_count": 21,
   "id": "1b0ef830",
   "metadata": {
    "execution": {
     "iopub.execute_input": "2024-05-08T16:55:53.794586Z",
     "iopub.status.busy": "2024-05-08T16:55:53.794198Z",
     "iopub.status.idle": "2024-05-08T16:55:55.944087Z",
     "shell.execute_reply": "2024-05-08T16:55:55.942929Z"
    },
    "papermill": {
     "duration": 2.180082,
     "end_time": "2024-05-08T16:55:55.947162",
     "exception": false,
     "start_time": "2024-05-08T16:55:53.767080",
     "status": "completed"
    },
    "tags": []
   },
   "outputs": [],
   "source": [
    "# Her bir unique ilçe için işlem yapma\n",
    "for ilce in merged_df['ilce'].unique():\n",
    "    ilce_verileri = merged_df[merged_df['ilce'] == ilce].copy()  # ilgili ilçeye ait verileri seçme ve kopyalama\n",
    "    ilce_verileri['degisim'] = ilce_verileri['bildirimsiz_sum'].diff()  # Bildirimsiz sum sütununda değişimi hesaplama\n",
    "    ilce_verileri['oran'] = ilce_verileri['bildirimsiz_sum'].pct_change() * 100  # Değişim oranını yüzde olarak hesaplama\n",
    "    ilce_verileri['degisim_ilk_deger'] = ilce_verileri['bildirimsiz_sum'] - ilce_verileri['bildirimsiz_sum'].iloc[0]  # İlk değere göre değişimi hesaplama\n",
    "    merged_df.loc[merged_df['ilce'] == ilce, 'degisim'] = ilce_verileri['degisim']\n",
    "    merged_df.loc[merged_df['ilce'] == ilce, 'oran'] = ilce_verileri['oran']\n",
    "    merged_df.loc[merged_df['ilce'] == ilce, 'degisim_ilk_deger'] = ilce_verileri['degisim_ilk_deger']\n",
    "\n",
    "merged_df.fillna(0, inplace=True)"
   ]
  },
  {
   "cell_type": "code",
   "execution_count": 22,
   "id": "f33071db",
   "metadata": {
    "execution": {
     "iopub.execute_input": "2024-05-08T16:55:56.001550Z",
     "iopub.status.busy": "2024-05-08T16:55:56.001166Z",
     "iopub.status.idle": "2024-05-08T16:55:56.010026Z",
     "shell.execute_reply": "2024-05-08T16:55:56.008847Z"
    },
    "papermill": {
     "duration": 0.039715,
     "end_time": "2024-05-08T16:55:56.013035",
     "exception": false,
     "start_time": "2024-05-08T16:55:55.973320",
     "status": "completed"
    },
    "tags": []
   },
   "outputs": [
    {
     "name": "stderr",
     "output_type": "stream",
     "text": [
      "/tmp/ipykernel_18/1343230000.py:1: FutureWarning: A value is trying to be set on a copy of a DataFrame or Series through chained assignment using an inplace method.\n",
      "The behavior will change in pandas 3.0. This inplace method will never work because the intermediate object on which we are setting values always behaves as a copy.\n",
      "\n",
      "For example, when doing 'df[col].method(value, inplace=True)', try using 'df.method({col: value}, inplace=True)' or df[col] = df[col].method(value) instead, to perform the operation inplace on the original object.\n",
      "\n",
      "\n",
      "  merged_df['oran'].replace([float('inf'), -float('inf')], 0, inplace=True)\n"
     ]
    }
   ],
   "source": [
    "merged_df['oran'].replace([float('inf'), -float('inf')], 0, inplace=True)\n",
    "merged_df['oran'] = merged_df['oran'].astype(float).fillna(0).astype(int)"
   ]
  },
  {
   "cell_type": "code",
   "execution_count": 23,
   "id": "e5ff7a52",
   "metadata": {
    "execution": {
     "iopub.execute_input": "2024-05-08T16:55:56.066384Z",
     "iopub.status.busy": "2024-05-08T16:55:56.065971Z",
     "iopub.status.idle": "2024-05-08T16:55:56.078663Z",
     "shell.execute_reply": "2024-05-08T16:55:56.077557Z"
    },
    "papermill": {
     "duration": 0.042106,
     "end_time": "2024-05-08T16:55:56.081046",
     "exception": false,
     "start_time": "2024-05-08T16:55:56.038940",
     "status": "completed"
    },
    "tags": []
   },
   "outputs": [],
   "source": [
    "# Sütun adlarını değiştirme\n",
    "holidays.rename(columns={'Yıl': 'year', 'Ay': 'month', 'Gün': 'day'}, inplace=True)\n",
    "\n",
    "# Yıl, Ay ve Gün sütunlarını birleştirme\n",
    "holidays['tarih'] = pd.to_datetime(holidays[['year', 'month', 'day']])\n",
    "\n",
    "# Tarih sütunlarını birleştirmeye artık gerek yok, bu yüzden sütunları temizleme\n",
    "holidays.drop(['year', 'month', 'day'], axis=1, inplace=True)"
   ]
  },
  {
   "cell_type": "code",
   "execution_count": 24,
   "id": "5e58270e",
   "metadata": {
    "execution": {
     "iopub.execute_input": "2024-05-08T16:55:56.134251Z",
     "iopub.status.busy": "2024-05-08T16:55:56.133886Z",
     "iopub.status.idle": "2024-05-08T16:55:56.157655Z",
     "shell.execute_reply": "2024-05-08T16:55:56.156468Z"
    },
    "papermill": {
     "duration": 0.053927,
     "end_time": "2024-05-08T16:55:56.160491",
     "exception": false,
     "start_time": "2024-05-08T16:55:56.106564",
     "status": "completed"
    },
    "tags": []
   },
   "outputs": [],
   "source": [
    "merged_df['tarih'] = pd.to_datetime(merged_df['tarih'])\n",
    "holidays['tarih'] = pd.to_datetime(holidays['tarih'])\n",
    "\n",
    "# holidays veri çerçevesindeki tarihlerin merged_df içinde olup olmadığını kontrol etme\n",
    "merged_df['ozel_gun'] = merged_df['tarih'].isin(holidays['tarih']).astype(int)"
   ]
  },
  {
   "cell_type": "code",
   "execution_count": 25,
   "id": "2a29b572",
   "metadata": {
    "execution": {
     "iopub.execute_input": "2024-05-08T16:55:56.215132Z",
     "iopub.status.busy": "2024-05-08T16:55:56.214694Z",
     "iopub.status.idle": "2024-05-08T16:55:56.291866Z",
     "shell.execute_reply": "2024-05-08T16:55:56.290440Z"
    },
    "papermill": {
     "duration": 0.107743,
     "end_time": "2024-05-08T16:55:56.295138",
     "exception": false,
     "start_time": "2024-05-08T16:55:56.187395",
     "status": "completed"
    },
    "tags": []
   },
   "outputs": [],
   "source": [
    "izmir_ilceleri = merged_df[merged_df['ilce'].str.startswith('izmir')]\n",
    "manisa_ilceleri = merged_df[merged_df['ilce'].str.startswith('manisa')]\n",
    "\n",
    "izmir_gunluk = izmir_ilceleri.groupby('tarih').agg({'bildirimli_sum': 'sum', 'bildirimsiz_sum': 'sum'}).reset_index()\n",
    "manisa_gunluk = manisa_ilceleri.groupby('tarih').agg({'bildirimli_sum': 'sum', 'bildirimsiz_sum': 'sum'}).reset_index()"
   ]
  },
  {
   "cell_type": "code",
   "execution_count": 26,
   "id": "907b4e9d",
   "metadata": {
    "execution": {
     "iopub.execute_input": "2024-05-08T16:55:56.348499Z",
     "iopub.status.busy": "2024-05-08T16:55:56.348104Z",
     "iopub.status.idle": "2024-05-08T16:55:56.367984Z",
     "shell.execute_reply": "2024-05-08T16:55:56.366690Z"
    },
    "papermill": {
     "duration": 0.049972,
     "end_time": "2024-05-08T16:55:56.370871",
     "exception": false,
     "start_time": "2024-05-08T16:55:56.320899",
     "status": "completed"
    },
    "tags": []
   },
   "outputs": [],
   "source": [
    "# İzmir ve Manisa ilçelerindeki günlük toplam bildirimli ve bildirimsiz değerleri merged_df'e birleştirme\n",
    "merged_df['izmir_toplam_bildirimli'] = merged_df['tarih'].map(izmir_gunluk.set_index('tarih')['bildirimli_sum'])\n",
    "merged_df['izmir_toplam_bildirimsiz'] = merged_df['tarih'].map(izmir_gunluk.set_index('tarih')['bildirimsiz_sum'])\n",
    "merged_df['manisa_toplam_bildirimli'] = merged_df['tarih'].map(manisa_gunluk.set_index('tarih')['bildirimli_sum'])\n",
    "merged_df['manisa_toplam_bildirimsiz'] = merged_df['tarih'].map(manisa_gunluk.set_index('tarih')['bildirimsiz_sum'])"
   ]
  },
  {
   "cell_type": "code",
   "execution_count": 27,
   "id": "59ea87a8",
   "metadata": {
    "execution": {
     "iopub.execute_input": "2024-05-08T16:55:56.423804Z",
     "iopub.status.busy": "2024-05-08T16:55:56.423397Z",
     "iopub.status.idle": "2024-05-08T16:55:56.436931Z",
     "shell.execute_reply": "2024-05-08T16:55:56.435915Z"
    },
    "papermill": {
     "duration": 0.042775,
     "end_time": "2024-05-08T16:55:56.439462",
     "exception": false,
     "start_time": "2024-05-08T16:55:56.396687",
     "status": "completed"
    },
    "tags": []
   },
   "outputs": [],
   "source": [
    "# BUNU YAPMADAN EVVEL AYIRIYORUZ...\n",
    "\n",
    "\n",
    "# İstenen tarih aralığı\n",
    "start_date = '2023-01-01'\n",
    "end_date = '2024-01-03'\n",
    "\n",
    "test_start_date = '2024-01-04'\n",
    "test_end_date = '2024-01-31'\n",
    "\n",
    "# Tarih aralığına göre veri setini filtreleme\n",
    "test_merged = merged_df[(merged_df['tarih'] >= test_start_date) & (merged_df['tarih'] <= test_end_date)]\n",
    "merged_df = merged_df[(merged_df['tarih'] >= start_date) & (merged_df['tarih'] <= end_date)]"
   ]
  },
  {
   "cell_type": "code",
   "execution_count": 28,
   "id": "e0ceed84",
   "metadata": {
    "execution": {
     "iopub.execute_input": "2024-05-08T16:55:56.493217Z",
     "iopub.status.busy": "2024-05-08T16:55:56.492798Z",
     "iopub.status.idle": "2024-05-08T16:55:56.501739Z",
     "shell.execute_reply": "2024-05-08T16:55:56.500493Z"
    },
    "papermill": {
     "duration": 0.038251,
     "end_time": "2024-05-08T16:55:56.504135",
     "exception": false,
     "start_time": "2024-05-08T16:55:56.465884",
     "status": "completed"
    },
    "tags": []
   },
   "outputs": [
    {
     "data": {
      "text/plain": [
       "\"from sklearn.preprocessing import StandardScaler\\n\\n# Veri setinizden X değerlerini seçme\\nX = merged_df.drop(columns=['tarih', 'ilce', 'bildirimsiz_sum'])  # 'tarih', 'ilce' ve 'bildirimsiz_sum' dışındaki sütunlar X değerleridir\\n\\n# Standardizasyon işlemi için StandardScaler nesnesi oluşturma\\nscaler = StandardScaler()\\n\\n# X değerlerini standardize etme\\nX_standardized = scaler.fit_transform(X)\\n\\n# Sonuçları kullanma\\n# X_standardized artık standartize edilmiş X değerlerini içeren bir NumPy dizisidir\\nbuna gerek yok...\\n\""
      ]
     },
     "execution_count": 28,
     "metadata": {},
     "output_type": "execute_result"
    }
   ],
   "source": [
    "\"\"\"from sklearn.preprocessing import StandardScaler\n",
    "\n",
    "# Veri setinizden X değerlerini seçme\n",
    "X = merged_df.drop(columns=['tarih', 'ilce', 'bildirimsiz_sum'])  # 'tarih', 'ilce' ve 'bildirimsiz_sum' dışındaki sütunlar X değerleridir\n",
    "\n",
    "# Standardizasyon işlemi için StandardScaler nesnesi oluşturma\n",
    "scaler = StandardScaler()\n",
    "\n",
    "# X değerlerini standardize etme\n",
    "X_standardized = scaler.fit_transform(X)\n",
    "\n",
    "# Sonuçları kullanma\n",
    "# X_standardized artık standartize edilmiş X değerlerini içeren bir NumPy dizisidir\n",
    "buna gerek yok...\n",
    "\"\"\""
   ]
  },
  {
   "cell_type": "markdown",
   "id": "3cb71d90",
   "metadata": {
    "papermill": {
     "duration": 0.026105,
     "end_time": "2024-05-08T16:55:56.556474",
     "exception": false,
     "start_time": "2024-05-08T16:55:56.530369",
     "status": "completed"
    },
    "tags": []
   },
   "source": [
    "# Ortalamanın etrafına sıkıştırma kodu:"
   ]
  },
  {
   "cell_type": "code",
   "execution_count": 29,
   "id": "ac18a3e3",
   "metadata": {
    "execution": {
     "iopub.execute_input": "2024-05-08T16:55:56.610427Z",
     "iopub.status.busy": "2024-05-08T16:55:56.609493Z",
     "iopub.status.idle": "2024-05-08T16:55:56.618504Z",
     "shell.execute_reply": "2024-05-08T16:55:56.617378Z"
    },
    "papermill": {
     "duration": 0.038799,
     "end_time": "2024-05-08T16:55:56.621065",
     "exception": false,
     "start_time": "2024-05-08T16:55:56.582266",
     "status": "completed"
    },
    "tags": []
   },
   "outputs": [
    {
     "data": {
      "text/plain": [
       "'# Aykırı değerleri belirleme ve üst eşiğe eşitleme\\nthreshold_factor = 0.1  # Standart sapmanın kaç katı olacak\\noutliers_info = {}\\n\\nfor ilce in merged_df[\\'ilce\\'].unique():\\n    ilce_data = merged_df[merged_df[\\'ilce\\'] == ilce]\\n    ilce_mean = ilce_data[\\'bildirimsiz_sum\\'].mean()\\n    ilce_std = ilce_data[\\'bildirimsiz_sum\\'].std()\\n    outliers_upper = ilce_data[ilce_data[\\'bildirimsiz_sum\\'] > ilce_mean + threshold_factor * ilce_std]\\n    outliers_lower = ilce_data[ilce_data[\\'bildirimsiz_sum\\'] < ilce_mean - threshold_factor * ilce_std]\\n    outliers_count_upper = len(outliers_upper)\\n    outliers_count_lower = len(outliers_lower)\\n    outliers_info[ilce] = (outliers_count_upper, outliers_count_lower)\\n\\n    # Aykırı değerleri ilçenin ortalama değeri ile eşitleme\\n    merged_df.loc[outliers_upper.index, \\'bildirimsiz_sum\\'] = ilce_mean\\n    merged_df.loc[outliers_lower.index, \\'bildirimsiz_sum\\'] = ilce_mean\\n\\n# Her ilçede kaç adet aykırı değer tespit edildiğini yazdırma\\nprint(\"İlçe Aykırı Değer Bilgileri:\")\\nfor ilce, counts in outliers_info.items():\\n    print(f\"{ilce}: {counts[0]} adet üst, {counts[1]} adet alt aykırı değer tespit edildi.\")\\n'"
      ]
     },
     "execution_count": 29,
     "metadata": {},
     "output_type": "execute_result"
    }
   ],
   "source": [
    "\"\"\"# Aykırı değerleri belirleme ve üst eşiğe eşitleme\n",
    "threshold_factor = 0.1  # Standart sapmanın kaç katı olacak\n",
    "outliers_info = {}\n",
    "\n",
    "for ilce in merged_df['ilce'].unique():\n",
    "    ilce_data = merged_df[merged_df['ilce'] == ilce]\n",
    "    ilce_mean = ilce_data['bildirimsiz_sum'].mean()\n",
    "    ilce_std = ilce_data['bildirimsiz_sum'].std()\n",
    "    outliers_upper = ilce_data[ilce_data['bildirimsiz_sum'] > ilce_mean + threshold_factor * ilce_std]\n",
    "    outliers_lower = ilce_data[ilce_data['bildirimsiz_sum'] < ilce_mean - threshold_factor * ilce_std]\n",
    "    outliers_count_upper = len(outliers_upper)\n",
    "    outliers_count_lower = len(outliers_lower)\n",
    "    outliers_info[ilce] = (outliers_count_upper, outliers_count_lower)\n",
    "\n",
    "    # Aykırı değerleri ilçenin ortalama değeri ile eşitleme\n",
    "    merged_df.loc[outliers_upper.index, 'bildirimsiz_sum'] = ilce_mean\n",
    "    merged_df.loc[outliers_lower.index, 'bildirimsiz_sum'] = ilce_mean\n",
    "\n",
    "# Her ilçede kaç adet aykırı değer tespit edildiğini yazdırma\n",
    "print(\"İlçe Aykırı Değer Bilgileri:\")\n",
    "for ilce, counts in outliers_info.items():\n",
    "    print(f\"{ilce}: {counts[0]} adet üst, {counts[1]} adet alt aykırı değer tespit edildi.\")\n",
    "\"\"\""
   ]
  },
  {
   "cell_type": "code",
   "execution_count": 30,
   "id": "824899c4",
   "metadata": {
    "execution": {
     "iopub.execute_input": "2024-05-08T16:55:56.675387Z",
     "iopub.status.busy": "2024-05-08T16:55:56.674996Z",
     "iopub.status.idle": "2024-05-08T16:55:56.682813Z",
     "shell.execute_reply": "2024-05-08T16:55:56.681532Z"
    },
    "papermill": {
     "duration": 0.038296,
     "end_time": "2024-05-08T16:55:56.685267",
     "exception": false,
     "start_time": "2024-05-08T16:55:56.646971",
     "status": "completed"
    },
    "tags": []
   },
   "outputs": [
    {
     "data": {
      "text/plain": [
       "'# Aykırı değerleri belirleme ve üst eşiğe eşitleme\\nthreshold_factor = 0.1  # Standart sapmanın kaç katı olacak\\noutliers_info = {}\\n\\nfor ilce in merged_df[\\'ilce\\'].unique():\\n    ilce_data = merged_df[merged_df[\\'ilce\\'] == ilce]\\n    ilce_mean = ilce_data[\\'bildirimsiz_sum\\'].mean()\\n    outliers = ilce_data[ilce_data[\\'bildirimsiz_sum\\'] > ilce_mean]\\n    outliers_count = len(outliers)\\n    outliers_info[ilce] = outliers_count\\n\\n    # Aykırı değerleri ilçenin ortalama değeri ile eşitleme\\n    merged_df.loc[outliers.index, \\'bildirimsiz_sum\\'] = ilce_mean\\n\\n# Her ilçede kaç adet aykırı değer tespit edildiğini yazdırma\\nprint(\"İlçe Aykırı Değer Bilgileri:\")\\nfor ilce, count in outliers_info.items():\\n    print(f\"{ilce}: {count} adet aykırı değer tespit edildi.\")'"
      ]
     },
     "execution_count": 30,
     "metadata": {},
     "output_type": "execute_result"
    }
   ],
   "source": [
    "\"\"\"# Aykırı değerleri belirleme ve üst eşiğe eşitleme\n",
    "threshold_factor = 0.1  # Standart sapmanın kaç katı olacak\n",
    "outliers_info = {}\n",
    "\n",
    "for ilce in merged_df['ilce'].unique():\n",
    "    ilce_data = merged_df[merged_df['ilce'] == ilce]\n",
    "    ilce_mean = ilce_data['bildirimsiz_sum'].mean()\n",
    "    outliers = ilce_data[ilce_data['bildirimsiz_sum'] > ilce_mean]\n",
    "    outliers_count = len(outliers)\n",
    "    outliers_info[ilce] = outliers_count\n",
    "\n",
    "    # Aykırı değerleri ilçenin ortalama değeri ile eşitleme\n",
    "    merged_df.loc[outliers.index, 'bildirimsiz_sum'] = ilce_mean\n",
    "\n",
    "# Her ilçede kaç adet aykırı değer tespit edildiğini yazdırma\n",
    "print(\"İlçe Aykırı Değer Bilgileri:\")\n",
    "for ilce, count in outliers_info.items():\n",
    "    print(f\"{ilce}: {count} adet aykırı değer tespit edildi.\")\"\"\""
   ]
  },
  {
   "cell_type": "markdown",
   "id": "161f1404",
   "metadata": {
    "papermill": {
     "duration": 0.025824,
     "end_time": "2024-05-08T16:55:56.737982",
     "exception": false,
     "start_time": "2024-05-08T16:55:56.712158",
     "status": "completed"
    },
    "tags": []
   },
   "source": [
    "# MODEL = Elastic.net"
   ]
  },
  {
   "cell_type": "code",
   "execution_count": 31,
   "id": "d7fc227e",
   "metadata": {
    "execution": {
     "iopub.execute_input": "2024-05-08T16:55:56.791903Z",
     "iopub.status.busy": "2024-05-08T16:55:56.791478Z",
     "iopub.status.idle": "2024-05-08T16:55:58.244329Z",
     "shell.execute_reply": "2024-05-08T16:55:58.242697Z"
    },
    "papermill": {
     "duration": 1.484988,
     "end_time": "2024-05-08T16:55:58.249172",
     "exception": false,
     "start_time": "2024-05-08T16:55:56.764184",
     "status": "completed"
    },
    "tags": []
   },
   "outputs": [],
   "source": [
    "from sklearn.linear_model import ElasticNet\n",
    "from sklearn.preprocessing import StandardScaler\n",
    "\n",
    "# Tahmin edilecek tarih aralığı\n",
    "start_date = '2024-01-04'\n",
    "end_date = '2024-01-31'\n",
    "\n",
    "# Tahmin edilecek tarih aralığındaki verileri eğitim verisi olarak kullanma\n",
    "train_data = merged_df\n",
    "\n",
    "# Tahmin edilecek tarih aralığındaki verileri test verisi olarak kullanma\n",
    "test_data = test_merged\n",
    "\n",
    "# Tahminde bulunacak ilçelerin listesi\n",
    "ilceler = merged_df['ilce'].unique()\n",
    "\n",
    "# Tahminlerin ve gerçek değerlerin depolanacağı bir sözlük oluşturalım\n",
    "predictions = {}\n",
    "\n",
    "# StandardScaler nesnesi oluşturma ve eğitme\n",
    "scaler = StandardScaler()\n",
    "scaler.fit(train_data.drop(columns=['tarih', 'ilce', 'bildirimsiz_sum']))\n",
    "\n",
    "# Her bir ilçe için tahminde bulunma\n",
    "for ilce in ilceler:\n",
    "    ilce_train_data = train_data[train_data['ilce'] == ilce]\n",
    "    ilce_test_data = test_data[test_data['ilce'] == ilce]\n",
    "    \n",
    "    # Standartlaştırma işlemi\n",
    "    features_train_standardized = scaler.transform(ilce_train_data.drop(columns=['tarih', 'ilce', 'bildirimsiz_sum']))\n",
    "    features_test_standardized = scaler.transform(ilce_test_data.drop(columns=['tarih', 'ilce', 'bildirimsiz_sum']))\n",
    "    \n",
    "    # Hedef değişken\n",
    "    target = ilce_train_data['bildirimsiz_sum']\n",
    "    \n",
    "    # Modeli eğitme (ElasticNet regresyonu)\n",
    "    model = ElasticNet(alpha=0.1, l1_ratio=0.5)  # İstediğiniz alpha ve l1_ratio değerlerini belirtin\n",
    "    model.fit(features_train_standardized, target)\n",
    "    \n",
    "    # Tahminde bulunma\n",
    "    ilce_predictions = model.predict(features_test_standardized)\n",
    "    \n",
    "    # Tahminleri depolama\n",
    "    predictions[ilce] = ilce_predictions\n"
   ]
  },
  {
   "cell_type": "code",
   "execution_count": 32,
   "id": "5c1a81cd",
   "metadata": {
    "execution": {
     "iopub.execute_input": "2024-05-08T16:55:58.368245Z",
     "iopub.status.busy": "2024-05-08T16:55:58.367795Z",
     "iopub.status.idle": "2024-05-08T16:55:58.376793Z",
     "shell.execute_reply": "2024-05-08T16:55:58.375674Z"
    },
    "papermill": {
     "duration": 0.065021,
     "end_time": "2024-05-08T16:55:58.379513",
     "exception": false,
     "start_time": "2024-05-08T16:55:58.314492",
     "status": "completed"
    },
    "tags": []
   },
   "outputs": [
    {
     "data": {
      "text/plain": [
       "\"from sklearn.linear_model import ElasticNet\\n\\n# Tahmin edilecek tarih aralığı\\nstart_date = '2024-01-04'\\nend_date = '2024-01-31'\\n\\n# Tahmin edilecek tarih aralığındaki verileri eğitim verisi olarak kullanma\\ntrain_data = merged_df\\n\\n# Tahmin edilecek tarih aralığındaki verileri test verisi olarak kullanma\\ntest_data = test_merged\\n\\n# Tahminde bulunacak ilçelerin listesi\\nilceler = merged_df['ilce'].unique()\\n\\n# Tahminlerin ve gerçek değerlerin depolanacağı bir sözlük oluşturalım\\npredictions = {}\\n\\n# Her bir ilçe için tahminde bulunma\\nfor ilce in ilceler:\\n    ilce_train_data = train_data[train_data['ilce'] == ilce]\\n    ilce_test_data = test_data[test_data['ilce'] == ilce]\\n    \\n    # Tahminde kullanılacak özellikler (tüm sütunlar)\\n    features = ilce_train_data.drop(columns=['tarih', 'ilce', 'bildirimsiz_sum'])\\n    \\n    # Hedef değişken\\n    target = ilce_train_data['bildirimsiz_sum']\\n    \\n    # Modeli eğitme (ElasticNet regresyonu)\\n    model = ElasticNet(alpha=0.1, l1_ratio=0.1)  # İstediğiniz alpha ve l1_ratio değerlerini belirtin\\n    model.fit(features, target)\\n    \\n    # Tahminde bulunma\\n    ilce_predictions = model.predict(ilce_test_data.drop(columns=['tarih', 'ilce', 'bildirimsiz_sum']))\\n    \\n    # Tahminleri depolama\\n    predictions[ilce] = ilce_predictions\""
      ]
     },
     "execution_count": 32,
     "metadata": {},
     "output_type": "execute_result"
    }
   ],
   "source": [
    "\"\"\"from sklearn.linear_model import ElasticNet\n",
    "\n",
    "# Tahmin edilecek tarih aralığı\n",
    "start_date = '2024-01-04'\n",
    "end_date = '2024-01-31'\n",
    "\n",
    "# Tahmin edilecek tarih aralığındaki verileri eğitim verisi olarak kullanma\n",
    "train_data = merged_df\n",
    "\n",
    "# Tahmin edilecek tarih aralığındaki verileri test verisi olarak kullanma\n",
    "test_data = test_merged\n",
    "\n",
    "# Tahminde bulunacak ilçelerin listesi\n",
    "ilceler = merged_df['ilce'].unique()\n",
    "\n",
    "# Tahminlerin ve gerçek değerlerin depolanacağı bir sözlük oluşturalım\n",
    "predictions = {}\n",
    "\n",
    "# Her bir ilçe için tahminde bulunma\n",
    "for ilce in ilceler:\n",
    "    ilce_train_data = train_data[train_data['ilce'] == ilce]\n",
    "    ilce_test_data = test_data[test_data['ilce'] == ilce]\n",
    "    \n",
    "    # Tahminde kullanılacak özellikler (tüm sütunlar)\n",
    "    features = ilce_train_data.drop(columns=['tarih', 'ilce', 'bildirimsiz_sum'])\n",
    "    \n",
    "    # Hedef değişken\n",
    "    target = ilce_train_data['bildirimsiz_sum']\n",
    "    \n",
    "    # Modeli eğitme (ElasticNet regresyonu)\n",
    "    model = ElasticNet(alpha=0.1, l1_ratio=0.1)  # İstediğiniz alpha ve l1_ratio değerlerini belirtin\n",
    "    model.fit(features, target)\n",
    "    \n",
    "    # Tahminde bulunma\n",
    "    ilce_predictions = model.predict(ilce_test_data.drop(columns=['tarih', 'ilce', 'bildirimsiz_sum']))\n",
    "    \n",
    "    # Tahminleri depolama\n",
    "    predictions[ilce] = ilce_predictions\"\"\""
   ]
  },
  {
   "cell_type": "code",
   "execution_count": 33,
   "id": "b06b2a3b",
   "metadata": {
    "execution": {
     "iopub.execute_input": "2024-05-08T16:55:58.434419Z",
     "iopub.status.busy": "2024-05-08T16:55:58.433992Z",
     "iopub.status.idle": "2024-05-08T16:55:58.505781Z",
     "shell.execute_reply": "2024-05-08T16:55:58.504497Z"
    },
    "papermill": {
     "duration": 0.10253,
     "end_time": "2024-05-08T16:55:58.508283",
     "exception": false,
     "start_time": "2024-05-08T16:55:58.405753",
     "status": "completed"
    },
    "tags": []
   },
   "outputs": [
    {
     "name": "stdout",
     "output_type": "stream",
     "text": [
      "İlçe Bazlı MAE Skorları:\n",
      "izmir-aliaga: 0.7342781573154549\n",
      "izmir-bayindir: 0.33413954367671156\n",
      "izmir-bayrakli: 0.792450373446296\n",
      "izmir-bergama: 0.3875733738713784\n",
      "izmir-bornova: 0.2844806274757237\n",
      "izmir-buca: 0.3503828304113324\n",
      "izmir-cesme: 0.16299576738576124\n",
      "izmir-cigli: 0.33292005850463546\n",
      "izmir-dikili: 0.29562765597512347\n",
      "izmir-foca: 0.3973074299544327\n",
      "izmir-gaziemir: 0.45590263567290884\n",
      "izmir-guzelbahce: 0.6630670502264356\n",
      "izmir-karabaglar: 0.5855921612869979\n",
      "izmir-karaburun: 0.9338144322023008\n",
      "izmir-karsiyaka: 0.35049710169738674\n",
      "izmir-kemalpasa: 0.4843304903117676\n",
      "izmir-kinik: 0.6954962437073245\n",
      "izmir-kiraz: 0.444688928671835\n",
      "izmir-konak: 0.17949558538666613\n",
      "izmir-menderes: 0.43918424650136645\n",
      "izmir-menemen: 0.5211879652512625\n",
      "izmir-odemis: 0.294748879079035\n",
      "izmir-seferihisar: 0.6128428414732695\n",
      "izmir-tire: 0.2413552072487804\n",
      "izmir-torbali: 0.35626637878636735\n",
      "izmir-urla: 0.3146666601399963\n",
      "manisa-akhisar: 0.2957050958244629\n",
      "manisa-alasehir: 0.35655267996274087\n",
      "manisa-demirci: 0.5804339108653064\n",
      "manisa-golmarmara: 0.4403010666821038\n",
      "manisa-gordes: 0.3259043957251137\n",
      "manisa-kirkagac: 0.3587928728086286\n",
      "manisa-koprubasi: 0.4989663206314633\n",
      "manisa-salihli: 0.17890210241269908\n",
      "manisa-sarigol: 0.658326849148496\n",
      "manisa-saruhanli: 0.350812311397611\n",
      "manisa-sehzadeler: 0.523834264401395\n",
      "manisa-selendi: 0.4907857278401643\n",
      "manisa-soma: 0.6339312559279969\n",
      "manisa-turgutlu: 0.2869744057661947\n",
      "manisa-yunusemre: 0.4012432831612808\n",
      "izmir-balcova: 0.4378097735698322\n",
      "izmir-beydag: 0.5639991073858945\n",
      "izmir-narlidere: 0.6362374254050165\n",
      "izmir-selcuk: 0.4648335597901019\n",
      "manisa-kula: 0.6300180387512455\n",
      "manisa-ahmetli: 0.5958053997157824\n"
     ]
    }
   ],
   "source": [
    "from sklearn.metrics import mean_absolute_error\n",
    "\n",
    "# MAE skorlarını depolamak için bir sözlük oluşturalım\n",
    "mae_scores = {}\n",
    "\n",
    "# Her bir ilçe için MAE skorunu hesaplayalım\n",
    "for ilce, ilce_predictions in predictions.items():\n",
    "    true_values = test_data[test_data['ilce'] == ilce]['bildirimsiz_sum'].values\n",
    "    mae = mean_absolute_error(true_values, ilce_predictions)\n",
    "    mae_scores[ilce] = mae\n",
    "\n",
    "# Her ilçenin MAE skorunu yazdıralım\n",
    "print(\"İlçe Bazlı MAE Skorları:\")\n",
    "for ilce, mae in mae_scores.items():\n",
    "    print(f\"{ilce}: {mae}\")"
   ]
  },
  {
   "cell_type": "code",
   "execution_count": 34,
   "id": "877a7d36",
   "metadata": {
    "execution": {
     "iopub.execute_input": "2024-05-08T16:55:58.564853Z",
     "iopub.status.busy": "2024-05-08T16:55:58.563967Z",
     "iopub.status.idle": "2024-05-08T16:55:58.571189Z",
     "shell.execute_reply": "2024-05-08T16:55:58.569695Z"
    },
    "papermill": {
     "duration": 0.037807,
     "end_time": "2024-05-08T16:55:58.573819",
     "exception": false,
     "start_time": "2024-05-08T16:55:58.536012",
     "status": "completed"
    },
    "tags": []
   },
   "outputs": [
    {
     "name": "stdout",
     "output_type": "stream",
     "text": [
      "Tüm İlçelerin Ortalama MAE Skoru: 0.45437154197519336\n"
     ]
    }
   ],
   "source": [
    "# Tüm MAE skorlarının ortalamasını hesaplayalım\n",
    "overall_mae = sum(mae_scores.values()) / len(mae_scores)\n",
    "\n",
    "# Ortalama MAE skorunu yazdıralım\n",
    "print(\"Tüm İlçelerin Ortalama MAE Skoru:\", overall_mae)"
   ]
  },
  {
   "cell_type": "code",
   "execution_count": 35,
   "id": "2769ada0",
   "metadata": {
    "execution": {
     "iopub.execute_input": "2024-05-08T16:55:58.629184Z",
     "iopub.status.busy": "2024-05-08T16:55:58.628788Z",
     "iopub.status.idle": "2024-05-08T16:55:58.634275Z",
     "shell.execute_reply": "2024-05-08T16:55:58.632957Z"
    },
    "papermill": {
     "duration": 0.036472,
     "end_time": "2024-05-08T16:55:58.637046",
     "exception": false,
     "start_time": "2024-05-08T16:55:58.600574",
     "status": "completed"
    },
    "tags": []
   },
   "outputs": [
    {
     "name": "stdout",
     "output_type": "stream",
     "text": [
      "0.01-0.01 ikisi:  0.6536862632354179\n"
     ]
    }
   ],
   "source": [
    "print(\"0.01-0.01 ikisi: \", 0.6536862632354179)"
   ]
  },
  {
   "cell_type": "markdown",
   "id": "9bb0bc6a",
   "metadata": {
    "papermill": {
     "duration": 0.026376,
     "end_time": "2024-05-08T16:55:58.690068",
     "exception": false,
     "start_time": "2024-05-08T16:55:58.663692",
     "status": "completed"
    },
    "tags": []
   },
   "source": [
    "#### rmse"
   ]
  },
  {
   "cell_type": "code",
   "execution_count": 36,
   "id": "78b51a1d",
   "metadata": {
    "execution": {
     "iopub.execute_input": "2024-05-08T16:55:58.746170Z",
     "iopub.status.busy": "2024-05-08T16:55:58.745813Z",
     "iopub.status.idle": "2024-05-08T16:55:58.780160Z",
     "shell.execute_reply": "2024-05-08T16:55:58.779011Z"
    },
    "papermill": {
     "duration": 0.066214,
     "end_time": "2024-05-08T16:55:58.783204",
     "exception": false,
     "start_time": "2024-05-08T16:55:58.716990",
     "status": "completed"
    },
    "tags": []
   },
   "outputs": [
    {
     "name": "stdout",
     "output_type": "stream",
     "text": [
      "izmir-aliaga: RMSE = 0.9383779597440948\n",
      "izmir-balcova: RMSE = 0.5849070122875636\n",
      "izmir-bayindir: RMSE = 0.4715190784075809\n",
      "izmir-bayrakli: RMSE = 1.1687650897556545\n",
      "izmir-bergama: RMSE = 0.5765937821329224\n",
      "izmir-beydag: RMSE = 0.940423802724218\n",
      "izmir-bornova: RMSE = 0.3839459729904814\n",
      "izmir-buca: RMSE = 0.42665716055205194\n",
      "izmir-cesme: RMSE = 0.20860624892680224\n",
      "izmir-cigli: RMSE = 0.4214619157232861\n",
      "izmir-dikili: RMSE = 0.4367672138047879\n",
      "izmir-foca: RMSE = 0.516040440936699\n",
      "izmir-gaziemir: RMSE = 0.5839444016223643\n",
      "izmir-guzelbahce: RMSE = 0.877567551207319\n",
      "izmir-karabaglar: RMSE = 0.7128261779661937\n",
      "izmir-karaburun: RMSE = 1.114049221780601\n",
      "izmir-karsiyaka: RMSE = 0.4546665387762321\n",
      "izmir-kemalpasa: RMSE = 0.6079138157407135\n",
      "izmir-kinik: RMSE = 1.0545264263552772\n",
      "izmir-kiraz: RMSE = 0.6924919539253819\n",
      "izmir-konak: RMSE = 0.21929325579360007\n",
      "izmir-menderes: RMSE = 0.501215403159864\n",
      "izmir-menemen: RMSE = 0.7893352811835207\n",
      "izmir-narlidere: RMSE = 0.8970278277461721\n",
      "izmir-odemis: RMSE = 0.3575225721181239\n",
      "izmir-seferihisar: RMSE = 0.7400890247854218\n",
      "izmir-selcuk: RMSE = 0.5221929338704768\n",
      "izmir-tire: RMSE = 0.31100520689904976\n",
      "izmir-torbali: RMSE = 0.4492764816269526\n",
      "izmir-urla: RMSE = 0.4122537614042328\n",
      "manisa-ahmetli: RMSE = 0.708062213373321\n",
      "manisa-akhisar: RMSE = 0.3650970630452948\n",
      "manisa-alasehir: RMSE = 0.5128650496049276\n",
      "manisa-demirci: RMSE = 0.6859333951273976\n",
      "manisa-golmarmara: RMSE = 0.49940331333508214\n",
      "manisa-gordes: RMSE = 0.4364561596371757\n",
      "manisa-kirkagac: RMSE = 0.43765499920984585\n",
      "manisa-koprubasi: RMSE = 0.619951036247375\n",
      "manisa-kula: RMSE = 0.812206290147178\n",
      "manisa-salihli: RMSE = 0.2548610556626391\n",
      "manisa-sarigol: RMSE = 0.9439673862493156\n",
      "manisa-saruhanli: RMSE = 0.4210041790668609\n",
      "manisa-sehzadeler: RMSE = 0.650816050699673\n",
      "manisa-selendi: RMSE = 0.7136827542596842\n",
      "manisa-soma: RMSE = 0.9615504645133948\n",
      "manisa-turgutlu: RMSE = 0.3709439625491771\n",
      "manisa-yunusemre: RMSE = 0.5092258167543208\n"
     ]
    }
   ],
   "source": [
    "from sklearn.metrics import mean_squared_error\n",
    "\n",
    "ilce_rmse = {}\n",
    "for ilce, ilce_test_data in test_data.groupby('ilce'):\n",
    "    true_values = ilce_test_data['bildirimsiz_sum']\n",
    "    \n",
    "    predicted_values = predictions[ilce]\n",
    "    \n",
    "    rmse = np.sqrt(mean_squared_error(true_values, predicted_values))\n",
    "    \n",
    "    ilce_rmse[ilce] = rmse\n",
    "\n",
    "for ilce, rmse in ilce_rmse.items():\n",
    "    print(f\"{ilce}: RMSE = {rmse}\")"
   ]
  },
  {
   "cell_type": "code",
   "execution_count": 37,
   "id": "d2a52e0f",
   "metadata": {
    "execution": {
     "iopub.execute_input": "2024-05-08T16:55:58.840260Z",
     "iopub.status.busy": "2024-05-08T16:55:58.839524Z",
     "iopub.status.idle": "2024-05-08T16:55:58.844967Z",
     "shell.execute_reply": "2024-05-08T16:55:58.844083Z"
    },
    "papermill": {
     "duration": 0.036719,
     "end_time": "2024-05-08T16:55:58.847258",
     "exception": false,
     "start_time": "2024-05-08T16:55:58.810539",
     "status": "completed"
    },
    "tags": []
   },
   "outputs": [
    {
     "name": "stdout",
     "output_type": "stream",
     "text": [
      "Tüm ilçelerin Ortalama RMSE değeri: 0.6015945681580915\n"
     ]
    }
   ],
   "source": [
    "# Tüm ilçelerin RMSE değerlerinin ortalamasını hesapla\n",
    "mean_rmse = np.mean(list(ilce_rmse.values()))\n",
    "\n",
    "# Ortalama RMSE değerini yazdır\n",
    "print(\"Tüm ilçelerin Ortalama RMSE değeri:\", mean_rmse)"
   ]
  },
  {
   "cell_type": "code",
   "execution_count": 38,
   "id": "21d9dfa7",
   "metadata": {
    "execution": {
     "iopub.execute_input": "2024-05-08T16:55:58.903401Z",
     "iopub.status.busy": "2024-05-08T16:55:58.902774Z",
     "iopub.status.idle": "2024-05-08T16:55:58.907895Z",
     "shell.execute_reply": "2024-05-08T16:55:58.906803Z"
    },
    "papermill": {
     "duration": 0.036159,
     "end_time": "2024-05-08T16:55:58.910365",
     "exception": false,
     "start_time": "2024-05-08T16:55:58.874206",
     "status": "completed"
    },
    "tags": []
   },
   "outputs": [
    {
     "name": "stdout",
     "output_type": "stream",
     "text": [
      "0.01-0.01 ikisi:  0.865188921845218\n"
     ]
    }
   ],
   "source": [
    "print(\"0.01-0.01 ikisi: \", 0.865188921845218)"
   ]
  },
  {
   "cell_type": "markdown",
   "id": "2563b5af",
   "metadata": {
    "papermill": {
     "duration": 0.027326,
     "end_time": "2024-05-08T16:55:58.965225",
     "exception": false,
     "start_time": "2024-05-08T16:55:58.937899",
     "status": "completed"
    },
    "tags": []
   },
   "source": [
    "# Submission"
   ]
  },
  {
   "cell_type": "code",
   "execution_count": 39,
   "id": "9620f9bb",
   "metadata": {
    "execution": {
     "iopub.execute_input": "2024-05-08T16:55:59.021359Z",
     "iopub.status.busy": "2024-05-08T16:55:59.020959Z",
     "iopub.status.idle": "2024-05-08T16:56:01.885546Z",
     "shell.execute_reply": "2024-05-08T16:56:01.884309Z"
    },
    "papermill": {
     "duration": 2.896203,
     "end_time": "2024-05-08T16:56:01.888569",
     "exception": false,
     "start_time": "2024-05-08T16:55:58.992366",
     "status": "completed"
    },
    "tags": []
   },
   "outputs": [],
   "source": [
    "holidays = pd.read_csv(\"/kaggle/input/gdz-elektrik-datathon-2024/holidays.csv\")\n",
    "sub = pd.read_csv(\"/kaggle/input/gdz-elektrik-datathon-2024/sample_submission.csv\")\n",
    "test = pd.read_csv(\"/kaggle/input/gdz-elektrik-datathon-2024/test.csv\")\n",
    "train = pd.read_csv(\"/kaggle/input/gdz-elektrik-datathon-2024/train.csv\")\n",
    "weather = pd.read_csv(\"/kaggle/input/gdz-elektrik-datathon-2024/weather.csv\")"
   ]
  },
  {
   "cell_type": "code",
   "execution_count": 40,
   "id": "42ce5a3e",
   "metadata": {
    "execution": {
     "iopub.execute_input": "2024-05-08T16:56:01.944798Z",
     "iopub.status.busy": "2024-05-08T16:56:01.944381Z",
     "iopub.status.idle": "2024-05-08T16:56:02.426571Z",
     "shell.execute_reply": "2024-05-08T16:56:02.425300Z"
    },
    "papermill": {
     "duration": 0.513707,
     "end_time": "2024-05-08T16:56:02.429543",
     "exception": false,
     "start_time": "2024-05-08T16:56:01.915836",
     "status": "completed"
    },
    "tags": []
   },
   "outputs": [],
   "source": [
    "weather['date'] = pd.to_datetime(weather['date'])"
   ]
  },
  {
   "cell_type": "code",
   "execution_count": 41,
   "id": "dc1cdfcd",
   "metadata": {
    "execution": {
     "iopub.execute_input": "2024-05-08T16:56:02.486340Z",
     "iopub.status.busy": "2024-05-08T16:56:02.485940Z",
     "iopub.status.idle": "2024-05-08T16:56:02.831049Z",
     "shell.execute_reply": "2024-05-08T16:56:02.829894Z"
    },
    "papermill": {
     "duration": 0.377075,
     "end_time": "2024-05-08T16:56:02.833940",
     "exception": false,
     "start_time": "2024-05-08T16:56:02.456865",
     "status": "completed"
    },
    "tags": []
   },
   "outputs": [],
   "source": [
    "weather['name'] = weather['name'].str.lower()"
   ]
  },
  {
   "cell_type": "code",
   "execution_count": 42,
   "id": "052f1578",
   "metadata": {
    "execution": {
     "iopub.execute_input": "2024-05-08T16:56:02.889333Z",
     "iopub.status.busy": "2024-05-08T16:56:02.888966Z",
     "iopub.status.idle": "2024-05-08T16:56:02.894793Z",
     "shell.execute_reply": "2024-05-08T16:56:02.893520Z"
    },
    "papermill": {
     "duration": 0.036545,
     "end_time": "2024-05-08T16:56:02.897244",
     "exception": false,
     "start_time": "2024-05-08T16:56:02.860699",
     "status": "completed"
    },
    "tags": []
   },
   "outputs": [],
   "source": [
    "weather.rename(columns={'name': 'ilce'}, inplace=True)"
   ]
  },
  {
   "cell_type": "code",
   "execution_count": 43,
   "id": "f5696030",
   "metadata": {
    "execution": {
     "iopub.execute_input": "2024-05-08T16:56:02.953468Z",
     "iopub.status.busy": "2024-05-08T16:56:02.953078Z",
     "iopub.status.idle": "2024-05-08T16:56:05.681731Z",
     "shell.execute_reply": "2024-05-08T16:56:05.680290Z"
    },
    "papermill": {
     "duration": 2.760615,
     "end_time": "2024-05-08T16:56:05.684631",
     "exception": false,
     "start_time": "2024-05-08T16:56:02.924016",
     "status": "completed"
    },
    "tags": []
   },
   "outputs": [],
   "source": [
    "# 'global_rad:W' sütununa göre gündüz ve gece gruplamalarını yapalım\n",
    "weather['gece'] = weather['global_rad:W'] == 0\n",
    "weather['gündüz'] = weather['global_rad:W'] != 0\n",
    "\n",
    "# Tarih ve ilçe sütunlarına göre gruplayıp, her bir grup için gündüz ve gece verilerinin ortalamasını alalım\n",
    "grouped = weather.groupby(['date', 'ilce', 'gece', 'gündüz'])\n",
    "gece_ortalama = grouped.mean().loc[(slice(None), slice(None), True, False), :].reset_index(level=[2, 3], drop=True).add_prefix('gece_')\n",
    "gündüz_ortalama = grouped.mean().loc[(slice(None), slice(None), False, True), :].reset_index(level=[2, 3], drop=True).add_prefix('gündüz_')\n",
    "\n",
    "# Her bir gün için sadeleştirilmiş veriyi elde edelim\n",
    "sadelesmis_df = pd.concat([gece_ortalama, gündüz_ortalama], axis=1).reset_index()"
   ]
  },
  {
   "cell_type": "code",
   "execution_count": 44,
   "id": "d61d1aed",
   "metadata": {
    "execution": {
     "iopub.execute_input": "2024-05-08T16:56:05.742262Z",
     "iopub.status.busy": "2024-05-08T16:56:05.741789Z",
     "iopub.status.idle": "2024-05-08T16:56:06.378824Z",
     "shell.execute_reply": "2024-05-08T16:56:06.377459Z"
    },
    "papermill": {
     "duration": 0.668929,
     "end_time": "2024-05-08T16:56:06.381694",
     "exception": false,
     "start_time": "2024-05-08T16:56:05.712765",
     "status": "completed"
    },
    "tags": []
   },
   "outputs": [],
   "source": [
    "sadelesmis_df = sadelesmis_df.groupby([pd.Grouper(key='date', freq='D'), 'ilce']).mean().reset_index()"
   ]
  },
  {
   "cell_type": "code",
   "execution_count": 45,
   "id": "f7f14ca4",
   "metadata": {
    "execution": {
     "iopub.execute_input": "2024-05-08T16:56:06.437480Z",
     "iopub.status.busy": "2024-05-08T16:56:06.437072Z",
     "iopub.status.idle": "2024-05-08T16:56:06.448770Z",
     "shell.execute_reply": "2024-05-08T16:56:06.447568Z"
    },
    "papermill": {
     "duration": 0.042726,
     "end_time": "2024-05-08T16:56:06.451644",
     "exception": false,
     "start_time": "2024-05-08T16:56:06.408918",
     "status": "completed"
    },
    "tags": []
   },
   "outputs": [],
   "source": [
    "sadelesmis_df['hafta_ici'] = (sadelesmis_df['date'].dt.dayofweek < 5).astype(int)\n",
    "sadelesmis_df['hafta_sonu'] = (sadelesmis_df['date'].dt.dayofweek >= 5).astype(int)"
   ]
  },
  {
   "cell_type": "code",
   "execution_count": 46,
   "id": "66792e19",
   "metadata": {
    "execution": {
     "iopub.execute_input": "2024-05-08T16:56:06.507579Z",
     "iopub.status.busy": "2024-05-08T16:56:06.507185Z",
     "iopub.status.idle": "2024-05-08T16:56:09.696449Z",
     "shell.execute_reply": "2024-05-08T16:56:09.695429Z"
    },
    "papermill": {
     "duration": 3.220199,
     "end_time": "2024-05-08T16:56:09.699118",
     "exception": false,
     "start_time": "2024-05-08T16:56:06.478919",
     "status": "completed"
    },
    "tags": []
   },
   "outputs": [],
   "source": [
    "günler = ['Monday', 'Tuesday', 'Wednesday', 'Thursday', 'Friday', 'Saturday', 'Sunday']\n",
    "for gün in günler:\n",
    "    sadelesmis_df[gün] = (sadelesmis_df['date'].dt.strftime('%A') == gün).astype(int)"
   ]
  },
  {
   "cell_type": "code",
   "execution_count": 47,
   "id": "596e2953",
   "metadata": {
    "execution": {
     "iopub.execute_input": "2024-05-08T16:56:09.756242Z",
     "iopub.status.busy": "2024-05-08T16:56:09.755443Z",
     "iopub.status.idle": "2024-05-08T16:56:10.199402Z",
     "shell.execute_reply": "2024-05-08T16:56:10.198212Z"
    },
    "papermill": {
     "duration": 0.475307,
     "end_time": "2024-05-08T16:56:10.202155",
     "exception": false,
     "start_time": "2024-05-08T16:56:09.726848",
     "status": "completed"
    },
    "tags": []
   },
   "outputs": [
    {
     "name": "stderr",
     "output_type": "stream",
     "text": [
      "/tmp/ipykernel_18/2317103827.py:11: FutureWarning: A value is trying to be set on a copy of a DataFrame or Series through chained assignment using an inplace method.\n",
      "The behavior will change in pandas 3.0. This inplace method will never work because the intermediate object on which we are setting values always behaves as a copy.\n",
      "\n",
      "For example, when doing 'df[col].method(value, inplace=True)', try using 'df.method({col: value}, inplace=True)' or df[col] = df[col].method(value) instead, to perform the operation inplace on the original object.\n",
      "\n",
      "\n",
      "  train['bildirimsiz_sum'].fillna(0, inplace=True)\n",
      "/tmp/ipykernel_18/2317103827.py:12: FutureWarning: A value is trying to be set on a copy of a DataFrame or Series through chained assignment using an inplace method.\n",
      "The behavior will change in pandas 3.0. This inplace method will never work because the intermediate object on which we are setting values always behaves as a copy.\n",
      "\n",
      "For example, when doing 'df[col].method(value, inplace=True)', try using 'df.method({col: value}, inplace=True)' or df[col] = df[col].method(value) instead, to perform the operation inplace on the original object.\n",
      "\n",
      "\n",
      "  train['bildirimli_sum'].fillna(0, inplace=True)\n"
     ]
    }
   ],
   "source": [
    "ilceler = train['ilce'].unique()\n",
    "tarihler = pd.date_range(start='2021-01-01', end='2024-02-29', freq='D')\n",
    "takvim = pd.DataFrame([(ilce, tarih) for ilce in ilceler for tarih in tarihler], columns=['ilce', 'tarih'])\n",
    "\n",
    "# 'takvim' DataFrame'ini 'train' DataFrame'ine ekleyelim ve eksik olan satırları dolduralım\n",
    "train['tarih'] = pd.to_datetime(train['tarih'])  # 'train' DataFrame'indeki 'tarih' sütununu datetime64[ns] veri türüne dönüştürme\n",
    "takvim['tarih'] = pd.to_datetime(takvim['tarih'])  # 'takvim' DataFrame'indeki 'tarih' sütununu datetime64[ns] veri türüne dönüştürme\n",
    "train = pd.merge(takvim, train, on=['ilce', 'tarih'], how='left')\n",
    "\n",
    "# Eksik olan satırları dolduralım\n",
    "train['bildirimsiz_sum'].fillna(0, inplace=True)\n",
    "train['bildirimli_sum'].fillna(0, inplace=True)"
   ]
  },
  {
   "cell_type": "code",
   "execution_count": 48,
   "id": "5a92f04c",
   "metadata": {
    "execution": {
     "iopub.execute_input": "2024-05-08T16:56:10.258308Z",
     "iopub.status.busy": "2024-05-08T16:56:10.257868Z",
     "iopub.status.idle": "2024-05-08T16:56:10.268984Z",
     "shell.execute_reply": "2024-05-08T16:56:10.267731Z"
    },
    "papermill": {
     "duration": 0.042603,
     "end_time": "2024-05-08T16:56:10.271842",
     "exception": false,
     "start_time": "2024-05-08T16:56:10.229239",
     "status": "completed"
    },
    "tags": []
   },
   "outputs": [],
   "source": [
    "sadelesmis_df = sadelesmis_df.rename(columns={'date': 'tarih'})"
   ]
  },
  {
   "cell_type": "code",
   "execution_count": 49,
   "id": "68fb28fa",
   "metadata": {
    "execution": {
     "iopub.execute_input": "2024-05-08T16:56:10.329774Z",
     "iopub.status.busy": "2024-05-08T16:56:10.329117Z",
     "iopub.status.idle": "2024-05-08T16:56:10.363465Z",
     "shell.execute_reply": "2024-05-08T16:56:10.362151Z"
    },
    "papermill": {
     "duration": 0.066652,
     "end_time": "2024-05-08T16:56:10.366398",
     "exception": false,
     "start_time": "2024-05-08T16:56:10.299746",
     "status": "completed"
    },
    "tags": []
   },
   "outputs": [],
   "source": [
    "train['tarih'] = pd.to_datetime(train['tarih'])\n",
    "sadelesmis_df['tarih'] = pd.to_datetime(sadelesmis_df['tarih'])"
   ]
  },
  {
   "cell_type": "code",
   "execution_count": 50,
   "id": "bfec21f9",
   "metadata": {
    "execution": {
     "iopub.execute_input": "2024-05-08T16:56:10.422179Z",
     "iopub.status.busy": "2024-05-08T16:56:10.421810Z",
     "iopub.status.idle": "2024-05-08T16:56:10.470964Z",
     "shell.execute_reply": "2024-05-08T16:56:10.469719Z"
    },
    "papermill": {
     "duration": 0.080469,
     "end_time": "2024-05-08T16:56:10.473858",
     "exception": false,
     "start_time": "2024-05-08T16:56:10.393389",
     "status": "completed"
    },
    "tags": []
   },
   "outputs": [],
   "source": [
    "merged_df = pd.merge(train, sadelesmis_df, on=['tarih','ilce'], how='left')"
   ]
  },
  {
   "cell_type": "code",
   "execution_count": 51,
   "id": "72886d62",
   "metadata": {
    "execution": {
     "iopub.execute_input": "2024-05-08T16:56:10.529792Z",
     "iopub.status.busy": "2024-05-08T16:56:10.529379Z",
     "iopub.status.idle": "2024-05-08T16:56:12.663557Z",
     "shell.execute_reply": "2024-05-08T16:56:12.662394Z"
    },
    "papermill": {
     "duration": 2.165564,
     "end_time": "2024-05-08T16:56:12.666505",
     "exception": false,
     "start_time": "2024-05-08T16:56:10.500941",
     "status": "completed"
    },
    "tags": []
   },
   "outputs": [],
   "source": [
    "# Her bir unique ilçe için işlem yapma\n",
    "for ilce in merged_df['ilce'].unique():\n",
    "    ilce_verileri = merged_df[merged_df['ilce'] == ilce].copy()  # ilgili ilçeye ait verileri seçme ve kopyalama\n",
    "    ilce_verileri['degisim'] = ilce_verileri['bildirimsiz_sum'].diff()  # Bildirimsiz sum sütununda değişimi hesaplama\n",
    "    ilce_verileri['oran'] = ilce_verileri['bildirimsiz_sum'].pct_change() * 100  # Değişim oranını yüzde olarak hesaplama\n",
    "    ilce_verileri['degisim_ilk_deger'] = ilce_verileri['bildirimsiz_sum'] - ilce_verileri['bildirimsiz_sum'].iloc[0]  # İlk değere göre değişimi hesaplama\n",
    "    merged_df.loc[merged_df['ilce'] == ilce, 'degisim'] = ilce_verileri['degisim']\n",
    "    merged_df.loc[merged_df['ilce'] == ilce, 'oran'] = ilce_verileri['oran']\n",
    "    merged_df.loc[merged_df['ilce'] == ilce, 'degisim_ilk_deger'] = ilce_verileri['degisim_ilk_deger']\n",
    "\n",
    "merged_df.fillna(0, inplace=True)"
   ]
  },
  {
   "cell_type": "code",
   "execution_count": 52,
   "id": "27f2cdd4",
   "metadata": {
    "execution": {
     "iopub.execute_input": "2024-05-08T16:56:12.723205Z",
     "iopub.status.busy": "2024-05-08T16:56:12.722787Z",
     "iopub.status.idle": "2024-05-08T16:56:12.732488Z",
     "shell.execute_reply": "2024-05-08T16:56:12.731280Z"
    },
    "papermill": {
     "duration": 0.041209,
     "end_time": "2024-05-08T16:56:12.735375",
     "exception": false,
     "start_time": "2024-05-08T16:56:12.694166",
     "status": "completed"
    },
    "tags": []
   },
   "outputs": [
    {
     "name": "stderr",
     "output_type": "stream",
     "text": [
      "/tmp/ipykernel_18/1343230000.py:1: FutureWarning: A value is trying to be set on a copy of a DataFrame or Series through chained assignment using an inplace method.\n",
      "The behavior will change in pandas 3.0. This inplace method will never work because the intermediate object on which we are setting values always behaves as a copy.\n",
      "\n",
      "For example, when doing 'df[col].method(value, inplace=True)', try using 'df.method({col: value}, inplace=True)' or df[col] = df[col].method(value) instead, to perform the operation inplace on the original object.\n",
      "\n",
      "\n",
      "  merged_df['oran'].replace([float('inf'), -float('inf')], 0, inplace=True)\n"
     ]
    }
   ],
   "source": [
    "merged_df['oran'].replace([float('inf'), -float('inf')], 0, inplace=True)\n",
    "merged_df['oran'] = merged_df['oran'].astype(float).fillna(0).astype(int)"
   ]
  },
  {
   "cell_type": "code",
   "execution_count": 53,
   "id": "16e16fb5",
   "metadata": {
    "execution": {
     "iopub.execute_input": "2024-05-08T16:56:12.792115Z",
     "iopub.status.busy": "2024-05-08T16:56:12.791444Z",
     "iopub.status.idle": "2024-05-08T16:56:12.803149Z",
     "shell.execute_reply": "2024-05-08T16:56:12.802216Z"
    },
    "papermill": {
     "duration": 0.043251,
     "end_time": "2024-05-08T16:56:12.805988",
     "exception": false,
     "start_time": "2024-05-08T16:56:12.762737",
     "status": "completed"
    },
    "tags": []
   },
   "outputs": [],
   "source": [
    "# Sütun adlarını değiştirme\n",
    "holidays.rename(columns={'Yıl': 'year', 'Ay': 'month', 'Gün': 'day'}, inplace=True)\n",
    "\n",
    "# Yıl, Ay ve Gün sütunlarını birleştirme\n",
    "holidays['tarih'] = pd.to_datetime(holidays[['year', 'month', 'day']])\n",
    "\n",
    "# Tarih sütunlarını birleştirmeye artık gerek yok, bu yüzden sütunları temizleme\n",
    "holidays.drop(['year', 'month', 'day'], axis=1, inplace=True)"
   ]
  },
  {
   "cell_type": "code",
   "execution_count": 54,
   "id": "a468dc38",
   "metadata": {
    "execution": {
     "iopub.execute_input": "2024-05-08T16:56:12.863211Z",
     "iopub.status.busy": "2024-05-08T16:56:12.862824Z",
     "iopub.status.idle": "2024-05-08T16:56:12.884646Z",
     "shell.execute_reply": "2024-05-08T16:56:12.883645Z"
    },
    "papermill": {
     "duration": 0.05288,
     "end_time": "2024-05-08T16:56:12.887091",
     "exception": false,
     "start_time": "2024-05-08T16:56:12.834211",
     "status": "completed"
    },
    "tags": []
   },
   "outputs": [],
   "source": [
    "merged_df['tarih'] = pd.to_datetime(merged_df['tarih'])\n",
    "holidays['tarih'] = pd.to_datetime(holidays['tarih'])\n",
    "\n",
    "# holidays veri çerçevesindeki tarihlerin merged_df içinde olup olmadığını kontrol etme\n",
    "merged_df['ozel_gun'] = merged_df['tarih'].isin(holidays['tarih']).astype(int)"
   ]
  },
  {
   "cell_type": "code",
   "execution_count": 55,
   "id": "e0a85dbb",
   "metadata": {
    "execution": {
     "iopub.execute_input": "2024-05-08T16:56:12.943544Z",
     "iopub.status.busy": "2024-05-08T16:56:12.943136Z",
     "iopub.status.idle": "2024-05-08T16:56:13.015216Z",
     "shell.execute_reply": "2024-05-08T16:56:13.014046Z"
    },
    "papermill": {
     "duration": 0.103486,
     "end_time": "2024-05-08T16:56:13.018038",
     "exception": false,
     "start_time": "2024-05-08T16:56:12.914552",
     "status": "completed"
    },
    "tags": []
   },
   "outputs": [],
   "source": [
    "izmir_ilceleri = merged_df[merged_df['ilce'].str.startswith('izmir')]\n",
    "manisa_ilceleri = merged_df[merged_df['ilce'].str.startswith('manisa')]\n",
    "\n",
    "izmir_gunluk = izmir_ilceleri.groupby('tarih').agg({'bildirimli_sum': 'sum', 'bildirimsiz_sum': 'sum'}).reset_index()\n",
    "manisa_gunluk = manisa_ilceleri.groupby('tarih').agg({'bildirimli_sum': 'sum', 'bildirimsiz_sum': 'sum'}).reset_index()"
   ]
  },
  {
   "cell_type": "code",
   "execution_count": 56,
   "id": "9552e8ba",
   "metadata": {
    "execution": {
     "iopub.execute_input": "2024-05-08T16:56:13.076536Z",
     "iopub.status.busy": "2024-05-08T16:56:13.076127Z",
     "iopub.status.idle": "2024-05-08T16:56:13.093544Z",
     "shell.execute_reply": "2024-05-08T16:56:13.092242Z"
    },
    "papermill": {
     "duration": 0.050167,
     "end_time": "2024-05-08T16:56:13.096553",
     "exception": false,
     "start_time": "2024-05-08T16:56:13.046386",
     "status": "completed"
    },
    "tags": []
   },
   "outputs": [],
   "source": [
    "# İzmir ve Manisa ilçelerindeki günlük toplam bildirimli ve bildirimsiz değerleri merged_df'e birleştirme\n",
    "merged_df['izmir_toplam_bildirimli'] = merged_df['tarih'].map(izmir_gunluk.set_index('tarih')['bildirimli_sum'])\n",
    "merged_df['izmir_toplam_bildirimsiz'] = merged_df['tarih'].map(izmir_gunluk.set_index('tarih')['bildirimsiz_sum'])\n",
    "merged_df['manisa_toplam_bildirimli'] = merged_df['tarih'].map(manisa_gunluk.set_index('tarih')['bildirimli_sum'])\n",
    "merged_df['manisa_toplam_bildirimsiz'] = merged_df['tarih'].map(manisa_gunluk.set_index('tarih')['bildirimsiz_sum'])"
   ]
  },
  {
   "cell_type": "code",
   "execution_count": 57,
   "id": "fb3b5347",
   "metadata": {
    "execution": {
     "iopub.execute_input": "2024-05-08T16:56:13.154547Z",
     "iopub.status.busy": "2024-05-08T16:56:13.154157Z",
     "iopub.status.idle": "2024-05-08T16:56:13.163689Z",
     "shell.execute_reply": "2024-05-08T16:56:13.162188Z"
    },
    "papermill": {
     "duration": 0.041627,
     "end_time": "2024-05-08T16:56:13.166526",
     "exception": false,
     "start_time": "2024-05-08T16:56:13.124899",
     "status": "completed"
    },
    "tags": []
   },
   "outputs": [
    {
     "data": {
      "text/plain": [
       "'# Aykırı değerleri belirleme ve üst eşiğe eşitleme\\nthreshold_factor = 0.1  # Standart sapmanın kaç katı olacak\\noutliers_info = {}\\n\\nfor ilce in sub_train[\\'ilce\\'].unique():\\n    ilce_data = sub_train[sub_train[\\'ilce\\'] == ilce]\\n    ilce_mean = ilce_data[\\'bildirimsiz_sum\\'].mean()\\n    outliers = ilce_data[ilce_data[\\'bildirimsiz_sum\\'] > ilce_mean]\\n    outliers_count = len(outliers)\\n    outliers_info[ilce] = outliers_count\\n\\n    # Aykırı değerleri ilçenin ortalama değeri ile eşitleme\\n    sub_train.loc[outliers.index, \\'bildirimsiz_sum\\'] = ilce_mean\\n\\n# Her ilçede kaç adet aykırı değer tespit edildiğini yazdırma\\nprint(\"İlçe Aykırı Değer Bilgileri:\")\\nfor ilce, count in outliers_info.items():\\n    print(f\"{ilce}: {count} adet aykırı değer tespit edildi.\")'"
      ]
     },
     "execution_count": 57,
     "metadata": {},
     "output_type": "execute_result"
    }
   ],
   "source": [
    "\"\"\"# Aykırı değerleri belirleme ve üst eşiğe eşitleme\n",
    "threshold_factor = 0.1  # Standart sapmanın kaç katı olacak\n",
    "outliers_info = {}\n",
    "\n",
    "for ilce in sub_train['ilce'].unique():\n",
    "    ilce_data = sub_train[sub_train['ilce'] == ilce]\n",
    "    ilce_mean = ilce_data['bildirimsiz_sum'].mean()\n",
    "    outliers = ilce_data[ilce_data['bildirimsiz_sum'] > ilce_mean]\n",
    "    outliers_count = len(outliers)\n",
    "    outliers_info[ilce] = outliers_count\n",
    "\n",
    "    # Aykırı değerleri ilçenin ortalama değeri ile eşitleme\n",
    "    sub_train.loc[outliers.index, 'bildirimsiz_sum'] = ilce_mean\n",
    "\n",
    "# Her ilçede kaç adet aykırı değer tespit edildiğini yazdırma\n",
    "print(\"İlçe Aykırı Değer Bilgileri:\")\n",
    "for ilce, count in outliers_info.items():\n",
    "    print(f\"{ilce}: {count} adet aykırı değer tespit edildi.\")\"\"\""
   ]
  },
  {
   "cell_type": "markdown",
   "id": "6a6c2600",
   "metadata": {
    "papermill": {
     "duration": 0.02686,
     "end_time": "2024-05-08T16:56:13.222773",
     "exception": false,
     "start_time": "2024-05-08T16:56:13.195913",
     "status": "completed"
    },
    "tags": []
   },
   "source": [
    "# Model değişti"
   ]
  },
  {
   "cell_type": "code",
   "execution_count": 58,
   "id": "f77a1215",
   "metadata": {
    "execution": {
     "iopub.execute_input": "2024-05-08T16:56:13.278950Z",
     "iopub.status.busy": "2024-05-08T16:56:13.278510Z",
     "iopub.status.idle": "2024-05-08T16:56:13.295690Z",
     "shell.execute_reply": "2024-05-08T16:56:13.294636Z"
    },
    "papermill": {
     "duration": 0.048678,
     "end_time": "2024-05-08T16:56:13.298542",
     "exception": false,
     "start_time": "2024-05-08T16:56:13.249864",
     "status": "completed"
    },
    "tags": []
   },
   "outputs": [],
   "source": [
    "#merged_df = pd.merge(train, sadelesmis_df, on=['tarih','ilce'], how='left')\n",
    "\n",
    "sub_train_start = '2023-01-01'\n",
    "sub_train_end = '2024-01-31'\n",
    "\n",
    "sub_start_date = '2024-02-01'\n",
    "sub_end_date = '2024-02-29'\n",
    "\n",
    "# Tarih aralığına göre veri setini filtreleme\n",
    "sub_train = merged_df[(merged_df['tarih'] >= sub_train_start) & (merged_df['tarih'] <= sub_train_end)]\n",
    "sub_merged = merged_df[(merged_df['tarih'] >= sub_start_date) & (merged_df['tarih'] <= sub_end_date)]"
   ]
  },
  {
   "cell_type": "code",
   "execution_count": 59,
   "id": "a4650207",
   "metadata": {
    "execution": {
     "iopub.execute_input": "2024-05-08T16:56:13.375320Z",
     "iopub.status.busy": "2024-05-08T16:56:13.374167Z",
     "iopub.status.idle": "2024-05-08T16:56:14.615417Z",
     "shell.execute_reply": "2024-05-08T16:56:14.613856Z"
    },
    "papermill": {
     "duration": 1.28506,
     "end_time": "2024-05-08T16:56:14.620018",
     "exception": false,
     "start_time": "2024-05-08T16:56:13.334958",
     "status": "completed"
    },
    "tags": []
   },
   "outputs": [],
   "source": [
    "from sklearn.linear_model import ElasticNet\n",
    "\n",
    "# Tahmin edilecek tarih aralığındaki verileri eğitim verisi olarak kullanma\n",
    "train_data = sub_train\n",
    "\n",
    "# Tahmin edilecek tarih aralığındaki verileri test verisi olarak kullanma\n",
    "test_data = sub_merged\n",
    "\n",
    "# Tahminde bulunacak ilçelerin listesi\n",
    "ilceler = sub_train['ilce'].unique()\n",
    "\n",
    "# Tahminlerin ve gerçek değerlerin depolanacağı bir sözlük oluşturalım\n",
    "predictions = {}\n",
    "\n",
    "# StandardScaler nesnesi oluşturma ve eğitme\n",
    "scaler = StandardScaler()\n",
    "scaler.fit(train_data.drop(columns=['tarih', 'ilce', 'bildirimsiz_sum']))\n",
    "\n",
    "# Her bir ilçe için tahminde bulunma\n",
    "for ilce in ilceler:\n",
    "    ilce_train_data = train_data[train_data['ilce'] == ilce]\n",
    "    ilce_test_data = test_data[test_data['ilce'] == ilce]\n",
    "    \n",
    "    # Standartlaştırma işlemi\n",
    "    features_train_standardized = scaler.transform(ilce_train_data.drop(columns=['tarih', 'ilce', 'bildirimsiz_sum']))\n",
    "    features_test_standardized = scaler.transform(ilce_test_data.drop(columns=['tarih', 'ilce', 'bildirimsiz_sum']))\n",
    "    \n",
    "    # Hedef değişken\n",
    "    target = ilce_train_data['bildirimsiz_sum']\n",
    "    \n",
    "    # Modeli eğitme (ElasticNet regresyonu)\n",
    "    model = ElasticNet(alpha=0.1, l1_ratio=0.5)  # İstediğiniz alpha ve l1_ratio değerlerini belirtin\n",
    "    model.fit(features_train_standardized, target)\n",
    "    \n",
    "    # Tahminde bulunma\n",
    "    ilce_predictions = model.predict(features_test_standardized)\n",
    "    \n",
    "    # Tahminleri depolama\n",
    "    predictions[ilce] = ilce_predictions"
   ]
  },
  {
   "cell_type": "code",
   "execution_count": 60,
   "id": "7e3da62b",
   "metadata": {
    "execution": {
     "iopub.execute_input": "2024-05-08T16:56:14.737290Z",
     "iopub.status.busy": "2024-05-08T16:56:14.736895Z",
     "iopub.status.idle": "2024-05-08T16:56:14.745344Z",
     "shell.execute_reply": "2024-05-08T16:56:14.744460Z"
    },
    "papermill": {
     "duration": 0.070093,
     "end_time": "2024-05-08T16:56:14.748388",
     "exception": false,
     "start_time": "2024-05-08T16:56:14.678295",
     "status": "completed"
    },
    "tags": []
   },
   "outputs": [
    {
     "data": {
      "text/plain": [
       "\"from sklearn.linear_model import ElasticNet\\n\\n# Tahmin edilecek tarih aralığındaki verileri eğitim verisi olarak kullanma\\ntrain_data = sub_train\\n\\n# Tahmin edilecek tarih aralığındaki verileri test verisi olarak kullanma\\ntest_data = sub_merged\\n\\n# Tahminde bulunacak ilçelerin listesi\\nilceler = sub_train['ilce'].unique()\\n\\n# Tahminlerin ve gerçek değerlerin depolanacağı bir sözlük oluşturalım\\npredictions = {}\\n\\n# Her bir ilçe için tahminde bulunma\\nfor ilce in ilceler:\\n    ilce_train_data = train_data[train_data['ilce'] == ilce]\\n    ilce_test_data = test_data[test_data['ilce'] == ilce]\\n    \\n    # Tahminde kullanılacak özellikler (tüm sütunlar)\\n    features = ilce_train_data.drop(columns=['tarih', 'ilce', 'bildirimsiz_sum'])\\n    \\n    # Hedef değişken\\n    target = ilce_train_data['bildirimsiz_sum']\\n    \\n    # Modeli eğitme (ElasticNet regresyonu)\\n    model = ElasticNet(alpha=0.1, l1_ratio=0.1)  # İstediğiniz alpha ve l1_ratio değerlerini belirtin\\n    model.fit(features, target)\\n    \\n    # Tahminde bulunma\\n    ilce_predictions = model.predict(ilce_test_data.drop(columns=['tarih', 'ilce', 'bildirimsiz_sum']))\\n    \\n    # Tahminleri depolama\\n    predictions[ilce] = ilce_predictions\""
      ]
     },
     "execution_count": 60,
     "metadata": {},
     "output_type": "execute_result"
    }
   ],
   "source": [
    "\"\"\"from sklearn.linear_model import ElasticNet\n",
    "\n",
    "# Tahmin edilecek tarih aralığındaki verileri eğitim verisi olarak kullanma\n",
    "train_data = sub_train\n",
    "\n",
    "# Tahmin edilecek tarih aralığındaki verileri test verisi olarak kullanma\n",
    "test_data = sub_merged\n",
    "\n",
    "# Tahminde bulunacak ilçelerin listesi\n",
    "ilceler = sub_train['ilce'].unique()\n",
    "\n",
    "# Tahminlerin ve gerçek değerlerin depolanacağı bir sözlük oluşturalım\n",
    "predictions = {}\n",
    "\n",
    "# Her bir ilçe için tahminde bulunma\n",
    "for ilce in ilceler:\n",
    "    ilce_train_data = train_data[train_data['ilce'] == ilce]\n",
    "    ilce_test_data = test_data[test_data['ilce'] == ilce]\n",
    "    \n",
    "    # Tahminde kullanılacak özellikler (tüm sütunlar)\n",
    "    features = ilce_train_data.drop(columns=['tarih', 'ilce', 'bildirimsiz_sum'])\n",
    "    \n",
    "    # Hedef değişken\n",
    "    target = ilce_train_data['bildirimsiz_sum']\n",
    "    \n",
    "    # Modeli eğitme (ElasticNet regresyonu)\n",
    "    model = ElasticNet(alpha=0.1, l1_ratio=0.1)  # İstediğiniz alpha ve l1_ratio değerlerini belirtin\n",
    "    model.fit(features, target)\n",
    "    \n",
    "    # Tahminde bulunma\n",
    "    ilce_predictions = model.predict(ilce_test_data.drop(columns=['tarih', 'ilce', 'bildirimsiz_sum']))\n",
    "    \n",
    "    # Tahminleri depolama\n",
    "    predictions[ilce] = ilce_predictions\"\"\""
   ]
  },
  {
   "cell_type": "code",
   "execution_count": 61,
   "id": "ff9875dd",
   "metadata": {
    "execution": {
     "iopub.execute_input": "2024-05-08T16:56:14.806044Z",
     "iopub.status.busy": "2024-05-08T16:56:14.805581Z",
     "iopub.status.idle": "2024-05-08T16:56:14.874567Z",
     "shell.execute_reply": "2024-05-08T16:56:14.873350Z"
    },
    "papermill": {
     "duration": 0.100705,
     "end_time": "2024-05-08T16:56:14.877457",
     "exception": false,
     "start_time": "2024-05-08T16:56:14.776752",
     "status": "completed"
    },
    "tags": []
   },
   "outputs": [
    {
     "name": "stdout",
     "output_type": "stream",
     "text": [
      "İlçe Bazlı MAE Skorları:\n",
      "izmir-aliaga: 0.40248269300561723\n",
      "izmir-bayindir: 0.257039813269561\n",
      "izmir-bayrakli: 0.3741439481939862\n",
      "izmir-bergama: 0.34652753170741724\n",
      "izmir-bornova: 0.33624245591402196\n",
      "izmir-buca: 0.1673861805621645\n",
      "izmir-cesme: 0.2899412553974249\n",
      "izmir-cigli: 0.6159741057668685\n",
      "izmir-dikili: 0.41486987209752296\n",
      "izmir-foca: 0.7778630553696777\n",
      "izmir-gaziemir: 0.7299685272271708\n",
      "izmir-guzelbahce: 0.5901465574384843\n",
      "izmir-karabaglar: 0.30326641399426996\n",
      "izmir-karaburun: 0.31211236805666925\n",
      "izmir-karsiyaka: 0.28116413281640573\n",
      "izmir-kemalpasa: 0.33152358782805436\n",
      "izmir-kinik: 0.43601402861055716\n",
      "izmir-kiraz: 0.05409926953689534\n",
      "izmir-konak: 0.13210119609384066\n",
      "izmir-menderes: 0.18848073212396882\n",
      "izmir-menemen: 0.5582220421491434\n",
      "izmir-odemis: 0.14371106597361927\n",
      "izmir-seferihisar: 0.5086166942459194\n",
      "izmir-tire: 0.04198873569830792\n",
      "izmir-torbali: 0.17739344998378334\n",
      "izmir-urla: 0.30719098795998484\n",
      "manisa-akhisar: 0.12333267447600912\n",
      "manisa-alasehir: 0.35865412550316045\n",
      "manisa-demirci: 0.5261975640339207\n",
      "manisa-golmarmara: 0.2104281582622053\n",
      "manisa-gordes: 0.18058447649771836\n",
      "manisa-kirkagac: 0.04036613529082763\n",
      "manisa-koprubasi: 0.5259946681282918\n",
      "manisa-salihli: 0.2665221758814158\n",
      "manisa-sarigol: 0.22738863107630006\n",
      "manisa-saruhanli: 0.34772656607848873\n",
      "manisa-sehzadeler: 0.571846305209421\n",
      "manisa-selendi: 0.3020032112724827\n",
      "manisa-soma: 0.23703646977305337\n",
      "manisa-turgutlu: 0.18728647697485973\n",
      "manisa-yunusemre: 0.4669735280286481\n",
      "izmir-balcova: 0.34591136263488836\n",
      "izmir-beydag: 0.0574959285235439\n",
      "izmir-narlidere: 0.6550649992246063\n",
      "izmir-selcuk: 0.01143748647701613\n",
      "manisa-kula: 0.4351401111332192\n",
      "manisa-ahmetli: 0.10644169608183783\n"
     ]
    }
   ],
   "source": [
    "from sklearn.metrics import mean_absolute_error\n",
    "\n",
    "# MAE skorlarını depolamak için bir sözlük oluşturalım\n",
    "mae_scores = {}\n",
    "\n",
    "# Her bir ilçe için MAE skorunu hesaplayalım\n",
    "for ilce, ilce_predictions in predictions.items():\n",
    "    true_values = test_data[test_data['ilce'] == ilce]['bildirimsiz_sum'].values\n",
    "    mae = mean_absolute_error(true_values, ilce_predictions)\n",
    "    mae_scores[ilce] = mae\n",
    "\n",
    "# Her ilçenin MAE skorunu yazdıralım\n",
    "print(\"İlçe Bazlı MAE Skorları:\")\n",
    "for ilce, mae in mae_scores.items():\n",
    "    print(f\"{ilce}: {mae}\")"
   ]
  },
  {
   "cell_type": "code",
   "execution_count": 62,
   "id": "68904a25",
   "metadata": {
    "execution": {
     "iopub.execute_input": "2024-05-08T16:56:14.934585Z",
     "iopub.status.busy": "2024-05-08T16:56:14.934031Z",
     "iopub.status.idle": "2024-05-08T16:56:14.940230Z",
     "shell.execute_reply": "2024-05-08T16:56:14.939029Z"
    },
    "papermill": {
     "duration": 0.037367,
     "end_time": "2024-05-08T16:56:14.942474",
     "exception": false,
     "start_time": "2024-05-08T16:56:14.905107",
     "status": "completed"
    },
    "tags": []
   },
   "outputs": [
    {
     "name": "stdout",
     "output_type": "stream",
     "text": [
      "Tüm İlçelerin Ortalama MAE Skoru: 0.3247298606719841\n"
     ]
    }
   ],
   "source": [
    "# Tüm MAE skorlarının ortalamasını hesaplayalım\n",
    "overall_mae = sum(mae_scores.values()) / len(mae_scores)\n",
    "\n",
    "# Ortalama MAE skorunu yazdıralım\n",
    "print(\"Tüm İlçelerin Ortalama MAE Skoru:\", overall_mae)\n",
    "\n",
    "# ESKİDEN 5.30 ALIYORDUM? SORUN NEDİR"
   ]
  },
  {
   "cell_type": "code",
   "execution_count": 63,
   "id": "ee2a9657",
   "metadata": {
    "execution": {
     "iopub.execute_input": "2024-05-08T16:56:14.999821Z",
     "iopub.status.busy": "2024-05-08T16:56:14.999213Z",
     "iopub.status.idle": "2024-05-08T16:56:15.004548Z",
     "shell.execute_reply": "2024-05-08T16:56:15.003294Z"
    },
    "papermill": {
     "duration": 0.037031,
     "end_time": "2024-05-08T16:56:15.007128",
     "exception": false,
     "start_time": "2024-05-08T16:56:14.970097",
     "status": "completed"
    },
    "tags": []
   },
   "outputs": [
    {
     "name": "stdout",
     "output_type": "stream",
     "text": [
      "0.01-0.01 ikilisi : 0.4155740614702738\n"
     ]
    }
   ],
   "source": [
    "print(\"0.01-0.01 ikilisi : 0.4155740614702738\")"
   ]
  },
  {
   "cell_type": "markdown",
   "id": "e2ad3056",
   "metadata": {
    "papermill": {
     "duration": 0.027426,
     "end_time": "2024-05-08T16:56:15.063249",
     "exception": false,
     "start_time": "2024-05-08T16:56:15.035823",
     "status": "completed"
    },
    "tags": []
   },
   "source": [
    "#### rmse"
   ]
  },
  {
   "cell_type": "code",
   "execution_count": 64,
   "id": "25795cf0",
   "metadata": {
    "execution": {
     "iopub.execute_input": "2024-05-08T16:56:15.120994Z",
     "iopub.status.busy": "2024-05-08T16:56:15.120538Z",
     "iopub.status.idle": "2024-05-08T16:56:15.159991Z",
     "shell.execute_reply": "2024-05-08T16:56:15.157950Z"
    },
    "papermill": {
     "duration": 0.071083,
     "end_time": "2024-05-08T16:56:15.162495",
     "exception": false,
     "start_time": "2024-05-08T16:56:15.091412",
     "status": "completed"
    },
    "tags": []
   },
   "outputs": [
    {
     "name": "stdout",
     "output_type": "stream",
     "text": [
      "izmir-aliaga: RMSE = 0.4086831540899204\n",
      "izmir-balcova: RMSE = 0.3464340912770593\n",
      "izmir-bayindir: RMSE = 0.26059804869550945\n",
      "izmir-bayrakli: RMSE = 0.3784509589713263\n",
      "izmir-bergama: RMSE = 0.350464210957406\n",
      "izmir-beydag: RMSE = 0.05926632362683479\n",
      "izmir-bornova: RMSE = 0.3382132759880828\n",
      "izmir-buca: RMSE = 0.16926707099189203\n",
      "izmir-cesme: RMSE = 0.2909011802512968\n",
      "izmir-cigli: RMSE = 0.6195662627755351\n",
      "izmir-dikili: RMSE = 0.4192279929642327\n",
      "izmir-foca: RMSE = 0.7784988361051819\n",
      "izmir-gaziemir: RMSE = 0.7364778295831194\n",
      "izmir-guzelbahce: RMSE = 0.604132342998196\n",
      "izmir-karabaglar: RMSE = 0.3062713099200394\n",
      "izmir-karaburun: RMSE = 0.34857882867568607\n",
      "izmir-karsiyaka: RMSE = 0.2834028558656881\n",
      "izmir-kemalpasa: RMSE = 0.33312608598800103\n",
      "izmir-kinik: RMSE = 0.44257603794231465\n",
      "izmir-kiraz: RMSE = 0.10211647701726717\n",
      "izmir-konak: RMSE = 0.13384820202287762\n",
      "izmir-menderes: RMSE = 0.19400443045761237\n",
      "izmir-menemen: RMSE = 0.5619965289044996\n",
      "izmir-narlidere: RMSE = 0.660887084292415\n",
      "izmir-odemis: RMSE = 0.14523324358149484\n",
      "izmir-seferihisar: RMSE = 0.5088073128492682\n",
      "izmir-selcuk: RMSE = 0.013039944923220784\n",
      "izmir-tire: RMSE = 0.049128781773786115\n",
      "izmir-torbali: RMSE = 0.18020473891324384\n",
      "izmir-urla: RMSE = 0.3162005599495628\n",
      "manisa-ahmetli: RMSE = 0.10644169608183783\n",
      "manisa-akhisar: RMSE = 0.1251176388035765\n",
      "manisa-alasehir: RMSE = 0.35933269324845807\n",
      "manisa-demirci: RMSE = 0.5265916493507871\n",
      "manisa-golmarmara: RMSE = 0.21046027291343927\n",
      "manisa-gordes: RMSE = 0.185333433171641\n",
      "manisa-kirkagac: RMSE = 0.04680981429857746\n",
      "manisa-koprubasi: RMSE = 0.5265115455096239\n",
      "manisa-kula: RMSE = 0.4413723268171226\n",
      "manisa-salihli: RMSE = 0.2677003836357205\n",
      "manisa-sarigol: RMSE = 0.22994812132046225\n",
      "manisa-saruhanli: RMSE = 0.35586380444654186\n",
      "manisa-sehzadeler: RMSE = 0.572461363561313\n",
      "manisa-selendi: RMSE = 0.3065555546878482\n",
      "manisa-soma: RMSE = 0.24510526100062396\n",
      "manisa-turgutlu: RMSE = 0.19158812256949093\n",
      "manisa-yunusemre: RMSE = 0.46980462134416556\n"
     ]
    }
   ],
   "source": [
    "from sklearn.metrics import mean_squared_error\n",
    "\n",
    "ilce_rmse = {}\n",
    "for ilce, ilce_test_data in test_data.groupby('ilce'):\n",
    "    true_values = ilce_test_data['bildirimsiz_sum']\n",
    "    \n",
    "    predicted_values = predictions[ilce]\n",
    "    \n",
    "    rmse = np.sqrt(mean_squared_error(true_values, predicted_values))\n",
    "    \n",
    "    ilce_rmse[ilce] = rmse\n",
    "\n",
    "for ilce, rmse in ilce_rmse.items():\n",
    "    print(f\"{ilce}: RMSE = {rmse}\")"
   ]
  },
  {
   "cell_type": "code",
   "execution_count": 65,
   "id": "c3e23346",
   "metadata": {
    "execution": {
     "iopub.execute_input": "2024-05-08T16:56:15.221028Z",
     "iopub.status.busy": "2024-05-08T16:56:15.219698Z",
     "iopub.status.idle": "2024-05-08T16:56:15.226872Z",
     "shell.execute_reply": "2024-05-08T16:56:15.225366Z"
    },
    "papermill": {
     "duration": 0.038665,
     "end_time": "2024-05-08T16:56:15.229206",
     "exception": false,
     "start_time": "2024-05-08T16:56:15.190541",
     "status": "completed"
    },
    "tags": []
   },
   "outputs": [
    {
     "name": "stdout",
     "output_type": "stream",
     "text": [
      "Tüm ilçelerin Ortalama RMSE değeri: 0.3299277086194426\n"
     ]
    }
   ],
   "source": [
    "# Tüm ilçelerin RMSE değerlerinin ortalamasını hesapla\n",
    "mean_rmse = np.mean(list(ilce_rmse.values()))\n",
    "\n",
    "# Ortalama RMSE değerini yazdır\n",
    "print(\"Tüm ilçelerin Ortalama RMSE değeri:\", mean_rmse)"
   ]
  },
  {
   "cell_type": "code",
   "execution_count": 66,
   "id": "f73bd0a6",
   "metadata": {
    "execution": {
     "iopub.execute_input": "2024-05-08T16:56:15.287696Z",
     "iopub.status.busy": "2024-05-08T16:56:15.287246Z",
     "iopub.status.idle": "2024-05-08T16:56:15.293386Z",
     "shell.execute_reply": "2024-05-08T16:56:15.291892Z"
    },
    "papermill": {
     "duration": 0.038311,
     "end_time": "2024-05-08T16:56:15.295708",
     "exception": false,
     "start_time": "2024-05-08T16:56:15.257397",
     "status": "completed"
    },
    "tags": []
   },
   "outputs": [
    {
     "name": "stdout",
     "output_type": "stream",
     "text": [
      "0.01-0.01 ikilisi : 0.43664179855328844\n"
     ]
    }
   ],
   "source": [
    "print(\"0.01-0.01 ikilisi : 0.43664179855328844\")"
   ]
  },
  {
   "cell_type": "markdown",
   "id": "b4a817cc",
   "metadata": {
    "papermill": {
     "duration": 0.030112,
     "end_time": "2024-05-08T16:56:15.354860",
     "exception": false,
     "start_time": "2024-05-08T16:56:15.324748",
     "status": "completed"
    },
    "tags": []
   },
   "source": [
    "# Model katsayı (değişim ilk değere aşırı overfit oldu)"
   ]
  },
  {
   "cell_type": "code",
   "execution_count": 67,
   "id": "c28278a3",
   "metadata": {
    "execution": {
     "iopub.execute_input": "2024-05-08T16:56:15.413346Z",
     "iopub.status.busy": "2024-05-08T16:56:15.412907Z",
     "iopub.status.idle": "2024-05-08T16:56:15.421405Z",
     "shell.execute_reply": "2024-05-08T16:56:15.420246Z"
    },
    "papermill": {
     "duration": 0.040175,
     "end_time": "2024-05-08T16:56:15.423582",
     "exception": false,
     "start_time": "2024-05-08T16:56:15.383407",
     "status": "completed"
    },
    "tags": []
   },
   "outputs": [
    {
     "data": {
      "text/plain": [
       "'# Model katsayılarını al\\ncoefficients = model.coef_\\n\\n# Özellik isimlerini al\\nfeature_names = features.columns\\n\\n# Katsayıları ve özellik isimlerini eşleştir\\ncoefficients_dict = dict(zip(feature_names, coefficients))\\n\\n# Katsayıları DataFrame\\'e dönüştür\\ncoefficients_df = pd.DataFrame(list(coefficients_dict.items()), columns=[\\'Feature\\', \\'Coefficient\\'])\\n\\n# Katsayıları mutlak değerlerine göre sırala\\ncoefficients_df[\\'Absolute_Coefficient\\'] = np.abs(coefficients_df[\\'Coefficient\\'])\\ncoefficients_df = coefficients_df.sort_values(by=\\'Absolute_Coefficient\\', ascending=False)\\n\\n# Önem değerlerini ısı haritası olarak çiz\\nplt.figure(figsize=(10, 6))\\nsns.heatmap(coefficients_df.set_index(\\'Feature\\')[[\\'Absolute_Coefficient\\']], cmap=\\'coolwarm\\', annot=True, fmt=\".3f\", linewidths=.5)\\nplt.title(\\'Katsayıların Mutlak Değerleri (Özellik Önemleri)\\')\\nplt.xlabel(\\'Önem\\')\\nplt.ylabel(\\'Özellikler\\')\\nplt.show()'"
      ]
     },
     "execution_count": 67,
     "metadata": {},
     "output_type": "execute_result"
    }
   ],
   "source": [
    "\"\"\"# Model katsayılarını al\n",
    "coefficients = model.coef_\n",
    "\n",
    "# Özellik isimlerini al\n",
    "feature_names = features.columns\n",
    "\n",
    "# Katsayıları ve özellik isimlerini eşleştir\n",
    "coefficients_dict = dict(zip(feature_names, coefficients))\n",
    "\n",
    "# Katsayıları DataFrame'e dönüştür\n",
    "coefficients_df = pd.DataFrame(list(coefficients_dict.items()), columns=['Feature', 'Coefficient'])\n",
    "\n",
    "# Katsayıları mutlak değerlerine göre sırala\n",
    "coefficients_df['Absolute_Coefficient'] = np.abs(coefficients_df['Coefficient'])\n",
    "coefficients_df = coefficients_df.sort_values(by='Absolute_Coefficient', ascending=False)\n",
    "\n",
    "# Önem değerlerini ısı haritası olarak çiz\n",
    "plt.figure(figsize=(10, 6))\n",
    "sns.heatmap(coefficients_df.set_index('Feature')[['Absolute_Coefficient']], cmap='coolwarm', annot=True, fmt=\".3f\", linewidths=.5)\n",
    "plt.title('Katsayıların Mutlak Değerleri (Özellik Önemleri)')\n",
    "plt.xlabel('Önem')\n",
    "plt.ylabel('Özellikler')\n",
    "plt.show()\"\"\""
   ]
  },
  {
   "cell_type": "code",
   "execution_count": 68,
   "id": "8d9be7cf",
   "metadata": {
    "execution": {
     "iopub.execute_input": "2024-05-08T16:56:15.482314Z",
     "iopub.status.busy": "2024-05-08T16:56:15.481927Z",
     "iopub.status.idle": "2024-05-08T16:56:16.787359Z",
     "shell.execute_reply": "2024-05-08T16:56:16.786138Z"
    },
    "papermill": {
     "duration": 1.338268,
     "end_time": "2024-05-08T16:56:16.790133",
     "exception": false,
     "start_time": "2024-05-08T16:56:15.451865",
     "status": "completed"
    },
    "tags": []
   },
   "outputs": [
    {
     "name": "stderr",
     "output_type": "stream",
     "text": [
      "/tmp/ipykernel_18/204946834.py:11: FutureWarning: The behavior of DataFrame concatenation with empty or all-NA entries is deprecated. In a future version, this will no longer exclude empty or all-NA columns when determining the result dtypes. To retain the old behavior, exclude the relevant entries before the concat operation.\n",
      "  tahminler_df = pd.concat([tahminler_df, pd.DataFrame({'Tarih': [start_date], 'İlçe': [ilce], 'Tahmin': [prediction]})], ignore_index=True)\n"
     ]
    }
   ],
   "source": [
    "# Tahminlerin depolanacağı DataFrame'i oluşturalım\n",
    "tahminler_df = pd.DataFrame(columns=['Tarih', 'İlçe', 'Tahmin'])\n",
    "\n",
    "# Her bir unique ilçe için tahmin skorlarını sırayla ekleyelim\n",
    "for ilce, ilce_predictions in predictions.items():\n",
    "    # Tahminlerin başlangıç tarihi\n",
    "    start_date = pd.Timestamp('2024-02-01')\n",
    "    \n",
    "    # Tahmin skorlarını sırayla DataFrame'e ekleyelim\n",
    "    for prediction in ilce_predictions:\n",
    "        tahminler_df = pd.concat([tahminler_df, pd.DataFrame({'Tarih': [start_date], 'İlçe': [ilce], 'Tahmin': [prediction]})], ignore_index=True)\n",
    "        start_date += pd.Timedelta(days=1)"
   ]
  },
  {
   "cell_type": "code",
   "execution_count": 69,
   "id": "045d4558",
   "metadata": {
    "execution": {
     "iopub.execute_input": "2024-05-08T16:56:16.849835Z",
     "iopub.status.busy": "2024-05-08T16:56:16.848450Z",
     "iopub.status.idle": "2024-05-08T16:56:16.859095Z",
     "shell.execute_reply": "2024-05-08T16:56:16.858023Z"
    },
    "papermill": {
     "duration": 0.043057,
     "end_time": "2024-05-08T16:56:16.861692",
     "exception": false,
     "start_time": "2024-05-08T16:56:16.818635",
     "status": "completed"
    },
    "tags": []
   },
   "outputs": [],
   "source": [
    "tahminler_df['unique_id'] = tahminler_df['Tarih'].astype(str) + '-' + tahminler_df['İlçe']\n",
    "tahminler_df = tahminler_df.rename(columns={'Tahmin': 'bildirimsiz_sum'})"
   ]
  },
  {
   "cell_type": "code",
   "execution_count": 70,
   "id": "988db04f",
   "metadata": {
    "execution": {
     "iopub.execute_input": "2024-05-08T16:56:16.920717Z",
     "iopub.status.busy": "2024-05-08T16:56:16.920313Z",
     "iopub.status.idle": "2024-05-08T16:56:16.927159Z",
     "shell.execute_reply": "2024-05-08T16:56:16.925918Z"
    },
    "papermill": {
     "duration": 0.039415,
     "end_time": "2024-05-08T16:56:16.929667",
     "exception": false,
     "start_time": "2024-05-08T16:56:16.890252",
     "status": "completed"
    },
    "tags": []
   },
   "outputs": [],
   "source": [
    "tahminler_df = tahminler_df.drop(columns=['Tarih','İlçe'])\n",
    "tahminler_df = tahminler_df[['unique_id', 'bildirimsiz_sum']]"
   ]
  },
  {
   "cell_type": "code",
   "execution_count": 71,
   "id": "8c6d107e",
   "metadata": {
    "execution": {
     "iopub.execute_input": "2024-05-08T16:56:16.990500Z",
     "iopub.status.busy": "2024-05-08T16:56:16.989703Z",
     "iopub.status.idle": "2024-05-08T16:56:17.001047Z",
     "shell.execute_reply": "2024-05-08T16:56:17.000223Z"
    },
    "papermill": {
     "duration": 0.043496,
     "end_time": "2024-05-08T16:56:17.003222",
     "exception": false,
     "start_time": "2024-05-08T16:56:16.959726",
     "status": "completed"
    },
    "tags": []
   },
   "outputs": [
    {
     "data": {
      "text/html": [
       "<div>\n",
       "<style scoped>\n",
       "    .dataframe tbody tr th:only-of-type {\n",
       "        vertical-align: middle;\n",
       "    }\n",
       "\n",
       "    .dataframe tbody tr th {\n",
       "        vertical-align: top;\n",
       "    }\n",
       "\n",
       "    .dataframe thead th {\n",
       "        text-align: right;\n",
       "    }\n",
       "</style>\n",
       "<table border=\"1\" class=\"dataframe\">\n",
       "  <thead>\n",
       "    <tr style=\"text-align: right;\">\n",
       "      <th></th>\n",
       "      <th>unique_id</th>\n",
       "      <th>bildirimsiz_sum</th>\n",
       "    </tr>\n",
       "  </thead>\n",
       "  <tbody>\n",
       "    <tr>\n",
       "      <th>0</th>\n",
       "      <td>2024-02-01-izmir-aliaga</td>\n",
       "      <td>-0.040922</td>\n",
       "    </tr>\n",
       "    <tr>\n",
       "      <th>1</th>\n",
       "      <td>2024-02-02-izmir-aliaga</td>\n",
       "      <td>0.414603</td>\n",
       "    </tr>\n",
       "    <tr>\n",
       "      <th>2</th>\n",
       "      <td>2024-02-03-izmir-aliaga</td>\n",
       "      <td>0.410521</td>\n",
       "    </tr>\n",
       "    <tr>\n",
       "      <th>3</th>\n",
       "      <td>2024-02-04-izmir-aliaga</td>\n",
       "      <td>0.411232</td>\n",
       "    </tr>\n",
       "    <tr>\n",
       "      <th>4</th>\n",
       "      <td>2024-02-05-izmir-aliaga</td>\n",
       "      <td>0.395442</td>\n",
       "    </tr>\n",
       "    <tr>\n",
       "      <th>...</th>\n",
       "      <td>...</td>\n",
       "      <td>...</td>\n",
       "    </tr>\n",
       "    <tr>\n",
       "      <th>1358</th>\n",
       "      <td>2024-02-25-manisa-ahmetli</td>\n",
       "      <td>0.106442</td>\n",
       "    </tr>\n",
       "    <tr>\n",
       "      <th>1359</th>\n",
       "      <td>2024-02-26-manisa-ahmetli</td>\n",
       "      <td>0.106442</td>\n",
       "    </tr>\n",
       "    <tr>\n",
       "      <th>1360</th>\n",
       "      <td>2024-02-27-manisa-ahmetli</td>\n",
       "      <td>0.106442</td>\n",
       "    </tr>\n",
       "    <tr>\n",
       "      <th>1361</th>\n",
       "      <td>2024-02-28-manisa-ahmetli</td>\n",
       "      <td>0.106442</td>\n",
       "    </tr>\n",
       "    <tr>\n",
       "      <th>1362</th>\n",
       "      <td>2024-02-29-manisa-ahmetli</td>\n",
       "      <td>0.106442</td>\n",
       "    </tr>\n",
       "  </tbody>\n",
       "</table>\n",
       "<p>1363 rows × 2 columns</p>\n",
       "</div>"
      ],
      "text/plain": [
       "                      unique_id  bildirimsiz_sum\n",
       "0       2024-02-01-izmir-aliaga        -0.040922\n",
       "1       2024-02-02-izmir-aliaga         0.414603\n",
       "2       2024-02-03-izmir-aliaga         0.410521\n",
       "3       2024-02-04-izmir-aliaga         0.411232\n",
       "4       2024-02-05-izmir-aliaga         0.395442\n",
       "...                         ...              ...\n",
       "1358  2024-02-25-manisa-ahmetli         0.106442\n",
       "1359  2024-02-26-manisa-ahmetli         0.106442\n",
       "1360  2024-02-27-manisa-ahmetli         0.106442\n",
       "1361  2024-02-28-manisa-ahmetli         0.106442\n",
       "1362  2024-02-29-manisa-ahmetli         0.106442\n",
       "\n",
       "[1363 rows x 2 columns]"
      ]
     },
     "execution_count": 71,
     "metadata": {},
     "output_type": "execute_result"
    }
   ],
   "source": [
    "tahminler_df"
   ]
  },
  {
   "cell_type": "code",
   "execution_count": 72,
   "id": "9954de4f",
   "metadata": {
    "execution": {
     "iopub.execute_input": "2024-05-08T16:56:17.062840Z",
     "iopub.status.busy": "2024-05-08T16:56:17.062405Z",
     "iopub.status.idle": "2024-05-08T16:56:17.075856Z",
     "shell.execute_reply": "2024-05-08T16:56:17.074921Z"
    },
    "papermill": {
     "duration": 0.046174,
     "end_time": "2024-05-08T16:56:17.078403",
     "exception": false,
     "start_time": "2024-05-08T16:56:17.032229",
     "status": "completed"
    },
    "tags": []
   },
   "outputs": [],
   "source": [
    "tahminler_df.to_csv('submission.csv', index=False)"
   ]
  }
 ],
 "metadata": {
  "kaggle": {
   "accelerator": "none",
   "dataSources": [
    {
     "databundleVersionId": 8421693,
     "sourceId": 77202,
     "sourceType": "competition"
    }
   ],
   "dockerImageVersionId": 30698,
   "isGpuEnabled": false,
   "isInternetEnabled": true,
   "language": "python",
   "sourceType": "notebook"
  },
  "kernelspec": {
   "display_name": "Python 3",
   "language": "python",
   "name": "python3"
  },
  "language_info": {
   "codemirror_mode": {
    "name": "ipython",
    "version": 3
   },
   "file_extension": ".py",
   "mimetype": "text/x-python",
   "name": "python",
   "nbconvert_exporter": "python",
   "pygments_lexer": "ipython3",
   "version": "3.10.13"
  },
  "papermill": {
   "default_parameters": {},
   "duration": 43.759461,
   "end_time": "2024-05-08T16:56:17.829059",
   "environment_variables": {},
   "exception": null,
   "input_path": "__notebook__.ipynb",
   "output_path": "__notebook__.ipynb",
   "parameters": {},
   "start_time": "2024-05-08T16:55:34.069598",
   "version": "2.5.0"
  }
 },
 "nbformat": 4,
 "nbformat_minor": 5
}
