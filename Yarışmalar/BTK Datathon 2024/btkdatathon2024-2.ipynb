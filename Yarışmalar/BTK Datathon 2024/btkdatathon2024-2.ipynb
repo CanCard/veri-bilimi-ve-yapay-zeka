{
 "cells": [
  {
   "cell_type": "code",
   "execution_count": 1,
   "id": "298ef4d4",
   "metadata": {
    "_cell_guid": "b1076dfc-b9ad-4769-8c92-a6c4dae69d19",
    "_uuid": "8f2839f25d086af736a60e9eeb907d3b93b6e0e5",
    "execution": {
     "iopub.execute_input": "2024-09-13T05:12:08.523269Z",
     "iopub.status.busy": "2024-09-13T05:12:08.522275Z",
     "iopub.status.idle": "2024-09-13T05:12:10.738403Z",
     "shell.execute_reply": "2024-09-13T05:12:10.737365Z"
    },
    "papermill": {
     "duration": 2.251005,
     "end_time": "2024-09-13T05:12:10.740963",
     "exception": false,
     "start_time": "2024-09-13T05:12:08.489958",
     "status": "completed"
    },
    "tags": []
   },
   "outputs": [],
   "source": [
    "import numpy as np\n",
    "import pandas as pd\n",
    "import matplotlib.pyplot as plt\n",
    "import seaborn as sns\n",
    "from sklearn.model_selection import train_test_split\n",
    "from sklearn.pipeline import Pipeline\n",
    "from sklearn.compose import ColumnTransformer\n",
    "import unicodedata"
   ]
  },
  {
   "cell_type": "code",
   "execution_count": 2,
   "id": "7f28a2ea",
   "metadata": {
    "execution": {
     "iopub.execute_input": "2024-09-13T05:12:10.803089Z",
     "iopub.status.busy": "2024-09-13T05:12:10.802008Z",
     "iopub.status.idle": "2024-09-13T05:12:12.173502Z",
     "shell.execute_reply": "2024-09-13T05:12:12.172459Z"
    },
    "papermill": {
     "duration": 1.404769,
     "end_time": "2024-09-13T05:12:12.176039",
     "exception": false,
     "start_time": "2024-09-13T05:12:10.771270",
     "status": "completed"
    },
    "tags": []
   },
   "outputs": [
    {
     "name": "stderr",
     "output_type": "stream",
     "text": [
      "/tmp/ipykernel_17/1788601659.py:3: DtypeWarning: Columns (13,15,19,30,32,37,41,42) have mixed types. Specify dtype option on import or set low_memory=False.\n",
      "  train = pd.read_csv(\"/kaggle/input/datathon-2024/train.csv\")\n"
     ]
    }
   ],
   "source": [
    "sub = pd.read_csv(\"/kaggle/input/datathon-2024/sample_submission.csv\")\n",
    "test = pd.read_csv(\"/kaggle/input/datathon-2024/test_x.csv\")\n",
    "train = pd.read_csv(\"/kaggle/input/datathon-2024/train.csv\")"
   ]
  },
  {
   "cell_type": "code",
   "execution_count": 3,
   "id": "24f27b87",
   "metadata": {
    "execution": {
     "iopub.execute_input": "2024-09-13T05:12:12.236643Z",
     "iopub.status.busy": "2024-09-13T05:12:12.236252Z",
     "iopub.status.idle": "2024-09-13T05:12:12.240924Z",
     "shell.execute_reply": "2024-09-13T05:12:12.239935Z"
    },
    "papermill": {
     "duration": 0.037195,
     "end_time": "2024-09-13T05:12:12.243000",
     "exception": false,
     "start_time": "2024-09-13T05:12:12.205805",
     "status": "completed"
    },
    "tags": []
   },
   "outputs": [],
   "source": [
    "pd.set_option('display.max_columns', None)"
   ]
  },
  {
   "cell_type": "code",
   "execution_count": 4,
   "id": "170c53f0",
   "metadata": {
    "execution": {
     "iopub.execute_input": "2024-09-13T05:12:12.303017Z",
     "iopub.status.busy": "2024-09-13T05:12:12.302217Z",
     "iopub.status.idle": "2024-09-13T05:12:12.521216Z",
     "shell.execute_reply": "2024-09-13T05:12:12.520127Z"
    },
    "papermill": {
     "duration": 0.251256,
     "end_time": "2024-09-13T05:12:12.523630",
     "exception": false,
     "start_time": "2024-09-13T05:12:12.272374",
     "status": "completed"
    },
    "tags": []
   },
   "outputs": [],
   "source": [
    "train = train.loc[train['Kardes Sayisi'] != 'Kardeş Sayısı 1 Ek Bilgi Aile Hk. Anne Vefat']\n",
    "\n",
    "# Hedef ve özellik sütunları seçelim\n",
    "X = train.drop(\"Degerlendirme Puani\", axis=1)  # Tahmin etmek istediğiniz sütun dışındaki veriler\n",
    "y = train[\"Degerlendirme Puani\"]  # Hedef sütun\n",
    "\n",
    "# Veriyi eğitim ve test setlerine bölelim\n",
    "X_train, X_test, y_train, y_test = train_test_split(X, y, test_size=0.2, random_state=42)"
   ]
  },
  {
   "cell_type": "code",
   "execution_count": 5,
   "id": "1d8caca6",
   "metadata": {
    "execution": {
     "iopub.execute_input": "2024-09-13T05:12:12.583735Z",
     "iopub.status.busy": "2024-09-13T05:12:12.582834Z",
     "iopub.status.idle": "2024-09-13T05:12:14.009495Z",
     "shell.execute_reply": "2024-09-13T05:12:14.008274Z"
    },
    "papermill": {
     "duration": 1.459326,
     "end_time": "2024-09-13T05:12:14.012107",
     "exception": false,
     "start_time": "2024-09-13T05:12:12.552781",
     "status": "completed"
    },
    "tags": []
   },
   "outputs": [
    {
     "name": "stderr",
     "output_type": "stream",
     "text": [
      "/tmp/ipykernel_17/2157307933.py:2: FutureWarning: DataFrame.applymap has been deprecated. Use DataFrame.map instead.\n",
      "  X_train = X_train.applymap(lambda x: x.lower() if isinstance(x, str) else x)\n",
      "/tmp/ipykernel_17/2157307933.py:5: FutureWarning: DataFrame.applymap has been deprecated. Use DataFrame.map instead.\n",
      "  test = test.applymap(lambda x: x.lower() if isinstance(x, str) else x)\n"
     ]
    }
   ],
   "source": [
    "X_train.columns = [col.strip().lower().replace(' ', '_').replace('?', '').replace(\"'\", '').replace(\"ö\", 'o').replace(\"ü\", 'u').replace(\"Ö\", 'o').replace(\"Ü\", 'u').replace(\",\", '') for col in X_train.columns]\n",
    "X_train = X_train.applymap(lambda x: x.lower() if isinstance(x, str) else x)\n",
    "\n",
    "test.columns = [col.strip().lower().replace(' ', '_').replace('?', '').replace(\"'\", '').replace(\"ö\", 'o').replace(\"ü\", 'u').replace(\"Ö\", 'o').replace(\"Ü\", 'u').replace(\",\", '') for col in test.columns]\n",
    "test = test.applymap(lambda x: x.lower() if isinstance(x, str) else x)"
   ]
  },
  {
   "cell_type": "code",
   "execution_count": 6,
   "id": "5e822c7a",
   "metadata": {
    "execution": {
     "iopub.execute_input": "2024-09-13T05:12:14.076355Z",
     "iopub.status.busy": "2024-09-13T05:12:14.075963Z",
     "iopub.status.idle": "2024-09-13T05:12:14.214821Z",
     "shell.execute_reply": "2024-09-13T05:12:14.213625Z"
    },
    "papermill": {
     "duration": 0.172672,
     "end_time": "2024-09-13T05:12:14.217328",
     "exception": false,
     "start_time": "2024-09-13T05:12:14.044656",
     "status": "completed"
    },
    "tags": []
   },
   "outputs": [],
   "source": [
    "test = test.drop(\"dogum_tarihi\",axis=1)\n",
    "test = test.drop(\"dogum_yeri\",axis=1)\n",
    "test = test.drop(\"ikametgah_sehri\",axis=1)\n",
    "test = test.drop(\"universite_adi\",axis=1)\n",
    "test = test.drop(\"bolum\",axis=1)\n",
    "test = test.drop(\"daha_once_baska_bir_universiteden_mezun_olmus\",axis=1)\n",
    "\n",
    "test = test.drop(\"lise_adi\",axis=1)\n",
    "test = test.drop(\"lise_adi_diger\",axis=1)\n",
    "test = test.drop(\"lise_sehir\",axis=1)\n",
    "\n",
    "test = test.drop(\"lise_bolum_diger\",axis=1)\n",
    "test = test.drop(\"burs_aldigi_baska_kurum\",axis=1)\n",
    "\n",
    "test = test.drop(\"uye_oldugunuz_kulubun_ismi\",axis=1)\n",
    "\n",
    "test = test.drop(\"spor_dalindaki_rolunuz_nedir\",axis=1)\n",
    "\n",
    "test = test.drop(\"hangi_stknin_uyesisiniz\",axis=1)\n",
    "test = test.drop(\"stk_projesine_katildiniz_mi\",axis=1)\n",
    "\n",
    "test = test.drop(\"girisimcilikle_ilgili_deneyiminizi_aciklayabilir_misiniz\",axis=1)\n",
    "\n",
    "test = test.drop(\"girisimcilikle_ilgili_deneyiminiz_var_mi\",axis=1)\n",
    "\n",
    "test = test.drop(\"ingilizce_seviyeniz\",axis=1)\n",
    "\n",
    "test = test.drop(\"daha_onceden_mezun_olunduysa_mezun_olunan_universite\",axis=1)\n",
    "\n",
    "test = test.drop(\"burslu_ise_burs_yuzdesi\",axis=1)\n",
    "test = test.drop(\"lise_bolumu\",axis=1)"
   ]
  },
  {
   "cell_type": "code",
   "execution_count": 7,
   "id": "73290598",
   "metadata": {
    "execution": {
     "iopub.execute_input": "2024-09-13T05:12:14.292105Z",
     "iopub.status.busy": "2024-09-13T05:12:14.291219Z",
     "iopub.status.idle": "2024-09-13T05:12:14.948945Z",
     "shell.execute_reply": "2024-09-13T05:12:14.947815Z"
    },
    "papermill": {
     "duration": 0.692742,
     "end_time": "2024-09-13T05:12:14.952048",
     "exception": false,
     "start_time": "2024-09-13T05:12:14.259306",
     "status": "completed"
    },
    "tags": []
   },
   "outputs": [],
   "source": [
    "X_train = X_train.drop(\"dogum_tarihi\",axis=1)\n",
    "X_train = X_train.drop(\"dogum_yeri\",axis=1)\n",
    "X_train = X_train.drop(\"ikametgah_sehri\",axis=1)\n",
    "X_train = X_train.drop(\"universite_adi\",axis=1)\n",
    "X_train = X_train.drop(\"bolum\",axis=1)\n",
    "X_train = X_train.drop(\"daha_once_baska_bir_universiteden_mezun_olmus\",axis=1)\n",
    "\n",
    "X_train = X_train.drop(\"lise_adi\",axis=1)\n",
    "X_train = X_train.drop(\"lise_adi_diger\",axis=1)\n",
    "X_train = X_train.drop(\"lise_sehir\",axis=1)\n",
    "\n",
    "X_train = X_train.drop(\"lise_bolum_diger\",axis=1)\n",
    "X_train = X_train.drop(\"burs_aldigi_baska_kurum\",axis=1)\n",
    "\n",
    "X_train = X_train.drop(\"uye_oldugunuz_kulubun_ismi\",axis=1)\n",
    "\n",
    "X_train = X_train.drop(\"spor_dalindaki_rolunuz_nedir\",axis=1)\n",
    "\n",
    "X_train = X_train.drop(\"hangi_stknin_uyesisiniz\",axis=1)\n",
    "X_train = X_train.drop(\"stk_projesine_katildiniz_mi\",axis=1)\n",
    "\n",
    "X_train = X_train.drop(\"girisimcilikle_ilgili_deneyiminizi_aciklayabilir_misiniz\",axis=1)\n",
    "\n",
    "X_train = X_train.drop(\"girisimcilikle_ilgili_deneyiminiz_var_mi\",axis=1)\n",
    "\n",
    "X_train = X_train.drop(\"ingilizce_seviyeniz\",axis=1)\n",
    "\n",
    "X_train = X_train.drop(\"daha_onceden_mezun_olunduysa_mezun_olunan_universite\",axis=1)\n",
    "\n",
    "X_train = X_train.drop(\"burslu_ise_burs_yuzdesi\",axis=1)\n",
    "X_train = X_train.drop(\"lise_bolumu\",axis=1)"
   ]
  },
  {
   "cell_type": "code",
   "execution_count": 8,
   "id": "60830726",
   "metadata": {
    "execution": {
     "iopub.execute_input": "2024-09-13T05:12:15.025284Z",
     "iopub.status.busy": "2024-09-13T05:12:15.024408Z",
     "iopub.status.idle": "2024-09-13T05:12:15.056054Z",
     "shell.execute_reply": "2024-09-13T05:12:15.055023Z"
    },
    "papermill": {
     "duration": 0.066032,
     "end_time": "2024-09-13T05:12:15.059626",
     "exception": false,
     "start_time": "2024-09-13T05:12:14.993594",
     "status": "completed"
    },
    "tags": []
   },
   "outputs": [
    {
     "data": {
      "text/html": [
       "<div>\n",
       "<style scoped>\n",
       "    .dataframe tbody tr th:only-of-type {\n",
       "        vertical-align: middle;\n",
       "    }\n",
       "\n",
       "    .dataframe tbody tr th {\n",
       "        vertical-align: top;\n",
       "    }\n",
       "\n",
       "    .dataframe thead th {\n",
       "        text-align: right;\n",
       "    }\n",
       "</style>\n",
       "<table border=\"1\" class=\"dataframe\">\n",
       "  <thead>\n",
       "    <tr style=\"text-align: right;\">\n",
       "      <th></th>\n",
       "      <th>basvuru_yili</th>\n",
       "      <th>cinsiyet</th>\n",
       "      <th>universite_turu</th>\n",
       "      <th>burs_aliyor_mu</th>\n",
       "      <th>universite_kacinci_sinif</th>\n",
       "      <th>universite_not_ortalamasi</th>\n",
       "      <th>lise_turu</th>\n",
       "      <th>lise_mezuniyet_notu</th>\n",
       "      <th>baska_bir_kurumdan_burs_aliyor_mu</th>\n",
       "      <th>baska_kurumdan_aldigi_burs_miktari</th>\n",
       "      <th>anne_egitim_durumu</th>\n",
       "      <th>anne_calisma_durumu</th>\n",
       "      <th>anne_sektor</th>\n",
       "      <th>baba_egitim_durumu</th>\n",
       "      <th>baba_calisma_durumu</th>\n",
       "      <th>baba_sektor</th>\n",
       "      <th>kardes_sayisi</th>\n",
       "      <th>girisimcilik_kulupleri_tarzi_bir_kulube_uye_misiniz</th>\n",
       "      <th>profesyonel_bir_spor_daliyla_mesgul_musunuz</th>\n",
       "      <th>aktif_olarak_bir_stk_uyesi_misiniz</th>\n",
       "      <th>ingilizce_biliyor_musunuz</th>\n",
       "      <th>id</th>\n",
       "    </tr>\n",
       "  </thead>\n",
       "  <tbody>\n",
       "    <tr>\n",
       "      <th>1438</th>\n",
       "      <td>2016</td>\n",
       "      <td>kadın</td>\n",
       "      <td>özel</td>\n",
       "      <td>evet</td>\n",
       "      <td>4</td>\n",
       "      <td>3.00 - 3.50</td>\n",
       "      <td>özel lise</td>\n",
       "      <td>NaN</td>\n",
       "      <td>hayır</td>\n",
       "      <td>NaN</td>\n",
       "      <td>lise mezunu</td>\n",
       "      <td>evet</td>\n",
       "      <td>özel sektör</td>\n",
       "      <td>lise mezunu</td>\n",
       "      <td>evet</td>\n",
       "      <td>özel sektör</td>\n",
       "      <td>0</td>\n",
       "      <td>evet</td>\n",
       "      <td>hayır</td>\n",
       "      <td>evet</td>\n",
       "      <td>evet</td>\n",
       "      <td>1438</td>\n",
       "    </tr>\n",
       "    <tr>\n",
       "      <th>62687</th>\n",
       "      <td>2022</td>\n",
       "      <td>kadın</td>\n",
       "      <td>devlet</td>\n",
       "      <td>hayır</td>\n",
       "      <td>1</td>\n",
       "      <td>3.00 - 3.49</td>\n",
       "      <td>devlet</td>\n",
       "      <td>75 - 100</td>\n",
       "      <td>hayır</td>\n",
       "      <td>-</td>\n",
       "      <td>i̇lkokul</td>\n",
       "      <td>hayır</td>\n",
       "      <td>-</td>\n",
       "      <td>ortaokul</td>\n",
       "      <td>hayır</td>\n",
       "      <td>-</td>\n",
       "      <td>4.0</td>\n",
       "      <td>hayır</td>\n",
       "      <td>hayır</td>\n",
       "      <td>evet</td>\n",
       "      <td>evet</td>\n",
       "      <td>62687</td>\n",
       "    </tr>\n",
       "    <tr>\n",
       "      <th>3639</th>\n",
       "      <td>2020</td>\n",
       "      <td>kadın</td>\n",
       "      <td>özel</td>\n",
       "      <td>evet</td>\n",
       "      <td>2</td>\n",
       "      <td>3.00 - 3.50</td>\n",
       "      <td>diğer</td>\n",
       "      <td>75 - 100</td>\n",
       "      <td>evet</td>\n",
       "      <td>diğer</td>\n",
       "      <td>lise</td>\n",
       "      <td>evet</td>\n",
       "      <td>kamu</td>\n",
       "      <td>i̇lkokul</td>\n",
       "      <td>evet</td>\n",
       "      <td>diğer</td>\n",
       "      <td>1</td>\n",
       "      <td>hayır</td>\n",
       "      <td>evet</td>\n",
       "      <td>hayır</td>\n",
       "      <td>evet</td>\n",
       "      <td>3639</td>\n",
       "    </tr>\n",
       "    <tr>\n",
       "      <th>47696</th>\n",
       "      <td>2020</td>\n",
       "      <td>erkek</td>\n",
       "      <td>devlet</td>\n",
       "      <td>hayır</td>\n",
       "      <td>4</td>\n",
       "      <td>3.00 - 3.50</td>\n",
       "      <td>özel</td>\n",
       "      <td>75 - 100</td>\n",
       "      <td>hayır</td>\n",
       "      <td>NaN</td>\n",
       "      <td>lise</td>\n",
       "      <td>hayır</td>\n",
       "      <td>NaN</td>\n",
       "      <td>üniversite</td>\n",
       "      <td>evet</td>\n",
       "      <td>kamu</td>\n",
       "      <td>1.0</td>\n",
       "      <td>hayır</td>\n",
       "      <td>evet</td>\n",
       "      <td>evet</td>\n",
       "      <td>evet</td>\n",
       "      <td>47696</td>\n",
       "    </tr>\n",
       "    <tr>\n",
       "      <th>7978</th>\n",
       "      <td>2019</td>\n",
       "      <td>erkek</td>\n",
       "      <td>özel</td>\n",
       "      <td>evet</td>\n",
       "      <td>4</td>\n",
       "      <td>2.50 ve altı</td>\n",
       "      <td>anadolu lisesi</td>\n",
       "      <td>84-70</td>\n",
       "      <td>hayır</td>\n",
       "      <td>NaN</td>\n",
       "      <td>i̇lkokul mezunu</td>\n",
       "      <td>hayır</td>\n",
       "      <td>NaN</td>\n",
       "      <td>üni̇versi̇te</td>\n",
       "      <td>evet</td>\n",
       "      <td>özel sektör</td>\n",
       "      <td>2</td>\n",
       "      <td>hayır</td>\n",
       "      <td>hayır</td>\n",
       "      <td>hayır</td>\n",
       "      <td>evet</td>\n",
       "      <td>7978</td>\n",
       "    </tr>\n",
       "    <tr>\n",
       "      <th>...</th>\n",
       "      <td>...</td>\n",
       "      <td>...</td>\n",
       "      <td>...</td>\n",
       "      <td>...</td>\n",
       "      <td>...</td>\n",
       "      <td>...</td>\n",
       "      <td>...</td>\n",
       "      <td>...</td>\n",
       "      <td>...</td>\n",
       "      <td>...</td>\n",
       "      <td>...</td>\n",
       "      <td>...</td>\n",
       "      <td>...</td>\n",
       "      <td>...</td>\n",
       "      <td>...</td>\n",
       "      <td>...</td>\n",
       "      <td>...</td>\n",
       "      <td>...</td>\n",
       "      <td>...</td>\n",
       "      <td>...</td>\n",
       "      <td>...</td>\n",
       "      <td>...</td>\n",
       "    </tr>\n",
       "    <tr>\n",
       "      <th>62571</th>\n",
       "      <td>2022</td>\n",
       "      <td>kadın</td>\n",
       "      <td>devlet</td>\n",
       "      <td>hayır</td>\n",
       "      <td>3</td>\n",
       "      <td>1.80 - 2.49</td>\n",
       "      <td>devlet</td>\n",
       "      <td>75 - 100</td>\n",
       "      <td>hayır</td>\n",
       "      <td>-</td>\n",
       "      <td>lise</td>\n",
       "      <td>hayır</td>\n",
       "      <td>-</td>\n",
       "      <td>lise</td>\n",
       "      <td>hayır</td>\n",
       "      <td>-</td>\n",
       "      <td>2.0</td>\n",
       "      <td>evet</td>\n",
       "      <td>hayır</td>\n",
       "      <td>evet</td>\n",
       "      <td>evet</td>\n",
       "      <td>62571</td>\n",
       "    </tr>\n",
       "    <tr>\n",
       "      <th>38159</th>\n",
       "      <td>2019</td>\n",
       "      <td>kadın</td>\n",
       "      <td>devlet</td>\n",
       "      <td>hayır</td>\n",
       "      <td>3</td>\n",
       "      <td>2.50 ve altı</td>\n",
       "      <td>anadolu lisesi</td>\n",
       "      <td>100-85</td>\n",
       "      <td>hayır</td>\n",
       "      <td>NaN</td>\n",
       "      <td>li̇se</td>\n",
       "      <td>evet</td>\n",
       "      <td>di̇ğer</td>\n",
       "      <td>li̇se</td>\n",
       "      <td>emekli</td>\n",
       "      <td>NaN</td>\n",
       "      <td>2.0</td>\n",
       "      <td>hayır</td>\n",
       "      <td>hayır</td>\n",
       "      <td>hayır</td>\n",
       "      <td>evet</td>\n",
       "      <td>38159</td>\n",
       "    </tr>\n",
       "    <tr>\n",
       "      <th>860</th>\n",
       "      <td>2015</td>\n",
       "      <td>erkek</td>\n",
       "      <td>özel</td>\n",
       "      <td>evet</td>\n",
       "      <td>3</td>\n",
       "      <td>2.50 ve altı</td>\n",
       "      <td>anadolu lisesi</td>\n",
       "      <td>3.00-2.50</td>\n",
       "      <td>hayır</td>\n",
       "      <td>NaN</td>\n",
       "      <td>i̇lkokul mezunu</td>\n",
       "      <td>hayır</td>\n",
       "      <td>0</td>\n",
       "      <td>i̇lkokul mezunu</td>\n",
       "      <td>evet</td>\n",
       "      <td>özel sektör</td>\n",
       "      <td>1</td>\n",
       "      <td>evet</td>\n",
       "      <td>hayır</td>\n",
       "      <td>hayır</td>\n",
       "      <td>evet</td>\n",
       "      <td>860</td>\n",
       "    </tr>\n",
       "    <tr>\n",
       "      <th>15796</th>\n",
       "      <td>2015</td>\n",
       "      <td>kadın</td>\n",
       "      <td>devlet</td>\n",
       "      <td>hayır</td>\n",
       "      <td>3</td>\n",
       "      <td>3.50-3</td>\n",
       "      <td>fen lisesi</td>\n",
       "      <td>4.00-3.50</td>\n",
       "      <td>hayır</td>\n",
       "      <td>NaN</td>\n",
       "      <td>lise</td>\n",
       "      <td>hayır</td>\n",
       "      <td>0</td>\n",
       "      <td>üniversite</td>\n",
       "      <td>evet</td>\n",
       "      <td>diğer</td>\n",
       "      <td>1</td>\n",
       "      <td>evet</td>\n",
       "      <td>evet</td>\n",
       "      <td>hayır</td>\n",
       "      <td>evet</td>\n",
       "      <td>15796</td>\n",
       "    </tr>\n",
       "    <tr>\n",
       "      <th>56423</th>\n",
       "      <td>2021</td>\n",
       "      <td>erkek</td>\n",
       "      <td>devlet</td>\n",
       "      <td>hayır</td>\n",
       "      <td>3</td>\n",
       "      <td>3.50 - 4.00</td>\n",
       "      <td>diğer</td>\n",
       "      <td>75 - 100</td>\n",
       "      <td>hayır</td>\n",
       "      <td>NaN</td>\n",
       "      <td>lise</td>\n",
       "      <td>NaN</td>\n",
       "      <td>NaN</td>\n",
       "      <td>üniversite</td>\n",
       "      <td>NaN</td>\n",
       "      <td>kamu</td>\n",
       "      <td>0.0</td>\n",
       "      <td>evet</td>\n",
       "      <td>hayır</td>\n",
       "      <td>NaN</td>\n",
       "      <td>evet</td>\n",
       "      <td>56423</td>\n",
       "    </tr>\n",
       "  </tbody>\n",
       "</table>\n",
       "<p>52099 rows × 22 columns</p>\n",
       "</div>"
      ],
      "text/plain": [
       "       basvuru_yili cinsiyet universite_turu burs_aliyor_mu  \\\n",
       "1438           2016    kadın            özel           evet   \n",
       "62687          2022    kadın          devlet          hayır   \n",
       "3639           2020    kadın            özel           evet   \n",
       "47696          2020    erkek          devlet          hayır   \n",
       "7978           2019    erkek            özel           evet   \n",
       "...             ...      ...             ...            ...   \n",
       "62571          2022    kadın          devlet          hayır   \n",
       "38159          2019    kadın          devlet          hayır   \n",
       "860            2015    erkek            özel           evet   \n",
       "15796          2015    kadın          devlet          hayır   \n",
       "56423          2021    erkek          devlet          hayır   \n",
       "\n",
       "      universite_kacinci_sinif universite_not_ortalamasi       lise_turu  \\\n",
       "1438                         4               3.00 - 3.50       özel lise   \n",
       "62687                        1               3.00 - 3.49          devlet   \n",
       "3639                         2               3.00 - 3.50           diğer   \n",
       "47696                        4               3.00 - 3.50            özel   \n",
       "7978                         4              2.50 ve altı  anadolu lisesi   \n",
       "...                        ...                       ...             ...   \n",
       "62571                        3               1.80 - 2.49          devlet   \n",
       "38159                        3              2.50 ve altı  anadolu lisesi   \n",
       "860                          3              2.50 ve altı  anadolu lisesi   \n",
       "15796                        3                    3.50-3      fen lisesi   \n",
       "56423                        3               3.50 - 4.00           diğer   \n",
       "\n",
       "      lise_mezuniyet_notu baska_bir_kurumdan_burs_aliyor_mu  \\\n",
       "1438                  NaN                             hayır   \n",
       "62687            75 - 100                             hayır   \n",
       "3639             75 - 100                              evet   \n",
       "47696            75 - 100                             hayır   \n",
       "7978                84-70                             hayır   \n",
       "...                   ...                               ...   \n",
       "62571            75 - 100                             hayır   \n",
       "38159              100-85                             hayır   \n",
       "860             3.00-2.50                             hayır   \n",
       "15796           4.00-3.50                             hayır   \n",
       "56423            75 - 100                             hayır   \n",
       "\n",
       "      baska_kurumdan_aldigi_burs_miktari anne_egitim_durumu  \\\n",
       "1438                                 NaN        lise mezunu   \n",
       "62687                                  -           i̇lkokul   \n",
       "3639                               diğer               lise   \n",
       "47696                                NaN               lise   \n",
       "7978                                 NaN    i̇lkokul mezunu   \n",
       "...                                  ...                ...   \n",
       "62571                                  -               lise   \n",
       "38159                                NaN              li̇se   \n",
       "860                                  NaN    i̇lkokul mezunu   \n",
       "15796                                NaN               lise   \n",
       "56423                                NaN               lise   \n",
       "\n",
       "      anne_calisma_durumu  anne_sektor baba_egitim_durumu baba_calisma_durumu  \\\n",
       "1438                 evet  özel sektör        lise mezunu                evet   \n",
       "62687               hayır            -           ortaokul               hayır   \n",
       "3639                 evet         kamu           i̇lkokul                evet   \n",
       "47696               hayır          NaN         üniversite                evet   \n",
       "7978                hayır          NaN       üni̇versi̇te                evet   \n",
       "...                   ...          ...                ...                 ...   \n",
       "62571               hayır            -               lise               hayır   \n",
       "38159                evet       di̇ğer              li̇se              emekli   \n",
       "860                 hayır            0    i̇lkokul mezunu                evet   \n",
       "15796               hayır            0         üniversite                evet   \n",
       "56423                 NaN          NaN         üniversite                 NaN   \n",
       "\n",
       "       baba_sektor kardes_sayisi  \\\n",
       "1438   özel sektör             0   \n",
       "62687            -           4.0   \n",
       "3639         diğer             1   \n",
       "47696         kamu           1.0   \n",
       "7978   özel sektör             2   \n",
       "...            ...           ...   \n",
       "62571            -           2.0   \n",
       "38159          NaN           2.0   \n",
       "860    özel sektör             1   \n",
       "15796        diğer             1   \n",
       "56423         kamu           0.0   \n",
       "\n",
       "      girisimcilik_kulupleri_tarzi_bir_kulube_uye_misiniz  \\\n",
       "1438                                                evet    \n",
       "62687                                              hayır    \n",
       "3639                                               hayır    \n",
       "47696                                              hayır    \n",
       "7978                                               hayır    \n",
       "...                                                  ...    \n",
       "62571                                               evet    \n",
       "38159                                              hayır    \n",
       "860                                                 evet    \n",
       "15796                                               evet    \n",
       "56423                                               evet    \n",
       "\n",
       "      profesyonel_bir_spor_daliyla_mesgul_musunuz  \\\n",
       "1438                                        hayır   \n",
       "62687                                       hayır   \n",
       "3639                                         evet   \n",
       "47696                                        evet   \n",
       "7978                                        hayır   \n",
       "...                                           ...   \n",
       "62571                                       hayır   \n",
       "38159                                       hayır   \n",
       "860                                         hayır   \n",
       "15796                                        evet   \n",
       "56423                                       hayır   \n",
       "\n",
       "      aktif_olarak_bir_stk_uyesi_misiniz ingilizce_biliyor_musunuz     id  \n",
       "1438                                evet                      evet   1438  \n",
       "62687                               evet                      evet  62687  \n",
       "3639                               hayır                      evet   3639  \n",
       "47696                               evet                      evet  47696  \n",
       "7978                               hayır                      evet   7978  \n",
       "...                                  ...                       ...    ...  \n",
       "62571                               evet                      evet  62571  \n",
       "38159                              hayır                      evet  38159  \n",
       "860                                hayır                      evet    860  \n",
       "15796                              hayır                      evet  15796  \n",
       "56423                                NaN                      evet  56423  \n",
       "\n",
       "[52099 rows x 22 columns]"
      ]
     },
     "execution_count": 8,
     "metadata": {},
     "output_type": "execute_result"
    }
   ],
   "source": [
    "X_train"
   ]
  },
  {
   "cell_type": "code",
   "execution_count": 9,
   "id": "8a8dbc9c",
   "metadata": {
    "execution": {
     "iopub.execute_input": "2024-09-13T05:12:15.127189Z",
     "iopub.status.busy": "2024-09-13T05:12:15.126089Z",
     "iopub.status.idle": "2024-09-13T05:12:15.158007Z",
     "shell.execute_reply": "2024-09-13T05:12:15.157016Z"
    },
    "papermill": {
     "duration": 0.066457,
     "end_time": "2024-09-13T05:12:15.160762",
     "exception": false,
     "start_time": "2024-09-13T05:12:15.094305",
     "status": "completed"
    },
    "tags": []
   },
   "outputs": [
    {
     "data": {
      "text/html": [
       "<div>\n",
       "<style scoped>\n",
       "    .dataframe tbody tr th:only-of-type {\n",
       "        vertical-align: middle;\n",
       "    }\n",
       "\n",
       "    .dataframe tbody tr th {\n",
       "        vertical-align: top;\n",
       "    }\n",
       "\n",
       "    .dataframe thead th {\n",
       "        text-align: right;\n",
       "    }\n",
       "</style>\n",
       "<table border=\"1\" class=\"dataframe\">\n",
       "  <thead>\n",
       "    <tr style=\"text-align: right;\">\n",
       "      <th></th>\n",
       "      <th>basvuru_yili</th>\n",
       "      <th>cinsiyet</th>\n",
       "      <th>universite_turu</th>\n",
       "      <th>burs_aliyor_mu</th>\n",
       "      <th>universite_kacinci_sinif</th>\n",
       "      <th>universite_not_ortalamasi</th>\n",
       "      <th>lise_turu</th>\n",
       "      <th>lise_mezuniyet_notu</th>\n",
       "      <th>baska_bir_kurumdan_burs_aliyor_mu</th>\n",
       "      <th>baska_kurumdan_aldigi_burs_miktari</th>\n",
       "      <th>anne_egitim_durumu</th>\n",
       "      <th>anne_calisma_durumu</th>\n",
       "      <th>anne_sektor</th>\n",
       "      <th>baba_egitim_durumu</th>\n",
       "      <th>baba_calisma_durumu</th>\n",
       "      <th>baba_sektor</th>\n",
       "      <th>kardes_sayisi</th>\n",
       "      <th>girisimcilik_kulupleri_tarzi_bir_kulube_uye_misiniz</th>\n",
       "      <th>profesyonel_bir_spor_daliyla_mesgul_musunuz</th>\n",
       "      <th>aktif_olarak_bir_stk_uyesi_misiniz</th>\n",
       "      <th>ingilizce_biliyor_musunuz</th>\n",
       "      <th>id</th>\n",
       "    </tr>\n",
       "  </thead>\n",
       "  <tbody>\n",
       "    <tr>\n",
       "      <th>0</th>\n",
       "      <td>2023</td>\n",
       "      <td>kadın</td>\n",
       "      <td>devlet</td>\n",
       "      <td>hayır</td>\n",
       "      <td>1</td>\n",
       "      <td>2.50 - 2.99</td>\n",
       "      <td>devlet</td>\n",
       "      <td>50 - 74</td>\n",
       "      <td>hayır</td>\n",
       "      <td>-</td>\n",
       "      <td>i̇lkokul</td>\n",
       "      <td>evet</td>\n",
       "      <td>özel sektör</td>\n",
       "      <td>ortaokul</td>\n",
       "      <td>evet</td>\n",
       "      <td>diğer</td>\n",
       "      <td>2.0</td>\n",
       "      <td>hayır</td>\n",
       "      <td>evet</td>\n",
       "      <td>evet</td>\n",
       "      <td>evet</td>\n",
       "      <td>0</td>\n",
       "    </tr>\n",
       "    <tr>\n",
       "      <th>1</th>\n",
       "      <td>2023</td>\n",
       "      <td>kadın</td>\n",
       "      <td>devlet</td>\n",
       "      <td>hayır</td>\n",
       "      <td>1</td>\n",
       "      <td>hazırlığım</td>\n",
       "      <td>devlet</td>\n",
       "      <td>75 - 100</td>\n",
       "      <td>hayır</td>\n",
       "      <td>-</td>\n",
       "      <td>i̇lkokul</td>\n",
       "      <td>hayır</td>\n",
       "      <td>-</td>\n",
       "      <td>i̇lkokul</td>\n",
       "      <td>evet</td>\n",
       "      <td>özel sektör</td>\n",
       "      <td>3.0</td>\n",
       "      <td>hayır</td>\n",
       "      <td>evet</td>\n",
       "      <td>hayır</td>\n",
       "      <td>evet</td>\n",
       "      <td>1</td>\n",
       "    </tr>\n",
       "    <tr>\n",
       "      <th>2</th>\n",
       "      <td>2023</td>\n",
       "      <td>erkek</td>\n",
       "      <td>özel</td>\n",
       "      <td>evet</td>\n",
       "      <td>1</td>\n",
       "      <td>hazırlığım</td>\n",
       "      <td>özel</td>\n",
       "      <td>50 - 74</td>\n",
       "      <td>evet</td>\n",
       "      <td>1000₺ ve üstü</td>\n",
       "      <td>yüksek lisans</td>\n",
       "      <td>hayır</td>\n",
       "      <td>-</td>\n",
       "      <td>üniversite</td>\n",
       "      <td>hayır</td>\n",
       "      <td>-</td>\n",
       "      <td>0.0</td>\n",
       "      <td>hayır</td>\n",
       "      <td>hayır</td>\n",
       "      <td>hayır</td>\n",
       "      <td>evet</td>\n",
       "      <td>2</td>\n",
       "    </tr>\n",
       "    <tr>\n",
       "      <th>3</th>\n",
       "      <td>2023</td>\n",
       "      <td>erkek</td>\n",
       "      <td>devlet</td>\n",
       "      <td>hayır</td>\n",
       "      <td>1</td>\n",
       "      <td>hazırlığım</td>\n",
       "      <td>devlet</td>\n",
       "      <td>75 - 100</td>\n",
       "      <td>hayır</td>\n",
       "      <td>-</td>\n",
       "      <td>i̇lkokul</td>\n",
       "      <td>hayır</td>\n",
       "      <td>-</td>\n",
       "      <td>lise</td>\n",
       "      <td>evet</td>\n",
       "      <td>özel sektör</td>\n",
       "      <td>4.0</td>\n",
       "      <td>hayır</td>\n",
       "      <td>hayır</td>\n",
       "      <td>evet</td>\n",
       "      <td>hayır</td>\n",
       "      <td>3</td>\n",
       "    </tr>\n",
       "    <tr>\n",
       "      <th>4</th>\n",
       "      <td>2023</td>\n",
       "      <td>erkek</td>\n",
       "      <td>devlet</td>\n",
       "      <td>hayır</td>\n",
       "      <td>3</td>\n",
       "      <td>3.00 - 3.49</td>\n",
       "      <td>özel</td>\n",
       "      <td>75 - 100</td>\n",
       "      <td>evet</td>\n",
       "      <td>500₺ - 999₺</td>\n",
       "      <td>üniversite</td>\n",
       "      <td>evet</td>\n",
       "      <td>kamu</td>\n",
       "      <td>üniversite</td>\n",
       "      <td>evet</td>\n",
       "      <td>kamu</td>\n",
       "      <td>1.0</td>\n",
       "      <td>hayır</td>\n",
       "      <td>hayır</td>\n",
       "      <td>evet</td>\n",
       "      <td>evet</td>\n",
       "      <td>4</td>\n",
       "    </tr>\n",
       "    <tr>\n",
       "      <th>...</th>\n",
       "      <td>...</td>\n",
       "      <td>...</td>\n",
       "      <td>...</td>\n",
       "      <td>...</td>\n",
       "      <td>...</td>\n",
       "      <td>...</td>\n",
       "      <td>...</td>\n",
       "      <td>...</td>\n",
       "      <td>...</td>\n",
       "      <td>...</td>\n",
       "      <td>...</td>\n",
       "      <td>...</td>\n",
       "      <td>...</td>\n",
       "      <td>...</td>\n",
       "      <td>...</td>\n",
       "      <td>...</td>\n",
       "      <td>...</td>\n",
       "      <td>...</td>\n",
       "      <td>...</td>\n",
       "      <td>...</td>\n",
       "      <td>...</td>\n",
       "      <td>...</td>\n",
       "    </tr>\n",
       "    <tr>\n",
       "      <th>11044</th>\n",
       "      <td>2023</td>\n",
       "      <td>kadın</td>\n",
       "      <td>devlet</td>\n",
       "      <td>hayır</td>\n",
       "      <td>2</td>\n",
       "      <td>1.80 - 2.49</td>\n",
       "      <td>devlet</td>\n",
       "      <td>75 - 100</td>\n",
       "      <td>evet</td>\n",
       "      <td>1000₺ ve üstü</td>\n",
       "      <td>i̇lkokul</td>\n",
       "      <td>hayır</td>\n",
       "      <td>-</td>\n",
       "      <td>ortaokul</td>\n",
       "      <td>hayır</td>\n",
       "      <td>-</td>\n",
       "      <td>0.0</td>\n",
       "      <td>evet</td>\n",
       "      <td>hayır</td>\n",
       "      <td>evet</td>\n",
       "      <td>evet</td>\n",
       "      <td>11044</td>\n",
       "    </tr>\n",
       "    <tr>\n",
       "      <th>11045</th>\n",
       "      <td>2023</td>\n",
       "      <td>kadın</td>\n",
       "      <td>devlet</td>\n",
       "      <td>hayır</td>\n",
       "      <td>3</td>\n",
       "      <td>3.00 - 3.49</td>\n",
       "      <td>devlet</td>\n",
       "      <td>75 - 100</td>\n",
       "      <td>hayır</td>\n",
       "      <td>-</td>\n",
       "      <td>i̇lkokul</td>\n",
       "      <td>hayır</td>\n",
       "      <td>-</td>\n",
       "      <td>i̇lkokul</td>\n",
       "      <td>evet</td>\n",
       "      <td>kamu</td>\n",
       "      <td>3.0</td>\n",
       "      <td>evet</td>\n",
       "      <td>hayır</td>\n",
       "      <td>evet</td>\n",
       "      <td>hayır</td>\n",
       "      <td>11045</td>\n",
       "    </tr>\n",
       "    <tr>\n",
       "      <th>11046</th>\n",
       "      <td>2023</td>\n",
       "      <td>erkek</td>\n",
       "      <td>devlet</td>\n",
       "      <td>hayır</td>\n",
       "      <td>1</td>\n",
       "      <td>hazırlığım</td>\n",
       "      <td>özel</td>\n",
       "      <td>75 - 100</td>\n",
       "      <td>hayır</td>\n",
       "      <td>-</td>\n",
       "      <td>i̇lkokul</td>\n",
       "      <td>hayır</td>\n",
       "      <td>-</td>\n",
       "      <td>üniversite</td>\n",
       "      <td>evet</td>\n",
       "      <td>diğer</td>\n",
       "      <td>2.0</td>\n",
       "      <td>evet</td>\n",
       "      <td>evet</td>\n",
       "      <td>evet</td>\n",
       "      <td>evet</td>\n",
       "      <td>11046</td>\n",
       "    </tr>\n",
       "    <tr>\n",
       "      <th>11047</th>\n",
       "      <td>2023</td>\n",
       "      <td>kadın</td>\n",
       "      <td>devlet</td>\n",
       "      <td>hayır</td>\n",
       "      <td>4</td>\n",
       "      <td>1.80 - 2.49</td>\n",
       "      <td>devlet</td>\n",
       "      <td>75 - 100</td>\n",
       "      <td>hayır</td>\n",
       "      <td>-</td>\n",
       "      <td>i̇lkokul</td>\n",
       "      <td>hayır</td>\n",
       "      <td>-</td>\n",
       "      <td>ortaokul</td>\n",
       "      <td>evet</td>\n",
       "      <td>diğer</td>\n",
       "      <td>2.0</td>\n",
       "      <td>evet</td>\n",
       "      <td>evet</td>\n",
       "      <td>evet</td>\n",
       "      <td>evet</td>\n",
       "      <td>11047</td>\n",
       "    </tr>\n",
       "    <tr>\n",
       "      <th>11048</th>\n",
       "      <td>2023</td>\n",
       "      <td>kadın</td>\n",
       "      <td>devlet</td>\n",
       "      <td>hayır</td>\n",
       "      <td>4</td>\n",
       "      <td>3.00 - 3.49</td>\n",
       "      <td>devlet</td>\n",
       "      <td>75 - 100</td>\n",
       "      <td>hayır</td>\n",
       "      <td>-</td>\n",
       "      <td>i̇lkokul</td>\n",
       "      <td>hayır</td>\n",
       "      <td>-</td>\n",
       "      <td>üniversite</td>\n",
       "      <td>evet</td>\n",
       "      <td>özel sektör</td>\n",
       "      <td>3.0</td>\n",
       "      <td>hayır</td>\n",
       "      <td>hayır</td>\n",
       "      <td>evet</td>\n",
       "      <td>evet</td>\n",
       "      <td>11048</td>\n",
       "    </tr>\n",
       "  </tbody>\n",
       "</table>\n",
       "<p>11049 rows × 22 columns</p>\n",
       "</div>"
      ],
      "text/plain": [
       "       basvuru_yili cinsiyet universite_turu burs_aliyor_mu  \\\n",
       "0              2023    kadın          devlet          hayır   \n",
       "1              2023    kadın          devlet          hayır   \n",
       "2              2023    erkek            özel           evet   \n",
       "3              2023    erkek          devlet          hayır   \n",
       "4              2023    erkek          devlet          hayır   \n",
       "...             ...      ...             ...            ...   \n",
       "11044          2023    kadın          devlet          hayır   \n",
       "11045          2023    kadın          devlet          hayır   \n",
       "11046          2023    erkek          devlet          hayır   \n",
       "11047          2023    kadın          devlet          hayır   \n",
       "11048          2023    kadın          devlet          hayır   \n",
       "\n",
       "      universite_kacinci_sinif universite_not_ortalamasi lise_turu  \\\n",
       "0                            1               2.50 - 2.99    devlet   \n",
       "1                            1                hazırlığım    devlet   \n",
       "2                            1                hazırlığım      özel   \n",
       "3                            1                hazırlığım    devlet   \n",
       "4                            3               3.00 - 3.49      özel   \n",
       "...                        ...                       ...       ...   \n",
       "11044                        2               1.80 - 2.49    devlet   \n",
       "11045                        3               3.00 - 3.49    devlet   \n",
       "11046                        1                hazırlığım      özel   \n",
       "11047                        4               1.80 - 2.49    devlet   \n",
       "11048                        4               3.00 - 3.49    devlet   \n",
       "\n",
       "      lise_mezuniyet_notu baska_bir_kurumdan_burs_aliyor_mu  \\\n",
       "0                 50 - 74                             hayır   \n",
       "1                75 - 100                             hayır   \n",
       "2                 50 - 74                              evet   \n",
       "3                75 - 100                             hayır   \n",
       "4                75 - 100                              evet   \n",
       "...                   ...                               ...   \n",
       "11044            75 - 100                              evet   \n",
       "11045            75 - 100                             hayır   \n",
       "11046            75 - 100                             hayır   \n",
       "11047            75 - 100                             hayır   \n",
       "11048            75 - 100                             hayır   \n",
       "\n",
       "      baska_kurumdan_aldigi_burs_miktari anne_egitim_durumu  \\\n",
       "0                                      -           i̇lkokul   \n",
       "1                                      -           i̇lkokul   \n",
       "2                          1000₺ ve üstü      yüksek lisans   \n",
       "3                                      -           i̇lkokul   \n",
       "4                            500₺ - 999₺         üniversite   \n",
       "...                                  ...                ...   \n",
       "11044                      1000₺ ve üstü           i̇lkokul   \n",
       "11045                                  -           i̇lkokul   \n",
       "11046                                  -           i̇lkokul   \n",
       "11047                                  -           i̇lkokul   \n",
       "11048                                  -           i̇lkokul   \n",
       "\n",
       "      anne_calisma_durumu  anne_sektor baba_egitim_durumu baba_calisma_durumu  \\\n",
       "0                    evet  özel sektör           ortaokul                evet   \n",
       "1                   hayır            -           i̇lkokul                evet   \n",
       "2                   hayır            -         üniversite               hayır   \n",
       "3                   hayır            -               lise                evet   \n",
       "4                    evet         kamu         üniversite                evet   \n",
       "...                   ...          ...                ...                 ...   \n",
       "11044               hayır            -           ortaokul               hayır   \n",
       "11045               hayır            -           i̇lkokul                evet   \n",
       "11046               hayır            -         üniversite                evet   \n",
       "11047               hayır            -           ortaokul                evet   \n",
       "11048               hayır            -         üniversite                evet   \n",
       "\n",
       "       baba_sektor  kardes_sayisi  \\\n",
       "0            diğer            2.0   \n",
       "1      özel sektör            3.0   \n",
       "2                -            0.0   \n",
       "3      özel sektör            4.0   \n",
       "4             kamu            1.0   \n",
       "...            ...            ...   \n",
       "11044            -            0.0   \n",
       "11045         kamu            3.0   \n",
       "11046        diğer            2.0   \n",
       "11047        diğer            2.0   \n",
       "11048  özel sektör            3.0   \n",
       "\n",
       "      girisimcilik_kulupleri_tarzi_bir_kulube_uye_misiniz  \\\n",
       "0                                                  hayır    \n",
       "1                                                  hayır    \n",
       "2                                                  hayır    \n",
       "3                                                  hayır    \n",
       "4                                                  hayır    \n",
       "...                                                  ...    \n",
       "11044                                               evet    \n",
       "11045                                               evet    \n",
       "11046                                               evet    \n",
       "11047                                               evet    \n",
       "11048                                              hayır    \n",
       "\n",
       "      profesyonel_bir_spor_daliyla_mesgul_musunuz  \\\n",
       "0                                            evet   \n",
       "1                                            evet   \n",
       "2                                           hayır   \n",
       "3                                           hayır   \n",
       "4                                           hayır   \n",
       "...                                           ...   \n",
       "11044                                       hayır   \n",
       "11045                                       hayır   \n",
       "11046                                        evet   \n",
       "11047                                        evet   \n",
       "11048                                       hayır   \n",
       "\n",
       "      aktif_olarak_bir_stk_uyesi_misiniz ingilizce_biliyor_musunuz     id  \n",
       "0                                   evet                      evet      0  \n",
       "1                                  hayır                      evet      1  \n",
       "2                                  hayır                      evet      2  \n",
       "3                                   evet                     hayır      3  \n",
       "4                                   evet                      evet      4  \n",
       "...                                  ...                       ...    ...  \n",
       "11044                               evet                      evet  11044  \n",
       "11045                               evet                     hayır  11045  \n",
       "11046                               evet                      evet  11046  \n",
       "11047                               evet                      evet  11047  \n",
       "11048                               evet                      evet  11048  \n",
       "\n",
       "[11049 rows x 22 columns]"
      ]
     },
     "execution_count": 9,
     "metadata": {},
     "output_type": "execute_result"
    }
   ],
   "source": [
    "test"
   ]
  },
  {
   "cell_type": "code",
   "execution_count": 10,
   "id": "f7110055",
   "metadata": {
    "execution": {
     "iopub.execute_input": "2024-09-13T05:12:15.228595Z",
     "iopub.status.busy": "2024-09-13T05:12:15.227547Z",
     "iopub.status.idle": "2024-09-13T05:12:15.235572Z",
     "shell.execute_reply": "2024-09-13T05:12:15.234445Z"
    },
    "papermill": {
     "duration": 0.042412,
     "end_time": "2024-09-13T05:12:15.237834",
     "exception": false,
     "start_time": "2024-09-13T05:12:15.195422",
     "status": "completed"
    },
    "tags": []
   },
   "outputs": [
    {
     "data": {
      "text/plain": [
       "Index(['basvuru_yili', 'cinsiyet', 'universite_turu', 'burs_aliyor_mu',\n",
       "       'universite_kacinci_sinif', 'universite_not_ortalamasi', 'lise_turu',\n",
       "       'lise_mezuniyet_notu', 'baska_bir_kurumdan_burs_aliyor_mu',\n",
       "       'baska_kurumdan_aldigi_burs_miktari', 'anne_egitim_durumu',\n",
       "       'anne_calisma_durumu', 'anne_sektor', 'baba_egitim_durumu',\n",
       "       'baba_calisma_durumu', 'baba_sektor', 'kardes_sayisi',\n",
       "       'girisimcilik_kulupleri_tarzi_bir_kulube_uye_misiniz',\n",
       "       'profesyonel_bir_spor_daliyla_mesgul_musunuz',\n",
       "       'aktif_olarak_bir_stk_uyesi_misiniz', 'ingilizce_biliyor_musunuz',\n",
       "       'id'],\n",
       "      dtype='object')"
      ]
     },
     "execution_count": 10,
     "metadata": {},
     "output_type": "execute_result"
    }
   ],
   "source": [
    "test.columns"
   ]
  },
  {
   "cell_type": "markdown",
   "id": "7e2a873c",
   "metadata": {
    "papermill": {
     "duration": 0.031782,
     "end_time": "2024-09-13T05:12:15.300808",
     "exception": false,
     "start_time": "2024-09-13T05:12:15.269026",
     "status": "completed"
    },
    "tags": []
   },
   "source": [
    "### cinsiyet"
   ]
  },
  {
   "cell_type": "code",
   "execution_count": 11,
   "id": "d823ffe5",
   "metadata": {
    "execution": {
     "iopub.execute_input": "2024-09-13T05:12:15.413114Z",
     "iopub.status.busy": "2024-09-13T05:12:15.412709Z",
     "iopub.status.idle": "2024-09-13T05:12:15.457587Z",
     "shell.execute_reply": "2024-09-13T05:12:15.456369Z"
    },
    "papermill": {
     "duration": 0.078922,
     "end_time": "2024-09-13T05:12:15.460094",
     "exception": false,
     "start_time": "2024-09-13T05:12:15.381172",
     "status": "completed"
    },
    "tags": []
   },
   "outputs": [
    {
     "name": "stdout",
     "output_type": "stream",
     "text": [
      "['kadın' 'erkek' 'belirtmek istemiyorum' nan]\n",
      "143\n",
      "['kadın' 'erkek' 'belirtmek istemiyorum']\n",
      "0\n"
     ]
    }
   ],
   "source": [
    "print(X_train[\"cinsiyet\"].unique())\n",
    "print(X_train[\"cinsiyet\"].isna().sum())\n",
    "X_train = X_train.dropna(subset=['cinsiyet'])\n",
    "#--------\n",
    "print(X_train[\"cinsiyet\"].unique())\n",
    "print(X_train[\"cinsiyet\"].isna().sum())"
   ]
  },
  {
   "cell_type": "code",
   "execution_count": 12,
   "id": "832a842d",
   "metadata": {
    "execution": {
     "iopub.execute_input": "2024-09-13T05:12:15.523588Z",
     "iopub.status.busy": "2024-09-13T05:12:15.522684Z",
     "iopub.status.idle": "2024-09-13T05:12:15.531004Z",
     "shell.execute_reply": "2024-09-13T05:12:15.530020Z"
    },
    "papermill": {
     "duration": 0.041976,
     "end_time": "2024-09-13T05:12:15.533106",
     "exception": false,
     "start_time": "2024-09-13T05:12:15.491130",
     "status": "completed"
    },
    "tags": []
   },
   "outputs": [
    {
     "data": {
      "text/plain": [
       "array(['kadın', 'erkek', 'belirtmek istemiyorum'], dtype=object)"
      ]
     },
     "execution_count": 12,
     "metadata": {},
     "output_type": "execute_result"
    }
   ],
   "source": [
    "test[\"cinsiyet\"].unique()"
   ]
  },
  {
   "cell_type": "markdown",
   "id": "6fd55175",
   "metadata": {
    "papermill": {
     "duration": 0.030758,
     "end_time": "2024-09-13T05:12:15.594666",
     "exception": false,
     "start_time": "2024-09-13T05:12:15.563908",
     "status": "completed"
    },
    "tags": []
   },
   "source": [
    "### universite_turu"
   ]
  },
  {
   "cell_type": "code",
   "execution_count": 13,
   "id": "d9217dc5",
   "metadata": {
    "execution": {
     "iopub.execute_input": "2024-09-13T05:12:15.657933Z",
     "iopub.status.busy": "2024-09-13T05:12:15.657495Z",
     "iopub.status.idle": "2024-09-13T05:12:15.706189Z",
     "shell.execute_reply": "2024-09-13T05:12:15.705023Z"
    },
    "papermill": {
     "duration": 0.083442,
     "end_time": "2024-09-13T05:12:15.708960",
     "exception": false,
     "start_time": "2024-09-13T05:12:15.625518",
     "status": "completed"
    },
    "tags": []
   },
   "outputs": [
    {
     "name": "stdout",
     "output_type": "stream",
     "text": [
      "['özel' 'devlet' nan]\n",
      "169\n",
      "['özel' 'devlet']\n",
      "0\n"
     ]
    },
    {
     "name": "stderr",
     "output_type": "stream",
     "text": [
      "/tmp/ipykernel_17/1880890551.py:3: SettingWithCopyWarning: \n",
      "A value is trying to be set on a copy of a slice from a DataFrame\n",
      "\n",
      "See the caveats in the documentation: https://pandas.pydata.org/pandas-docs/stable/user_guide/indexing.html#returning-a-view-versus-a-copy\n",
      "  X_train.dropna(subset=['universite_turu'], inplace=True)\n"
     ]
    }
   ],
   "source": [
    "print(X_train[\"universite_turu\"].unique())\n",
    "print(X_train[\"universite_turu\"].isna().sum())\n",
    "X_train.dropna(subset=['universite_turu'], inplace=True)\n",
    "#--------\n",
    "print(X_train[\"universite_turu\"].unique())\n",
    "print(X_train[\"universite_turu\"].isna().sum())"
   ]
  },
  {
   "cell_type": "code",
   "execution_count": 14,
   "id": "e4c46814",
   "metadata": {
    "execution": {
     "iopub.execute_input": "2024-09-13T05:12:15.771803Z",
     "iopub.status.busy": "2024-09-13T05:12:15.771413Z",
     "iopub.status.idle": "2024-09-13T05:12:15.779061Z",
     "shell.execute_reply": "2024-09-13T05:12:15.778091Z"
    },
    "papermill": {
     "duration": 0.041599,
     "end_time": "2024-09-13T05:12:15.781189",
     "exception": false,
     "start_time": "2024-09-13T05:12:15.739590",
     "status": "completed"
    },
    "tags": []
   },
   "outputs": [
    {
     "data": {
      "text/plain": [
       "array(['devlet', 'özel'], dtype=object)"
      ]
     },
     "execution_count": 14,
     "metadata": {},
     "output_type": "execute_result"
    }
   ],
   "source": [
    "test[\"universite_turu\"].unique()"
   ]
  },
  {
   "cell_type": "markdown",
   "id": "acbf42c7",
   "metadata": {
    "papermill": {
     "duration": 0.037511,
     "end_time": "2024-09-13T05:12:15.857300",
     "exception": false,
     "start_time": "2024-09-13T05:12:15.819789",
     "status": "completed"
    },
    "tags": []
   },
   "source": [
    "### burs_aliyor_mu"
   ]
  },
  {
   "cell_type": "code",
   "execution_count": 15,
   "id": "74ac4df7",
   "metadata": {
    "execution": {
     "iopub.execute_input": "2024-09-13T05:12:15.931762Z",
     "iopub.status.busy": "2024-09-13T05:12:15.930642Z",
     "iopub.status.idle": "2024-09-13T05:12:15.985291Z",
     "shell.execute_reply": "2024-09-13T05:12:15.983916Z"
    },
    "papermill": {
     "duration": 0.098295,
     "end_time": "2024-09-13T05:12:15.988017",
     "exception": false,
     "start_time": "2024-09-13T05:12:15.889722",
     "status": "completed"
    },
    "tags": []
   },
   "outputs": [
    {
     "name": "stdout",
     "output_type": "stream",
     "text": [
      "['evet' 'hayır']\n",
      "0\n",
      "['evet' 'hayır']\n",
      "0\n"
     ]
    },
    {
     "name": "stderr",
     "output_type": "stream",
     "text": [
      "/tmp/ipykernel_17/845905770.py:3: SettingWithCopyWarning: \n",
      "A value is trying to be set on a copy of a slice from a DataFrame\n",
      "\n",
      "See the caveats in the documentation: https://pandas.pydata.org/pandas-docs/stable/user_guide/indexing.html#returning-a-view-versus-a-copy\n",
      "  X_train.dropna(subset=['burs_aliyor_mu'], inplace=True)\n"
     ]
    }
   ],
   "source": [
    "print(X_train[\"burs_aliyor_mu\"].unique())\n",
    "print(X_train[\"burs_aliyor_mu\"].isna().sum())\n",
    "X_train.dropna(subset=['burs_aliyor_mu'], inplace=True)\n",
    "#--------\n",
    "print(X_train[\"burs_aliyor_mu\"].unique())\n",
    "print(X_train[\"burs_aliyor_mu\"].isna().sum())"
   ]
  },
  {
   "cell_type": "code",
   "execution_count": 16,
   "id": "9ed177bc",
   "metadata": {
    "execution": {
     "iopub.execute_input": "2024-09-13T05:12:16.053034Z",
     "iopub.status.busy": "2024-09-13T05:12:16.051813Z",
     "iopub.status.idle": "2024-09-13T05:12:16.061024Z",
     "shell.execute_reply": "2024-09-13T05:12:16.059756Z"
    },
    "papermill": {
     "duration": 0.043702,
     "end_time": "2024-09-13T05:12:16.063139",
     "exception": false,
     "start_time": "2024-09-13T05:12:16.019437",
     "status": "completed"
    },
    "tags": []
   },
   "outputs": [
    {
     "data": {
      "text/plain": [
       "array(['hayır', 'evet'], dtype=object)"
      ]
     },
     "execution_count": 16,
     "metadata": {},
     "output_type": "execute_result"
    }
   ],
   "source": [
    "test[\"burs_aliyor_mu\"].unique()"
   ]
  },
  {
   "cell_type": "markdown",
   "id": "9c720406",
   "metadata": {
    "papermill": {
     "duration": 0.032131,
     "end_time": "2024-09-13T05:12:16.126701",
     "exception": false,
     "start_time": "2024-09-13T05:12:16.094570",
     "status": "completed"
    },
    "tags": []
   },
   "source": [
    "### universite_kacinci_sinif"
   ]
  },
  {
   "cell_type": "code",
   "execution_count": 17,
   "id": "c7f96bd4",
   "metadata": {
    "execution": {
     "iopub.execute_input": "2024-09-13T05:12:16.198601Z",
     "iopub.status.busy": "2024-09-13T05:12:16.197618Z",
     "iopub.status.idle": "2024-09-13T05:12:16.213644Z",
     "shell.execute_reply": "2024-09-13T05:12:16.212580Z"
    },
    "papermill": {
     "duration": 0.058483,
     "end_time": "2024-09-13T05:12:16.216316",
     "exception": false,
     "start_time": "2024-09-13T05:12:16.157833",
     "status": "completed"
    },
    "tags": []
   },
   "outputs": [
    {
     "name": "stdout",
     "output_type": "stream",
     "text": [
      "universite_kacinci_sinif\n",
      "2                17271\n",
      "3                13475\n",
      "4                10443\n",
      "1                 8194\n",
      "hazırlık          1057\n",
      "5                  784\n",
      "6                  140\n",
      "mezun              135\n",
      "yüksek lisans       15\n",
      "tez                  7\n",
      "0                    3\n",
      "Name: count, dtype: int64\n"
     ]
    }
   ],
   "source": [
    "print(X_train[\"universite_kacinci_sinif\"].value_counts())"
   ]
  },
  {
   "cell_type": "code",
   "execution_count": 18,
   "id": "591e6422",
   "metadata": {
    "execution": {
     "iopub.execute_input": "2024-09-13T05:12:16.289237Z",
     "iopub.status.busy": "2024-09-13T05:12:16.288820Z",
     "iopub.status.idle": "2024-09-13T05:12:16.384133Z",
     "shell.execute_reply": "2024-09-13T05:12:16.383003Z"
    },
    "papermill": {
     "duration": 0.133449,
     "end_time": "2024-09-13T05:12:16.386508",
     "exception": false,
     "start_time": "2024-09-13T05:12:16.253059",
     "status": "completed"
    },
    "tags": []
   },
   "outputs": [
    {
     "name": "stdout",
     "output_type": "stream",
     "text": [
      "['4' '1' '2' '3' '6' 'hazırlık' nan '5' 'yüksek lisans' 'mezun' 'tez' '0']\n",
      "263\n",
      "['4' '1' '2' '3' '6' 'hazırlık' '5']\n",
      "0\n"
     ]
    },
    {
     "name": "stderr",
     "output_type": "stream",
     "text": [
      "/tmp/ipykernel_17/691267388.py:3: SettingWithCopyWarning: \n",
      "A value is trying to be set on a copy of a slice from a DataFrame\n",
      "\n",
      "See the caveats in the documentation: https://pandas.pydata.org/pandas-docs/stable/user_guide/indexing.html#returning-a-view-versus-a-copy\n",
      "  X_train.dropna(subset=['universite_kacinci_sinif'], inplace=True)\n"
     ]
    }
   ],
   "source": [
    "print(X_train[\"universite_kacinci_sinif\"].unique())\n",
    "print(X_train[\"universite_kacinci_sinif\"].isna().sum())\n",
    "X_train.dropna(subset=['universite_kacinci_sinif'], inplace=True)\n",
    "\n",
    "X_train = X_train.loc[~X_train['universite_kacinci_sinif'].isin(['mezun', 'yüksek lisans', 'tez', '0'])]\n",
    "X_train.dropna(subset=['universite_kacinci_sinif'], inplace=True)\n",
    "#--------\n",
    "print(X_train[\"universite_kacinci_sinif\"].unique())\n",
    "print(X_train[\"universite_kacinci_sinif\"].isna().sum())"
   ]
  },
  {
   "cell_type": "code",
   "execution_count": 19,
   "id": "bcec86ee",
   "metadata": {
    "execution": {
     "iopub.execute_input": "2024-09-13T05:12:16.451518Z",
     "iopub.status.busy": "2024-09-13T05:12:16.451129Z",
     "iopub.status.idle": "2024-09-13T05:12:16.459114Z",
     "shell.execute_reply": "2024-09-13T05:12:16.458125Z"
    },
    "papermill": {
     "duration": 0.043023,
     "end_time": "2024-09-13T05:12:16.461236",
     "exception": false,
     "start_time": "2024-09-13T05:12:16.418213",
     "status": "completed"
    },
    "tags": []
   },
   "outputs": [
    {
     "data": {
      "text/plain": [
       "array(['1', '3', '2', '4', 'hazırlık', '5', '6'], dtype=object)"
      ]
     },
     "execution_count": 19,
     "metadata": {},
     "output_type": "execute_result"
    }
   ],
   "source": [
    "test[\"universite_kacinci_sinif\"].unique()"
   ]
  },
  {
   "cell_type": "code",
   "execution_count": 20,
   "id": "e2beaaac",
   "metadata": {
    "execution": {
     "iopub.execute_input": "2024-09-13T05:12:16.526097Z",
     "iopub.status.busy": "2024-09-13T05:12:16.525333Z",
     "iopub.status.idle": "2024-09-13T05:12:16.533563Z",
     "shell.execute_reply": "2024-09-13T05:12:16.532600Z"
    },
    "papermill": {
     "duration": 0.042769,
     "end_time": "2024-09-13T05:12:16.535538",
     "exception": false,
     "start_time": "2024-09-13T05:12:16.492769",
     "status": "completed"
    },
    "tags": []
   },
   "outputs": [
    {
     "name": "stdout",
     "output_type": "stream",
     "text": [
      "0\n"
     ]
    }
   ],
   "source": [
    "print(X_train[\"universite_kacinci_sinif\"].isna().sum())"
   ]
  },
  {
   "cell_type": "markdown",
   "id": "95a879ce",
   "metadata": {
    "papermill": {
     "duration": 0.038046,
     "end_time": "2024-09-13T05:12:16.605146",
     "exception": false,
     "start_time": "2024-09-13T05:12:16.567100",
     "status": "completed"
    },
    "tags": []
   },
   "source": [
    "### universite_not_ortalamasi"
   ]
  },
  {
   "cell_type": "code",
   "execution_count": 21,
   "id": "f78c7b59",
   "metadata": {
    "execution": {
     "iopub.execute_input": "2024-09-13T05:12:16.672132Z",
     "iopub.status.busy": "2024-09-13T05:12:16.671428Z",
     "iopub.status.idle": "2024-09-13T05:12:16.684118Z",
     "shell.execute_reply": "2024-09-13T05:12:16.682736Z"
    },
    "papermill": {
     "duration": 0.04821,
     "end_time": "2024-09-13T05:12:16.686258",
     "exception": false,
     "start_time": "2024-09-13T05:12:16.638048",
     "status": "completed"
    },
    "tags": []
   },
   "outputs": [
    {
     "name": "stdout",
     "output_type": "stream",
     "text": [
      "universite_not_ortalamasi\n",
      "3.00-2.50              8453\n",
      "2.50 ve altı           8328\n",
      "3.00 - 3.50            6207\n",
      "3.50-3                 4896\n",
      "2.50 - 3.00            4551\n",
      "3.50 - 4.00            3507\n",
      "ortalama bulunmuyor    2250\n",
      "2.50 - 2.99            1964\n",
      "2.00 - 2.50            1959\n",
      "3.00 - 3.49            1911\n",
      "2.50 -3.00             1377\n",
      "3.00 - 4.00            1131\n",
      "1.80 - 2.49             920\n",
      "hazırlığım              549\n",
      "not ortalaması yok      474\n",
      "4-3.5                   376\n",
      "1.00 - 2.50             257\n",
      "0 - 1.79                149\n",
      "Name: count, dtype: int64\n"
     ]
    }
   ],
   "source": [
    "print(X_train[\"universite_not_ortalamasi\"].value_counts())"
   ]
  },
  {
   "cell_type": "code",
   "execution_count": 22,
   "id": "fb2159e4",
   "metadata": {
    "execution": {
     "iopub.execute_input": "2024-09-13T05:12:16.752017Z",
     "iopub.status.busy": "2024-09-13T05:12:16.751595Z",
     "iopub.status.idle": "2024-09-13T05:12:16.892550Z",
     "shell.execute_reply": "2024-09-13T05:12:16.891309Z"
    },
    "papermill": {
     "duration": 0.176494,
     "end_time": "2024-09-13T05:12:16.894886",
     "exception": false,
     "start_time": "2024-09-13T05:12:16.718392",
     "status": "completed"
    },
    "tags": []
   },
   "outputs": [
    {
     "name": "stdout",
     "output_type": "stream",
     "text": [
      "['3.00 - 3.50' '3.00 - 3.49' '2.50 ve altı' '2.50 - 3.00' nan '3.00-2.50'\n",
      " '2.50 - 2.99' '2.00 - 2.50' '3.50-3' '2.50 -3.00' '3.50 - 4.00'\n",
      " 'ortalama bulunmuyor' '4-3.5' '3.00 - 4.00' '1.80 - 2.49'\n",
      " 'not ortalaması yok' '1.00 - 2.50' 'hazırlığım' '0 - 1.79']\n",
      "2105\n",
      "['3.00 - 3.49' '1.80 - 2.49' '2.50 - 2.99' '3.50 - 4.00' 'hazırlığım'\n",
      " '0 - 1.79']\n",
      "0\n"
     ]
    }
   ],
   "source": [
    "print(X_train[\"universite_not_ortalamasi\"].unique())\n",
    "print(X_train[\"universite_not_ortalamasi\"].isna().sum())\n",
    "X_train.dropna(subset=['universite_not_ortalamasi'], inplace=True)\n",
    "#X_train = X_train.loc[~X_train['universite_kacinci_sinif'].isin(['mezun', 'yüksek lisans', 'tez', '0'])]\n",
    "X_train['universite_not_ortalamasi'] = X_train['universite_not_ortalamasi'].replace('3.00-2.50', '2.50 - 2.99')\n",
    "X_train['universite_not_ortalamasi'] = X_train['universite_not_ortalamasi'].replace('2.50 ve altı', '1.80 - 2.49')\n",
    "X_train['universite_not_ortalamasi'] = X_train['universite_not_ortalamasi'].replace('3.00 - 3.50', '3.00 - 3.49')\n",
    "X_train['universite_not_ortalamasi'] = X_train['universite_not_ortalamasi'].replace('3.50-3', '3.00 - 3.49')\n",
    "X_train['universite_not_ortalamasi'] = X_train['universite_not_ortalamasi'].replace('2.50 - 3.00', '2.50 - 2.99')\n",
    "X_train['universite_not_ortalamasi'] = X_train['universite_not_ortalamasi'].replace('3.50 - 4.00', '3.50 - 4.00')\n",
    "X_train['universite_not_ortalamasi'] = X_train['universite_not_ortalamasi'].replace('ortalama bulunmuyor', 'hazırlığım')\n",
    "X_train['universite_not_ortalamasi'] = X_train['universite_not_ortalamasi'].replace('2.50 - 2.99', '2.50 - 2.99')\n",
    "X_train['universite_not_ortalamasi'] = X_train['universite_not_ortalamasi'].replace('2.00 - 2.50', '1.80 - 2.49')\n",
    "X_train['universite_not_ortalamasi'] = X_train['universite_not_ortalamasi'].replace('3.00 - 3.49', '3.00 - 3.49')\n",
    "X_train['universite_not_ortalamasi'] = X_train['universite_not_ortalamasi'].replace('2.50 -3.00', '2.50 - 2.99')\n",
    "X_train['universite_not_ortalamasi'] = X_train['universite_not_ortalamasi'].replace('3.00 - 4.00', '3.00 - 3.49') #çoğunluğu 3.50 altındadır diye şimdilik bunu seçiyorum\n",
    "X_train['universite_not_ortalamasi'] = X_train['universite_not_ortalamasi'].replace('1.80 - 2.49', '1.80 - 2.49')\n",
    "X_train['universite_not_ortalamasi'] = X_train['universite_not_ortalamasi'].replace('not ortalaması yok', 'hazırlığım')\n",
    "X_train['universite_not_ortalamasi'] = X_train['universite_not_ortalamasi'].replace('4-3.5', '3.50 - 4.00')\n",
    "X_train['universite_not_ortalamasi'] = X_train['universite_not_ortalamasi'].replace('1.00 - 2.50', '1.80 - 2.49')\n",
    "X_train['universite_not_ortalamasi'] = X_train['universite_not_ortalamasi'].replace('0 - 1.79', '0 - 1.79')\n",
    "\n",
    "#--------\n",
    "print(X_train[\"universite_not_ortalamasi\"].unique())\n",
    "print(X_train[\"universite_not_ortalamasi\"].isna().sum())"
   ]
  },
  {
   "cell_type": "code",
   "execution_count": 23,
   "id": "8eda5954",
   "metadata": {
    "execution": {
     "iopub.execute_input": "2024-09-13T05:12:16.960106Z",
     "iopub.status.busy": "2024-09-13T05:12:16.959680Z",
     "iopub.status.idle": "2024-09-13T05:12:16.967124Z",
     "shell.execute_reply": "2024-09-13T05:12:16.966151Z"
    },
    "papermill": {
     "duration": 0.042379,
     "end_time": "2024-09-13T05:12:16.969194",
     "exception": false,
     "start_time": "2024-09-13T05:12:16.926815",
     "status": "completed"
    },
    "tags": []
   },
   "outputs": [
    {
     "data": {
      "text/plain": [
       "array(['2.50 - 2.99', 'hazırlığım', '3.00 - 3.49', '1.80 - 2.49',\n",
       "       '3.50 - 4.00', '0 - 1.79'], dtype=object)"
      ]
     },
     "execution_count": 23,
     "metadata": {},
     "output_type": "execute_result"
    }
   ],
   "source": [
    "test[\"universite_not_ortalamasi\"].unique()"
   ]
  },
  {
   "cell_type": "code",
   "execution_count": 24,
   "id": "af244e64",
   "metadata": {
    "execution": {
     "iopub.execute_input": "2024-09-13T05:12:17.035283Z",
     "iopub.status.busy": "2024-09-13T05:12:17.034879Z",
     "iopub.status.idle": "2024-09-13T05:12:17.046686Z",
     "shell.execute_reply": "2024-09-13T05:12:17.045717Z"
    },
    "papermill": {
     "duration": 0.047399,
     "end_time": "2024-09-13T05:12:17.049398",
     "exception": false,
     "start_time": "2024-09-13T05:12:17.001999",
     "status": "completed"
    },
    "tags": []
   },
   "outputs": [
    {
     "name": "stdout",
     "output_type": "stream",
     "text": [
      "universite_not_ortalamasi\n",
      "2.50 - 2.99    16345\n",
      "3.00 - 3.49    14145\n",
      "1.80 - 2.49    11464\n",
      "3.50 - 4.00     3883\n",
      "hazırlığım      3273\n",
      "0 - 1.79         149\n",
      "Name: count, dtype: int64\n",
      "0\n"
     ]
    }
   ],
   "source": [
    "print(X_train[\"universite_not_ortalamasi\"].value_counts())\n",
    "print(X_train[\"universite_not_ortalamasi\"].isna().sum())"
   ]
  },
  {
   "cell_type": "markdown",
   "id": "40b91c54",
   "metadata": {
    "papermill": {
     "duration": 0.03155,
     "end_time": "2024-09-13T05:12:17.112952",
     "exception": false,
     "start_time": "2024-09-13T05:12:17.081402",
     "status": "completed"
    },
    "tags": []
   },
   "source": [
    "### lise_turu"
   ]
  },
  {
   "cell_type": "code",
   "execution_count": 25,
   "id": "412f63de",
   "metadata": {
    "execution": {
     "iopub.execute_input": "2024-09-13T05:12:17.178613Z",
     "iopub.status.busy": "2024-09-13T05:12:17.178210Z",
     "iopub.status.idle": "2024-09-13T05:12:17.191374Z",
     "shell.execute_reply": "2024-09-13T05:12:17.190243Z"
    },
    "papermill": {
     "duration": 0.048893,
     "end_time": "2024-09-13T05:12:17.193556",
     "exception": false,
     "start_time": "2024-09-13T05:12:17.144663",
     "status": "completed"
    },
    "tags": []
   },
   "outputs": [
    {
     "name": "stdout",
     "output_type": "stream",
     "text": [
      "lise_turu\n",
      "anadolu lisesi        15186\n",
      "diğer                 10363\n",
      "devlet                 4988\n",
      "düz lise               4893\n",
      "özel                   3711\n",
      "meslek lisesi          2883\n",
      "fen lisesi             2140\n",
      "meslek                 1933\n",
      "özel lisesi            1484\n",
      "i̇mam hatip lisesi      874\n",
      "özel lise               265\n",
      "Name: count, dtype: int64\n"
     ]
    }
   ],
   "source": [
    "print(X_train[\"lise_turu\"].value_counts())"
   ]
  },
  {
   "cell_type": "code",
   "execution_count": 26,
   "id": "6638af0a",
   "metadata": {
    "execution": {
     "iopub.execute_input": "2024-09-13T05:12:17.259558Z",
     "iopub.status.busy": "2024-09-13T05:12:17.258803Z",
     "iopub.status.idle": "2024-09-13T05:12:17.356416Z",
     "shell.execute_reply": "2024-09-13T05:12:17.355357Z"
    },
    "papermill": {
     "duration": 0.133437,
     "end_time": "2024-09-13T05:12:17.358913",
     "exception": false,
     "start_time": "2024-09-13T05:12:17.225476",
     "status": "completed"
    },
    "tags": []
   },
   "outputs": [
    {
     "name": "stdout",
     "output_type": "stream",
     "text": [
      "['özel lise' 'devlet' 'diğer' 'özel' 'anadolu lisesi' 'düz lise' 'meslek'\n",
      " 'fen lisesi' 'özel lisesi' nan 'meslek lisesi' 'i̇mam hatip lisesi']\n",
      "11\n",
      "539\n",
      "--------\n",
      "['devlet' 'özel']\n",
      "0\n"
     ]
    }
   ],
   "source": [
    "print(X_train[\"lise_turu\"].unique())\n",
    "print(X_train[\"lise_turu\"].nunique())\n",
    "print(X_train[\"lise_turu\"].isna().sum())\n",
    "X_train.dropna(subset=['lise_turu'], inplace=True)\n",
    "X_train['lise_turu'] = X_train['lise_turu'].replace('anadolu lisesi', 'devlet')\n",
    "X_train['lise_turu'] = X_train['lise_turu'].replace('diğer', 'özel')\n",
    "X_train['lise_turu'] = X_train['lise_turu'].replace('düz lise', 'devlet')\n",
    "X_train['lise_turu'] = X_train['lise_turu'].replace('meslek lisesi', 'devlet')\n",
    "X_train['lise_turu'] = X_train['lise_turu'].replace('fen lisesi', 'devlet')\n",
    "X_train['lise_turu'] = X_train['lise_turu'].replace('meslek', 'devlet')\n",
    "X_train['lise_turu'] = X_train['lise_turu'].replace('özel lisesi', 'özel')\n",
    "X_train['lise_turu'] = X_train['lise_turu'].replace('i̇mam hatip lisesi', 'devlet')\n",
    "X_train['lise_turu'] = X_train['lise_turu'].replace('özel lise', 'devlet')\n",
    "\n",
    "print(\"--------\")\n",
    "print(X_train[\"lise_turu\"].unique())\n",
    "print(X_train[\"lise_turu\"].isna().sum())"
   ]
  },
  {
   "cell_type": "code",
   "execution_count": 27,
   "id": "2e54f0c8",
   "metadata": {
    "execution": {
     "iopub.execute_input": "2024-09-13T05:12:17.425797Z",
     "iopub.status.busy": "2024-09-13T05:12:17.424825Z",
     "iopub.status.idle": "2024-09-13T05:12:17.432758Z",
     "shell.execute_reply": "2024-09-13T05:12:17.431797Z"
    },
    "papermill": {
     "duration": 0.04309,
     "end_time": "2024-09-13T05:12:17.434780",
     "exception": false,
     "start_time": "2024-09-13T05:12:17.391690",
     "status": "completed"
    },
    "tags": []
   },
   "outputs": [
    {
     "data": {
      "text/plain": [
       "array(['devlet', 'özel'], dtype=object)"
      ]
     },
     "execution_count": 27,
     "metadata": {},
     "output_type": "execute_result"
    }
   ],
   "source": [
    "test[\"lise_turu\"].unique()"
   ]
  },
  {
   "cell_type": "code",
   "execution_count": 28,
   "id": "81ea3a32",
   "metadata": {
    "execution": {
     "iopub.execute_input": "2024-09-13T05:12:17.501033Z",
     "iopub.status.busy": "2024-09-13T05:12:17.500608Z",
     "iopub.status.idle": "2024-09-13T05:12:17.510407Z",
     "shell.execute_reply": "2024-09-13T05:12:17.509405Z"
    },
    "papermill": {
     "duration": 0.04578,
     "end_time": "2024-09-13T05:12:17.512827",
     "exception": false,
     "start_time": "2024-09-13T05:12:17.467047",
     "status": "completed"
    },
    "tags": []
   },
   "outputs": [
    {
     "name": "stdout",
     "output_type": "stream",
     "text": [
      "lise_turu\n",
      "devlet    33162\n",
      "özel      15558\n",
      "Name: count, dtype: int64\n"
     ]
    }
   ],
   "source": [
    "print(X_train[\"lise_turu\"].value_counts())"
   ]
  },
  {
   "cell_type": "markdown",
   "id": "d60659e1",
   "metadata": {
    "papermill": {
     "duration": 0.031965,
     "end_time": "2024-09-13T05:12:17.577214",
     "exception": false,
     "start_time": "2024-09-13T05:12:17.545249",
     "status": "completed"
    },
    "tags": []
   },
   "source": [
    "### lise_mezuniyet_notu"
   ]
  },
  {
   "cell_type": "code",
   "execution_count": 29,
   "id": "2d4775c4",
   "metadata": {
    "execution": {
     "iopub.execute_input": "2024-09-13T05:12:17.643697Z",
     "iopub.status.busy": "2024-09-13T05:12:17.642762Z",
     "iopub.status.idle": "2024-09-13T05:12:17.654709Z",
     "shell.execute_reply": "2024-09-13T05:12:17.653675Z"
    },
    "papermill": {
     "duration": 0.047655,
     "end_time": "2024-09-13T05:12:17.657200",
     "exception": false,
     "start_time": "2024-09-13T05:12:17.609545",
     "status": "completed"
    },
    "tags": []
   },
   "outputs": [
    {
     "name": "stdout",
     "output_type": "stream",
     "text": [
      "lise_mezuniyet_notu\n",
      "75 - 100              17704\n",
      "84-70                  7155\n",
      "100-85                 5495\n",
      "50 - 75                2374\n",
      "4.00-3.50              2303\n",
      "3.00 - 4.00            1971\n",
      "3.50-3.00              1757\n",
      "69-55                  1666\n",
      "3.50-3                 1491\n",
      "3.00-2.50              1449\n",
      "50 - 74                 805\n",
      "2.50 ve altı            148\n",
      "54-45                    70\n",
      "25 - 50                  13\n",
      "not ortalaması yok       11\n",
      "44-0                      5\n",
      "0 - 25                    3\n",
      "0 - 24                    1\n",
      "Name: count, dtype: int64\n"
     ]
    }
   ],
   "source": [
    "print(X_train[\"lise_mezuniyet_notu\"].value_counts())"
   ]
  },
  {
   "cell_type": "code",
   "execution_count": 30,
   "id": "4b9f2cac",
   "metadata": {
    "execution": {
     "iopub.execute_input": "2024-09-13T05:12:17.723869Z",
     "iopub.status.busy": "2024-09-13T05:12:17.722956Z",
     "iopub.status.idle": "2024-09-13T05:12:17.861371Z",
     "shell.execute_reply": "2024-09-13T05:12:17.860181Z"
    },
    "papermill": {
     "duration": 0.174202,
     "end_time": "2024-09-13T05:12:17.863861",
     "exception": false,
     "start_time": "2024-09-13T05:12:17.689659",
     "status": "completed"
    },
    "tags": []
   },
   "outputs": [
    {
     "name": "stdout",
     "output_type": "stream",
     "text": [
      "[nan '75 - 100' '84-70' '3.50-3.00' '50 - 74' '50 - 75' '100-85'\n",
      " '3.00 - 4.00' '3.00-2.50' '4.00-3.50' '69-55' '3.50-3' '2.50 ve altı'\n",
      " 'not ortalaması yok' '54-45' '25 - 50' '44-0' '0 - 24' '0 - 25']\n",
      "18\n",
      "4299\n",
      "--------\n",
      "['75 - 100' '50 - 74' '25 - 49']\n",
      "3\n",
      "0\n"
     ]
    }
   ],
   "source": [
    "print(X_train[\"lise_mezuniyet_notu\"].unique())\n",
    "print(X_train[\"lise_mezuniyet_notu\"].nunique())\n",
    "print(X_train[\"lise_mezuniyet_notu\"].isna().sum())\n",
    "X_train.dropna(subset=['lise_mezuniyet_notu'], inplace=True)\n",
    "#X_train['lise_turu'] = X_train['lise_turu'].replace('anadolu lisesi', 'devlet')\n",
    "X_train['lise_mezuniyet_notu'] = X_train['lise_mezuniyet_notu'].replace('84-70', '75 - 100')\n",
    "X_train['lise_mezuniyet_notu'] = X_train['lise_mezuniyet_notu'].replace('100-85', '75 - 100')\n",
    "X_train['lise_mezuniyet_notu'] = X_train['lise_mezuniyet_notu'].replace('50 - 75', '50 - 74')\n",
    "X_train['lise_mezuniyet_notu'] = X_train['lise_mezuniyet_notu'].replace('4.00-3.50', '75 - 100')\n",
    "X_train['lise_mezuniyet_notu'] = X_train['lise_mezuniyet_notu'].replace('3.00 - 4.00', '75 - 100')\n",
    "X_train['lise_mezuniyet_notu'] = X_train['lise_mezuniyet_notu'].replace('3.50-3.00', '75 - 100')\n",
    "X_train['lise_mezuniyet_notu'] = X_train['lise_mezuniyet_notu'].replace('69-55', '50 - 74')\n",
    "X_train['lise_mezuniyet_notu'] = X_train['lise_mezuniyet_notu'].replace('3.50-3', '75 - 100')\n",
    "X_train['lise_mezuniyet_notu'] = X_train['lise_mezuniyet_notu'].replace('3.00-2.50', '50 - 74')\n",
    "X_train['lise_mezuniyet_notu'] = X_train['lise_mezuniyet_notu'].replace('2.50 ve altı', '50 - 74')\n",
    "X_train['lise_mezuniyet_notu'] = X_train['lise_mezuniyet_notu'].replace('54-45', '50 - 74')\n",
    "X_train['lise_mezuniyet_notu'] = X_train['lise_mezuniyet_notu'].replace('25 - 50', '25 - 49')\n",
    "X_train['lise_mezuniyet_notu'] = X_train['lise_mezuniyet_notu'].replace('not ortalaması yok', '')\n",
    "\n",
    "X_train = X_train.loc[~X_train['lise_mezuniyet_notu'].isin(['not ortalaması yok', '44-0', '0 - 25', '0 - 24', ''])]\n",
    "\n",
    "print(\"--------\")\n",
    "print(X_train[\"lise_mezuniyet_notu\"].unique())\n",
    "print(X_train[\"lise_mezuniyet_notu\"].nunique())\n",
    "print(X_train[\"lise_mezuniyet_notu\"].isna().sum())"
   ]
  },
  {
   "cell_type": "code",
   "execution_count": 31,
   "id": "c0778e59",
   "metadata": {
    "execution": {
     "iopub.execute_input": "2024-09-13T05:12:17.931318Z",
     "iopub.status.busy": "2024-09-13T05:12:17.930614Z",
     "iopub.status.idle": "2024-09-13T05:12:17.937906Z",
     "shell.execute_reply": "2024-09-13T05:12:17.936932Z"
    },
    "papermill": {
     "duration": 0.043176,
     "end_time": "2024-09-13T05:12:17.940137",
     "exception": false,
     "start_time": "2024-09-13T05:12:17.896961",
     "status": "completed"
    },
    "tags": []
   },
   "outputs": [
    {
     "name": "stdout",
     "output_type": "stream",
     "text": [
      "['50 - 74' '75 - 100' '25 - 49']\n",
      "3\n"
     ]
    }
   ],
   "source": [
    "print(test[\"lise_mezuniyet_notu\"].unique())\n",
    "print(test[\"lise_mezuniyet_notu\"].nunique())"
   ]
  },
  {
   "cell_type": "code",
   "execution_count": 32,
   "id": "f816ceab",
   "metadata": {
    "execution": {
     "iopub.execute_input": "2024-09-13T05:12:18.007290Z",
     "iopub.status.busy": "2024-09-13T05:12:18.006368Z",
     "iopub.status.idle": "2024-09-13T05:12:18.017222Z",
     "shell.execute_reply": "2024-09-13T05:12:18.016272Z"
    },
    "papermill": {
     "duration": 0.04655,
     "end_time": "2024-09-13T05:12:18.019497",
     "exception": false,
     "start_time": "2024-09-13T05:12:17.972947",
     "status": "completed"
    },
    "tags": []
   },
   "outputs": [
    {
     "name": "stdout",
     "output_type": "stream",
     "text": [
      "lise_mezuniyet_notu\n",
      "75 - 100    37876\n",
      "50 - 74      6512\n",
      "25 - 49        13\n",
      "Name: count, dtype: int64\n"
     ]
    }
   ],
   "source": [
    "print(X_train[\"lise_mezuniyet_notu\"].value_counts())"
   ]
  },
  {
   "cell_type": "markdown",
   "id": "b47a3ca4",
   "metadata": {
    "papermill": {
     "duration": 0.03212,
     "end_time": "2024-09-13T05:12:18.084402",
     "exception": false,
     "start_time": "2024-09-13T05:12:18.052282",
     "status": "completed"
    },
    "tags": []
   },
   "source": [
    "### baska_bir_kurumdan_burs_aliyor_mu"
   ]
  },
  {
   "cell_type": "code",
   "execution_count": 33,
   "id": "ddf01f91",
   "metadata": {
    "execution": {
     "iopub.execute_input": "2024-09-13T05:12:18.151498Z",
     "iopub.status.busy": "2024-09-13T05:12:18.150527Z",
     "iopub.status.idle": "2024-09-13T05:12:18.162216Z",
     "shell.execute_reply": "2024-09-13T05:12:18.161067Z"
    },
    "papermill": {
     "duration": 0.047444,
     "end_time": "2024-09-13T05:12:18.164392",
     "exception": false,
     "start_time": "2024-09-13T05:12:18.116948",
     "status": "completed"
    },
    "tags": []
   },
   "outputs": [
    {
     "name": "stdout",
     "output_type": "stream",
     "text": [
      "baska_bir_kurumdan_burs_aliyor_mu\n",
      "hayır    32431\n",
      "evet     11864\n",
      "Name: count, dtype: int64\n"
     ]
    }
   ],
   "source": [
    "print(X_train[\"baska_bir_kurumdan_burs_aliyor_mu\"].value_counts())"
   ]
  },
  {
   "cell_type": "code",
   "execution_count": 34,
   "id": "51092517",
   "metadata": {
    "execution": {
     "iopub.execute_input": "2024-09-13T05:12:18.231792Z",
     "iopub.status.busy": "2024-09-13T05:12:18.230938Z",
     "iopub.status.idle": "2024-09-13T05:12:18.282145Z",
     "shell.execute_reply": "2024-09-13T05:12:18.280941Z"
    },
    "papermill": {
     "duration": 0.087167,
     "end_time": "2024-09-13T05:12:18.284550",
     "exception": false,
     "start_time": "2024-09-13T05:12:18.197383",
     "status": "completed"
    },
    "tags": []
   },
   "outputs": [
    {
     "name": "stdout",
     "output_type": "stream",
     "text": [
      "['hayır' 'evet' nan]\n",
      "2\n",
      "106\n",
      "--------\n",
      "['hayır' 'evet']\n",
      "2\n",
      "0\n"
     ]
    }
   ],
   "source": [
    "print(X_train[\"baska_bir_kurumdan_burs_aliyor_mu\"].unique())\n",
    "print(X_train[\"baska_bir_kurumdan_burs_aliyor_mu\"].nunique())\n",
    "print(X_train[\"baska_bir_kurumdan_burs_aliyor_mu\"].isna().sum())\n",
    "\n",
    "#X_train[\"baska_bir_kurumdan_burs_aliyor_mu\"].replace(\"\", np.nan, inplace=True)\n",
    "X_train.dropna(subset=['baska_bir_kurumdan_burs_aliyor_mu'], inplace=True)\n",
    "\n",
    "#X_train['lise_turu'] = X_train['lise_turu'].replace('anadolu lisesi', 'devlet')\n",
    "\n",
    "print(\"--------\")\n",
    "print(X_train[\"baska_bir_kurumdan_burs_aliyor_mu\"].unique())\n",
    "print(X_train[\"baska_bir_kurumdan_burs_aliyor_mu\"].nunique())\n",
    "print(X_train[\"baska_bir_kurumdan_burs_aliyor_mu\"].isna().sum())"
   ]
  },
  {
   "cell_type": "code",
   "execution_count": 35,
   "id": "f5e4b942",
   "metadata": {
    "execution": {
     "iopub.execute_input": "2024-09-13T05:12:18.351745Z",
     "iopub.status.busy": "2024-09-13T05:12:18.351104Z",
     "iopub.status.idle": "2024-09-13T05:12:18.358690Z",
     "shell.execute_reply": "2024-09-13T05:12:18.357792Z"
    },
    "papermill": {
     "duration": 0.043267,
     "end_time": "2024-09-13T05:12:18.360818",
     "exception": false,
     "start_time": "2024-09-13T05:12:18.317551",
     "status": "completed"
    },
    "tags": []
   },
   "outputs": [
    {
     "name": "stdout",
     "output_type": "stream",
     "text": [
      "['hayır' 'evet']\n",
      "2\n"
     ]
    }
   ],
   "source": [
    "print(test[\"baska_bir_kurumdan_burs_aliyor_mu\"].unique())\n",
    "print(test[\"baska_bir_kurumdan_burs_aliyor_mu\"].nunique())"
   ]
  },
  {
   "cell_type": "code",
   "execution_count": 36,
   "id": "e15b916b",
   "metadata": {
    "execution": {
     "iopub.execute_input": "2024-09-13T05:12:18.428361Z",
     "iopub.status.busy": "2024-09-13T05:12:18.427507Z",
     "iopub.status.idle": "2024-09-13T05:12:18.438130Z",
     "shell.execute_reply": "2024-09-13T05:12:18.437062Z"
    },
    "papermill": {
     "duration": 0.046445,
     "end_time": "2024-09-13T05:12:18.440241",
     "exception": false,
     "start_time": "2024-09-13T05:12:18.393796",
     "status": "completed"
    },
    "tags": []
   },
   "outputs": [
    {
     "name": "stdout",
     "output_type": "stream",
     "text": [
      "baska_bir_kurumdan_burs_aliyor_mu\n",
      "hayır    32431\n",
      "evet     11864\n",
      "Name: count, dtype: int64\n"
     ]
    }
   ],
   "source": [
    "print(X_train[\"baska_bir_kurumdan_burs_aliyor_mu\"].value_counts())"
   ]
  },
  {
   "cell_type": "markdown",
   "id": "bdea8680",
   "metadata": {
    "papermill": {
     "duration": 0.032413,
     "end_time": "2024-09-13T05:12:18.505744",
     "exception": false,
     "start_time": "2024-09-13T05:12:18.473331",
     "status": "completed"
    },
    "tags": []
   },
   "source": [
    "### anne_egitim_durumu"
   ]
  },
  {
   "cell_type": "code",
   "execution_count": 37,
   "id": "a2f199a8",
   "metadata": {
    "execution": {
     "iopub.execute_input": "2024-09-13T05:12:18.572941Z",
     "iopub.status.busy": "2024-09-13T05:12:18.572132Z",
     "iopub.status.idle": "2024-09-13T05:12:18.584391Z",
     "shell.execute_reply": "2024-09-13T05:12:18.583420Z"
    },
    "papermill": {
     "duration": 0.048505,
     "end_time": "2024-09-13T05:12:18.586787",
     "exception": false,
     "start_time": "2024-09-13T05:12:18.538282",
     "status": "completed"
    },
    "tags": []
   },
   "outputs": [
    {
     "name": "stdout",
     "output_type": "stream",
     "text": [
      "anne_egitim_durumu\n",
      "i̇lkokul mezunu            9899\n",
      "i̇lkokul                   8076\n",
      "lise                       6149\n",
      "üniversite                 4072\n",
      "li̇se                      2802\n",
      "eğitimi yok                2788\n",
      "ortaokul mezunu            2424\n",
      "ortaokul                   2397\n",
      "eği̇ti̇m yok               1997\n",
      "üni̇versi̇te               1921\n",
      "eğitim yok                 1144\n",
      "yüksek lisans               209\n",
      "doktora                     116\n",
      "yüksek li̇sans              114\n",
      "yüksek lisans / doktora      78\n",
      "Name: count, dtype: int64\n"
     ]
    }
   ],
   "source": [
    "print(X_train[\"anne_egitim_durumu\"].value_counts())"
   ]
  },
  {
   "cell_type": "code",
   "execution_count": 38,
   "id": "e12a91ae",
   "metadata": {
    "execution": {
     "iopub.execute_input": "2024-09-13T05:12:18.654747Z",
     "iopub.status.busy": "2024-09-13T05:12:18.654331Z",
     "iopub.status.idle": "2024-09-13T05:12:18.723835Z",
     "shell.execute_reply": "2024-09-13T05:12:18.722905Z"
    },
    "papermill": {
     "duration": 0.106338,
     "end_time": "2024-09-13T05:12:18.726333",
     "exception": false,
     "start_time": "2024-09-13T05:12:18.619995",
     "status": "completed"
    },
    "tags": []
   },
   "outputs": [],
   "source": [
    "X_train[\"anne_egitim_durumu\"] = X_train[\"anne_egitim_durumu\"].str.lower()\n",
    "X_train[\"anne_egitim_durumu\"] = X_train[\"anne_egitim_durumu\"].str.normalize('NFKD').str.encode('ascii', errors='ignore').str.decode('utf-8')"
   ]
  },
  {
   "cell_type": "code",
   "execution_count": 39,
   "id": "0f1d0e03",
   "metadata": {
    "execution": {
     "iopub.execute_input": "2024-09-13T05:12:18.796666Z",
     "iopub.status.busy": "2024-09-13T05:12:18.795677Z",
     "iopub.status.idle": "2024-09-13T05:12:18.875372Z",
     "shell.execute_reply": "2024-09-13T05:12:18.874317Z"
    },
    "papermill": {
     "duration": 0.117463,
     "end_time": "2024-09-13T05:12:18.877741",
     "exception": false,
     "start_time": "2024-09-13T05:12:18.760278",
     "status": "completed"
    },
    "tags": []
   },
   "outputs": [
    {
     "name": "stdout",
     "output_type": "stream",
     "text": [
      "['ilkokul' 'lise' 'ilkokul mezunu' 'universite' 'egitim yok' 'egitimi yok'\n",
      " 'ortaokul mezunu' 'ortaokul' 'doktora' 'yuksek lisans'\n",
      " 'yuksek lisans / doktora' nan]\n",
      "11\n",
      "109\n",
      "--------\n",
      "['ilkokul' 'lise' 'üniversite' 'eğitimi yok' 'ortaokul' 'doktora'\n",
      " 'yüksek lisans']\n",
      "7\n",
      "0\n"
     ]
    }
   ],
   "source": [
    "print(X_train[\"anne_egitim_durumu\"].unique())\n",
    "print(X_train[\"anne_egitim_durumu\"].nunique())\n",
    "print(X_train[\"anne_egitim_durumu\"].isna().sum())\n",
    "#X_train.dropna(subset=['anne_egitim_durumu'], inplace=True)\n",
    "\n",
    "X_train['anne_egitim_durumu'] = X_train['anne_egitim_durumu'].fillna(\"eğitimi yok\")\n",
    "X_train['anne_egitim_durumu'] = X_train['anne_egitim_durumu'].replace('i̇lkokul mezunu', 'i̇lkokul')\n",
    "X_train['anne_egitim_durumu'] = X_train['anne_egitim_durumu'].replace('eği̇ti̇m yok', 'eği̇ti̇mi yok')\n",
    "X_train['anne_egitim_durumu'] = X_train['anne_egitim_durumu'].replace('ortaokul mezunu', 'ortaokul')\n",
    "X_train['anne_egitim_durumu'] = X_train['anne_egitim_durumu'].replace('yüksek lisans / doktora', 'doktora')\n",
    "X_train['anne_egitim_durumu'] = X_train['anne_egitim_durumu'].replace('egitim yok', 'eğitimi yok')\n",
    "X_train['anne_egitim_durumu'] = X_train['anne_egitim_durumu'].replace('egitimi yok', 'eğitimi yok')\n",
    "X_train['anne_egitim_durumu'] = X_train['anne_egitim_durumu'].replace('yuksek lisans', 'yüksek lisans')\n",
    "X_train['anne_egitim_durumu'] = X_train['anne_egitim_durumu'].replace('yuksek lisans / doktora', 'doktora')\n",
    "X_train['anne_egitim_durumu'] = X_train['anne_egitim_durumu'].replace('universite', 'üniversite')\n",
    "X_train['anne_egitim_durumu'] = X_train['anne_egitim_durumu'].replace('ilkokul mezunu', 'ilkokul')\n",
    "\n",
    "\n",
    "print(\"--------\")\n",
    "print(X_train[\"anne_egitim_durumu\"].unique())\n",
    "print(X_train[\"anne_egitim_durumu\"].nunique())\n",
    "print(X_train[\"anne_egitim_durumu\"].isna().sum())"
   ]
  },
  {
   "cell_type": "code",
   "execution_count": 40,
   "id": "4d61f983",
   "metadata": {
    "execution": {
     "iopub.execute_input": "2024-09-13T05:12:18.945244Z",
     "iopub.status.busy": "2024-09-13T05:12:18.944860Z",
     "iopub.status.idle": "2024-09-13T05:12:18.953079Z",
     "shell.execute_reply": "2024-09-13T05:12:18.951836Z"
    },
    "papermill": {
     "duration": 0.044208,
     "end_time": "2024-09-13T05:12:18.955179",
     "exception": false,
     "start_time": "2024-09-13T05:12:18.910971",
     "status": "completed"
    },
    "tags": []
   },
   "outputs": [
    {
     "name": "stdout",
     "output_type": "stream",
     "text": [
      "['i̇lkokul' 'yüksek lisans' 'üniversite' 'eğitimi yok' 'lise' 'ortaokul'\n",
      " 'doktora']\n",
      "7\n"
     ]
    }
   ],
   "source": [
    "print(test[\"anne_egitim_durumu\"].unique())\n",
    "print(test[\"anne_egitim_durumu\"].nunique())"
   ]
  },
  {
   "cell_type": "code",
   "execution_count": 41,
   "id": "cdfcc232",
   "metadata": {
    "execution": {
     "iopub.execute_input": "2024-09-13T05:12:19.024008Z",
     "iopub.status.busy": "2024-09-13T05:12:19.023060Z",
     "iopub.status.idle": "2024-09-13T05:12:19.033618Z",
     "shell.execute_reply": "2024-09-13T05:12:19.032413Z"
    },
    "papermill": {
     "duration": 0.04734,
     "end_time": "2024-09-13T05:12:19.036281",
     "exception": false,
     "start_time": "2024-09-13T05:12:18.988941",
     "status": "completed"
    },
    "tags": []
   },
   "outputs": [
    {
     "name": "stdout",
     "output_type": "stream",
     "text": [
      "anne_egitim_durumu\n",
      "ilkokul          17975\n",
      "lise              8951\n",
      "eğitimi yok       6038\n",
      "üniversite        5993\n",
      "ortaokul          4821\n",
      "yüksek lisans      323\n",
      "doktora            194\n",
      "Name: count, dtype: int64\n"
     ]
    }
   ],
   "source": [
    "print(X_train[\"anne_egitim_durumu\"].value_counts())"
   ]
  },
  {
   "cell_type": "markdown",
   "id": "83063efc",
   "metadata": {
    "papermill": {
     "duration": 0.035538,
     "end_time": "2024-09-13T05:12:19.105960",
     "exception": false,
     "start_time": "2024-09-13T05:12:19.070422",
     "status": "completed"
    },
    "tags": []
   },
   "source": [
    "### anne_calisma_durumu"
   ]
  },
  {
   "cell_type": "code",
   "execution_count": 42,
   "id": "5c92c672",
   "metadata": {
    "execution": {
     "iopub.execute_input": "2024-09-13T05:12:19.177457Z",
     "iopub.status.busy": "2024-09-13T05:12:19.176672Z",
     "iopub.status.idle": "2024-09-13T05:12:19.187607Z",
     "shell.execute_reply": "2024-09-13T05:12:19.186631Z"
    },
    "papermill": {
     "duration": 0.047976,
     "end_time": "2024-09-13T05:12:19.189656",
     "exception": false,
     "start_time": "2024-09-13T05:12:19.141680",
     "status": "completed"
    },
    "tags": []
   },
   "outputs": [
    {
     "name": "stdout",
     "output_type": "stream",
     "text": [
      "anne_calisma_durumu\n",
      "hayır     26408\n",
      "evet       6868\n",
      "emekli     1971\n",
      "Name: count, dtype: int64\n"
     ]
    }
   ],
   "source": [
    "print(X_train[\"anne_calisma_durumu\"].value_counts())"
   ]
  },
  {
   "cell_type": "code",
   "execution_count": 43,
   "id": "ad541cbe",
   "metadata": {
    "execution": {
     "iopub.execute_input": "2024-09-13T05:12:19.258572Z",
     "iopub.status.busy": "2024-09-13T05:12:19.257660Z",
     "iopub.status.idle": "2024-09-13T05:12:19.271129Z",
     "shell.execute_reply": "2024-09-13T05:12:19.270154Z"
    },
    "papermill": {
     "duration": 0.05021,
     "end_time": "2024-09-13T05:12:19.273194",
     "exception": false,
     "start_time": "2024-09-13T05:12:19.222984",
     "status": "completed"
    },
    "tags": []
   },
   "outputs": [
    {
     "name": "stdout",
     "output_type": "stream",
     "text": [
      "['hayır' 'evet' nan 'emekli']\n",
      "3\n",
      "9048\n"
     ]
    }
   ],
   "source": [
    "print(X_train[\"anne_calisma_durumu\"].unique())\n",
    "print(X_train[\"anne_calisma_durumu\"].nunique())\n",
    "print(X_train[\"anne_calisma_durumu\"].isna().sum())"
   ]
  },
  {
   "cell_type": "code",
   "execution_count": 44,
   "id": "f0855681",
   "metadata": {
    "execution": {
     "iopub.execute_input": "2024-09-13T05:12:19.342398Z",
     "iopub.status.busy": "2024-09-13T05:12:19.341505Z",
     "iopub.status.idle": "2024-09-13T05:12:19.367405Z",
     "shell.execute_reply": "2024-09-13T05:12:19.366454Z"
    },
    "papermill": {
     "duration": 0.062839,
     "end_time": "2024-09-13T05:12:19.369765",
     "exception": false,
     "start_time": "2024-09-13T05:12:19.306926",
     "status": "completed"
    },
    "tags": []
   },
   "outputs": [
    {
     "name": "stdout",
     "output_type": "stream",
     "text": [
      "--------\n",
      "['hayır' 'evet']\n",
      "2\n",
      "0\n"
     ]
    }
   ],
   "source": [
    "\n",
    "#X_train.dropna(subset=['anne_egitim_durumu'], inplace=True)\n",
    "\n",
    "X_train['anne_calisma_durumu'] = X_train['anne_calisma_durumu'].fillna(\"hayır\")\n",
    "X_train['anne_calisma_durumu'] = X_train['anne_calisma_durumu'].replace('emekli', 'hayır')\n",
    "\n",
    "print(\"--------\")\n",
    "print(X_train[\"anne_calisma_durumu\"].unique())\n",
    "print(X_train[\"anne_calisma_durumu\"].nunique())\n",
    "print(X_train[\"anne_calisma_durumu\"].isna().sum())"
   ]
  },
  {
   "cell_type": "code",
   "execution_count": 45,
   "id": "874e63d5",
   "metadata": {
    "execution": {
     "iopub.execute_input": "2024-09-13T05:12:19.439291Z",
     "iopub.status.busy": "2024-09-13T05:12:19.438295Z",
     "iopub.status.idle": "2024-09-13T05:12:19.446193Z",
     "shell.execute_reply": "2024-09-13T05:12:19.445041Z"
    },
    "papermill": {
     "duration": 0.044499,
     "end_time": "2024-09-13T05:12:19.448281",
     "exception": false,
     "start_time": "2024-09-13T05:12:19.403782",
     "status": "completed"
    },
    "tags": []
   },
   "outputs": [
    {
     "name": "stdout",
     "output_type": "stream",
     "text": [
      "['evet' 'hayır']\n",
      "2\n"
     ]
    }
   ],
   "source": [
    "print(test[\"anne_calisma_durumu\"].unique())\n",
    "print(test[\"anne_calisma_durumu\"].nunique())"
   ]
  },
  {
   "cell_type": "code",
   "execution_count": 46,
   "id": "be9b01e1",
   "metadata": {
    "execution": {
     "iopub.execute_input": "2024-09-13T05:12:19.516799Z",
     "iopub.status.busy": "2024-09-13T05:12:19.515922Z",
     "iopub.status.idle": "2024-09-13T05:12:19.526146Z",
     "shell.execute_reply": "2024-09-13T05:12:19.525140Z"
    },
    "papermill": {
     "duration": 0.047075,
     "end_time": "2024-09-13T05:12:19.528642",
     "exception": false,
     "start_time": "2024-09-13T05:12:19.481567",
     "status": "completed"
    },
    "tags": []
   },
   "outputs": [
    {
     "name": "stdout",
     "output_type": "stream",
     "text": [
      "anne_calisma_durumu\n",
      "hayır    37427\n",
      "evet      6868\n",
      "Name: count, dtype: int64\n"
     ]
    }
   ],
   "source": [
    "print(X_train[\"anne_calisma_durumu\"].value_counts())"
   ]
  },
  {
   "cell_type": "markdown",
   "id": "c7782d0b",
   "metadata": {
    "papermill": {
     "duration": 0.033405,
     "end_time": "2024-09-13T05:12:19.595781",
     "exception": false,
     "start_time": "2024-09-13T05:12:19.562376",
     "status": "completed"
    },
    "tags": []
   },
   "source": [
    "### anne_calisma_durumu"
   ]
  },
  {
   "cell_type": "code",
   "execution_count": 47,
   "id": "44328eb7",
   "metadata": {
    "execution": {
     "iopub.execute_input": "2024-09-13T05:12:19.665001Z",
     "iopub.status.busy": "2024-09-13T05:12:19.664564Z",
     "iopub.status.idle": "2024-09-13T05:12:19.674739Z",
     "shell.execute_reply": "2024-09-13T05:12:19.673750Z"
    },
    "papermill": {
     "duration": 0.047521,
     "end_time": "2024-09-13T05:12:19.676945",
     "exception": false,
     "start_time": "2024-09-13T05:12:19.629424",
     "status": "completed"
    },
    "tags": []
   },
   "outputs": [
    {
     "name": "stdout",
     "output_type": "stream",
     "text": [
      "anne_sektor\n",
      "0              7562\n",
      "-              4684\n",
      "özel sektör    4137\n",
      "kamu           3410\n",
      "diğer           889\n",
      "di̇ğer          348\n",
      "Name: count, dtype: int64\n"
     ]
    }
   ],
   "source": [
    "print(X_train[\"anne_sektor\"].value_counts())"
   ]
  },
  {
   "cell_type": "code",
   "execution_count": 48,
   "id": "948df8d5",
   "metadata": {
    "execution": {
     "iopub.execute_input": "2024-09-13T05:12:19.746079Z",
     "iopub.status.busy": "2024-09-13T05:12:19.745269Z",
     "iopub.status.idle": "2024-09-13T05:12:19.757728Z",
     "shell.execute_reply": "2024-09-13T05:12:19.756730Z"
    },
    "papermill": {
     "duration": 0.049494,
     "end_time": "2024-09-13T05:12:19.760157",
     "exception": false,
     "start_time": "2024-09-13T05:12:19.710663",
     "status": "completed"
    },
    "tags": []
   },
   "outputs": [
    {
     "name": "stdout",
     "output_type": "stream",
     "text": [
      "['-' 'kamu' nan '0' 'özel sektör' 'diğer' 'di̇ğer']\n",
      "6\n",
      "23265\n"
     ]
    }
   ],
   "source": [
    "print(X_train[\"anne_sektor\"].unique())\n",
    "print(X_train[\"anne_sektor\"].nunique())\n",
    "print(X_train[\"anne_sektor\"].isna().sum())"
   ]
  },
  {
   "cell_type": "code",
   "execution_count": 49,
   "id": "234fc8e8",
   "metadata": {
    "execution": {
     "iopub.execute_input": "2024-09-13T05:12:19.830979Z",
     "iopub.status.busy": "2024-09-13T05:12:19.830285Z",
     "iopub.status.idle": "2024-09-13T05:12:19.877060Z",
     "shell.execute_reply": "2024-09-13T05:12:19.875917Z"
    },
    "papermill": {
     "duration": 0.083997,
     "end_time": "2024-09-13T05:12:19.879176",
     "exception": false,
     "start_time": "2024-09-13T05:12:19.795179",
     "status": "completed"
    },
    "tags": []
   },
   "outputs": [
    {
     "name": "stdout",
     "output_type": "stream",
     "text": [
      "--------\n",
      "['-' 'kamu' 'özel sektör' 'diğer']\n",
      "4\n",
      "0\n"
     ]
    }
   ],
   "source": [
    "\n",
    "#X_train.dropna(subset=['anne_egitim_durumu'], inplace=True)\n",
    "\n",
    "X_train['anne_sektor'] = X_train['anne_sektor'].fillna(\"-\")\n",
    "X_train['anne_sektor'] = X_train['anne_sektor'].replace('-', '-')\n",
    "X_train['anne_sektor'] = X_train['anne_sektor'].replace('0', '-')\n",
    "X_train['anne_sektor'] = X_train['anne_sektor'].replace('özel sektör', 'özel sektör')\n",
    "X_train['anne_sektor'] = X_train['anne_sektor'].replace('diğer', 'diğer')\n",
    "X_train['anne_sektor'] = X_train['anne_sektor'].replace('di̇ğer', 'diğer')\n",
    "\n",
    "print(\"--------\")\n",
    "print(X_train[\"anne_sektor\"].unique())\n",
    "print(X_train[\"anne_sektor\"].nunique())\n",
    "print(X_train[\"anne_sektor\"].isna().sum())"
   ]
  },
  {
   "cell_type": "code",
   "execution_count": 50,
   "id": "6c099466",
   "metadata": {
    "execution": {
     "iopub.execute_input": "2024-09-13T05:12:19.948376Z",
     "iopub.status.busy": "2024-09-13T05:12:19.947970Z",
     "iopub.status.idle": "2024-09-13T05:12:19.955693Z",
     "shell.execute_reply": "2024-09-13T05:12:19.954517Z"
    },
    "papermill": {
     "duration": 0.044887,
     "end_time": "2024-09-13T05:12:19.957798",
     "exception": false,
     "start_time": "2024-09-13T05:12:19.912911",
     "status": "completed"
    },
    "tags": []
   },
   "outputs": [
    {
     "name": "stdout",
     "output_type": "stream",
     "text": [
      "['özel sektör' '-' 'kamu' 'diğer']\n",
      "4\n"
     ]
    }
   ],
   "source": [
    "print(test[\"anne_sektor\"].unique())\n",
    "print(test[\"anne_sektor\"].nunique())"
   ]
  },
  {
   "cell_type": "code",
   "execution_count": 51,
   "id": "4687ef68",
   "metadata": {
    "execution": {
     "iopub.execute_input": "2024-09-13T05:12:20.027355Z",
     "iopub.status.busy": "2024-09-13T05:12:20.026953Z",
     "iopub.status.idle": "2024-09-13T05:12:20.036174Z",
     "shell.execute_reply": "2024-09-13T05:12:20.035144Z"
    },
    "papermill": {
     "duration": 0.04728,
     "end_time": "2024-09-13T05:12:20.038863",
     "exception": false,
     "start_time": "2024-09-13T05:12:19.991583",
     "status": "completed"
    },
    "tags": []
   },
   "outputs": [
    {
     "name": "stdout",
     "output_type": "stream",
     "text": [
      "anne_sektor\n",
      "-              35511\n",
      "özel sektör     4137\n",
      "kamu            3410\n",
      "diğer           1237\n",
      "Name: count, dtype: int64\n"
     ]
    }
   ],
   "source": [
    "print(X_train[\"anne_sektor\"].value_counts())"
   ]
  },
  {
   "cell_type": "markdown",
   "id": "c4efc37b",
   "metadata": {
    "papermill": {
     "duration": 0.033846,
     "end_time": "2024-09-13T05:12:20.107608",
     "exception": false,
     "start_time": "2024-09-13T05:12:20.073762",
     "status": "completed"
    },
    "tags": []
   },
   "source": [
    "### baba_egitim_durumu"
   ]
  },
  {
   "cell_type": "code",
   "execution_count": 52,
   "id": "d6712f41",
   "metadata": {
    "execution": {
     "iopub.execute_input": "2024-09-13T05:12:20.178082Z",
     "iopub.status.busy": "2024-09-13T05:12:20.177609Z",
     "iopub.status.idle": "2024-09-13T05:12:20.190659Z",
     "shell.execute_reply": "2024-09-13T05:12:20.189562Z"
    },
    "papermill": {
     "duration": 0.050793,
     "end_time": "2024-09-13T05:12:20.192745",
     "exception": false,
     "start_time": "2024-09-13T05:12:20.141952",
     "status": "completed"
    },
    "tags": []
   },
   "outputs": [
    {
     "name": "stdout",
     "output_type": "stream",
     "text": [
      "baba_egitim_durumu\n",
      "lise                       7365\n",
      "i̇lkokul mezunu            7115\n",
      "üniversite                 6707\n",
      "i̇lkokul                   6389\n",
      "li̇se                      3445\n",
      "üni̇versi̇te               3355\n",
      "ortaokul mezunu            3188\n",
      "ortaokul                   3156\n",
      "eğitimi yok                 857\n",
      "eği̇ti̇m yok                623\n",
      "yüksek lisans               471\n",
      "eğitim yok                  318\n",
      "doktora                     304\n",
      "yüksek li̇sans              287\n",
      "yüksek lisans / doktora     184\n",
      "0                            67\n",
      "Name: count, dtype: int64\n"
     ]
    }
   ],
   "source": [
    "print(X_train[\"baba_egitim_durumu\"].value_counts())"
   ]
  },
  {
   "cell_type": "code",
   "execution_count": 53,
   "id": "d1ba9d2c",
   "metadata": {
    "execution": {
     "iopub.execute_input": "2024-09-13T05:12:20.263381Z",
     "iopub.status.busy": "2024-09-13T05:12:20.262980Z",
     "iopub.status.idle": "2024-09-13T05:12:20.277239Z",
     "shell.execute_reply": "2024-09-13T05:12:20.276221Z"
    },
    "papermill": {
     "duration": 0.052323,
     "end_time": "2024-09-13T05:12:20.279645",
     "exception": false,
     "start_time": "2024-09-13T05:12:20.227322",
     "status": "completed"
    },
    "tags": []
   },
   "outputs": [
    {
     "name": "stdout",
     "output_type": "stream",
     "text": [
      "['ortaokul' 'i̇lkokul' 'üniversite' 'üni̇versi̇te' 'yüksek lisans'\n",
      " 'eği̇ti̇m yok' 'i̇lkokul mezunu' 'lise' 'ortaokul mezunu' 'li̇se'\n",
      " 'eğitimi yok' 'eğitim yok' 'yüksek li̇sans' 'doktora' nan '0'\n",
      " 'yüksek lisans / doktora']\n",
      "16\n",
      "464\n"
     ]
    }
   ],
   "source": [
    "print(X_train[\"baba_egitim_durumu\"].unique())\n",
    "print(X_train[\"baba_egitim_durumu\"].nunique())\n",
    "print(X_train[\"baba_egitim_durumu\"].isna().sum())"
   ]
  },
  {
   "cell_type": "code",
   "execution_count": 54,
   "id": "ddb6d88c",
   "metadata": {
    "execution": {
     "iopub.execute_input": "2024-09-13T05:12:20.350147Z",
     "iopub.status.busy": "2024-09-13T05:12:20.349243Z",
     "iopub.status.idle": "2024-09-13T05:12:20.447117Z",
     "shell.execute_reply": "2024-09-13T05:12:20.445853Z"
    },
    "papermill": {
     "duration": 0.135412,
     "end_time": "2024-09-13T05:12:20.449447",
     "exception": false,
     "start_time": "2024-09-13T05:12:20.314035",
     "status": "completed"
    },
    "tags": []
   },
   "outputs": [
    {
     "name": "stdout",
     "output_type": "stream",
     "text": [
      "--------\n",
      "['ortaokul' 'i̇lkokul' 'üniversite' 'yüksek lisans' 'eğitimi yok' 'lise'\n",
      " 'doktora']\n",
      "7\n",
      "0\n"
     ]
    }
   ],
   "source": [
    "\n",
    "#X_train.dropna(subset=['anne_egitim_durumu'], inplace=True)\n",
    "\n",
    "X_train['baba_egitim_durumu'] = X_train['baba_egitim_durumu'].fillna(\"eğitimi yok\")\n",
    "X_train['baba_egitim_durumu'] = X_train['baba_egitim_durumu'].replace('i̇lkokul', 'i̇lkokul')\n",
    "X_train['baba_egitim_durumu'] = X_train['baba_egitim_durumu'].replace('üniversite', 'üniversite')\n",
    "X_train['baba_egitim_durumu'] = X_train['baba_egitim_durumu'].replace('üni̇versi̇te', 'üniversite')\n",
    "X_train['baba_egitim_durumu'] = X_train['baba_egitim_durumu'].replace('yüksek lisans', 'yüksek lisans')\n",
    "X_train['baba_egitim_durumu'] = X_train['baba_egitim_durumu'].replace('eği̇ti̇m yok', 'eğitimi yok')\n",
    "X_train['baba_egitim_durumu'] = X_train['baba_egitim_durumu'].replace('i̇lkokul mezunu', 'i̇lkokul')\n",
    "X_train['baba_egitim_durumu'] = X_train['baba_egitim_durumu'].replace('lise', 'lise')\n",
    "X_train['baba_egitim_durumu'] = X_train['baba_egitim_durumu'].replace('ortaokul mezunu', 'ortaokul')\n",
    "X_train['baba_egitim_durumu'] = X_train['baba_egitim_durumu'].replace('li̇se', 'lise')\n",
    "X_train['baba_egitim_durumu'] = X_train['baba_egitim_durumu'].replace('eğitimi yok', 'eğitimi yok')\n",
    "X_train['baba_egitim_durumu'] = X_train['baba_egitim_durumu'].replace('eğitim yok', 'eğitimi yok')\n",
    "X_train['baba_egitim_durumu'] = X_train['baba_egitim_durumu'].replace('yüksek li̇sans', 'yüksek lisans')\n",
    "X_train['baba_egitim_durumu'] = X_train['baba_egitim_durumu'].replace('doktora', 'doktora')\n",
    "X_train['baba_egitim_durumu'] = X_train['baba_egitim_durumu'].replace('0', 'eğitimi yok')\n",
    "X_train['baba_egitim_durumu'] = X_train['baba_egitim_durumu'].replace('yüksek lisans / doktora', 'doktora')\n",
    "\n",
    "\n",
    "print(\"--------\")\n",
    "print(X_train[\"baba_egitim_durumu\"].unique())\n",
    "print(X_train[\"baba_egitim_durumu\"].nunique())\n",
    "print(X_train[\"baba_egitim_durumu\"].isna().sum())"
   ]
  },
  {
   "cell_type": "code",
   "execution_count": 55,
   "id": "d3766b76",
   "metadata": {
    "execution": {
     "iopub.execute_input": "2024-09-13T05:12:20.519719Z",
     "iopub.status.busy": "2024-09-13T05:12:20.519326Z",
     "iopub.status.idle": "2024-09-13T05:12:20.527619Z",
     "shell.execute_reply": "2024-09-13T05:12:20.526410Z"
    },
    "papermill": {
     "duration": 0.04569,
     "end_time": "2024-09-13T05:12:20.529676",
     "exception": false,
     "start_time": "2024-09-13T05:12:20.483986",
     "status": "completed"
    },
    "tags": []
   },
   "outputs": [
    {
     "name": "stdout",
     "output_type": "stream",
     "text": [
      "['ortaokul' 'i̇lkokul' 'üniversite' 'lise' 'yüksek lisans' 'doktora'\n",
      " 'eğitimi yok']\n",
      "7\n"
     ]
    }
   ],
   "source": [
    "print(test[\"baba_egitim_durumu\"].unique())\n",
    "print(test[\"baba_egitim_durumu\"].nunique())"
   ]
  },
  {
   "cell_type": "code",
   "execution_count": 56,
   "id": "15698a2b",
   "metadata": {
    "execution": {
     "iopub.execute_input": "2024-09-13T05:12:20.602116Z",
     "iopub.status.busy": "2024-09-13T05:12:20.601152Z",
     "iopub.status.idle": "2024-09-13T05:12:20.611518Z",
     "shell.execute_reply": "2024-09-13T05:12:20.610349Z"
    },
    "papermill": {
     "duration": 0.048556,
     "end_time": "2024-09-13T05:12:20.613794",
     "exception": false,
     "start_time": "2024-09-13T05:12:20.565238",
     "status": "completed"
    },
    "tags": []
   },
   "outputs": [
    {
     "name": "stdout",
     "output_type": "stream",
     "text": [
      "baba_egitim_durumu\n",
      "i̇lkokul         13504\n",
      "lise             10810\n",
      "üniversite       10062\n",
      "ortaokul          6344\n",
      "eğitimi yok       2329\n",
      "yüksek lisans      758\n",
      "doktora            488\n",
      "Name: count, dtype: int64\n"
     ]
    }
   ],
   "source": [
    "print(X_train[\"baba_egitim_durumu\"].value_counts())"
   ]
  },
  {
   "cell_type": "markdown",
   "id": "229184fd",
   "metadata": {
    "papermill": {
     "duration": 0.034212,
     "end_time": "2024-09-13T05:12:20.683690",
     "exception": false,
     "start_time": "2024-09-13T05:12:20.649478",
     "status": "completed"
    },
    "tags": []
   },
   "source": [
    "### baba_sektor"
   ]
  },
  {
   "cell_type": "code",
   "execution_count": 57,
   "id": "88da1521",
   "metadata": {
    "execution": {
     "iopub.execute_input": "2024-09-13T05:12:20.755278Z",
     "iopub.status.busy": "2024-09-13T05:12:20.754353Z",
     "iopub.status.idle": "2024-09-13T05:12:20.765467Z",
     "shell.execute_reply": "2024-09-13T05:12:20.764350Z"
    },
    "papermill": {
     "duration": 0.049572,
     "end_time": "2024-09-13T05:12:20.767973",
     "exception": false,
     "start_time": "2024-09-13T05:12:20.718401",
     "status": "completed"
    },
    "tags": []
   },
   "outputs": [
    {
     "name": "stdout",
     "output_type": "stream",
     "text": [
      "baba_sektor\n",
      "özel sektör    10679\n",
      "kamu            6888\n",
      "diğer           4574\n",
      "0               4320\n",
      "-               2427\n",
      "di̇ğer          1838\n",
      "Name: count, dtype: int64\n"
     ]
    }
   ],
   "source": [
    "print(X_train[\"baba_sektor\"].value_counts())"
   ]
  },
  {
   "cell_type": "code",
   "execution_count": 58,
   "id": "5e306cfb",
   "metadata": {
    "execution": {
     "iopub.execute_input": "2024-09-13T05:12:20.839517Z",
     "iopub.status.busy": "2024-09-13T05:12:20.838557Z",
     "iopub.status.idle": "2024-09-13T05:12:20.852970Z",
     "shell.execute_reply": "2024-09-13T05:12:20.851442Z"
    },
    "papermill": {
     "duration": 0.05265,
     "end_time": "2024-09-13T05:12:20.855195",
     "exception": false,
     "start_time": "2024-09-13T05:12:20.802545",
     "status": "completed"
    },
    "tags": []
   },
   "outputs": [
    {
     "name": "stdout",
     "output_type": "stream",
     "text": [
      "['-' 'diğer' 'kamu' 'özel sektör' nan 'di̇ğer' '0']\n",
      "6\n",
      "13569\n"
     ]
    }
   ],
   "source": [
    "print(X_train[\"baba_sektor\"].unique())\n",
    "print(X_train[\"baba_sektor\"].nunique())\n",
    "print(X_train[\"baba_sektor\"].isna().sum())"
   ]
  },
  {
   "cell_type": "code",
   "execution_count": 59,
   "id": "a3b48cb2",
   "metadata": {
    "execution": {
     "iopub.execute_input": "2024-09-13T05:12:20.925760Z",
     "iopub.status.busy": "2024-09-13T05:12:20.925376Z",
     "iopub.status.idle": "2024-09-13T05:12:20.968020Z",
     "shell.execute_reply": "2024-09-13T05:12:20.966927Z"
    },
    "papermill": {
     "duration": 0.080439,
     "end_time": "2024-09-13T05:12:20.970160",
     "exception": false,
     "start_time": "2024-09-13T05:12:20.889721",
     "status": "completed"
    },
    "tags": []
   },
   "outputs": [
    {
     "name": "stdout",
     "output_type": "stream",
     "text": [
      "--------\n",
      "['-' 'diğer' 'kamu' 'özel sektör']\n",
      "4\n",
      "0\n"
     ]
    }
   ],
   "source": [
    "\n",
    "#X_train.dropna(subset=['anne_egitim_durumu'], inplace=True)\n",
    "\n",
    "X_train['baba_sektor'] = X_train['baba_sektor'].fillna(\"-\")\n",
    "X_train['baba_sektor'] = X_train['baba_sektor'].replace('diğer', 'diğer')\n",
    "X_train['baba_sektor'] = X_train['baba_sektor'].replace('özel sektör', 'özel sektör')\n",
    "X_train['baba_sektor'] = X_train['baba_sektor'].replace('di̇ğer', 'diğer')\n",
    "X_train['baba_sektor'] = X_train['baba_sektor'].replace('0', '-')\n",
    "\n",
    "\n",
    "print(\"--------\")\n",
    "print(X_train[\"baba_sektor\"].unique())\n",
    "print(X_train[\"baba_sektor\"].nunique())\n",
    "print(X_train[\"baba_sektor\"].isna().sum())"
   ]
  },
  {
   "cell_type": "code",
   "execution_count": 60,
   "id": "34eccd9e",
   "metadata": {
    "execution": {
     "iopub.execute_input": "2024-09-13T05:12:21.041654Z",
     "iopub.status.busy": "2024-09-13T05:12:21.040717Z",
     "iopub.status.idle": "2024-09-13T05:12:21.048700Z",
     "shell.execute_reply": "2024-09-13T05:12:21.047552Z"
    },
    "papermill": {
     "duration": 0.046036,
     "end_time": "2024-09-13T05:12:21.050805",
     "exception": false,
     "start_time": "2024-09-13T05:12:21.004769",
     "status": "completed"
    },
    "tags": []
   },
   "outputs": [
    {
     "name": "stdout",
     "output_type": "stream",
     "text": [
      "['diğer' 'özel sektör' '-' 'kamu']\n",
      "4\n"
     ]
    }
   ],
   "source": [
    "print(test[\"baba_sektor\"].unique())\n",
    "print(test[\"baba_sektor\"].nunique())"
   ]
  },
  {
   "cell_type": "code",
   "execution_count": 61,
   "id": "aedb7c8c",
   "metadata": {
    "execution": {
     "iopub.execute_input": "2024-09-13T05:12:21.122457Z",
     "iopub.status.busy": "2024-09-13T05:12:21.122062Z",
     "iopub.status.idle": "2024-09-13T05:12:21.132059Z",
     "shell.execute_reply": "2024-09-13T05:12:21.131118Z"
    },
    "papermill": {
     "duration": 0.048136,
     "end_time": "2024-09-13T05:12:21.134392",
     "exception": false,
     "start_time": "2024-09-13T05:12:21.086256",
     "status": "completed"
    },
    "tags": []
   },
   "outputs": [
    {
     "name": "stdout",
     "output_type": "stream",
     "text": [
      "baba_sektor\n",
      "-              20316\n",
      "özel sektör    10679\n",
      "kamu            6888\n",
      "diğer           6412\n",
      "Name: count, dtype: int64\n"
     ]
    }
   ],
   "source": [
    "print(X_train[\"baba_sektor\"].value_counts())"
   ]
  },
  {
   "cell_type": "markdown",
   "id": "42343836",
   "metadata": {
    "papermill": {
     "duration": 0.034615,
     "end_time": "2024-09-13T05:12:21.204529",
     "exception": false,
     "start_time": "2024-09-13T05:12:21.169914",
     "status": "completed"
    },
    "tags": []
   },
   "source": [
    "### baba_calisma_durumu"
   ]
  },
  {
   "cell_type": "code",
   "execution_count": 62,
   "id": "5e869c16",
   "metadata": {
    "execution": {
     "iopub.execute_input": "2024-09-13T05:12:21.275527Z",
     "iopub.status.busy": "2024-09-13T05:12:21.275132Z",
     "iopub.status.idle": "2024-09-13T05:12:21.285642Z",
     "shell.execute_reply": "2024-09-13T05:12:21.284677Z"
    },
    "papermill": {
     "duration": 0.04887,
     "end_time": "2024-09-13T05:12:21.288092",
     "exception": false,
     "start_time": "2024-09-13T05:12:21.239222",
     "status": "completed"
    },
    "tags": []
   },
   "outputs": [
    {
     "name": "stdout",
     "output_type": "stream",
     "text": [
      "baba_calisma_durumu\n",
      "evet      18895\n",
      "hayır      8858\n",
      "emekli     7068\n",
      "Name: count, dtype: int64\n"
     ]
    }
   ],
   "source": [
    "print(X_train[\"baba_calisma_durumu\"].value_counts())"
   ]
  },
  {
   "cell_type": "code",
   "execution_count": 63,
   "id": "5e431fb8",
   "metadata": {
    "execution": {
     "iopub.execute_input": "2024-09-13T05:12:21.359922Z",
     "iopub.status.busy": "2024-09-13T05:12:21.359139Z",
     "iopub.status.idle": "2024-09-13T05:12:21.372044Z",
     "shell.execute_reply": "2024-09-13T05:12:21.371054Z"
    },
    "papermill": {
     "duration": 0.051611,
     "end_time": "2024-09-13T05:12:21.374430",
     "exception": false,
     "start_time": "2024-09-13T05:12:21.322819",
     "status": "completed"
    },
    "tags": []
   },
   "outputs": [
    {
     "name": "stdout",
     "output_type": "stream",
     "text": [
      "['hayır' 'evet' nan 'emekli']\n",
      "3\n",
      "9474\n"
     ]
    }
   ],
   "source": [
    "print(X_train[\"baba_calisma_durumu\"].unique())\n",
    "print(X_train[\"baba_calisma_durumu\"].nunique())\n",
    "print(X_train[\"baba_calisma_durumu\"].isna().sum())"
   ]
  },
  {
   "cell_type": "code",
   "execution_count": 64,
   "id": "5b262206",
   "metadata": {
    "execution": {
     "iopub.execute_input": "2024-09-13T05:12:21.446194Z",
     "iopub.status.busy": "2024-09-13T05:12:21.445419Z",
     "iopub.status.idle": "2024-09-13T05:12:21.471507Z",
     "shell.execute_reply": "2024-09-13T05:12:21.470140Z"
    },
    "papermill": {
     "duration": 0.064206,
     "end_time": "2024-09-13T05:12:21.473697",
     "exception": false,
     "start_time": "2024-09-13T05:12:21.409491",
     "status": "completed"
    },
    "tags": []
   },
   "outputs": [
    {
     "name": "stdout",
     "output_type": "stream",
     "text": [
      "--------\n",
      "['hayır' 'evet']\n",
      "2\n",
      "0\n"
     ]
    }
   ],
   "source": [
    "\n",
    "#X_train.dropna(subset=['anne_egitim_durumu'], inplace=True)\n",
    "\n",
    "X_train['baba_calisma_durumu'] = X_train['baba_calisma_durumu'].fillna(\"hayır\")\n",
    "X_train['baba_calisma_durumu'] = X_train['baba_calisma_durumu'].replace('emekli', 'hayır')\n",
    "\n",
    "\n",
    "print(\"--------\")\n",
    "print(X_train[\"baba_calisma_durumu\"].unique())\n",
    "print(X_train[\"baba_calisma_durumu\"].nunique())\n",
    "print(X_train[\"baba_calisma_durumu\"].isna().sum())"
   ]
  },
  {
   "cell_type": "code",
   "execution_count": 65,
   "id": "8b9b89bb",
   "metadata": {
    "execution": {
     "iopub.execute_input": "2024-09-13T05:12:21.545344Z",
     "iopub.status.busy": "2024-09-13T05:12:21.544563Z",
     "iopub.status.idle": "2024-09-13T05:12:21.552464Z",
     "shell.execute_reply": "2024-09-13T05:12:21.551299Z"
    },
    "papermill": {
     "duration": 0.045941,
     "end_time": "2024-09-13T05:12:21.554455",
     "exception": false,
     "start_time": "2024-09-13T05:12:21.508514",
     "status": "completed"
    },
    "tags": []
   },
   "outputs": [
    {
     "name": "stdout",
     "output_type": "stream",
     "text": [
      "['evet' 'hayır']\n",
      "2\n"
     ]
    }
   ],
   "source": [
    "print(test[\"baba_calisma_durumu\"].unique())\n",
    "print(test[\"baba_calisma_durumu\"].nunique())"
   ]
  },
  {
   "cell_type": "code",
   "execution_count": 66,
   "id": "9da576a9",
   "metadata": {
    "execution": {
     "iopub.execute_input": "2024-09-13T05:12:21.627175Z",
     "iopub.status.busy": "2024-09-13T05:12:21.626260Z",
     "iopub.status.idle": "2024-09-13T05:12:21.636954Z",
     "shell.execute_reply": "2024-09-13T05:12:21.635906Z"
    },
    "papermill": {
     "duration": 0.048527,
     "end_time": "2024-09-13T05:12:21.638997",
     "exception": false,
     "start_time": "2024-09-13T05:12:21.590470",
     "status": "completed"
    },
    "tags": []
   },
   "outputs": [
    {
     "name": "stdout",
     "output_type": "stream",
     "text": [
      "baba_calisma_durumu\n",
      "hayır    25400\n",
      "evet     18895\n",
      "Name: count, dtype: int64\n"
     ]
    }
   ],
   "source": [
    "print(X_train[\"baba_calisma_durumu\"].value_counts())"
   ]
  },
  {
   "cell_type": "markdown",
   "id": "eb81ddb6",
   "metadata": {
    "papermill": {
     "duration": 0.034867,
     "end_time": "2024-09-13T05:12:21.709241",
     "exception": false,
     "start_time": "2024-09-13T05:12:21.674374",
     "status": "completed"
    },
    "tags": []
   },
   "source": [
    "### kardes_sayisi"
   ]
  },
  {
   "cell_type": "code",
   "execution_count": 67,
   "id": "6bdc396e",
   "metadata": {
    "execution": {
     "iopub.execute_input": "2024-09-13T05:12:21.781085Z",
     "iopub.status.busy": "2024-09-13T05:12:21.780146Z",
     "iopub.status.idle": "2024-09-13T05:12:21.792537Z",
     "shell.execute_reply": "2024-09-13T05:12:21.791587Z"
    },
    "papermill": {
     "duration": 0.050885,
     "end_time": "2024-09-13T05:12:21.794770",
     "exception": false,
     "start_time": "2024-09-13T05:12:21.743885",
     "status": "completed"
    },
    "tags": []
   },
   "outputs": [
    {
     "name": "stdout",
     "output_type": "stream",
     "text": [
      "kardes_sayisi\n",
      "1.0     10916\n",
      "2.0      9055\n",
      "3.0      4689\n",
      "1        3906\n",
      "4.0      3318\n",
      "0.0      2663\n",
      "2        2636\n",
      "5.0      2355\n",
      "3        1405\n",
      "0         907\n",
      "4         682\n",
      "5         498\n",
      "6.0       135\n",
      "7.0       101\n",
      "10.0       85\n",
      "6          77\n",
      "7          76\n",
      "8.0        60\n",
      "9.0        57\n",
      "8          50\n",
      "9          28\n",
      "10         26\n",
      "11          7\n",
      "12          5\n",
      "13          2\n",
      "14          1\n",
      "Name: count, dtype: int64\n"
     ]
    }
   ],
   "source": [
    "print(X_train[\"kardes_sayisi\"].value_counts())"
   ]
  },
  {
   "cell_type": "code",
   "execution_count": 68,
   "id": "d8bc489c",
   "metadata": {
    "execution": {
     "iopub.execute_input": "2024-09-13T05:12:21.868560Z",
     "iopub.status.busy": "2024-09-13T05:12:21.867507Z",
     "iopub.status.idle": "2024-09-13T05:12:21.884399Z",
     "shell.execute_reply": "2024-09-13T05:12:21.883288Z"
    },
    "papermill": {
     "duration": 0.056574,
     "end_time": "2024-09-13T05:12:21.886399",
     "exception": false,
     "start_time": "2024-09-13T05:12:21.829825",
     "status": "completed"
    },
    "tags": []
   },
   "outputs": [
    {
     "name": "stdout",
     "output_type": "stream",
     "text": [
      "[4.0 '1' 1.0 '2' 0.0 7.0 5.0 3.0 2.0 '5' '0' '3' '4' '6' '8' 8.0 nan 6.0\n",
      " '9' 10.0 '7' 9.0 '10' '12' '11' '13' '14']\n",
      "26\n",
      "555\n"
     ]
    }
   ],
   "source": [
    "print(X_train[\"kardes_sayisi\"].unique())\n",
    "print(X_train[\"kardes_sayisi\"].nunique())\n",
    "print(X_train[\"kardes_sayisi\"].isna().sum())"
   ]
  },
  {
   "cell_type": "code",
   "execution_count": 69,
   "id": "cbf09ae9",
   "metadata": {
    "execution": {
     "iopub.execute_input": "2024-09-13T05:12:21.958256Z",
     "iopub.status.busy": "2024-09-13T05:12:21.957355Z",
     "iopub.status.idle": "2024-09-13T05:12:22.031048Z",
     "shell.execute_reply": "2024-09-13T05:12:22.029890Z"
    },
    "papermill": {
     "duration": 0.112324,
     "end_time": "2024-09-13T05:12:22.033688",
     "exception": false,
     "start_time": "2024-09-13T05:12:21.921364",
     "status": "completed"
    },
    "tags": []
   },
   "outputs": [
    {
     "name": "stdout",
     "output_type": "stream",
     "text": [
      "--------\n",
      "[4. 1. 2. 0. 3.]\n",
      "5\n",
      "0\n"
     ]
    },
    {
     "name": "stderr",
     "output_type": "stream",
     "text": [
      "/tmp/ipykernel_17/1593309370.py:27: FutureWarning: Downcasting behavior in `replace` is deprecated and will be removed in a future version. To retain the old behavior, explicitly call `result.infer_objects(copy=False)`. To opt-in to the future behavior, set `pd.set_option('future.no_silent_downcasting', True)`\n",
      "  X_train['kardes_sayisi'] = X_train['kardes_sayisi'].replace(replace_dict)\n"
     ]
    }
   ],
   "source": [
    "# Örnek X_train veri seti (Sizin gerçek veri setiniz burada olacak)\n",
    "# values_to_drop belirlediğiniz değerler\n",
    "values_to_drop = [7.0, 5.0, '5', '6', '8', 8.0, 6.0, '9', 10.0, '7', 9.0, '10', '12', '11', '13', '14']\n",
    "\n",
    "# 'kardes_sayisi' sütunundaki NaN değerleri 0.0 ile doldur\n",
    "X_train['kardes_sayisi'] = X_train['kardes_sayisi'].fillna(0.0)\n",
    "\n",
    "# Sadece 'kardes_sayisi' sütununda belirli değerleri drop yap (diğer sütunları etkilemez)\n",
    "X_train = X_train[~X_train['kardes_sayisi'].isin(values_to_drop)]\n",
    "\n",
    "# Dönüşüm sözlüğü (sadece 'kardes_sayisi' sütunu için)\n",
    "replace_dict = {\n",
    "    '0': 0.0,\n",
    "    0.0: 0.0,\n",
    "    '1': 1.0,\n",
    "    '1.': 1.0,\n",
    "    1.0: 1.0,\n",
    "    '2': 2.0,\n",
    "    2.0: 2.0,\n",
    "    '3': 3.0,\n",
    "    3.0: 3.0,\n",
    "    '4': 4.0,\n",
    "    4.0: 4.0\n",
    "}\n",
    "\n",
    "# 'kardes_sayisi' sütunundaki değerleri dönüştür\n",
    "X_train['kardes_sayisi'] = X_train['kardes_sayisi'].replace(replace_dict)\n",
    "\n",
    "# Sonuçları kontrol et\n",
    "print(\"--------\")\n",
    "print(X_train[\"kardes_sayisi\"].unique())  # Benzersiz değerleri göster\n",
    "print(X_train[\"kardes_sayisi\"].nunique())  # Benzersiz değer sayısını göster\n",
    "print(X_train[\"kardes_sayisi\"].isna().sum())  # NaN değerlerin sayısını göster\n"
   ]
  },
  {
   "cell_type": "code",
   "execution_count": 70,
   "id": "73de64ce",
   "metadata": {
    "execution": {
     "iopub.execute_input": "2024-09-13T05:12:22.106743Z",
     "iopub.status.busy": "2024-09-13T05:12:22.105818Z",
     "iopub.status.idle": "2024-09-13T05:12:22.115379Z",
     "shell.execute_reply": "2024-09-13T05:12:22.114298Z"
    },
    "papermill": {
     "duration": 0.047952,
     "end_time": "2024-09-13T05:12:22.117521",
     "exception": false,
     "start_time": "2024-09-13T05:12:22.069569",
     "status": "completed"
    },
    "tags": []
   },
   "outputs": [
    {
     "name": "stdout",
     "output_type": "stream",
     "text": [
      "[2. 3. 0. 4. 1.]\n",
      "5\n",
      "kardes_sayisi\n",
      "1.0    3612\n",
      "2.0    2821\n",
      "4.0    2421\n",
      "3.0    1490\n",
      "0.0     705\n",
      "Name: count, dtype: int64\n"
     ]
    }
   ],
   "source": [
    "print(test[\"kardes_sayisi\"].unique())\n",
    "print(test[\"kardes_sayisi\"].nunique())\n",
    "print(test[\"kardes_sayisi\"].value_counts())"
   ]
  },
  {
   "cell_type": "code",
   "execution_count": 71,
   "id": "95ff7ebd",
   "metadata": {
    "execution": {
     "iopub.execute_input": "2024-09-13T05:12:22.191379Z",
     "iopub.status.busy": "2024-09-13T05:12:22.190619Z",
     "iopub.status.idle": "2024-09-13T05:12:22.198187Z",
     "shell.execute_reply": "2024-09-13T05:12:22.197204Z"
    },
    "papermill": {
     "duration": 0.047152,
     "end_time": "2024-09-13T05:12:22.200271",
     "exception": false,
     "start_time": "2024-09-13T05:12:22.153119",
     "status": "completed"
    },
    "tags": []
   },
   "outputs": [
    {
     "name": "stdout",
     "output_type": "stream",
     "text": [
      "kardes_sayisi\n",
      "1.0    14822\n",
      "2.0    11691\n",
      "3.0     6094\n",
      "0.0     4125\n",
      "4.0     4000\n",
      "Name: count, dtype: int64\n"
     ]
    }
   ],
   "source": [
    "print(X_train[\"kardes_sayisi\"].value_counts())"
   ]
  },
  {
   "cell_type": "code",
   "execution_count": 72,
   "id": "de52ec3e",
   "metadata": {
    "execution": {
     "iopub.execute_input": "2024-09-13T05:12:22.274285Z",
     "iopub.status.busy": "2024-09-13T05:12:22.273458Z",
     "iopub.status.idle": "2024-09-13T05:12:22.325799Z",
     "shell.execute_reply": "2024-09-13T05:12:22.324827Z"
    },
    "papermill": {
     "duration": 0.091388,
     "end_time": "2024-09-13T05:12:22.328016",
     "exception": false,
     "start_time": "2024-09-13T05:12:22.236628",
     "status": "completed"
    },
    "tags": []
   },
   "outputs": [
    {
     "name": "stdout",
     "output_type": "stream",
     "text": [
      "0\n",
      "0\n"
     ]
    },
    {
     "data": {
      "text/plain": [
       "basvuru_yili                                               0\n",
       "cinsiyet                                                   0\n",
       "universite_turu                                            0\n",
       "burs_aliyor_mu                                             0\n",
       "universite_kacinci_sinif                                   0\n",
       "universite_not_ortalamasi                                  0\n",
       "lise_turu                                                  0\n",
       "lise_mezuniyet_notu                                        0\n",
       "baska_bir_kurumdan_burs_aliyor_mu                          0\n",
       "baska_kurumdan_aldigi_burs_miktari                     26303\n",
       "anne_egitim_durumu                                         0\n",
       "anne_calisma_durumu                                        0\n",
       "anne_sektor                                                0\n",
       "baba_egitim_durumu                                         0\n",
       "baba_calisma_durumu                                        0\n",
       "baba_sektor                                                0\n",
       "kardes_sayisi                                              0\n",
       "girisimcilik_kulupleri_tarzi_bir_kulube_uye_misiniz      850\n",
       "profesyonel_bir_spor_daliyla_mesgul_musunuz              531\n",
       "aktif_olarak_bir_stk_uyesi_misiniz                      9083\n",
       "ingilizce_biliyor_musunuz                               3799\n",
       "id                                                         0\n",
       "dtype: int64"
      ]
     },
     "execution_count": 72,
     "metadata": {},
     "output_type": "execute_result"
    }
   ],
   "source": [
    "print(X_train[\"id\"].isna().sum())\n",
    "print(X_train[\"universite_kacinci_sinif\"].isna().sum())\n",
    "X_train.isna().sum()"
   ]
  },
  {
   "cell_type": "markdown",
   "id": "4d36e7d0",
   "metadata": {
    "papermill": {
     "duration": 0.035956,
     "end_time": "2024-09-13T05:12:22.400196",
     "exception": false,
     "start_time": "2024-09-13T05:12:22.364240",
     "status": "completed"
    },
    "tags": []
   },
   "source": [
    "### girisimcilik_kulupleri_tarzi_bir_kulube_uye_misiniz"
   ]
  },
  {
   "cell_type": "code",
   "execution_count": 73,
   "id": "c0fa7287",
   "metadata": {
    "execution": {
     "iopub.execute_input": "2024-09-13T05:12:22.475021Z",
     "iopub.status.busy": "2024-09-13T05:12:22.474118Z",
     "iopub.status.idle": "2024-09-13T05:12:22.485057Z",
     "shell.execute_reply": "2024-09-13T05:12:22.484072Z"
    },
    "papermill": {
     "duration": 0.050635,
     "end_time": "2024-09-13T05:12:22.487582",
     "exception": false,
     "start_time": "2024-09-13T05:12:22.436947",
     "status": "completed"
    },
    "tags": []
   },
   "outputs": [
    {
     "name": "stdout",
     "output_type": "stream",
     "text": [
      "girisimcilik_kulupleri_tarzi_bir_kulube_uye_misiniz\n",
      "hayır    22041\n",
      "evet     17841\n",
      "Name: count, dtype: int64\n"
     ]
    }
   ],
   "source": [
    "print(X_train[\"girisimcilik_kulupleri_tarzi_bir_kulube_uye_misiniz\"].value_counts())"
   ]
  },
  {
   "cell_type": "code",
   "execution_count": 74,
   "id": "10884e2f",
   "metadata": {
    "execution": {
     "iopub.execute_input": "2024-09-13T05:12:22.561536Z",
     "iopub.status.busy": "2024-09-13T05:12:22.560866Z",
     "iopub.status.idle": "2024-09-13T05:12:22.574202Z",
     "shell.execute_reply": "2024-09-13T05:12:22.573174Z"
    },
    "papermill": {
     "duration": 0.052764,
     "end_time": "2024-09-13T05:12:22.576400",
     "exception": false,
     "start_time": "2024-09-13T05:12:22.523636",
     "status": "completed"
    },
    "tags": []
   },
   "outputs": [
    {
     "name": "stdout",
     "output_type": "stream",
     "text": [
      "['hayır' 'evet' nan]\n",
      "2\n",
      "850\n"
     ]
    }
   ],
   "source": [
    "print(X_train[\"girisimcilik_kulupleri_tarzi_bir_kulube_uye_misiniz\"].unique())\n",
    "print(X_train[\"girisimcilik_kulupleri_tarzi_bir_kulube_uye_misiniz\"].nunique())\n",
    "print(X_train[\"girisimcilik_kulupleri_tarzi_bir_kulube_uye_misiniz\"].isna().sum())"
   ]
  },
  {
   "cell_type": "code",
   "execution_count": 75,
   "id": "ca8dc6ea",
   "metadata": {
    "execution": {
     "iopub.execute_input": "2024-09-13T05:12:22.651099Z",
     "iopub.status.busy": "2024-09-13T05:12:22.650183Z",
     "iopub.status.idle": "2024-09-13T05:12:22.671433Z",
     "shell.execute_reply": "2024-09-13T05:12:22.670125Z"
    },
    "papermill": {
     "duration": 0.061089,
     "end_time": "2024-09-13T05:12:22.673619",
     "exception": false,
     "start_time": "2024-09-13T05:12:22.612530",
     "status": "completed"
    },
    "tags": []
   },
   "outputs": [
    {
     "name": "stdout",
     "output_type": "stream",
     "text": [
      "--------\n",
      "['hayır' 'evet']\n",
      "2\n",
      "0\n"
     ]
    }
   ],
   "source": [
    "\n",
    "#X_train.dropna(subset=['anne_egitim_durumu'], inplace=True)\n",
    "\n",
    "X_train['girisimcilik_kulupleri_tarzi_bir_kulube_uye_misiniz'] = X_train['girisimcilik_kulupleri_tarzi_bir_kulube_uye_misiniz'].fillna('hayır')\n",
    "\n",
    "print(\"--------\")\n",
    "print(X_train[\"girisimcilik_kulupleri_tarzi_bir_kulube_uye_misiniz\"].unique())\n",
    "print(X_train[\"girisimcilik_kulupleri_tarzi_bir_kulube_uye_misiniz\"].nunique())\n",
    "print(X_train[\"girisimcilik_kulupleri_tarzi_bir_kulube_uye_misiniz\"].isna().sum())"
   ]
  },
  {
   "cell_type": "code",
   "execution_count": 76,
   "id": "713bf177",
   "metadata": {
    "execution": {
     "iopub.execute_input": "2024-09-13T05:12:22.747872Z",
     "iopub.status.busy": "2024-09-13T05:12:22.746958Z",
     "iopub.status.idle": "2024-09-13T05:12:22.757417Z",
     "shell.execute_reply": "2024-09-13T05:12:22.756380Z"
    },
    "papermill": {
     "duration": 0.049717,
     "end_time": "2024-09-13T05:12:22.759469",
     "exception": false,
     "start_time": "2024-09-13T05:12:22.709752",
     "status": "completed"
    },
    "tags": []
   },
   "outputs": [
    {
     "name": "stdout",
     "output_type": "stream",
     "text": [
      "['hayır' 'evet']\n",
      "2\n",
      "girisimcilik_kulupleri_tarzi_bir_kulube_uye_misiniz\n",
      "hayır    5940\n",
      "evet     5109\n",
      "Name: count, dtype: int64\n"
     ]
    }
   ],
   "source": [
    "print(test[\"girisimcilik_kulupleri_tarzi_bir_kulube_uye_misiniz\"].unique())\n",
    "print(test[\"girisimcilik_kulupleri_tarzi_bir_kulube_uye_misiniz\"].nunique())\n",
    "print(test[\"girisimcilik_kulupleri_tarzi_bir_kulube_uye_misiniz\"].value_counts())"
   ]
  },
  {
   "cell_type": "code",
   "execution_count": 77,
   "id": "ecbd7c88",
   "metadata": {
    "execution": {
     "iopub.execute_input": "2024-09-13T05:12:22.834326Z",
     "iopub.status.busy": "2024-09-13T05:12:22.833558Z",
     "iopub.status.idle": "2024-09-13T05:12:22.843808Z",
     "shell.execute_reply": "2024-09-13T05:12:22.842823Z"
    },
    "papermill": {
     "duration": 0.049793,
     "end_time": "2024-09-13T05:12:22.845888",
     "exception": false,
     "start_time": "2024-09-13T05:12:22.796095",
     "status": "completed"
    },
    "tags": []
   },
   "outputs": [
    {
     "name": "stdout",
     "output_type": "stream",
     "text": [
      "girisimcilik_kulupleri_tarzi_bir_kulube_uye_misiniz\n",
      "hayır    22891\n",
      "evet     17841\n",
      "Name: count, dtype: int64\n"
     ]
    }
   ],
   "source": [
    "print(X_train[\"girisimcilik_kulupleri_tarzi_bir_kulube_uye_misiniz\"].value_counts())"
   ]
  },
  {
   "cell_type": "markdown",
   "id": "7e49bda3",
   "metadata": {
    "papermill": {
     "duration": 0.036247,
     "end_time": "2024-09-13T05:12:22.920635",
     "exception": false,
     "start_time": "2024-09-13T05:12:22.884388",
     "status": "completed"
    },
    "tags": []
   },
   "source": [
    "### profesyonel_bir_spor_daliyla_mesgul_musunuz"
   ]
  },
  {
   "cell_type": "code",
   "execution_count": 78,
   "id": "48152bd5",
   "metadata": {
    "execution": {
     "iopub.execute_input": "2024-09-13T05:12:22.995154Z",
     "iopub.status.busy": "2024-09-13T05:12:22.994235Z",
     "iopub.status.idle": "2024-09-13T05:12:23.005828Z",
     "shell.execute_reply": "2024-09-13T05:12:23.004658Z"
    },
    "papermill": {
     "duration": 0.051025,
     "end_time": "2024-09-13T05:12:23.007972",
     "exception": false,
     "start_time": "2024-09-13T05:12:22.956947",
     "status": "completed"
    },
    "tags": []
   },
   "outputs": [
    {
     "name": "stdout",
     "output_type": "stream",
     "text": [
      "profesyonel_bir_spor_daliyla_mesgul_musunuz\n",
      "hayır    25626\n",
      "evet     14575\n",
      "Name: count, dtype: int64\n"
     ]
    }
   ],
   "source": [
    "print(X_train[\"profesyonel_bir_spor_daliyla_mesgul_musunuz\"].value_counts())"
   ]
  },
  {
   "cell_type": "code",
   "execution_count": 79,
   "id": "3fda9d98",
   "metadata": {
    "execution": {
     "iopub.execute_input": "2024-09-13T05:12:23.082534Z",
     "iopub.status.busy": "2024-09-13T05:12:23.082152Z",
     "iopub.status.idle": "2024-09-13T05:12:23.095389Z",
     "shell.execute_reply": "2024-09-13T05:12:23.094345Z"
    },
    "papermill": {
     "duration": 0.05321,
     "end_time": "2024-09-13T05:12:23.097693",
     "exception": false,
     "start_time": "2024-09-13T05:12:23.044483",
     "status": "completed"
    },
    "tags": []
   },
   "outputs": [
    {
     "name": "stdout",
     "output_type": "stream",
     "text": [
      "['hayır' 'evet' nan]\n",
      "2\n",
      "531\n"
     ]
    }
   ],
   "source": [
    "print(X_train[\"profesyonel_bir_spor_daliyla_mesgul_musunuz\"].unique())\n",
    "print(X_train[\"profesyonel_bir_spor_daliyla_mesgul_musunuz\"].nunique())\n",
    "print(X_train[\"profesyonel_bir_spor_daliyla_mesgul_musunuz\"].isna().sum())"
   ]
  },
  {
   "cell_type": "code",
   "execution_count": 80,
   "id": "130868c9",
   "metadata": {
    "execution": {
     "iopub.execute_input": "2024-09-13T05:12:23.173087Z",
     "iopub.status.busy": "2024-09-13T05:12:23.172045Z",
     "iopub.status.idle": "2024-09-13T05:12:23.193306Z",
     "shell.execute_reply": "2024-09-13T05:12:23.192030Z"
    },
    "papermill": {
     "duration": 0.061181,
     "end_time": "2024-09-13T05:12:23.195570",
     "exception": false,
     "start_time": "2024-09-13T05:12:23.134389",
     "status": "completed"
    },
    "tags": []
   },
   "outputs": [
    {
     "name": "stdout",
     "output_type": "stream",
     "text": [
      "--------\n",
      "['hayır' 'evet']\n",
      "2\n",
      "0\n"
     ]
    }
   ],
   "source": [
    "\n",
    "#X_train.dropna(subset=['anne_egitim_durumu'], inplace=True)\n",
    "\n",
    "X_train['profesyonel_bir_spor_daliyla_mesgul_musunuz'] = X_train['profesyonel_bir_spor_daliyla_mesgul_musunuz'].fillna('hayır')\n",
    "\n",
    "print(\"--------\")\n",
    "print(X_train[\"profesyonel_bir_spor_daliyla_mesgul_musunuz\"].unique())\n",
    "print(X_train[\"profesyonel_bir_spor_daliyla_mesgul_musunuz\"].nunique())\n",
    "print(X_train[\"profesyonel_bir_spor_daliyla_mesgul_musunuz\"].isna().sum())"
   ]
  },
  {
   "cell_type": "code",
   "execution_count": 81,
   "id": "ca27dc13",
   "metadata": {
    "execution": {
     "iopub.execute_input": "2024-09-13T05:12:23.270598Z",
     "iopub.status.busy": "2024-09-13T05:12:23.269765Z",
     "iopub.status.idle": "2024-09-13T05:12:23.280204Z",
     "shell.execute_reply": "2024-09-13T05:12:23.279130Z"
    },
    "papermill": {
     "duration": 0.050493,
     "end_time": "2024-09-13T05:12:23.282509",
     "exception": false,
     "start_time": "2024-09-13T05:12:23.232016",
     "status": "completed"
    },
    "tags": []
   },
   "outputs": [
    {
     "name": "stdout",
     "output_type": "stream",
     "text": [
      "['evet' 'hayır']\n",
      "2\n",
      "profesyonel_bir_spor_daliyla_mesgul_musunuz\n",
      "hayır    6422\n",
      "evet     4627\n",
      "Name: count, dtype: int64\n"
     ]
    }
   ],
   "source": [
    "print(test[\"profesyonel_bir_spor_daliyla_mesgul_musunuz\"].unique())\n",
    "print(test[\"profesyonel_bir_spor_daliyla_mesgul_musunuz\"].nunique())\n",
    "print(test[\"profesyonel_bir_spor_daliyla_mesgul_musunuz\"].value_counts())"
   ]
  },
  {
   "cell_type": "code",
   "execution_count": 82,
   "id": "f12cafbf",
   "metadata": {
    "execution": {
     "iopub.execute_input": "2024-09-13T05:12:23.357555Z",
     "iopub.status.busy": "2024-09-13T05:12:23.357167Z",
     "iopub.status.idle": "2024-09-13T05:12:23.367083Z",
     "shell.execute_reply": "2024-09-13T05:12:23.366108Z"
    },
    "papermill": {
     "duration": 0.05032,
     "end_time": "2024-09-13T05:12:23.369783",
     "exception": false,
     "start_time": "2024-09-13T05:12:23.319463",
     "status": "completed"
    },
    "tags": []
   },
   "outputs": [
    {
     "name": "stdout",
     "output_type": "stream",
     "text": [
      "profesyonel_bir_spor_daliyla_mesgul_musunuz\n",
      "hayır    26157\n",
      "evet     14575\n",
      "Name: count, dtype: int64\n"
     ]
    }
   ],
   "source": [
    "print(X_train[\"profesyonel_bir_spor_daliyla_mesgul_musunuz\"].value_counts())"
   ]
  },
  {
   "cell_type": "markdown",
   "id": "2fa6c1fb",
   "metadata": {
    "papermill": {
     "duration": 0.036834,
     "end_time": "2024-09-13T05:12:23.442930",
     "exception": false,
     "start_time": "2024-09-13T05:12:23.406096",
     "status": "completed"
    },
    "tags": []
   },
   "source": [
    "### aktif_olarak_bir_stk_uyesi_misiniz"
   ]
  },
  {
   "cell_type": "code",
   "execution_count": 83,
   "id": "d825e0c1",
   "metadata": {
    "execution": {
     "iopub.execute_input": "2024-09-13T05:12:23.517417Z",
     "iopub.status.busy": "2024-09-13T05:12:23.516996Z",
     "iopub.status.idle": "2024-09-13T05:12:23.527934Z",
     "shell.execute_reply": "2024-09-13T05:12:23.526898Z"
    },
    "papermill": {
     "duration": 0.050532,
     "end_time": "2024-09-13T05:12:23.530095",
     "exception": false,
     "start_time": "2024-09-13T05:12:23.479563",
     "status": "completed"
    },
    "tags": []
   },
   "outputs": [
    {
     "name": "stdout",
     "output_type": "stream",
     "text": [
      "aktif_olarak_bir_stk_uyesi_misiniz\n",
      "hayır    22487\n",
      "evet      9162\n",
      "Name: count, dtype: int64\n"
     ]
    }
   ],
   "source": [
    "print(X_train[\"aktif_olarak_bir_stk_uyesi_misiniz\"].value_counts())"
   ]
  },
  {
   "cell_type": "code",
   "execution_count": 84,
   "id": "dc0432e7",
   "metadata": {
    "execution": {
     "iopub.execute_input": "2024-09-13T05:12:23.605342Z",
     "iopub.status.busy": "2024-09-13T05:12:23.604934Z",
     "iopub.status.idle": "2024-09-13T05:12:23.617740Z",
     "shell.execute_reply": "2024-09-13T05:12:23.616648Z"
    },
    "papermill": {
     "duration": 0.053415,
     "end_time": "2024-09-13T05:12:23.620485",
     "exception": false,
     "start_time": "2024-09-13T05:12:23.567070",
     "status": "completed"
    },
    "tags": []
   },
   "outputs": [
    {
     "name": "stdout",
     "output_type": "stream",
     "text": [
      "['evet' 'hayır' nan]\n",
      "2\n",
      "9083\n"
     ]
    }
   ],
   "source": [
    "print(X_train[\"aktif_olarak_bir_stk_uyesi_misiniz\"].unique())\n",
    "print(X_train[\"aktif_olarak_bir_stk_uyesi_misiniz\"].nunique())\n",
    "print(X_train[\"aktif_olarak_bir_stk_uyesi_misiniz\"].isna().sum())"
   ]
  },
  {
   "cell_type": "code",
   "execution_count": 85,
   "id": "3838aaba",
   "metadata": {
    "execution": {
     "iopub.execute_input": "2024-09-13T05:12:23.697968Z",
     "iopub.status.busy": "2024-09-13T05:12:23.697536Z",
     "iopub.status.idle": "2024-09-13T05:12:23.717686Z",
     "shell.execute_reply": "2024-09-13T05:12:23.716627Z"
    },
    "papermill": {
     "duration": 0.061911,
     "end_time": "2024-09-13T05:12:23.719985",
     "exception": false,
     "start_time": "2024-09-13T05:12:23.658074",
     "status": "completed"
    },
    "tags": []
   },
   "outputs": [
    {
     "name": "stdout",
     "output_type": "stream",
     "text": [
      "--------\n",
      "['evet' 'hayır']\n",
      "2\n",
      "0\n"
     ]
    }
   ],
   "source": [
    "\n",
    "#X_train.dropna(subset=['anne_egitim_durumu'], inplace=True)\n",
    "\n",
    "X_train['aktif_olarak_bir_stk_uyesi_misiniz'] = X_train['aktif_olarak_bir_stk_uyesi_misiniz'].fillna('hayır')\n",
    "\n",
    "print(\"--------\")\n",
    "print(X_train[\"aktif_olarak_bir_stk_uyesi_misiniz\"].unique())\n",
    "print(X_train[\"aktif_olarak_bir_stk_uyesi_misiniz\"].nunique())\n",
    "print(X_train[\"aktif_olarak_bir_stk_uyesi_misiniz\"].isna().sum())"
   ]
  },
  {
   "cell_type": "code",
   "execution_count": 86,
   "id": "0b425e93",
   "metadata": {
    "execution": {
     "iopub.execute_input": "2024-09-13T05:12:23.796996Z",
     "iopub.status.busy": "2024-09-13T05:12:23.796568Z",
     "iopub.status.idle": "2024-09-13T05:12:23.806868Z",
     "shell.execute_reply": "2024-09-13T05:12:23.805698Z"
    },
    "papermill": {
     "duration": 0.051599,
     "end_time": "2024-09-13T05:12:23.808932",
     "exception": false,
     "start_time": "2024-09-13T05:12:23.757333",
     "status": "completed"
    },
    "tags": []
   },
   "outputs": [
    {
     "name": "stdout",
     "output_type": "stream",
     "text": [
      "['evet' 'hayır']\n",
      "2\n",
      "aktif_olarak_bir_stk_uyesi_misiniz\n",
      "evet     6270\n",
      "hayır    4779\n",
      "Name: count, dtype: int64\n"
     ]
    }
   ],
   "source": [
    "print(test[\"aktif_olarak_bir_stk_uyesi_misiniz\"].unique())\n",
    "print(test[\"aktif_olarak_bir_stk_uyesi_misiniz\"].nunique())\n",
    "print(test[\"aktif_olarak_bir_stk_uyesi_misiniz\"].value_counts())"
   ]
  },
  {
   "cell_type": "code",
   "execution_count": 87,
   "id": "9b38c889",
   "metadata": {
    "execution": {
     "iopub.execute_input": "2024-09-13T05:12:23.886167Z",
     "iopub.status.busy": "2024-09-13T05:12:23.885277Z",
     "iopub.status.idle": "2024-09-13T05:12:23.895676Z",
     "shell.execute_reply": "2024-09-13T05:12:23.894701Z"
    },
    "papermill": {
     "duration": 0.051987,
     "end_time": "2024-09-13T05:12:23.897873",
     "exception": false,
     "start_time": "2024-09-13T05:12:23.845886",
     "status": "completed"
    },
    "tags": []
   },
   "outputs": [
    {
     "name": "stdout",
     "output_type": "stream",
     "text": [
      "aktif_olarak_bir_stk_uyesi_misiniz\n",
      "hayır    31570\n",
      "evet      9162\n",
      "Name: count, dtype: int64\n"
     ]
    }
   ],
   "source": [
    "print(X_train[\"aktif_olarak_bir_stk_uyesi_misiniz\"].value_counts())"
   ]
  },
  {
   "cell_type": "markdown",
   "id": "0be66553",
   "metadata": {
    "papermill": {
     "duration": 0.03721,
     "end_time": "2024-09-13T05:12:23.972538",
     "exception": false,
     "start_time": "2024-09-13T05:12:23.935328",
     "status": "completed"
    },
    "tags": []
   },
   "source": [
    "### ingilizce_biliyor_musunuz"
   ]
  },
  {
   "cell_type": "code",
   "execution_count": 88,
   "id": "c5eb2342",
   "metadata": {
    "execution": {
     "iopub.execute_input": "2024-09-13T05:12:24.052143Z",
     "iopub.status.busy": "2024-09-13T05:12:24.051245Z",
     "iopub.status.idle": "2024-09-13T05:12:24.062909Z",
     "shell.execute_reply": "2024-09-13T05:12:24.061858Z"
    },
    "papermill": {
     "duration": 0.054141,
     "end_time": "2024-09-13T05:12:24.065216",
     "exception": false,
     "start_time": "2024-09-13T05:12:24.011075",
     "status": "completed"
    },
    "tags": []
   },
   "outputs": [
    {
     "name": "stdout",
     "output_type": "stream",
     "text": [
      "ingilizce_biliyor_musunuz\n",
      "evet     31429\n",
      "hayır     5504\n",
      "Name: count, dtype: int64\n"
     ]
    }
   ],
   "source": [
    "print(X_train[\"ingilizce_biliyor_musunuz\"].value_counts())"
   ]
  },
  {
   "cell_type": "code",
   "execution_count": 89,
   "id": "805efc39",
   "metadata": {
    "execution": {
     "iopub.execute_input": "2024-09-13T05:12:24.143150Z",
     "iopub.status.busy": "2024-09-13T05:12:24.142679Z",
     "iopub.status.idle": "2024-09-13T05:12:24.156114Z",
     "shell.execute_reply": "2024-09-13T05:12:24.154853Z"
    },
    "papermill": {
     "duration": 0.055583,
     "end_time": "2024-09-13T05:12:24.158452",
     "exception": false,
     "start_time": "2024-09-13T05:12:24.102869",
     "status": "completed"
    },
    "tags": []
   },
   "outputs": [
    {
     "name": "stdout",
     "output_type": "stream",
     "text": [
      "['evet' 'hayır' nan]\n",
      "2\n",
      "3799\n"
     ]
    }
   ],
   "source": [
    "print(X_train[\"ingilizce_biliyor_musunuz\"].unique())\n",
    "print(X_train[\"ingilizce_biliyor_musunuz\"].nunique())\n",
    "print(X_train[\"ingilizce_biliyor_musunuz\"].isna().sum())"
   ]
  },
  {
   "cell_type": "code",
   "execution_count": 90,
   "id": "ef2d800b",
   "metadata": {
    "execution": {
     "iopub.execute_input": "2024-09-13T05:12:24.237356Z",
     "iopub.status.busy": "2024-09-13T05:12:24.236648Z",
     "iopub.status.idle": "2024-09-13T05:12:24.256742Z",
     "shell.execute_reply": "2024-09-13T05:12:24.255688Z"
    },
    "papermill": {
     "duration": 0.061433,
     "end_time": "2024-09-13T05:12:24.258987",
     "exception": false,
     "start_time": "2024-09-13T05:12:24.197554",
     "status": "completed"
    },
    "tags": []
   },
   "outputs": [
    {
     "name": "stdout",
     "output_type": "stream",
     "text": [
      "--------\n",
      "['evet' 'hayır']\n",
      "2\n",
      "0\n"
     ]
    }
   ],
   "source": [
    "\n",
    "#X_train.dropna(subset=['anne_egitim_durumu'], inplace=True)\n",
    "\n",
    "X_train['ingilizce_biliyor_musunuz'] = X_train['ingilizce_biliyor_musunuz'].fillna('hayır')\n",
    "\n",
    "print(\"--------\")\n",
    "print(X_train[\"ingilizce_biliyor_musunuz\"].unique())\n",
    "print(X_train[\"ingilizce_biliyor_musunuz\"].nunique())\n",
    "print(X_train[\"ingilizce_biliyor_musunuz\"].isna().sum())"
   ]
  },
  {
   "cell_type": "code",
   "execution_count": 91,
   "id": "8459f4e8",
   "metadata": {
    "execution": {
     "iopub.execute_input": "2024-09-13T05:12:24.336479Z",
     "iopub.status.busy": "2024-09-13T05:12:24.336069Z",
     "iopub.status.idle": "2024-09-13T05:12:24.346190Z",
     "shell.execute_reply": "2024-09-13T05:12:24.345079Z"
    },
    "papermill": {
     "duration": 0.051104,
     "end_time": "2024-09-13T05:12:24.348285",
     "exception": false,
     "start_time": "2024-09-13T05:12:24.297181",
     "status": "completed"
    },
    "tags": []
   },
   "outputs": [
    {
     "name": "stdout",
     "output_type": "stream",
     "text": [
      "['evet' 'hayır']\n",
      "2\n",
      "ingilizce_biliyor_musunuz\n",
      "evet     8863\n",
      "hayır    2186\n",
      "Name: count, dtype: int64\n"
     ]
    }
   ],
   "source": [
    "print(test[\"ingilizce_biliyor_musunuz\"].unique())\n",
    "print(test[\"ingilizce_biliyor_musunuz\"].nunique())\n",
    "print(test[\"ingilizce_biliyor_musunuz\"].value_counts())"
   ]
  },
  {
   "cell_type": "code",
   "execution_count": 92,
   "id": "2a68ae9d",
   "metadata": {
    "execution": {
     "iopub.execute_input": "2024-09-13T05:12:24.424455Z",
     "iopub.status.busy": "2024-09-13T05:12:24.424052Z",
     "iopub.status.idle": "2024-09-13T05:12:24.434215Z",
     "shell.execute_reply": "2024-09-13T05:12:24.433238Z"
    },
    "papermill": {
     "duration": 0.050806,
     "end_time": "2024-09-13T05:12:24.436478",
     "exception": false,
     "start_time": "2024-09-13T05:12:24.385672",
     "status": "completed"
    },
    "tags": []
   },
   "outputs": [
    {
     "name": "stdout",
     "output_type": "stream",
     "text": [
      "ingilizce_biliyor_musunuz\n",
      "evet     31429\n",
      "hayır     9303\n",
      "Name: count, dtype: int64\n"
     ]
    }
   ],
   "source": [
    "print(X_train[\"ingilizce_biliyor_musunuz\"].value_counts())"
   ]
  },
  {
   "cell_type": "markdown",
   "id": "5183f425",
   "metadata": {
    "papermill": {
     "duration": 0.037525,
     "end_time": "2024-09-13T05:12:24.512714",
     "exception": false,
     "start_time": "2024-09-13T05:12:24.475189",
     "status": "completed"
    },
    "tags": []
   },
   "source": [
    "### baska_kurumdan_aldigi_burs_miktari"
   ]
  },
  {
   "cell_type": "code",
   "execution_count": 93,
   "id": "85b4b84f",
   "metadata": {
    "execution": {
     "iopub.execute_input": "2024-09-13T05:12:24.589405Z",
     "iopub.status.busy": "2024-09-13T05:12:24.588578Z",
     "iopub.status.idle": "2024-09-13T05:12:24.601261Z",
     "shell.execute_reply": "2024-09-13T05:12:24.600224Z"
    },
    "papermill": {
     "duration": 0.053848,
     "end_time": "2024-09-13T05:12:24.603874",
     "exception": false,
     "start_time": "2024-09-13T05:12:24.550026",
     "status": "completed"
    },
    "tags": []
   },
   "outputs": [
    {
     "name": "stdout",
     "output_type": "stream",
     "text": [
      "baska_kurumdan_aldigi_burs_miktari\n",
      "-                3784\n",
      "500 ve üzeri     3295\n",
      "500₺ - 999₺      1968\n",
      "500              1223\n",
      "425               813\n",
      "300-500           656\n",
      "300               224\n",
      "diğer             213\n",
      "400               197\n",
      "1000₺ ve üstü     193\n",
      "0 - 499₺          181\n",
      "200               119\n",
      "300 tl            117\n",
      "425 tl            103\n",
      "250                82\n",
      "150                64\n",
      "400 tl             44\n",
      "450                40\n",
      "600                39\n",
      "150 tl             38\n",
      "420                37\n",
      "330                36\n",
      "100 tl             31\n",
      "100                30\n",
      "200 tl             29\n",
      "750                28\n",
      "220                26\n",
      "430                22\n",
      "330 tl             21\n",
      "475                19\n",
      "Name: count, dtype: int64\n",
      "toplam: 14429\n"
     ]
    }
   ],
   "source": [
    "print(X_train[\"baska_kurumdan_aldigi_burs_miktari\"].value_counts().head(30))\n",
    "print(\"toplam:\",X_train[\"baska_kurumdan_aldigi_burs_miktari\"].value_counts().sum())"
   ]
  },
  {
   "cell_type": "code",
   "execution_count": 94,
   "id": "25e6afe1",
   "metadata": {
    "execution": {
     "iopub.execute_input": "2024-09-13T05:12:24.681725Z",
     "iopub.status.busy": "2024-09-13T05:12:24.680794Z",
     "iopub.status.idle": "2024-09-13T05:12:24.739696Z",
     "shell.execute_reply": "2024-09-13T05:12:24.738567Z"
    },
    "papermill": {
     "duration": 0.100432,
     "end_time": "2024-09-13T05:12:24.742090",
     "exception": false,
     "start_time": "2024-09-13T05:12:24.641658",
     "status": "completed"
    },
    "tags": []
   },
   "outputs": [
    {
     "name": "stdout",
     "output_type": "stream",
     "text": [
      "--------\n",
      "['-' '0 - 499 ₺' '500₺ - 999₺' '1000₺ ve üstü']\n",
      "4\n",
      "0\n"
     ]
    }
   ],
   "source": [
    "\n",
    "#X_train.dropna(subset=['anne_egitim_durumu'], inplace=True)\n",
    "\n",
    "X_train['baska_kurumdan_aldigi_burs_miktari'] = X_train['baska_kurumdan_aldigi_burs_miktari'].fillna('-')\n",
    "replace_dict_2 = {\n",
    "    '500 ve üzeri': '500₺ - 999₺',\n",
    "    '500₺ - 999₺': '500₺ - 999₺',\n",
    "    '500': '500₺ - 999₺',\n",
    "    '425': '0 - 499 ₺',\n",
    "    '300-500': '0 - 499 ₺',\n",
    "    '300': '0 - 499 ₺',\n",
    "    'diğer': '0 - 499 ₺',\n",
    "    '400': '0 - 499 ₺',\n",
    "    '1000₺ ve üstü': '1000₺ ve üstü',\n",
    "}\n",
    "X_train['baska_kurumdan_aldigi_burs_miktari'] = X_train['baska_kurumdan_aldigi_burs_miktari'].replace(replace_dict_2)\n",
    "X_train['baska_kurumdan_aldigi_burs_miktari'] = X_train['baska_kurumdan_aldigi_burs_miktari'].apply(lambda x: x if x in replace_dict_2.values() or x == '-' else '-')\n",
    "\n",
    "print(\"--------\")\n",
    "print(X_train[\"baska_kurumdan_aldigi_burs_miktari\"].unique())\n",
    "print(X_train[\"baska_kurumdan_aldigi_burs_miktari\"].nunique())\n",
    "print(X_train[\"baska_kurumdan_aldigi_burs_miktari\"].isna().sum())"
   ]
  },
  {
   "cell_type": "code",
   "execution_count": 95,
   "id": "50fa554a",
   "metadata": {
    "execution": {
     "iopub.execute_input": "2024-09-13T05:12:24.819437Z",
     "iopub.status.busy": "2024-09-13T05:12:24.819035Z",
     "iopub.status.idle": "2024-09-13T05:12:24.829641Z",
     "shell.execute_reply": "2024-09-13T05:12:24.828614Z"
    },
    "papermill": {
     "duration": 0.052095,
     "end_time": "2024-09-13T05:12:24.831689",
     "exception": false,
     "start_time": "2024-09-13T05:12:24.779594",
     "status": "completed"
    },
    "tags": []
   },
   "outputs": [
    {
     "name": "stdout",
     "output_type": "stream",
     "text": [
      "['-' '1000₺ ve üstü' '500₺ - 999₺' '0 - 499 ₺']\n",
      "4\n",
      "baska_kurumdan_aldigi_burs_miktari\n",
      "-                6546\n",
      "1000₺ ve üstü    4110\n",
      "500₺ - 999₺       248\n",
      "0 - 499 ₺         145\n",
      "Name: count, dtype: int64\n"
     ]
    }
   ],
   "source": [
    "print(test[\"baska_kurumdan_aldigi_burs_miktari\"].unique())\n",
    "print(test[\"baska_kurumdan_aldigi_burs_miktari\"].nunique())\n",
    "print(test[\"baska_kurumdan_aldigi_burs_miktari\"].value_counts())"
   ]
  },
  {
   "cell_type": "code",
   "execution_count": 96,
   "id": "98ac71f7",
   "metadata": {
    "execution": {
     "iopub.execute_input": "2024-09-13T05:12:24.910549Z",
     "iopub.status.busy": "2024-09-13T05:12:24.910161Z",
     "iopub.status.idle": "2024-09-13T05:12:24.919734Z",
     "shell.execute_reply": "2024-09-13T05:12:24.918772Z"
    },
    "papermill": {
     "duration": 0.051277,
     "end_time": "2024-09-13T05:12:24.922378",
     "exception": false,
     "start_time": "2024-09-13T05:12:24.871101",
     "status": "completed"
    },
    "tags": []
   },
   "outputs": [
    {
     "name": "stdout",
     "output_type": "stream",
     "text": [
      "baska_kurumdan_aldigi_burs_miktari\n",
      "-                31950\n",
      "500₺ - 999₺       6486\n",
      "0 - 499 ₺         2103\n",
      "1000₺ ve üstü      193\n",
      "Name: count, dtype: int64\n"
     ]
    }
   ],
   "source": [
    "print(X_train[\"baska_kurumdan_aldigi_burs_miktari\"].value_counts())"
   ]
  },
  {
   "cell_type": "code",
   "execution_count": 97,
   "id": "9dab0118",
   "metadata": {
    "execution": {
     "iopub.execute_input": "2024-09-13T05:12:24.999965Z",
     "iopub.status.busy": "2024-09-13T05:12:24.999539Z",
     "iopub.status.idle": "2024-09-13T05:12:25.047075Z",
     "shell.execute_reply": "2024-09-13T05:12:25.046048Z"
    },
    "papermill": {
     "duration": 0.088883,
     "end_time": "2024-09-13T05:12:25.049230",
     "exception": false,
     "start_time": "2024-09-13T05:12:24.960347",
     "status": "completed"
    },
    "tags": []
   },
   "outputs": [
    {
     "data": {
      "text/plain": [
       "basvuru_yili                                           0\n",
       "cinsiyet                                               0\n",
       "universite_turu                                        0\n",
       "burs_aliyor_mu                                         0\n",
       "universite_kacinci_sinif                               0\n",
       "universite_not_ortalamasi                              0\n",
       "lise_turu                                              0\n",
       "lise_mezuniyet_notu                                    0\n",
       "baska_bir_kurumdan_burs_aliyor_mu                      0\n",
       "baska_kurumdan_aldigi_burs_miktari                     0\n",
       "anne_egitim_durumu                                     0\n",
       "anne_calisma_durumu                                    0\n",
       "anne_sektor                                            0\n",
       "baba_egitim_durumu                                     0\n",
       "baba_calisma_durumu                                    0\n",
       "baba_sektor                                            0\n",
       "kardes_sayisi                                          0\n",
       "girisimcilik_kulupleri_tarzi_bir_kulube_uye_misiniz    0\n",
       "profesyonel_bir_spor_daliyla_mesgul_musunuz            0\n",
       "aktif_olarak_bir_stk_uyesi_misiniz                     0\n",
       "ingilizce_biliyor_musunuz                              0\n",
       "id                                                     0\n",
       "dtype: int64"
      ]
     },
     "execution_count": 97,
     "metadata": {},
     "output_type": "execute_result"
    }
   ],
   "source": [
    "X_train.isna().sum()"
   ]
  },
  {
   "cell_type": "markdown",
   "id": "77031928",
   "metadata": {
    "papermill": {
     "duration": 0.037379,
     "end_time": "2024-09-13T05:12:25.124762",
     "exception": false,
     "start_time": "2024-09-13T05:12:25.087383",
     "status": "completed"
    },
    "tags": []
   },
   "source": [
    "# Bitti"
   ]
  },
  {
   "cell_type": "markdown",
   "id": "b0d36c1f",
   "metadata": {
    "papermill": {
     "duration": 0.037744,
     "end_time": "2024-09-13T05:12:25.200328",
     "exception": false,
     "start_time": "2024-09-13T05:12:25.162584",
     "status": "completed"
    },
    "tags": []
   },
   "source": [
    "# Pipeline tarzı uygulama"
   ]
  },
  {
   "cell_type": "code",
   "execution_count": 98,
   "id": "f5185b66",
   "metadata": {
    "execution": {
     "iopub.execute_input": "2024-09-13T05:12:25.278140Z",
     "iopub.status.busy": "2024-09-13T05:12:25.277481Z",
     "iopub.status.idle": "2024-09-13T05:12:25.304928Z",
     "shell.execute_reply": "2024-09-13T05:12:25.303928Z"
    },
    "papermill": {
     "duration": 0.068891,
     "end_time": "2024-09-13T05:12:25.307061",
     "exception": false,
     "start_time": "2024-09-13T05:12:25.238170",
     "status": "completed"
    },
    "tags": []
   },
   "outputs": [
    {
     "data": {
      "text/html": [
       "<div>\n",
       "<style scoped>\n",
       "    .dataframe tbody tr th:only-of-type {\n",
       "        vertical-align: middle;\n",
       "    }\n",
       "\n",
       "    .dataframe tbody tr th {\n",
       "        vertical-align: top;\n",
       "    }\n",
       "\n",
       "    .dataframe thead th {\n",
       "        text-align: right;\n",
       "    }\n",
       "</style>\n",
       "<table border=\"1\" class=\"dataframe\">\n",
       "  <thead>\n",
       "    <tr style=\"text-align: right;\">\n",
       "      <th></th>\n",
       "      <th>Basvuru Yili</th>\n",
       "      <th>Cinsiyet</th>\n",
       "      <th>Dogum Tarihi</th>\n",
       "      <th>Dogum Yeri</th>\n",
       "      <th>Ikametgah Sehri</th>\n",
       "      <th>Universite Adi</th>\n",
       "      <th>Universite Turu</th>\n",
       "      <th>Burslu ise Burs Yuzdesi</th>\n",
       "      <th>Burs Aliyor mu?</th>\n",
       "      <th>Bölüm</th>\n",
       "      <th>Universite Kacinci Sinif</th>\n",
       "      <th>Universite Not Ortalamasi</th>\n",
       "      <th>Daha Once Baska Bir Universiteden Mezun Olmus</th>\n",
       "      <th>Lise Adi</th>\n",
       "      <th>Lise Adi Diger</th>\n",
       "      <th>Lise Sehir</th>\n",
       "      <th>Lise Turu</th>\n",
       "      <th>Lise Bolumu</th>\n",
       "      <th>Lise Bolum Diger</th>\n",
       "      <th>Lise Mezuniyet Notu</th>\n",
       "      <th>Baska Bir Kurumdan Burs Aliyor mu?</th>\n",
       "      <th>Burs Aldigi Baska Kurum</th>\n",
       "      <th>Baska Kurumdan Aldigi Burs Miktari</th>\n",
       "      <th>Anne Egitim Durumu</th>\n",
       "      <th>Anne Calisma Durumu</th>\n",
       "      <th>Anne Sektor</th>\n",
       "      <th>Baba Egitim Durumu</th>\n",
       "      <th>Baba Calisma Durumu</th>\n",
       "      <th>Baba Sektor</th>\n",
       "      <th>Kardes Sayisi</th>\n",
       "      <th>Girisimcilik Kulupleri Tarzi Bir Kulube Uye misiniz?</th>\n",
       "      <th>Uye Oldugunuz Kulubun Ismi</th>\n",
       "      <th>Profesyonel Bir Spor Daliyla Mesgul musunuz?</th>\n",
       "      <th>Spor Dalindaki Rolunuz Nedir?</th>\n",
       "      <th>Aktif olarak bir STK üyesi misiniz?</th>\n",
       "      <th>Hangi STK'nin Uyesisiniz?</th>\n",
       "      <th>Stk Projesine Katildiniz Mi?</th>\n",
       "      <th>Girisimcilikle Ilgili Deneyiminiz Var Mi?</th>\n",
       "      <th>Girisimcilikle Ilgili Deneyiminizi Aciklayabilir misiniz?</th>\n",
       "      <th>Ingilizce Biliyor musunuz?</th>\n",
       "      <th>Ingilizce Seviyeniz?</th>\n",
       "      <th>Daha Önceden Mezun Olunduysa, Mezun Olunan Üniversite</th>\n",
       "      <th>id</th>\n",
       "    </tr>\n",
       "  </thead>\n",
       "  <tbody>\n",
       "    <tr>\n",
       "      <th>936</th>\n",
       "      <td>2015</td>\n",
       "      <td>Erkek</td>\n",
       "      <td>25-Jan-98</td>\n",
       "      <td>Antalya</td>\n",
       "      <td>İstanbul</td>\n",
       "      <td>ABANT İZZET BAYSAL ÜNİVERSİTESİ</td>\n",
       "      <td>Özel</td>\n",
       "      <td>100.0</td>\n",
       "      <td>Evet</td>\n",
       "      <td>Lise Öğrencisiyim</td>\n",
       "      <td>Hazırlık</td>\n",
       "      <td>3.50-3</td>\n",
       "      <td>Hayır</td>\n",
       "      <td>İstanbul Erkek Lisesi</td>\n",
       "      <td>NaN</td>\n",
       "      <td>İstanbul</td>\n",
       "      <td>Anadolu lisesi</td>\n",
       "      <td>FEN SAYISAL BİLİMLERİ ALANI</td>\n",
       "      <td>Alman Bölümü</td>\n",
       "      <td>4.00-3.50</td>\n",
       "      <td>Hayır</td>\n",
       "      <td>NaN</td>\n",
       "      <td>NaN</td>\n",
       "      <td>Lise</td>\n",
       "      <td>Hayır</td>\n",
       "      <td>0</td>\n",
       "      <td>Lise</td>\n",
       "      <td>Evet</td>\n",
       "      <td>Özel Sektör</td>\n",
       "      <td>0</td>\n",
       "      <td>Evet</td>\n",
       "      <td>İstanbul Lisesi Ekonomi Kulübü</td>\n",
       "      <td>Hayır</td>\n",
       "      <td>0</td>\n",
       "      <td>Evet</td>\n",
       "      <td>Lösev</td>\n",
       "      <td>Hayır</td>\n",
       "      <td>Evet</td>\n",
       "      <td>Farklı sektör ve şirketlerde stajyerlik yaptım...</td>\n",
       "      <td>Evet</td>\n",
       "      <td>0</td>\n",
       "      <td>NaN</td>\n",
       "      <td>936</td>\n",
       "    </tr>\n",
       "  </tbody>\n",
       "</table>\n",
       "</div>"
      ],
      "text/plain": [
       "     Basvuru Yili Cinsiyet Dogum Tarihi Dogum Yeri Ikametgah Sehri  \\\n",
       "936          2015    Erkek    25-Jan-98    Antalya        İstanbul   \n",
       "\n",
       "                      Universite Adi Universite Turu  Burslu ise Burs Yuzdesi  \\\n",
       "936  ABANT İZZET BAYSAL ÜNİVERSİTESİ            Özel                    100.0   \n",
       "\n",
       "    Burs Aliyor mu?              Bölüm Universite Kacinci Sinif  \\\n",
       "936            Evet  Lise Öğrencisiyim                 Hazırlık   \n",
       "\n",
       "    Universite Not Ortalamasi Daha Once Baska Bir Universiteden Mezun Olmus  \\\n",
       "936                    3.50-3                                         Hayır   \n",
       "\n",
       "                  Lise Adi Lise Adi Diger Lise Sehir       Lise Turu  \\\n",
       "936  İstanbul Erkek Lisesi            NaN   İstanbul  Anadolu lisesi   \n",
       "\n",
       "                     Lise Bolumu Lise Bolum Diger Lise Mezuniyet Notu  \\\n",
       "936  FEN SAYISAL BİLİMLERİ ALANI     Alman Bölümü           4.00-3.50   \n",
       "\n",
       "    Baska Bir Kurumdan Burs Aliyor mu? Burs Aldigi Baska Kurum  \\\n",
       "936                              Hayır                     NaN   \n",
       "\n",
       "    Baska Kurumdan Aldigi Burs Miktari Anne Egitim Durumu Anne Calisma Durumu  \\\n",
       "936                                NaN               Lise               Hayır   \n",
       "\n",
       "    Anne Sektor Baba Egitim Durumu Baba Calisma Durumu  Baba Sektor  \\\n",
       "936           0               Lise                Evet  Özel Sektör   \n",
       "\n",
       "    Kardes Sayisi Girisimcilik Kulupleri Tarzi Bir Kulube Uye misiniz?  \\\n",
       "936             0                                               Evet     \n",
       "\n",
       "         Uye Oldugunuz Kulubun Ismi  \\\n",
       "936  İstanbul Lisesi Ekonomi Kulübü   \n",
       "\n",
       "    Profesyonel Bir Spor Daliyla Mesgul musunuz?  \\\n",
       "936                                        Hayır   \n",
       "\n",
       "    Spor Dalindaki Rolunuz Nedir? Aktif olarak bir STK üyesi misiniz?  \\\n",
       "936                             0                                Evet   \n",
       "\n",
       "    Hangi STK'nin Uyesisiniz? Stk Projesine Katildiniz Mi?  \\\n",
       "936                     Lösev                        Hayır   \n",
       "\n",
       "    Girisimcilikle Ilgili Deneyiminiz Var Mi?  \\\n",
       "936                                      Evet   \n",
       "\n",
       "    Girisimcilikle Ilgili Deneyiminizi Aciklayabilir misiniz?  \\\n",
       "936  Farklı sektör ve şirketlerde stajyerlik yaptım...          \n",
       "\n",
       "    Ingilizce Biliyor musunuz? Ingilizce Seviyeniz?  \\\n",
       "936                       Evet                    0   \n",
       "\n",
       "    Daha Önceden Mezun Olunduysa, Mezun Olunan Üniversite   id  \n",
       "936                                                NaN     936  "
      ]
     },
     "execution_count": 98,
     "metadata": {},
     "output_type": "execute_result"
    }
   ],
   "source": [
    "X_test.head(1)"
   ]
  },
  {
   "cell_type": "code",
   "execution_count": 99,
   "id": "85f0d8a0",
   "metadata": {
    "execution": {
     "iopub.execute_input": "2024-09-13T05:12:25.385933Z",
     "iopub.status.busy": "2024-09-13T05:12:25.385185Z",
     "iopub.status.idle": "2024-09-13T05:12:25.942979Z",
     "shell.execute_reply": "2024-09-13T05:12:25.941820Z"
    },
    "papermill": {
     "duration": 0.601315,
     "end_time": "2024-09-13T05:12:25.946817",
     "exception": false,
     "start_time": "2024-09-13T05:12:25.345502",
     "status": "completed"
    },
    "tags": []
   },
   "outputs": [
    {
     "name": "stderr",
     "output_type": "stream",
     "text": [
      "/tmp/ipykernel_17/388060900.py:2: FutureWarning: DataFrame.applymap has been deprecated. Use DataFrame.map instead.\n",
      "  X_test = X_test.applymap(lambda x: x.lower() if isinstance(x, str) else x)\n",
      "/tmp/ipykernel_17/388060900.py:5: FutureWarning: DataFrame.applymap has been deprecated. Use DataFrame.map instead.\n",
      "  X_test = X_test.applymap(lambda x: x.lower() if isinstance(x, str) else x)\n"
     ]
    }
   ],
   "source": [
    "X_test.columns = [col.strip().lower().replace(' ', '_').replace('?', '').replace(\"'\", '').replace(\"ö\", 'o').replace(\"ü\", 'u').replace(\"Ö\", 'o').replace(\"Ü\", 'u').replace(\",\", '') for col in X_test.columns]\n",
    "X_test = X_test.applymap(lambda x: x.lower() if isinstance(x, str) else x)\n",
    "\n",
    "X_test.columns = [col.strip().lower().replace(' ', '_').replace('?', '').replace(\"'\", '').replace(\"ö\", 'o').replace(\"ü\", 'u').replace(\"Ö\", 'o').replace(\"Ü\", 'u').replace(\",\", '') for col in X_test.columns]\n",
    "X_test = X_test.applymap(lambda x: x.lower() if isinstance(x, str) else x)"
   ]
  },
  {
   "cell_type": "code",
   "execution_count": 100,
   "id": "7c078724",
   "metadata": {
    "execution": {
     "iopub.execute_input": "2024-09-13T05:12:26.032445Z",
     "iopub.status.busy": "2024-09-13T05:12:26.031540Z",
     "iopub.status.idle": "2024-09-13T05:12:26.207475Z",
     "shell.execute_reply": "2024-09-13T05:12:26.206334Z"
    },
    "papermill": {
     "duration": 0.218618,
     "end_time": "2024-09-13T05:12:26.210011",
     "exception": false,
     "start_time": "2024-09-13T05:12:25.991393",
     "status": "completed"
    },
    "tags": []
   },
   "outputs": [],
   "source": [
    "X_test = X_test.drop(\"dogum_tarihi\",axis=1)\n",
    "X_test = X_test.drop(\"dogum_yeri\",axis=1)\n",
    "X_test = X_test.drop(\"ikametgah_sehri\",axis=1)\n",
    "X_test = X_test.drop(\"universite_adi\",axis=1)\n",
    "X_test = X_test.drop(\"bolum\",axis=1)\n",
    "X_test = X_test.drop(\"daha_once_baska_bir_universiteden_mezun_olmus\",axis=1)\n",
    "\n",
    "X_test = X_test.drop(\"lise_adi\",axis=1)\n",
    "X_test = X_test.drop(\"lise_adi_diger\",axis=1)\n",
    "X_test = X_test.drop(\"lise_sehir\",axis=1)\n",
    "\n",
    "X_test = X_test.drop(\"lise_bolum_diger\",axis=1)\n",
    "X_test = X_test.drop(\"burs_aldigi_baska_kurum\",axis=1)\n",
    "\n",
    "X_test = X_test.drop(\"uye_oldugunuz_kulubun_ismi\",axis=1)\n",
    "\n",
    "X_test = X_test.drop(\"spor_dalindaki_rolunuz_nedir\",axis=1)\n",
    "\n",
    "X_test = X_test.drop(\"hangi_stknin_uyesisiniz\",axis=1)\n",
    "X_test = X_test.drop(\"stk_projesine_katildiniz_mi\",axis=1)\n",
    "\n",
    "X_test = X_test.drop(\"girisimcilikle_ilgili_deneyiminizi_aciklayabilir_misiniz\",axis=1)\n",
    "\n",
    "X_test = X_test.drop(\"girisimcilikle_ilgili_deneyiminiz_var_mi\",axis=1)\n",
    "\n",
    "X_test = X_test.drop(\"ingilizce_seviyeniz\",axis=1)\n",
    "\n",
    "X_test = X_test.drop(\"daha_onceden_mezun_olunduysa_mezun_olunan_universite\",axis=1)\n",
    "\n",
    "X_test = X_test.drop(\"burslu_ise_burs_yuzdesi\",axis=1)\n",
    "X_test = X_test.drop(\"lise_bolumu\",axis=1)"
   ]
  },
  {
   "cell_type": "code",
   "execution_count": 101,
   "id": "bb0f45bf",
   "metadata": {
    "execution": {
     "iopub.execute_input": "2024-09-13T05:12:26.289765Z",
     "iopub.status.busy": "2024-09-13T05:12:26.289376Z",
     "iopub.status.idle": "2024-09-13T05:12:26.587779Z",
     "shell.execute_reply": "2024-09-13T05:12:26.586734Z"
    },
    "papermill": {
     "duration": 0.341479,
     "end_time": "2024-09-13T05:12:26.590261",
     "exception": false,
     "start_time": "2024-09-13T05:12:26.248782",
     "status": "completed"
    },
    "tags": []
   },
   "outputs": [
    {
     "name": "stderr",
     "output_type": "stream",
     "text": [
      "/tmp/ipykernel_17/2478134494.py:154: FutureWarning: Downcasting behavior in `replace` is deprecated and will be removed in a future version. To retain the old behavior, explicitly call `result.infer_objects(copy=False)`. To opt-in to the future behavior, set `pd.set_option('future.no_silent_downcasting', True)`\n",
      "  X_test['kardes_sayisi'] = X_test['kardes_sayisi'].replace(replace_dict)\n"
     ]
    }
   ],
   "source": [
    "X_test = X_test.dropna(subset=['cinsiyet'])\n",
    "X_test.dropna(subset=['universite_turu'], inplace=True)\n",
    "X_test.dropna(subset=['burs_aliyor_mu'], inplace=True)\n",
    "\n",
    "X_test.dropna(subset=['universite_kacinci_sinif'], inplace=True)\n",
    "\n",
    "X_test = X_test.loc[~X_test['universite_kacinci_sinif'].isin(['mezun', 'yüksek lisans', 'tez', '0'])]\n",
    "X_test.dropna(subset=['universite_kacinci_sinif'], inplace=True)\n",
    "\n",
    "\n",
    "X_test.dropna(subset=['universite_not_ortalamasi'], inplace=True)\n",
    "#X_test = X_test.loc[~X_test['universite_kacinci_sinif'].isin(['mezun', 'yüksek lisans', 'tez', '0'])]\n",
    "X_test['universite_not_ortalamasi'] = X_test['universite_not_ortalamasi'].replace('3.00-2.50', '2.50 - 2.99')\n",
    "X_test['universite_not_ortalamasi'] = X_test['universite_not_ortalamasi'].replace('2.50 ve altı', '1.80 - 2.49')\n",
    "X_test['universite_not_ortalamasi'] = X_test['universite_not_ortalamasi'].replace('3.00 - 3.50', '3.00 - 3.49')\n",
    "X_test['universite_not_ortalamasi'] = X_test['universite_not_ortalamasi'].replace('3.50-3', '3.00 - 3.49')\n",
    "X_test['universite_not_ortalamasi'] = X_test['universite_not_ortalamasi'].replace('2.50 - 3.00', '2.50 - 2.99')\n",
    "X_test['universite_not_ortalamasi'] = X_test['universite_not_ortalamasi'].replace('3.50 - 4.00', '3.50 - 4.00')\n",
    "X_test['universite_not_ortalamasi'] = X_test['universite_not_ortalamasi'].replace('ortalama bulunmuyor', 'hazırlığım')\n",
    "X_test['universite_not_ortalamasi'] = X_test['universite_not_ortalamasi'].replace('2.50 - 2.99', '2.50 - 2.99')\n",
    "X_test['universite_not_ortalamasi'] = X_test['universite_not_ortalamasi'].replace('2.00 - 2.50', '1.80 - 2.49')\n",
    "X_test['universite_not_ortalamasi'] = X_test['universite_not_ortalamasi'].replace('3.00 - 3.49', '3.00 - 3.49')\n",
    "X_test['universite_not_ortalamasi'] = X_test['universite_not_ortalamasi'].replace('2.50 -3.00', '2.50 - 2.99')\n",
    "X_test['universite_not_ortalamasi'] = X_test['universite_not_ortalamasi'].replace('3.00 - 4.00', '3.00 - 3.49') #çoğunluğu 3.50 altındadır diye şimdilik bunu seçiyorum\n",
    "X_test['universite_not_ortalamasi'] = X_test['universite_not_ortalamasi'].replace('1.80 - 2.49', '1.80 - 2.49')\n",
    "X_test['universite_not_ortalamasi'] = X_test['universite_not_ortalamasi'].replace('not ortalaması yok', 'hazırlığım')\n",
    "X_test['universite_not_ortalamasi'] = X_test['universite_not_ortalamasi'].replace('4-3.5', '3.50 - 4.00')\n",
    "X_test['universite_not_ortalamasi'] = X_test['universite_not_ortalamasi'].replace('1.00 - 2.50', '1.80 - 2.49')\n",
    "X_test['universite_not_ortalamasi'] = X_test['universite_not_ortalamasi'].replace('0 - 1.79', '0 - 1.79')\n",
    "\n",
    "\n",
    "X_test.dropna(subset=['lise_turu'], inplace=True)\n",
    "X_test['lise_turu'] = X_test['lise_turu'].replace('anadolu lisesi', 'devlet')\n",
    "X_test['lise_turu'] = X_test['lise_turu'].replace('diğer', 'özel')\n",
    "X_test['lise_turu'] = X_test['lise_turu'].replace('düz lise', 'devlet')\n",
    "X_test['lise_turu'] = X_test['lise_turu'].replace('meslek lisesi', 'devlet')\n",
    "X_test['lise_turu'] = X_test['lise_turu'].replace('fen lisesi', 'devlet')\n",
    "X_test['lise_turu'] = X_test['lise_turu'].replace('meslek', 'devlet')\n",
    "X_test['lise_turu'] = X_test['lise_turu'].replace('özel lisesi', 'özel')\n",
    "X_test['lise_turu'] = X_test['lise_turu'].replace('i̇mam hatip lisesi', 'devlet')\n",
    "X_test['lise_turu'] = X_test['lise_turu'].replace('özel lise', 'devlet')\n",
    "\n",
    "\n",
    "X_test.dropna(subset=['lise_mezuniyet_notu'], inplace=True)\n",
    "#X_test['lise_turu'] = X_test['lise_turu'].replace('anadolu lisesi', 'devlet')\n",
    "X_test['lise_mezuniyet_notu'] = X_test['lise_mezuniyet_notu'].replace('84-70', '75 - 100')\n",
    "X_test['lise_mezuniyet_notu'] = X_test['lise_mezuniyet_notu'].replace('100-85', '75 - 100')\n",
    "X_test['lise_mezuniyet_notu'] = X_test['lise_mezuniyet_notu'].replace('50 - 75', '50 - 74')\n",
    "X_test['lise_mezuniyet_notu'] = X_test['lise_mezuniyet_notu'].replace('4.00-3.50', '75 - 100')\n",
    "X_test['lise_mezuniyet_notu'] = X_test['lise_mezuniyet_notu'].replace('3.00 - 4.00', '75 - 100')\n",
    "X_test['lise_mezuniyet_notu'] = X_test['lise_mezuniyet_notu'].replace('3.50-3.00', '75 - 100')\n",
    "X_test['lise_mezuniyet_notu'] = X_test['lise_mezuniyet_notu'].replace('69-55', '50 - 74')\n",
    "X_test['lise_mezuniyet_notu'] = X_test['lise_mezuniyet_notu'].replace('3.50-3', '75 - 100')\n",
    "X_test['lise_mezuniyet_notu'] = X_test['lise_mezuniyet_notu'].replace('3.00-2.50', '50 - 74')\n",
    "X_test['lise_mezuniyet_notu'] = X_test['lise_mezuniyet_notu'].replace('2.50 ve altı', '50 - 74')\n",
    "X_test['lise_mezuniyet_notu'] = X_test['lise_mezuniyet_notu'].replace('54-45', '50 - 74')\n",
    "X_test['lise_mezuniyet_notu'] = X_test['lise_mezuniyet_notu'].replace('25 - 50', '25 - 49')\n",
    "X_test['lise_mezuniyet_notu'] = X_test['lise_mezuniyet_notu'].replace('not ortalaması yok', '')\n",
    "\n",
    "X_test = X_test.loc[~X_test['lise_mezuniyet_notu'].isin(['not ortalaması yok', '44-0', '0 - 25', '0 - 24', ''])]\n",
    "\n",
    "\n",
    "X_test.dropna(subset=['baska_bir_kurumdan_burs_aliyor_mu'], inplace=True)\n",
    "\n",
    "\n",
    "X_test[\"anne_egitim_durumu\"] = X_test[\"anne_egitim_durumu\"].str.lower()\n",
    "X_test[\"anne_egitim_durumu\"] = X_test[\"anne_egitim_durumu\"].str.normalize('NFKD').str.encode('ascii', errors='ignore').str.decode('utf-8')\n",
    "\n",
    "\n",
    "\n",
    "X_test['anne_egitim_durumu'] = X_test['anne_egitim_durumu'].fillna(\"eğitimi yok\")\n",
    "X_test['anne_egitim_durumu'] = X_test['anne_egitim_durumu'].replace('i̇lkokul mezunu', 'i̇lkokul')\n",
    "X_test['anne_egitim_durumu'] = X_test['anne_egitim_durumu'].replace('eği̇ti̇m yok', 'eği̇ti̇mi yok')\n",
    "X_test['anne_egitim_durumu'] = X_test['anne_egitim_durumu'].replace('ortaokul mezunu', 'ortaokul')\n",
    "X_test['anne_egitim_durumu'] = X_test['anne_egitim_durumu'].replace('yüksek lisans / doktora', 'doktora')\n",
    "X_test['anne_egitim_durumu'] = X_test['anne_egitim_durumu'].replace('egitim yok', 'eğitimi yok')\n",
    "X_test['anne_egitim_durumu'] = X_test['anne_egitim_durumu'].replace('egitimi yok', 'eğitimi yok')\n",
    "X_test['anne_egitim_durumu'] = X_test['anne_egitim_durumu'].replace('yuksek lisans', 'yüksek lisans')\n",
    "X_test['anne_egitim_durumu'] = X_test['anne_egitim_durumu'].replace('yuksek lisans / doktora', 'doktora')\n",
    "X_test['anne_egitim_durumu'] = X_test['anne_egitim_durumu'].replace('universite', 'üniversite')\n",
    "X_test['anne_egitim_durumu'] = X_test['anne_egitim_durumu'].replace('ilkokul mezunu', 'ilkokul')\n",
    "\n",
    "\n",
    "X_test['anne_calisma_durumu'] = X_test['anne_calisma_durumu'].fillna(\"hayır\")\n",
    "X_test['anne_calisma_durumu'] = X_test['anne_calisma_durumu'].replace('emekli', 'hayır')\n",
    "\n",
    "\n",
    "\n",
    "X_test['anne_sektor'] = X_test['anne_sektor'].fillna(\"-\")\n",
    "X_test['anne_sektor'] = X_test['anne_sektor'].replace('-', '-')\n",
    "X_test['anne_sektor'] = X_test['anne_sektor'].replace('0', '-')\n",
    "X_test['anne_sektor'] = X_test['anne_sektor'].replace('özel sektör', 'özel sektör')\n",
    "X_test['anne_sektor'] = X_test['anne_sektor'].replace('diğer', 'diğer')\n",
    "X_test['anne_sektor'] = X_test['anne_sektor'].replace('di̇ğer', 'diğer')\n",
    "\n",
    "\n",
    "\n",
    "X_test['baba_egitim_durumu'] = X_test['baba_egitim_durumu'].fillna(\"eğitimi yok\")\n",
    "X_test['baba_egitim_durumu'] = X_test['baba_egitim_durumu'].replace('i̇lkokul', 'i̇lkokul')\n",
    "X_test['baba_egitim_durumu'] = X_test['baba_egitim_durumu'].replace('üniversite', 'üniversite')\n",
    "X_test['baba_egitim_durumu'] = X_test['baba_egitim_durumu'].replace('üni̇versi̇te', 'üniversite')\n",
    "X_test['baba_egitim_durumu'] = X_test['baba_egitim_durumu'].replace('yüksek lisans', 'yüksek lisans')\n",
    "X_test['baba_egitim_durumu'] = X_test['baba_egitim_durumu'].replace('eği̇ti̇m yok', 'eğitimi yok')\n",
    "X_test['baba_egitim_durumu'] = X_test['baba_egitim_durumu'].replace('i̇lkokul mezunu', 'i̇lkokul')\n",
    "X_test['baba_egitim_durumu'] = X_test['baba_egitim_durumu'].replace('lise', 'lise')\n",
    "X_test['baba_egitim_durumu'] = X_test['baba_egitim_durumu'].replace('ortaokul mezunu', 'ortaokul')\n",
    "X_test['baba_egitim_durumu'] = X_test['baba_egitim_durumu'].replace('li̇se', 'lise')\n",
    "X_test['baba_egitim_durumu'] = X_test['baba_egitim_durumu'].replace('eğitimi yok', 'eğitimi yok')\n",
    "X_test['baba_egitim_durumu'] = X_test['baba_egitim_durumu'].replace('eğitim yok', 'eğitimi yok')\n",
    "X_test['baba_egitim_durumu'] = X_test['baba_egitim_durumu'].replace('yüksek li̇sans', 'yüksek lisans')\n",
    "X_test['baba_egitim_durumu'] = X_test['baba_egitim_durumu'].replace('doktora', 'doktora')\n",
    "X_test['baba_egitim_durumu'] = X_test['baba_egitim_durumu'].replace('0', 'eğitimi yok')\n",
    "X_test['baba_egitim_durumu'] = X_test['baba_egitim_durumu'].replace('yüksek lisans / doktora', 'doktora')\n",
    "\n",
    "\n",
    "\n",
    "X_test['baba_sektor'] = X_test['baba_sektor'].fillna(\"-\")\n",
    "X_test['baba_sektor'] = X_test['baba_sektor'].replace('diğer', 'diğer')\n",
    "X_test['baba_sektor'] = X_test['baba_sektor'].replace('özel sektör', 'özel sektör')\n",
    "X_test['baba_sektor'] = X_test['baba_sektor'].replace('di̇ğer', 'diğer')\n",
    "X_test['baba_sektor'] = X_test['baba_sektor'].replace('0', '-')\n",
    "\n",
    "\n",
    "\n",
    "X_test['baba_calisma_durumu'] = X_test['baba_calisma_durumu'].fillna(\"hayır\")\n",
    "X_test['baba_calisma_durumu'] = X_test['baba_calisma_durumu'].replace('emekli', 'hayır')\n",
    "\n",
    "\n",
    "\n",
    "values_to_drop = [7.0, 5.0, '5', '6', '8', 8.0, 6.0, '9', 10.0, '7', 9.0, '10', '12', '11', '13', '14']\n",
    "\n",
    "# 'kardes_sayisi' sütunundaki NaN değerleri 0.0 ile doldur\n",
    "X_test['kardes_sayisi'] = X_test['kardes_sayisi'].fillna(0.0)\n",
    "\n",
    "# Sadece 'kardes_sayisi' sütununda belirli değerleri drop yap (diğer sütunları etkilemez)\n",
    "X_test = X_test[~X_test['kardes_sayisi'].isin(values_to_drop)]\n",
    "\n",
    "# Dönüşüm sözlüğü (sadece 'kardes_sayisi' sütunu için)\n",
    "replace_dict = {\n",
    "    '0': 0.0,\n",
    "    0.0: 0.0,\n",
    "    '1': 1.0,\n",
    "    '1.': 1.0,\n",
    "    1.0: 1.0,\n",
    "    '2': 2.0,\n",
    "    2.0: 2.0,\n",
    "    '3': 3.0,\n",
    "    3.0: 3.0,\n",
    "    '4': 4.0,\n",
    "    4.0: 4.0\n",
    "}\n",
    "\n",
    "# 'kardes_sayisi' sütunundaki değerleri dönüştür\n",
    "X_test['kardes_sayisi'] = X_test['kardes_sayisi'].replace(replace_dict)\n",
    "\n",
    "\n",
    "X_test['girisimcilik_kulupleri_tarzi_bir_kulube_uye_misiniz'] = X_test['girisimcilik_kulupleri_tarzi_bir_kulube_uye_misiniz'].fillna('hayır')\n",
    "\n",
    "\n",
    "X_test['profesyonel_bir_spor_daliyla_mesgul_musunuz'] = X_test['profesyonel_bir_spor_daliyla_mesgul_musunuz'].fillna('hayır')\n",
    "\n",
    "\n",
    "X_test['aktif_olarak_bir_stk_uyesi_misiniz'] = X_test['aktif_olarak_bir_stk_uyesi_misiniz'].fillna('hayır')\n",
    "\n",
    "\n",
    "X_test['ingilizce_biliyor_musunuz'] = X_test['ingilizce_biliyor_musunuz'].fillna('hayır')\n",
    "\n",
    "\n",
    "X_test['baska_kurumdan_aldigi_burs_miktari'] = X_test['baska_kurumdan_aldigi_burs_miktari'].fillna('-')\n",
    "replace_dict_2 = {\n",
    "    '500 ve üzeri': '500₺ - 999₺',\n",
    "    '500₺ - 999₺': '500₺ - 999₺',\n",
    "    '500': '500₺ - 999₺',\n",
    "    '425': '0 - 499 ₺',\n",
    "    '300-500': '0 - 499 ₺',\n",
    "    '300': '0 - 499 ₺',\n",
    "    'diğer': '0 - 499 ₺',\n",
    "    '400': '0 - 499 ₺',\n",
    "    '1000₺ ve üstü': '1000₺ ve üstü',\n",
    "}\n",
    "X_test['baska_kurumdan_aldigi_burs_miktari'] = X_test['baska_kurumdan_aldigi_burs_miktari'].replace(replace_dict_2)\n",
    "X_test['baska_kurumdan_aldigi_burs_miktari'] = X_test['baska_kurumdan_aldigi_burs_miktari'].apply(lambda x: x if x in replace_dict_2.values() or x == '-' else '-')"
   ]
  },
  {
   "cell_type": "code",
   "execution_count": 102,
   "id": "29e6478c",
   "metadata": {
    "execution": {
     "iopub.execute_input": "2024-09-13T05:12:26.670357Z",
     "iopub.status.busy": "2024-09-13T05:12:26.669377Z",
     "iopub.status.idle": "2024-09-13T05:12:26.676786Z",
     "shell.execute_reply": "2024-09-13T05:12:26.675917Z"
    },
    "papermill": {
     "duration": 0.049815,
     "end_time": "2024-09-13T05:12:26.679034",
     "exception": false,
     "start_time": "2024-09-13T05:12:26.629219",
     "status": "completed"
    },
    "tags": []
   },
   "outputs": [],
   "source": [
    "X_test['kardes_sayisi'] = X_test['kardes_sayisi'].astype('int64')\n",
    "X_train['kardes_sayisi'] = X_train['kardes_sayisi'].astype('int64')\n",
    "test['kardes_sayisi'] = test['kardes_sayisi'].astype('int64')"
   ]
  },
  {
   "cell_type": "code",
   "execution_count": 103,
   "id": "038f6c35",
   "metadata": {
    "execution": {
     "iopub.execute_input": "2024-09-13T05:12:26.758326Z",
     "iopub.status.busy": "2024-09-13T05:12:26.757918Z",
     "iopub.status.idle": "2024-09-13T05:12:26.782353Z",
     "shell.execute_reply": "2024-09-13T05:12:26.781366Z"
    },
    "papermill": {
     "duration": 0.06636,
     "end_time": "2024-09-13T05:12:26.784460",
     "exception": false,
     "start_time": "2024-09-13T05:12:26.718100",
     "status": "completed"
    },
    "tags": []
   },
   "outputs": [
    {
     "data": {
      "text/html": [
       "<div>\n",
       "<style scoped>\n",
       "    .dataframe tbody tr th:only-of-type {\n",
       "        vertical-align: middle;\n",
       "    }\n",
       "\n",
       "    .dataframe tbody tr th {\n",
       "        vertical-align: top;\n",
       "    }\n",
       "\n",
       "    .dataframe thead th {\n",
       "        text-align: right;\n",
       "    }\n",
       "</style>\n",
       "<table border=\"1\" class=\"dataframe\">\n",
       "  <thead>\n",
       "    <tr style=\"text-align: right;\">\n",
       "      <th></th>\n",
       "      <th>basvuru_yili</th>\n",
       "      <th>cinsiyet</th>\n",
       "      <th>universite_turu</th>\n",
       "      <th>burs_aliyor_mu</th>\n",
       "      <th>universite_kacinci_sinif</th>\n",
       "      <th>universite_not_ortalamasi</th>\n",
       "      <th>lise_turu</th>\n",
       "      <th>lise_mezuniyet_notu</th>\n",
       "      <th>baska_bir_kurumdan_burs_aliyor_mu</th>\n",
       "      <th>baska_kurumdan_aldigi_burs_miktari</th>\n",
       "      <th>anne_egitim_durumu</th>\n",
       "      <th>anne_calisma_durumu</th>\n",
       "      <th>anne_sektor</th>\n",
       "      <th>baba_egitim_durumu</th>\n",
       "      <th>baba_calisma_durumu</th>\n",
       "      <th>baba_sektor</th>\n",
       "      <th>kardes_sayisi</th>\n",
       "      <th>girisimcilik_kulupleri_tarzi_bir_kulube_uye_misiniz</th>\n",
       "      <th>profesyonel_bir_spor_daliyla_mesgul_musunuz</th>\n",
       "      <th>aktif_olarak_bir_stk_uyesi_misiniz</th>\n",
       "      <th>ingilizce_biliyor_musunuz</th>\n",
       "      <th>id</th>\n",
       "    </tr>\n",
       "  </thead>\n",
       "  <tbody>\n",
       "    <tr>\n",
       "      <th>62687</th>\n",
       "      <td>2022</td>\n",
       "      <td>kadın</td>\n",
       "      <td>devlet</td>\n",
       "      <td>hayır</td>\n",
       "      <td>1</td>\n",
       "      <td>3.00 - 3.49</td>\n",
       "      <td>devlet</td>\n",
       "      <td>75 - 100</td>\n",
       "      <td>hayır</td>\n",
       "      <td>-</td>\n",
       "      <td>ilkokul</td>\n",
       "      <td>hayır</td>\n",
       "      <td>-</td>\n",
       "      <td>ortaokul</td>\n",
       "      <td>hayır</td>\n",
       "      <td>-</td>\n",
       "      <td>4</td>\n",
       "      <td>hayır</td>\n",
       "      <td>hayır</td>\n",
       "      <td>evet</td>\n",
       "      <td>evet</td>\n",
       "      <td>62687</td>\n",
       "    </tr>\n",
       "    <tr>\n",
       "      <th>3639</th>\n",
       "      <td>2020</td>\n",
       "      <td>kadın</td>\n",
       "      <td>özel</td>\n",
       "      <td>evet</td>\n",
       "      <td>2</td>\n",
       "      <td>3.00 - 3.49</td>\n",
       "      <td>özel</td>\n",
       "      <td>75 - 100</td>\n",
       "      <td>evet</td>\n",
       "      <td>0 - 499 ₺</td>\n",
       "      <td>lise</td>\n",
       "      <td>evet</td>\n",
       "      <td>kamu</td>\n",
       "      <td>i̇lkokul</td>\n",
       "      <td>evet</td>\n",
       "      <td>diğer</td>\n",
       "      <td>1</td>\n",
       "      <td>hayır</td>\n",
       "      <td>evet</td>\n",
       "      <td>hayır</td>\n",
       "      <td>evet</td>\n",
       "      <td>3639</td>\n",
       "    </tr>\n",
       "    <tr>\n",
       "      <th>47696</th>\n",
       "      <td>2020</td>\n",
       "      <td>erkek</td>\n",
       "      <td>devlet</td>\n",
       "      <td>hayır</td>\n",
       "      <td>4</td>\n",
       "      <td>3.00 - 3.49</td>\n",
       "      <td>özel</td>\n",
       "      <td>75 - 100</td>\n",
       "      <td>hayır</td>\n",
       "      <td>-</td>\n",
       "      <td>lise</td>\n",
       "      <td>hayır</td>\n",
       "      <td>-</td>\n",
       "      <td>üniversite</td>\n",
       "      <td>evet</td>\n",
       "      <td>kamu</td>\n",
       "      <td>1</td>\n",
       "      <td>hayır</td>\n",
       "      <td>evet</td>\n",
       "      <td>evet</td>\n",
       "      <td>evet</td>\n",
       "      <td>47696</td>\n",
       "    </tr>\n",
       "    <tr>\n",
       "      <th>7978</th>\n",
       "      <td>2019</td>\n",
       "      <td>erkek</td>\n",
       "      <td>özel</td>\n",
       "      <td>evet</td>\n",
       "      <td>4</td>\n",
       "      <td>1.80 - 2.49</td>\n",
       "      <td>devlet</td>\n",
       "      <td>75 - 100</td>\n",
       "      <td>hayır</td>\n",
       "      <td>-</td>\n",
       "      <td>ilkokul</td>\n",
       "      <td>hayır</td>\n",
       "      <td>-</td>\n",
       "      <td>üniversite</td>\n",
       "      <td>evet</td>\n",
       "      <td>özel sektör</td>\n",
       "      <td>2</td>\n",
       "      <td>hayır</td>\n",
       "      <td>hayır</td>\n",
       "      <td>hayır</td>\n",
       "      <td>evet</td>\n",
       "      <td>7978</td>\n",
       "    </tr>\n",
       "    <tr>\n",
       "      <th>55687</th>\n",
       "      <td>2021</td>\n",
       "      <td>belirtmek istemiyorum</td>\n",
       "      <td>devlet</td>\n",
       "      <td>hayır</td>\n",
       "      <td>3</td>\n",
       "      <td>2.50 - 2.99</td>\n",
       "      <td>özel</td>\n",
       "      <td>75 - 100</td>\n",
       "      <td>evet</td>\n",
       "      <td>0 - 499 ₺</td>\n",
       "      <td>üniversite</td>\n",
       "      <td>hayır</td>\n",
       "      <td>kamu</td>\n",
       "      <td>yüksek lisans</td>\n",
       "      <td>hayır</td>\n",
       "      <td>-</td>\n",
       "      <td>0</td>\n",
       "      <td>hayır</td>\n",
       "      <td>evet</td>\n",
       "      <td>hayır</td>\n",
       "      <td>evet</td>\n",
       "      <td>55687</td>\n",
       "    </tr>\n",
       "    <tr>\n",
       "      <th>...</th>\n",
       "      <td>...</td>\n",
       "      <td>...</td>\n",
       "      <td>...</td>\n",
       "      <td>...</td>\n",
       "      <td>...</td>\n",
       "      <td>...</td>\n",
       "      <td>...</td>\n",
       "      <td>...</td>\n",
       "      <td>...</td>\n",
       "      <td>...</td>\n",
       "      <td>...</td>\n",
       "      <td>...</td>\n",
       "      <td>...</td>\n",
       "      <td>...</td>\n",
       "      <td>...</td>\n",
       "      <td>...</td>\n",
       "      <td>...</td>\n",
       "      <td>...</td>\n",
       "      <td>...</td>\n",
       "      <td>...</td>\n",
       "      <td>...</td>\n",
       "      <td>...</td>\n",
       "    </tr>\n",
       "    <tr>\n",
       "      <th>62571</th>\n",
       "      <td>2022</td>\n",
       "      <td>kadın</td>\n",
       "      <td>devlet</td>\n",
       "      <td>hayır</td>\n",
       "      <td>3</td>\n",
       "      <td>1.80 - 2.49</td>\n",
       "      <td>devlet</td>\n",
       "      <td>75 - 100</td>\n",
       "      <td>hayır</td>\n",
       "      <td>-</td>\n",
       "      <td>lise</td>\n",
       "      <td>hayır</td>\n",
       "      <td>-</td>\n",
       "      <td>lise</td>\n",
       "      <td>hayır</td>\n",
       "      <td>-</td>\n",
       "      <td>2</td>\n",
       "      <td>evet</td>\n",
       "      <td>hayır</td>\n",
       "      <td>evet</td>\n",
       "      <td>evet</td>\n",
       "      <td>62571</td>\n",
       "    </tr>\n",
       "    <tr>\n",
       "      <th>38159</th>\n",
       "      <td>2019</td>\n",
       "      <td>kadın</td>\n",
       "      <td>devlet</td>\n",
       "      <td>hayır</td>\n",
       "      <td>3</td>\n",
       "      <td>1.80 - 2.49</td>\n",
       "      <td>devlet</td>\n",
       "      <td>75 - 100</td>\n",
       "      <td>hayır</td>\n",
       "      <td>-</td>\n",
       "      <td>lise</td>\n",
       "      <td>evet</td>\n",
       "      <td>diğer</td>\n",
       "      <td>lise</td>\n",
       "      <td>hayır</td>\n",
       "      <td>-</td>\n",
       "      <td>2</td>\n",
       "      <td>hayır</td>\n",
       "      <td>hayır</td>\n",
       "      <td>hayır</td>\n",
       "      <td>evet</td>\n",
       "      <td>38159</td>\n",
       "    </tr>\n",
       "    <tr>\n",
       "      <th>860</th>\n",
       "      <td>2015</td>\n",
       "      <td>erkek</td>\n",
       "      <td>özel</td>\n",
       "      <td>evet</td>\n",
       "      <td>3</td>\n",
       "      <td>1.80 - 2.49</td>\n",
       "      <td>devlet</td>\n",
       "      <td>50 - 74</td>\n",
       "      <td>hayır</td>\n",
       "      <td>-</td>\n",
       "      <td>ilkokul</td>\n",
       "      <td>hayır</td>\n",
       "      <td>-</td>\n",
       "      <td>i̇lkokul</td>\n",
       "      <td>evet</td>\n",
       "      <td>özel sektör</td>\n",
       "      <td>1</td>\n",
       "      <td>evet</td>\n",
       "      <td>hayır</td>\n",
       "      <td>hayır</td>\n",
       "      <td>evet</td>\n",
       "      <td>860</td>\n",
       "    </tr>\n",
       "    <tr>\n",
       "      <th>15796</th>\n",
       "      <td>2015</td>\n",
       "      <td>kadın</td>\n",
       "      <td>devlet</td>\n",
       "      <td>hayır</td>\n",
       "      <td>3</td>\n",
       "      <td>3.00 - 3.49</td>\n",
       "      <td>devlet</td>\n",
       "      <td>75 - 100</td>\n",
       "      <td>hayır</td>\n",
       "      <td>-</td>\n",
       "      <td>lise</td>\n",
       "      <td>hayır</td>\n",
       "      <td>-</td>\n",
       "      <td>üniversite</td>\n",
       "      <td>evet</td>\n",
       "      <td>diğer</td>\n",
       "      <td>1</td>\n",
       "      <td>evet</td>\n",
       "      <td>evet</td>\n",
       "      <td>hayır</td>\n",
       "      <td>evet</td>\n",
       "      <td>15796</td>\n",
       "    </tr>\n",
       "    <tr>\n",
       "      <th>56423</th>\n",
       "      <td>2021</td>\n",
       "      <td>erkek</td>\n",
       "      <td>devlet</td>\n",
       "      <td>hayır</td>\n",
       "      <td>3</td>\n",
       "      <td>3.50 - 4.00</td>\n",
       "      <td>özel</td>\n",
       "      <td>75 - 100</td>\n",
       "      <td>hayır</td>\n",
       "      <td>-</td>\n",
       "      <td>lise</td>\n",
       "      <td>hayır</td>\n",
       "      <td>-</td>\n",
       "      <td>üniversite</td>\n",
       "      <td>hayır</td>\n",
       "      <td>kamu</td>\n",
       "      <td>0</td>\n",
       "      <td>evet</td>\n",
       "      <td>hayır</td>\n",
       "      <td>hayır</td>\n",
       "      <td>evet</td>\n",
       "      <td>56423</td>\n",
       "    </tr>\n",
       "  </tbody>\n",
       "</table>\n",
       "<p>40732 rows × 22 columns</p>\n",
       "</div>"
      ],
      "text/plain": [
       "       basvuru_yili               cinsiyet universite_turu burs_aliyor_mu  \\\n",
       "62687          2022                  kadın          devlet          hayır   \n",
       "3639           2020                  kadın            özel           evet   \n",
       "47696          2020                  erkek          devlet          hayır   \n",
       "7978           2019                  erkek            özel           evet   \n",
       "55687          2021  belirtmek istemiyorum          devlet          hayır   \n",
       "...             ...                    ...             ...            ...   \n",
       "62571          2022                  kadın          devlet          hayır   \n",
       "38159          2019                  kadın          devlet          hayır   \n",
       "860            2015                  erkek            özel           evet   \n",
       "15796          2015                  kadın          devlet          hayır   \n",
       "56423          2021                  erkek          devlet          hayır   \n",
       "\n",
       "      universite_kacinci_sinif universite_not_ortalamasi lise_turu  \\\n",
       "62687                        1               3.00 - 3.49    devlet   \n",
       "3639                         2               3.00 - 3.49      özel   \n",
       "47696                        4               3.00 - 3.49      özel   \n",
       "7978                         4               1.80 - 2.49    devlet   \n",
       "55687                        3               2.50 - 2.99      özel   \n",
       "...                        ...                       ...       ...   \n",
       "62571                        3               1.80 - 2.49    devlet   \n",
       "38159                        3               1.80 - 2.49    devlet   \n",
       "860                          3               1.80 - 2.49    devlet   \n",
       "15796                        3               3.00 - 3.49    devlet   \n",
       "56423                        3               3.50 - 4.00      özel   \n",
       "\n",
       "      lise_mezuniyet_notu baska_bir_kurumdan_burs_aliyor_mu  \\\n",
       "62687            75 - 100                             hayır   \n",
       "3639             75 - 100                              evet   \n",
       "47696            75 - 100                             hayır   \n",
       "7978             75 - 100                             hayır   \n",
       "55687            75 - 100                              evet   \n",
       "...                   ...                               ...   \n",
       "62571            75 - 100                             hayır   \n",
       "38159            75 - 100                             hayır   \n",
       "860               50 - 74                             hayır   \n",
       "15796            75 - 100                             hayır   \n",
       "56423            75 - 100                             hayır   \n",
       "\n",
       "      baska_kurumdan_aldigi_burs_miktari anne_egitim_durumu  \\\n",
       "62687                                  -            ilkokul   \n",
       "3639                           0 - 499 ₺               lise   \n",
       "47696                                  -               lise   \n",
       "7978                                   -            ilkokul   \n",
       "55687                          0 - 499 ₺         üniversite   \n",
       "...                                  ...                ...   \n",
       "62571                                  -               lise   \n",
       "38159                                  -               lise   \n",
       "860                                    -            ilkokul   \n",
       "15796                                  -               lise   \n",
       "56423                                  -               lise   \n",
       "\n",
       "      anne_calisma_durumu anne_sektor baba_egitim_durumu baba_calisma_durumu  \\\n",
       "62687               hayır           -           ortaokul               hayır   \n",
       "3639                 evet        kamu           i̇lkokul                evet   \n",
       "47696               hayır           -         üniversite                evet   \n",
       "7978                hayır           -         üniversite                evet   \n",
       "55687               hayır        kamu      yüksek lisans               hayır   \n",
       "...                   ...         ...                ...                 ...   \n",
       "62571               hayır           -               lise               hayır   \n",
       "38159                evet       diğer               lise               hayır   \n",
       "860                 hayır           -           i̇lkokul                evet   \n",
       "15796               hayır           -         üniversite                evet   \n",
       "56423               hayır           -         üniversite               hayır   \n",
       "\n",
       "       baba_sektor  kardes_sayisi  \\\n",
       "62687            -              4   \n",
       "3639         diğer              1   \n",
       "47696         kamu              1   \n",
       "7978   özel sektör              2   \n",
       "55687            -              0   \n",
       "...            ...            ...   \n",
       "62571            -              2   \n",
       "38159            -              2   \n",
       "860    özel sektör              1   \n",
       "15796        diğer              1   \n",
       "56423         kamu              0   \n",
       "\n",
       "      girisimcilik_kulupleri_tarzi_bir_kulube_uye_misiniz  \\\n",
       "62687                                              hayır    \n",
       "3639                                               hayır    \n",
       "47696                                              hayır    \n",
       "7978                                               hayır    \n",
       "55687                                              hayır    \n",
       "...                                                  ...    \n",
       "62571                                               evet    \n",
       "38159                                              hayır    \n",
       "860                                                 evet    \n",
       "15796                                               evet    \n",
       "56423                                               evet    \n",
       "\n",
       "      profesyonel_bir_spor_daliyla_mesgul_musunuz  \\\n",
       "62687                                       hayır   \n",
       "3639                                         evet   \n",
       "47696                                        evet   \n",
       "7978                                        hayır   \n",
       "55687                                        evet   \n",
       "...                                           ...   \n",
       "62571                                       hayır   \n",
       "38159                                       hayır   \n",
       "860                                         hayır   \n",
       "15796                                        evet   \n",
       "56423                                       hayır   \n",
       "\n",
       "      aktif_olarak_bir_stk_uyesi_misiniz ingilizce_biliyor_musunuz     id  \n",
       "62687                               evet                      evet  62687  \n",
       "3639                               hayır                      evet   3639  \n",
       "47696                               evet                      evet  47696  \n",
       "7978                               hayır                      evet   7978  \n",
       "55687                              hayır                      evet  55687  \n",
       "...                                  ...                       ...    ...  \n",
       "62571                               evet                      evet  62571  \n",
       "38159                              hayır                      evet  38159  \n",
       "860                                hayır                      evet    860  \n",
       "15796                              hayır                      evet  15796  \n",
       "56423                              hayır                      evet  56423  \n",
       "\n",
       "[40732 rows x 22 columns]"
      ]
     },
     "execution_count": 103,
     "metadata": {},
     "output_type": "execute_result"
    }
   ],
   "source": [
    "X_train"
   ]
  },
  {
   "cell_type": "code",
   "execution_count": 104,
   "id": "07c5da8f",
   "metadata": {
    "execution": {
     "iopub.execute_input": "2024-09-13T05:12:26.865029Z",
     "iopub.status.busy": "2024-09-13T05:12:26.864094Z",
     "iopub.status.idle": "2024-09-13T05:12:26.914429Z",
     "shell.execute_reply": "2024-09-13T05:12:26.913334Z"
    },
    "papermill": {
     "duration": 0.093029,
     "end_time": "2024-09-13T05:12:26.916748",
     "exception": false,
     "start_time": "2024-09-13T05:12:26.823719",
     "status": "completed"
    },
    "tags": []
   },
   "outputs": [
    {
     "data": {
      "text/plain": [
       "basvuru_yili                                           0\n",
       "cinsiyet                                               0\n",
       "universite_turu                                        0\n",
       "burs_aliyor_mu                                         0\n",
       "universite_kacinci_sinif                               0\n",
       "universite_not_ortalamasi                              0\n",
       "lise_turu                                              0\n",
       "lise_mezuniyet_notu                                    0\n",
       "baska_bir_kurumdan_burs_aliyor_mu                      0\n",
       "baska_kurumdan_aldigi_burs_miktari                     0\n",
       "anne_egitim_durumu                                     0\n",
       "anne_calisma_durumu                                    0\n",
       "anne_sektor                                            0\n",
       "baba_egitim_durumu                                     0\n",
       "baba_calisma_durumu                                    0\n",
       "baba_sektor                                            0\n",
       "kardes_sayisi                                          0\n",
       "girisimcilik_kulupleri_tarzi_bir_kulube_uye_misiniz    0\n",
       "profesyonel_bir_spor_daliyla_mesgul_musunuz            0\n",
       "aktif_olarak_bir_stk_uyesi_misiniz                     0\n",
       "ingilizce_biliyor_musunuz                              0\n",
       "id                                                     0\n",
       "dtype: int64"
      ]
     },
     "execution_count": 104,
     "metadata": {},
     "output_type": "execute_result"
    }
   ],
   "source": [
    "X_train.isna().sum()"
   ]
  },
  {
   "cell_type": "code",
   "execution_count": 105,
   "id": "8a9c86ed",
   "metadata": {
    "execution": {
     "iopub.execute_input": "2024-09-13T05:12:26.997765Z",
     "iopub.status.busy": "2024-09-13T05:12:26.996781Z",
     "iopub.status.idle": "2024-09-13T05:12:27.202833Z",
     "shell.execute_reply": "2024-09-13T05:12:27.201932Z"
    },
    "papermill": {
     "duration": 0.248735,
     "end_time": "2024-09-13T05:12:27.205204",
     "exception": false,
     "start_time": "2024-09-13T05:12:26.956469",
     "status": "completed"
    },
    "tags": []
   },
   "outputs": [],
   "source": [
    "# One-hot encoding yapılacak sütunlar\n",
    "columns_to_encode = [\n",
    "    \"cinsiyet\", \"universite_turu\", \"burs_aliyor_mu\", \"universite_kacinci_sinif\", \n",
    "    \"universite_not_ortalamasi\", \"lise_turu\", \"lise_mezuniyet_notu\", \"baska_bir_kurumdan_burs_aliyor_mu\", \n",
    "    \"baska_kurumdan_aldigi_burs_miktari\", \"anne_egitim_durumu\", \"anne_calisma_durumu\", \"anne_sektor\", \n",
    "    \"baba_egitim_durumu\", \"baba_calisma_durumu\", \"baba_sektor\", \"girisimcilik_kulupleri_tarzi_bir_kulube_uye_misiniz\", \n",
    "    \"profesyonel_bir_spor_daliyla_mesgul_musunuz\", \"aktif_olarak_bir_stk_uyesi_misiniz\", \"ingilizce_biliyor_musunuz\"\n",
    "]\n",
    "\n",
    "# One-hot encoding ve orijinal sütunları kaldırma\n",
    "X_train = pd.get_dummies(X_train, columns=columns_to_encode, drop_first=True)\n",
    "X_test = pd.get_dummies(X_test, columns=columns_to_encode, drop_first=True)\n",
    "test = pd.get_dummies(test, columns=columns_to_encode, drop_first=True)\n",
    "\n",
    "X_train = X_train.astype(int)\n",
    "X_test = X_test.astype(int)\n",
    "test = test.astype(int)"
   ]
  },
  {
   "cell_type": "code",
   "execution_count": 106,
   "id": "07330fcc",
   "metadata": {
    "execution": {
     "iopub.execute_input": "2024-09-13T05:12:27.285761Z",
     "iopub.status.busy": "2024-09-13T05:12:27.285351Z",
     "iopub.status.idle": "2024-09-13T05:12:27.316862Z",
     "shell.execute_reply": "2024-09-13T05:12:27.315731Z"
    },
    "papermill": {
     "duration": 0.075354,
     "end_time": "2024-09-13T05:12:27.320035",
     "exception": false,
     "start_time": "2024-09-13T05:12:27.244681",
     "status": "completed"
    },
    "tags": []
   },
   "outputs": [
    {
     "data": {
      "text/html": [
       "<div>\n",
       "<style scoped>\n",
       "    .dataframe tbody tr th:only-of-type {\n",
       "        vertical-align: middle;\n",
       "    }\n",
       "\n",
       "    .dataframe tbody tr th {\n",
       "        vertical-align: top;\n",
       "    }\n",
       "\n",
       "    .dataframe thead th {\n",
       "        text-align: right;\n",
       "    }\n",
       "</style>\n",
       "<table border=\"1\" class=\"dataframe\">\n",
       "  <thead>\n",
       "    <tr style=\"text-align: right;\">\n",
       "      <th></th>\n",
       "      <th>basvuru_yili</th>\n",
       "      <th>kardes_sayisi</th>\n",
       "      <th>id</th>\n",
       "      <th>cinsiyet_erkek</th>\n",
       "      <th>cinsiyet_kadın</th>\n",
       "      <th>universite_turu_özel</th>\n",
       "      <th>burs_aliyor_mu_hayır</th>\n",
       "      <th>universite_kacinci_sinif_2</th>\n",
       "      <th>universite_kacinci_sinif_3</th>\n",
       "      <th>universite_kacinci_sinif_4</th>\n",
       "      <th>universite_kacinci_sinif_5</th>\n",
       "      <th>universite_kacinci_sinif_6</th>\n",
       "      <th>universite_kacinci_sinif_hazırlık</th>\n",
       "      <th>universite_not_ortalamasi_1.80 - 2.49</th>\n",
       "      <th>universite_not_ortalamasi_2.50 - 2.99</th>\n",
       "      <th>universite_not_ortalamasi_3.00 - 3.49</th>\n",
       "      <th>universite_not_ortalamasi_3.50 - 4.00</th>\n",
       "      <th>universite_not_ortalamasi_hazırlığım</th>\n",
       "      <th>lise_turu_özel</th>\n",
       "      <th>lise_mezuniyet_notu_50 - 74</th>\n",
       "      <th>lise_mezuniyet_notu_75 - 100</th>\n",
       "      <th>baska_bir_kurumdan_burs_aliyor_mu_hayır</th>\n",
       "      <th>baska_kurumdan_aldigi_burs_miktari_0 - 499 ₺</th>\n",
       "      <th>baska_kurumdan_aldigi_burs_miktari_1000₺ ve üstü</th>\n",
       "      <th>baska_kurumdan_aldigi_burs_miktari_500₺ - 999₺</th>\n",
       "      <th>anne_egitim_durumu_eğitimi yok</th>\n",
       "      <th>anne_egitim_durumu_ilkokul</th>\n",
       "      <th>anne_egitim_durumu_lise</th>\n",
       "      <th>anne_egitim_durumu_ortaokul</th>\n",
       "      <th>anne_egitim_durumu_yüksek lisans</th>\n",
       "      <th>anne_egitim_durumu_üniversite</th>\n",
       "      <th>anne_calisma_durumu_hayır</th>\n",
       "      <th>anne_sektor_diğer</th>\n",
       "      <th>anne_sektor_kamu</th>\n",
       "      <th>anne_sektor_özel sektör</th>\n",
       "      <th>baba_egitim_durumu_eğitimi yok</th>\n",
       "      <th>baba_egitim_durumu_i̇lkokul</th>\n",
       "      <th>baba_egitim_durumu_lise</th>\n",
       "      <th>baba_egitim_durumu_ortaokul</th>\n",
       "      <th>baba_egitim_durumu_yüksek lisans</th>\n",
       "      <th>baba_egitim_durumu_üniversite</th>\n",
       "      <th>baba_calisma_durumu_hayır</th>\n",
       "      <th>baba_sektor_diğer</th>\n",
       "      <th>baba_sektor_kamu</th>\n",
       "      <th>baba_sektor_özel sektör</th>\n",
       "      <th>girisimcilik_kulupleri_tarzi_bir_kulube_uye_misiniz_hayır</th>\n",
       "      <th>profesyonel_bir_spor_daliyla_mesgul_musunuz_hayır</th>\n",
       "      <th>aktif_olarak_bir_stk_uyesi_misiniz_hayır</th>\n",
       "      <th>ingilizce_biliyor_musunuz_hayır</th>\n",
       "    </tr>\n",
       "  </thead>\n",
       "  <tbody>\n",
       "    <tr>\n",
       "      <th>62687</th>\n",
       "      <td>2022</td>\n",
       "      <td>4</td>\n",
       "      <td>62687</td>\n",
       "      <td>0</td>\n",
       "      <td>1</td>\n",
       "      <td>0</td>\n",
       "      <td>1</td>\n",
       "      <td>0</td>\n",
       "      <td>0</td>\n",
       "      <td>0</td>\n",
       "      <td>0</td>\n",
       "      <td>0</td>\n",
       "      <td>0</td>\n",
       "      <td>0</td>\n",
       "      <td>0</td>\n",
       "      <td>1</td>\n",
       "      <td>0</td>\n",
       "      <td>0</td>\n",
       "      <td>0</td>\n",
       "      <td>0</td>\n",
       "      <td>1</td>\n",
       "      <td>1</td>\n",
       "      <td>0</td>\n",
       "      <td>0</td>\n",
       "      <td>0</td>\n",
       "      <td>0</td>\n",
       "      <td>1</td>\n",
       "      <td>0</td>\n",
       "      <td>0</td>\n",
       "      <td>0</td>\n",
       "      <td>0</td>\n",
       "      <td>1</td>\n",
       "      <td>0</td>\n",
       "      <td>0</td>\n",
       "      <td>0</td>\n",
       "      <td>0</td>\n",
       "      <td>0</td>\n",
       "      <td>0</td>\n",
       "      <td>1</td>\n",
       "      <td>0</td>\n",
       "      <td>0</td>\n",
       "      <td>1</td>\n",
       "      <td>0</td>\n",
       "      <td>0</td>\n",
       "      <td>0</td>\n",
       "      <td>1</td>\n",
       "      <td>1</td>\n",
       "      <td>0</td>\n",
       "      <td>0</td>\n",
       "    </tr>\n",
       "    <tr>\n",
       "      <th>3639</th>\n",
       "      <td>2020</td>\n",
       "      <td>1</td>\n",
       "      <td>3639</td>\n",
       "      <td>0</td>\n",
       "      <td>1</td>\n",
       "      <td>1</td>\n",
       "      <td>0</td>\n",
       "      <td>1</td>\n",
       "      <td>0</td>\n",
       "      <td>0</td>\n",
       "      <td>0</td>\n",
       "      <td>0</td>\n",
       "      <td>0</td>\n",
       "      <td>0</td>\n",
       "      <td>0</td>\n",
       "      <td>1</td>\n",
       "      <td>0</td>\n",
       "      <td>0</td>\n",
       "      <td>1</td>\n",
       "      <td>0</td>\n",
       "      <td>1</td>\n",
       "      <td>0</td>\n",
       "      <td>1</td>\n",
       "      <td>0</td>\n",
       "      <td>0</td>\n",
       "      <td>0</td>\n",
       "      <td>0</td>\n",
       "      <td>1</td>\n",
       "      <td>0</td>\n",
       "      <td>0</td>\n",
       "      <td>0</td>\n",
       "      <td>0</td>\n",
       "      <td>0</td>\n",
       "      <td>1</td>\n",
       "      <td>0</td>\n",
       "      <td>0</td>\n",
       "      <td>1</td>\n",
       "      <td>0</td>\n",
       "      <td>0</td>\n",
       "      <td>0</td>\n",
       "      <td>0</td>\n",
       "      <td>0</td>\n",
       "      <td>1</td>\n",
       "      <td>0</td>\n",
       "      <td>0</td>\n",
       "      <td>1</td>\n",
       "      <td>0</td>\n",
       "      <td>1</td>\n",
       "      <td>0</td>\n",
       "    </tr>\n",
       "    <tr>\n",
       "      <th>47696</th>\n",
       "      <td>2020</td>\n",
       "      <td>1</td>\n",
       "      <td>47696</td>\n",
       "      <td>1</td>\n",
       "      <td>0</td>\n",
       "      <td>0</td>\n",
       "      <td>1</td>\n",
       "      <td>0</td>\n",
       "      <td>0</td>\n",
       "      <td>1</td>\n",
       "      <td>0</td>\n",
       "      <td>0</td>\n",
       "      <td>0</td>\n",
       "      <td>0</td>\n",
       "      <td>0</td>\n",
       "      <td>1</td>\n",
       "      <td>0</td>\n",
       "      <td>0</td>\n",
       "      <td>1</td>\n",
       "      <td>0</td>\n",
       "      <td>1</td>\n",
       "      <td>1</td>\n",
       "      <td>0</td>\n",
       "      <td>0</td>\n",
       "      <td>0</td>\n",
       "      <td>0</td>\n",
       "      <td>0</td>\n",
       "      <td>1</td>\n",
       "      <td>0</td>\n",
       "      <td>0</td>\n",
       "      <td>0</td>\n",
       "      <td>1</td>\n",
       "      <td>0</td>\n",
       "      <td>0</td>\n",
       "      <td>0</td>\n",
       "      <td>0</td>\n",
       "      <td>0</td>\n",
       "      <td>0</td>\n",
       "      <td>0</td>\n",
       "      <td>0</td>\n",
       "      <td>1</td>\n",
       "      <td>0</td>\n",
       "      <td>0</td>\n",
       "      <td>1</td>\n",
       "      <td>0</td>\n",
       "      <td>1</td>\n",
       "      <td>0</td>\n",
       "      <td>0</td>\n",
       "      <td>0</td>\n",
       "    </tr>\n",
       "    <tr>\n",
       "      <th>7978</th>\n",
       "      <td>2019</td>\n",
       "      <td>2</td>\n",
       "      <td>7978</td>\n",
       "      <td>1</td>\n",
       "      <td>0</td>\n",
       "      <td>1</td>\n",
       "      <td>0</td>\n",
       "      <td>0</td>\n",
       "      <td>0</td>\n",
       "      <td>1</td>\n",
       "      <td>0</td>\n",
       "      <td>0</td>\n",
       "      <td>0</td>\n",
       "      <td>1</td>\n",
       "      <td>0</td>\n",
       "      <td>0</td>\n",
       "      <td>0</td>\n",
       "      <td>0</td>\n",
       "      <td>0</td>\n",
       "      <td>0</td>\n",
       "      <td>1</td>\n",
       "      <td>1</td>\n",
       "      <td>0</td>\n",
       "      <td>0</td>\n",
       "      <td>0</td>\n",
       "      <td>0</td>\n",
       "      <td>1</td>\n",
       "      <td>0</td>\n",
       "      <td>0</td>\n",
       "      <td>0</td>\n",
       "      <td>0</td>\n",
       "      <td>1</td>\n",
       "      <td>0</td>\n",
       "      <td>0</td>\n",
       "      <td>0</td>\n",
       "      <td>0</td>\n",
       "      <td>0</td>\n",
       "      <td>0</td>\n",
       "      <td>0</td>\n",
       "      <td>0</td>\n",
       "      <td>1</td>\n",
       "      <td>0</td>\n",
       "      <td>0</td>\n",
       "      <td>0</td>\n",
       "      <td>1</td>\n",
       "      <td>1</td>\n",
       "      <td>1</td>\n",
       "      <td>1</td>\n",
       "      <td>0</td>\n",
       "    </tr>\n",
       "    <tr>\n",
       "      <th>55687</th>\n",
       "      <td>2021</td>\n",
       "      <td>0</td>\n",
       "      <td>55687</td>\n",
       "      <td>0</td>\n",
       "      <td>0</td>\n",
       "      <td>0</td>\n",
       "      <td>1</td>\n",
       "      <td>0</td>\n",
       "      <td>1</td>\n",
       "      <td>0</td>\n",
       "      <td>0</td>\n",
       "      <td>0</td>\n",
       "      <td>0</td>\n",
       "      <td>0</td>\n",
       "      <td>1</td>\n",
       "      <td>0</td>\n",
       "      <td>0</td>\n",
       "      <td>0</td>\n",
       "      <td>1</td>\n",
       "      <td>0</td>\n",
       "      <td>1</td>\n",
       "      <td>0</td>\n",
       "      <td>1</td>\n",
       "      <td>0</td>\n",
       "      <td>0</td>\n",
       "      <td>0</td>\n",
       "      <td>0</td>\n",
       "      <td>0</td>\n",
       "      <td>0</td>\n",
       "      <td>0</td>\n",
       "      <td>1</td>\n",
       "      <td>1</td>\n",
       "      <td>0</td>\n",
       "      <td>1</td>\n",
       "      <td>0</td>\n",
       "      <td>0</td>\n",
       "      <td>0</td>\n",
       "      <td>0</td>\n",
       "      <td>0</td>\n",
       "      <td>1</td>\n",
       "      <td>0</td>\n",
       "      <td>1</td>\n",
       "      <td>0</td>\n",
       "      <td>0</td>\n",
       "      <td>0</td>\n",
       "      <td>1</td>\n",
       "      <td>0</td>\n",
       "      <td>1</td>\n",
       "      <td>0</td>\n",
       "    </tr>\n",
       "    <tr>\n",
       "      <th>...</th>\n",
       "      <td>...</td>\n",
       "      <td>...</td>\n",
       "      <td>...</td>\n",
       "      <td>...</td>\n",
       "      <td>...</td>\n",
       "      <td>...</td>\n",
       "      <td>...</td>\n",
       "      <td>...</td>\n",
       "      <td>...</td>\n",
       "      <td>...</td>\n",
       "      <td>...</td>\n",
       "      <td>...</td>\n",
       "      <td>...</td>\n",
       "      <td>...</td>\n",
       "      <td>...</td>\n",
       "      <td>...</td>\n",
       "      <td>...</td>\n",
       "      <td>...</td>\n",
       "      <td>...</td>\n",
       "      <td>...</td>\n",
       "      <td>...</td>\n",
       "      <td>...</td>\n",
       "      <td>...</td>\n",
       "      <td>...</td>\n",
       "      <td>...</td>\n",
       "      <td>...</td>\n",
       "      <td>...</td>\n",
       "      <td>...</td>\n",
       "      <td>...</td>\n",
       "      <td>...</td>\n",
       "      <td>...</td>\n",
       "      <td>...</td>\n",
       "      <td>...</td>\n",
       "      <td>...</td>\n",
       "      <td>...</td>\n",
       "      <td>...</td>\n",
       "      <td>...</td>\n",
       "      <td>...</td>\n",
       "      <td>...</td>\n",
       "      <td>...</td>\n",
       "      <td>...</td>\n",
       "      <td>...</td>\n",
       "      <td>...</td>\n",
       "      <td>...</td>\n",
       "      <td>...</td>\n",
       "      <td>...</td>\n",
       "      <td>...</td>\n",
       "      <td>...</td>\n",
       "      <td>...</td>\n",
       "    </tr>\n",
       "    <tr>\n",
       "      <th>62571</th>\n",
       "      <td>2022</td>\n",
       "      <td>2</td>\n",
       "      <td>62571</td>\n",
       "      <td>0</td>\n",
       "      <td>1</td>\n",
       "      <td>0</td>\n",
       "      <td>1</td>\n",
       "      <td>0</td>\n",
       "      <td>1</td>\n",
       "      <td>0</td>\n",
       "      <td>0</td>\n",
       "      <td>0</td>\n",
       "      <td>0</td>\n",
       "      <td>1</td>\n",
       "      <td>0</td>\n",
       "      <td>0</td>\n",
       "      <td>0</td>\n",
       "      <td>0</td>\n",
       "      <td>0</td>\n",
       "      <td>0</td>\n",
       "      <td>1</td>\n",
       "      <td>1</td>\n",
       "      <td>0</td>\n",
       "      <td>0</td>\n",
       "      <td>0</td>\n",
       "      <td>0</td>\n",
       "      <td>0</td>\n",
       "      <td>1</td>\n",
       "      <td>0</td>\n",
       "      <td>0</td>\n",
       "      <td>0</td>\n",
       "      <td>1</td>\n",
       "      <td>0</td>\n",
       "      <td>0</td>\n",
       "      <td>0</td>\n",
       "      <td>0</td>\n",
       "      <td>0</td>\n",
       "      <td>1</td>\n",
       "      <td>0</td>\n",
       "      <td>0</td>\n",
       "      <td>0</td>\n",
       "      <td>1</td>\n",
       "      <td>0</td>\n",
       "      <td>0</td>\n",
       "      <td>0</td>\n",
       "      <td>0</td>\n",
       "      <td>1</td>\n",
       "      <td>0</td>\n",
       "      <td>0</td>\n",
       "    </tr>\n",
       "    <tr>\n",
       "      <th>38159</th>\n",
       "      <td>2019</td>\n",
       "      <td>2</td>\n",
       "      <td>38159</td>\n",
       "      <td>0</td>\n",
       "      <td>1</td>\n",
       "      <td>0</td>\n",
       "      <td>1</td>\n",
       "      <td>0</td>\n",
       "      <td>1</td>\n",
       "      <td>0</td>\n",
       "      <td>0</td>\n",
       "      <td>0</td>\n",
       "      <td>0</td>\n",
       "      <td>1</td>\n",
       "      <td>0</td>\n",
       "      <td>0</td>\n",
       "      <td>0</td>\n",
       "      <td>0</td>\n",
       "      <td>0</td>\n",
       "      <td>0</td>\n",
       "      <td>1</td>\n",
       "      <td>1</td>\n",
       "      <td>0</td>\n",
       "      <td>0</td>\n",
       "      <td>0</td>\n",
       "      <td>0</td>\n",
       "      <td>0</td>\n",
       "      <td>1</td>\n",
       "      <td>0</td>\n",
       "      <td>0</td>\n",
       "      <td>0</td>\n",
       "      <td>0</td>\n",
       "      <td>1</td>\n",
       "      <td>0</td>\n",
       "      <td>0</td>\n",
       "      <td>0</td>\n",
       "      <td>0</td>\n",
       "      <td>1</td>\n",
       "      <td>0</td>\n",
       "      <td>0</td>\n",
       "      <td>0</td>\n",
       "      <td>1</td>\n",
       "      <td>0</td>\n",
       "      <td>0</td>\n",
       "      <td>0</td>\n",
       "      <td>1</td>\n",
       "      <td>1</td>\n",
       "      <td>1</td>\n",
       "      <td>0</td>\n",
       "    </tr>\n",
       "    <tr>\n",
       "      <th>860</th>\n",
       "      <td>2015</td>\n",
       "      <td>1</td>\n",
       "      <td>860</td>\n",
       "      <td>1</td>\n",
       "      <td>0</td>\n",
       "      <td>1</td>\n",
       "      <td>0</td>\n",
       "      <td>0</td>\n",
       "      <td>1</td>\n",
       "      <td>0</td>\n",
       "      <td>0</td>\n",
       "      <td>0</td>\n",
       "      <td>0</td>\n",
       "      <td>1</td>\n",
       "      <td>0</td>\n",
       "      <td>0</td>\n",
       "      <td>0</td>\n",
       "      <td>0</td>\n",
       "      <td>0</td>\n",
       "      <td>1</td>\n",
       "      <td>0</td>\n",
       "      <td>1</td>\n",
       "      <td>0</td>\n",
       "      <td>0</td>\n",
       "      <td>0</td>\n",
       "      <td>0</td>\n",
       "      <td>1</td>\n",
       "      <td>0</td>\n",
       "      <td>0</td>\n",
       "      <td>0</td>\n",
       "      <td>0</td>\n",
       "      <td>1</td>\n",
       "      <td>0</td>\n",
       "      <td>0</td>\n",
       "      <td>0</td>\n",
       "      <td>0</td>\n",
       "      <td>1</td>\n",
       "      <td>0</td>\n",
       "      <td>0</td>\n",
       "      <td>0</td>\n",
       "      <td>0</td>\n",
       "      <td>0</td>\n",
       "      <td>0</td>\n",
       "      <td>0</td>\n",
       "      <td>1</td>\n",
       "      <td>0</td>\n",
       "      <td>1</td>\n",
       "      <td>1</td>\n",
       "      <td>0</td>\n",
       "    </tr>\n",
       "    <tr>\n",
       "      <th>15796</th>\n",
       "      <td>2015</td>\n",
       "      <td>1</td>\n",
       "      <td>15796</td>\n",
       "      <td>0</td>\n",
       "      <td>1</td>\n",
       "      <td>0</td>\n",
       "      <td>1</td>\n",
       "      <td>0</td>\n",
       "      <td>1</td>\n",
       "      <td>0</td>\n",
       "      <td>0</td>\n",
       "      <td>0</td>\n",
       "      <td>0</td>\n",
       "      <td>0</td>\n",
       "      <td>0</td>\n",
       "      <td>1</td>\n",
       "      <td>0</td>\n",
       "      <td>0</td>\n",
       "      <td>0</td>\n",
       "      <td>0</td>\n",
       "      <td>1</td>\n",
       "      <td>1</td>\n",
       "      <td>0</td>\n",
       "      <td>0</td>\n",
       "      <td>0</td>\n",
       "      <td>0</td>\n",
       "      <td>0</td>\n",
       "      <td>1</td>\n",
       "      <td>0</td>\n",
       "      <td>0</td>\n",
       "      <td>0</td>\n",
       "      <td>1</td>\n",
       "      <td>0</td>\n",
       "      <td>0</td>\n",
       "      <td>0</td>\n",
       "      <td>0</td>\n",
       "      <td>0</td>\n",
       "      <td>0</td>\n",
       "      <td>0</td>\n",
       "      <td>0</td>\n",
       "      <td>1</td>\n",
       "      <td>0</td>\n",
       "      <td>1</td>\n",
       "      <td>0</td>\n",
       "      <td>0</td>\n",
       "      <td>0</td>\n",
       "      <td>0</td>\n",
       "      <td>1</td>\n",
       "      <td>0</td>\n",
       "    </tr>\n",
       "    <tr>\n",
       "      <th>56423</th>\n",
       "      <td>2021</td>\n",
       "      <td>0</td>\n",
       "      <td>56423</td>\n",
       "      <td>1</td>\n",
       "      <td>0</td>\n",
       "      <td>0</td>\n",
       "      <td>1</td>\n",
       "      <td>0</td>\n",
       "      <td>1</td>\n",
       "      <td>0</td>\n",
       "      <td>0</td>\n",
       "      <td>0</td>\n",
       "      <td>0</td>\n",
       "      <td>0</td>\n",
       "      <td>0</td>\n",
       "      <td>0</td>\n",
       "      <td>1</td>\n",
       "      <td>0</td>\n",
       "      <td>1</td>\n",
       "      <td>0</td>\n",
       "      <td>1</td>\n",
       "      <td>1</td>\n",
       "      <td>0</td>\n",
       "      <td>0</td>\n",
       "      <td>0</td>\n",
       "      <td>0</td>\n",
       "      <td>0</td>\n",
       "      <td>1</td>\n",
       "      <td>0</td>\n",
       "      <td>0</td>\n",
       "      <td>0</td>\n",
       "      <td>1</td>\n",
       "      <td>0</td>\n",
       "      <td>0</td>\n",
       "      <td>0</td>\n",
       "      <td>0</td>\n",
       "      <td>0</td>\n",
       "      <td>0</td>\n",
       "      <td>0</td>\n",
       "      <td>0</td>\n",
       "      <td>1</td>\n",
       "      <td>1</td>\n",
       "      <td>0</td>\n",
       "      <td>1</td>\n",
       "      <td>0</td>\n",
       "      <td>0</td>\n",
       "      <td>1</td>\n",
       "      <td>1</td>\n",
       "      <td>0</td>\n",
       "    </tr>\n",
       "  </tbody>\n",
       "</table>\n",
       "<p>40732 rows × 49 columns</p>\n",
       "</div>"
      ],
      "text/plain": [
       "       basvuru_yili  kardes_sayisi     id  cinsiyet_erkek  cinsiyet_kadın  \\\n",
       "62687          2022              4  62687               0               1   \n",
       "3639           2020              1   3639               0               1   \n",
       "47696          2020              1  47696               1               0   \n",
       "7978           2019              2   7978               1               0   \n",
       "55687          2021              0  55687               0               0   \n",
       "...             ...            ...    ...             ...             ...   \n",
       "62571          2022              2  62571               0               1   \n",
       "38159          2019              2  38159               0               1   \n",
       "860            2015              1    860               1               0   \n",
       "15796          2015              1  15796               0               1   \n",
       "56423          2021              0  56423               1               0   \n",
       "\n",
       "       universite_turu_özel  burs_aliyor_mu_hayır  universite_kacinci_sinif_2  \\\n",
       "62687                     0                     1                           0   \n",
       "3639                      1                     0                           1   \n",
       "47696                     0                     1                           0   \n",
       "7978                      1                     0                           0   \n",
       "55687                     0                     1                           0   \n",
       "...                     ...                   ...                         ...   \n",
       "62571                     0                     1                           0   \n",
       "38159                     0                     1                           0   \n",
       "860                       1                     0                           0   \n",
       "15796                     0                     1                           0   \n",
       "56423                     0                     1                           0   \n",
       "\n",
       "       universite_kacinci_sinif_3  universite_kacinci_sinif_4  \\\n",
       "62687                           0                           0   \n",
       "3639                            0                           0   \n",
       "47696                           0                           1   \n",
       "7978                            0                           1   \n",
       "55687                           1                           0   \n",
       "...                           ...                         ...   \n",
       "62571                           1                           0   \n",
       "38159                           1                           0   \n",
       "860                             1                           0   \n",
       "15796                           1                           0   \n",
       "56423                           1                           0   \n",
       "\n",
       "       universite_kacinci_sinif_5  universite_kacinci_sinif_6  \\\n",
       "62687                           0                           0   \n",
       "3639                            0                           0   \n",
       "47696                           0                           0   \n",
       "7978                            0                           0   \n",
       "55687                           0                           0   \n",
       "...                           ...                         ...   \n",
       "62571                           0                           0   \n",
       "38159                           0                           0   \n",
       "860                             0                           0   \n",
       "15796                           0                           0   \n",
       "56423                           0                           0   \n",
       "\n",
       "       universite_kacinci_sinif_hazırlık  \\\n",
       "62687                                  0   \n",
       "3639                                   0   \n",
       "47696                                  0   \n",
       "7978                                   0   \n",
       "55687                                  0   \n",
       "...                                  ...   \n",
       "62571                                  0   \n",
       "38159                                  0   \n",
       "860                                    0   \n",
       "15796                                  0   \n",
       "56423                                  0   \n",
       "\n",
       "       universite_not_ortalamasi_1.80 - 2.49  \\\n",
       "62687                                      0   \n",
       "3639                                       0   \n",
       "47696                                      0   \n",
       "7978                                       1   \n",
       "55687                                      0   \n",
       "...                                      ...   \n",
       "62571                                      1   \n",
       "38159                                      1   \n",
       "860                                        1   \n",
       "15796                                      0   \n",
       "56423                                      0   \n",
       "\n",
       "       universite_not_ortalamasi_2.50 - 2.99  \\\n",
       "62687                                      0   \n",
       "3639                                       0   \n",
       "47696                                      0   \n",
       "7978                                       0   \n",
       "55687                                      1   \n",
       "...                                      ...   \n",
       "62571                                      0   \n",
       "38159                                      0   \n",
       "860                                        0   \n",
       "15796                                      0   \n",
       "56423                                      0   \n",
       "\n",
       "       universite_not_ortalamasi_3.00 - 3.49  \\\n",
       "62687                                      1   \n",
       "3639                                       1   \n",
       "47696                                      1   \n",
       "7978                                       0   \n",
       "55687                                      0   \n",
       "...                                      ...   \n",
       "62571                                      0   \n",
       "38159                                      0   \n",
       "860                                        0   \n",
       "15796                                      1   \n",
       "56423                                      0   \n",
       "\n",
       "       universite_not_ortalamasi_3.50 - 4.00  \\\n",
       "62687                                      0   \n",
       "3639                                       0   \n",
       "47696                                      0   \n",
       "7978                                       0   \n",
       "55687                                      0   \n",
       "...                                      ...   \n",
       "62571                                      0   \n",
       "38159                                      0   \n",
       "860                                        0   \n",
       "15796                                      0   \n",
       "56423                                      1   \n",
       "\n",
       "       universite_not_ortalamasi_hazırlığım  lise_turu_özel  \\\n",
       "62687                                     0               0   \n",
       "3639                                      0               1   \n",
       "47696                                     0               1   \n",
       "7978                                      0               0   \n",
       "55687                                     0               1   \n",
       "...                                     ...             ...   \n",
       "62571                                     0               0   \n",
       "38159                                     0               0   \n",
       "860                                       0               0   \n",
       "15796                                     0               0   \n",
       "56423                                     0               1   \n",
       "\n",
       "       lise_mezuniyet_notu_50 - 74  lise_mezuniyet_notu_75 - 100  \\\n",
       "62687                            0                             1   \n",
       "3639                             0                             1   \n",
       "47696                            0                             1   \n",
       "7978                             0                             1   \n",
       "55687                            0                             1   \n",
       "...                            ...                           ...   \n",
       "62571                            0                             1   \n",
       "38159                            0                             1   \n",
       "860                              1                             0   \n",
       "15796                            0                             1   \n",
       "56423                            0                             1   \n",
       "\n",
       "       baska_bir_kurumdan_burs_aliyor_mu_hayır  \\\n",
       "62687                                        1   \n",
       "3639                                         0   \n",
       "47696                                        1   \n",
       "7978                                         1   \n",
       "55687                                        0   \n",
       "...                                        ...   \n",
       "62571                                        1   \n",
       "38159                                        1   \n",
       "860                                          1   \n",
       "15796                                        1   \n",
       "56423                                        1   \n",
       "\n",
       "       baska_kurumdan_aldigi_burs_miktari_0 - 499 ₺  \\\n",
       "62687                                             0   \n",
       "3639                                              1   \n",
       "47696                                             0   \n",
       "7978                                              0   \n",
       "55687                                             1   \n",
       "...                                             ...   \n",
       "62571                                             0   \n",
       "38159                                             0   \n",
       "860                                               0   \n",
       "15796                                             0   \n",
       "56423                                             0   \n",
       "\n",
       "       baska_kurumdan_aldigi_burs_miktari_1000₺ ve üstü  \\\n",
       "62687                                                 0   \n",
       "3639                                                  0   \n",
       "47696                                                 0   \n",
       "7978                                                  0   \n",
       "55687                                                 0   \n",
       "...                                                 ...   \n",
       "62571                                                 0   \n",
       "38159                                                 0   \n",
       "860                                                   0   \n",
       "15796                                                 0   \n",
       "56423                                                 0   \n",
       "\n",
       "       baska_kurumdan_aldigi_burs_miktari_500₺ - 999₺  \\\n",
       "62687                                               0   \n",
       "3639                                                0   \n",
       "47696                                               0   \n",
       "7978                                                0   \n",
       "55687                                               0   \n",
       "...                                               ...   \n",
       "62571                                               0   \n",
       "38159                                               0   \n",
       "860                                                 0   \n",
       "15796                                               0   \n",
       "56423                                               0   \n",
       "\n",
       "       anne_egitim_durumu_eğitimi yok  anne_egitim_durumu_ilkokul  \\\n",
       "62687                               0                           1   \n",
       "3639                                0                           0   \n",
       "47696                               0                           0   \n",
       "7978                                0                           1   \n",
       "55687                               0                           0   \n",
       "...                               ...                         ...   \n",
       "62571                               0                           0   \n",
       "38159                               0                           0   \n",
       "860                                 0                           1   \n",
       "15796                               0                           0   \n",
       "56423                               0                           0   \n",
       "\n",
       "       anne_egitim_durumu_lise  anne_egitim_durumu_ortaokul  \\\n",
       "62687                        0                            0   \n",
       "3639                         1                            0   \n",
       "47696                        1                            0   \n",
       "7978                         0                            0   \n",
       "55687                        0                            0   \n",
       "...                        ...                          ...   \n",
       "62571                        1                            0   \n",
       "38159                        1                            0   \n",
       "860                          0                            0   \n",
       "15796                        1                            0   \n",
       "56423                        1                            0   \n",
       "\n",
       "       anne_egitim_durumu_yüksek lisans  anne_egitim_durumu_üniversite  \\\n",
       "62687                                 0                              0   \n",
       "3639                                  0                              0   \n",
       "47696                                 0                              0   \n",
       "7978                                  0                              0   \n",
       "55687                                 0                              1   \n",
       "...                                 ...                            ...   \n",
       "62571                                 0                              0   \n",
       "38159                                 0                              0   \n",
       "860                                   0                              0   \n",
       "15796                                 0                              0   \n",
       "56423                                 0                              0   \n",
       "\n",
       "       anne_calisma_durumu_hayır  anne_sektor_diğer  anne_sektor_kamu  \\\n",
       "62687                          1                  0                 0   \n",
       "3639                           0                  0                 1   \n",
       "47696                          1                  0                 0   \n",
       "7978                           1                  0                 0   \n",
       "55687                          1                  0                 1   \n",
       "...                          ...                ...               ...   \n",
       "62571                          1                  0                 0   \n",
       "38159                          0                  1                 0   \n",
       "860                            1                  0                 0   \n",
       "15796                          1                  0                 0   \n",
       "56423                          1                  0                 0   \n",
       "\n",
       "       anne_sektor_özel sektör  baba_egitim_durumu_eğitimi yok  \\\n",
       "62687                        0                               0   \n",
       "3639                         0                               0   \n",
       "47696                        0                               0   \n",
       "7978                         0                               0   \n",
       "55687                        0                               0   \n",
       "...                        ...                             ...   \n",
       "62571                        0                               0   \n",
       "38159                        0                               0   \n",
       "860                          0                               0   \n",
       "15796                        0                               0   \n",
       "56423                        0                               0   \n",
       "\n",
       "       baba_egitim_durumu_i̇lkokul  baba_egitim_durumu_lise  \\\n",
       "62687                            0                        0   \n",
       "3639                             1                        0   \n",
       "47696                            0                        0   \n",
       "7978                             0                        0   \n",
       "55687                            0                        0   \n",
       "...                            ...                      ...   \n",
       "62571                            0                        1   \n",
       "38159                            0                        1   \n",
       "860                              1                        0   \n",
       "15796                            0                        0   \n",
       "56423                            0                        0   \n",
       "\n",
       "       baba_egitim_durumu_ortaokul  baba_egitim_durumu_yüksek lisans  \\\n",
       "62687                            1                                 0   \n",
       "3639                             0                                 0   \n",
       "47696                            0                                 0   \n",
       "7978                             0                                 0   \n",
       "55687                            0                                 1   \n",
       "...                            ...                               ...   \n",
       "62571                            0                                 0   \n",
       "38159                            0                                 0   \n",
       "860                              0                                 0   \n",
       "15796                            0                                 0   \n",
       "56423                            0                                 0   \n",
       "\n",
       "       baba_egitim_durumu_üniversite  baba_calisma_durumu_hayır  \\\n",
       "62687                              0                          1   \n",
       "3639                               0                          0   \n",
       "47696                              1                          0   \n",
       "7978                               1                          0   \n",
       "55687                              0                          1   \n",
       "...                              ...                        ...   \n",
       "62571                              0                          1   \n",
       "38159                              0                          1   \n",
       "860                                0                          0   \n",
       "15796                              1                          0   \n",
       "56423                              1                          1   \n",
       "\n",
       "       baba_sektor_diğer  baba_sektor_kamu  baba_sektor_özel sektör  \\\n",
       "62687                  0                 0                        0   \n",
       "3639                   1                 0                        0   \n",
       "47696                  0                 1                        0   \n",
       "7978                   0                 0                        1   \n",
       "55687                  0                 0                        0   \n",
       "...                  ...               ...                      ...   \n",
       "62571                  0                 0                        0   \n",
       "38159                  0                 0                        0   \n",
       "860                    0                 0                        1   \n",
       "15796                  1                 0                        0   \n",
       "56423                  0                 1                        0   \n",
       "\n",
       "       girisimcilik_kulupleri_tarzi_bir_kulube_uye_misiniz_hayır  \\\n",
       "62687                                                  1           \n",
       "3639                                                   1           \n",
       "47696                                                  1           \n",
       "7978                                                   1           \n",
       "55687                                                  1           \n",
       "...                                                  ...           \n",
       "62571                                                  0           \n",
       "38159                                                  1           \n",
       "860                                                    0           \n",
       "15796                                                  0           \n",
       "56423                                                  0           \n",
       "\n",
       "       profesyonel_bir_spor_daliyla_mesgul_musunuz_hayır  \\\n",
       "62687                                                  1   \n",
       "3639                                                   0   \n",
       "47696                                                  0   \n",
       "7978                                                   1   \n",
       "55687                                                  0   \n",
       "...                                                  ...   \n",
       "62571                                                  1   \n",
       "38159                                                  1   \n",
       "860                                                    1   \n",
       "15796                                                  0   \n",
       "56423                                                  1   \n",
       "\n",
       "       aktif_olarak_bir_stk_uyesi_misiniz_hayır  \\\n",
       "62687                                         0   \n",
       "3639                                          1   \n",
       "47696                                         0   \n",
       "7978                                          1   \n",
       "55687                                         1   \n",
       "...                                         ...   \n",
       "62571                                         0   \n",
       "38159                                         1   \n",
       "860                                           1   \n",
       "15796                                         1   \n",
       "56423                                         1   \n",
       "\n",
       "       ingilizce_biliyor_musunuz_hayır  \n",
       "62687                                0  \n",
       "3639                                 0  \n",
       "47696                                0  \n",
       "7978                                 0  \n",
       "55687                                0  \n",
       "...                                ...  \n",
       "62571                                0  \n",
       "38159                                0  \n",
       "860                                  0  \n",
       "15796                                0  \n",
       "56423                                0  \n",
       "\n",
       "[40732 rows x 49 columns]"
      ]
     },
     "execution_count": 106,
     "metadata": {},
     "output_type": "execute_result"
    }
   ],
   "source": [
    "X_train"
   ]
  },
  {
   "cell_type": "code",
   "execution_count": 107,
   "id": "b6252e8a",
   "metadata": {
    "execution": {
     "iopub.execute_input": "2024-09-13T05:12:27.403413Z",
     "iopub.status.busy": "2024-09-13T05:12:27.402996Z",
     "iopub.status.idle": "2024-09-13T05:12:27.412033Z",
     "shell.execute_reply": "2024-09-13T05:12:27.410910Z"
    },
    "papermill": {
     "duration": 0.053075,
     "end_time": "2024-09-13T05:12:27.414165",
     "exception": false,
     "start_time": "2024-09-13T05:12:27.361090",
     "status": "completed"
    },
    "tags": []
   },
   "outputs": [
    {
     "data": {
      "text/plain": [
       "basvuru_yili                                                 int64\n",
       "kardes_sayisi                                                int64\n",
       "id                                                           int64\n",
       "cinsiyet_erkek                                               int64\n",
       "cinsiyet_kadın                                               int64\n",
       "universite_turu_özel                                         int64\n",
       "burs_aliyor_mu_hayır                                         int64\n",
       "universite_kacinci_sinif_2                                   int64\n",
       "universite_kacinci_sinif_3                                   int64\n",
       "universite_kacinci_sinif_4                                   int64\n",
       "universite_kacinci_sinif_5                                   int64\n",
       "universite_kacinci_sinif_6                                   int64\n",
       "universite_kacinci_sinif_hazırlık                            int64\n",
       "universite_not_ortalamasi_1.80 - 2.49                        int64\n",
       "universite_not_ortalamasi_2.50 - 2.99                        int64\n",
       "universite_not_ortalamasi_3.00 - 3.49                        int64\n",
       "universite_not_ortalamasi_3.50 - 4.00                        int64\n",
       "universite_not_ortalamasi_hazırlığım                         int64\n",
       "lise_turu_özel                                               int64\n",
       "lise_mezuniyet_notu_50 - 74                                  int64\n",
       "lise_mezuniyet_notu_75 - 100                                 int64\n",
       "baska_bir_kurumdan_burs_aliyor_mu_hayır                      int64\n",
       "baska_kurumdan_aldigi_burs_miktari_0 - 499 ₺                 int64\n",
       "baska_kurumdan_aldigi_burs_miktari_1000₺ ve üstü             int64\n",
       "baska_kurumdan_aldigi_burs_miktari_500₺ - 999₺               int64\n",
       "anne_egitim_durumu_eğitimi yok                               int64\n",
       "anne_egitim_durumu_ilkokul                                   int64\n",
       "anne_egitim_durumu_lise                                      int64\n",
       "anne_egitim_durumu_ortaokul                                  int64\n",
       "anne_egitim_durumu_yüksek lisans                             int64\n",
       "anne_egitim_durumu_üniversite                                int64\n",
       "anne_calisma_durumu_hayır                                    int64\n",
       "anne_sektor_diğer                                            int64\n",
       "anne_sektor_kamu                                             int64\n",
       "anne_sektor_özel sektör                                      int64\n",
       "baba_egitim_durumu_eğitimi yok                               int64\n",
       "baba_egitim_durumu_i̇lkokul                                  int64\n",
       "baba_egitim_durumu_lise                                      int64\n",
       "baba_egitim_durumu_ortaokul                                  int64\n",
       "baba_egitim_durumu_yüksek lisans                             int64\n",
       "baba_egitim_durumu_üniversite                                int64\n",
       "baba_calisma_durumu_hayır                                    int64\n",
       "baba_sektor_diğer                                            int64\n",
       "baba_sektor_kamu                                             int64\n",
       "baba_sektor_özel sektör                                      int64\n",
       "girisimcilik_kulupleri_tarzi_bir_kulube_uye_misiniz_hayır    int64\n",
       "profesyonel_bir_spor_daliyla_mesgul_musunuz_hayır            int64\n",
       "aktif_olarak_bir_stk_uyesi_misiniz_hayır                     int64\n",
       "ingilizce_biliyor_musunuz_hayır                              int64\n",
       "dtype: object"
      ]
     },
     "execution_count": 107,
     "metadata": {},
     "output_type": "execute_result"
    }
   ],
   "source": [
    "X_train.dtypes"
   ]
  },
  {
   "cell_type": "code",
   "execution_count": 108,
   "id": "67f8d19c",
   "metadata": {
    "execution": {
     "iopub.execute_input": "2024-09-13T05:12:27.499041Z",
     "iopub.status.busy": "2024-09-13T05:12:27.498602Z",
     "iopub.status.idle": "2024-09-13T05:12:27.505668Z",
     "shell.execute_reply": "2024-09-13T05:12:27.504836Z"
    },
    "papermill": {
     "duration": 0.05213,
     "end_time": "2024-09-13T05:12:27.507818",
     "exception": false,
     "start_time": "2024-09-13T05:12:27.455688",
     "status": "completed"
    },
    "tags": []
   },
   "outputs": [],
   "source": [
    "# Sütun ismi ile sütunu kaldırma\n",
    "X_test = X_test.drop(columns=['universite_not_ortalamasi_4.0-3.5'])"
   ]
  },
  {
   "cell_type": "code",
   "execution_count": 109,
   "id": "0bd6eaad",
   "metadata": {
    "execution": {
     "iopub.execute_input": "2024-09-13T05:12:27.592243Z",
     "iopub.status.busy": "2024-09-13T05:12:27.591309Z",
     "iopub.status.idle": "2024-09-13T05:12:27.598346Z",
     "shell.execute_reply": "2024-09-13T05:12:27.597497Z"
    },
    "papermill": {
     "duration": 0.051042,
     "end_time": "2024-09-13T05:12:27.600436",
     "exception": false,
     "start_time": "2024-09-13T05:12:27.549394",
     "status": "completed"
    },
    "tags": []
   },
   "outputs": [
    {
     "data": {
      "text/plain": [
       "1"
      ]
     },
     "execution_count": 109,
     "metadata": {},
     "output_type": "execute_result"
    }
   ],
   "source": [
    "y_train.isna().sum()"
   ]
  },
  {
   "cell_type": "code",
   "execution_count": 110,
   "id": "ff7949ef",
   "metadata": {
    "execution": {
     "iopub.execute_input": "2024-09-13T05:12:27.683999Z",
     "iopub.status.busy": "2024-09-13T05:12:27.683558Z",
     "iopub.status.idle": "2024-09-13T05:12:27.708229Z",
     "shell.execute_reply": "2024-09-13T05:12:27.707050Z"
    },
    "papermill": {
     "duration": 0.069212,
     "end_time": "2024-09-13T05:12:27.710519",
     "exception": false,
     "start_time": "2024-09-13T05:12:27.641307",
     "status": "completed"
    },
    "tags": []
   },
   "outputs": [
    {
     "name": "stdout",
     "output_type": "stream",
     "text": [
      "(40731, 49)\n",
      "(52098,)\n"
     ]
    }
   ],
   "source": [
    "# NaN değerleri içeren satır indekslerini bul\n",
    "nan_indices = y_train[y_train.isna()].index\n",
    "\n",
    "# Bu indeksleri hem X_train hem de y_train' den kaldırın\n",
    "X_train = X_train.drop(index=nan_indices)\n",
    "y_train = y_train.drop(index=nan_indices)\n",
    "\n",
    "# Temizlenmiş veri setlerini kontrol edin\n",
    "print(X_train.shape)\n",
    "print(y_train.shape)\n"
   ]
  },
  {
   "cell_type": "code",
   "execution_count": 111,
   "id": "d37daced",
   "metadata": {
    "execution": {
     "iopub.execute_input": "2024-09-13T05:12:27.794545Z",
     "iopub.status.busy": "2024-09-13T05:12:27.793765Z",
     "iopub.status.idle": "2024-09-13T05:12:27.802060Z",
     "shell.execute_reply": "2024-09-13T05:12:27.800988Z"
    },
    "papermill": {
     "duration": 0.052923,
     "end_time": "2024-09-13T05:12:27.804418",
     "exception": false,
     "start_time": "2024-09-13T05:12:27.751495",
     "status": "completed"
    },
    "tags": []
   },
   "outputs": [],
   "source": [
    "# Sütun isimlerini ASCII'ye dönüştür\n",
    "X_train.columns = X_train.columns.str.normalize('NFKD').str.encode('ascii', errors='ignore').str.decode('ascii')\n",
    "X_test.columns = X_test.columns.str.normalize('NFKD').str.encode('ascii', errors='ignore').str.decode('ascii')\n",
    "test.columns = test.columns.str.normalize('NFKD').str.encode('ascii', errors='ignore').str.decode('ascii')"
   ]
  },
  {
   "cell_type": "markdown",
   "id": "48667ce9",
   "metadata": {
    "papermill": {
     "duration": 0.043519,
     "end_time": "2024-09-13T05:12:27.888723",
     "exception": false,
     "start_time": "2024-09-13T05:12:27.845204",
     "status": "completed"
    },
    "tags": []
   },
   "source": [
    "# Pipeline tarzı uygulama bitti"
   ]
  },
  {
   "cell_type": "markdown",
   "id": "9c57c345",
   "metadata": {
    "papermill": {
     "duration": 0.040466,
     "end_time": "2024-09-13T05:12:27.969962",
     "exception": false,
     "start_time": "2024-09-13T05:12:27.929496",
     "status": "completed"
    },
    "tags": []
   },
   "source": [
    "# MODEL AŞAMASI"
   ]
  },
  {
   "cell_type": "code",
   "execution_count": 112,
   "id": "5f2474fc",
   "metadata": {
    "execution": {
     "iopub.execute_input": "2024-09-13T05:12:28.054117Z",
     "iopub.status.busy": "2024-09-13T05:12:28.053555Z",
     "iopub.status.idle": "2024-09-13T05:12:28.058665Z",
     "shell.execute_reply": "2024-09-13T05:12:28.057620Z"
    },
    "papermill": {
     "duration": 0.049467,
     "end_time": "2024-09-13T05:12:28.061055",
     "exception": false,
     "start_time": "2024-09-13T05:12:28.011588",
     "status": "completed"
    },
    "tags": []
   },
   "outputs": [],
   "source": [
    "import warnings\n",
    "\n",
    "# Global olarak tüm uyarıları kapatmak için\n",
    "warnings.filterwarnings(\"ignore\")\n",
    "\n",
    "# Kodunuz burada yer alacak"
   ]
  },
  {
   "cell_type": "code",
   "execution_count": 113,
   "id": "935c2ca0",
   "metadata": {
    "execution": {
     "iopub.execute_input": "2024-09-13T05:12:28.145699Z",
     "iopub.status.busy": "2024-09-13T05:12:28.144715Z",
     "iopub.status.idle": "2024-09-13T05:12:28.510474Z",
     "shell.execute_reply": "2024-09-13T05:12:28.509442Z"
    },
    "papermill": {
     "duration": 0.410477,
     "end_time": "2024-09-13T05:12:28.512939",
     "exception": false,
     "start_time": "2024-09-13T05:12:28.102462",
     "status": "completed"
    },
    "tags": []
   },
   "outputs": [],
   "source": [
    "# Gerekli kütüphaneler\n",
    "from catboost import CatBoostClassifier, CatBoostRegressor\n",
    "from sklearn.model_selection import train_test_split\n",
    "from sklearn.metrics import accuracy_score, mean_squared_error"
   ]
  },
  {
   "cell_type": "code",
   "execution_count": 114,
   "id": "2a637bb6",
   "metadata": {
    "execution": {
     "iopub.execute_input": "2024-09-13T05:12:28.596070Z",
     "iopub.status.busy": "2024-09-13T05:12:28.595650Z",
     "iopub.status.idle": "2024-09-13T05:12:28.602500Z",
     "shell.execute_reply": "2024-09-13T05:12:28.601530Z"
    },
    "papermill": {
     "duration": 0.050874,
     "end_time": "2024-09-13T05:12:28.604667",
     "exception": false,
     "start_time": "2024-09-13T05:12:28.553793",
     "status": "completed"
    },
    "tags": []
   },
   "outputs": [
    {
     "name": "stdout",
     "output_type": "stream",
     "text": [
      "1438     78.0\n",
      "62687    24.0\n",
      "3639     31.0\n",
      "47696    41.0\n",
      "7978      6.0\n",
      "Name: Degerlendirme Puani, dtype: float64\n",
      "Index([ 1438, 62687,  3639, 47696,  7978, 55687, 12030,  8518,  6896, 28473,\n",
      "       ...\n",
      "        6265, 54887, 11284, 44733, 54344, 62571, 38159,   860, 15796, 56423],\n",
      "      dtype='int64', length=52098)\n"
     ]
    }
   ],
   "source": [
    "print(y_train.head())  # İlk birkaç satırı göster\n",
    "print(y_train.index)   # Indexleri göster"
   ]
  },
  {
   "cell_type": "code",
   "execution_count": 115,
   "id": "1e79abb9",
   "metadata": {
    "execution": {
     "iopub.execute_input": "2024-09-13T05:12:28.688815Z",
     "iopub.status.busy": "2024-09-13T05:12:28.688043Z",
     "iopub.status.idle": "2024-09-13T05:12:28.696219Z",
     "shell.execute_reply": "2024-09-13T05:12:28.695267Z"
    },
    "papermill": {
     "duration": 0.052679,
     "end_time": "2024-09-13T05:12:28.698371",
     "exception": false,
     "start_time": "2024-09-13T05:12:28.645692",
     "status": "completed"
    },
    "tags": []
   },
   "outputs": [
    {
     "data": {
      "text/plain": [
       "936      36.0\n",
       "47881    37.0\n",
       "35729     7.0\n",
       "18593    30.0\n",
       "45514    13.0\n",
       "         ... \n",
       "19579    24.0\n",
       "60110    39.0\n",
       "439      48.0\n",
       "850      42.0\n",
       "11762    16.0\n",
       "Name: Degerlendirme Puani, Length: 13025, dtype: float64"
      ]
     },
     "execution_count": 115,
     "metadata": {},
     "output_type": "execute_result"
    }
   ],
   "source": [
    "y_test"
   ]
  },
  {
   "cell_type": "code",
   "execution_count": 116,
   "id": "e9cdcf8b",
   "metadata": {
    "execution": {
     "iopub.execute_input": "2024-09-13T05:12:28.783038Z",
     "iopub.status.busy": "2024-09-13T05:12:28.782320Z",
     "iopub.status.idle": "2024-09-13T05:12:28.798109Z",
     "shell.execute_reply": "2024-09-13T05:12:28.797042Z"
    },
    "papermill": {
     "duration": 0.060815,
     "end_time": "2024-09-13T05:12:28.800242",
     "exception": false,
     "start_time": "2024-09-13T05:12:28.739427",
     "status": "completed"
    },
    "tags": []
   },
   "outputs": [
    {
     "name": "stdout",
     "output_type": "stream",
     "text": [
      "X_train boyutu: (40731, 49)\n",
      "y_train boyutu: (40731,)\n",
      "X_test boyutu: (10129, 49)\n",
      "y_test boyutu: (10129,)\n"
     ]
    }
   ],
   "source": [
    "# X_train'de işlem yaptıktan sonra y_train'i X_train'in index'lerine göre filtreleme\n",
    "y_train_filtered = y_train.loc[y_train.index.intersection(X_train.index)]\n",
    "\n",
    "# X_test ve y_test'i de aynı şekilde filtreleme\n",
    "y_test_filtered = y_test.loc[y_test.index.intersection(X_test.index)]\n",
    "\n",
    "# Sonuçları kontrol edelim\n",
    "print(f\"X_train boyutu: {X_train.shape}\")\n",
    "print(f\"y_train boyutu: {y_train_filtered.shape}\")\n",
    "\n",
    "print(f\"X_test boyutu: {X_test.shape}\")\n",
    "print(f\"y_test boyutu: {y_test_filtered.shape}\")"
   ]
  },
  {
   "cell_type": "code",
   "execution_count": 117,
   "id": "aae85ea2",
   "metadata": {
    "execution": {
     "iopub.execute_input": "2024-09-13T05:12:28.886015Z",
     "iopub.status.busy": "2024-09-13T05:12:28.885225Z",
     "iopub.status.idle": "2024-09-13T05:12:28.892496Z",
     "shell.execute_reply": "2024-09-13T05:12:28.891381Z"
    },
    "papermill": {
     "duration": 0.053445,
     "end_time": "2024-09-13T05:12:28.894664",
     "exception": false,
     "start_time": "2024-09-13T05:12:28.841219",
     "status": "completed"
    },
    "tags": []
   },
   "outputs": [
    {
     "data": {
      "text/plain": [
       "'from sklearn.linear_model import ElasticNet\\nalpha = 0.1  # Modelin ceza gücü (daha yüksek alpha = daha fazla ceza)\\nl1_ratio = 0.9  # L1 (Lasso) ve L2 (Ridge) arasında denge (0 ile 1 arasında değer alır)\\n\\nelastic_net_model = ElasticNet(alpha=alpha, l1_ratio=l1_ratio, random_state=42)\\n\\nelastic_net_model.fit(X_train, y_train_filtered)\\n\\ntest_predictions = elastic_net_model.predict(X_test)\\n\\n# 5. Modeli Eğitin\\n#model.fit(X_train, y_train_filtered, eval_set=(X_test, y_test_filtered), early_stopping_rounds=100)'"
      ]
     },
     "execution_count": 117,
     "metadata": {},
     "output_type": "execute_result"
    }
   ],
   "source": [
    "\"\"\"from sklearn.linear_model import ElasticNet\n",
    "alpha = 0.1  # Modelin ceza gücü (daha yüksek alpha = daha fazla ceza)\n",
    "l1_ratio = 0.9  # L1 (Lasso) ve L2 (Ridge) arasında denge (0 ile 1 arasında değer alır)\n",
    "\n",
    "elastic_net_model = ElasticNet(alpha=alpha, l1_ratio=l1_ratio, random_state=42)\n",
    "\n",
    "elastic_net_model.fit(X_train, y_train_filtered)\n",
    "\n",
    "test_predictions = elastic_net_model.predict(X_test)\n",
    "\n",
    "# 5. Modeli Eğitin\n",
    "#model.fit(X_train, y_train_filtered, eval_set=(X_test, y_test_filtered), early_stopping_rounds=100)\"\"\""
   ]
  },
  {
   "cell_type": "code",
   "execution_count": 118,
   "id": "d210d221",
   "metadata": {
    "execution": {
     "iopub.execute_input": "2024-09-13T05:12:28.979041Z",
     "iopub.status.busy": "2024-09-13T05:12:28.978611Z",
     "iopub.status.idle": "2024-09-13T05:12:32.704928Z",
     "shell.execute_reply": "2024-09-13T05:12:32.703824Z"
    },
    "papermill": {
     "duration": 3.771335,
     "end_time": "2024-09-13T05:12:32.707490",
     "exception": false,
     "start_time": "2024-09-13T05:12:28.936155",
     "status": "completed"
    },
    "tags": []
   },
   "outputs": [
    {
     "name": "stdout",
     "output_type": "stream",
     "text": [
      "[0]\tvalidation_0-rmse:14.91411\n",
      "[1]\tvalidation_0-rmse:14.60226\n",
      "[2]\tvalidation_0-rmse:14.17736\n",
      "[3]\tvalidation_0-rmse:13.79838\n",
      "[4]\tvalidation_0-rmse:13.40910\n",
      "[5]\tvalidation_0-rmse:13.18304\n",
      "[6]\tvalidation_0-rmse:12.79135\n",
      "[7]\tvalidation_0-rmse:12.42102\n",
      "[8]\tvalidation_0-rmse:12.11603\n",
      "[9]\tvalidation_0-rmse:11.75076\n",
      "[10]\tvalidation_0-rmse:11.43204\n",
      "[11]\tvalidation_0-rmse:11.22851\n",
      "[12]\tvalidation_0-rmse:10.94317\n",
      "[13]\tvalidation_0-rmse:10.79624\n",
      "[14]\tvalidation_0-rmse:10.59740\n",
      "[15]\tvalidation_0-rmse:10.35401\n",
      "[16]\tvalidation_0-rmse:10.20279\n",
      "[17]\tvalidation_0-rmse:10.06112\n",
      "[18]\tvalidation_0-rmse:9.86582\n",
      "[19]\tvalidation_0-rmse:9.68804\n",
      "[20]\tvalidation_0-rmse:9.51050\n",
      "[21]\tvalidation_0-rmse:9.44836\n",
      "[22]\tvalidation_0-rmse:9.33001\n",
      "[23]\tvalidation_0-rmse:9.20964\n",
      "[24]\tvalidation_0-rmse:9.05429\n",
      "[25]\tvalidation_0-rmse:8.94515\n",
      "[26]\tvalidation_0-rmse:8.82296\n",
      "[27]\tvalidation_0-rmse:8.79310\n",
      "[28]\tvalidation_0-rmse:8.70363\n",
      "[29]\tvalidation_0-rmse:8.60170\n",
      "[30]\tvalidation_0-rmse:8.53713\n",
      "[31]\tvalidation_0-rmse:8.44843\n",
      "[32]\tvalidation_0-rmse:8.39535\n",
      "[33]\tvalidation_0-rmse:8.31733\n",
      "[34]\tvalidation_0-rmse:8.23332\n",
      "[35]\tvalidation_0-rmse:8.16697\n",
      "[36]\tvalidation_0-rmse:8.12417\n",
      "[37]\tvalidation_0-rmse:8.07508\n",
      "[38]\tvalidation_0-rmse:8.02457\n",
      "[39]\tvalidation_0-rmse:7.99579\n",
      "[40]\tvalidation_0-rmse:7.93930\n",
      "[41]\tvalidation_0-rmse:7.88880\n",
      "[42]\tvalidation_0-rmse:7.84613\n",
      "[43]\tvalidation_0-rmse:7.80871\n",
      "[44]\tvalidation_0-rmse:7.79026\n",
      "[45]\tvalidation_0-rmse:7.76421\n",
      "[46]\tvalidation_0-rmse:7.73666\n",
      "[47]\tvalidation_0-rmse:7.70478\n",
      "[48]\tvalidation_0-rmse:7.68893\n",
      "[49]\tvalidation_0-rmse:7.67390\n",
      "[50]\tvalidation_0-rmse:7.65550\n",
      "[51]\tvalidation_0-rmse:7.64071\n",
      "[52]\tvalidation_0-rmse:7.62717\n",
      "[53]\tvalidation_0-rmse:7.61201\n",
      "[54]\tvalidation_0-rmse:7.60211\n",
      "[55]\tvalidation_0-rmse:7.59756\n",
      "[56]\tvalidation_0-rmse:7.59041\n",
      "[57]\tvalidation_0-rmse:7.57867\n",
      "[58]\tvalidation_0-rmse:7.56513\n",
      "[59]\tvalidation_0-rmse:7.55301\n",
      "[60]\tvalidation_0-rmse:7.54799\n",
      "[61]\tvalidation_0-rmse:7.54338\n",
      "[62]\tvalidation_0-rmse:7.53654\n",
      "[63]\tvalidation_0-rmse:7.52817\n",
      "[64]\tvalidation_0-rmse:7.52031\n",
      "[65]\tvalidation_0-rmse:7.51388\n",
      "[66]\tvalidation_0-rmse:7.50879\n",
      "[67]\tvalidation_0-rmse:7.50550\n",
      "[68]\tvalidation_0-rmse:7.50189\n",
      "[69]\tvalidation_0-rmse:7.49538\n",
      "[70]\tvalidation_0-rmse:7.49295\n",
      "[71]\tvalidation_0-rmse:7.48825\n",
      "[72]\tvalidation_0-rmse:7.48286\n",
      "[73]\tvalidation_0-rmse:7.47792\n",
      "[74]\tvalidation_0-rmse:7.47472\n",
      "[75]\tvalidation_0-rmse:7.47388\n",
      "[76]\tvalidation_0-rmse:7.47341\n",
      "[77]\tvalidation_0-rmse:7.47054\n",
      "[78]\tvalidation_0-rmse:7.47045\n",
      "[79]\tvalidation_0-rmse:7.46754\n",
      "[80]\tvalidation_0-rmse:7.46809\n",
      "[81]\tvalidation_0-rmse:7.46695\n",
      "[82]\tvalidation_0-rmse:7.46338\n",
      "[83]\tvalidation_0-rmse:7.46339\n",
      "[84]\tvalidation_0-rmse:7.46174\n",
      "[85]\tvalidation_0-rmse:7.46120\n",
      "[86]\tvalidation_0-rmse:7.46233\n",
      "[87]\tvalidation_0-rmse:7.45994\n",
      "[88]\tvalidation_0-rmse:7.45910\n",
      "[89]\tvalidation_0-rmse:7.45735\n",
      "[90]\tvalidation_0-rmse:7.45605\n",
      "[91]\tvalidation_0-rmse:7.45486\n",
      "[92]\tvalidation_0-rmse:7.45316\n",
      "[93]\tvalidation_0-rmse:7.45320\n",
      "[94]\tvalidation_0-rmse:7.45335\n",
      "[95]\tvalidation_0-rmse:7.45421\n",
      "[96]\tvalidation_0-rmse:7.45538\n",
      "[97]\tvalidation_0-rmse:7.45473\n",
      "[98]\tvalidation_0-rmse:7.45542\n",
      "[99]\tvalidation_0-rmse:7.45645\n",
      "[100]\tvalidation_0-rmse:7.45573\n",
      "[101]\tvalidation_0-rmse:7.45582\n",
      "[102]\tvalidation_0-rmse:7.45727\n",
      "[103]\tvalidation_0-rmse:7.45608\n",
      "[104]\tvalidation_0-rmse:7.45794\n",
      "[105]\tvalidation_0-rmse:7.45970\n",
      "[106]\tvalidation_0-rmse:7.45978\n",
      "[107]\tvalidation_0-rmse:7.46067\n",
      "[108]\tvalidation_0-rmse:7.46088\n",
      "[109]\tvalidation_0-rmse:7.46145\n",
      "[110]\tvalidation_0-rmse:7.46218\n",
      "[111]\tvalidation_0-rmse:7.46178\n",
      "[112]\tvalidation_0-rmse:7.46308\n",
      "[113]\tvalidation_0-rmse:7.46392\n",
      "[114]\tvalidation_0-rmse:7.46435\n",
      "[115]\tvalidation_0-rmse:7.46501\n",
      "[116]\tvalidation_0-rmse:7.46640\n",
      "[117]\tvalidation_0-rmse:7.46602\n"
     ]
    }
   ],
   "source": [
    "from xgboost import XGBRegressor\n",
    "\n",
    "model = XGBRegressor(\n",
    "    alpha=0.2,  \n",
    "    reg_lambda=0.2, \n",
    "    subsample=0.8, \n",
    "    colsample_bytree=0.6,  \n",
    "    learning_rate=0.05, \n",
    "    objective='reg:squarederror',  \n",
    "    max_depth=14,  \n",
    "    min_child_weight=7, \n",
    "    gamma=1e-6, \n",
    "    n_estimators=1000,  \n",
    "    eval_metric='rmse',  \n",
    "    early_stopping_rounds=25\n",
    ")\n",
    "\n",
    "XGB = model.fit(\n",
    "    X_train, \n",
    "    y_train_filtered, \n",
    "    eval_set=[(X_test, y_test_filtered)], \n",
    "    verbose=True  \n",
    ")\n",
    "\n",
    "y_pred = model.predict(X_test)"
   ]
  },
  {
   "cell_type": "code",
   "execution_count": 119,
   "id": "54cc8d66",
   "metadata": {
    "execution": {
     "iopub.execute_input": "2024-09-13T05:12:32.807600Z",
     "iopub.status.busy": "2024-09-13T05:12:32.807191Z",
     "iopub.status.idle": "2024-09-13T05:12:32.861013Z",
     "shell.execute_reply": "2024-09-13T05:12:32.860007Z"
    },
    "papermill": {
     "duration": 0.106568,
     "end_time": "2024-09-13T05:12:32.863627",
     "exception": false,
     "start_time": "2024-09-13T05:12:32.757059",
     "status": "completed"
    },
    "tags": []
   },
   "outputs": [],
   "source": [
    "test_predictions = model.predict(X_test)"
   ]
  },
  {
   "cell_type": "code",
   "execution_count": 120,
   "id": "35ec0de1",
   "metadata": {
    "execution": {
     "iopub.execute_input": "2024-09-13T05:12:32.965742Z",
     "iopub.status.busy": "2024-09-13T05:12:32.965044Z",
     "iopub.status.idle": "2024-09-13T05:12:32.973724Z",
     "shell.execute_reply": "2024-09-13T05:12:32.972680Z"
    },
    "papermill": {
     "duration": 0.061875,
     "end_time": "2024-09-13T05:12:32.975913",
     "exception": false,
     "start_time": "2024-09-13T05:12:32.914038",
     "status": "completed"
    },
    "tags": []
   },
   "outputs": [
    {
     "name": "stdout",
     "output_type": "stream",
     "text": [
      "RMSE: 7.45315569566047\n",
      "R²: 0.7684313474869474\n"
     ]
    }
   ],
   "source": [
    "from sklearn.metrics import mean_squared_error, r2_score\n",
    "\n",
    "\n",
    "# RMSE (Root Mean Squared Error)\n",
    "rmse = np.sqrt(mean_squared_error(y_test_filtered, test_predictions))\n",
    "print(f\"RMSE: {rmse}\")\n",
    "\n",
    "# R² (R-squared)\n",
    "r2 = r2_score(y_test_filtered, test_predictions)\n",
    "print(f\"R²: {r2}\")"
   ]
  },
  {
   "cell_type": "code",
   "execution_count": 121,
   "id": "e3facefc",
   "metadata": {
    "execution": {
     "iopub.execute_input": "2024-09-13T05:12:33.075265Z",
     "iopub.status.busy": "2024-09-13T05:12:33.074364Z",
     "iopub.status.idle": "2024-09-13T05:12:33.081942Z",
     "shell.execute_reply": "2024-09-13T05:12:33.081099Z"
    },
    "papermill": {
     "duration": 0.059486,
     "end_time": "2024-09-13T05:12:33.084015",
     "exception": false,
     "start_time": "2024-09-13T05:12:33.024529",
     "status": "completed"
    },
    "tags": []
   },
   "outputs": [],
   "source": [
    "sub = pd.read_csv(\"/kaggle/input/datathon-2024/sample_submission.csv\")"
   ]
  },
  {
   "cell_type": "code",
   "execution_count": 122,
   "id": "00a46008",
   "metadata": {
    "execution": {
     "iopub.execute_input": "2024-09-13T05:12:33.184398Z",
     "iopub.status.busy": "2024-09-13T05:12:33.183167Z",
     "iopub.status.idle": "2024-09-13T05:12:33.234247Z",
     "shell.execute_reply": "2024-09-13T05:12:33.233269Z"
    },
    "papermill": {
     "duration": 0.103642,
     "end_time": "2024-09-13T05:12:33.236678",
     "exception": false,
     "start_time": "2024-09-13T05:12:33.133036",
     "status": "completed"
    },
    "tags": []
   },
   "outputs": [],
   "source": [
    "predictions = model.predict(test)"
   ]
  },
  {
   "cell_type": "code",
   "execution_count": 123,
   "id": "08d1f632",
   "metadata": {
    "execution": {
     "iopub.execute_input": "2024-09-13T05:12:33.336726Z",
     "iopub.status.busy": "2024-09-13T05:12:33.336034Z",
     "iopub.status.idle": "2024-09-13T05:12:33.342676Z",
     "shell.execute_reply": "2024-09-13T05:12:33.341710Z"
    },
    "papermill": {
     "duration": 0.059056,
     "end_time": "2024-09-13T05:12:33.344947",
     "exception": false,
     "start_time": "2024-09-13T05:12:33.285891",
     "status": "completed"
    },
    "tags": []
   },
   "outputs": [
    {
     "data": {
      "text/plain": [
       "array([44.486935, 34.717773, 30.90976 , ..., 50.760746, 52.47677 ,\n",
       "       42.72324 ], dtype=float32)"
      ]
     },
     "execution_count": 123,
     "metadata": {},
     "output_type": "execute_result"
    }
   ],
   "source": [
    "predictions"
   ]
  },
  {
   "cell_type": "code",
   "execution_count": 124,
   "id": "c3b8f8af",
   "metadata": {
    "execution": {
     "iopub.execute_input": "2024-09-13T05:12:33.444345Z",
     "iopub.status.busy": "2024-09-13T05:12:33.443641Z",
     "iopub.status.idle": "2024-09-13T05:12:33.448601Z",
     "shell.execute_reply": "2024-09-13T05:12:33.447602Z"
    },
    "papermill": {
     "duration": 0.056973,
     "end_time": "2024-09-13T05:12:33.450699",
     "exception": false,
     "start_time": "2024-09-13T05:12:33.393726",
     "status": "completed"
    },
    "tags": []
   },
   "outputs": [],
   "source": [
    "ids = test['id']"
   ]
  },
  {
   "cell_type": "code",
   "execution_count": 125,
   "id": "79ae22a4",
   "metadata": {
    "execution": {
     "iopub.execute_input": "2024-09-13T05:12:33.551554Z",
     "iopub.status.busy": "2024-09-13T05:12:33.551179Z",
     "iopub.status.idle": "2024-09-13T05:12:33.556791Z",
     "shell.execute_reply": "2024-09-13T05:12:33.555728Z"
    },
    "papermill": {
     "duration": 0.057516,
     "end_time": "2024-09-13T05:12:33.558831",
     "exception": false,
     "start_time": "2024-09-13T05:12:33.501315",
     "status": "completed"
    },
    "tags": []
   },
   "outputs": [
    {
     "name": "stdout",
     "output_type": "stream",
     "text": [
      "test id length: 11049\n",
      "predictions length: 11049\n"
     ]
    }
   ],
   "source": [
    "print(\"test id length:\", len(ids))\n",
    "print(\"predictions length:\", len(predictions))"
   ]
  },
  {
   "cell_type": "code",
   "execution_count": 126,
   "id": "77c3c7da",
   "metadata": {
    "execution": {
     "iopub.execute_input": "2024-09-13T05:12:33.658289Z",
     "iopub.status.busy": "2024-09-13T05:12:33.657880Z",
     "iopub.status.idle": "2024-09-13T05:12:33.663578Z",
     "shell.execute_reply": "2024-09-13T05:12:33.662683Z"
    },
    "papermill": {
     "duration": 0.057947,
     "end_time": "2024-09-13T05:12:33.665700",
     "exception": false,
     "start_time": "2024-09-13T05:12:33.607753",
     "status": "completed"
    },
    "tags": []
   },
   "outputs": [],
   "source": [
    "submission = pd.DataFrame({\n",
    "    'id': ids,  # 'id' sütununu test dosyasından alın\n",
    "    'Degerlendirme Puani': predictions  # Tahminleri 'Degerlendirme Puani'na aktar\n",
    "})"
   ]
  },
  {
   "cell_type": "code",
   "execution_count": 127,
   "id": "7cf00981",
   "metadata": {
    "execution": {
     "iopub.execute_input": "2024-09-13T05:12:33.765907Z",
     "iopub.status.busy": "2024-09-13T05:12:33.765485Z",
     "iopub.status.idle": "2024-09-13T05:12:33.776804Z",
     "shell.execute_reply": "2024-09-13T05:12:33.775889Z"
    },
    "papermill": {
     "duration": 0.063722,
     "end_time": "2024-09-13T05:12:33.778785",
     "exception": false,
     "start_time": "2024-09-13T05:12:33.715063",
     "status": "completed"
    },
    "tags": []
   },
   "outputs": [
    {
     "data": {
      "text/html": [
       "<div>\n",
       "<style scoped>\n",
       "    .dataframe tbody tr th:only-of-type {\n",
       "        vertical-align: middle;\n",
       "    }\n",
       "\n",
       "    .dataframe tbody tr th {\n",
       "        vertical-align: top;\n",
       "    }\n",
       "\n",
       "    .dataframe thead th {\n",
       "        text-align: right;\n",
       "    }\n",
       "</style>\n",
       "<table border=\"1\" class=\"dataframe\">\n",
       "  <thead>\n",
       "    <tr style=\"text-align: right;\">\n",
       "      <th></th>\n",
       "      <th>id</th>\n",
       "      <th>Degerlendirme Puani</th>\n",
       "    </tr>\n",
       "  </thead>\n",
       "  <tbody>\n",
       "    <tr>\n",
       "      <th>0</th>\n",
       "      <td>0</td>\n",
       "      <td>44.486935</td>\n",
       "    </tr>\n",
       "    <tr>\n",
       "      <th>1</th>\n",
       "      <td>1</td>\n",
       "      <td>34.717773</td>\n",
       "    </tr>\n",
       "    <tr>\n",
       "      <th>2</th>\n",
       "      <td>2</td>\n",
       "      <td>30.909760</td>\n",
       "    </tr>\n",
       "    <tr>\n",
       "      <th>3</th>\n",
       "      <td>3</td>\n",
       "      <td>33.640610</td>\n",
       "    </tr>\n",
       "    <tr>\n",
       "      <th>4</th>\n",
       "      <td>4</td>\n",
       "      <td>40.954651</td>\n",
       "    </tr>\n",
       "    <tr>\n",
       "      <th>...</th>\n",
       "      <td>...</td>\n",
       "      <td>...</td>\n",
       "    </tr>\n",
       "    <tr>\n",
       "      <th>11044</th>\n",
       "      <td>11044</td>\n",
       "      <td>45.797195</td>\n",
       "    </tr>\n",
       "    <tr>\n",
       "      <th>11045</th>\n",
       "      <td>11045</td>\n",
       "      <td>44.179287</td>\n",
       "    </tr>\n",
       "    <tr>\n",
       "      <th>11046</th>\n",
       "      <td>11046</td>\n",
       "      <td>50.760746</td>\n",
       "    </tr>\n",
       "    <tr>\n",
       "      <th>11047</th>\n",
       "      <td>11047</td>\n",
       "      <td>52.476768</td>\n",
       "    </tr>\n",
       "    <tr>\n",
       "      <th>11048</th>\n",
       "      <td>11048</td>\n",
       "      <td>42.723240</td>\n",
       "    </tr>\n",
       "  </tbody>\n",
       "</table>\n",
       "<p>11049 rows × 2 columns</p>\n",
       "</div>"
      ],
      "text/plain": [
       "          id  Degerlendirme Puani\n",
       "0          0            44.486935\n",
       "1          1            34.717773\n",
       "2          2            30.909760\n",
       "3          3            33.640610\n",
       "4          4            40.954651\n",
       "...      ...                  ...\n",
       "11044  11044            45.797195\n",
       "11045  11045            44.179287\n",
       "11046  11046            50.760746\n",
       "11047  11047            52.476768\n",
       "11048  11048            42.723240\n",
       "\n",
       "[11049 rows x 2 columns]"
      ]
     },
     "execution_count": 127,
     "metadata": {},
     "output_type": "execute_result"
    }
   ],
   "source": [
    "submission"
   ]
  },
  {
   "cell_type": "code",
   "execution_count": 128,
   "id": "6671e4cc",
   "metadata": {
    "execution": {
     "iopub.execute_input": "2024-09-13T05:12:33.879496Z",
     "iopub.status.busy": "2024-09-13T05:12:33.879087Z",
     "iopub.status.idle": "2024-09-13T05:12:33.904948Z",
     "shell.execute_reply": "2024-09-13T05:12:33.903926Z"
    },
    "papermill": {
     "duration": 0.07912,
     "end_time": "2024-09-13T05:12:33.907421",
     "exception": false,
     "start_time": "2024-09-13T05:12:33.828301",
     "status": "completed"
    },
    "tags": []
   },
   "outputs": [],
   "source": [
    "submission.to_csv('submission.csv', index=False)"
   ]
  },
  {
   "cell_type": "code",
   "execution_count": 129,
   "id": "a993aa99",
   "metadata": {
    "execution": {
     "iopub.execute_input": "2024-09-13T05:12:34.009476Z",
     "iopub.status.busy": "2024-09-13T05:12:34.008658Z",
     "iopub.status.idle": "2024-09-13T05:12:34.023789Z",
     "shell.execute_reply": "2024-09-13T05:12:34.022733Z"
    },
    "papermill": {
     "duration": 0.068764,
     "end_time": "2024-09-13T05:12:34.025966",
     "exception": false,
     "start_time": "2024-09-13T05:12:33.957202",
     "status": "completed"
    },
    "tags": []
   },
   "outputs": [
    {
     "data": {
      "text/html": [
       "<div>\n",
       "<style scoped>\n",
       "    .dataframe tbody tr th:only-of-type {\n",
       "        vertical-align: middle;\n",
       "    }\n",
       "\n",
       "    .dataframe tbody tr th {\n",
       "        vertical-align: top;\n",
       "    }\n",
       "\n",
       "    .dataframe thead th {\n",
       "        text-align: right;\n",
       "    }\n",
       "</style>\n",
       "<table border=\"1\" class=\"dataframe\">\n",
       "  <thead>\n",
       "    <tr style=\"text-align: right;\">\n",
       "      <th></th>\n",
       "      <th>id</th>\n",
       "      <th>Degerlendirme Puani</th>\n",
       "    </tr>\n",
       "  </thead>\n",
       "  <tbody>\n",
       "    <tr>\n",
       "      <th>0</th>\n",
       "      <td>0</td>\n",
       "      <td>44.486935</td>\n",
       "    </tr>\n",
       "    <tr>\n",
       "      <th>1</th>\n",
       "      <td>1</td>\n",
       "      <td>34.717773</td>\n",
       "    </tr>\n",
       "    <tr>\n",
       "      <th>2</th>\n",
       "      <td>2</td>\n",
       "      <td>30.909760</td>\n",
       "    </tr>\n",
       "    <tr>\n",
       "      <th>3</th>\n",
       "      <td>3</td>\n",
       "      <td>33.640610</td>\n",
       "    </tr>\n",
       "    <tr>\n",
       "      <th>4</th>\n",
       "      <td>4</td>\n",
       "      <td>40.954650</td>\n",
       "    </tr>\n",
       "    <tr>\n",
       "      <th>...</th>\n",
       "      <td>...</td>\n",
       "      <td>...</td>\n",
       "    </tr>\n",
       "    <tr>\n",
       "      <th>11044</th>\n",
       "      <td>11044</td>\n",
       "      <td>45.797195</td>\n",
       "    </tr>\n",
       "    <tr>\n",
       "      <th>11045</th>\n",
       "      <td>11045</td>\n",
       "      <td>44.179287</td>\n",
       "    </tr>\n",
       "    <tr>\n",
       "      <th>11046</th>\n",
       "      <td>11046</td>\n",
       "      <td>50.760746</td>\n",
       "    </tr>\n",
       "    <tr>\n",
       "      <th>11047</th>\n",
       "      <td>11047</td>\n",
       "      <td>52.476770</td>\n",
       "    </tr>\n",
       "    <tr>\n",
       "      <th>11048</th>\n",
       "      <td>11048</td>\n",
       "      <td>42.723240</td>\n",
       "    </tr>\n",
       "  </tbody>\n",
       "</table>\n",
       "<p>11049 rows × 2 columns</p>\n",
       "</div>"
      ],
      "text/plain": [
       "          id  Degerlendirme Puani\n",
       "0          0            44.486935\n",
       "1          1            34.717773\n",
       "2          2            30.909760\n",
       "3          3            33.640610\n",
       "4          4            40.954650\n",
       "...      ...                  ...\n",
       "11044  11044            45.797195\n",
       "11045  11045            44.179287\n",
       "11046  11046            50.760746\n",
       "11047  11047            52.476770\n",
       "11048  11048            42.723240\n",
       "\n",
       "[11049 rows x 2 columns]"
      ]
     },
     "execution_count": 129,
     "metadata": {},
     "output_type": "execute_result"
    }
   ],
   "source": [
    "output = pd.read_csv(\"/kaggle/working/submission.csv\")\n",
    "output"
   ]
  },
  {
   "cell_type": "code",
   "execution_count": null,
   "id": "d4494e56",
   "metadata": {
    "papermill": {
     "duration": 0.048608,
     "end_time": "2024-09-13T05:12:34.124371",
     "exception": false,
     "start_time": "2024-09-13T05:12:34.075763",
     "status": "completed"
    },
    "tags": []
   },
   "outputs": [],
   "source": []
  }
 ],
 "metadata": {
  "kaggle": {
   "accelerator": "none",
   "dataSources": [
    {
     "databundleVersionId": 9495861,
     "sourceId": 84622,
     "sourceType": "competition"
    }
   ],
   "dockerImageVersionId": 30761,
   "isGpuEnabled": false,
   "isInternetEnabled": true,
   "language": "python",
   "sourceType": "notebook"
  },
  "kernelspec": {
   "display_name": "Python 3",
   "language": "python",
   "name": "python3"
  },
  "language_info": {
   "codemirror_mode": {
    "name": "ipython",
    "version": 3
   },
   "file_extension": ".py",
   "mimetype": "text/x-python",
   "name": "python",
   "nbconvert_exporter": "python",
   "pygments_lexer": "ipython3",
   "version": "3.10.14"
  },
  "papermill": {
   "default_parameters": {},
   "duration": 29.062312,
   "end_time": "2024-09-13T05:12:34.895034",
   "environment_variables": {},
   "exception": null,
   "input_path": "__notebook__.ipynb",
   "output_path": "__notebook__.ipynb",
   "parameters": {},
   "start_time": "2024-09-13T05:12:05.832722",
   "version": "2.6.0"
  }
 },
 "nbformat": 4,
 "nbformat_minor": 5
}
