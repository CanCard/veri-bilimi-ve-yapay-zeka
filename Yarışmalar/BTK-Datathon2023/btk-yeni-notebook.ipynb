{
 "cells": [
  {
   "cell_type": "code",
   "execution_count": 1,
   "id": "42e1925b",
   "metadata": {
    "_cell_guid": "b1076dfc-b9ad-4769-8c92-a6c4dae69d19",
    "_uuid": "8f2839f25d086af736a60e9eeb907d3b93b6e0e5",
    "execution": {
     "iopub.execute_input": "2023-08-27T10:56:09.086583Z",
     "iopub.status.busy": "2023-08-27T10:56:09.085933Z",
     "iopub.status.idle": "2023-08-27T10:56:10.672541Z",
     "shell.execute_reply": "2023-08-27T10:56:10.671568Z"
    },
    "papermill": {
     "duration": 1.596239,
     "end_time": "2023-08-27T10:56:10.675185",
     "exception": false,
     "start_time": "2023-08-27T10:56:09.078946",
     "status": "completed"
    },
    "tags": []
   },
   "outputs": [
    {
     "name": "stderr",
     "output_type": "stream",
     "text": [
      "/opt/conda/lib/python3.10/site-packages/scipy/__init__.py:146: UserWarning: A NumPy version >=1.16.5 and <1.23.0 is required for this version of SciPy (detected version 1.23.5\n",
      "  warnings.warn(f\"A NumPy version >={np_minversion} and <{np_maxversion}\"\n"
     ]
    }
   ],
   "source": [
    "import numpy as np\n",
    "import pandas as pd\n",
    "import matplotlib.pyplot as plt\n",
    "import seaborn as sns\n",
    "import os\n",
    "\n",
    "# Suppress warnings\n",
    "import warnings\n",
    "warnings.filterwarnings(\"ignore\", category=UserWarning)\n",
    "warnings.filterwarnings(\"ignore\", category=FutureWarning)"
   ]
  },
  {
   "cell_type": "code",
   "execution_count": 2,
   "id": "010c3fce",
   "metadata": {
    "execution": {
     "iopub.execute_input": "2023-08-27T10:56:10.687912Z",
     "iopub.status.busy": "2023-08-27T10:56:10.687109Z",
     "iopub.status.idle": "2023-08-27T10:56:10.789023Z",
     "shell.execute_reply": "2023-08-27T10:56:10.788297Z"
    },
    "papermill": {
     "duration": 0.110501,
     "end_time": "2023-08-27T10:56:10.791225",
     "exception": false,
     "start_time": "2023-08-27T10:56:10.680724",
     "status": "completed"
    },
    "tags": []
   },
   "outputs": [],
   "source": [
    "filepath = '/kaggle/input/datathon2023'\n",
    "df_train = pd.read_csv(os.path.join(filepath, 'train.csv'), index_col=[0])\n",
    "df_test = pd.read_csv(os.path.join(filepath, 'test_x.csv'), index_col=[0])\n",
    "sub = pd.read_csv(os.path.join(filepath, 'sample_submission.csv'), index_col=[0])"
   ]
  },
  {
   "cell_type": "code",
   "execution_count": 3,
   "id": "63ea65c7",
   "metadata": {
    "execution": {
     "iopub.execute_input": "2023-08-27T10:56:10.802064Z",
     "iopub.status.busy": "2023-08-27T10:56:10.801526Z",
     "iopub.status.idle": "2023-08-27T10:56:10.810876Z",
     "shell.execute_reply": "2023-08-27T10:56:10.809879Z"
    },
    "papermill": {
     "duration": 0.017298,
     "end_time": "2023-08-27T10:56:10.813299",
     "exception": false,
     "start_time": "2023-08-27T10:56:10.796001",
     "status": "completed"
    },
    "tags": []
   },
   "outputs": [],
   "source": [
    "# Veri setinden 18-30 yaş arasında olup emekli olan kişileri çıkardım\n",
    "df_train = df_train[~((df_train['Yaş Grubu'] == '18-30') & (df_train['İstihdam Durumu'] == 'Emekli'))]\n",
    "# toplam 26 kişi"
   ]
  },
  {
   "cell_type": "code",
   "execution_count": 4,
   "id": "58aa2f05",
   "metadata": {
    "execution": {
     "iopub.execute_input": "2023-08-27T10:56:10.824148Z",
     "iopub.status.busy": "2023-08-27T10:56:10.823755Z",
     "iopub.status.idle": "2023-08-27T10:56:10.832397Z",
     "shell.execute_reply": "2023-08-27T10:56:10.830975Z"
    },
    "papermill": {
     "duration": 0.017133,
     "end_time": "2023-08-27T10:56:10.835072",
     "exception": false,
     "start_time": "2023-08-27T10:56:10.817939",
     "status": "completed"
    },
    "tags": []
   },
   "outputs": [],
   "source": [
    "# Veri setinden 60 yaş üstü olup eğitime devam eden kişileri çıkardım\n",
    "df_train = df_train[~((df_train['Yaş Grubu'] == '>60') & (df_train['Eğitime Devam Etme Durumu'] == 'Ediyor'))]\n",
    "# toplam 25 kişi"
   ]
  },
  {
   "cell_type": "code",
   "execution_count": 5,
   "id": "ec24e239",
   "metadata": {
    "execution": {
     "iopub.execute_input": "2023-08-27T10:56:10.845996Z",
     "iopub.status.busy": "2023-08-27T10:56:10.845656Z",
     "iopub.status.idle": "2023-08-27T10:56:10.854314Z",
     "shell.execute_reply": "2023-08-27T10:56:10.852634Z"
    },
    "papermill": {
     "duration": 0.017018,
     "end_time": "2023-08-27T10:56:10.856795",
     "exception": false,
     "start_time": "2023-08-27T10:56:10.839777",
     "status": "completed"
    },
    "tags": []
   },
   "outputs": [],
   "source": [
    "# Veri setinden eğitimsiz olup eğitime devam eden kişileri çıkardım\n",
    "df_train = df_train[~((df_train['Eğitim Düzeyi'] == 'Eğitimsiz') & (df_train['Eğitime Devam Etme Durumu'] == 'Ediyor'))]\n",
    "# toplam 23 kişi"
   ]
  },
  {
   "cell_type": "code",
   "execution_count": 6,
   "id": "bae1350d",
   "metadata": {
    "execution": {
     "iopub.execute_input": "2023-08-27T10:56:10.869613Z",
     "iopub.status.busy": "2023-08-27T10:56:10.869244Z",
     "iopub.status.idle": "2023-08-27T10:56:10.877057Z",
     "shell.execute_reply": "2023-08-27T10:56:10.875944Z"
    },
    "papermill": {
     "duration": 0.017663,
     "end_time": "2023-08-27T10:56:10.879113",
     "exception": false,
     "start_time": "2023-08-27T10:56:10.861450",
     "status": "completed"
    },
    "tags": []
   },
   "outputs": [],
   "source": [
    "# obek_2'deki erkekleri de veriden çıkarıyorum\n",
    "df_train = df_train[~((df_train['Cinsiyet'] == 'Erkek') & (df_train['Öbek İsmi'] == 'obek_2'))]\n",
    "# toplam 19 kişi"
   ]
  },
  {
   "cell_type": "code",
   "execution_count": 7,
   "id": "5cdf5c83",
   "metadata": {
    "execution": {
     "iopub.execute_input": "2023-08-27T10:56:10.890108Z",
     "iopub.status.busy": "2023-08-27T10:56:10.889775Z",
     "iopub.status.idle": "2023-08-27T10:56:10.904730Z",
     "shell.execute_reply": "2023-08-27T10:56:10.903423Z"
    },
    "papermill": {
     "duration": 0.023092,
     "end_time": "2023-08-27T10:56:10.907036",
     "exception": false,
     "start_time": "2023-08-27T10:56:10.883944",
     "status": "completed"
    },
    "tags": []
   },
   "outputs": [],
   "source": [
    "# obek_4'deki yaşlıları da veriden çıkarıyorum\n",
    "df_train = df_train[~((df_train['Yaş Grubu'] == '>60') & (df_train['Öbek İsmi'] == 'obek_4'))]\n",
    "df_train = df_train[~((df_train['Yaş Grubu'] == '51-60') & (df_train['Öbek İsmi'] == 'obek_4'))]\n",
    "df_train = df_train[~((df_train['Yaş Grubu'] == '41-50') & (df_train['Öbek İsmi'] == 'obek_4'))]\n",
    "# toplam 16 kişi"
   ]
  },
  {
   "cell_type": "code",
   "execution_count": 8,
   "id": "735a0a5f",
   "metadata": {
    "execution": {
     "iopub.execute_input": "2023-08-27T10:56:10.917726Z",
     "iopub.status.busy": "2023-08-27T10:56:10.917393Z",
     "iopub.status.idle": "2023-08-27T10:56:10.924766Z",
     "shell.execute_reply": "2023-08-27T10:56:10.924049Z"
    },
    "papermill": {
     "duration": 0.015469,
     "end_time": "2023-08-27T10:56:10.927170",
     "exception": false,
     "start_time": "2023-08-27T10:56:10.911701",
     "status": "completed"
    },
    "tags": []
   },
   "outputs": [],
   "source": [
    "# obek_5'de kırsalda yaşayan adamı veriden çıkarıyorum\n",
    "df_train = df_train[~((df_train['Yaşadığı Şehir'] == 'Kırsal') & (df_train['Öbek İsmi'] == 'obek_5'))]\n",
    "# 1 kişi"
   ]
  },
  {
   "cell_type": "code",
   "execution_count": 9,
   "id": "bc52830f",
   "metadata": {
    "execution": {
     "iopub.execute_input": "2023-08-27T10:56:10.938593Z",
     "iopub.status.busy": "2023-08-27T10:56:10.938204Z",
     "iopub.status.idle": "2023-08-27T10:56:10.948697Z",
     "shell.execute_reply": "2023-08-27T10:56:10.947602Z"
    },
    "papermill": {
     "duration": 0.018895,
     "end_time": "2023-08-27T10:56:10.950979",
     "exception": false,
     "start_time": "2023-08-27T10:56:10.932084",
     "status": "completed"
    },
    "tags": []
   },
   "outputs": [],
   "source": [
    "# obek_6'da gençleri veriden çıkarıyorum ayrıca eğitime devam edenleri de çıkarıyorum çünkü burası yaşlı grubu\n",
    "df_train = df_train[~((df_train['Yaş Grubu'] == '18-30') & (df_train['Öbek İsmi'] == 'obek_6'))]\n",
    "df_train = df_train[~((df_train['Eğitime Devam Etme Durumu'] == 'Ediyor') & (df_train['Öbek İsmi'] == 'obek_6'))]\n",
    "# 31 kişi"
   ]
  },
  {
   "cell_type": "code",
   "execution_count": 10,
   "id": "c15365b2",
   "metadata": {
    "execution": {
     "iopub.execute_input": "2023-08-27T10:56:10.962599Z",
     "iopub.status.busy": "2023-08-27T10:56:10.961933Z",
     "iopub.status.idle": "2023-08-27T10:56:10.972296Z",
     "shell.execute_reply": "2023-08-27T10:56:10.971123Z"
    },
    "papermill": {
     "duration": 0.018871,
     "end_time": "2023-08-27T10:56:10.974699",
     "exception": false,
     "start_time": "2023-08-27T10:56:10.955828",
     "status": "completed"
    },
    "tags": []
   },
   "outputs": [],
   "source": [
    "# obek_7'de işsiz olanları veriden çıkarıyorum. outliers hepsi. Ayrıca kırsalda yaşayanlar da öyle.\n",
    "df_train = df_train[~((df_train['İstihdam Durumu'] == 'İşsiz veya Düzenli Bir İşi Yok') & (df_train['Öbek İsmi'] == 'obek_7'))]\n",
    "df_train = df_train[~((df_train['Yaşadığı Şehir'] == 'Kırsal') & (df_train['Öbek İsmi'] == 'obek_7'))]\n",
    "# 10 kişi"
   ]
  },
  {
   "cell_type": "code",
   "execution_count": 11,
   "id": "52e83b22",
   "metadata": {
    "execution": {
     "iopub.execute_input": "2023-08-27T10:56:10.986830Z",
     "iopub.status.busy": "2023-08-27T10:56:10.986442Z",
     "iopub.status.idle": "2023-08-27T10:56:10.995002Z",
     "shell.execute_reply": "2023-08-27T10:56:10.993897Z"
    },
    "papermill": {
     "duration": 0.017482,
     "end_time": "2023-08-27T10:56:10.997157",
     "exception": false,
     "start_time": "2023-08-27T10:56:10.979675",
     "status": "completed"
    },
    "tags": []
   },
   "outputs": [],
   "source": [
    "# obek_8'de genç olmayan herkesi çıkarıcaz.\n",
    "df_train = df_train[~((df_train['Yaş Grubu'] != '18-30') & (df_train['Öbek İsmi'] == 'obek_8'))]\n",
    "# 1 de kırsal vardı da tamam o da o yaş grubundaymış.\n",
    "# toplam kişi 20"
   ]
  },
  {
   "cell_type": "markdown",
   "id": "216aa48b",
   "metadata": {
    "papermill": {
     "duration": 0.004564,
     "end_time": "2023-08-27T10:56:11.006516",
     "exception": false,
     "start_time": "2023-08-27T10:56:11.001952",
     "status": "completed"
    },
    "tags": []
   },
   "source": [
    "# Encode"
   ]
  },
  {
   "cell_type": "code",
   "execution_count": 12,
   "id": "feaf43ab",
   "metadata": {
    "execution": {
     "iopub.execute_input": "2023-08-27T10:56:11.017413Z",
     "iopub.status.busy": "2023-08-27T10:56:11.017048Z",
     "iopub.status.idle": "2023-08-27T10:56:11.036903Z",
     "shell.execute_reply": "2023-08-27T10:56:11.035377Z"
    },
    "papermill": {
     "duration": 0.028427,
     "end_time": "2023-08-27T10:56:11.039530",
     "exception": false,
     "start_time": "2023-08-27T10:56:11.011103",
     "status": "completed"
    },
    "tags": []
   },
   "outputs": [],
   "source": [
    "# Encoding kısmına gelecek olursak, kategorik değişkenleri binary olanlar ve multiclass olanlar olarak ayırmalıyız.\n",
    "\n",
    "# Öncelikle cinsiyet, medeni durum ve eğitime devam etme durumunu label encoding ile dönüştürelim.\n",
    "df_train['Cinsiyet'] = df_train['Cinsiyet'].replace({'Kadın': 0, 'Erkek': 1})\n",
    "df_test['Cinsiyet']  = df_test['Cinsiyet'].replace({'Kadın': 0, 'Erkek': 1})\n",
    "\n",
    "df_train['Medeni Durum'] = df_train['Medeni Durum'].replace({'Bekar': 0, 'Evli': 1})\n",
    "df_test['Medeni Durum']  = df_test['Medeni Durum'].replace({'Bekar': 0, 'Evli': 1})\n",
    "\n",
    "df_train['Eğitime Devam Etme Durumu'] = df_train['Eğitime Devam Etme Durumu'].replace({'Etmiyor': 0, 'Ediyor': 1})\n",
    "df_test['Eğitime Devam Etme Durumu']  = df_test['Eğitime Devam Etme Durumu'].replace({'Etmiyor': 0, 'Ediyor': 1})"
   ]
  },
  {
   "cell_type": "code",
   "execution_count": 13,
   "id": "304f64a5",
   "metadata": {
    "execution": {
     "iopub.execute_input": "2023-08-27T10:56:11.050903Z",
     "iopub.status.busy": "2023-08-27T10:56:11.050571Z",
     "iopub.status.idle": "2023-08-27T10:56:11.077322Z",
     "shell.execute_reply": "2023-08-27T10:56:11.075065Z"
    },
    "papermill": {
     "duration": 0.03577,
     "end_time": "2023-08-27T10:56:11.080278",
     "exception": false,
     "start_time": "2023-08-27T10:56:11.044508",
     "status": "completed"
    },
    "tags": []
   },
   "outputs": [],
   "source": [
    "kategorik_kolonlar = ['Yaş Grubu','Eğitim Düzeyi','Yaşadığı Şehir', 'İstihdam Durumu', 'En Çok İlgilendiği Ürün Grubu']\n",
    "encoded_train = pd.get_dummies(df_train, columns=kategorik_kolonlar)\n",
    "encoded_test = pd.get_dummies(df_test, columns=kategorik_kolonlar)\n",
    "\n",
    "X = encoded_train.drop('Öbek İsmi', axis=1)\n",
    "y = encoded_train['Öbek İsmi']"
   ]
  },
  {
   "cell_type": "markdown",
   "id": "cbd1b21c",
   "metadata": {
    "papermill": {
     "duration": 0.005538,
     "end_time": "2023-08-27T10:56:11.090765",
     "exception": false,
     "start_time": "2023-08-27T10:56:11.085227",
     "status": "completed"
    },
    "tags": []
   },
   "source": [
    "# MODEL"
   ]
  },
  {
   "cell_type": "code",
   "execution_count": 14,
   "id": "2c34e7f6",
   "metadata": {
    "execution": {
     "iopub.execute_input": "2023-08-27T10:56:11.102755Z",
     "iopub.status.busy": "2023-08-27T10:56:11.102367Z",
     "iopub.status.idle": "2023-08-27T10:56:46.322918Z",
     "shell.execute_reply": "2023-08-27T10:56:46.321299Z"
    },
    "papermill": {
     "duration": 35.229522,
     "end_time": "2023-08-27T10:56:46.325634",
     "exception": false,
     "start_time": "2023-08-27T10:56:11.096112",
     "status": "completed"
    },
    "tags": []
   },
   "outputs": [
    {
     "name": "stdout",
     "output_type": "stream",
     "text": [
      "Cross-Validation Scores: [0.96462264 0.97287736 0.95754717 0.97169811 0.95990566]\n",
      "Mean CV Score: 0.9653301886792451\n",
      "Confusion Matrix:\n",
      "[[135   0   0   2   2   0   1   1]\n",
      " [  1 107   0   0   0   0   1   0]\n",
      " [  0   0 137   1   0   1   0   0]\n",
      " [  0   0   0 118   3   0   2   3]\n",
      " [  1   0   1   0 141   0   0   1]\n",
      " [  0   0   2   0   0 137   2   0]\n",
      " [  1   0   2   0   1   0 123   0]\n",
      " [  0   0   0   0   0   0   0 133]]\n",
      "Accuracy: 0.9726415094339622\n",
      "Precision: 0.9734312497778347\n",
      "Recall: 0.9725649301631287\n",
      "F1-Score: 0.972834445591735\n"
     ]
    }
   ],
   "source": [
    "from sklearn.model_selection import train_test_split, cross_val_score\n",
    "from sklearn.metrics import confusion_matrix, accuracy_score, precision_score, recall_score, f1_score\n",
    "from lightgbm import LGBMClassifier\n",
    "\n",
    "\n",
    "X_train, X_test, y_train, y_test = train_test_split(X, y, test_size=0.2, random_state=42)\n",
    "\n",
    "# Regülarizasyon parametrelerini belirleyin\n",
    "params = {\n",
    "    'n_estimators': 100,\n",
    "    'random_state': 42,\n",
    "    'colsample_bytree': 0.8,  # Özellik seçimi\n",
    "    'reg_alpha': 0.1,  # L1 düzenlemesi = Bunun 0 veya çok düşük\n",
    "    'reg_lambda': 1   # L2 düzenlemesi = Bunun yüksek olması gerektiğini söylüyorlar\n",
    "}\n",
    "\n",
    "model = LGBMClassifier(**params)\n",
    "model.fit(X_train, y_train)\n",
    "\n",
    "scores = cross_val_score(model, X_train, y_train, cv=5) \n",
    "print(\"Cross-Validation Scores:\", scores)\n",
    "print(\"Mean CV Score:\", scores.mean())\n",
    "\n",
    "y_pred = model.predict(X_test)\n",
    "\n",
    "conf_matrix = confusion_matrix(y_test, y_pred)\n",
    "print(\"Confusion Matrix:\")\n",
    "print(conf_matrix)\n",
    "\n",
    "# Doğruluk\n",
    "accuracy = accuracy_score(y_test, y_pred)\n",
    "print(\"Accuracy:\", accuracy)\n",
    "\n",
    "# Hassasiyet\n",
    "precision = precision_score(y_test, y_pred, average='macro')\n",
    "print(\"Precision:\", precision)\n",
    "\n",
    "# Duyarlılık\n",
    "recall = recall_score(y_test, y_pred, average='macro')\n",
    "print(\"Recall:\", recall)\n",
    "\n",
    "# F1-Skoru\n",
    "f1 = f1_score(y_test, y_pred, average='macro')\n",
    "print(\"F1-Score:\", f1)"
   ]
  },
  {
   "cell_type": "code",
   "execution_count": 15,
   "id": "5c1dd275",
   "metadata": {
    "execution": {
     "iopub.execute_input": "2023-08-27T10:56:46.336385Z",
     "iopub.status.busy": "2023-08-27T10:56:46.336059Z",
     "iopub.status.idle": "2023-08-27T10:56:46.379829Z",
     "shell.execute_reply": "2023-08-27T10:56:46.378099Z"
    },
    "papermill": {
     "duration": 0.051564,
     "end_time": "2023-08-27T10:56:46.381964",
     "exception": false,
     "start_time": "2023-08-27T10:56:46.330400",
     "status": "completed"
    },
    "tags": []
   },
   "outputs": [
    {
     "name": "stdout",
     "output_type": "stream",
     "text": [
      "Classification Report:\n",
      "              precision    recall  f1-score   support\n",
      "\n",
      "      obek_1       0.98      0.96      0.97       141\n",
      "      obek_2       1.00      0.98      0.99       109\n",
      "      obek_3       0.96      0.99      0.98       139\n",
      "      obek_4       0.98      0.94      0.96       126\n",
      "      obek_5       0.96      0.98      0.97       144\n",
      "      obek_6       0.99      0.97      0.98       141\n",
      "      obek_7       0.95      0.97      0.96       127\n",
      "      obek_8       0.96      1.00      0.98       133\n",
      "\n",
      "    accuracy                           0.97      1060\n",
      "   macro avg       0.97      0.97      0.97      1060\n",
      "weighted avg       0.97      0.97      0.97      1060\n",
      "\n"
     ]
    }
   ],
   "source": [
    "from sklearn.metrics import classification_report\n",
    "\n",
    "classification_rep = classification_report(y_test, y_pred)\n",
    "print(\"Classification Report:\")\n",
    "print(classification_rep)"
   ]
  },
  {
   "cell_type": "code",
   "execution_count": 16,
   "id": "3ad01da4",
   "metadata": {
    "execution": {
     "iopub.execute_input": "2023-08-27T10:56:46.393142Z",
     "iopub.status.busy": "2023-08-27T10:56:46.392768Z",
     "iopub.status.idle": "2023-08-27T10:56:53.203254Z",
     "shell.execute_reply": "2023-08-27T10:56:53.202187Z"
    },
    "papermill": {
     "duration": 6.818551,
     "end_time": "2023-08-27T10:56:53.205467",
     "exception": false,
     "start_time": "2023-08-27T10:56:46.386916",
     "status": "completed"
    },
    "tags": []
   },
   "outputs": [],
   "source": [
    "X = encoded_train.drop('Öbek İsmi', axis=1)\n",
    "y = encoded_train['Öbek İsmi']\n",
    "\n",
    "model = LGBMClassifier(n_estimators=100, random_state=42)\n",
    "model.fit(X_train, y_train)\n",
    "\n",
    "submission_pred = model.predict(encoded_test)\n",
    "\n",
    "submission_df = pd.DataFrame({'id': encoded_test.index, 'obek_ismi': submission_pred})\n",
    "\n",
    "submission_df.to_csv('submission.csv', index=False)"
   ]
  },
  {
   "cell_type": "code",
   "execution_count": 17,
   "id": "d56fb899",
   "metadata": {
    "execution": {
     "iopub.execute_input": "2023-08-27T10:56:53.218478Z",
     "iopub.status.busy": "2023-08-27T10:56:53.216805Z",
     "iopub.status.idle": "2023-08-27T10:56:53.282401Z",
     "shell.execute_reply": "2023-08-27T10:56:53.280898Z"
    },
    "papermill": {
     "duration": 0.074271,
     "end_time": "2023-08-27T10:56:53.285024",
     "exception": false,
     "start_time": "2023-08-27T10:56:53.210753",
     "status": "completed"
    },
    "tags": []
   },
   "outputs": [],
   "source": [
    "submission_pred = model.predict(encoded_test)\n",
    "\n",
    "submission_df = pd.DataFrame({'id': encoded_test.index, 'Öbek İsmi': submission_pred})\n",
    "\n",
    "submission_df.set_index('id', inplace=True)\n",
    "\n",
    "submission_df.to_csv('submission.csv')"
   ]
  },
  {
   "cell_type": "code",
   "execution_count": 18,
   "id": "f5877fd6",
   "metadata": {
    "execution": {
     "iopub.execute_input": "2023-08-27T10:56:53.297144Z",
     "iopub.status.busy": "2023-08-27T10:56:53.296602Z",
     "iopub.status.idle": "2023-08-27T10:56:53.319328Z",
     "shell.execute_reply": "2023-08-27T10:56:53.317852Z"
    },
    "papermill": {
     "duration": 0.032233,
     "end_time": "2023-08-27T10:56:53.322369",
     "exception": false,
     "start_time": "2023-08-27T10:56:53.290136",
     "status": "completed"
    },
    "tags": []
   },
   "outputs": [
    {
     "data": {
      "text/html": [
       "<div>\n",
       "<style scoped>\n",
       "    .dataframe tbody tr th:only-of-type {\n",
       "        vertical-align: middle;\n",
       "    }\n",
       "\n",
       "    .dataframe tbody tr th {\n",
       "        vertical-align: top;\n",
       "    }\n",
       "\n",
       "    .dataframe thead th {\n",
       "        text-align: right;\n",
       "    }\n",
       "</style>\n",
       "<table border=\"1\" class=\"dataframe\">\n",
       "  <thead>\n",
       "    <tr style=\"text-align: right;\">\n",
       "      <th></th>\n",
       "      <th>Öbek İsmi</th>\n",
       "    </tr>\n",
       "    <tr>\n",
       "      <th>id</th>\n",
       "      <th></th>\n",
       "    </tr>\n",
       "  </thead>\n",
       "  <tbody>\n",
       "    <tr>\n",
       "      <th>0</th>\n",
       "      <td>obek_3</td>\n",
       "    </tr>\n",
       "    <tr>\n",
       "      <th>1</th>\n",
       "      <td>obek_3</td>\n",
       "    </tr>\n",
       "    <tr>\n",
       "      <th>2</th>\n",
       "      <td>obek_2</td>\n",
       "    </tr>\n",
       "    <tr>\n",
       "      <th>3</th>\n",
       "      <td>obek_6</td>\n",
       "    </tr>\n",
       "    <tr>\n",
       "      <th>4</th>\n",
       "      <td>obek_1</td>\n",
       "    </tr>\n",
       "    <tr>\n",
       "      <th>...</th>\n",
       "      <td>...</td>\n",
       "    </tr>\n",
       "    <tr>\n",
       "      <th>2335</th>\n",
       "      <td>obek_8</td>\n",
       "    </tr>\n",
       "    <tr>\n",
       "      <th>2336</th>\n",
       "      <td>obek_2</td>\n",
       "    </tr>\n",
       "    <tr>\n",
       "      <th>2337</th>\n",
       "      <td>obek_7</td>\n",
       "    </tr>\n",
       "    <tr>\n",
       "      <th>2338</th>\n",
       "      <td>obek_5</td>\n",
       "    </tr>\n",
       "    <tr>\n",
       "      <th>2339</th>\n",
       "      <td>obek_6</td>\n",
       "    </tr>\n",
       "  </tbody>\n",
       "</table>\n",
       "<p>2340 rows × 1 columns</p>\n",
       "</div>"
      ],
      "text/plain": [
       "     Öbek İsmi\n",
       "id            \n",
       "0       obek_3\n",
       "1       obek_3\n",
       "2       obek_2\n",
       "3       obek_6\n",
       "4       obek_1\n",
       "...        ...\n",
       "2335    obek_8\n",
       "2336    obek_2\n",
       "2337    obek_7\n",
       "2338    obek_5\n",
       "2339    obek_6\n",
       "\n",
       "[2340 rows x 1 columns]"
      ]
     },
     "execution_count": 18,
     "metadata": {},
     "output_type": "execute_result"
    }
   ],
   "source": [
    "submission_df"
   ]
  }
 ],
 "metadata": {
  "kernelspec": {
   "display_name": "Python 3",
   "language": "python",
   "name": "python3"
  },
  "language_info": {
   "codemirror_mode": {
    "name": "ipython",
    "version": 3
   },
   "file_extension": ".py",
   "mimetype": "text/x-python",
   "name": "python",
   "nbconvert_exporter": "python",
   "pygments_lexer": "ipython3",
   "version": "3.10.12"
  },
  "papermill": {
   "default_parameters": {},
   "duration": 54.560404,
   "end_time": "2023-08-27T10:56:54.453096",
   "environment_variables": {},
   "exception": null,
   "input_path": "__notebook__.ipynb",
   "output_path": "__notebook__.ipynb",
   "parameters": {},
   "start_time": "2023-08-27T10:55:59.892692",
   "version": "2.4.0"
  }
 },
 "nbformat": 4,
 "nbformat_minor": 5
}
