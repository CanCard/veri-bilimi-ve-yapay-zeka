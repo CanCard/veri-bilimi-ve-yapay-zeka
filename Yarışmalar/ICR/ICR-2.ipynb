{
 "cells": [
  {
   "cell_type": "code",
   "execution_count": 1,
   "id": "0f3c60ca",
   "metadata": {
    "execution": {
     "iopub.execute_input": "2023-08-10T20:20:53.496895Z",
     "iopub.status.busy": "2023-08-10T20:20:53.496152Z",
     "iopub.status.idle": "2023-08-10T20:20:54.822757Z",
     "shell.execute_reply": "2023-08-10T20:20:54.821733Z"
    },
    "papermill": {
     "duration": 1.336405,
     "end_time": "2023-08-10T20:20:54.825372",
     "exception": false,
     "start_time": "2023-08-10T20:20:53.488967",
     "status": "completed"
    },
    "tags": []
   },
   "outputs": [
    {
     "name": "stderr",
     "output_type": "stream",
     "text": [
      "/opt/conda/lib/python3.10/site-packages/scipy/__init__.py:146: UserWarning: A NumPy version >=1.16.5 and <1.23.0 is required for this version of SciPy (detected version 1.23.5\n",
      "  warnings.warn(f\"A NumPy version >={np_minversion} and <{np_maxversion}\"\n"
     ]
    }
   ],
   "source": [
    "import numpy as np\n",
    "import pandas as pd\n",
    "import matplotlib.pyplot as plt\n",
    "import seaborn as sns\n",
    "import os\n",
    "\n",
    "# Suppress warnings\n",
    "import warnings\n",
    "warnings.filterwarnings(\"ignore\", category=UserWarning)\n",
    "warnings.filterwarnings(\"ignore\", category=FutureWarning)"
   ]
  },
  {
   "cell_type": "code",
   "execution_count": 2,
   "id": "ec7b2c22",
   "metadata": {
    "execution": {
     "iopub.execute_input": "2023-08-10T20:20:54.838839Z",
     "iopub.status.busy": "2023-08-10T20:20:54.837269Z",
     "iopub.status.idle": "2023-08-10T20:20:54.899136Z",
     "shell.execute_reply": "2023-08-10T20:20:54.898079Z"
    },
    "papermill": {
     "duration": 0.0708,
     "end_time": "2023-08-10T20:20:54.901524",
     "exception": false,
     "start_time": "2023-08-10T20:20:54.830724",
     "status": "completed"
    },
    "tags": []
   },
   "outputs": [],
   "source": [
    "filepath = '/kaggle/input/icr-identify-age-related-conditions'\n",
    "df_train = pd.read_csv(os.path.join(filepath, 'train.csv'), index_col=[0])\n",
    "df_test = pd.read_csv(os.path.join(filepath, 'test.csv'), index_col=[0])\n",
    "greeks = pd.read_csv('/kaggle/input/icr-identify-age-related-conditions/greeks.csv')\n",
    "sub = pd.read_csv('/kaggle/input/icr-identify-age-related-conditions/sample_submission.csv')\n",
    "\n",
    "# Encoding\n",
    "df_train['EJ'] = df_train['EJ'].replace({'A': 0, 'B': 1})\n",
    "df_test['EJ']  = df_test['EJ'].replace({'A': 0, 'B': 1})\n",
    "\n",
    "# Özellikler (X) ve etiketler (y) ayrımı\n",
    "X = df_train.drop('Class', axis=1)\n",
    "y = df_train['Class']"
   ]
  },
  {
   "cell_type": "code",
   "execution_count": 3,
   "id": "a6361c80",
   "metadata": {
    "execution": {
     "iopub.execute_input": "2023-08-10T20:20:54.914777Z",
     "iopub.status.busy": "2023-08-10T20:20:54.913836Z",
     "iopub.status.idle": "2023-08-10T20:20:54.949728Z",
     "shell.execute_reply": "2023-08-10T20:20:54.948737Z"
    },
    "papermill": {
     "duration": 0.044266,
     "end_time": "2023-08-10T20:20:54.951858",
     "exception": false,
     "start_time": "2023-08-10T20:20:54.907592",
     "status": "completed"
    },
    "tags": []
   },
   "outputs": [
    {
     "data": {
      "text/plain": [
       "AB     0\n",
       "AF     0\n",
       "DL     0\n",
       "DN     0\n",
       "DU     0\n",
       "DV     0\n",
       "DY     0\n",
       "EB     0\n",
       "EE     0\n",
       "EG     0\n",
       "EH     0\n",
       "EJ     0\n",
       "EL     0\n",
       "EP     0\n",
       "EU     0\n",
       "FC     0\n",
       "FD     0\n",
       "FE     0\n",
       "FI     0\n",
       "FL     0\n",
       "FR     0\n",
       "FS     0\n",
       "GB     0\n",
       "GE     0\n",
       "GF     0\n",
       "GH     0\n",
       "GI     0\n",
       "DI     0\n",
       "DH     0\n",
       "DF     0\n",
       "BR     0\n",
       "AH     0\n",
       "AM     0\n",
       "AR     0\n",
       "AX     0\n",
       "AY     0\n",
       "AZ     0\n",
       "BC     0\n",
       "BD     0\n",
       "BN     0\n",
       "BP     0\n",
       "BQ     0\n",
       "BZ     0\n",
       "DE     0\n",
       "CB     0\n",
       "CC     0\n",
       "CD     0\n",
       "CF     0\n",
       "CH     0\n",
       "CL     0\n",
       "CR     0\n",
       "CS     0\n",
       "CU     0\n",
       "CW     0\n",
       "DA     0\n",
       "GL     0\n",
       "dtype: int64"
      ]
     },
     "execution_count": 3,
     "metadata": {},
     "output_type": "execute_result"
    }
   ],
   "source": [
    "df_test.fillna(df_test.mean(), inplace=True)\n",
    "df_test.isnull().sum().sort_values(ascending=False).head(60)"
   ]
  },
  {
   "cell_type": "code",
   "execution_count": 4,
   "id": "996f438f",
   "metadata": {
    "execution": {
     "iopub.execute_input": "2023-08-10T20:20:54.966190Z",
     "iopub.status.busy": "2023-08-10T20:20:54.964592Z",
     "iopub.status.idle": "2023-08-10T20:20:54.977241Z",
     "shell.execute_reply": "2023-08-10T20:20:54.976333Z"
    },
    "papermill": {
     "duration": 0.021731,
     "end_time": "2023-08-10T20:20:54.979537",
     "exception": false,
     "start_time": "2023-08-10T20:20:54.957806",
     "status": "completed"
    },
    "tags": []
   },
   "outputs": [],
   "source": [
    "# Sütun adları listesi\n",
    "sutunlar = ['EL', 'BQ', 'CC', 'CB', 'FS', 'FL', 'FC', 'DU', 'GL']\n",
    "\n",
    "# Eksik değerleri sütunların ortalamalarıyla doldurma\n",
    "for sutun in sutunlar:\n",
    "    sutun_ortalama = X[sutun].mean()\n",
    "    X[sutun].fillna(sutun_ortalama, inplace=True)\n",
    "    \n",
    "X = X.rename(columns={'BD ': 'BD', 'CD ': 'CD', 'CW ': 'CW', 'FD ': 'FD'})\n",
    "df_test = df_test.rename(columns={'BD ': 'BD', 'CD ': 'CD', 'CW ': 'CW', 'FD ': 'FD'})"
   ]
  },
  {
   "cell_type": "markdown",
   "id": "1739e24e",
   "metadata": {
    "papermill": {
     "duration": 0.00535,
     "end_time": "2023-08-10T20:20:54.990603",
     "exception": false,
     "start_time": "2023-08-10T20:20:54.985253",
     "status": "completed"
    },
    "tags": []
   },
   "source": [
    "### Threshold değerini kendim belirlediğim kod bloğu:\n",
    "# deneme yaparak değiştirdim."
   ]
  },
  {
   "cell_type": "code",
   "execution_count": 5,
   "id": "a6f6dcf8",
   "metadata": {
    "execution": {
     "iopub.execute_input": "2023-08-10T20:20:55.002454Z",
     "iopub.status.busy": "2023-08-10T20:20:55.001666Z",
     "iopub.status.idle": "2023-08-10T20:20:55.079400Z",
     "shell.execute_reply": "2023-08-10T20:20:55.078474Z"
    },
    "papermill": {
     "duration": 0.086054,
     "end_time": "2023-08-10T20:20:55.081766",
     "exception": false,
     "start_time": "2023-08-10T20:20:54.995712",
     "status": "completed"
    },
    "tags": []
   },
   "outputs": [],
   "source": [
    "# Veri setinizin adı \"X\" olsun\n",
    "# Threshold değerini burada belirleyin (örn: 1.5)\n",
    "threshold = 4\n",
    "\n",
    "# \"X\" veri setini yükleyin veya oluşturun\n",
    "\n",
    "# Aykırı değerleri bulup ortalama ile değiştiren fonksiyon\n",
    "def replace_outliers_with_mean(X, threshold):\n",
    "    for column in X.columns:\n",
    "        data = X[column]\n",
    "        mean = data.mean()\n",
    "        std = data.std()\n",
    "        lower_bound = mean - threshold * std\n",
    "        upper_bound = mean + threshold * std\n",
    "        outliers = data[(data < lower_bound) | (data > upper_bound)]\n",
    "        X.loc[outliers.index, column] = mean\n",
    "    return X\n",
    "\n",
    "# Aykırı değerleri ortalama ile doldurun\n",
    "X = replace_outliers_with_mean(X, threshold)\n",
    "\n",
    "# Sonuçları görselleştirme ve kontrol etme\n",
    "# print(\"\\nAykırı Değerleri Ortalama ile Doldurulmuş Veri Seti:\")\n",
    "# print(X.head())\n"
   ]
  },
  {
   "cell_type": "markdown",
   "id": "ecab4281",
   "metadata": {
    "papermill": {
     "duration": 0.004765,
     "end_time": "2023-08-10T20:20:55.092693",
     "exception": false,
     "start_time": "2023-08-10T20:20:55.087928",
     "status": "completed"
    },
    "tags": []
   },
   "source": [
    "# VERİ NORMALİZASYONU VE STANDARDİZASYONU"
   ]
  },
  {
   "cell_type": "code",
   "execution_count": 6,
   "id": "274a6943",
   "metadata": {
    "execution": {
     "iopub.execute_input": "2023-08-10T20:20:55.103944Z",
     "iopub.status.busy": "2023-08-10T20:20:55.103684Z",
     "iopub.status.idle": "2023-08-10T20:20:55.138676Z",
     "shell.execute_reply": "2023-08-10T20:20:55.137694Z"
    },
    "papermill": {
     "duration": 0.043449,
     "end_time": "2023-08-10T20:20:55.140979",
     "exception": false,
     "start_time": "2023-08-10T20:20:55.097530",
     "status": "completed"
    },
    "tags": []
   },
   "outputs": [],
   "source": [
    "# Her sütunun ortalamasını ve standart sapmasını hesaplayın\n",
    "mean_values = np.mean(X, axis=0)\n",
    "std_values = np.std(X, axis=0)\n",
    "\n",
    "# Standardizasyon işlemi\n",
    "X_standardized = (X - mean_values) / std_values\n",
    "\n",
    "# Normalizasyon işlemi (min-max scaling)\n",
    "X_normalized = (X_standardized - np.min(X_standardized, axis=0)) / (np.max(X_standardized, axis=0) - np.min(X_standardized, axis=0))\n",
    "\n",
    "# BURAYI BEN EKLEDİM, HATA VERİRSE DÜZELT!\n",
    "X = X_normalized\n",
    "\n",
    "# X_normalized veri setiniz, hem standardize edilmiş hem de normalize edilmiş haliyle kullanılabilir"
   ]
  },
  {
   "cell_type": "markdown",
   "id": "ec7c9529",
   "metadata": {
    "papermill": {
     "duration": 0.004856,
     "end_time": "2023-08-10T20:20:55.151626",
     "exception": false,
     "start_time": "2023-08-10T20:20:55.146770",
     "status": "completed"
    },
    "tags": []
   },
   "source": [
    "# 2 ŞEY DENİYORUM"
   ]
  },
  {
   "cell_type": "code",
   "execution_count": 7,
   "id": "f240a80c",
   "metadata": {
    "execution": {
     "iopub.execute_input": "2023-08-10T20:20:55.163196Z",
     "iopub.status.busy": "2023-08-10T20:20:55.162922Z",
     "iopub.status.idle": "2023-08-10T20:21:00.014094Z",
     "shell.execute_reply": "2023-08-10T20:21:00.012667Z"
    },
    "papermill": {
     "duration": 4.860046,
     "end_time": "2023-08-10T20:21:00.016734",
     "exception": false,
     "start_time": "2023-08-10T20:20:55.156688",
     "status": "completed"
    },
    "tags": []
   },
   "outputs": [
    {
     "name": "stdout",
     "output_type": "stream",
     "text": [
      "XGBoost Model ROC AUC Score: 0.9854636591478697\n",
      "XGBoost Model F1 Score: 0.8500000000000001\n",
      "XGBoost Model Accuracy: 0.9516129032258065\n",
      "XGBoost Model Precision: 0.8095238095238095\n",
      "XGBoost Model Recall: 0.8947368421052632\n",
      "XGBoost Model Balanced Log Loss: 0.22568298375168652\n",
      "------------------------------------------------------------------------------\n"
     ]
    }
   ],
   "source": [
    "from sklearn.model_selection import StratifiedKFold\n",
    "from sklearn.metrics import roc_auc_score, f1_score, accuracy_score, precision_score, recall_score\n",
    "from sklearn.model_selection import train_test_split\n",
    "from sklearn.metrics import roc_auc_score\n",
    "from xgboost import XGBClassifier\n",
    "from lightgbm import LGBMClassifier\n",
    "from sklearn.ensemble import RandomForestClassifier\n",
    "from sklearn.linear_model import LogisticRegression\n",
    "from sklearn.ensemble import GradientBoostingClassifier\n",
    "import xgboost as xgb\n",
    "import lightgbm as lgb\n",
    "\n",
    "# Veri setini eğitim ve test verileri olarak ayırın (örneğin, %80 eğitim, %20 test olarak ayıralım)\n",
    "X_train, X_test, y_train, y_test = train_test_split(X, y, test_size=0.2, random_state=53)\n",
    "\n",
    "# Sınıf ağırlıklandırmasını belirleyin\n",
    "class_weights = {0: 0.18, 1: 0.82}\n",
    "\n",
    "# Yarışma metriğim\n",
    "def balanced_log_loss(y_true, y_pred):\n",
    "\n",
    "    # Calculate the number of observations for each class\n",
    "    N_0 = np.sum(1 - y_true)\n",
    "    N_1 = np.sum(y_true)\n",
    "    # Calculate the predicted probabilities for each class\n",
    "    p_1 = np.clip(y_pred, 1e-15, 1 - 1e-15)\n",
    "    p_0 = 1 - p_1\n",
    "    # Calculate the average log loss for each class\n",
    "    log_loss_0 = -np.sum((1 - y_true) * np.log(p_0)) / N_0\n",
    "    log_loss_1 = -np.sum(y_true * np.log(p_1)) / N_1\n",
    "    # return the (not further weighted) average of the averages\n",
    "    return (log_loss_0 + log_loss_1) / 2\n",
    "\n",
    "# XGB MODELİ\n",
    "#lambda : 0.0000263894617720096 idi.\n",
    "#alpha : 0.000463768723479341 idi.\n",
    "#gamma : 0.000847289463422307 idi.\n",
    "\n",
    "xgb_params = {\n",
    "    'n_estimators': 700,\n",
    "    'learning_rate': 0.01,\n",
    "    'booster': 'gbtree',\n",
    "    'lambda': 6,\n",
    "    'alpha': 4,\n",
    "    'subsample': 0.8,\n",
    "    'colsample_bytree': 0.8,\n",
    "    'max_depth': 3,\n",
    "    'min_child_weight': 3,\n",
    "    'gamma': 0.1,\n",
    "    'n_jobs': -1,\n",
    "    'objective': 'binary:logistic',\n",
    "    'eval_metric': 'logloss',\n",
    "    'verbosity': 0,\n",
    "    'random_state': 42,\n",
    "    'scale_pos_weight': 0.90 / 0.10,  # class_weights\n",
    "}\n",
    "\n",
    "# XGBoost Model\n",
    "xgb_model = xgb.XGBClassifier(**xgb_params)\n",
    "xgb_model.fit(X_train, y_train)\n",
    "y_pred_xgb = xgb_model.predict_proba(X_test)[:, 1]\n",
    "\n",
    "xgb_auc = roc_auc_score(y_test, y_pred_xgb)\n",
    "xgb_f1 = f1_score(y_test, np.round(y_pred_xgb))\n",
    "xgb_acc = accuracy_score(y_test, np.round(y_pred_xgb))\n",
    "xgb_prec = precision_score(y_test, np.round(y_pred_xgb))\n",
    "xgb_recall = recall_score(y_test, np.round(y_pred_xgb))\n",
    "xgb_balanced_log_loss = balanced_log_loss(y_test, y_pred_xgb)\n",
    "\n",
    "print(\"XGBoost Model ROC AUC Score:\", xgb_auc)\n",
    "print(\"XGBoost Model F1 Score:\", xgb_f1)\n",
    "print(\"XGBoost Model Accuracy:\", xgb_acc)\n",
    "print(\"XGBoost Model Precision:\", xgb_prec)\n",
    "print(\"XGBoost Model Recall:\", xgb_recall)\n",
    "print(\"XGBoost Model Balanced Log Loss:\", xgb_balanced_log_loss)\n",
    "print(\"------------------------------------------------------------------------------\")"
   ]
  },
  {
   "cell_type": "code",
   "execution_count": 8,
   "id": "01998f0c",
   "metadata": {
    "execution": {
     "iopub.execute_input": "2023-08-10T20:21:00.029453Z",
     "iopub.status.busy": "2023-08-10T20:21:00.029165Z",
     "iopub.status.idle": "2023-08-10T20:21:06.813838Z",
     "shell.execute_reply": "2023-08-10T20:21:06.812995Z"
    },
    "papermill": {
     "duration": 6.793627,
     "end_time": "2023-08-10T20:21:06.816375",
     "exception": false,
     "start_time": "2023-08-10T20:21:00.022748",
     "status": "completed"
    },
    "tags": []
   },
   "outputs": [
    {
     "name": "stdout",
     "output_type": "stream",
     "text": [
      "XGBoost Model Mean ROC AUC: 0.9569996915657952\n",
      "XGBoost Model Mean F1 Score: 0.7594543904518329\n",
      "XGBoost Model Mean Accuracy: 0.9043010752688172\n",
      "XGBoost Model Mean Precision: 0.6896387520525451\n",
      "XGBoost Model Mean Recall: 0.8510822510822511\n",
      "XGBoost Model Mean Balanced Log Loss: 0.2860677880405552\n"
     ]
    }
   ],
   "source": [
    "from sklearn.model_selection import StratifiedKFold\n",
    "from sklearn.metrics import roc_auc_score, f1_score, accuracy_score, precision_score, recall_score\n",
    "import numpy as np\n",
    "\n",
    "# GRADIENT COP OLDUGU ICIN BURAYA ALMAYA GEREK BILE DUYMADIM. HE ILERIDE BIR GUN GEREKIRSE ALIRIM.\n",
    "\n",
    "# Veri setini bölmek için Stratified K-Fold kullanalım\n",
    "skf = StratifiedKFold(n_splits=5, shuffle=True, random_state=42)\n",
    "\n",
    "# Modellerin performans sonuçlarını saklamak için boş listeler oluşturalım\n",
    "xgb_roc_auc_scores, xgb_f1_scores, xgb_acc_scores, xgb_prec_scores, xgb_recall_scores, xgb_balanced_log_loss_scores = [], [], [], [], [], []\n",
    "\n",
    "for train_index, test_index in skf.split(X, y):\n",
    "    X_train, X_test = X.iloc[train_index], X.iloc[test_index]\n",
    "    y_train, y_test = y.iloc[train_index], y.iloc[test_index]\n",
    "\n",
    "    # XGBoost Model\n",
    "    xgb_model = xgb.XGBClassifier(**xgb_params)\n",
    "    xgb_model.fit(X_train, y_train)\n",
    "    y_pred_xgb = xgb_model.predict_proba(X_test)[:, 1]\n",
    "\n",
    "    xgb_auc = roc_auc_score(y_test, y_pred_xgb)\n",
    "    xgb_f1 = f1_score(y_test, np.round(y_pred_xgb))\n",
    "    xgb_acc = accuracy_score(y_test, np.round(y_pred_xgb))\n",
    "    xgb_prec = precision_score(y_test, np.round(y_pred_xgb))\n",
    "    xgb_recall = recall_score(y_test, np.round(y_pred_xgb))\n",
    "    xgb_balanced_log_loss = balanced_log_loss(y_test, y_pred_xgb)\n",
    "\n",
    "    xgb_roc_auc_scores.append(xgb_auc)\n",
    "    xgb_f1_scores.append(xgb_f1)\n",
    "    xgb_acc_scores.append(xgb_acc)\n",
    "    xgb_prec_scores.append(xgb_prec)\n",
    "    xgb_recall_scores.append(xgb_recall)\n",
    "    xgb_balanced_log_loss_scores.append(xgb_balanced_log_loss)\n",
    "    \n",
    "# Ortalama değerleri saklamak için boş listeler oluşturun\n",
    "xgb_mean_roc_auc = np.mean(xgb_roc_auc_scores)\n",
    "xgb_mean_f1 = np.mean(xgb_f1_scores)\n",
    "xgb_mean_acc = np.mean(xgb_acc_scores)\n",
    "xgb_mean_prec = np.mean(xgb_prec_scores)\n",
    "xgb_mean_recall = np.mean(xgb_recall_scores)\n",
    "xgb_mean_balanced_log_loss = np.mean(xgb_balanced_log_loss_scores)\n",
    "\n",
    "# Sonuçları yazdırın\n",
    "print(\"XGBoost Model Mean ROC AUC:\", xgb_mean_roc_auc)\n",
    "print(\"XGBoost Model Mean F1 Score:\", xgb_mean_f1)\n",
    "print(\"XGBoost Model Mean Accuracy:\", xgb_mean_acc)\n",
    "print(\"XGBoost Model Mean Precision:\", xgb_mean_prec)\n",
    "print(\"XGBoost Model Mean Recall:\", xgb_mean_recall)\n",
    "print(\"XGBoost Model Mean Balanced Log Loss:\", xgb_mean_balanced_log_loss)\n"
   ]
  },
  {
   "cell_type": "markdown",
   "id": "f005f726",
   "metadata": {
    "papermill": {
     "duration": 0.005388,
     "end_time": "2023-08-10T20:21:06.828460",
     "exception": false,
     "start_time": "2023-08-10T20:21:06.823072",
     "status": "completed"
    },
    "tags": []
   },
   "source": [
    "# LIGHT GBM DENEMESİ"
   ]
  },
  {
   "cell_type": "code",
   "execution_count": 9,
   "id": "8457e068",
   "metadata": {
    "execution": {
     "iopub.execute_input": "2023-08-10T20:21:06.843034Z",
     "iopub.status.busy": "2023-08-10T20:21:06.842327Z",
     "iopub.status.idle": "2023-08-10T20:21:06.962471Z",
     "shell.execute_reply": "2023-08-10T20:21:06.961285Z"
    },
    "papermill": {
     "duration": 0.130311,
     "end_time": "2023-08-10T20:21:06.964882",
     "exception": false,
     "start_time": "2023-08-10T20:21:06.834571",
     "status": "completed"
    },
    "tags": []
   },
   "outputs": [
    {
     "name": "stdout",
     "output_type": "stream",
     "text": [
      "[LightGBM] [Warning] lambda_l2 is set=8, reg_lambda=0.0 will be ignored. Current value: lambda_l2=8\n",
      "LightGBM Model ROC AUC Score: 0.9804511278195489\n",
      "LightGBM Model F1 Score: 0.7804878048780488\n",
      "LightGBM Model Accuracy: 0.9274193548387096\n",
      "LightGBM Model Precision: 0.7272727272727273\n",
      "LightGBM Model Recall: 0.8421052631578947\n",
      "LightGBM Model Balanced Log Loss: 0.2367526451286298\n",
      "------------------------------------------------------------------------------\n"
     ]
    }
   ],
   "source": [
    "import numpy as np\n",
    "from sklearn.model_selection import train_test_split\n",
    "from sklearn.metrics import roc_auc_score, f1_score, accuracy_score, precision_score, recall_score\n",
    "import lightgbm as lgb\n",
    "\n",
    "# Veri setini eğitim ve test verileri olarak ayırın (örneğin, %80 eğitim, %20 test olarak ayıralım)\n",
    "X_train, X_test, y_train, y_test = train_test_split(X, y, test_size=0.2, random_state=53)\n",
    "\n",
    "# Sınıf ağırlıklandırmasını belirleyin\n",
    "class_weights = {0: 0.18, 1: 0.82}\n",
    "\n",
    "# Yarışma metriğim\n",
    "def balanced_log_loss(y_true, y_pred):\n",
    "    \n",
    "    # Calculate the number of observations for each class\n",
    "    N_0 = np.sum(1 - y_true)\n",
    "    N_1 = np.sum(y_true)\n",
    "    # Calculate the predicted probabilities for each class\n",
    "    p_1 = np.clip(y_pred, 1e-15, 1 - 1e-15)\n",
    "    p_0 = 1 - p_1\n",
    "    # Calculate the average log loss for each class\n",
    "    log_loss_0 = -np.sum((1 - y_true) * np.log(p_0)) / N_0\n",
    "    log_loss_1 = -np.sum(y_true * np.log(p_1)) / N_1\n",
    "    # return the (not further weighted) average of the averages\n",
    "    return (log_loss_0 + log_loss_1) / 2\n",
    "\n",
    "# LightGBM MODELİ\n",
    "#lambda : 0.0000263894617720096 idi.\n",
    "#alpha : 0.000463768723479341 idi.\n",
    "#gamma : 0.000847289463422307 idi.\n",
    "\n",
    "lgb_params = {\n",
    "    'boosting_type': 'gbdt', #gbdt idi\n",
    "    'objective': 'binary',\n",
    "    'metric': 'binary_logloss',\n",
    "    'learning_rate': 0.075, # en iyi değer 0.1 ya da 0.075 dir.\n",
    "    'lambda_l2': 8, # Best 8 'di.\n",
    "    'alpha': 1, # etki etmeyipti.\n",
    "    'subsample': 0.8, # etki etmeyipti.\n",
    "    'colsample_bytree': 0.7, # Best 7'di.\n",
    "    'max_depth': 3, # 3 Bestti.\n",
    "    'min_child_samples': 3, #3 bestti.\n",
    "    'min_split_gain': 0.1, # 0.1 Bestti.\n",
    "    'num_leaves' : 5,\n",
    "    'n_jobs': -1,\n",
    "    'verbose': -1,\n",
    "    'scale_pos_weight': 0.90 / 0.10,  # class_weights ilginç şekilde 90 a 10 bestti.\n",
    "    'random_state': 42,\n",
    "}\n",
    "\n",
    "# LightGBM Model\n",
    "lgb_model = lgb.LGBMClassifier(**lgb_params)\n",
    "lgb_model.fit(X_train, y_train)\n",
    "y_pred_lgb = lgb_model.predict_proba(X_test)[:, 1]\n",
    "\n",
    "lgb_auc = roc_auc_score(y_test, y_pred_lgb)\n",
    "lgb_f1 = f1_score(y_test, np.round(y_pred_lgb))\n",
    "lgb_acc = accuracy_score(y_test, np.round(y_pred_lgb))\n",
    "lgb_prec = precision_score(y_test, np.round(y_pred_lgb))\n",
    "lgb_recall = recall_score(y_test, np.round(y_pred_lgb))\n",
    "lgb_balanced_log_loss = balanced_log_loss(y_test, y_pred_lgb)\n",
    "\n",
    "print(\"LightGBM Model ROC AUC Score:\", lgb_auc)\n",
    "print(\"LightGBM Model F1 Score:\", lgb_f1)\n",
    "print(\"LightGBM Model Accuracy:\", lgb_acc)\n",
    "print(\"LightGBM Model Precision:\", lgb_prec)\n",
    "print(\"LightGBM Model Recall:\", lgb_recall)\n",
    "print(\"LightGBM Model Balanced Log Loss:\", lgb_balanced_log_loss)\n",
    "print(\"------------------------------------------------------------------------------\")"
   ]
  },
  {
   "cell_type": "code",
   "execution_count": 10,
   "id": "1bbb90e2",
   "metadata": {
    "execution": {
     "iopub.execute_input": "2023-08-10T20:21:06.978868Z",
     "iopub.status.busy": "2023-08-10T20:21:06.978578Z",
     "iopub.status.idle": "2023-08-10T20:21:07.306379Z",
     "shell.execute_reply": "2023-08-10T20:21:07.305566Z"
    },
    "papermill": {
     "duration": 0.33766,
     "end_time": "2023-08-10T20:21:07.308714",
     "exception": false,
     "start_time": "2023-08-10T20:21:06.971054",
     "status": "completed"
    },
    "tags": []
   },
   "outputs": [
    {
     "name": "stdout",
     "output_type": "stream",
     "text": [
      "[LightGBM] [Warning] lambda_l2 is set=8, reg_lambda=0.0 will be ignored. Current value: lambda_l2=8\n",
      "[LightGBM] [Warning] lambda_l2 is set=8, reg_lambda=0.0 will be ignored. Current value: lambda_l2=8\n",
      "[LightGBM] [Warning] lambda_l2 is set=8, reg_lambda=0.0 will be ignored. Current value: lambda_l2=8\n",
      "[LightGBM] [Warning] lambda_l2 is set=8, reg_lambda=0.0 will be ignored. Current value: lambda_l2=8\n",
      "[LightGBM] [Warning] lambda_l2 is set=8, reg_lambda=0.0 will be ignored. Current value: lambda_l2=8\n",
      "LightGBM Model Mean ROC AUC: 0.9609670210718552\n",
      "LightGBM Model Mean F1 Score: 0.7796581989769903\n",
      "LightGBM Model Mean Accuracy: 0.9108313663781799\n",
      "LightGBM Model Mean Precision: 0.6900555064348167\n",
      "LightGBM Model Mean Recall: 0.8978354978354979\n",
      "LightGBM Model Mean Balanced Log Loss: 0.26383255919892773\n"
     ]
    }
   ],
   "source": [
    "from sklearn.model_selection import StratifiedKFold\n",
    "from sklearn.metrics import roc_auc_score, f1_score, accuracy_score, precision_score, recall_score\n",
    "import numpy as np\n",
    "import lightgbm as lgb\n",
    "\n",
    "# Veri setini bölmek için Stratified K-Fold kullanalım\n",
    "skf = StratifiedKFold(n_splits=5, shuffle=True, random_state=53)\n",
    "\n",
    "# Modellerin performans sonuçlarını saklamak için boş listeler oluşturalım\n",
    "lgb_roc_auc_scores, lgb_f1_scores, lgb_acc_scores, lgb_prec_scores, lgb_recall_scores, lgb_balanced_log_loss_scores = [], [], [], [], [], []\n",
    "\n",
    "for train_index, test_index in skf.split(X, y):\n",
    "    X_train, X_test = X.iloc[train_index], X.iloc[test_index]\n",
    "    y_train, y_test = y.iloc[train_index], y.iloc[test_index]\n",
    "\n",
    "    # LightGBM Model\n",
    "    lgb_model = lgb.LGBMClassifier(**lgb_params)\n",
    "    lgb_model.fit(X_train, y_train)\n",
    "    y_pred_lgb = lgb_model.predict_proba(X_test)[:, 1]\n",
    "\n",
    "    lgb_auc = roc_auc_score(y_test, y_pred_lgb)\n",
    "    lgb_f1 = f1_score(y_test, np.round(y_pred_lgb))\n",
    "    lgb_acc = accuracy_score(y_test, np.round(y_pred_lgb))\n",
    "    lgb_prec = precision_score(y_test, np.round(y_pred_lgb))\n",
    "    lgb_recall = recall_score(y_test, np.round(y_pred_lgb))\n",
    "    lgb_balanced_log_loss = balanced_log_loss(y_test, y_pred_lgb)\n",
    "\n",
    "    lgb_roc_auc_scores.append(lgb_auc)\n",
    "    lgb_f1_scores.append(lgb_f1)\n",
    "    lgb_acc_scores.append(lgb_acc)\n",
    "    lgb_prec_scores.append(lgb_prec)\n",
    "    lgb_recall_scores.append(lgb_recall)\n",
    "    lgb_balanced_log_loss_scores.append(lgb_balanced_log_loss)\n",
    "    \n",
    "# Ortalama değerleri saklamak için boş listeler oluşturun\n",
    "lgb_mean_roc_auc = np.mean(lgb_roc_auc_scores)\n",
    "lgb_mean_f1 = np.mean(lgb_f1_scores)\n",
    "lgb_mean_acc = np.mean(lgb_acc_scores)\n",
    "lgb_mean_prec = np.mean(lgb_prec_scores)\n",
    "lgb_mean_recall = np.mean(lgb_recall_scores)\n",
    "lgb_mean_balanced_log_loss = np.mean(lgb_balanced_log_loss_scores)\n",
    "\n",
    "# Sonuçları yazdırın\n",
    "print(\"LightGBM Model Mean ROC AUC:\", lgb_mean_roc_auc)\n",
    "print(\"LightGBM Model Mean F1 Score:\", lgb_mean_f1)\n",
    "print(\"LightGBM Model Mean Accuracy:\", lgb_mean_acc)\n",
    "print(\"LightGBM Model Mean Precision:\", lgb_mean_prec)\n",
    "print(\"LightGBM Model Mean Recall:\", lgb_mean_recall)\n",
    "print(\"LightGBM Model Mean Balanced Log Loss:\", lgb_mean_balanced_log_loss)\n"
   ]
  },
  {
   "cell_type": "markdown",
   "id": "c5d2b18b",
   "metadata": {
    "papermill": {
     "duration": 0.006103,
     "end_time": "2023-08-10T20:21:07.321478",
     "exception": false,
     "start_time": "2023-08-10T20:21:07.315375",
     "status": "completed"
    },
    "tags": []
   },
   "source": [
    "# Submission"
   ]
  },
  {
   "cell_type": "code",
   "execution_count": 11,
   "id": "e56f2f75",
   "metadata": {
    "execution": {
     "iopub.execute_input": "2023-08-10T20:21:07.334756Z",
     "iopub.status.busy": "2023-08-10T20:21:07.334223Z",
     "iopub.status.idle": "2023-08-10T20:21:07.419317Z",
     "shell.execute_reply": "2023-08-10T20:21:07.418639Z"
    },
    "papermill": {
     "duration": 0.093863,
     "end_time": "2023-08-10T20:21:07.421219",
     "exception": false,
     "start_time": "2023-08-10T20:21:07.327356",
     "status": "completed"
    },
    "tags": []
   },
   "outputs": [
    {
     "name": "stdout",
     "output_type": "stream",
     "text": [
      "[LightGBM] [Warning] lambda_l2 is set=8, reg_lambda=0.0 will be ignored. Current value: lambda_l2=8\n"
     ]
    },
    {
     "data": {
      "text/html": [
       "<div>\n",
       "<style scoped>\n",
       "    .dataframe tbody tr th:only-of-type {\n",
       "        vertical-align: middle;\n",
       "    }\n",
       "\n",
       "    .dataframe tbody tr th {\n",
       "        vertical-align: top;\n",
       "    }\n",
       "\n",
       "    .dataframe thead th {\n",
       "        text-align: right;\n",
       "    }\n",
       "</style>\n",
       "<table border=\"1\" class=\"dataframe\">\n",
       "  <thead>\n",
       "    <tr style=\"text-align: right;\">\n",
       "      <th></th>\n",
       "      <th>Id</th>\n",
       "      <th>class_0</th>\n",
       "      <th>class_1</th>\n",
       "    </tr>\n",
       "  </thead>\n",
       "  <tbody>\n",
       "    <tr>\n",
       "      <th>0</th>\n",
       "      <td>00eed32682bb</td>\n",
       "      <td>0.51852</td>\n",
       "      <td>0.48148</td>\n",
       "    </tr>\n",
       "    <tr>\n",
       "      <th>1</th>\n",
       "      <td>010ebe33f668</td>\n",
       "      <td>0.51852</td>\n",
       "      <td>0.48148</td>\n",
       "    </tr>\n",
       "    <tr>\n",
       "      <th>2</th>\n",
       "      <td>02fa521e1838</td>\n",
       "      <td>0.51852</td>\n",
       "      <td>0.48148</td>\n",
       "    </tr>\n",
       "    <tr>\n",
       "      <th>3</th>\n",
       "      <td>040e15f562a2</td>\n",
       "      <td>0.51852</td>\n",
       "      <td>0.48148</td>\n",
       "    </tr>\n",
       "    <tr>\n",
       "      <th>4</th>\n",
       "      <td>046e85c7cc7f</td>\n",
       "      <td>0.51852</td>\n",
       "      <td>0.48148</td>\n",
       "    </tr>\n",
       "  </tbody>\n",
       "</table>\n",
       "</div>"
      ],
      "text/plain": [
       "             Id  class_0  class_1\n",
       "0  00eed32682bb  0.51852  0.48148\n",
       "1  010ebe33f668  0.51852  0.48148\n",
       "2  02fa521e1838  0.51852  0.48148\n",
       "3  040e15f562a2  0.51852  0.48148\n",
       "4  046e85c7cc7f  0.51852  0.48148"
      ]
     },
     "execution_count": 11,
     "metadata": {},
     "output_type": "execute_result"
    }
   ],
   "source": [
    "# En iyi parametreleri kullanarak modeli tüm veri setiyle tekrar eğitin\n",
    "best_model = lgb.LGBMClassifier(**lgb_params)\n",
    "best_model.fit(X, y)\n",
    "\n",
    "# Test verileri üzerinde tahmin yapın (olasılık değerlerini alın)\n",
    "test_probabilities = best_model.predict_proba(df_test)\n",
    "\n",
    "# 'sub' veri çerçevesini güncelleme\n",
    "sub['class_0'] = test_probabilities[:, 0]\n",
    "sub['class_1'] = test_probabilities[:, 1]\n",
    "\n",
    "# Sadece 'Id', 'class_0' ve 'class_1' sütunlarını içerecek şekilde yeni bir DataFrame oluşturun\n",
    "submission_df = sub[['Id', 'class_0', 'class_1']]\n",
    "\n",
    "# Submission dosyasını kaydetme\n",
    "submission_df.to_csv(\"submission.csv\", index=False)\n",
    "\n",
    "# Oluşturulan submission_df'yi yazdırma\n",
    "submission_df\n"
   ]
  }
 ],
 "metadata": {
  "kernelspec": {
   "display_name": "Python 3 (ipykernel)",
   "language": "python",
   "name": "python3"
  },
  "language_info": {
   "codemirror_mode": {
    "name": "ipython",
    "version": 3
   },
   "file_extension": ".py",
   "mimetype": "text/x-python",
   "name": "python",
   "nbconvert_exporter": "python",
   "pygments_lexer": "ipython3",
   "version": "3.9.16"
  },
  "papermill": {
   "default_parameters": {},
   "duration": 26.889479,
   "end_time": "2023-08-10T20:21:09.591659",
   "environment_variables": {},
   "exception": null,
   "input_path": "__notebook__.ipynb",
   "output_path": "__notebook__.ipynb",
   "parameters": {},
   "start_time": "2023-08-10T20:20:42.702180",
   "version": "2.4.0"
  }
 },
 "nbformat": 4,
 "nbformat_minor": 5
}
