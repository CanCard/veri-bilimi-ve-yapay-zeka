{
 "cells": [
  {
   "cell_type": "code",
   "execution_count": 1,
   "id": "225aca97",
   "metadata": {
    "_cell_guid": "b1076dfc-b9ad-4769-8c92-a6c4dae69d19",
    "_uuid": "8f2839f25d086af736a60e9eeb907d3b93b6e0e5",
    "execution": {
     "iopub.execute_input": "2024-01-04T12:04:15.394894Z",
     "iopub.status.busy": "2024-01-04T12:04:15.394506Z",
     "iopub.status.idle": "2024-01-04T12:04:15.737191Z",
     "shell.execute_reply": "2024-01-04T12:04:15.735760Z"
    },
    "papermill": {
     "duration": 0.35637,
     "end_time": "2024-01-04T12:04:15.739994",
     "exception": false,
     "start_time": "2024-01-04T12:04:15.383624",
     "status": "completed"
    },
    "tags": []
   },
   "outputs": [],
   "source": [
    "import numpy as np\n",
    "import pandas as pd\n",
    "import string\n",
    "import re"
   ]
  },
  {
   "cell_type": "code",
   "execution_count": 2,
   "id": "24fb13e3",
   "metadata": {
    "execution": {
     "iopub.execute_input": "2024-01-04T12:04:15.760919Z",
     "iopub.status.busy": "2024-01-04T12:04:15.759784Z",
     "iopub.status.idle": "2024-01-04T12:04:17.372892Z",
     "shell.execute_reply": "2024-01-04T12:04:17.371518Z"
    },
    "papermill": {
     "duration": 1.626476,
     "end_time": "2024-01-04T12:04:17.375700",
     "exception": false,
     "start_time": "2024-01-04T12:04:15.749224",
     "status": "completed"
    },
    "tags": []
   },
   "outputs": [
    {
     "name": "stdout",
     "output_type": "stream",
     "text": [
      "Successfully loaded!\n"
     ]
    }
   ],
   "source": [
    "sub = pd.read_csv(\"/kaggle/input/llm-detect-ai-generated-text/sample_submission.csv\")\n",
    "test_essays = pd.read_csv(\"/kaggle/input/llm-detect-ai-generated-text/test_essays.csv\")\n",
    "train_essays = pd.read_csv(\"/kaggle/input/llm-detect-ai-generated-text/train_essays.csv\")\n",
    "train_prompts = pd.read_csv(\"/kaggle/input/llm-detect-ai-generated-text/train_prompts.csv\")\n",
    "persuade = pd.read_csv(\"/kaggle/input/persuade2-0/persuade_2.0_human_scores_demo_id_github.csv\")\n",
    "print(\"Successfully loaded!\")"
   ]
  },
  {
   "cell_type": "code",
   "execution_count": 3,
   "id": "0e8848fe",
   "metadata": {
    "execution": {
     "iopub.execute_input": "2024-01-04T12:04:17.397131Z",
     "iopub.status.busy": "2024-01-04T12:04:17.396731Z",
     "iopub.status.idle": "2024-01-04T12:04:18.157121Z",
     "shell.execute_reply": "2024-01-04T12:04:18.155532Z"
    },
    "papermill": {
     "duration": 0.773707,
     "end_time": "2024-01-04T12:04:18.159631",
     "exception": false,
     "start_time": "2024-01-04T12:04:17.385924",
     "status": "completed"
    },
    "tags": []
   },
   "outputs": [
    {
     "name": "stdout",
     "output_type": "stream",
     "text": [
      "Successful\n"
     ]
    }
   ],
   "source": [
    "gpt3bucuk = pd.read_csv('/kaggle/input/llm-generated-essays/ai_generated_train_essays.csv')\n",
    "gpt4 = pd.read_csv('/kaggle/input/llm-generated-essays/ai_generated_train_essays_gpt-4.csv')\n",
    "falcon180b = pd.read_csv(\"/kaggle/input/daigt-data-llama-70b-and-falcon180b/falcon_180b_v1.csv\")\n",
    "llama_70b_v1 = pd.read_csv(\"/kaggle/input/daigt-data-llama-70b-and-falcon180b/llama_70b_v1.csv\")\n",
    "llama_70b_v2 = pd.read_csv(\"/kaggle/input/daigt-data-llama-70b-and-falcon180b/llama_70b_v2.csv\")\n",
    "llama_falcon_v3 = pd.read_csv(\"/kaggle/input/daigt-data-llama-70b-and-falcon180b/llama_falcon_v3.csv\")\n",
    "anthrop_c = pd.read_csv(\"/kaggle/input/hello-claude-1000-essays-from-anthropic/persuade15_claude_instant1.csv\")\n",
    "palm = pd.read_csv(\"/kaggle/input/llm-generated-essay-using-palm-from-google-gen-ai/LLM_generated_essay_PaLM.csv\")\n",
    "print(\"Successful\")"
   ]
  },
  {
   "cell_type": "code",
   "execution_count": 4,
   "id": "3a235674",
   "metadata": {
    "execution": {
     "iopub.execute_input": "2024-01-04T12:04:18.180538Z",
     "iopub.status.busy": "2024-01-04T12:04:18.180169Z",
     "iopub.status.idle": "2024-01-04T12:04:18.198434Z",
     "shell.execute_reply": "2024-01-04T12:04:18.197074Z"
    },
    "papermill": {
     "duration": 0.032282,
     "end_time": "2024-01-04T12:04:18.201161",
     "exception": false,
     "start_time": "2024-01-04T12:04:18.168879",
     "status": "completed"
    },
    "tags": []
   },
   "outputs": [
    {
     "name": "stdout",
     "output_type": "stream",
     "text": [
      "Successful\n"
     ]
    }
   ],
   "source": [
    "falcon180b.rename(columns={'generated_text': 'text'}, inplace=True)\n",
    "llama_70b_v1.rename(columns={'generated_text': 'text'}, inplace=True)\n",
    "llama_70b_v2.rename(columns={'generated_text': 'text'}, inplace=True)\n",
    "anthrop_c.rename(columns={'essay_text': 'text'}, inplace=True)\n",
    "persuade.rename(columns={'full_text': 'text'}, inplace=True)\n",
    "print(\"Successful\")"
   ]
  },
  {
   "cell_type": "code",
   "execution_count": 5,
   "id": "8600892c",
   "metadata": {
    "execution": {
     "iopub.execute_input": "2024-01-04T12:04:18.221270Z",
     "iopub.status.busy": "2024-01-04T12:04:18.220903Z",
     "iopub.status.idle": "2024-01-04T12:04:18.231679Z",
     "shell.execute_reply": "2024-01-04T12:04:18.230206Z"
    },
    "papermill": {
     "duration": 0.023331,
     "end_time": "2024-01-04T12:04:18.233715",
     "exception": false,
     "start_time": "2024-01-04T12:04:18.210384",
     "status": "completed"
    },
    "tags": []
   },
   "outputs": [
    {
     "name": "stdout",
     "output_type": "stream",
     "text": [
      "Successful\n"
     ]
    }
   ],
   "source": [
    "persuade['generated'] = 0\n",
    "falcon180b['generated'] = 1\n",
    "llama_70b_v1['generated'] = 1\n",
    "anthrop_c['generated'] = 1\n",
    "palm['generated'] = 1\n",
    "print(\"Successful\")"
   ]
  },
  {
   "cell_type": "markdown",
   "id": "7985164e",
   "metadata": {
    "papermill": {
     "duration": 0.008819,
     "end_time": "2024-01-04T12:04:18.252419",
     "exception": false,
     "start_time": "2024-01-04T12:04:18.243600",
     "status": "completed"
    },
    "tags": []
   },
   "source": [
    "# **Müdahale öncesi her metinde analiz edilmesi gerekenler** <br>\n",
    "- Paragraf başına kelime sayısı✅\n",
    "- Ortalama Paragraf sayısı✅\n",
    "- Ortalama paragraf uzunluğu✅\n",
    "- Ortalama Cümle sayısı✅\n",
    "- Toplam kelime sayısı (Stopwords'süz)✅\n",
    "- Metindeki toplam Benzersiz karakter sayısı (Belki rakam sayıları ayrıca sayılabilir belki) ❌ Çıkardım.\n",
    "- Toplam #$£½{[] şu tarz özel karakterlerin sayısı ❌ (Ayrıca .,!? gibi işaret sayıları) ✅\n",
    "- Ortalama kelime uzunluğu ✅ [NLP ile daha iyi olabilir...]\n",
    "- Ortalama cümle uzunluğu ✅ [NLP ile daha iyi olabilir...]\n",
    "- Cümlelerin karmaşıklığı tüm metinde (bir cümledeki kelime sayısı ve bağlaç kullanımı sayıları) ✅\n",
    "- Cümlelerdeki farklı kelime sayısı, bu sayede hep aynı şeyden mi bahsetti anlayacağız. [NLP ile daha iyi olabilir...]\n",
    "- Belirli kelimelerin veya kelime gruplarının metindeki frekansları. (Bunu GPT'ye sor.) [NLP ile daha iyi olabilir...]\n",
    "- Belirli bağlaçları içeren cümlelerin sayısı (yani her bağlaçın kendine özel tespiti and, as, or vb. kaç tane geçmiş) ❌ Bence işe yaramayacak. Tekrar düşünülebilir elbette.\n",
    "- Yinelemelerin sıklığı. (Bunu da NLP'de ölçeriz.)<br> \n",
    "Not: (Dolar işareti koyduğun zaman ingilizcede bulunmayan karakterleri kırmızı olarak gösteriyor.)"
   ]
  },
  {
   "cell_type": "code",
   "execution_count": 6,
   "id": "e9f5044d",
   "metadata": {
    "execution": {
     "iopub.execute_input": "2024-01-04T12:04:18.272794Z",
     "iopub.status.busy": "2024-01-04T12:04:18.272403Z",
     "iopub.status.idle": "2024-01-04T12:04:19.114632Z",
     "shell.execute_reply": "2024-01-04T12:04:19.113039Z"
    },
    "papermill": {
     "duration": 0.855313,
     "end_time": "2024-01-04T12:04:19.117163",
     "exception": false,
     "start_time": "2024-01-04T12:04:18.261850",
     "status": "completed"
    },
    "tags": []
   },
   "outputs": [
    {
     "name": "stdout",
     "output_type": "stream",
     "text": [
      "Küçük bir hatırlatma: \" \" ifadesi yanında herhangi bir obje olursa sayılıyor. \"\" = 1 sayılıyor. \"s = 1 sayılıyor. \"smart phone\" = 2\n",
      "Successful\n"
     ]
    }
   ],
   "source": [
    "# Her hücredeki metinlerden '\\n\\n' ifadesi sayısını bulan fonksiyon\n",
    "def count_newlines(text):\n",
    "    return text.count('\\n\\n')\n",
    "\n",
    "# Her hücredeki metinlerden toplam kelime sayısını bulan fonksiyon\n",
    "def count_words(text):\n",
    "    return len(text.split())\n",
    "\n",
    "# Her hücredeki metinlerden '\\n\\n' ifadesi sayısına göre toplam kelime sayısını hesapla ve böl LLM\n",
    "gpt4['word_per_paragraph'] = gpt4['text'].apply(count_words) / (gpt4['text'].apply(count_newlines) + 1)\n",
    "gpt3bucuk['word_per_paragraph'] = gpt3bucuk['text'].apply(count_words) / (gpt3bucuk['text'].apply(count_newlines) + 1)\n",
    "falcon180b['word_per_paragraph'] = falcon180b['text'].apply(count_words) / (falcon180b['text'].apply(count_newlines) + 1)\n",
    "llama_70b_v1['word_per_paragraph'] = llama_70b_v1['text'].apply(count_words) / (llama_70b_v1['text'].apply(count_newlines) + 1)\n",
    "llama_70b_v2['word_per_paragraph'] = llama_70b_v2['text'].apply(count_words) / (llama_70b_v2['text'].apply(count_newlines) + 1)\n",
    "llama_falcon_v3['word_per_paragraph'] = llama_falcon_v3['text'].apply(count_words) / (llama_falcon_v3['text'].apply(count_newlines) + 1)\n",
    "anthrop_c['word_per_paragraph'] = anthrop_c['text'].apply(count_words) / (anthrop_c['text'].apply(count_newlines) + 1)\n",
    "palm['word_per_paragraph'] = palm['text'].apply(count_words) / (palm['text'].apply(count_newlines) + 1)\n",
    "\n",
    "# insan yazısı\n",
    "test_essays['word_per_paragraph'] = test_essays['text'].apply(count_words) / (test_essays['text'].apply(count_newlines) + 1)\n",
    "train_essays['word_per_paragraph'] = train_essays['text'].apply(count_words) / (train_essays['text'].apply(count_newlines) + 1)\n",
    "persuade['word_per_paragraph'] = persuade['text'].apply(count_words) / (persuade['text'].apply(count_newlines) + 1)\n",
    "print('Küçük bir hatırlatma: \" \" ifadesi yanında herhangi bir obje olursa sayılıyor. \"\" = 1 sayılıyor. \"s = 1 sayılıyor. \"smart phone\" = 2')\n",
    "print(\"Successful\")"
   ]
  },
  {
   "cell_type": "code",
   "execution_count": 7,
   "id": "f293be50",
   "metadata": {
    "execution": {
     "iopub.execute_input": "2024-01-04T12:04:19.138416Z",
     "iopub.status.busy": "2024-01-04T12:04:19.138111Z",
     "iopub.status.idle": "2024-01-04T12:04:19.224008Z",
     "shell.execute_reply": "2024-01-04T12:04:19.222786Z"
    },
    "papermill": {
     "duration": 0.100043,
     "end_time": "2024-01-04T12:04:19.226848",
     "exception": false,
     "start_time": "2024-01-04T12:04:19.126805",
     "status": "completed"
    },
    "tags": []
   },
   "outputs": [
    {
     "name": "stdout",
     "output_type": "stream",
     "text": [
      "Successful\n"
     ]
    }
   ],
   "source": [
    "# TÜM METİNLERDEKİ PARAGRAF SAYISI, doğru şekilde çalışıyor. \\n\\n + 1 = paragraph_counts, doğru yani.\n",
    "def paragraf_sayisi(metin):\n",
    "    paragraflar = metin.split('\\n\\n')\n",
    "    return len(paragraflar)\n",
    "\n",
    "\n",
    "gpt4['paragraph_counts'] = gpt4['text'].apply(paragraf_sayisi)\n",
    "gpt3bucuk['paragraph_counts'] = gpt3bucuk['text'].apply(paragraf_sayisi)\n",
    "falcon180b['paragraph_counts'] = falcon180b['text'].apply(paragraf_sayisi)\n",
    "llama_70b_v1['paragraph_counts'] = llama_70b_v1['text'].apply(paragraf_sayisi)\n",
    "llama_70b_v2['paragraph_counts'] = llama_70b_v2['text'].apply(paragraf_sayisi)\n",
    "llama_falcon_v3['paragraph_counts'] = llama_falcon_v3['text'].apply(paragraf_sayisi)\n",
    "anthrop_c['paragraph_counts'] = anthrop_c['text'].apply(paragraf_sayisi)\n",
    "palm['paragraph_counts'] = palm['text'].apply(paragraf_sayisi)\n",
    "\n",
    "test_essays['paragraph_counts'] = test_essays['text'].apply(paragraf_sayisi)\n",
    "train_essays['paragraph_counts'] = train_essays['text'].apply(paragraf_sayisi)\n",
    "persuade['paragraph_counts'] = persuade['text'].apply(paragraf_sayisi)\n",
    "print(\"Successful\")"
   ]
  },
  {
   "cell_type": "code",
   "execution_count": 8,
   "id": "c69f7bfc",
   "metadata": {
    "execution": {
     "iopub.execute_input": "2024-01-04T12:04:19.248626Z",
     "iopub.status.busy": "2024-01-04T12:04:19.248306Z",
     "iopub.status.idle": "2024-01-04T12:04:19.421704Z",
     "shell.execute_reply": "2024-01-04T12:04:19.420745Z"
    },
    "papermill": {
     "duration": 0.187205,
     "end_time": "2024-01-04T12:04:19.424032",
     "exception": false,
     "start_time": "2024-01-04T12:04:19.236827",
     "status": "completed"
    },
    "tags": []
   },
   "outputs": [
    {
     "name": "stdout",
     "output_type": "stream",
     "text": [
      "Successful\n"
     ]
    }
   ],
   "source": [
    "# tüm paragrafların uzunluğunu sayıyor. Aslında kelime saymasıyla aynı şeydi ama sen bilirsin.\n",
    "def newline_count_and_last_paragraph_length(metin):\n",
    "    paragraflar = metin.split('\\n\\n')\n",
    "    newline_count = len(paragraflar) - 1  # Son paragrafın sonunda \\n\\n olmayabilir\n",
    "    last_paragraph_length = len(paragraflar[-1]) if newline_count > 0 else len(metin)\n",
    "    return newline_count, last_paragraph_length\n",
    "\n",
    "# Ortalama paragraf uzunluğunu hesaplamak için bir fonksiyon tanımlayalım\n",
    "def ortalama_paragraf_uzunlugu(metin):\n",
    "    newline_count, last_paragraph_length = newline_count_and_last_paragraph_length(metin)\n",
    "    paragraf_sayisi = newline_count + 1\n",
    "    paragraflar = metin.split('\\n\\n')  # Paragrafları tekrar ayarla\n",
    "    karakter_sayisi = len(\"\".join(paragraflar))  # \\n\\n ifadelerini hesaplamada görmezden gel\n",
    "    return karakter_sayisi / paragraf_sayisi\n",
    "\n",
    "gpt4['average_paragraph_length'] = gpt4['text'].apply(ortalama_paragraf_uzunlugu)\n",
    "gpt3bucuk['average_paragraph_length'] = gpt3bucuk['text'].apply(ortalama_paragraf_uzunlugu)\n",
    "falcon180b['average_paragraph_length'] = falcon180b['text'].apply(ortalama_paragraf_uzunlugu)\n",
    "llama_70b_v1['average_paragraph_length'] = llama_70b_v1['text'].apply(ortalama_paragraf_uzunlugu)\n",
    "llama_70b_v2['average_paragraph_length'] = llama_70b_v2['text'].apply(ortalama_paragraf_uzunlugu)\n",
    "llama_falcon_v3['average_paragraph_length'] = llama_falcon_v3['text'].apply(ortalama_paragraf_uzunlugu)\n",
    "anthrop_c['average_paragraph_length'] = anthrop_c['text'].apply(ortalama_paragraf_uzunlugu)\n",
    "palm['average_paragraph_length'] = palm['text'].apply(ortalama_paragraf_uzunlugu)\n",
    "\n",
    "test_essays['average_paragraph_length'] = test_essays['text'].apply(ortalama_paragraf_uzunlugu)\n",
    "train_essays['average_paragraph_length'] = train_essays['text'].apply(ortalama_paragraf_uzunlugu)\n",
    "persuade['average_paragraph_length'] = persuade['text'].apply(ortalama_paragraf_uzunlugu)\n",
    "print(\"Successful\")"
   ]
  },
  {
   "cell_type": "code",
   "execution_count": 9,
   "id": "553c069b",
   "metadata": {
    "execution": {
     "iopub.execute_input": "2024-01-04T12:04:19.445864Z",
     "iopub.status.busy": "2024-01-04T12:04:19.445518Z",
     "iopub.status.idle": "2024-01-04T12:04:23.900981Z",
     "shell.execute_reply": "2024-01-04T12:04:23.899664Z"
    },
    "papermill": {
     "duration": 4.469855,
     "end_time": "2024-01-04T12:04:23.903705",
     "exception": false,
     "start_time": "2024-01-04T12:04:19.433850",
     "status": "completed"
    },
    "tags": []
   },
   "outputs": [
    {
     "name": "stdout",
     "output_type": "stream",
     "text": [
      "Successful\n"
     ]
    }
   ],
   "source": [
    "# METİNDEKİ TOPLAM CÜMLE SAYISI\n",
    "def ortalama_cumle_sayisi(metin):\n",
    "    cumleler = re.split(r'[.!?]+|\\.{3}|:', metin)\n",
    "    cumle_sayisi = len([cumle for cumle in cumleler if cumle.strip() != ''])\n",
    "    return cumle_sayisi\n",
    "\n",
    "gpt4['sentence_count'] = gpt4['text'].apply(ortalama_cumle_sayisi)\n",
    "gpt3bucuk['sentence_count'] = gpt3bucuk['text'].apply(ortalama_cumle_sayisi)\n",
    "falcon180b['sentence_count'] = falcon180b['text'].apply(ortalama_cumle_sayisi)\n",
    "llama_70b_v1['sentence_count'] = llama_70b_v1['text'].apply(ortalama_cumle_sayisi)\n",
    "llama_70b_v2['sentence_count'] = llama_70b_v2['text'].apply(ortalama_cumle_sayisi)\n",
    "llama_falcon_v3['sentence_count'] = llama_falcon_v3['text'].apply(ortalama_cumle_sayisi)\n",
    "anthrop_c['sentence_count'] = anthrop_c['text'].apply(ortalama_cumle_sayisi)\n",
    "palm['sentence_count'] = palm['text'].apply(ortalama_cumle_sayisi)\n",
    "\n",
    "test_essays['sentence_count'] = test_essays['text'].apply(ortalama_cumle_sayisi)\n",
    "train_essays['sentence_count'] = train_essays['text'].apply(ortalama_cumle_sayisi)\n",
    "persuade['sentence_count'] = persuade['text'].apply(ortalama_cumle_sayisi)\n",
    "print(\"Successful\")"
   ]
  },
  {
   "cell_type": "code",
   "execution_count": 10,
   "id": "167012e6",
   "metadata": {
    "execution": {
     "iopub.execute_input": "2024-01-04T12:04:23.925418Z",
     "iopub.status.busy": "2024-01-04T12:04:23.925071Z",
     "iopub.status.idle": "2024-01-04T12:04:27.993097Z",
     "shell.execute_reply": "2024-01-04T12:04:27.991044Z"
    },
    "papermill": {
     "duration": 4.081879,
     "end_time": "2024-01-04T12:04:27.996016",
     "exception": false,
     "start_time": "2024-01-04T12:04:23.914137",
     "status": "completed"
    },
    "tags": []
   },
   "outputs": [
    {
     "name": "stdout",
     "output_type": "stream",
     "text": [
      "Successful\n"
     ]
    }
   ],
   "source": [
    "# Toplam kelime sayısını bulmak için bir fonksiyon tanımlayalım\n",
    "def toplam_kelime_sayisi(metin):\n",
    "    # \"\\n\\n\" ifadesini boşluk karakteriyle değiştir\n",
    "    metin = metin.replace('\\n\\n', ' ')\n",
    "    # Noktalama işaretleri ve özel karakterleri temizle\n",
    "    metin = re.sub(r'[^\\w\\s]', '', metin)\n",
    "    # Boşluklara göre metni bölelim ve boş olmayanları seçelim\n",
    "    kelimeler = [kelime for kelime in metin.split() if kelime.strip() != '']\n",
    "    return len(kelimeler)\n",
    "\n",
    "# DataFrame'e yeni bir sütun ekleyerek toplam kelime sayısını hesaplayalım\n",
    "gpt4['total_word_count'] = gpt4['text'].apply(toplam_kelime_sayisi)\n",
    "gpt3bucuk['total_word_count'] = gpt3bucuk['text'].apply(toplam_kelime_sayisi)\n",
    "falcon180b['total_word_count'] = falcon180b['text'].apply(toplam_kelime_sayisi)\n",
    "llama_70b_v1['total_word_count'] = llama_70b_v1['text'].apply(toplam_kelime_sayisi)\n",
    "llama_70b_v2['total_word_count'] = llama_70b_v2['text'].apply(toplam_kelime_sayisi)\n",
    "llama_falcon_v3['total_word_count'] = llama_falcon_v3['text'].apply(toplam_kelime_sayisi)\n",
    "anthrop_c['total_word_count'] = anthrop_c['text'].apply(toplam_kelime_sayisi)\n",
    "palm['total_word_count'] = palm['text'].apply(toplam_kelime_sayisi)\n",
    "\n",
    "test_essays['total_word_count'] = test_essays['text'].apply(toplam_kelime_sayisi)\n",
    "train_essays['total_word_count'] = train_essays['text'].apply(toplam_kelime_sayisi)\n",
    "persuade['total_word_count'] = persuade['text'].apply(toplam_kelime_sayisi)\n",
    "print(\"Successful\")"
   ]
  },
  {
   "cell_type": "code",
   "execution_count": 11,
   "id": "e3888c1e",
   "metadata": {
    "execution": {
     "iopub.execute_input": "2024-01-04T12:04:28.017487Z",
     "iopub.status.busy": "2024-01-04T12:04:28.017135Z",
     "iopub.status.idle": "2024-01-04T12:04:34.290099Z",
     "shell.execute_reply": "2024-01-04T12:04:34.288602Z"
    },
    "papermill": {
     "duration": 6.287022,
     "end_time": "2024-01-04T12:04:34.293143",
     "exception": false,
     "start_time": "2024-01-04T12:04:28.006121",
     "status": "completed"
    },
    "tags": []
   },
   "outputs": [
    {
     "name": "stdout",
     "output_type": "stream",
     "text": [
      "Successful\n"
     ]
    }
   ],
   "source": [
    "# Soru işareti, üç nokta, ünlem ve nokta sayısını hesaplamak için bir fonksiyon tanımlayalım\n",
    "def sayac(metin):\n",
    "    soru_isareti_sayisi = metin.count('?')\n",
    "    uc_nokta_sayisi = metin.count('...')\n",
    "    unlem_sayisi = metin.count('!')\n",
    "    \n",
    "    # Üç noktalı ifadelerin içerisindeki üç noktaları saymamak için düzeltme\n",
    "    nokta_sayisi = metin.count('.') - 3 * uc_nokta_sayisi\n",
    "    \n",
    "    return nokta_sayisi, uc_nokta_sayisi, unlem_sayisi, soru_isareti_sayisi\n",
    "\n",
    "# DataFrame'e yeni bir sütun ekleyerek sayıları hesaplayalım\n",
    "gpt4[['point_count', 'three_point_count', 'exclamation_count', 'question_mark_count']] = gpt4['text'].apply(sayac).apply(pd.Series)\n",
    "gpt3bucuk[['point_count', 'three_point_count', 'exclamation_count', 'question_mark_count']] = gpt3bucuk['text'].apply(sayac).apply(pd.Series)\n",
    "falcon180b[['point_count', 'three_point_count', 'exclamation_count', 'question_mark_count']] = falcon180b['text'].apply(sayac).apply(pd.Series)\n",
    "llama_70b_v1[['point_count', 'three_point_count', 'exclamation_count', 'question_mark_count']] = llama_70b_v1['text'].apply(sayac).apply(pd.Series)\n",
    "llama_70b_v2[['point_count', 'three_point_count', 'exclamation_count', 'question_mark_count']] = llama_70b_v2['text'].apply(sayac).apply(pd.Series)\n",
    "llama_falcon_v3[['point_count', 'three_point_count', 'exclamation_count', 'question_mark_count']] = llama_falcon_v3['text'].apply(sayac).apply(pd.Series)\n",
    "anthrop_c[['point_count', 'three_point_count', 'exclamation_count', 'question_mark_count']] = anthrop_c['text'].apply(sayac).apply(pd.Series)\n",
    "palm[['point_count', 'three_point_count', 'exclamation_count', 'question_mark_count']] = palm['text'].apply(sayac).apply(pd.Series)\n",
    "\n",
    "test_essays[['point_count', 'three_point_count', 'exclamation_count', 'question_mark_count']] = test_essays['text'].apply(sayac).apply(pd.Series)\n",
    "train_essays[['point_count', 'three_point_count', 'exclamation_count', 'question_mark_count']] = train_essays['text'].apply(sayac).apply(pd.Series)\n",
    "persuade[['point_count', 'three_point_count', 'exclamation_count', 'question_mark_count']] = persuade['text'].apply(sayac).apply(pd.Series)\n",
    "print(\"Successful\")"
   ]
  },
  {
   "cell_type": "code",
   "execution_count": 12,
   "id": "b00c7217",
   "metadata": {
    "execution": {
     "iopub.execute_input": "2024-01-04T12:04:34.315080Z",
     "iopub.status.busy": "2024-01-04T12:04:34.314684Z",
     "iopub.status.idle": "2024-01-04T12:04:39.239649Z",
     "shell.execute_reply": "2024-01-04T12:04:39.238004Z"
    },
    "papermill": {
     "duration": 4.939711,
     "end_time": "2024-01-04T12:04:39.243287",
     "exception": false,
     "start_time": "2024-01-04T12:04:34.303576",
     "status": "completed"
    },
    "tags": []
   },
   "outputs": [
    {
     "name": "stdout",
     "output_type": "stream",
     "text": [
      "Successful\n"
     ]
    }
   ],
   "source": [
    "# Metindeki ortalama kelime uzunluğunu hesaplamak için bir fonksiyon tanımlayalım\n",
    "def ortalama_kelime_uzunlugu(metin):\n",
    "    kelimeler = re.findall(r'\\b\\w+\\b', metin)  # Boşluklarla ayrılmış kelimeleri bul\n",
    "    if not kelimeler:\n",
    "        return 0  # Metin boşsa ortalama kelime uzunluğu 0\n",
    "    toplam_kelime_uzunlugu = sum(len(kelime) for kelime in kelimeler)\n",
    "    return toplam_kelime_uzunlugu / len(kelimeler)\n",
    "\n",
    "# DataFrame'e yeni bir sütun ekleyerek ortalama kelime uzunluğunu hesaplayalım\n",
    "gpt4['average_word_length'] = gpt4['text'].apply(ortalama_kelime_uzunlugu)\n",
    "gpt3bucuk['average_word_length'] = gpt3bucuk['text'].apply(ortalama_kelime_uzunlugu)\n",
    "falcon180b['average_word_length'] = falcon180b['text'].apply(ortalama_kelime_uzunlugu)\n",
    "llama_70b_v1['average_word_length'] = llama_70b_v1['text'].apply(ortalama_kelime_uzunlugu)\n",
    "llama_70b_v2['average_word_length'] = llama_70b_v2['text'].apply(ortalama_kelime_uzunlugu)\n",
    "llama_falcon_v3['average_word_length'] = llama_falcon_v3['text'].apply(ortalama_kelime_uzunlugu)\n",
    "anthrop_c['average_word_length'] = anthrop_c['text'].apply(ortalama_kelime_uzunlugu)\n",
    "palm['average_word_length'] = palm['text'].apply(ortalama_kelime_uzunlugu)\n",
    "\n",
    "test_essays['average_word_length'] = test_essays['text'].apply(ortalama_kelime_uzunlugu)\n",
    "train_essays['average_word_length'] = train_essays['text'].apply(ortalama_kelime_uzunlugu)\n",
    "persuade['average_word_length'] = persuade['text'].apply(ortalama_kelime_uzunlugu)\n",
    "print(\"Successful\")"
   ]
  },
  {
   "cell_type": "code",
   "execution_count": 13,
   "id": "dacf0011",
   "metadata": {
    "execution": {
     "iopub.execute_input": "2024-01-04T12:04:39.265510Z",
     "iopub.status.busy": "2024-01-04T12:04:39.265128Z",
     "iopub.status.idle": "2024-01-04T12:04:48.960158Z",
     "shell.execute_reply": "2024-01-04T12:04:48.958088Z"
    },
    "papermill": {
     "duration": 9.7094,
     "end_time": "2024-01-04T12:04:48.963094",
     "exception": false,
     "start_time": "2024-01-04T12:04:39.253694",
     "status": "completed"
    },
    "tags": []
   },
   "outputs": [
    {
     "name": "stdout",
     "output_type": "stream",
     "text": [
      "Successful\n"
     ]
    }
   ],
   "source": [
    "# Metindeki ortalama cümle uzunluğunu hesaplamak için bir fonksiyon tanımlayalım\n",
    "def ortalama_cumle_uzunlugu(metin):\n",
    "    cumleler = re.split(r'(?<!\\w\\.\\w.)(?<![A-Z][a-z]\\.)(?<=\\.|\\?|\\!)\\s', metin)\n",
    "    if not cumleler:\n",
    "        return 0  # Metin boşsa ortalama cümle uzunluğu 0\n",
    "    toplam_cumle_uzunlugu = sum(len(re.findall(r'\\b\\w+\\b', cumle)) for cumle in cumleler)\n",
    "    return toplam_cumle_uzunlugu / len(cumleler)\n",
    "\n",
    "# DataFrame'e yeni bir sütun ekleyerek ortalama cümle uzunluğunu hesaplayalım\n",
    "gpt4['average_sentence_length'] = gpt4['text'].apply(ortalama_cumle_uzunlugu)\n",
    "gpt3bucuk['average_sentence_length'] = gpt3bucuk['text'].apply(ortalama_cumle_uzunlugu)\n",
    "falcon180b['average_sentence_length'] = falcon180b['text'].apply(ortalama_cumle_uzunlugu)\n",
    "llama_70b_v1['average_sentence_length'] = llama_70b_v1['text'].apply(ortalama_cumle_uzunlugu)\n",
    "llama_70b_v2['average_sentence_length'] = llama_70b_v2['text'].apply(ortalama_cumle_uzunlugu)\n",
    "llama_falcon_v3['average_sentence_length'] = llama_falcon_v3['text'].apply(ortalama_cumle_uzunlugu)\n",
    "anthrop_c['average_sentence_length'] = anthrop_c['text'].apply(ortalama_cumle_uzunlugu)\n",
    "palm['average_sentence_length'] = palm['text'].apply(ortalama_cumle_uzunlugu)\n",
    "\n",
    "test_essays['average_sentence_length'] = test_essays['text'].apply(ortalama_cumle_uzunlugu)\n",
    "train_essays['average_sentence_length'] = train_essays['text'].apply(ortalama_cumle_uzunlugu)\n",
    "persuade['average_sentence_length'] = persuade['text'].apply(ortalama_cumle_uzunlugu)\n",
    "print(\"Successful\")"
   ]
  },
  {
   "cell_type": "code",
   "execution_count": 14,
   "id": "dc2e693f",
   "metadata": {
    "execution": {
     "iopub.execute_input": "2024-01-04T12:04:48.984702Z",
     "iopub.status.busy": "2024-01-04T12:04:48.984318Z",
     "iopub.status.idle": "2024-01-04T12:05:03.331773Z",
     "shell.execute_reply": "2024-01-04T12:05:03.330141Z"
    },
    "papermill": {
     "duration": 14.361221,
     "end_time": "2024-01-04T12:05:03.334360",
     "exception": false,
     "start_time": "2024-01-04T12:04:48.973139",
     "status": "completed"
    },
    "tags": []
   },
   "outputs": [
    {
     "name": "stdout",
     "output_type": "stream",
     "text": [
      "Successful\n"
     ]
    }
   ],
   "source": [
    "# Cümlelerdeki benzersiz kelime ve İngilizce bağlaç sayısını hesaplamak için bir fonksiyon tanımlayalım\n",
    "def cümle_kompleksligi(metin):\n",
    "    kelimeler = re.findall(r'\\b\\w+\\b', metin.lower())  # Boşluklarla ayrılmış kelimeleri bul, küçük harfe çevir\n",
    "    benzersiz_kelimeler = set(kelimeler)\n",
    "    ingilizce_baglac_sayisi = len(re.findall(\n",
    "        r'\\b(?:and|or|but|although|while|because|since|unless|until|if|as|when|where|after|before|by|for|while|since)\\b', \n",
    "        metin.lower()))\n",
    "    \n",
    "    return len(benzersiz_kelimeler), ingilizce_baglac_sayisi\n",
    "\n",
    "# DataFrame'e yeni sütunlar ekleyerek benzersiz kelime ve bağlaç sayılarını hesaplayalım\n",
    "gpt4[['unique_word_in_all_text', 'conjunction_count']] = gpt4['text'].apply(cümle_kompleksligi).apply(pd.Series)\n",
    "gpt3bucuk[['unique_word_in_all_text', 'conjunction_count']] = gpt3bucuk['text'].apply(cümle_kompleksligi).apply(pd.Series)\n",
    "falcon180b[['unique_word_in_all_text', 'conjunction_count']] = falcon180b['text'].apply(cümle_kompleksligi).apply(pd.Series)\n",
    "llama_70b_v1[['unique_word_in_all_text', 'conjunction_count']] = llama_70b_v1['text'].apply(cümle_kompleksligi).apply(pd.Series)\n",
    "llama_70b_v2[['unique_word_in_all_text', 'conjunction_count']] = llama_70b_v2['text'].apply(cümle_kompleksligi).apply(pd.Series)\n",
    "llama_falcon_v3[['unique_word_in_all_text', 'conjunction_count']] = llama_falcon_v3['text'].apply(cümle_kompleksligi).apply(pd.Series)\n",
    "anthrop_c[['unique_word_in_all_text', 'conjunction_count']] = anthrop_c['text'].apply(cümle_kompleksligi).apply(pd.Series)\n",
    "palm[['unique_word_in_all_text', 'conjunction_count']] = palm['text'].apply(cümle_kompleksligi).apply(pd.Series)\n",
    "\n",
    "test_essays[['unique_word_in_all_text', 'conjunction_count']] = test_essays['text'].apply(cümle_kompleksligi).apply(pd.Series)\n",
    "train_essays[['unique_word_in_all_text', 'conjunction_count']] = train_essays['text'].apply(cümle_kompleksligi).apply(pd.Series)\n",
    "persuade[['unique_word_in_all_text', 'conjunction_count']] = persuade['text'].apply(cümle_kompleksligi).apply(pd.Series)\n",
    "print(\"Successful\")"
   ]
  },
  {
   "cell_type": "markdown",
   "id": "4d164176",
   "metadata": {
    "papermill": {
     "duration": 0.00988,
     "end_time": "2024-01-04T12:05:03.355095",
     "exception": false,
     "start_time": "2024-01-04T12:05:03.345215",
     "status": "completed"
    },
    "tags": []
   },
   "source": [
    "# (En son birleştirme işlemim) = 3 satır"
   ]
  },
  {
   "cell_type": "code",
   "execution_count": 15,
   "id": "07be8d31",
   "metadata": {
    "execution": {
     "iopub.execute_input": "2024-01-04T12:05:03.377221Z",
     "iopub.status.busy": "2024-01-04T12:05:03.376860Z",
     "iopub.status.idle": "2024-01-04T12:05:03.409928Z",
     "shell.execute_reply": "2024-01-04T12:05:03.408670Z"
    },
    "papermill": {
     "duration": 0.046739,
     "end_time": "2024-01-04T12:05:03.412320",
     "exception": false,
     "start_time": "2024-01-04T12:05:03.365581",
     "status": "completed"
    },
    "tags": []
   },
   "outputs": [
    {
     "name": "stdout",
     "output_type": "stream",
     "text": [
      "Successful\n"
     ]
    }
   ],
   "source": [
    "baskanlik_secimi = train_essays[train_essays['prompt_id'] == 1]\n",
    "cars = train_essays[train_essays['prompt_id'] == 0]\n",
    "persuade_car_free_cities = persuade[persuade['prompt_name'] == 'Car-free cities']\n",
    "persuade_electoral = persuade[persuade['prompt_name'] == 'Does the electoral college work?']\n",
    "persuade_venus = persuade[persuade['prompt_name'] == 'Exploring Venus']\n",
    "persuade_mars = persuade[persuade['prompt_name'] == \"The Face on Mars\"]\n",
    "persuade_facial = persuade[persuade['prompt_name'] == \"Facial action coding system\"]\n",
    "persuade_cowboy = persuade[persuade['prompt_name'] == '\"A Cowboy Who Rode the Waves\"']\n",
    "persuade_driverless = persuade[persuade['prompt_name'] == 'Driverless cars']\n",
    "print(\"Successful\")"
   ]
  },
  {
   "cell_type": "code",
   "execution_count": 16,
   "id": "72820d0f",
   "metadata": {
    "execution": {
     "iopub.execute_input": "2024-01-04T12:05:03.498927Z",
     "iopub.status.busy": "2024-01-04T12:05:03.498542Z",
     "iopub.status.idle": "2024-01-04T12:05:03.532014Z",
     "shell.execute_reply": "2024-01-04T12:05:03.530561Z"
    },
    "papermill": {
     "duration": 0.047741,
     "end_time": "2024-01-04T12:05:03.534310",
     "exception": false,
     "start_time": "2024-01-04T12:05:03.486569",
     "status": "completed"
    },
    "tags": []
   },
   "outputs": [
    {
     "name": "stdout",
     "output_type": "stream",
     "text": [
      "Successful\n"
     ]
    }
   ],
   "source": [
    "# Bir liste oluşturun ve DataFrame'leri bu listeye ekleyin\n",
    "dataframes = [baskanlik_secimi,\n",
    "              cars,\n",
    "              persuade_car_free_cities,\n",
    "              persuade_electoral,\n",
    "              persuade_venus,\n",
    "              persuade_mars,\n",
    "              persuade_facial,\n",
    "              persuade_cowboy,\n",
    "              persuade_driverless,\n",
    "              gpt4,\n",
    "              gpt3bucuk,\n",
    "              falcon180b,\n",
    "              llama_70b_v1,\n",
    "              llama_70b_v2,\n",
    "              llama_falcon_v3,\n",
    "              anthrop_c,\n",
    "              palm,\n",
    "             ]\n",
    "\n",
    "# \"text\" ve \"generated\" sütunlarını içeren yeni bir DataFrame oluşturun\n",
    "one_piece = pd.concat([df[['text', 'generated','word_per_paragraph','paragraph_counts', 'average_paragraph_length', 'sentence_count',\n",
    "       'total_word_count', 'point_count', 'three_point_count',\n",
    "       'exclamation_count', 'question_mark_count', 'average_word_length',\n",
    "       'average_sentence_length', 'unique_word_in_all_text',\n",
    "       'conjunction_count']] for df in dataframes], ignore_index=True)\n",
    "print(\"Successful\")"
   ]
  },
  {
   "cell_type": "code",
   "execution_count": 17,
   "id": "bd053557",
   "metadata": {
    "execution": {
     "iopub.execute_input": "2024-01-04T12:05:03.559687Z",
     "iopub.status.busy": "2024-01-04T12:05:03.559112Z",
     "iopub.status.idle": "2024-01-04T12:05:03.587806Z",
     "shell.execute_reply": "2024-01-04T12:05:03.586547Z"
    },
    "papermill": {
     "duration": 0.044603,
     "end_time": "2024-01-04T12:05:03.590722",
     "exception": false,
     "start_time": "2024-01-04T12:05:03.546119",
     "status": "completed"
    },
    "tags": []
   },
   "outputs": [
    {
     "data": {
      "text/html": [
       "<div>\n",
       "<style scoped>\n",
       "    .dataframe tbody tr th:only-of-type {\n",
       "        vertical-align: middle;\n",
       "    }\n",
       "\n",
       "    .dataframe tbody tr th {\n",
       "        vertical-align: top;\n",
       "    }\n",
       "\n",
       "    .dataframe thead th {\n",
       "        text-align: right;\n",
       "    }\n",
       "</style>\n",
       "<table border=\"1\" class=\"dataframe\">\n",
       "  <thead>\n",
       "    <tr style=\"text-align: right;\">\n",
       "      <th></th>\n",
       "      <th>text</th>\n",
       "      <th>generated</th>\n",
       "      <th>word_per_paragraph</th>\n",
       "      <th>paragraph_counts</th>\n",
       "      <th>average_paragraph_length</th>\n",
       "      <th>sentence_count</th>\n",
       "      <th>total_word_count</th>\n",
       "      <th>point_count</th>\n",
       "      <th>three_point_count</th>\n",
       "      <th>exclamation_count</th>\n",
       "      <th>question_mark_count</th>\n",
       "      <th>average_word_length</th>\n",
       "      <th>average_sentence_length</th>\n",
       "      <th>unique_word_in_all_text</th>\n",
       "      <th>conjunction_count</th>\n",
       "    </tr>\n",
       "  </thead>\n",
       "  <tbody>\n",
       "    <tr>\n",
       "      <th>0</th>\n",
       "      <td>The electrol college system is an unfair syste...</td>\n",
       "      <td>0</td>\n",
       "      <td>116.400000</td>\n",
       "      <td>5</td>\n",
       "      <td>660.600000</td>\n",
       "      <td>22</td>\n",
       "      <td>580</td>\n",
       "      <td>21</td>\n",
       "      <td>0</td>\n",
       "      <td>0</td>\n",
       "      <td>1</td>\n",
       "      <td>4.565812</td>\n",
       "      <td>26.590909</td>\n",
       "      <td>196</td>\n",
       "      <td>56</td>\n",
       "    </tr>\n",
       "    <tr>\n",
       "      <th>1</th>\n",
       "      <td>Dear state senator, It is the utmost respect t...</td>\n",
       "      <td>0</td>\n",
       "      <td>72.000000</td>\n",
       "      <td>6</td>\n",
       "      <td>423.500000</td>\n",
       "      <td>26</td>\n",
       "      <td>431</td>\n",
       "      <td>24</td>\n",
       "      <td>0</td>\n",
       "      <td>0</td>\n",
       "      <td>2</td>\n",
       "      <td>4.747126</td>\n",
       "      <td>16.730769</td>\n",
       "      <td>192</td>\n",
       "      <td>27</td>\n",
       "    </tr>\n",
       "    <tr>\n",
       "      <th>2</th>\n",
       "      <td>\"It's official: The electoral college is unfai...</td>\n",
       "      <td>0</td>\n",
       "      <td>94.200000</td>\n",
       "      <td>5</td>\n",
       "      <td>539.800000</td>\n",
       "      <td>30</td>\n",
       "      <td>471</td>\n",
       "      <td>24</td>\n",
       "      <td>3</td>\n",
       "      <td>1</td>\n",
       "      <td>4</td>\n",
       "      <td>4.533613</td>\n",
       "      <td>19.833333</td>\n",
       "      <td>197</td>\n",
       "      <td>36</td>\n",
       "    </tr>\n",
       "    <tr>\n",
       "      <th>3</th>\n",
       "      <td>The Electoral College has been kept for centur...</td>\n",
       "      <td>0</td>\n",
       "      <td>113.800000</td>\n",
       "      <td>5</td>\n",
       "      <td>656.400000</td>\n",
       "      <td>24</td>\n",
       "      <td>569</td>\n",
       "      <td>24</td>\n",
       "      <td>0</td>\n",
       "      <td>0</td>\n",
       "      <td>0</td>\n",
       "      <td>4.661996</td>\n",
       "      <td>23.791667</td>\n",
       "      <td>231</td>\n",
       "      <td>42</td>\n",
       "    </tr>\n",
       "    <tr>\n",
       "      <th>4</th>\n",
       "      <td>Dear senator, Retain the Electoral College. Th...</td>\n",
       "      <td>0</td>\n",
       "      <td>88.500000</td>\n",
       "      <td>4</td>\n",
       "      <td>538.250000</td>\n",
       "      <td>22</td>\n",
       "      <td>354</td>\n",
       "      <td>22</td>\n",
       "      <td>0</td>\n",
       "      <td>0</td>\n",
       "      <td>0</td>\n",
       "      <td>4.741935</td>\n",
       "      <td>31.000000</td>\n",
       "      <td>165</td>\n",
       "      <td>23</td>\n",
       "    </tr>\n",
       "    <tr>\n",
       "      <th>...</th>\n",
       "      <td>...</td>\n",
       "      <td>...</td>\n",
       "      <td>...</td>\n",
       "      <td>...</td>\n",
       "      <td>...</td>\n",
       "      <td>...</td>\n",
       "      <td>...</td>\n",
       "      <td>...</td>\n",
       "      <td>...</td>\n",
       "      <td>...</td>\n",
       "      <td>...</td>\n",
       "      <td>...</td>\n",
       "      <td>...</td>\n",
       "      <td>...</td>\n",
       "      <td>...</td>\n",
       "    </tr>\n",
       "    <tr>\n",
       "      <th>27731</th>\n",
       "      <td>Dear Senator,\\n\\nI am writing to you today to ...</td>\n",
       "      <td>1</td>\n",
       "      <td>34.727273</td>\n",
       "      <td>11</td>\n",
       "      <td>201.727273</td>\n",
       "      <td>23</td>\n",
       "      <td>382</td>\n",
       "      <td>22</td>\n",
       "      <td>0</td>\n",
       "      <td>0</td>\n",
       "      <td>0</td>\n",
       "      <td>4.632391</td>\n",
       "      <td>18.523810</td>\n",
       "      <td>173</td>\n",
       "      <td>30</td>\n",
       "    </tr>\n",
       "    <tr>\n",
       "      <th>27732</th>\n",
       "      <td>Dear Senator,\\n\\nI am writing to you today to ...</td>\n",
       "      <td>1</td>\n",
       "      <td>31.909091</td>\n",
       "      <td>11</td>\n",
       "      <td>189.909091</td>\n",
       "      <td>25</td>\n",
       "      <td>351</td>\n",
       "      <td>24</td>\n",
       "      <td>0</td>\n",
       "      <td>0</td>\n",
       "      <td>0</td>\n",
       "      <td>4.829545</td>\n",
       "      <td>14.666667</td>\n",
       "      <td>162</td>\n",
       "      <td>18</td>\n",
       "    </tr>\n",
       "    <tr>\n",
       "      <th>27733</th>\n",
       "      <td>Dear Senator,\\n\\nI am writing to you today to ...</td>\n",
       "      <td>1</td>\n",
       "      <td>34.375000</td>\n",
       "      <td>8</td>\n",
       "      <td>198.125000</td>\n",
       "      <td>17</td>\n",
       "      <td>275</td>\n",
       "      <td>16</td>\n",
       "      <td>0</td>\n",
       "      <td>0</td>\n",
       "      <td>0</td>\n",
       "      <td>4.672727</td>\n",
       "      <td>18.333333</td>\n",
       "      <td>134</td>\n",
       "      <td>19</td>\n",
       "    </tr>\n",
       "    <tr>\n",
       "      <th>27734</th>\n",
       "      <td>Dear Senator,\\n\\nI am writing to you today to ...</td>\n",
       "      <td>1</td>\n",
       "      <td>31.750000</td>\n",
       "      <td>8</td>\n",
       "      <td>180.000000</td>\n",
       "      <td>16</td>\n",
       "      <td>254</td>\n",
       "      <td>15</td>\n",
       "      <td>0</td>\n",
       "      <td>0</td>\n",
       "      <td>0</td>\n",
       "      <td>4.594488</td>\n",
       "      <td>15.875000</td>\n",
       "      <td>120</td>\n",
       "      <td>18</td>\n",
       "    </tr>\n",
       "    <tr>\n",
       "      <th>27735</th>\n",
       "      <td>Dear Senator,\\n\\nI am writing to you today to ...</td>\n",
       "      <td>1</td>\n",
       "      <td>33.250000</td>\n",
       "      <td>12</td>\n",
       "      <td>198.416667</td>\n",
       "      <td>30</td>\n",
       "      <td>399</td>\n",
       "      <td>29</td>\n",
       "      <td>0</td>\n",
       "      <td>0</td>\n",
       "      <td>0</td>\n",
       "      <td>4.884712</td>\n",
       "      <td>13.300000</td>\n",
       "      <td>163</td>\n",
       "      <td>21</td>\n",
       "    </tr>\n",
       "  </tbody>\n",
       "</table>\n",
       "<p>27736 rows × 15 columns</p>\n",
       "</div>"
      ],
      "text/plain": [
       "                                                    text  generated  \\\n",
       "0      The electrol college system is an unfair syste...          0   \n",
       "1      Dear state senator, It is the utmost respect t...          0   \n",
       "2      \"It's official: The electoral college is unfai...          0   \n",
       "3      The Electoral College has been kept for centur...          0   \n",
       "4      Dear senator, Retain the Electoral College. Th...          0   \n",
       "...                                                  ...        ...   \n",
       "27731  Dear Senator,\\n\\nI am writing to you today to ...          1   \n",
       "27732  Dear Senator,\\n\\nI am writing to you today to ...          1   \n",
       "27733  Dear Senator,\\n\\nI am writing to you today to ...          1   \n",
       "27734  Dear Senator,\\n\\nI am writing to you today to ...          1   \n",
       "27735  Dear Senator,\\n\\nI am writing to you today to ...          1   \n",
       "\n",
       "       word_per_paragraph  paragraph_counts  average_paragraph_length  \\\n",
       "0              116.400000                 5                660.600000   \n",
       "1               72.000000                 6                423.500000   \n",
       "2               94.200000                 5                539.800000   \n",
       "3              113.800000                 5                656.400000   \n",
       "4               88.500000                 4                538.250000   \n",
       "...                   ...               ...                       ...   \n",
       "27731           34.727273                11                201.727273   \n",
       "27732           31.909091                11                189.909091   \n",
       "27733           34.375000                 8                198.125000   \n",
       "27734           31.750000                 8                180.000000   \n",
       "27735           33.250000                12                198.416667   \n",
       "\n",
       "       sentence_count  total_word_count  point_count  three_point_count  \\\n",
       "0                  22               580           21                  0   \n",
       "1                  26               431           24                  0   \n",
       "2                  30               471           24                  3   \n",
       "3                  24               569           24                  0   \n",
       "4                  22               354           22                  0   \n",
       "...               ...               ...          ...                ...   \n",
       "27731              23               382           22                  0   \n",
       "27732              25               351           24                  0   \n",
       "27733              17               275           16                  0   \n",
       "27734              16               254           15                  0   \n",
       "27735              30               399           29                  0   \n",
       "\n",
       "       exclamation_count  question_mark_count  average_word_length  \\\n",
       "0                      0                    1             4.565812   \n",
       "1                      0                    2             4.747126   \n",
       "2                      1                    4             4.533613   \n",
       "3                      0                    0             4.661996   \n",
       "4                      0                    0             4.741935   \n",
       "...                  ...                  ...                  ...   \n",
       "27731                  0                    0             4.632391   \n",
       "27732                  0                    0             4.829545   \n",
       "27733                  0                    0             4.672727   \n",
       "27734                  0                    0             4.594488   \n",
       "27735                  0                    0             4.884712   \n",
       "\n",
       "       average_sentence_length  unique_word_in_all_text  conjunction_count  \n",
       "0                    26.590909                      196                 56  \n",
       "1                    16.730769                      192                 27  \n",
       "2                    19.833333                      197                 36  \n",
       "3                    23.791667                      231                 42  \n",
       "4                    31.000000                      165                 23  \n",
       "...                        ...                      ...                ...  \n",
       "27731                18.523810                      173                 30  \n",
       "27732                14.666667                      162                 18  \n",
       "27733                18.333333                      134                 19  \n",
       "27734                15.875000                      120                 18  \n",
       "27735                13.300000                      163                 21  \n",
       "\n",
       "[27736 rows x 15 columns]"
      ]
     },
     "execution_count": 17,
     "metadata": {},
     "output_type": "execute_result"
    }
   ],
   "source": [
    "one_piece"
   ]
  },
  {
   "cell_type": "markdown",
   "id": "a7fb3ff8",
   "metadata": {
    "papermill": {
     "duration": 0.011158,
     "end_time": "2024-01-04T12:05:03.612882",
     "exception": false,
     "start_time": "2024-01-04T12:05:03.601724",
     "status": "completed"
    },
    "tags": []
   },
   "source": [
    "# İlk model, Ya Allah, Bismillah"
   ]
  },
  {
   "cell_type": "code",
   "execution_count": 18,
   "id": "39a40074",
   "metadata": {
    "execution": {
     "iopub.execute_input": "2024-01-04T12:05:03.636686Z",
     "iopub.status.busy": "2024-01-04T12:05:03.636050Z",
     "iopub.status.idle": "2024-01-04T12:05:05.460411Z",
     "shell.execute_reply": "2024-01-04T12:05:05.459647Z"
    },
    "papermill": {
     "duration": 1.839049,
     "end_time": "2024-01-04T12:05:05.462933",
     "exception": false,
     "start_time": "2024-01-04T12:05:03.623884",
     "status": "completed"
    },
    "tags": []
   },
   "outputs": [
    {
     "name": "stdout",
     "output_type": "stream",
     "text": [
      "Train ROC-AUC Score: 0.959149038101703\n",
      "Test ROC-AUC Score: 0.9565567603106712\n"
     ]
    }
   ],
   "source": [
    "from sklearn.linear_model import LogisticRegression\n",
    "from sklearn.model_selection import train_test_split\n",
    "from sklearn.metrics import roc_auc_score\n",
    "from sklearn.pipeline import make_pipeline\n",
    "from sklearn.preprocessing import StandardScaler\n",
    "\n",
    "# X ve y'yi seçiyorum\n",
    "y = one_piece['generated']  # 'generated' sütunu y değeri\n",
    "X = one_piece.drop(['text', 'generated'], axis=1)  # 'text' ve 'generated' sütunlarını çıkart\n",
    "\n",
    "# Veri setini eğitim ve test setlerine ayırın\n",
    "X_train, X_test, y_train, y_test = train_test_split(X, y, test_size=0.2, random_state=42)\n",
    "\n",
    "model = make_pipeline(StandardScaler(), LogisticRegression(max_iter=1000, random_state=42))\n",
    "\n",
    "# Modeli eğitin\n",
    "model.fit(X_train, y_train)\n",
    "\n",
    "# Eğitim veri seti üzerinde tahmin yapın\n",
    "train_predictions = model.predict_proba(X_train)[:, 1]\n",
    "\n",
    "# Test veri seti üzerinde tahmin yapın\n",
    "test_predictions = model.predict_proba(X_test)[:, 1]\n",
    "\n",
    "# ROC-AUC skorlarını değerlendirin\n",
    "train_roc_auc = roc_auc_score(y_train, train_predictions)\n",
    "test_roc_auc = roc_auc_score(y_test, test_predictions)\n",
    "\n",
    "print(f\"Train ROC-AUC Score: {train_roc_auc}\")\n",
    "print(f\"Test ROC-AUC Score: {test_roc_auc}\")"
   ]
  },
  {
   "cell_type": "code",
   "execution_count": 19,
   "id": "f96aac02",
   "metadata": {
    "execution": {
     "iopub.execute_input": "2024-01-04T12:05:05.493191Z",
     "iopub.status.busy": "2024-01-04T12:05:05.492297Z",
     "iopub.status.idle": "2024-01-04T12:05:05.501298Z",
     "shell.execute_reply": "2024-01-04T12:05:05.500468Z"
    },
    "papermill": {
     "duration": 0.026327,
     "end_time": "2024-01-04T12:05:05.503411",
     "exception": false,
     "start_time": "2024-01-04T12:05:05.477084",
     "status": "completed"
    },
    "tags": []
   },
   "outputs": [],
   "source": [
    "# Test seti üzerinde tahmin yapın\n",
    "y_pred = model.predict(X_test)"
   ]
  },
  {
   "cell_type": "code",
   "execution_count": 20,
   "id": "fd4b347f",
   "metadata": {
    "execution": {
     "iopub.execute_input": "2024-01-04T12:05:05.536505Z",
     "iopub.status.busy": "2024-01-04T12:05:05.535392Z",
     "iopub.status.idle": "2024-01-04T12:05:05.541681Z",
     "shell.execute_reply": "2024-01-04T12:05:05.540914Z"
    },
    "papermill": {
     "duration": 0.028156,
     "end_time": "2024-01-04T12:05:05.547102",
     "exception": false,
     "start_time": "2024-01-04T12:05:05.518946",
     "status": "completed"
    },
    "tags": []
   },
   "outputs": [
    {
     "data": {
      "text/plain": [
       "array([0, 1, 1, ..., 1, 1, 1])"
      ]
     },
     "execution_count": 20,
     "metadata": {},
     "output_type": "execute_result"
    }
   ],
   "source": [
    "y_pred"
   ]
  },
  {
   "cell_type": "code",
   "execution_count": 21,
   "id": "1899f908",
   "metadata": {
    "execution": {
     "iopub.execute_input": "2024-01-04T12:05:05.576196Z",
     "iopub.status.busy": "2024-01-04T12:05:05.575871Z",
     "iopub.status.idle": "2024-01-04T12:05:05.606160Z",
     "shell.execute_reply": "2024-01-04T12:05:05.605380Z"
    },
    "papermill": {
     "duration": 0.047134,
     "end_time": "2024-01-04T12:05:05.608380",
     "exception": false,
     "start_time": "2024-01-04T12:05:05.561246",
     "status": "completed"
    },
    "tags": []
   },
   "outputs": [
    {
     "name": "stdout",
     "output_type": "stream",
     "text": [
      "ROC: 0.9565567603106712\n",
      "f1: 0.8921239268383726\n",
      "recall: 0.8874860750092833\n",
      "precision: 0.8968105065666041\n",
      "accuracy: 0.8958183129055516\n"
     ]
    }
   ],
   "source": [
    "from sklearn.metrics import accuracy_score, precision_score, recall_score, f1_score, roc_auc_score\n",
    "\n",
    "# Doğruluk (accuracy)\n",
    "accuracy = accuracy_score(y_test, y_pred)\n",
    "\n",
    "# Hassasiyet (precision)\n",
    "precision = precision_score(y_test, y_pred)\n",
    "\n",
    "# Duyarlılık (recall)\n",
    "recall = recall_score(y_test, y_pred)\n",
    "\n",
    "# F1 Skoru\n",
    "f1 = f1_score(y_test, y_pred)\n",
    "\n",
    "# ROC-AUC Skoru (sadece ikili sınıflandırma modelleri için)\n",
    "roc_auc = roc_auc_score(y_test, model.predict_proba(X_test)[:, 1])\n",
    "\n",
    "print(\"ROC:\", roc_auc)\n",
    "print(\"f1:\", f1)\n",
    "print(\"recall:\", recall)\n",
    "print(\"precision:\", precision)\n",
    "print(\"accuracy:\", accuracy)"
   ]
  },
  {
   "cell_type": "code",
   "execution_count": 22,
   "id": "1b3d1a9b",
   "metadata": {
    "execution": {
     "iopub.execute_input": "2024-01-04T12:05:05.637617Z",
     "iopub.status.busy": "2024-01-04T12:05:05.637239Z",
     "iopub.status.idle": "2024-01-04T12:05:05.648903Z",
     "shell.execute_reply": "2024-01-04T12:05:05.648157Z"
    },
    "papermill": {
     "duration": 0.029378,
     "end_time": "2024-01-04T12:05:05.651899",
     "exception": false,
     "start_time": "2024-01-04T12:05:05.622521",
     "status": "completed"
    },
    "tags": []
   },
   "outputs": [
    {
     "name": "stdout",
     "output_type": "stream",
     "text": [
      "Mean Squared Error: 0.10418168709444844\n",
      "R2 Score: 0.5829176375411896\n"
     ]
    }
   ],
   "source": [
    "from sklearn.metrics import mean_squared_error, r2_score\n",
    "\n",
    "# Modelin tahminleri\n",
    "test_predictions = model.predict(X_test)\n",
    "\n",
    "# Regresyon metriklerini kullanma\n",
    "mse = mean_squared_error(y_test, test_predictions)\n",
    "r2 = r2_score(y_test, test_predictions)\n",
    "\n",
    "print(\"Mean Squared Error:\", mse)\n",
    "print(\"R2 Score:\", r2)"
   ]
  },
  {
   "cell_type": "markdown",
   "id": "fa398c20",
   "metadata": {
    "papermill": {
     "duration": 0.013271,
     "end_time": "2024-01-04T12:05:05.679137",
     "exception": false,
     "start_time": "2024-01-04T12:05:05.665866",
     "status": "completed"
    },
    "tags": []
   },
   "source": [
    "### Modele kendin tahmin yaptırmak istersen."
   ]
  },
  {
   "cell_type": "code",
   "execution_count": 23,
   "id": "d6862f53",
   "metadata": {
    "execution": {
     "iopub.execute_input": "2024-01-04T12:05:05.707985Z",
     "iopub.status.busy": "2024-01-04T12:05:05.707638Z",
     "iopub.status.idle": "2024-01-04T12:05:05.722373Z",
     "shell.execute_reply": "2024-01-04T12:05:05.721588Z"
    },
    "papermill": {
     "duration": 0.033025,
     "end_time": "2024-01-04T12:05:05.725814",
     "exception": false,
     "start_time": "2024-01-04T12:05:05.692789",
     "status": "completed"
    },
    "tags": []
   },
   "outputs": [
    {
     "name": "stdout",
     "output_type": "stream",
     "text": [
      "Predicted Class: [1]\n",
      "Class Probabilities: [[0. 1.]]\n"
     ]
    }
   ],
   "source": [
    "# Manuel olarak tahminler yapın\n",
    "manual_X = pd.DataFrame({'word_per_paragraph': [100],\n",
    "                         'paragraph_counts': [100], \n",
    "                         'average_paragraph_length': [100], \n",
    "                         'sentence_count': [100],\n",
    "                         'total_word_count': [6], \n",
    "                         'point_count': [100], \n",
    "                         'three_point_count': [6],\n",
    "                         'exclamation_count': [5000],\n",
    "                         'question_mark_count': [6],\n",
    "                         'average_word_length': [6],\n",
    "                         'average_sentence_length': [100],\n",
    "                         'unique_word_in_all_text': [6],\n",
    "                         'conjunction_count': [6]\n",
    "})\n",
    "\n",
    "# predict metodu kullanarak sınıflandırma tahminleri yapma\n",
    "predicted_class = model.predict(manual_X)\n",
    "\n",
    "# predict_proba metodu kullanarak sınıf olasılıklarını alma (sadece sınıflandırma modellerinde)\n",
    "class_probabilities = model.predict_proba(manual_X)\n",
    "\n",
    "print(\"Predicted Class:\", predicted_class)\n",
    "print(\"Class Probabilities:\", class_probabilities)"
   ]
  },
  {
   "cell_type": "markdown",
   "id": "2fcdefeb",
   "metadata": {
    "papermill": {
     "duration": 0.013182,
     "end_time": "2024-01-04T12:05:05.753369",
     "exception": false,
     "start_time": "2024-01-04T12:05:05.740187",
     "status": "completed"
    },
    "tags": []
   },
   "source": [
    "# Test verisine uygulama ve submission"
   ]
  },
  {
   "cell_type": "code",
   "execution_count": 24,
   "id": "fd425800",
   "metadata": {
    "execution": {
     "iopub.execute_input": "2024-01-04T12:05:05.778380Z",
     "iopub.status.busy": "2024-01-04T12:05:05.778047Z",
     "iopub.status.idle": "2024-01-04T12:05:05.783185Z",
     "shell.execute_reply": "2024-01-04T12:05:05.782317Z"
    },
    "papermill": {
     "duration": 0.018986,
     "end_time": "2024-01-04T12:05:05.785010",
     "exception": false,
     "start_time": "2024-01-04T12:05:05.766024",
     "status": "completed"
    },
    "tags": []
   },
   "outputs": [],
   "source": [
    "z = test_essays[['id']].copy()"
   ]
  },
  {
   "cell_type": "code",
   "execution_count": 25,
   "id": "ad54562a",
   "metadata": {
    "execution": {
     "iopub.execute_input": "2024-01-04T12:05:05.809005Z",
     "iopub.status.busy": "2024-01-04T12:05:05.808372Z",
     "iopub.status.idle": "2024-01-04T12:05:05.813027Z",
     "shell.execute_reply": "2024-01-04T12:05:05.812373Z"
    },
    "papermill": {
     "duration": 0.018567,
     "end_time": "2024-01-04T12:05:05.814863",
     "exception": false,
     "start_time": "2024-01-04T12:05:05.796296",
     "status": "completed"
    },
    "tags": []
   },
   "outputs": [],
   "source": [
    "# 'generated' sütununu ekleyin ve rastgele boş sayılarla doldurun\n",
    "z['generated'] = np.random.rand(len(z))"
   ]
  },
  {
   "cell_type": "code",
   "execution_count": 26,
   "id": "a2d45b27",
   "metadata": {
    "execution": {
     "iopub.execute_input": "2024-01-04T12:05:05.839092Z",
     "iopub.status.busy": "2024-01-04T12:05:05.838467Z",
     "iopub.status.idle": "2024-01-04T12:05:05.849235Z",
     "shell.execute_reply": "2024-01-04T12:05:05.847826Z"
    },
    "papermill": {
     "duration": 0.025627,
     "end_time": "2024-01-04T12:05:05.851805",
     "exception": false,
     "start_time": "2024-01-04T12:05:05.826178",
     "status": "completed"
    },
    "tags": []
   },
   "outputs": [
    {
     "data": {
      "text/html": [
       "<div>\n",
       "<style scoped>\n",
       "    .dataframe tbody tr th:only-of-type {\n",
       "        vertical-align: middle;\n",
       "    }\n",
       "\n",
       "    .dataframe tbody tr th {\n",
       "        vertical-align: top;\n",
       "    }\n",
       "\n",
       "    .dataframe thead th {\n",
       "        text-align: right;\n",
       "    }\n",
       "</style>\n",
       "<table border=\"1\" class=\"dataframe\">\n",
       "  <thead>\n",
       "    <tr style=\"text-align: right;\">\n",
       "      <th></th>\n",
       "      <th>id</th>\n",
       "      <th>generated</th>\n",
       "    </tr>\n",
       "  </thead>\n",
       "  <tbody>\n",
       "    <tr>\n",
       "      <th>0</th>\n",
       "      <td>0000aaaa</td>\n",
       "      <td>0.010756</td>\n",
       "    </tr>\n",
       "    <tr>\n",
       "      <th>1</th>\n",
       "      <td>1111bbbb</td>\n",
       "      <td>0.352186</td>\n",
       "    </tr>\n",
       "    <tr>\n",
       "      <th>2</th>\n",
       "      <td>2222cccc</td>\n",
       "      <td>0.965760</td>\n",
       "    </tr>\n",
       "  </tbody>\n",
       "</table>\n",
       "</div>"
      ],
      "text/plain": [
       "         id  generated\n",
       "0  0000aaaa   0.010756\n",
       "1  1111bbbb   0.352186\n",
       "2  2222cccc   0.965760"
      ]
     },
     "execution_count": 26,
     "metadata": {},
     "output_type": "execute_result"
    }
   ],
   "source": [
    "z"
   ]
  },
  {
   "cell_type": "code",
   "execution_count": 27,
   "id": "4f421b98",
   "metadata": {
    "execution": {
     "iopub.execute_input": "2024-01-04T12:05:05.877378Z",
     "iopub.status.busy": "2024-01-04T12:05:05.876960Z",
     "iopub.status.idle": "2024-01-04T12:05:05.885207Z",
     "shell.execute_reply": "2024-01-04T12:05:05.884486Z"
    },
    "papermill": {
     "duration": 0.023451,
     "end_time": "2024-01-04T12:05:05.887271",
     "exception": false,
     "start_time": "2024-01-04T12:05:05.863820",
     "status": "completed"
    },
    "tags": []
   },
   "outputs": [],
   "source": [
    "# Test veri setini yükleyin veya oluşturun\n",
    "# X_test'i tanımlayın\n",
    "\n",
    "# Model ile tahmin yapın\n",
    "predictions = model.predict_proba(X_test)[:, 1]"
   ]
  },
  {
   "cell_type": "code",
   "execution_count": 28,
   "id": "b51f20cb",
   "metadata": {
    "execution": {
     "iopub.execute_input": "2024-01-04T12:05:05.918473Z",
     "iopub.status.busy": "2024-01-04T12:05:05.918036Z",
     "iopub.status.idle": "2024-01-04T12:05:05.925549Z",
     "shell.execute_reply": "2024-01-04T12:05:05.924859Z"
    },
    "papermill": {
     "duration": 0.025388,
     "end_time": "2024-01-04T12:05:05.927496",
     "exception": false,
     "start_time": "2024-01-04T12:05:05.902108",
     "status": "completed"
    },
    "tags": []
   },
   "outputs": [
    {
     "data": {
      "text/plain": [
       "0        0\n",
       "1        0\n",
       "2        0\n",
       "3        0\n",
       "4        0\n",
       "        ..\n",
       "27731    1\n",
       "27732    1\n",
       "27733    1\n",
       "27734    1\n",
       "27735    1\n",
       "Name: generated, Length: 27736, dtype: int64"
      ]
     },
     "execution_count": 28,
     "metadata": {},
     "output_type": "execute_result"
    }
   ],
   "source": [
    "y"
   ]
  },
  {
   "cell_type": "code",
   "execution_count": 29,
   "id": "ae6927a1",
   "metadata": {
    "execution": {
     "iopub.execute_input": "2024-01-04T12:05:05.958254Z",
     "iopub.status.busy": "2024-01-04T12:05:05.957909Z",
     "iopub.status.idle": "2024-01-04T12:05:05.966377Z",
     "shell.execute_reply": "2024-01-04T12:05:05.965687Z"
    },
    "papermill": {
     "duration": 0.026648,
     "end_time": "2024-01-04T12:05:05.968740",
     "exception": false,
     "start_time": "2024-01-04T12:05:05.942092",
     "status": "completed"
    },
    "tags": []
   },
   "outputs": [
    {
     "data": {
      "text/html": [
       "<div>\n",
       "<style scoped>\n",
       "    .dataframe tbody tr th:only-of-type {\n",
       "        vertical-align: middle;\n",
       "    }\n",
       "\n",
       "    .dataframe tbody tr th {\n",
       "        vertical-align: top;\n",
       "    }\n",
       "\n",
       "    .dataframe thead th {\n",
       "        text-align: right;\n",
       "    }\n",
       "</style>\n",
       "<table border=\"1\" class=\"dataframe\">\n",
       "  <thead>\n",
       "    <tr style=\"text-align: right;\">\n",
       "      <th></th>\n",
       "      <th>id</th>\n",
       "      <th>generated</th>\n",
       "    </tr>\n",
       "  </thead>\n",
       "  <tbody>\n",
       "    <tr>\n",
       "      <th>0</th>\n",
       "      <td>0000aaaa</td>\n",
       "      <td>0.1</td>\n",
       "    </tr>\n",
       "    <tr>\n",
       "      <th>1</th>\n",
       "      <td>1111bbbb</td>\n",
       "      <td>0.9</td>\n",
       "    </tr>\n",
       "    <tr>\n",
       "      <th>2</th>\n",
       "      <td>2222cccc</td>\n",
       "      <td>0.4</td>\n",
       "    </tr>\n",
       "  </tbody>\n",
       "</table>\n",
       "</div>"
      ],
      "text/plain": [
       "         id  generated\n",
       "0  0000aaaa        0.1\n",
       "1  1111bbbb        0.9\n",
       "2  2222cccc        0.4"
      ]
     },
     "execution_count": 29,
     "metadata": {},
     "output_type": "execute_result"
    }
   ],
   "source": [
    "sub"
   ]
  },
  {
   "cell_type": "code",
   "execution_count": 30,
   "id": "4dd46868",
   "metadata": {
    "execution": {
     "iopub.execute_input": "2024-01-04T12:05:06.001085Z",
     "iopub.status.busy": "2024-01-04T12:05:06.000739Z",
     "iopub.status.idle": "2024-01-04T12:05:06.017701Z",
     "shell.execute_reply": "2024-01-04T12:05:06.016606Z"
    },
    "papermill": {
     "duration": 0.036134,
     "end_time": "2024-01-04T12:05:06.019693",
     "exception": false,
     "start_time": "2024-01-04T12:05:05.983559",
     "status": "completed"
    },
    "tags": []
   },
   "outputs": [
    {
     "data": {
      "text/html": [
       "<div>\n",
       "<style scoped>\n",
       "    .dataframe tbody tr th:only-of-type {\n",
       "        vertical-align: middle;\n",
       "    }\n",
       "\n",
       "    .dataframe tbody tr th {\n",
       "        vertical-align: top;\n",
       "    }\n",
       "\n",
       "    .dataframe thead th {\n",
       "        text-align: right;\n",
       "    }\n",
       "</style>\n",
       "<table border=\"1\" class=\"dataframe\">\n",
       "  <thead>\n",
       "    <tr style=\"text-align: right;\">\n",
       "      <th></th>\n",
       "      <th>word_per_paragraph</th>\n",
       "      <th>paragraph_counts</th>\n",
       "      <th>average_paragraph_length</th>\n",
       "      <th>sentence_count</th>\n",
       "      <th>total_word_count</th>\n",
       "      <th>point_count</th>\n",
       "      <th>three_point_count</th>\n",
       "      <th>exclamation_count</th>\n",
       "      <th>question_mark_count</th>\n",
       "      <th>average_word_length</th>\n",
       "      <th>average_sentence_length</th>\n",
       "      <th>unique_word_in_all_text</th>\n",
       "      <th>conjunction_count</th>\n",
       "    </tr>\n",
       "  </thead>\n",
       "  <tbody>\n",
       "    <tr>\n",
       "      <th>0</th>\n",
       "      <td>116.400000</td>\n",
       "      <td>5</td>\n",
       "      <td>660.600000</td>\n",
       "      <td>22</td>\n",
       "      <td>580</td>\n",
       "      <td>21</td>\n",
       "      <td>0</td>\n",
       "      <td>0</td>\n",
       "      <td>1</td>\n",
       "      <td>4.565812</td>\n",
       "      <td>26.590909</td>\n",
       "      <td>196</td>\n",
       "      <td>56</td>\n",
       "    </tr>\n",
       "    <tr>\n",
       "      <th>1</th>\n",
       "      <td>72.000000</td>\n",
       "      <td>6</td>\n",
       "      <td>423.500000</td>\n",
       "      <td>26</td>\n",
       "      <td>431</td>\n",
       "      <td>24</td>\n",
       "      <td>0</td>\n",
       "      <td>0</td>\n",
       "      <td>2</td>\n",
       "      <td>4.747126</td>\n",
       "      <td>16.730769</td>\n",
       "      <td>192</td>\n",
       "      <td>27</td>\n",
       "    </tr>\n",
       "    <tr>\n",
       "      <th>2</th>\n",
       "      <td>94.200000</td>\n",
       "      <td>5</td>\n",
       "      <td>539.800000</td>\n",
       "      <td>30</td>\n",
       "      <td>471</td>\n",
       "      <td>24</td>\n",
       "      <td>3</td>\n",
       "      <td>1</td>\n",
       "      <td>4</td>\n",
       "      <td>4.533613</td>\n",
       "      <td>19.833333</td>\n",
       "      <td>197</td>\n",
       "      <td>36</td>\n",
       "    </tr>\n",
       "    <tr>\n",
       "      <th>3</th>\n",
       "      <td>113.800000</td>\n",
       "      <td>5</td>\n",
       "      <td>656.400000</td>\n",
       "      <td>24</td>\n",
       "      <td>569</td>\n",
       "      <td>24</td>\n",
       "      <td>0</td>\n",
       "      <td>0</td>\n",
       "      <td>0</td>\n",
       "      <td>4.661996</td>\n",
       "      <td>23.791667</td>\n",
       "      <td>231</td>\n",
       "      <td>42</td>\n",
       "    </tr>\n",
       "    <tr>\n",
       "      <th>4</th>\n",
       "      <td>88.500000</td>\n",
       "      <td>4</td>\n",
       "      <td>538.250000</td>\n",
       "      <td>22</td>\n",
       "      <td>354</td>\n",
       "      <td>22</td>\n",
       "      <td>0</td>\n",
       "      <td>0</td>\n",
       "      <td>0</td>\n",
       "      <td>4.741935</td>\n",
       "      <td>31.000000</td>\n",
       "      <td>165</td>\n",
       "      <td>23</td>\n",
       "    </tr>\n",
       "    <tr>\n",
       "      <th>...</th>\n",
       "      <td>...</td>\n",
       "      <td>...</td>\n",
       "      <td>...</td>\n",
       "      <td>...</td>\n",
       "      <td>...</td>\n",
       "      <td>...</td>\n",
       "      <td>...</td>\n",
       "      <td>...</td>\n",
       "      <td>...</td>\n",
       "      <td>...</td>\n",
       "      <td>...</td>\n",
       "      <td>...</td>\n",
       "      <td>...</td>\n",
       "    </tr>\n",
       "    <tr>\n",
       "      <th>27731</th>\n",
       "      <td>34.727273</td>\n",
       "      <td>11</td>\n",
       "      <td>201.727273</td>\n",
       "      <td>23</td>\n",
       "      <td>382</td>\n",
       "      <td>22</td>\n",
       "      <td>0</td>\n",
       "      <td>0</td>\n",
       "      <td>0</td>\n",
       "      <td>4.632391</td>\n",
       "      <td>18.523810</td>\n",
       "      <td>173</td>\n",
       "      <td>30</td>\n",
       "    </tr>\n",
       "    <tr>\n",
       "      <th>27732</th>\n",
       "      <td>31.909091</td>\n",
       "      <td>11</td>\n",
       "      <td>189.909091</td>\n",
       "      <td>25</td>\n",
       "      <td>351</td>\n",
       "      <td>24</td>\n",
       "      <td>0</td>\n",
       "      <td>0</td>\n",
       "      <td>0</td>\n",
       "      <td>4.829545</td>\n",
       "      <td>14.666667</td>\n",
       "      <td>162</td>\n",
       "      <td>18</td>\n",
       "    </tr>\n",
       "    <tr>\n",
       "      <th>27733</th>\n",
       "      <td>34.375000</td>\n",
       "      <td>8</td>\n",
       "      <td>198.125000</td>\n",
       "      <td>17</td>\n",
       "      <td>275</td>\n",
       "      <td>16</td>\n",
       "      <td>0</td>\n",
       "      <td>0</td>\n",
       "      <td>0</td>\n",
       "      <td>4.672727</td>\n",
       "      <td>18.333333</td>\n",
       "      <td>134</td>\n",
       "      <td>19</td>\n",
       "    </tr>\n",
       "    <tr>\n",
       "      <th>27734</th>\n",
       "      <td>31.750000</td>\n",
       "      <td>8</td>\n",
       "      <td>180.000000</td>\n",
       "      <td>16</td>\n",
       "      <td>254</td>\n",
       "      <td>15</td>\n",
       "      <td>0</td>\n",
       "      <td>0</td>\n",
       "      <td>0</td>\n",
       "      <td>4.594488</td>\n",
       "      <td>15.875000</td>\n",
       "      <td>120</td>\n",
       "      <td>18</td>\n",
       "    </tr>\n",
       "    <tr>\n",
       "      <th>27735</th>\n",
       "      <td>33.250000</td>\n",
       "      <td>12</td>\n",
       "      <td>198.416667</td>\n",
       "      <td>30</td>\n",
       "      <td>399</td>\n",
       "      <td>29</td>\n",
       "      <td>0</td>\n",
       "      <td>0</td>\n",
       "      <td>0</td>\n",
       "      <td>4.884712</td>\n",
       "      <td>13.300000</td>\n",
       "      <td>163</td>\n",
       "      <td>21</td>\n",
       "    </tr>\n",
       "  </tbody>\n",
       "</table>\n",
       "<p>27736 rows × 13 columns</p>\n",
       "</div>"
      ],
      "text/plain": [
       "       word_per_paragraph  paragraph_counts  average_paragraph_length  \\\n",
       "0              116.400000                 5                660.600000   \n",
       "1               72.000000                 6                423.500000   \n",
       "2               94.200000                 5                539.800000   \n",
       "3              113.800000                 5                656.400000   \n",
       "4               88.500000                 4                538.250000   \n",
       "...                   ...               ...                       ...   \n",
       "27731           34.727273                11                201.727273   \n",
       "27732           31.909091                11                189.909091   \n",
       "27733           34.375000                 8                198.125000   \n",
       "27734           31.750000                 8                180.000000   \n",
       "27735           33.250000                12                198.416667   \n",
       "\n",
       "       sentence_count  total_word_count  point_count  three_point_count  \\\n",
       "0                  22               580           21                  0   \n",
       "1                  26               431           24                  0   \n",
       "2                  30               471           24                  3   \n",
       "3                  24               569           24                  0   \n",
       "4                  22               354           22                  0   \n",
       "...               ...               ...          ...                ...   \n",
       "27731              23               382           22                  0   \n",
       "27732              25               351           24                  0   \n",
       "27733              17               275           16                  0   \n",
       "27734              16               254           15                  0   \n",
       "27735              30               399           29                  0   \n",
       "\n",
       "       exclamation_count  question_mark_count  average_word_length  \\\n",
       "0                      0                    1             4.565812   \n",
       "1                      0                    2             4.747126   \n",
       "2                      1                    4             4.533613   \n",
       "3                      0                    0             4.661996   \n",
       "4                      0                    0             4.741935   \n",
       "...                  ...                  ...                  ...   \n",
       "27731                  0                    0             4.632391   \n",
       "27732                  0                    0             4.829545   \n",
       "27733                  0                    0             4.672727   \n",
       "27734                  0                    0             4.594488   \n",
       "27735                  0                    0             4.884712   \n",
       "\n",
       "       average_sentence_length  unique_word_in_all_text  conjunction_count  \n",
       "0                    26.590909                      196                 56  \n",
       "1                    16.730769                      192                 27  \n",
       "2                    19.833333                      197                 36  \n",
       "3                    23.791667                      231                 42  \n",
       "4                    31.000000                      165                 23  \n",
       "...                        ...                      ...                ...  \n",
       "27731                18.523810                      173                 30  \n",
       "27732                14.666667                      162                 18  \n",
       "27733                18.333333                      134                 19  \n",
       "27734                15.875000                      120                 18  \n",
       "27735                13.300000                      163                 21  \n",
       "\n",
       "[27736 rows x 13 columns]"
      ]
     },
     "execution_count": 30,
     "metadata": {},
     "output_type": "execute_result"
    }
   ],
   "source": [
    "X"
   ]
  },
  {
   "cell_type": "markdown",
   "id": "daeb12be",
   "metadata": {
    "papermill": {
     "duration": 0.012421,
     "end_time": "2024-01-04T12:05:06.044023",
     "exception": false,
     "start_time": "2024-01-04T12:05:06.031602",
     "status": "completed"
    },
    "tags": []
   },
   "source": [
    "# Beynim yandı dur"
   ]
  },
  {
   "cell_type": "code",
   "execution_count": 31,
   "id": "c0d58d70",
   "metadata": {
    "execution": {
     "iopub.execute_input": "2024-01-04T12:05:06.069641Z",
     "iopub.status.busy": "2024-01-04T12:05:06.069243Z",
     "iopub.status.idle": "2024-01-04T12:05:06.075122Z",
     "shell.execute_reply": "2024-01-04T12:05:06.073959Z"
    },
    "papermill": {
     "duration": 0.020996,
     "end_time": "2024-01-04T12:05:06.077135",
     "exception": false,
     "start_time": "2024-01-04T12:05:06.056139",
     "status": "completed"
    },
    "tags": []
   },
   "outputs": [],
   "source": [
    "# final_test = pd.read_csv('/kaggle/input/llm-detect-ai-generated-text/test_essays.csv')\n",
    "# final_test\n",
    "z = test_essays.drop(['text', 'prompt_id','id',], axis=1)  # 'text' ve 'generated' sütunlarını çıkart"
   ]
  },
  {
   "cell_type": "code",
   "execution_count": 32,
   "id": "2a300578",
   "metadata": {
    "execution": {
     "iopub.execute_input": "2024-01-04T12:05:06.104711Z",
     "iopub.status.busy": "2024-01-04T12:05:06.104025Z",
     "iopub.status.idle": "2024-01-04T12:05:06.118863Z",
     "shell.execute_reply": "2024-01-04T12:05:06.117247Z"
    },
    "papermill": {
     "duration": 0.031506,
     "end_time": "2024-01-04T12:05:06.121416",
     "exception": false,
     "start_time": "2024-01-04T12:05:06.089910",
     "status": "completed"
    },
    "tags": []
   },
   "outputs": [
    {
     "data": {
      "text/html": [
       "<div>\n",
       "<style scoped>\n",
       "    .dataframe tbody tr th:only-of-type {\n",
       "        vertical-align: middle;\n",
       "    }\n",
       "\n",
       "    .dataframe tbody tr th {\n",
       "        vertical-align: top;\n",
       "    }\n",
       "\n",
       "    .dataframe thead th {\n",
       "        text-align: right;\n",
       "    }\n",
       "</style>\n",
       "<table border=\"1\" class=\"dataframe\">\n",
       "  <thead>\n",
       "    <tr style=\"text-align: right;\">\n",
       "      <th></th>\n",
       "      <th>word_per_paragraph</th>\n",
       "      <th>paragraph_counts</th>\n",
       "      <th>average_paragraph_length</th>\n",
       "      <th>sentence_count</th>\n",
       "      <th>total_word_count</th>\n",
       "      <th>point_count</th>\n",
       "      <th>three_point_count</th>\n",
       "      <th>exclamation_count</th>\n",
       "      <th>question_mark_count</th>\n",
       "      <th>average_word_length</th>\n",
       "      <th>average_sentence_length</th>\n",
       "      <th>unique_word_in_all_text</th>\n",
       "      <th>conjunction_count</th>\n",
       "    </tr>\n",
       "  </thead>\n",
       "  <tbody>\n",
       "    <tr>\n",
       "      <th>0</th>\n",
       "      <td>3.0</td>\n",
       "      <td>1</td>\n",
       "      <td>12.0</td>\n",
       "      <td>1</td>\n",
       "      <td>3</td>\n",
       "      <td>1</td>\n",
       "      <td>0</td>\n",
       "      <td>0</td>\n",
       "      <td>0</td>\n",
       "      <td>3.0</td>\n",
       "      <td>3.0</td>\n",
       "      <td>3</td>\n",
       "      <td>0</td>\n",
       "    </tr>\n",
       "    <tr>\n",
       "      <th>1</th>\n",
       "      <td>3.0</td>\n",
       "      <td>1</td>\n",
       "      <td>12.0</td>\n",
       "      <td>1</td>\n",
       "      <td>3</td>\n",
       "      <td>1</td>\n",
       "      <td>0</td>\n",
       "      <td>0</td>\n",
       "      <td>0</td>\n",
       "      <td>3.0</td>\n",
       "      <td>3.0</td>\n",
       "      <td>3</td>\n",
       "      <td>0</td>\n",
       "    </tr>\n",
       "    <tr>\n",
       "      <th>2</th>\n",
       "      <td>3.0</td>\n",
       "      <td>1</td>\n",
       "      <td>12.0</td>\n",
       "      <td>1</td>\n",
       "      <td>3</td>\n",
       "      <td>1</td>\n",
       "      <td>0</td>\n",
       "      <td>0</td>\n",
       "      <td>0</td>\n",
       "      <td>3.0</td>\n",
       "      <td>3.0</td>\n",
       "      <td>3</td>\n",
       "      <td>0</td>\n",
       "    </tr>\n",
       "  </tbody>\n",
       "</table>\n",
       "</div>"
      ],
      "text/plain": [
       "   word_per_paragraph  paragraph_counts  average_paragraph_length  \\\n",
       "0                 3.0                 1                      12.0   \n",
       "1                 3.0                 1                      12.0   \n",
       "2                 3.0                 1                      12.0   \n",
       "\n",
       "   sentence_count  total_word_count  point_count  three_point_count  \\\n",
       "0               1                 3            1                  0   \n",
       "1               1                 3            1                  0   \n",
       "2               1                 3            1                  0   \n",
       "\n",
       "   exclamation_count  question_mark_count  average_word_length  \\\n",
       "0                  0                    0                  3.0   \n",
       "1                  0                    0                  3.0   \n",
       "2                  0                    0                  3.0   \n",
       "\n",
       "   average_sentence_length  unique_word_in_all_text  conjunction_count  \n",
       "0                      3.0                        3                  0  \n",
       "1                      3.0                        3                  0  \n",
       "2                      3.0                        3                  0  "
      ]
     },
     "execution_count": 32,
     "metadata": {},
     "output_type": "execute_result"
    }
   ],
   "source": [
    "z"
   ]
  },
  {
   "cell_type": "code",
   "execution_count": 33,
   "id": "b80eb804",
   "metadata": {
    "execution": {
     "iopub.execute_input": "2024-01-04T12:05:06.147689Z",
     "iopub.status.busy": "2024-01-04T12:05:06.147275Z",
     "iopub.status.idle": "2024-01-04T12:05:06.158395Z",
     "shell.execute_reply": "2024-01-04T12:05:06.156587Z"
    },
    "papermill": {
     "duration": 0.027156,
     "end_time": "2024-01-04T12:05:06.160907",
     "exception": false,
     "start_time": "2024-01-04T12:05:06.133751",
     "status": "completed"
    },
    "tags": []
   },
   "outputs": [
    {
     "data": {
      "text/plain": [
       "array([0.03084638, 0.03084638, 0.03084638])"
      ]
     },
     "execution_count": 33,
     "metadata": {},
     "output_type": "execute_result"
    }
   ],
   "source": [
    "pred = model.predict_proba(z)[:, 1]\n",
    "pred"
   ]
  },
  {
   "cell_type": "code",
   "execution_count": 34,
   "id": "c8356663",
   "metadata": {
    "execution": {
     "iopub.execute_input": "2024-01-04T12:05:06.188040Z",
     "iopub.status.busy": "2024-01-04T12:05:06.186924Z",
     "iopub.status.idle": "2024-01-04T12:05:06.193717Z",
     "shell.execute_reply": "2024-01-04T12:05:06.192393Z"
    },
    "papermill": {
     "duration": 0.02268,
     "end_time": "2024-01-04T12:05:06.195913",
     "exception": false,
     "start_time": "2024-01-04T12:05:06.173233",
     "status": "completed"
    },
    "tags": []
   },
   "outputs": [
    {
     "data": {
      "text/plain": [
       "array([0.03084638, 0.03084638, 0.03084638])"
      ]
     },
     "execution_count": 34,
     "metadata": {},
     "output_type": "execute_result"
    }
   ],
   "source": [
    "pred"
   ]
  },
  {
   "cell_type": "code",
   "execution_count": 35,
   "id": "53b638ac",
   "metadata": {
    "execution": {
     "iopub.execute_input": "2024-01-04T12:05:06.222276Z",
     "iopub.status.busy": "2024-01-04T12:05:06.221893Z",
     "iopub.status.idle": "2024-01-04T12:05:06.228756Z",
     "shell.execute_reply": "2024-01-04T12:05:06.227325Z"
    },
    "papermill": {
     "duration": 0.022535,
     "end_time": "2024-01-04T12:05:06.230638",
     "exception": false,
     "start_time": "2024-01-04T12:05:06.208103",
     "status": "completed"
    },
    "tags": []
   },
   "outputs": [
    {
     "data": {
      "text/plain": [
       "array([0.03084638, 0.03084638, 0.03084638])"
      ]
     },
     "execution_count": 35,
     "metadata": {},
     "output_type": "execute_result"
    }
   ],
   "source": [
    "# test_result = pred[0]\n",
    "test_result = pred[:]\n",
    "test_result"
   ]
  },
  {
   "cell_type": "code",
   "execution_count": 36,
   "id": "abc33125",
   "metadata": {
    "execution": {
     "iopub.execute_input": "2024-01-04T12:05:06.256862Z",
     "iopub.status.busy": "2024-01-04T12:05:06.256413Z",
     "iopub.status.idle": "2024-01-04T12:05:06.266796Z",
     "shell.execute_reply": "2024-01-04T12:05:06.265600Z"
    },
    "papermill": {
     "duration": 0.026615,
     "end_time": "2024-01-04T12:05:06.269540",
     "exception": false,
     "start_time": "2024-01-04T12:05:06.242925",
     "status": "completed"
    },
    "tags": []
   },
   "outputs": [
    {
     "data": {
      "text/html": [
       "<div>\n",
       "<style scoped>\n",
       "    .dataframe tbody tr th:only-of-type {\n",
       "        vertical-align: middle;\n",
       "    }\n",
       "\n",
       "    .dataframe tbody tr th {\n",
       "        vertical-align: top;\n",
       "    }\n",
       "\n",
       "    .dataframe thead th {\n",
       "        text-align: right;\n",
       "    }\n",
       "</style>\n",
       "<table border=\"1\" class=\"dataframe\">\n",
       "  <thead>\n",
       "    <tr style=\"text-align: right;\">\n",
       "      <th></th>\n",
       "      <th>id</th>\n",
       "      <th>generated</th>\n",
       "    </tr>\n",
       "  </thead>\n",
       "  <tbody>\n",
       "    <tr>\n",
       "      <th>0</th>\n",
       "      <td>0000aaaa</td>\n",
       "      <td>0.030846</td>\n",
       "    </tr>\n",
       "    <tr>\n",
       "      <th>1</th>\n",
       "      <td>1111bbbb</td>\n",
       "      <td>0.030846</td>\n",
       "    </tr>\n",
       "    <tr>\n",
       "      <th>2</th>\n",
       "      <td>2222cccc</td>\n",
       "      <td>0.030846</td>\n",
       "    </tr>\n",
       "  </tbody>\n",
       "</table>\n",
       "</div>"
      ],
      "text/plain": [
       "         id  generated\n",
       "0  0000aaaa   0.030846\n",
       "1  1111bbbb   0.030846\n",
       "2  2222cccc   0.030846"
      ]
     },
     "execution_count": 36,
     "metadata": {},
     "output_type": "execute_result"
    }
   ],
   "source": [
    "final_submission = pd.DataFrame(test_essays['id'])\n",
    "final_submission['generated'] = test_result\n",
    "final_submission"
   ]
  },
  {
   "cell_type": "code",
   "execution_count": 37,
   "id": "eb19e714",
   "metadata": {
    "execution": {
     "iopub.execute_input": "2024-01-04T12:05:06.299542Z",
     "iopub.status.busy": "2024-01-04T12:05:06.299096Z",
     "iopub.status.idle": "2024-01-04T12:05:06.308955Z",
     "shell.execute_reply": "2024-01-04T12:05:06.307180Z"
    },
    "papermill": {
     "duration": 0.02909,
     "end_time": "2024-01-04T12:05:06.312016",
     "exception": false,
     "start_time": "2024-01-04T12:05:06.282926",
     "status": "completed"
    },
    "tags": []
   },
   "outputs": [],
   "source": [
    "final_submission.to_csv('submission.csv', index=False)"
   ]
  },
  {
   "cell_type": "code",
   "execution_count": 38,
   "id": "32961255",
   "metadata": {
    "execution": {
     "iopub.execute_input": "2024-01-04T12:05:06.337890Z",
     "iopub.status.busy": "2024-01-04T12:05:06.337515Z",
     "iopub.status.idle": "2024-01-04T12:05:06.350700Z",
     "shell.execute_reply": "2024-01-04T12:05:06.349519Z"
    },
    "papermill": {
     "duration": 0.028648,
     "end_time": "2024-01-04T12:05:06.352835",
     "exception": false,
     "start_time": "2024-01-04T12:05:06.324187",
     "status": "completed"
    },
    "tags": []
   },
   "outputs": [
    {
     "data": {
      "text/html": [
       "<div>\n",
       "<style scoped>\n",
       "    .dataframe tbody tr th:only-of-type {\n",
       "        vertical-align: middle;\n",
       "    }\n",
       "\n",
       "    .dataframe tbody tr th {\n",
       "        vertical-align: top;\n",
       "    }\n",
       "\n",
       "    .dataframe thead th {\n",
       "        text-align: right;\n",
       "    }\n",
       "</style>\n",
       "<table border=\"1\" class=\"dataframe\">\n",
       "  <thead>\n",
       "    <tr style=\"text-align: right;\">\n",
       "      <th></th>\n",
       "      <th>id</th>\n",
       "      <th>generated</th>\n",
       "    </tr>\n",
       "  </thead>\n",
       "  <tbody>\n",
       "    <tr>\n",
       "      <th>0</th>\n",
       "      <td>0000aaaa</td>\n",
       "      <td>0.030846</td>\n",
       "    </tr>\n",
       "    <tr>\n",
       "      <th>1</th>\n",
       "      <td>1111bbbb</td>\n",
       "      <td>0.030846</td>\n",
       "    </tr>\n",
       "    <tr>\n",
       "      <th>2</th>\n",
       "      <td>2222cccc</td>\n",
       "      <td>0.030846</td>\n",
       "    </tr>\n",
       "  </tbody>\n",
       "</table>\n",
       "</div>"
      ],
      "text/plain": [
       "         id  generated\n",
       "0  0000aaaa   0.030846\n",
       "1  1111bbbb   0.030846\n",
       "2  2222cccc   0.030846"
      ]
     },
     "execution_count": 38,
     "metadata": {},
     "output_type": "execute_result"
    }
   ],
   "source": [
    "messi = pd.read_csv(\"/kaggle/working/submission.csv\")\n",
    "messi"
   ]
  }
 ],
 "metadata": {
  "kaggle": {
   "accelerator": "none",
   "dataSources": [
    {
     "databundleVersionId": 6888007,
     "sourceId": 61542,
     "sourceType": "competition"
    },
    {
     "datasetId": 3937441,
     "sourceId": 6868189,
     "sourceType": "datasetVersion"
    },
    {
     "datasetId": 3955358,
     "sourceId": 6888403,
     "sourceType": "datasetVersion"
    },
    {
     "datasetId": 3973977,
     "sourceId": 6920799,
     "sourceType": "datasetVersion"
    },
    {
     "datasetId": 3944051,
     "sourceId": 7060310,
     "sourceType": "datasetVersion"
    },
    {
     "datasetId": 4092288,
     "sourceId": 7099486,
     "sourceType": "datasetVersion"
    }
   ],
   "dockerImageVersionId": 30626,
   "isGpuEnabled": false,
   "isInternetEnabled": false,
   "language": "python",
   "sourceType": "notebook"
  },
  "kernelspec": {
   "display_name": "Python 3 (ipykernel)",
   "language": "python",
   "name": "python3"
  },
  "language_info": {
   "codemirror_mode": {
    "name": "ipython",
    "version": 3
   },
   "file_extension": ".py",
   "mimetype": "text/x-python",
   "name": "python",
   "nbconvert_exporter": "python",
   "pygments_lexer": "ipython3",
   "version": "3.9.16"
  },
  "papermill": {
   "default_parameters": {},
   "duration": 54.552182,
   "end_time": "2024-01-04T12:05:07.089193",
   "environment_variables": {},
   "exception": null,
   "input_path": "__notebook__.ipynb",
   "output_path": "__notebook__.ipynb",
   "parameters": {},
   "start_time": "2024-01-04T12:04:12.537011",
   "version": "2.4.0"
  }
 },
 "nbformat": 4,
 "nbformat_minor": 5
}
