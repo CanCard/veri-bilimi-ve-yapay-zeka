{
 "cells": [
  {
   "cell_type": "code",
   "execution_count": 1,
   "id": "a257df4d",
   "metadata": {
    "execution": {
     "iopub.execute_input": "2024-01-12T18:31:20.766952Z",
     "iopub.status.busy": "2024-01-12T18:31:20.765782Z",
     "iopub.status.idle": "2024-01-12T18:31:22.019007Z",
     "shell.execute_reply": "2024-01-12T18:31:22.017824Z"
    },
    "papermill": {
     "duration": 1.272749,
     "end_time": "2024-01-12T18:31:22.021865",
     "exception": false,
     "start_time": "2024-01-12T18:31:20.749116",
     "status": "completed"
    },
    "tags": []
   },
   "outputs": [],
   "source": [
    "import numpy as np\n",
    "import pandas as pd"
   ]
  },
  {
   "cell_type": "code",
   "execution_count": 2,
   "id": "66f6a841",
   "metadata": {
    "execution": {
     "iopub.execute_input": "2024-01-12T18:31:22.055189Z",
     "iopub.status.busy": "2024-01-12T18:31:22.054001Z",
     "iopub.status.idle": "2024-01-12T18:31:27.950806Z",
     "shell.execute_reply": "2024-01-12T18:31:27.949582Z"
    },
    "papermill": {
     "duration": 5.917976,
     "end_time": "2024-01-12T18:31:27.954513",
     "exception": false,
     "start_time": "2024-01-12T18:31:22.036537",
     "status": "completed"
    },
    "tags": []
   },
   "outputs": [],
   "source": [
    "gpt3 = pd.read_csv(\"/kaggle/input/llm-generated-essays/ai_generated_train_essays.csv\")\n",
    "gpt4 = pd.read_csv(\"/kaggle/input/llm-generated-essays/ai_generated_train_essays_gpt-4.csv\")\n",
    "palm = pd.read_csv(\"/kaggle/input/llm-generated-essay-using-palm-from-google-gen-ai/LLM_generated_essay_PaLM.csv\")\n",
    "persuade = pd.read_csv(\"/kaggle/input/persuade2-0/persuade_2.0_human_scores_demo_id_github.csv\")\n",
    "daigtv3 = pd.read_csv(\"/kaggle/input/daigt-v3-train-dataset/train_v3_drcat_02.csv\")\n",
    "hello = pd.read_csv(\"/kaggle/input/hello-claude-1000-essays-from-anthropic/persuade15_claude_instant1.csv\")"
   ]
  },
  {
   "cell_type": "code",
   "execution_count": 3,
   "id": "63e82975",
   "metadata": {
    "execution": {
     "iopub.execute_input": "2024-01-12T18:31:27.984313Z",
     "iopub.status.busy": "2024-01-12T18:31:27.983883Z",
     "iopub.status.idle": "2024-01-12T18:31:28.027655Z",
     "shell.execute_reply": "2024-01-12T18:31:28.025819Z"
    },
    "papermill": {
     "duration": 0.062648,
     "end_time": "2024-01-12T18:31:28.030592",
     "exception": false,
     "start_time": "2024-01-12T18:31:27.967944",
     "status": "completed"
    },
    "tags": []
   },
   "outputs": [
    {
     "data": {
      "text/html": [
       "<div>\n",
       "<style scoped>\n",
       "    .dataframe tbody tr th:only-of-type {\n",
       "        vertical-align: middle;\n",
       "    }\n",
       "\n",
       "    .dataframe tbody tr th {\n",
       "        vertical-align: top;\n",
       "    }\n",
       "\n",
       "    .dataframe thead th {\n",
       "        text-align: right;\n",
       "    }\n",
       "</style>\n",
       "<table border=\"1\" class=\"dataframe\">\n",
       "  <thead>\n",
       "    <tr style=\"text-align: right;\">\n",
       "      <th></th>\n",
       "      <th>text</th>\n",
       "      <th>label</th>\n",
       "      <th>prompt_name</th>\n",
       "      <th>source</th>\n",
       "      <th>RDizzl3_seven</th>\n",
       "      <th>model</th>\n",
       "    </tr>\n",
       "  </thead>\n",
       "  <tbody>\n",
       "    <tr>\n",
       "      <th>0</th>\n",
       "      <td>Phones\\n\\nModern humans today are always on th...</td>\n",
       "      <td>0</td>\n",
       "      <td>Phones and driving</td>\n",
       "      <td>persuade_corpus</td>\n",
       "      <td>False</td>\n",
       "      <td>human</td>\n",
       "    </tr>\n",
       "    <tr>\n",
       "      <th>1</th>\n",
       "      <td>This essay will explain if drivers should or s...</td>\n",
       "      <td>0</td>\n",
       "      <td>Phones and driving</td>\n",
       "      <td>persuade_corpus</td>\n",
       "      <td>False</td>\n",
       "      <td>human</td>\n",
       "    </tr>\n",
       "    <tr>\n",
       "      <th>2</th>\n",
       "      <td>Driving while the use of cellular devices\\n\\nT...</td>\n",
       "      <td>0</td>\n",
       "      <td>Phones and driving</td>\n",
       "      <td>persuade_corpus</td>\n",
       "      <td>False</td>\n",
       "      <td>human</td>\n",
       "    </tr>\n",
       "    <tr>\n",
       "      <th>3</th>\n",
       "      <td>Phones &amp; Driving\\n\\nDrivers should not be able...</td>\n",
       "      <td>0</td>\n",
       "      <td>Phones and driving</td>\n",
       "      <td>persuade_corpus</td>\n",
       "      <td>False</td>\n",
       "      <td>human</td>\n",
       "    </tr>\n",
       "    <tr>\n",
       "      <th>4</th>\n",
       "      <td>Cell Phone Operation While Driving\\n\\nThe abil...</td>\n",
       "      <td>0</td>\n",
       "      <td>Phones and driving</td>\n",
       "      <td>persuade_corpus</td>\n",
       "      <td>False</td>\n",
       "      <td>human</td>\n",
       "    </tr>\n",
       "    <tr>\n",
       "      <th>...</th>\n",
       "      <td>...</td>\n",
       "      <td>...</td>\n",
       "      <td>...</td>\n",
       "      <td>...</td>\n",
       "      <td>...</td>\n",
       "      <td>...</td>\n",
       "    </tr>\n",
       "    <tr>\n",
       "      <th>65262</th>\n",
       "      <td>Dear Senator,\\n\\nI am writing to you regarding...</td>\n",
       "      <td>1</td>\n",
       "      <td>Does the electoral college work?</td>\n",
       "      <td>text-davinci-003</td>\n",
       "      <td>True</td>\n",
       "      <td>davinci</td>\n",
       "    </tr>\n",
       "    <tr>\n",
       "      <th>65263</th>\n",
       "      <td>I remember the day distinctively. I was sittin...</td>\n",
       "      <td>1</td>\n",
       "      <td>Does the electoral college work?</td>\n",
       "      <td>text-davinci-003</td>\n",
       "      <td>True</td>\n",
       "      <td>davinci</td>\n",
       "    </tr>\n",
       "    <tr>\n",
       "      <th>65264</th>\n",
       "      <td>Dear Senator, \\n\\nI am writing this letter to ...</td>\n",
       "      <td>1</td>\n",
       "      <td>Does the electoral college work?</td>\n",
       "      <td>text-davinci-003</td>\n",
       "      <td>True</td>\n",
       "      <td>davinci</td>\n",
       "    </tr>\n",
       "    <tr>\n",
       "      <th>65265</th>\n",
       "      <td>Dear Senator,\\n\\nI am writing to urge you to e...</td>\n",
       "      <td>1</td>\n",
       "      <td>Does the electoral college work?</td>\n",
       "      <td>text-davinci-003</td>\n",
       "      <td>True</td>\n",
       "      <td>davinci</td>\n",
       "    </tr>\n",
       "    <tr>\n",
       "      <th>65266</th>\n",
       "      <td>It was a typical summer afternoon in my hometo...</td>\n",
       "      <td>1</td>\n",
       "      <td>Does the electoral college work?</td>\n",
       "      <td>text-davinci-003</td>\n",
       "      <td>True</td>\n",
       "      <td>davinci</td>\n",
       "    </tr>\n",
       "  </tbody>\n",
       "</table>\n",
       "<p>65267 rows × 6 columns</p>\n",
       "</div>"
      ],
      "text/plain": [
       "                                                    text  label  \\\n",
       "0      Phones\\n\\nModern humans today are always on th...      0   \n",
       "1      This essay will explain if drivers should or s...      0   \n",
       "2      Driving while the use of cellular devices\\n\\nT...      0   \n",
       "3      Phones & Driving\\n\\nDrivers should not be able...      0   \n",
       "4      Cell Phone Operation While Driving\\n\\nThe abil...      0   \n",
       "...                                                  ...    ...   \n",
       "65262  Dear Senator,\\n\\nI am writing to you regarding...      1   \n",
       "65263  I remember the day distinctively. I was sittin...      1   \n",
       "65264  Dear Senator, \\n\\nI am writing this letter to ...      1   \n",
       "65265  Dear Senator,\\n\\nI am writing to urge you to e...      1   \n",
       "65266  It was a typical summer afternoon in my hometo...      1   \n",
       "\n",
       "                            prompt_name            source  RDizzl3_seven  \\\n",
       "0                    Phones and driving   persuade_corpus          False   \n",
       "1                    Phones and driving   persuade_corpus          False   \n",
       "2                    Phones and driving   persuade_corpus          False   \n",
       "3                    Phones and driving   persuade_corpus          False   \n",
       "4                    Phones and driving   persuade_corpus          False   \n",
       "...                                 ...               ...            ...   \n",
       "65262  Does the electoral college work?  text-davinci-003           True   \n",
       "65263  Does the electoral college work?  text-davinci-003           True   \n",
       "65264  Does the electoral college work?  text-davinci-003           True   \n",
       "65265  Does the electoral college work?  text-davinci-003           True   \n",
       "65266  Does the electoral college work?  text-davinci-003           True   \n",
       "\n",
       "         model  \n",
       "0        human  \n",
       "1        human  \n",
       "2        human  \n",
       "3        human  \n",
       "4        human  \n",
       "...        ...  \n",
       "65262  davinci  \n",
       "65263  davinci  \n",
       "65264  davinci  \n",
       "65265  davinci  \n",
       "65266  davinci  \n",
       "\n",
       "[65267 rows x 6 columns]"
      ]
     },
     "execution_count": 3,
     "metadata": {},
     "output_type": "execute_result"
    }
   ],
   "source": [
    "daigtv3"
   ]
  },
  {
   "cell_type": "code",
   "execution_count": 4,
   "id": "45ed4ee0",
   "metadata": {
    "execution": {
     "iopub.execute_input": "2024-01-12T18:31:28.062996Z",
     "iopub.status.busy": "2024-01-12T18:31:28.062524Z",
     "iopub.status.idle": "2024-01-12T18:31:28.085799Z",
     "shell.execute_reply": "2024-01-12T18:31:28.084348Z"
    },
    "papermill": {
     "duration": 0.043242,
     "end_time": "2024-01-12T18:31:28.088815",
     "exception": false,
     "start_time": "2024-01-12T18:31:28.045573",
     "status": "completed"
    },
    "tags": []
   },
   "outputs": [],
   "source": [
    "# 'Does the electoral college work?' sütunundan 712 adet ve 'Car-free cities' sütunundan 672 adet satırı seç\n",
    "selected_rows_electoral = persuade[persuade['prompt_name'] == 'Does the electoral college work?'].head(712)\n",
    "selected_rows_car_free = persuade[persuade['prompt_name'] == 'Car-free cities'].head(672)\n",
    "\n",
    "# Yeni değişkenlere atayın\n",
    "electoral = selected_rows_electoral.copy()\n",
    "carfree = selected_rows_car_free.copy()"
   ]
  },
  {
   "cell_type": "code",
   "execution_count": 5,
   "id": "55158f0b",
   "metadata": {
    "execution": {
     "iopub.execute_input": "2024-01-12T18:31:28.118903Z",
     "iopub.status.busy": "2024-01-12T18:31:28.118461Z",
     "iopub.status.idle": "2024-01-12T18:31:28.158099Z",
     "shell.execute_reply": "2024-01-12T18:31:28.156569Z"
    },
    "papermill": {
     "duration": 0.059771,
     "end_time": "2024-01-12T18:31:28.162313",
     "exception": false,
     "start_time": "2024-01-12T18:31:28.102542",
     "status": "completed"
    },
    "tags": []
   },
   "outputs": [],
   "source": [
    "daigtv3 = daigtv3.drop(\"prompt_name\", axis=1)\n",
    "daigtv3 = daigtv3.drop(\"source\", axis=1)\n",
    "daigtv3 = daigtv3.drop(\"RDizzl3_seven\", axis=1)\n",
    "daigtv3 = daigtv3.drop(\"model\", axis=1)"
   ]
  },
  {
   "cell_type": "code",
   "execution_count": 6,
   "id": "cb60c814",
   "metadata": {
    "execution": {
     "iopub.execute_input": "2024-01-12T18:31:28.193559Z",
     "iopub.status.busy": "2024-01-12T18:31:28.192766Z",
     "iopub.status.idle": "2024-01-12T18:31:28.201306Z",
     "shell.execute_reply": "2024-01-12T18:31:28.200243Z"
    },
    "papermill": {
     "duration": 0.026934,
     "end_time": "2024-01-12T18:31:28.204124",
     "exception": false,
     "start_time": "2024-01-12T18:31:28.177190",
     "status": "completed"
    },
    "tags": []
   },
   "outputs": [],
   "source": [
    "columns_to_drop = ['essay_id_comp', 'holistic_essay_score', 'word_count', 'prompt_name', 'task', 'assignment', 'source_text', 'gender', 'grade_level', 'ell_status', 'race_ethnicity', 'economically_disadvantaged', 'student_disability_status']\n",
    "\n",
    "carfree = carfree.drop(columns_to_drop, axis=1)\n",
    "electoral = electoral.drop(columns_to_drop, axis=1)"
   ]
  },
  {
   "cell_type": "code",
   "execution_count": 7,
   "id": "fd459ce5",
   "metadata": {
    "execution": {
     "iopub.execute_input": "2024-01-12T18:31:28.236423Z",
     "iopub.status.busy": "2024-01-12T18:31:28.234844Z",
     "iopub.status.idle": "2024-01-12T18:31:28.242276Z",
     "shell.execute_reply": "2024-01-12T18:31:28.240627Z"
    },
    "papermill": {
     "duration": 0.027976,
     "end_time": "2024-01-12T18:31:28.246963",
     "exception": false,
     "start_time": "2024-01-12T18:31:28.218987",
     "status": "completed"
    },
    "tags": []
   },
   "outputs": [],
   "source": [
    "carfree['generated'] = 0\n",
    "electoral['generated'] = 0"
   ]
  },
  {
   "cell_type": "code",
   "execution_count": 8,
   "id": "cc8e25b7",
   "metadata": {
    "execution": {
     "iopub.execute_input": "2024-01-12T18:31:28.279141Z",
     "iopub.status.busy": "2024-01-12T18:31:28.278606Z",
     "iopub.status.idle": "2024-01-12T18:31:28.292237Z",
     "shell.execute_reply": "2024-01-12T18:31:28.291337Z"
    },
    "papermill": {
     "duration": 0.033446,
     "end_time": "2024-01-12T18:31:28.294605",
     "exception": false,
     "start_time": "2024-01-12T18:31:28.261159",
     "status": "completed"
    },
    "tags": []
   },
   "outputs": [
    {
     "data": {
      "text/html": [
       "<div>\n",
       "<style scoped>\n",
       "    .dataframe tbody tr th:only-of-type {\n",
       "        vertical-align: middle;\n",
       "    }\n",
       "\n",
       "    .dataframe tbody tr th {\n",
       "        vertical-align: top;\n",
       "    }\n",
       "\n",
       "    .dataframe thead th {\n",
       "        text-align: right;\n",
       "    }\n",
       "</style>\n",
       "<table border=\"1\" class=\"dataframe\">\n",
       "  <thead>\n",
       "    <tr style=\"text-align: right;\">\n",
       "      <th></th>\n",
       "      <th>full_text</th>\n",
       "      <th>generated</th>\n",
       "    </tr>\n",
       "  </thead>\n",
       "  <tbody>\n",
       "    <tr>\n",
       "      <th>1168</th>\n",
       "      <td>Cars have been around for awhile and they have...</td>\n",
       "      <td>0</td>\n",
       "    </tr>\n",
       "    <tr>\n",
       "      <th>1169</th>\n",
       "      <td>Have you ever thought what it would be like no...</td>\n",
       "      <td>0</td>\n",
       "    </tr>\n",
       "    <tr>\n",
       "      <th>1170</th>\n",
       "      <td>What you are about to read is going to give yo...</td>\n",
       "      <td>0</td>\n",
       "    </tr>\n",
       "    <tr>\n",
       "      <th>1171</th>\n",
       "      <td>cars have many flaws nd and in this day and ag...</td>\n",
       "      <td>0</td>\n",
       "    </tr>\n",
       "    <tr>\n",
       "      <th>1172</th>\n",
       "      <td>There are many advantages of limiting car usag...</td>\n",
       "      <td>0</td>\n",
       "    </tr>\n",
       "    <tr>\n",
       "      <th>...</th>\n",
       "      <td>...</td>\n",
       "      <td>...</td>\n",
       "    </tr>\n",
       "    <tr>\n",
       "      <th>1835</th>\n",
       "      <td>Cars use a lot of gas and make the world pollu...</td>\n",
       "      <td>0</td>\n",
       "    </tr>\n",
       "    <tr>\n",
       "      <th>1836</th>\n",
       "      <td>With the advancement in technology in our soci...</td>\n",
       "      <td>0</td>\n",
       "    </tr>\n",
       "    <tr>\n",
       "      <th>1837</th>\n",
       "      <td>I think that not having cars is a good thing f...</td>\n",
       "      <td>0</td>\n",
       "    </tr>\n",
       "    <tr>\n",
       "      <th>1838</th>\n",
       "      <td>People use them to commute around various loca...</td>\n",
       "      <td>0</td>\n",
       "    </tr>\n",
       "    <tr>\n",
       "      <th>1839</th>\n",
       "      <td>Fellow citizens their are many advantage to li...</td>\n",
       "      <td>0</td>\n",
       "    </tr>\n",
       "  </tbody>\n",
       "</table>\n",
       "<p>672 rows × 2 columns</p>\n",
       "</div>"
      ],
      "text/plain": [
       "                                              full_text  generated\n",
       "1168  Cars have been around for awhile and they have...          0\n",
       "1169  Have you ever thought what it would be like no...          0\n",
       "1170  What you are about to read is going to give yo...          0\n",
       "1171  cars have many flaws nd and in this day and ag...          0\n",
       "1172  There are many advantages of limiting car usag...          0\n",
       "...                                                 ...        ...\n",
       "1835  Cars use a lot of gas and make the world pollu...          0\n",
       "1836  With the advancement in technology in our soci...          0\n",
       "1837  I think that not having cars is a good thing f...          0\n",
       "1838  People use them to commute around various loca...          0\n",
       "1839  Fellow citizens their are many advantage to li...          0\n",
       "\n",
       "[672 rows x 2 columns]"
      ]
     },
     "execution_count": 8,
     "metadata": {},
     "output_type": "execute_result"
    }
   ],
   "source": [
    "carfree"
   ]
  },
  {
   "cell_type": "code",
   "execution_count": 9,
   "id": "7e160e28",
   "metadata": {
    "execution": {
     "iopub.execute_input": "2024-01-12T18:31:28.324835Z",
     "iopub.status.busy": "2024-01-12T18:31:28.324408Z",
     "iopub.status.idle": "2024-01-12T18:31:28.334541Z",
     "shell.execute_reply": "2024-01-12T18:31:28.332679Z"
    },
    "papermill": {
     "duration": 0.029034,
     "end_time": "2024-01-12T18:31:28.337374",
     "exception": false,
     "start_time": "2024-01-12T18:31:28.308340",
     "status": "completed"
    },
    "tags": []
   },
   "outputs": [],
   "source": [
    "carfree.rename(columns={'full_text': 'text'}, inplace=True)\n",
    "electoral.rename(columns={'full_text': 'text'}, inplace=True)\n",
    "daigtv3.rename(columns={'label': 'generated'}, inplace=True)"
   ]
  },
  {
   "cell_type": "code",
   "execution_count": 10,
   "id": "e9c1fded",
   "metadata": {
    "execution": {
     "iopub.execute_input": "2024-01-12T18:31:28.367904Z",
     "iopub.status.busy": "2024-01-12T18:31:28.367215Z",
     "iopub.status.idle": "2024-01-12T18:31:28.381487Z",
     "shell.execute_reply": "2024-01-12T18:31:28.380332Z"
    },
    "papermill": {
     "duration": 0.032284,
     "end_time": "2024-01-12T18:31:28.383961",
     "exception": false,
     "start_time": "2024-01-12T18:31:28.351677",
     "status": "completed"
    },
    "tags": []
   },
   "outputs": [
    {
     "data": {
      "text/html": [
       "<div>\n",
       "<style scoped>\n",
       "    .dataframe tbody tr th:only-of-type {\n",
       "        vertical-align: middle;\n",
       "    }\n",
       "\n",
       "    .dataframe tbody tr th {\n",
       "        vertical-align: top;\n",
       "    }\n",
       "\n",
       "    .dataframe thead th {\n",
       "        text-align: right;\n",
       "    }\n",
       "</style>\n",
       "<table border=\"1\" class=\"dataframe\">\n",
       "  <thead>\n",
       "    <tr style=\"text-align: right;\">\n",
       "      <th></th>\n",
       "      <th>text</th>\n",
       "      <th>generated</th>\n",
       "    </tr>\n",
       "  </thead>\n",
       "  <tbody>\n",
       "    <tr>\n",
       "      <th>18585</th>\n",
       "      <td>Hey state senator, I'm writing this letter bec...</td>\n",
       "      <td>0</td>\n",
       "    </tr>\n",
       "    <tr>\n",
       "      <th>18586</th>\n",
       "      <td>The electoral college process consist of the s...</td>\n",
       "      <td>0</td>\n",
       "    </tr>\n",
       "    <tr>\n",
       "      <th>18587</th>\n",
       "      <td>I say we keep the Electoral College. For one w...</td>\n",
       "      <td>0</td>\n",
       "    </tr>\n",
       "    <tr>\n",
       "      <th>18588</th>\n",
       "      <td>So a letter to my state senator into keeping t...</td>\n",
       "      <td>0</td>\n",
       "    </tr>\n",
       "    <tr>\n",
       "      <th>18589</th>\n",
       "      <td>Many people are in belief of evaporating the i...</td>\n",
       "      <td>0</td>\n",
       "    </tr>\n",
       "    <tr>\n",
       "      <th>...</th>\n",
       "      <td>...</td>\n",
       "      <td>...</td>\n",
       "    </tr>\n",
       "    <tr>\n",
       "      <th>19292</th>\n",
       "      <td>Dear, senator the Electorial College should be...</td>\n",
       "      <td>0</td>\n",
       "    </tr>\n",
       "    <tr>\n",
       "      <th>19293</th>\n",
       "      <td>Dear Senator,\\n\\nMy name is PROPER_NAME from L...</td>\n",
       "      <td>0</td>\n",
       "    </tr>\n",
       "    <tr>\n",
       "      <th>19294</th>\n",
       "      <td>Dear, State Senator\\n\\nHi, State Senator my na...</td>\n",
       "      <td>0</td>\n",
       "    </tr>\n",
       "    <tr>\n",
       "      <th>19295</th>\n",
       "      <td>The Electoral College is a system where electe...</td>\n",
       "      <td>0</td>\n",
       "    </tr>\n",
       "    <tr>\n",
       "      <th>19296</th>\n",
       "      <td>The electorial colledge should be done with. w...</td>\n",
       "      <td>0</td>\n",
       "    </tr>\n",
       "  </tbody>\n",
       "</table>\n",
       "<p>712 rows × 2 columns</p>\n",
       "</div>"
      ],
      "text/plain": [
       "                                                    text  generated\n",
       "18585  Hey state senator, I'm writing this letter bec...          0\n",
       "18586  The electoral college process consist of the s...          0\n",
       "18587  I say we keep the Electoral College. For one w...          0\n",
       "18588  So a letter to my state senator into keeping t...          0\n",
       "18589  Many people are in belief of evaporating the i...          0\n",
       "...                                                  ...        ...\n",
       "19292  Dear, senator the Electorial College should be...          0\n",
       "19293  Dear Senator,\\n\\nMy name is PROPER_NAME from L...          0\n",
       "19294  Dear, State Senator\\n\\nHi, State Senator my na...          0\n",
       "19295  The Electoral College is a system where electe...          0\n",
       "19296  The electorial colledge should be done with. w...          0\n",
       "\n",
       "[712 rows x 2 columns]"
      ]
     },
     "execution_count": 10,
     "metadata": {},
     "output_type": "execute_result"
    }
   ],
   "source": [
    "electoral"
   ]
  },
  {
   "cell_type": "code",
   "execution_count": 11,
   "id": "f5c48634",
   "metadata": {
    "execution": {
     "iopub.execute_input": "2024-01-12T18:31:28.416932Z",
     "iopub.status.busy": "2024-01-12T18:31:28.416478Z",
     "iopub.status.idle": "2024-01-12T18:31:28.541883Z",
     "shell.execute_reply": "2024-01-12T18:31:28.540589Z"
    },
    "papermill": {
     "duration": 0.146345,
     "end_time": "2024-01-12T18:31:28.545039",
     "exception": false,
     "start_time": "2024-01-12T18:31:28.398694",
     "status": "completed"
    },
    "tags": []
   },
   "outputs": [],
   "source": [
    "sub = pd.read_csv(\"/kaggle/input/llm-detect-ai-generated-text/sample_submission.csv\")\n",
    "test_essays = pd.read_csv(\"/kaggle/input/llm-detect-ai-generated-text/test_essays.csv\")\n",
    "train_essays = pd.read_csv(\"/kaggle/input/llm-detect-ai-generated-text/train_essays.csv\")\n",
    "train_prompts = pd.read_csv(\"/kaggle/input/llm-detect-ai-generated-text/train_prompts.csv\")"
   ]
  },
  {
   "cell_type": "code",
   "execution_count": 12,
   "id": "29528b01",
   "metadata": {
    "execution": {
     "iopub.execute_input": "2024-01-12T18:31:28.578608Z",
     "iopub.status.busy": "2024-01-12T18:31:28.577748Z",
     "iopub.status.idle": "2024-01-12T18:31:28.587490Z",
     "shell.execute_reply": "2024-01-12T18:31:28.585947Z"
    },
    "papermill": {
     "duration": 0.031538,
     "end_time": "2024-01-12T18:31:28.591224",
     "exception": false,
     "start_time": "2024-01-12T18:31:28.559686",
     "status": "completed"
    },
    "tags": []
   },
   "outputs": [],
   "source": [
    "# Koşulları sağlayan satırları filtreleyip kaldıralım\n",
    "train_essays = train_essays[(train_essays['id'] != '82131f68') & (train_essays['id'] != '86fe4f18')]"
   ]
  },
  {
   "cell_type": "code",
   "execution_count": 13,
   "id": "e510d1d2",
   "metadata": {
    "execution": {
     "iopub.execute_input": "2024-01-12T18:31:28.625198Z",
     "iopub.status.busy": "2024-01-12T18:31:28.624739Z",
     "iopub.status.idle": "2024-01-12T18:31:28.642574Z",
     "shell.execute_reply": "2024-01-12T18:31:28.641250Z"
    },
    "papermill": {
     "duration": 0.038344,
     "end_time": "2024-01-12T18:31:28.645570",
     "exception": false,
     "start_time": "2024-01-12T18:31:28.607226",
     "status": "completed"
    },
    "tags": []
   },
   "outputs": [
    {
     "data": {
      "text/html": [
       "<div>\n",
       "<style scoped>\n",
       "    .dataframe tbody tr th:only-of-type {\n",
       "        vertical-align: middle;\n",
       "    }\n",
       "\n",
       "    .dataframe tbody tr th {\n",
       "        vertical-align: top;\n",
       "    }\n",
       "\n",
       "    .dataframe thead th {\n",
       "        text-align: right;\n",
       "    }\n",
       "</style>\n",
       "<table border=\"1\" class=\"dataframe\">\n",
       "  <thead>\n",
       "    <tr style=\"text-align: right;\">\n",
       "      <th></th>\n",
       "      <th>id</th>\n",
       "      <th>prompt_id</th>\n",
       "      <th>text</th>\n",
       "      <th>generated</th>\n",
       "    </tr>\n",
       "  </thead>\n",
       "  <tbody>\n",
       "    <tr>\n",
       "      <th>5</th>\n",
       "      <td>00da8c32</td>\n",
       "      <td>1</td>\n",
       "      <td>The electrol college system is an unfair syste...</td>\n",
       "      <td>0</td>\n",
       "    </tr>\n",
       "    <tr>\n",
       "      <th>6</th>\n",
       "      <td>011dc2bc</td>\n",
       "      <td>1</td>\n",
       "      <td>Dear state senator, It is the utmost respect t...</td>\n",
       "      <td>0</td>\n",
       "    </tr>\n",
       "    <tr>\n",
       "      <th>8</th>\n",
       "      <td>01c6e176</td>\n",
       "      <td>1</td>\n",
       "      <td>\"It's official: The electoral college is unfai...</td>\n",
       "      <td>0</td>\n",
       "    </tr>\n",
       "    <tr>\n",
       "      <th>9</th>\n",
       "      <td>0202ddf9</td>\n",
       "      <td>1</td>\n",
       "      <td>The Electoral College has been kept for centur...</td>\n",
       "      <td>0</td>\n",
       "    </tr>\n",
       "    <tr>\n",
       "      <th>10</th>\n",
       "      <td>020a5d6d</td>\n",
       "      <td>1</td>\n",
       "      <td>Dear senator, Retain the Electoral College. Th...</td>\n",
       "      <td>0</td>\n",
       "    </tr>\n",
       "    <tr>\n",
       "      <th>...</th>\n",
       "      <td>...</td>\n",
       "      <td>...</td>\n",
       "      <td>...</td>\n",
       "      <td>...</td>\n",
       "    </tr>\n",
       "    <tr>\n",
       "      <th>1360</th>\n",
       "      <td>fc66f374</td>\n",
       "      <td>1</td>\n",
       "      <td>The Electoral College was originally establish...</td>\n",
       "      <td>0</td>\n",
       "    </tr>\n",
       "    <tr>\n",
       "      <th>1361</th>\n",
       "      <td>fcb87d59</td>\n",
       "      <td>1</td>\n",
       "      <td>Dear senator, I think that the presidential el...</td>\n",
       "      <td>0</td>\n",
       "    </tr>\n",
       "    <tr>\n",
       "      <th>1364</th>\n",
       "      <td>fcd93e2d</td>\n",
       "      <td>1</td>\n",
       "      <td>The electoral college is a group of electors t...</td>\n",
       "      <td>0</td>\n",
       "    </tr>\n",
       "    <tr>\n",
       "      <th>1366</th>\n",
       "      <td>fcfe84cb</td>\n",
       "      <td>1</td>\n",
       "      <td>An electoral College compromises between elect...</td>\n",
       "      <td>0</td>\n",
       "    </tr>\n",
       "    <tr>\n",
       "      <th>1373</th>\n",
       "      <td>fe6ff9a5</td>\n",
       "      <td>1</td>\n",
       "      <td>There has been a fuss about the Elector Colleg...</td>\n",
       "      <td>0</td>\n",
       "    </tr>\n",
       "  </tbody>\n",
       "</table>\n",
       "<p>668 rows × 4 columns</p>\n",
       "</div>"
      ],
      "text/plain": [
       "            id  prompt_id                                               text  \\\n",
       "5     00da8c32          1  The electrol college system is an unfair syste...   \n",
       "6     011dc2bc          1  Dear state senator, It is the utmost respect t...   \n",
       "8     01c6e176          1  \"It's official: The electoral college is unfai...   \n",
       "9     0202ddf9          1  The Electoral College has been kept for centur...   \n",
       "10    020a5d6d          1  Dear senator, Retain the Electoral College. Th...   \n",
       "...        ...        ...                                                ...   \n",
       "1360  fc66f374          1  The Electoral College was originally establish...   \n",
       "1361  fcb87d59          1  Dear senator, I think that the presidential el...   \n",
       "1364  fcd93e2d          1  The electoral college is a group of electors t...   \n",
       "1366  fcfe84cb          1  An electoral College compromises between elect...   \n",
       "1373  fe6ff9a5          1  There has been a fuss about the Elector Colleg...   \n",
       "\n",
       "      generated  \n",
       "5             0  \n",
       "6             0  \n",
       "8             0  \n",
       "9             0  \n",
       "10            0  \n",
       "...         ...  \n",
       "1360          0  \n",
       "1361          0  \n",
       "1364          0  \n",
       "1366          0  \n",
       "1373          0  \n",
       "\n",
       "[668 rows x 4 columns]"
      ]
     },
     "execution_count": 13,
     "metadata": {},
     "output_type": "execute_result"
    }
   ],
   "source": [
    "baskanlik_secimi = train_essays[train_essays['prompt_id'] == 1]\n",
    "baskanlik_secimi"
   ]
  },
  {
   "cell_type": "code",
   "execution_count": 14,
   "id": "9b3bd656",
   "metadata": {
    "execution": {
     "iopub.execute_input": "2024-01-12T18:31:28.683259Z",
     "iopub.status.busy": "2024-01-12T18:31:28.682814Z",
     "iopub.status.idle": "2024-01-12T18:31:28.703670Z",
     "shell.execute_reply": "2024-01-12T18:31:28.702350Z"
    },
    "papermill": {
     "duration": 0.046054,
     "end_time": "2024-01-12T18:31:28.707062",
     "exception": false,
     "start_time": "2024-01-12T18:31:28.661008",
     "status": "completed"
    },
    "tags": []
   },
   "outputs": [
    {
     "data": {
      "text/html": [
       "<div>\n",
       "<style scoped>\n",
       "    .dataframe tbody tr th:only-of-type {\n",
       "        vertical-align: middle;\n",
       "    }\n",
       "\n",
       "    .dataframe tbody tr th {\n",
       "        vertical-align: top;\n",
       "    }\n",
       "\n",
       "    .dataframe thead th {\n",
       "        text-align: right;\n",
       "    }\n",
       "</style>\n",
       "<table border=\"1\" class=\"dataframe\">\n",
       "  <thead>\n",
       "    <tr style=\"text-align: right;\">\n",
       "      <th></th>\n",
       "      <th>id</th>\n",
       "      <th>prompt_id</th>\n",
       "      <th>text</th>\n",
       "      <th>generated</th>\n",
       "    </tr>\n",
       "  </thead>\n",
       "  <tbody>\n",
       "    <tr>\n",
       "      <th>0</th>\n",
       "      <td>0059830c</td>\n",
       "      <td>0</td>\n",
       "      <td>Cars. Cars have been around since they became ...</td>\n",
       "      <td>0</td>\n",
       "    </tr>\n",
       "    <tr>\n",
       "      <th>1</th>\n",
       "      <td>005db917</td>\n",
       "      <td>0</td>\n",
       "      <td>Transportation is a large necessity in most co...</td>\n",
       "      <td>0</td>\n",
       "    </tr>\n",
       "    <tr>\n",
       "      <th>2</th>\n",
       "      <td>008f63e3</td>\n",
       "      <td>0</td>\n",
       "      <td>\"America's love affair with it's vehicles seem...</td>\n",
       "      <td>0</td>\n",
       "    </tr>\n",
       "    <tr>\n",
       "      <th>3</th>\n",
       "      <td>00940276</td>\n",
       "      <td>0</td>\n",
       "      <td>How often do you ride in a car? Do you drive a...</td>\n",
       "      <td>0</td>\n",
       "    </tr>\n",
       "    <tr>\n",
       "      <th>4</th>\n",
       "      <td>00c39458</td>\n",
       "      <td>0</td>\n",
       "      <td>Cars are a wonderful thing. They are perhaps o...</td>\n",
       "      <td>0</td>\n",
       "    </tr>\n",
       "    <tr>\n",
       "      <th>...</th>\n",
       "      <td>...</td>\n",
       "      <td>...</td>\n",
       "      <td>...</td>\n",
       "      <td>...</td>\n",
       "    </tr>\n",
       "    <tr>\n",
       "      <th>1372</th>\n",
       "      <td>fe5b0a93</td>\n",
       "      <td>0</td>\n",
       "      <td>studies have shown that passenger cars are res...</td>\n",
       "      <td>0</td>\n",
       "    </tr>\n",
       "    <tr>\n",
       "      <th>1374</th>\n",
       "      <td>ff669174</td>\n",
       "      <td>0</td>\n",
       "      <td>Limiting car usage has many advantages. Such a...</td>\n",
       "      <td>0</td>\n",
       "    </tr>\n",
       "    <tr>\n",
       "      <th>1375</th>\n",
       "      <td>ffa247e0</td>\n",
       "      <td>0</td>\n",
       "      <td>There's a new trend that has been developing f...</td>\n",
       "      <td>0</td>\n",
       "    </tr>\n",
       "    <tr>\n",
       "      <th>1376</th>\n",
       "      <td>ffc237e9</td>\n",
       "      <td>0</td>\n",
       "      <td>As we all know cars are a big part of our soci...</td>\n",
       "      <td>0</td>\n",
       "    </tr>\n",
       "    <tr>\n",
       "      <th>1377</th>\n",
       "      <td>ffe1ca0d</td>\n",
       "      <td>0</td>\n",
       "      <td>Cars have been around since the 1800's and hav...</td>\n",
       "      <td>0</td>\n",
       "    </tr>\n",
       "  </tbody>\n",
       "</table>\n",
       "<p>708 rows × 4 columns</p>\n",
       "</div>"
      ],
      "text/plain": [
       "            id  prompt_id                                               text  \\\n",
       "0     0059830c          0  Cars. Cars have been around since they became ...   \n",
       "1     005db917          0  Transportation is a large necessity in most co...   \n",
       "2     008f63e3          0  \"America's love affair with it's vehicles seem...   \n",
       "3     00940276          0  How often do you ride in a car? Do you drive a...   \n",
       "4     00c39458          0  Cars are a wonderful thing. They are perhaps o...   \n",
       "...        ...        ...                                                ...   \n",
       "1372  fe5b0a93          0  studies have shown that passenger cars are res...   \n",
       "1374  ff669174          0  Limiting car usage has many advantages. Such a...   \n",
       "1375  ffa247e0          0  There's a new trend that has been developing f...   \n",
       "1376  ffc237e9          0  As we all know cars are a big part of our soci...   \n",
       "1377  ffe1ca0d          0  Cars have been around since the 1800's and hav...   \n",
       "\n",
       "      generated  \n",
       "0             0  \n",
       "1             0  \n",
       "2             0  \n",
       "3             0  \n",
       "4             0  \n",
       "...         ...  \n",
       "1372          0  \n",
       "1374          0  \n",
       "1375          0  \n",
       "1376          0  \n",
       "1377          0  \n",
       "\n",
       "[708 rows x 4 columns]"
      ]
     },
     "execution_count": 14,
     "metadata": {},
     "output_type": "execute_result"
    }
   ],
   "source": [
    "cars = train_essays[train_essays['prompt_id'] == 0]\n",
    "cars"
   ]
  },
  {
   "cell_type": "code",
   "execution_count": 15,
   "id": "4d5af3df",
   "metadata": {
    "execution": {
     "iopub.execute_input": "2024-01-12T18:31:28.746688Z",
     "iopub.status.busy": "2024-01-12T18:31:28.746158Z",
     "iopub.status.idle": "2024-01-12T18:31:28.759695Z",
     "shell.execute_reply": "2024-01-12T18:31:28.758418Z"
    },
    "papermill": {
     "duration": 0.038722,
     "end_time": "2024-01-12T18:31:28.763747",
     "exception": false,
     "start_time": "2024-01-12T18:31:28.725025",
     "status": "completed"
    },
    "tags": []
   },
   "outputs": [],
   "source": [
    "columns_to_drop = ['id',\"prompt_id\"]\n",
    "\n",
    "palm = palm.drop(columns_to_drop, axis=1)\n",
    "gpt4 = gpt4.drop(columns_to_drop, axis=1)\n",
    "gpt3 = gpt3.drop(columns_to_drop, axis=1)\n",
    "cars = cars.drop(columns_to_drop, axis=1)\n",
    "baskanlik_secimi = baskanlik_secimi.drop(columns_to_drop, axis=1)"
   ]
  },
  {
   "cell_type": "code",
   "execution_count": 16,
   "id": "40f1a709",
   "metadata": {
    "execution": {
     "iopub.execute_input": "2024-01-12T18:31:28.803159Z",
     "iopub.status.busy": "2024-01-12T18:31:28.801780Z",
     "iopub.status.idle": "2024-01-12T18:31:28.811219Z",
     "shell.execute_reply": "2024-01-12T18:31:28.809198Z"
    },
    "papermill": {
     "duration": 0.033864,
     "end_time": "2024-01-12T18:31:28.814448",
     "exception": false,
     "start_time": "2024-01-12T18:31:28.780584",
     "status": "completed"
    },
    "tags": []
   },
   "outputs": [],
   "source": [
    "cars = cars.iloc[:350, :]\n",
    "baskanlik_secimi = baskanlik_secimi.iloc[:350, :]"
   ]
  },
  {
   "cell_type": "code",
   "execution_count": 17,
   "id": "03b41029",
   "metadata": {
    "execution": {
     "iopub.execute_input": "2024-01-12T18:31:28.947048Z",
     "iopub.status.busy": "2024-01-12T18:31:28.946546Z",
     "iopub.status.idle": "2024-01-12T18:31:28.963382Z",
     "shell.execute_reply": "2024-01-12T18:31:28.961366Z"
    },
    "papermill": {
     "duration": 0.13503,
     "end_time": "2024-01-12T18:31:28.966576",
     "exception": false,
     "start_time": "2024-01-12T18:31:28.831546",
     "status": "completed"
    },
    "tags": []
   },
   "outputs": [
    {
     "data": {
      "text/html": [
       "<div>\n",
       "<style scoped>\n",
       "    .dataframe tbody tr th:only-of-type {\n",
       "        vertical-align: middle;\n",
       "    }\n",
       "\n",
       "    .dataframe tbody tr th {\n",
       "        vertical-align: top;\n",
       "    }\n",
       "\n",
       "    .dataframe thead th {\n",
       "        text-align: right;\n",
       "    }\n",
       "</style>\n",
       "<table border=\"1\" class=\"dataframe\">\n",
       "  <thead>\n",
       "    <tr style=\"text-align: right;\">\n",
       "      <th></th>\n",
       "      <th>text</th>\n",
       "      <th>generated</th>\n",
       "    </tr>\n",
       "  </thead>\n",
       "  <tbody>\n",
       "    <tr>\n",
       "      <th>0</th>\n",
       "      <td>Cars. Cars have been around since they became ...</td>\n",
       "      <td>0</td>\n",
       "    </tr>\n",
       "    <tr>\n",
       "      <th>1</th>\n",
       "      <td>Transportation is a large necessity in most co...</td>\n",
       "      <td>0</td>\n",
       "    </tr>\n",
       "    <tr>\n",
       "      <th>2</th>\n",
       "      <td>\"America's love affair with it's vehicles seem...</td>\n",
       "      <td>0</td>\n",
       "    </tr>\n",
       "    <tr>\n",
       "      <th>3</th>\n",
       "      <td>How often do you ride in a car? Do you drive a...</td>\n",
       "      <td>0</td>\n",
       "    </tr>\n",
       "    <tr>\n",
       "      <th>4</th>\n",
       "      <td>Cars are a wonderful thing. They are perhaps o...</td>\n",
       "      <td>0</td>\n",
       "    </tr>\n",
       "    <tr>\n",
       "      <th>...</th>\n",
       "      <td>...</td>\n",
       "      <td>...</td>\n",
       "    </tr>\n",
       "    <tr>\n",
       "      <th>660</th>\n",
       "      <td>Fellow citizens should know about the advantag...</td>\n",
       "      <td>0</td>\n",
       "    </tr>\n",
       "    <tr>\n",
       "      <th>661</th>\n",
       "      <td>Have you ever realized how driving everywhere ...</td>\n",
       "      <td>0</td>\n",
       "    </tr>\n",
       "    <tr>\n",
       "      <th>662</th>\n",
       "      <td>A day without driving your car? who can't do t...</td>\n",
       "      <td>0</td>\n",
       "    </tr>\n",
       "    <tr>\n",
       "      <th>663</th>\n",
       "      <td>In America, cars are considered an important n...</td>\n",
       "      <td>0</td>\n",
       "    </tr>\n",
       "    <tr>\n",
       "      <th>664</th>\n",
       "      <td>Some people may view car limitations as bad or...</td>\n",
       "      <td>0</td>\n",
       "    </tr>\n",
       "  </tbody>\n",
       "</table>\n",
       "<p>350 rows × 2 columns</p>\n",
       "</div>"
      ],
      "text/plain": [
       "                                                  text  generated\n",
       "0    Cars. Cars have been around since they became ...          0\n",
       "1    Transportation is a large necessity in most co...          0\n",
       "2    \"America's love affair with it's vehicles seem...          0\n",
       "3    How often do you ride in a car? Do you drive a...          0\n",
       "4    Cars are a wonderful thing. They are perhaps o...          0\n",
       "..                                                 ...        ...\n",
       "660  Fellow citizens should know about the advantag...          0\n",
       "661  Have you ever realized how driving everywhere ...          0\n",
       "662  A day without driving your car? who can't do t...          0\n",
       "663  In America, cars are considered an important n...          0\n",
       "664  Some people may view car limitations as bad or...          0\n",
       "\n",
       "[350 rows x 2 columns]"
      ]
     },
     "execution_count": 17,
     "metadata": {},
     "output_type": "execute_result"
    }
   ],
   "source": [
    "cars"
   ]
  },
  {
   "cell_type": "code",
   "execution_count": 18,
   "id": "69d921d1",
   "metadata": {
    "execution": {
     "iopub.execute_input": "2024-01-12T18:31:29.005193Z",
     "iopub.status.busy": "2024-01-12T18:31:29.004742Z",
     "iopub.status.idle": "2024-01-12T18:31:29.018836Z",
     "shell.execute_reply": "2024-01-12T18:31:29.017278Z"
    },
    "papermill": {
     "duration": 0.037284,
     "end_time": "2024-01-12T18:31:29.023126",
     "exception": false,
     "start_time": "2024-01-12T18:31:28.985842",
     "status": "completed"
    },
    "tags": []
   },
   "outputs": [],
   "source": [
    "tekbir = pd.concat([baskanlik_secimi, cars, gpt3, gpt4, palm, electoral, carfree, daigtv3])"
   ]
  },
  {
   "cell_type": "code",
   "execution_count": 19,
   "id": "c951df72",
   "metadata": {
    "execution": {
     "iopub.execute_input": "2024-01-12T18:31:29.058185Z",
     "iopub.status.busy": "2024-01-12T18:31:29.057747Z",
     "iopub.status.idle": "2024-01-12T18:31:29.076450Z",
     "shell.execute_reply": "2024-01-12T18:31:29.074395Z"
    },
    "papermill": {
     "duration": 0.039882,
     "end_time": "2024-01-12T18:31:29.079547",
     "exception": false,
     "start_time": "2024-01-12T18:31:29.039665",
     "status": "completed"
    },
    "tags": []
   },
   "outputs": [
    {
     "data": {
      "text/html": [
       "<div>\n",
       "<style scoped>\n",
       "    .dataframe tbody tr th:only-of-type {\n",
       "        vertical-align: middle;\n",
       "    }\n",
       "\n",
       "    .dataframe tbody tr th {\n",
       "        vertical-align: top;\n",
       "    }\n",
       "\n",
       "    .dataframe thead th {\n",
       "        text-align: right;\n",
       "    }\n",
       "</style>\n",
       "<table border=\"1\" class=\"dataframe\">\n",
       "  <thead>\n",
       "    <tr style=\"text-align: right;\">\n",
       "      <th></th>\n",
       "      <th>text</th>\n",
       "      <th>generated</th>\n",
       "    </tr>\n",
       "  </thead>\n",
       "  <tbody>\n",
       "    <tr>\n",
       "      <th>5</th>\n",
       "      <td>The electrol college system is an unfair syste...</td>\n",
       "      <td>0.0</td>\n",
       "    </tr>\n",
       "    <tr>\n",
       "      <th>6</th>\n",
       "      <td>Dear state senator, It is the utmost respect t...</td>\n",
       "      <td>0.0</td>\n",
       "    </tr>\n",
       "    <tr>\n",
       "      <th>8</th>\n",
       "      <td>\"It's official: The electoral college is unfai...</td>\n",
       "      <td>0.0</td>\n",
       "    </tr>\n",
       "    <tr>\n",
       "      <th>9</th>\n",
       "      <td>The Electoral College has been kept for centur...</td>\n",
       "      <td>0.0</td>\n",
       "    </tr>\n",
       "    <tr>\n",
       "      <th>10</th>\n",
       "      <td>Dear senator, Retain the Electoral College. Th...</td>\n",
       "      <td>0.0</td>\n",
       "    </tr>\n",
       "    <tr>\n",
       "      <th>...</th>\n",
       "      <td>...</td>\n",
       "      <td>...</td>\n",
       "    </tr>\n",
       "    <tr>\n",
       "      <th>65262</th>\n",
       "      <td>Dear Senator,\\n\\nI am writing to you regarding...</td>\n",
       "      <td>1.0</td>\n",
       "    </tr>\n",
       "    <tr>\n",
       "      <th>65263</th>\n",
       "      <td>I remember the day distinctively. I was sittin...</td>\n",
       "      <td>1.0</td>\n",
       "    </tr>\n",
       "    <tr>\n",
       "      <th>65264</th>\n",
       "      <td>Dear Senator, \\n\\nI am writing this letter to ...</td>\n",
       "      <td>1.0</td>\n",
       "    </tr>\n",
       "    <tr>\n",
       "      <th>65265</th>\n",
       "      <td>Dear Senator,\\n\\nI am writing to urge you to e...</td>\n",
       "      <td>1.0</td>\n",
       "    </tr>\n",
       "    <tr>\n",
       "      <th>65266</th>\n",
       "      <td>It was a typical summer afternoon in my hometo...</td>\n",
       "      <td>1.0</td>\n",
       "    </tr>\n",
       "  </tbody>\n",
       "</table>\n",
       "<p>69435 rows × 2 columns</p>\n",
       "</div>"
      ],
      "text/plain": [
       "                                                    text  generated\n",
       "5      The electrol college system is an unfair syste...        0.0\n",
       "6      Dear state senator, It is the utmost respect t...        0.0\n",
       "8      \"It's official: The electoral college is unfai...        0.0\n",
       "9      The Electoral College has been kept for centur...        0.0\n",
       "10     Dear senator, Retain the Electoral College. Th...        0.0\n",
       "...                                                  ...        ...\n",
       "65262  Dear Senator,\\n\\nI am writing to you regarding...        1.0\n",
       "65263  I remember the day distinctively. I was sittin...        1.0\n",
       "65264  Dear Senator, \\n\\nI am writing this letter to ...        1.0\n",
       "65265  Dear Senator,\\n\\nI am writing to urge you to e...        1.0\n",
       "65266  It was a typical summer afternoon in my hometo...        1.0\n",
       "\n",
       "[69435 rows x 2 columns]"
      ]
     },
     "execution_count": 19,
     "metadata": {},
     "output_type": "execute_result"
    }
   ],
   "source": [
    "tekbir"
   ]
  },
  {
   "cell_type": "code",
   "execution_count": 20,
   "id": "b78eef46",
   "metadata": {
    "execution": {
     "iopub.execute_input": "2024-01-12T18:31:29.116908Z",
     "iopub.status.busy": "2024-01-12T18:31:29.116467Z",
     "iopub.status.idle": "2024-01-12T18:31:29.132940Z",
     "shell.execute_reply": "2024-01-12T18:31:29.131621Z"
    },
    "papermill": {
     "duration": 0.038254,
     "end_time": "2024-01-12T18:31:29.135638",
     "exception": false,
     "start_time": "2024-01-12T18:31:29.097384",
     "status": "completed"
    },
    "tags": []
   },
   "outputs": [
    {
     "data": {
      "text/plain": [
       "generated\n",
       "1.0    39981\n",
       "0.0    29454\n",
       "Name: count, dtype: int64"
      ]
     },
     "execution_count": 20,
     "metadata": {},
     "output_type": "execute_result"
    }
   ],
   "source": [
    "tekbir.generated.value_counts()"
   ]
  },
  {
   "cell_type": "code",
   "execution_count": 21,
   "id": "bd85dd2f",
   "metadata": {
    "execution": {
     "iopub.execute_input": "2024-01-12T18:31:29.177884Z",
     "iopub.status.busy": "2024-01-12T18:31:29.177008Z",
     "iopub.status.idle": "2024-01-12T18:31:29.202346Z",
     "shell.execute_reply": "2024-01-12T18:31:29.200613Z"
    },
    "papermill": {
     "duration": 0.050316,
     "end_time": "2024-01-12T18:31:29.205520",
     "exception": false,
     "start_time": "2024-01-12T18:31:29.155204",
     "status": "completed"
    },
    "tags": []
   },
   "outputs": [
    {
     "name": "stdout",
     "output_type": "stream",
     "text": [
      "text         0\n",
      "generated    0\n",
      "dtype: int64\n"
     ]
    }
   ],
   "source": [
    "print(tekbir.isnull().sum())"
   ]
  },
  {
   "cell_type": "code",
   "execution_count": 22,
   "id": "04204b4a",
   "metadata": {
    "execution": {
     "iopub.execute_input": "2024-01-12T18:31:29.243891Z",
     "iopub.status.busy": "2024-01-12T18:31:29.243452Z",
     "iopub.status.idle": "2024-01-12T18:31:31.314052Z",
     "shell.execute_reply": "2024-01-12T18:31:31.312191Z"
    },
    "papermill": {
     "duration": 2.094011,
     "end_time": "2024-01-12T18:31:31.317739",
     "exception": false,
     "start_time": "2024-01-12T18:31:29.223728",
     "status": "completed"
    },
    "tags": []
   },
   "outputs": [],
   "source": [
    "from sklearn.model_selection import train_test_split\n",
    "\n",
    "X_train, X_test, y_train, y_test = train_test_split(\n",
    "    tekbir.text,\n",
    "    tekbir.generated,\n",
    "    test_size=0.20,\n",
    "    random_state=2024,\n",
    "    stratify=tekbir.generated\n",
    ")"
   ]
  },
  {
   "cell_type": "code",
   "execution_count": 23,
   "id": "6bede510",
   "metadata": {
    "execution": {
     "iopub.execute_input": "2024-01-12T18:31:31.355817Z",
     "iopub.status.busy": "2024-01-12T18:31:31.355270Z",
     "iopub.status.idle": "2024-01-12T18:31:31.363440Z",
     "shell.execute_reply": "2024-01-12T18:31:31.361384Z"
    },
    "papermill": {
     "duration": 0.031078,
     "end_time": "2024-01-12T18:31:31.365959",
     "exception": false,
     "start_time": "2024-01-12T18:31:31.334881",
     "status": "completed"
    },
    "tags": []
   },
   "outputs": [
    {
     "name": "stdout",
     "output_type": "stream",
     "text": [
      "Shape of X_train (55548,)\n",
      "Shape of X_test (13887,)\n"
     ]
    }
   ],
   "source": [
    "print(\"Shape of X_train\", X_train.shape)\n",
    "print(\"Shape of X_test\", X_test.shape)"
   ]
  },
  {
   "cell_type": "code",
   "execution_count": 24,
   "id": "293b9e36",
   "metadata": {
    "execution": {
     "iopub.execute_input": "2024-01-12T18:31:31.404997Z",
     "iopub.status.busy": "2024-01-12T18:31:31.404264Z",
     "iopub.status.idle": "2024-01-12T18:31:31.415382Z",
     "shell.execute_reply": "2024-01-12T18:31:31.413917Z"
    },
    "papermill": {
     "duration": 0.034228,
     "end_time": "2024-01-12T18:31:31.418218",
     "exception": false,
     "start_time": "2024-01-12T18:31:31.383990",
     "status": "completed"
    },
    "tags": []
   },
   "outputs": [
    {
     "data": {
      "text/plain": [
       "generated\n",
       "1.0    31985\n",
       "0.0    23563\n",
       "Name: count, dtype: int64"
      ]
     },
     "execution_count": 24,
     "metadata": {},
     "output_type": "execute_result"
    }
   ],
   "source": [
    "y_train.value_counts()"
   ]
  },
  {
   "cell_type": "code",
   "execution_count": 25,
   "id": "724c6204",
   "metadata": {
    "execution": {
     "iopub.execute_input": "2024-01-12T18:31:31.457773Z",
     "iopub.status.busy": "2024-01-12T18:31:31.456567Z",
     "iopub.status.idle": "2024-01-12T18:31:31.468759Z",
     "shell.execute_reply": "2024-01-12T18:31:31.467387Z"
    },
    "papermill": {
     "duration": 0.03573,
     "end_time": "2024-01-12T18:31:31.471573",
     "exception": false,
     "start_time": "2024-01-12T18:31:31.435843",
     "status": "completed"
    },
    "tags": []
   },
   "outputs": [
    {
     "data": {
      "text/plain": [
       "generated\n",
       "1.0    7996\n",
       "0.0    5891\n",
       "Name: count, dtype: int64"
      ]
     },
     "execution_count": 25,
     "metadata": {},
     "output_type": "execute_result"
    }
   ],
   "source": [
    "y_test.value_counts()"
   ]
  },
  {
   "cell_type": "code",
   "execution_count": 26,
   "id": "3aa7966d",
   "metadata": {
    "execution": {
     "iopub.execute_input": "2024-01-12T18:31:31.511562Z",
     "iopub.status.busy": "2024-01-12T18:31:31.511095Z",
     "iopub.status.idle": "2024-01-12T18:35:04.154559Z",
     "shell.execute_reply": "2024-01-12T18:35:04.152890Z"
    },
    "papermill": {
     "duration": 212.682788,
     "end_time": "2024-01-12T18:35:04.172594",
     "exception": false,
     "start_time": "2024-01-12T18:31:31.489806",
     "status": "completed"
    },
    "tags": []
   },
   "outputs": [
    {
     "name": "stdout",
     "output_type": "stream",
     "text": [
      "              precision    recall  f1-score   support\n",
      "\n",
      "         0.0       0.96      0.99      0.98      5891\n",
      "         1.0       0.99      0.97      0.98      7996\n",
      "\n",
      "    accuracy                           0.98     13887\n",
      "   macro avg       0.98      0.98      0.98     13887\n",
      "weighted avg       0.98      0.98      0.98     13887\n",
      "\n"
     ]
    }
   ],
   "source": [
    "from sklearn.ensemble import RandomForestClassifier\n",
    "from sklearn.feature_extraction.text import TfidfVectorizer\n",
    "from sklearn.metrics import classification_report\n",
    "\n",
    "# TfidfVectorizer kullanarak metinleri vektörize etme (eğitim seti üzerinde fit işlemi)\n",
    "vectorizer = TfidfVectorizer()\n",
    "X_train_vectorized = vectorizer.fit_transform(X_train)\n",
    "\n",
    "# RandomForestClassifier kullanarak model oluşturma\n",
    "rf_classifier = RandomForestClassifier(random_state=42)\n",
    "rf_classifier.fit(X_train_vectorized, y_train)\n",
    "\n",
    "# Test seti üzerinde tahmin yapma\n",
    "X_test_vectorized = vectorizer.transform(X_test)\n",
    "y_pred_test = rf_classifier.predict(X_test_vectorized)\n",
    "\n",
    "# Sınıflandırma raporunu yazdırma\n",
    "print(classification_report(y_test, y_pred_test))\n"
   ]
  },
  {
   "cell_type": "code",
   "execution_count": 27,
   "id": "fcf3c1d6",
   "metadata": {
    "execution": {
     "iopub.execute_input": "2024-01-12T18:35:04.212126Z",
     "iopub.status.busy": "2024-01-12T18:35:04.211686Z",
     "iopub.status.idle": "2024-01-12T18:35:04.222485Z",
     "shell.execute_reply": "2024-01-12T18:35:04.221201Z"
    },
    "papermill": {
     "duration": 0.033949,
     "end_time": "2024-01-12T18:35:04.225240",
     "exception": false,
     "start_time": "2024-01-12T18:35:04.191291",
     "status": "completed"
    },
    "tags": []
   },
   "outputs": [
    {
     "data": {
      "text/plain": [
       "11693    I would argue yes this could be a valueable. T...\n",
       "51230     Facial Action Coding System (FACS) is a power...\n",
       "32844    [Your Grade]\\n[Your School]\\n[Date]\\n\\nDear Pr...\n",
       "59949    Driverless Cars are Coming, an intriguing arti...\n",
       "32834    Sure, I'd be happy to write an essay as an 8th...\n",
       "Name: text, dtype: object"
      ]
     },
     "execution_count": 27,
     "metadata": {},
     "output_type": "execute_result"
    }
   ],
   "source": [
    "X_test[:5]"
   ]
  },
  {
   "cell_type": "code",
   "execution_count": 28,
   "id": "23fc3ea6",
   "metadata": {
    "execution": {
     "iopub.execute_input": "2024-01-12T18:35:04.271231Z",
     "iopub.status.busy": "2024-01-12T18:35:04.269893Z",
     "iopub.status.idle": "2024-01-12T18:35:04.282119Z",
     "shell.execute_reply": "2024-01-12T18:35:04.280701Z"
    },
    "papermill": {
     "duration": 0.040638,
     "end_time": "2024-01-12T18:35:04.285306",
     "exception": false,
     "start_time": "2024-01-12T18:35:04.244668",
     "status": "completed"
    },
    "tags": []
   },
   "outputs": [
    {
     "data": {
      "text/plain": [
       "11693    0.0\n",
       "51230    1.0\n",
       "32844    1.0\n",
       "59949    1.0\n",
       "32834    1.0\n",
       "Name: generated, dtype: float64"
      ]
     },
     "execution_count": 28,
     "metadata": {},
     "output_type": "execute_result"
    }
   ],
   "source": [
    "y_test[:5]"
   ]
  },
  {
   "cell_type": "code",
   "execution_count": 29,
   "id": "16596060",
   "metadata": {
    "execution": {
     "iopub.execute_input": "2024-01-12T18:35:04.324256Z",
     "iopub.status.busy": "2024-01-12T18:35:04.323715Z",
     "iopub.status.idle": "2024-01-12T18:35:04.333639Z",
     "shell.execute_reply": "2024-01-12T18:35:04.332142Z"
    },
    "papermill": {
     "duration": 0.033575,
     "end_time": "2024-01-12T18:35:04.336983",
     "exception": false,
     "start_time": "2024-01-12T18:35:04.303408",
     "status": "completed"
    },
    "tags": []
   },
   "outputs": [
    {
     "data": {
      "text/plain": [
       "array([0., 1., 1., 1., 1.])"
      ]
     },
     "execution_count": 29,
     "metadata": {},
     "output_type": "execute_result"
    }
   ],
   "source": [
    "y_pred_test[:5]"
   ]
  },
  {
   "cell_type": "code",
   "execution_count": 30,
   "id": "f764b479",
   "metadata": {
    "execution": {
     "iopub.execute_input": "2024-01-12T18:35:04.378058Z",
     "iopub.status.busy": "2024-01-12T18:35:04.377239Z",
     "iopub.status.idle": "2024-01-12T18:35:06.357621Z",
     "shell.execute_reply": "2024-01-12T18:35:06.355553Z"
    },
    "papermill": {
     "duration": 2.004182,
     "end_time": "2024-01-12T18:35:06.360490",
     "exception": false,
     "start_time": "2024-01-12T18:35:04.356308",
     "status": "completed"
    },
    "tags": []
   },
   "outputs": [
    {
     "name": "stdout",
     "output_type": "stream",
     "text": [
      "Sınıflandırma Raporu:\n",
      "               precision    recall  f1-score   support\n",
      "\n",
      "         0.0       0.96      0.99      0.98      5891\n",
      "         1.0       0.99      0.97      0.98      7996\n",
      "\n",
      "    accuracy                           0.98     13887\n",
      "   macro avg       0.98      0.98      0.98     13887\n",
      "weighted avg       0.98      0.98      0.98     13887\n",
      "\n",
      "\n",
      "Diğer Performans Metrikleri:\n",
      "Accuracy: 0.9785410815870959\n",
      "Precision: 0.9914453524004085\n",
      "Recall: 0.9711105552776388\n",
      "F1 Score: 0.981172605509224\n",
      "ROC-AUC Score: 0.9977926919664212\n"
     ]
    }
   ],
   "source": [
    "from sklearn.metrics import classification_report, accuracy_score, precision_score, recall_score, f1_score, roc_auc_score\n",
    "# Sınıflandırma raporunu yazdırma\n",
    "print(\"Sınıflandırma Raporu:\\n\", classification_report(y_test, y_pred_test))\n",
    "\n",
    "# Diğer performans metriklerini yazdırma\n",
    "accuracy = accuracy_score(y_test, y_pred_test)\n",
    "precision = precision_score(y_test, y_pred_test)\n",
    "recall = recall_score(y_test, y_pred_test)\n",
    "f1 = f1_score(y_test, y_pred_test)\n",
    "roc_auc = roc_auc_score(y_test, rf_classifier.predict_proba(X_test_vectorized)[:, 1])\n",
    "\n",
    "print(\"\\nDiğer Performans Metrikleri:\")\n",
    "print(\"Accuracy:\", accuracy)\n",
    "print(\"Precision:\", precision)\n",
    "print(\"Recall:\", recall)\n",
    "print(\"F1 Score:\", f1)\n",
    "print(\"ROC-AUC Score:\", roc_auc)"
   ]
  },
  {
   "cell_type": "code",
   "execution_count": 31,
   "id": "95d57eaa",
   "metadata": {
    "execution": {
     "iopub.execute_input": "2024-01-12T18:35:06.398683Z",
     "iopub.status.busy": "2024-01-12T18:35:06.398274Z",
     "iopub.status.idle": "2024-01-12T18:35:15.519439Z",
     "shell.execute_reply": "2024-01-12T18:35:15.518017Z"
    },
    "papermill": {
     "duration": 9.144978,
     "end_time": "2024-01-12T18:35:15.523346",
     "exception": false,
     "start_time": "2024-01-12T18:35:06.378368",
     "status": "completed"
    },
    "tags": []
   },
   "outputs": [
    {
     "name": "stdout",
     "output_type": "stream",
     "text": [
      "Mean Squared Error (MSE): 0.021458918412904156\n",
      "R-squared (R2): 0.9121457265723338\n"
     ]
    }
   ],
   "source": [
    "from sklearn.metrics import mean_squared_error, r2_score\n",
    "\n",
    "# Test seti üzerinde tahmin yapma\n",
    "X_test_vectorized = vectorizer.transform(X_test)\n",
    "y_pred_test = rf_classifier.predict(X_test_vectorized)\n",
    "\n",
    "# Mean Squared Error (MSE) ve R-squared (R2) skorlarını hesaplama\n",
    "mse = mean_squared_error(y_test, y_pred_test)\n",
    "r2 = r2_score(y_test, y_pred_test)\n",
    "\n",
    "# Sonuçları yazdırma\n",
    "print(\"Mean Squared Error (MSE):\", mse)\n",
    "print(\"R-squared (R2):\", r2)"
   ]
  },
  {
   "cell_type": "code",
   "execution_count": 32,
   "id": "3d331bbc",
   "metadata": {
    "execution": {
     "iopub.execute_input": "2024-01-12T18:35:15.564504Z",
     "iopub.status.busy": "2024-01-12T18:35:15.563942Z",
     "iopub.status.idle": "2024-01-12T18:35:15.582815Z",
     "shell.execute_reply": "2024-01-12T18:35:15.580876Z"
    },
    "papermill": {
     "duration": 0.043874,
     "end_time": "2024-01-12T18:35:15.585871",
     "exception": false,
     "start_time": "2024-01-12T18:35:15.541997",
     "status": "completed"
    },
    "tags": []
   },
   "outputs": [],
   "source": [
    "# Şimdi aynı özellik matriksini ve modeli test setine uygulayalım\n",
    "zumba = test_essays['text']\n",
    "zumba_vectorized = vectorizer.fit_transform(zumba)"
   ]
  },
  {
   "cell_type": "code",
   "execution_count": 33,
   "id": "363f9dea",
   "metadata": {
    "execution": {
     "iopub.execute_input": "2024-01-12T18:35:15.626642Z",
     "iopub.status.busy": "2024-01-12T18:35:15.625694Z",
     "iopub.status.idle": "2024-01-12T18:35:15.634853Z",
     "shell.execute_reply": "2024-01-12T18:35:15.633518Z"
    },
    "papermill": {
     "duration": 0.032354,
     "end_time": "2024-01-12T18:35:15.637761",
     "exception": false,
     "start_time": "2024-01-12T18:35:15.605407",
     "status": "completed"
    },
    "tags": []
   },
   "outputs": [
    {
     "data": {
      "text/plain": [
       "array([[0.72033345, 0.54783215, 0.42544054, 0.        , 0.        ],\n",
       "       [0.        , 0.61980538, 0.48133417, 0.61980538, 0.        ],\n",
       "       [0.        , 0.        , 0.42544054, 0.54783215, 0.72033345]])"
      ]
     },
     "execution_count": 33,
     "metadata": {},
     "output_type": "execute_result"
    }
   ],
   "source": [
    "zumba_vectorized.toarray()"
   ]
  },
  {
   "cell_type": "code",
   "execution_count": 34,
   "id": "96bbe919",
   "metadata": {
    "execution": {
     "iopub.execute_input": "2024-01-12T18:35:15.679340Z",
     "iopub.status.busy": "2024-01-12T18:35:15.678180Z",
     "iopub.status.idle": "2024-01-12T18:35:15.690182Z",
     "shell.execute_reply": "2024-01-12T18:35:15.688973Z"
    },
    "papermill": {
     "duration": 0.035602,
     "end_time": "2024-01-12T18:35:15.692724",
     "exception": false,
     "start_time": "2024-01-12T18:35:15.657122",
     "status": "completed"
    },
    "tags": []
   },
   "outputs": [
    {
     "data": {
      "text/html": [
       "<div>\n",
       "<style scoped>\n",
       "    .dataframe tbody tr th:only-of-type {\n",
       "        vertical-align: middle;\n",
       "    }\n",
       "\n",
       "    .dataframe tbody tr th {\n",
       "        vertical-align: top;\n",
       "    }\n",
       "\n",
       "    .dataframe thead th {\n",
       "        text-align: right;\n",
       "    }\n",
       "</style>\n",
       "<table border=\"1\" class=\"dataframe\">\n",
       "  <thead>\n",
       "    <tr style=\"text-align: right;\">\n",
       "      <th></th>\n",
       "      <th>id</th>\n",
       "      <th>prompt_id</th>\n",
       "      <th>text</th>\n",
       "    </tr>\n",
       "  </thead>\n",
       "  <tbody>\n",
       "    <tr>\n",
       "      <th>0</th>\n",
       "      <td>0000aaaa</td>\n",
       "      <td>2</td>\n",
       "      <td>Aaa bbb ccc.</td>\n",
       "    </tr>\n",
       "    <tr>\n",
       "      <th>1</th>\n",
       "      <td>1111bbbb</td>\n",
       "      <td>3</td>\n",
       "      <td>Bbb ccc ddd.</td>\n",
       "    </tr>\n",
       "    <tr>\n",
       "      <th>2</th>\n",
       "      <td>2222cccc</td>\n",
       "      <td>4</td>\n",
       "      <td>CCC ddd eee.</td>\n",
       "    </tr>\n",
       "  </tbody>\n",
       "</table>\n",
       "</div>"
      ],
      "text/plain": [
       "         id  prompt_id          text\n",
       "0  0000aaaa          2  Aaa bbb ccc.\n",
       "1  1111bbbb          3  Bbb ccc ddd.\n",
       "2  2222cccc          4  CCC ddd eee."
      ]
     },
     "execution_count": 34,
     "metadata": {},
     "output_type": "execute_result"
    }
   ],
   "source": [
    "test_essays"
   ]
  },
  {
   "cell_type": "code",
   "execution_count": 35,
   "id": "821c9b81",
   "metadata": {
    "execution": {
     "iopub.execute_input": "2024-01-12T18:35:15.729724Z",
     "iopub.status.busy": "2024-01-12T18:35:15.729282Z",
     "iopub.status.idle": "2024-01-12T18:35:15.746249Z",
     "shell.execute_reply": "2024-01-12T18:35:15.744840Z"
    },
    "papermill": {
     "duration": 0.038731,
     "end_time": "2024-01-12T18:35:15.749043",
     "exception": false,
     "start_time": "2024-01-12T18:35:15.710312",
     "status": "completed"
    },
    "tags": []
   },
   "outputs": [
    {
     "data": {
      "text/html": [
       "<div>\n",
       "<style scoped>\n",
       "    .dataframe tbody tr th:only-of-type {\n",
       "        vertical-align: middle;\n",
       "    }\n",
       "\n",
       "    .dataframe tbody tr th {\n",
       "        vertical-align: top;\n",
       "    }\n",
       "\n",
       "    .dataframe thead th {\n",
       "        text-align: right;\n",
       "    }\n",
       "</style>\n",
       "<table border=\"1\" class=\"dataframe\">\n",
       "  <thead>\n",
       "    <tr style=\"text-align: right;\">\n",
       "      <th></th>\n",
       "      <th>text</th>\n",
       "      <th>generated</th>\n",
       "    </tr>\n",
       "  </thead>\n",
       "  <tbody>\n",
       "    <tr>\n",
       "      <th>5</th>\n",
       "      <td>The electrol college system is an unfair syste...</td>\n",
       "      <td>0.0</td>\n",
       "    </tr>\n",
       "    <tr>\n",
       "      <th>6</th>\n",
       "      <td>Dear state senator, It is the utmost respect t...</td>\n",
       "      <td>0.0</td>\n",
       "    </tr>\n",
       "    <tr>\n",
       "      <th>8</th>\n",
       "      <td>\"It's official: The electoral college is unfai...</td>\n",
       "      <td>0.0</td>\n",
       "    </tr>\n",
       "    <tr>\n",
       "      <th>9</th>\n",
       "      <td>The Electoral College has been kept for centur...</td>\n",
       "      <td>0.0</td>\n",
       "    </tr>\n",
       "    <tr>\n",
       "      <th>10</th>\n",
       "      <td>Dear senator, Retain the Electoral College. Th...</td>\n",
       "      <td>0.0</td>\n",
       "    </tr>\n",
       "    <tr>\n",
       "      <th>...</th>\n",
       "      <td>...</td>\n",
       "      <td>...</td>\n",
       "    </tr>\n",
       "    <tr>\n",
       "      <th>65262</th>\n",
       "      <td>Dear Senator,\\n\\nI am writing to you regarding...</td>\n",
       "      <td>1.0</td>\n",
       "    </tr>\n",
       "    <tr>\n",
       "      <th>65263</th>\n",
       "      <td>I remember the day distinctively. I was sittin...</td>\n",
       "      <td>1.0</td>\n",
       "    </tr>\n",
       "    <tr>\n",
       "      <th>65264</th>\n",
       "      <td>Dear Senator, \\n\\nI am writing this letter to ...</td>\n",
       "      <td>1.0</td>\n",
       "    </tr>\n",
       "    <tr>\n",
       "      <th>65265</th>\n",
       "      <td>Dear Senator,\\n\\nI am writing to urge you to e...</td>\n",
       "      <td>1.0</td>\n",
       "    </tr>\n",
       "    <tr>\n",
       "      <th>65266</th>\n",
       "      <td>It was a typical summer afternoon in my hometo...</td>\n",
       "      <td>1.0</td>\n",
       "    </tr>\n",
       "  </tbody>\n",
       "</table>\n",
       "<p>69435 rows × 2 columns</p>\n",
       "</div>"
      ],
      "text/plain": [
       "                                                    text  generated\n",
       "5      The electrol college system is an unfair syste...        0.0\n",
       "6      Dear state senator, It is the utmost respect t...        0.0\n",
       "8      \"It's official: The electoral college is unfai...        0.0\n",
       "9      The Electoral College has been kept for centur...        0.0\n",
       "10     Dear senator, Retain the Electoral College. Th...        0.0\n",
       "...                                                  ...        ...\n",
       "65262  Dear Senator,\\n\\nI am writing to you regarding...        1.0\n",
       "65263  I remember the day distinctively. I was sittin...        1.0\n",
       "65264  Dear Senator, \\n\\nI am writing this letter to ...        1.0\n",
       "65265  Dear Senator,\\n\\nI am writing to urge you to e...        1.0\n",
       "65266  It was a typical summer afternoon in my hometo...        1.0\n",
       "\n",
       "[69435 rows x 2 columns]"
      ]
     },
     "execution_count": 35,
     "metadata": {},
     "output_type": "execute_result"
    }
   ],
   "source": [
    "tekbir"
   ]
  },
  {
   "cell_type": "code",
   "execution_count": 36,
   "id": "87efff49",
   "metadata": {
    "execution": {
     "iopub.execute_input": "2024-01-12T18:35:15.790159Z",
     "iopub.status.busy": "2024-01-12T18:35:15.789678Z",
     "iopub.status.idle": "2024-01-12T18:35:43.603751Z",
     "shell.execute_reply": "2024-01-12T18:35:43.602712Z"
    },
    "papermill": {
     "duration": 27.837873,
     "end_time": "2024-01-12T18:35:43.606656",
     "exception": false,
     "start_time": "2024-01-12T18:35:15.768783",
     "status": "completed"
    },
    "tags": []
   },
   "outputs": [],
   "source": [
    "# TfidfVectorizer'ı eğitim verisi üzerinde uygula\n",
    "vectorizer.fit(X_train)\n",
    "\n",
    "# Test verisini vektörleştir\n",
    "zumba_vectorized = vectorizer.transform(zumba)\n",
    "\n",
    "# Tahmin yap\n",
    "pred = rf_classifier.predict_proba(zumba_vectorized)[:, 1]"
   ]
  },
  {
   "cell_type": "code",
   "execution_count": 37,
   "id": "22f1e8dc",
   "metadata": {
    "execution": {
     "iopub.execute_input": "2024-01-12T18:35:43.649569Z",
     "iopub.status.busy": "2024-01-12T18:35:43.649047Z",
     "iopub.status.idle": "2024-01-12T18:35:43.658150Z",
     "shell.execute_reply": "2024-01-12T18:35:43.656626Z"
    },
    "papermill": {
     "duration": 0.034095,
     "end_time": "2024-01-12T18:35:43.661024",
     "exception": false,
     "start_time": "2024-01-12T18:35:43.626929",
     "status": "completed"
    },
    "tags": []
   },
   "outputs": [
    {
     "data": {
      "text/plain": [
       "array([1., 1., 1.])"
      ]
     },
     "execution_count": 37,
     "metadata": {},
     "output_type": "execute_result"
    }
   ],
   "source": [
    "pred"
   ]
  },
  {
   "cell_type": "code",
   "execution_count": 38,
   "id": "99c773b4",
   "metadata": {
    "execution": {
     "iopub.execute_input": "2024-01-12T18:35:43.705923Z",
     "iopub.status.busy": "2024-01-12T18:35:43.705416Z",
     "iopub.status.idle": "2024-01-12T18:35:43.714968Z",
     "shell.execute_reply": "2024-01-12T18:35:43.713779Z"
    },
    "papermill": {
     "duration": 0.03557,
     "end_time": "2024-01-12T18:35:43.717412",
     "exception": false,
     "start_time": "2024-01-12T18:35:43.681842",
     "status": "completed"
    },
    "tags": []
   },
   "outputs": [
    {
     "data": {
      "text/plain": [
       "array([1., 1., 1.])"
      ]
     },
     "execution_count": 38,
     "metadata": {},
     "output_type": "execute_result"
    }
   ],
   "source": [
    "# test_result = pred[0]\n",
    "test_result = pred[:]\n",
    "test_result"
   ]
  },
  {
   "cell_type": "code",
   "execution_count": 39,
   "id": "af536f5b",
   "metadata": {
    "execution": {
     "iopub.execute_input": "2024-01-12T18:35:43.760538Z",
     "iopub.status.busy": "2024-01-12T18:35:43.760105Z",
     "iopub.status.idle": "2024-01-12T18:35:43.773083Z",
     "shell.execute_reply": "2024-01-12T18:35:43.771937Z"
    },
    "papermill": {
     "duration": 0.036355,
     "end_time": "2024-01-12T18:35:43.775614",
     "exception": false,
     "start_time": "2024-01-12T18:35:43.739259",
     "status": "completed"
    },
    "tags": []
   },
   "outputs": [
    {
     "data": {
      "text/html": [
       "<div>\n",
       "<style scoped>\n",
       "    .dataframe tbody tr th:only-of-type {\n",
       "        vertical-align: middle;\n",
       "    }\n",
       "\n",
       "    .dataframe tbody tr th {\n",
       "        vertical-align: top;\n",
       "    }\n",
       "\n",
       "    .dataframe thead th {\n",
       "        text-align: right;\n",
       "    }\n",
       "</style>\n",
       "<table border=\"1\" class=\"dataframe\">\n",
       "  <thead>\n",
       "    <tr style=\"text-align: right;\">\n",
       "      <th></th>\n",
       "      <th>id</th>\n",
       "      <th>generated</th>\n",
       "    </tr>\n",
       "  </thead>\n",
       "  <tbody>\n",
       "    <tr>\n",
       "      <th>0</th>\n",
       "      <td>0000aaaa</td>\n",
       "      <td>1.0</td>\n",
       "    </tr>\n",
       "    <tr>\n",
       "      <th>1</th>\n",
       "      <td>1111bbbb</td>\n",
       "      <td>1.0</td>\n",
       "    </tr>\n",
       "    <tr>\n",
       "      <th>2</th>\n",
       "      <td>2222cccc</td>\n",
       "      <td>1.0</td>\n",
       "    </tr>\n",
       "  </tbody>\n",
       "</table>\n",
       "</div>"
      ],
      "text/plain": [
       "         id  generated\n",
       "0  0000aaaa        1.0\n",
       "1  1111bbbb        1.0\n",
       "2  2222cccc        1.0"
      ]
     },
     "execution_count": 39,
     "metadata": {},
     "output_type": "execute_result"
    }
   ],
   "source": [
    "final_submission = pd.DataFrame(test_essays['id'])\n",
    "final_submission['generated'] = test_result\n",
    "final_submission"
   ]
  },
  {
   "cell_type": "code",
   "execution_count": 40,
   "id": "2d03098e",
   "metadata": {
    "execution": {
     "iopub.execute_input": "2024-01-12T18:35:43.817568Z",
     "iopub.status.busy": "2024-01-12T18:35:43.817130Z",
     "iopub.status.idle": "2024-01-12T18:35:43.827215Z",
     "shell.execute_reply": "2024-01-12T18:35:43.825678Z"
    },
    "papermill": {
     "duration": 0.034867,
     "end_time": "2024-01-12T18:35:43.830069",
     "exception": false,
     "start_time": "2024-01-12T18:35:43.795202",
     "status": "completed"
    },
    "tags": []
   },
   "outputs": [],
   "source": [
    "final_submission.to_csv('submission.csv', index=False)"
   ]
  }
 ],
 "metadata": {
  "kaggle": {
   "accelerator": "none",
   "dataSources": [
    {
     "databundleVersionId": 6888007,
     "sourceId": 61542,
     "sourceType": "competition"
    },
    {
     "datasetId": 3937441,
     "sourceId": 6868189,
     "sourceType": "datasetVersion"
    },
    {
     "datasetId": 3955358,
     "sourceId": 6888403,
     "sourceType": "datasetVersion"
    },
    {
     "datasetId": 3973977,
     "sourceId": 6920799,
     "sourceType": "datasetVersion"
    },
    {
     "datasetId": 4092288,
     "sourceId": 7099486,
     "sourceType": "datasetVersion"
    },
    {
     "datasetId": 4210720,
     "sourceId": 7294503,
     "sourceType": "datasetVersion"
    }
   ],
   "dockerImageVersionId": 30635,
   "isGpuEnabled": false,
   "isInternetEnabled": false,
   "language": "python",
   "sourceType": "notebook"
  },
  "kernelspec": {
   "display_name": "Python 3",
   "language": "python",
   "name": "python3"
  },
  "language_info": {
   "codemirror_mode": {
    "name": "ipython",
    "version": 3
   },
   "file_extension": ".py",
   "mimetype": "text/x-python",
   "name": "python",
   "nbconvert_exporter": "python",
   "pygments_lexer": "ipython3",
   "version": "3.10.12"
  },
  "papermill": {
   "default_parameters": {},
   "duration": 270.094713,
   "end_time": "2024-01-12T18:35:44.780961",
   "environment_variables": {},
   "exception": null,
   "input_path": "__notebook__.ipynb",
   "output_path": "__notebook__.ipynb",
   "parameters": {},
   "start_time": "2024-01-12T18:31:14.686248",
   "version": "2.4.0"
  }
 },
 "nbformat": 4,
 "nbformat_minor": 5
}
